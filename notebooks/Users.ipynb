{
 "cells": [
  {
   "cell_type": "raw",
   "metadata": {},
   "source": [
    "---\n",
    "description: Router to have user routes\n",
    "output-file: users.html\n",
    "title: User Router\n",
    "\n",
    "---\n",
    "\n"
   ]
  },
  {
   "cell_type": "code",
   "execution_count": null,
   "metadata": {},
   "outputs": [],
   "source": [
    "# | default_exp users"
   ]
  },
  {
   "cell_type": "code",
   "execution_count": null,
   "metadata": {},
   "outputs": [
    {
     "name": "stdout",
     "output_type": "stream",
     "text": [
      "[INFO] airt.testing.activate_by_import: Testing environment activated.\n"
     ]
    },
    {
     "name": "stderr",
     "output_type": "stream",
     "text": [
      "2023-03-10 10:25:16.606246: E tensorflow/stream_executor/cuda/cuda_blas.cc:2981] Unable to register cuBLAS factory: Attempting to register factory for plugin cuBLAS when one has already been registered\n"
     ]
    },
    {
     "name": "stdout",
     "output_type": "stream",
     "text": [
      "[INFO] numexpr.utils: Note: NumExpr detected 64 cores but \"NUMEXPR_MAX_THREADS\" not set, so enforcing safe limit of 8.\n",
      "[INFO] numexpr.utils: NumExpr defaulting to 8 threads.\n",
      "[WARNING] airt.testing.activate_by_import: Failed to set gpu memory limit for tf; This could happen because of no gpu availability\n"
     ]
    }
   ],
   "source": [
    "from airt.testing import activate_by_import"
   ]
  },
  {
   "cell_type": "code",
   "execution_count": null,
   "metadata": {},
   "outputs": [
    {
     "name": "stdout",
     "output_type": "stream",
     "text": [
      "[INFO] airt.executor.subcommand: Module loaded.\n"
     ]
    }
   ],
   "source": [
    "# | export\n",
    "\n",
    "import functools\n",
    "import random\n",
    "import re\n",
    "import secrets\n",
    "import string\n",
    "import uuid\n",
    "from typing import *\n",
    "\n",
    "from airt.logger import get_logger\n",
    "from airt.patching import patch\n",
    "from fastapi import APIRouter, Depends, HTTPException, Query, status\n",
    "from pydantic import BaseModel, EmailStr, validator\n",
    "from sqlalchemy.exc import IntegrityError, NoResultFound\n",
    "from sqlmodel import Session, select\n",
    "\n",
    "import airt_service\n",
    "import airt_service.sanitizer\n",
    "from airt_service.auth import get_current_active_user, get_user, get_valid_user\n",
    "from airt_service.cleanup import cleanup_user\n",
    "from airt_service.db.models import (\n",
    "    SMS,\n",
    "    SSO,\n",
    "    SMSProtocol,\n",
    "    SSOBase,\n",
    "    SSOProvider,\n",
    "    SSORead,\n",
    "    User,\n",
    "    UserCreate,\n",
    "    UserRead,\n",
    "    get_session,\n",
    "    get_session_with_context,\n",
    ")\n",
    "from airt_service.errors import ERRORS, HTTPError\n",
    "from airt_service.helpers import commit_or_rollback, get_attr_by_name, get_password_hash\n",
    "from airt_service.sms_utils import (\n",
    "    get_app_and_message_id,\n",
    "    get_application_and_message_config,\n",
    "    send_sms,\n",
    "    validate_otp,\n",
    "    verify_pin,\n",
    ")\n",
    "from airt_service.sso import initiate_sso_flow\n",
    "from airt_service.totp import (\n",
    "    generate_mfa_provisioning_url,\n",
    "    generate_mfa_secret,\n",
    "    require_otp_if_mfa_enabled,\n",
    "    validate_totp,\n",
    ")"
   ]
  },
  {
   "cell_type": "code",
   "execution_count": null,
   "metadata": {},
   "outputs": [
    {
     "name": "stdout",
     "output_type": "stream",
     "text": [
      "[INFO] airt.data.importers: Module loaded:\n",
      "[INFO] airt.data.importers:  - using pandas     : 1.5.1\n",
      "[INFO] airt.data.importers:  - using dask       : 2022.10.0\n"
     ]
    }
   ],
   "source": [
    "import json\n",
    "import urllib\n",
    "from contextlib import contextmanager\n",
    "from datetime import datetime, timedelta\n",
    "from os import environ\n",
    "\n",
    "import pandas as pd\n",
    "import pyotp\n",
    "import pytest\n",
    "import requests\n",
    "from _pytest.monkeypatch import MonkeyPatch\n",
    "from airt.remote_path import RemotePath\n",
    "from fastapi import BackgroundTasks, Request\n",
    "from pydantic import ValidationError\n",
    "from sqlalchemy.exc import NoResultFound\n",
    "from starlette.datastructures import Headers\n",
    "\n",
    "from airt_service.auth import create_apikey\n",
    "from airt_service.aws.utils import upload_to_s3_with_retry\n",
    "from airt_service.constants import MFA_ISSUER_NAME\n",
    "from airt_service.data.csv import process_csv\n",
    "from airt_service.data.datablob import FromLocalRequest, from_local_start_route\n",
    "from airt_service.db.models import (\n",
    "    APIKeyCreate,\n",
    "    DataBlob,\n",
    "    DataSource,\n",
    "    create_user_for_testing,\n",
    ")\n",
    "from airt_service.helpers import set_env_variable_context, verify_password\n",
    "from airt_service.model.train import TrainRequest, predict_model, train_model"
   ]
  },
  {
   "cell_type": "code",
   "execution_count": null,
   "metadata": {},
   "outputs": [],
   "source": [
    "# | exporti\n",
    "\n",
    "logger = get_logger(__name__)"
   ]
  },
  {
   "cell_type": "code",
   "execution_count": null,
   "metadata": {},
   "outputs": [
    {
     "data": {
      "text/plain": [
       "'kllopwntsg'"
      ]
     },
     "metadata": {},
     "output_type": "display_data"
    }
   ],
   "source": [
    "test_username = create_user_for_testing()\n",
    "display(test_username)"
   ]
  },
  {
   "cell_type": "code",
   "execution_count": null,
   "metadata": {},
   "outputs": [],
   "source": [
    "INVALID_UUID_FOR_TESTING = \"00000000-0000-0000-0000-000000000000\""
   ]
  },
  {
   "cell_type": "code",
   "execution_count": null,
   "metadata": {},
   "outputs": [],
   "source": [
    "# | exporti\n",
    "\n",
    "SEND_SMS_OTP_MSG = \"If you have already registered and verified your phone number, you will receive the OTP by SMS. If you did not receive the OTP, please contact your administrator.\"\n",
    "PASSWORD_RESET_MSG = \"Password reset successful\"  # nosec B105"
   ]
  },
  {
   "cell_type": "code",
   "execution_count": null,
   "metadata": {},
   "outputs": [],
   "source": [
    "# | export\n",
    "\n",
    "# Default router for users\n",
    "user_router = APIRouter(\n",
    "    prefix=\"/user\",\n",
    "    tags=[\"user\"],\n",
    "    #     dependencies=[Depends(get_current_active_user)],\n",
    "    responses={\n",
    "        404: {\"description\": \"Not found\"},\n",
    "        500: {\n",
    "            \"model\": HTTPError,\n",
    "            \"description\": ERRORS[\"INTERNAL_SERVER_ERROR\"],\n",
    "        },\n",
    "    },\n",
    ")"
   ]
  },
  {
   "cell_type": "code",
   "execution_count": null,
   "metadata": {},
   "outputs": [],
   "source": [
    "# | export\n",
    "\n",
    "\n",
    "def ensure_super_user(func: Callable[..., Any]) -> Callable[..., Any]:\n",
    "    \"\"\"Decorator to ensure the user who executes the operation is a super user\"\"\"\n",
    "\n",
    "    @functools.wraps(func)\n",
    "    def wrapper(*args: Any, **kwargs: Any) -> Any:\n",
    "        if not kwargs[\"user\"].super_user:\n",
    "            raise HTTPException(\n",
    "                status_code=status.HTTP_401_UNAUTHORIZED,\n",
    "                detail=ERRORS[\"NOT_ENOUGH_PERMISSION\"],\n",
    "            )\n",
    "        return func(*args, **kwargs)\n",
    "\n",
    "    return wrapper"
   ]
  },
  {
   "cell_type": "code",
   "execution_count": null,
   "metadata": {},
   "outputs": [
    {
     "data": {
      "text/plain": [
       "User(id=3, uuid=UUID('5ffb486f-da50-4816-bb77-0ab63f9a0d4d'), username='kumaran', first_name='Kumaran', last_name='Rajendhiran', email='kumaran@airt.ai', subscription_type=<SubscriptionType.superuser: 'superuser'>, super_user=True, disabled=False, created=datetime.datetime(2023, 3, 9, 8, 17, 31), phone_number=None, is_phone_number_verified=False, mfa_secret=****, is_mfa_active=False)"
      ]
     },
     "metadata": {},
     "output_type": "display_data"
    },
    {
     "data": {
      "text/plain": [
       "<ExceptionInfo HTTPException(status_code=401, detail='You do not have sufficient permission to access this route. Please contact your administrator for help.') tblen=2>"
      ]
     },
     "metadata": {},
     "output_type": "display_data"
    }
   ],
   "source": [
    "with get_session_with_context() as session:\n",
    "    user_kumaran = session.exec(select(User).where(User.username == \"kumaran\")).one()\n",
    "\n",
    "    @ensure_super_user\n",
    "    def test_func(user):\n",
    "        display(user)\n",
    "\n",
    "    test_func(user=user_kumaran)\n",
    "\n",
    "# Try to create it with user without create permission\n",
    "with get_session_with_context() as session:\n",
    "    not_super_user = session.exec(\n",
    "        select(User).where(User.username == test_username)\n",
    "    ).one()\n",
    "    with pytest.raises(HTTPException) as e:\n",
    "        test_func(user=not_super_user)\n",
    "display(e)"
   ]
  },
  {
   "cell_type": "code",
   "execution_count": null,
   "metadata": {},
   "outputs": [],
   "source": [
    "# | export\n",
    "\n",
    "\n",
    "class GenerateMFARresponse(BaseModel):\n",
    "    \"\"\"A base class for creating mfa url\n",
    "\n",
    "    Args:\n",
    "        mfa_url: The provisioning url generated from the secret\n",
    "    \"\"\"\n",
    "\n",
    "    mfa_url: str"
   ]
  },
  {
   "cell_type": "code",
   "execution_count": null,
   "metadata": {},
   "outputs": [],
   "source": [
    "# | export\n",
    "\n",
    "\n",
    "@user_router.get(\"/mfa/generate\", response_model=GenerateMFARresponse)\n",
    "@require_otp_if_mfa_enabled\n",
    "def generate_mfa_url(\n",
    "    otp: Optional[str] = None,\n",
    "    user: User = Depends(get_current_active_user),\n",
    "    session: Session = Depends(get_session),\n",
    ") -> GenerateMFARresponse:\n",
    "    \"\"\"Generate MFA url\"\"\"\n",
    "    user = session.merge(user)\n",
    "\n",
    "    mfa_secret = generate_mfa_secret()\n",
    "    mfa_url = generate_mfa_provisioning_url(\n",
    "        mfa_secret=mfa_secret, user_email=user.email\n",
    "    )\n",
    "\n",
    "    with commit_or_rollback(session):\n",
    "        user.mfa_secret = mfa_secret\n",
    "        session.add(user)\n",
    "\n",
    "    return GenerateMFARresponse(mfa_url=mfa_url)"
   ]
  },
  {
   "cell_type": "code",
   "execution_count": null,
   "metadata": {},
   "outputs": [
    {
     "data": {
      "text/plain": [
       "'mfa_url=****************************************************************************************************'"
      ]
     },
     "metadata": {},
     "output_type": "display_data"
    }
   ],
   "source": [
    "with get_session_with_context() as session:\n",
    "    user = session.exec(select(User).where(User.username == test_username)).one()\n",
    "\n",
    "    actual = generate_mfa_url(user=user, session=session)\n",
    "    display(f\"mfa_url={'*'*len(actual.mfa_url)}\")\n",
    "\n",
    "    assert len(actual.mfa_url)\n",
    "    assert urllib.parse.quote(user.email) in actual.mfa_url\n",
    "    assert MFA_ISSUER_NAME in actual.mfa_url\n",
    "\n",
    "with get_session_with_context() as session:\n",
    "    user = session.exec(select(User).where(User.username == test_username)).one()\n",
    "\n",
    "    assert len(user.mfa_secret) == 32\n",
    "    assert not user.is_mfa_active\n",
    "    user.is_mfa_active"
   ]
  },
  {
   "cell_type": "code",
   "execution_count": null,
   "metadata": {},
   "outputs": [],
   "source": [
    "# | export\n",
    "\n",
    "\n",
    "class ActivateMFARequest(BaseModel):\n",
    "    \"\"\"A base class for activating mfa\n",
    "\n",
    "    Args:\n",
    "        user_otp: OTP passed by the user\n",
    "    \"\"\"\n",
    "\n",
    "    user_otp: str"
   ]
  },
  {
   "cell_type": "code",
   "execution_count": null,
   "metadata": {},
   "outputs": [],
   "source": [
    "# | export\n",
    "\n",
    "\n",
    "@user_router.post(\"/mfa/activate\", response_model=UserRead)\n",
    "def activate_mfa(\n",
    "    activate_mfa_request: ActivateMFARequest,\n",
    "    user: User = Depends(get_current_active_user),\n",
    "    session: Session = Depends(get_session),\n",
    ") -> User:\n",
    "    \"\"\"Activate MFA\"\"\"\n",
    "    user = session.merge(user)\n",
    "    user_otp = activate_mfa_request.user_otp\n",
    "\n",
    "    if not user.mfa_secret:\n",
    "        raise HTTPException(\n",
    "            status_code=status.HTTP_400_BAD_REQUEST,\n",
    "            detail=ERRORS[\"GENERATE_MFA_URL_NOT_GENERATED\"],\n",
    "        )\n",
    "\n",
    "    validate_totp(user.mfa_secret, user_otp)\n",
    "\n",
    "    with commit_or_rollback(session):\n",
    "        user.is_mfa_active = True\n",
    "        session.add(user)\n",
    "\n",
    "    return user"
   ]
  },
  {
   "cell_type": "code",
   "execution_count": null,
   "metadata": {},
   "outputs": [
    {
     "data": {
      "text/plain": [
       "User(id=1078, uuid=UUID('58eec427-e412-4ba7-9c74-fd47c2f38c30'), username='kllopwntsg', first_name='unittest', last_name='user', email='kllopwntsg@email.com', subscription_type=<SubscriptionType.test: 'test'>, super_user=False, disabled=False, created=datetime.datetime(2023, 3, 10, 10, 25, 20), phone_number=None, is_phone_number_verified=False, mfa_secret=**********************************, is_mfa_active=True)"
      ]
     },
     "metadata": {},
     "output_type": "display_data"
    },
    {
     "data": {
      "text/plain": [
       "'Invalid OTP. Please try again.'"
      ]
     },
     "metadata": {},
     "output_type": "display_data"
    },
    {
     "data": {
      "text/plain": [
       "HTTPException(status_code=400, detail='MFA code is not generated for this user, please call /user/mfa/generate first')"
      ]
     },
     "execution_count": null,
     "metadata": {},
     "output_type": "execute_result"
    }
   ],
   "source": [
    "with get_session_with_context() as session:\n",
    "    mfa_active_user = session.exec(\n",
    "        select(User).where(User.username == test_username)\n",
    "    ).one()\n",
    "\n",
    "    activate_mfa_request = ActivateMFARequest(\n",
    "        user_otp=pyotp.TOTP(mfa_active_user.mfa_secret).now()\n",
    "    )\n",
    "\n",
    "    actual = activate_mfa(\n",
    "        activate_mfa_request=activate_mfa_request, user=mfa_active_user, session=session\n",
    "    )\n",
    "    display(actual)\n",
    "    assert actual.is_mfa_active\n",
    "\n",
    "    # Passing Random OTP\n",
    "    activate_mfa_request = ActivateMFARequest(user_otp=\"123123\")\n",
    "    with pytest.raises(HTTPException) as e:\n",
    "        activate_mfa(\n",
    "            activate_mfa_request=activate_mfa_request,\n",
    "            user=mfa_active_user,\n",
    "            session=session,\n",
    "        )\n",
    "\n",
    "    display(e.value.detail)\n",
    "    assert \"Invalid OTP\" in e.value.detail\n",
    "\n",
    "# Calling activate route without calling generate route\n",
    "random_username = create_user_for_testing()\n",
    "with get_session_with_context() as session:\n",
    "    user = session.exec(select(User).where(User.username == random_username)).one()\n",
    "\n",
    "    activate_mfa_request = ActivateMFARequest(user_otp=\"123123\")\n",
    "    with pytest.raises(HTTPException) as e:\n",
    "        activate_mfa(\n",
    "            activate_mfa_request=activate_mfa_request, user=user, session=session\n",
    "        )\n",
    "\n",
    "e.value"
   ]
  },
  {
   "cell_type": "code",
   "execution_count": null,
   "metadata": {},
   "outputs": [],
   "source": [
    "# | export\n",
    "\n",
    "\n",
    "def get_user_to_disable_mfa(user: User, session: Session, user_uuid: str) -> User:\n",
    "    \"\"\"Get user object to disable MFA\n",
    "\n",
    "    Only a super user can disable MFA for other users in the server\n",
    "\n",
    "    Args:\n",
    "        user: User object\n",
    "        session: Sqlmodel session\n",
    "        user_uuid: User uuid to disable MFA\n",
    "\n",
    "    Returns:\n",
    "        User object to disable MFA\n",
    "    \"\"\"\n",
    "    _user = get_valid_user(user, session, user_uuid)\n",
    "\n",
    "    if not _user.is_mfa_active:\n",
    "        raise HTTPException(\n",
    "            status_code=status.HTTP_400_BAD_REQUEST,\n",
    "            detail=ERRORS[\"MFA_ALREADY_DISABLED\"],\n",
    "        )\n",
    "\n",
    "    return _user"
   ]
  },
  {
   "cell_type": "code",
   "execution_count": null,
   "metadata": {},
   "outputs": [
    {
     "data": {
      "text/plain": [
       "User(id=1078, uuid=UUID('58eec427-e412-4ba7-9c74-fd47c2f38c30'), username='kllopwntsg', first_name='unittest', last_name='user', email='kllopwntsg@email.com', subscription_type=<SubscriptionType.test: 'test'>, super_user=False, disabled=False, created=datetime.datetime(2023, 3, 10, 10, 25, 20), phone_number=None, is_phone_number_verified=False, mfa_secret=**********************************, is_mfa_active=True)"
      ]
     },
     "metadata": {},
     "output_type": "display_data"
    }
   ],
   "source": [
    "with get_session_with_context() as session:\n",
    "    user = session.exec(\n",
    "        select(User).where(User.username == mfa_active_user.username)\n",
    "    ).one()\n",
    "\n",
    "    # Negative Scenario: Normal user disabling MFA for others\n",
    "    with pytest.raises(HTTPException) as e:\n",
    "        get_user_to_disable_mfa(user, session, INVALID_UUID_FOR_TESTING)\n",
    "\n",
    "    # Positive Scenario: MFA enabled Normal user disabling MFA for self\n",
    "    actual = get_user_to_disable_mfa(user, session, str(user.uuid))\n",
    "    assert actual.id == user.id\n",
    "    display(actual)\n",
    "\n",
    "# Negative Scenario: MFA disabled Normal User disabling MFA for self\n",
    "test_username = create_user_for_testing()\n",
    "with get_session_with_context() as session:\n",
    "    user = session.exec(select(User).where(User.username == test_username)).one()\n",
    "    with pytest.raises(HTTPException) as e:\n",
    "        get_user_to_disable_mfa(user, session, str(user.uuid))"
   ]
  },
  {
   "cell_type": "code",
   "execution_count": null,
   "metadata": {},
   "outputs": [
    {
     "data": {
      "text/plain": [
       "User(id=3, uuid=UUID('5ffb486f-da50-4816-bb77-0ab63f9a0d4d'), username='kumaran', first_name='Kumaran', last_name='Rajendhiran', email='kumaran@airt.ai', subscription_type=<SubscriptionType.superuser: 'superuser'>, super_user=True, disabled=False, created=datetime.datetime(2023, 3, 9, 8, 17, 31), phone_number=None, is_phone_number_verified=False, mfa_secret=****, is_mfa_active=True)"
      ]
     },
     "metadata": {},
     "output_type": "display_data"
    }
   ],
   "source": [
    "test_username = create_user_for_testing()\n",
    "with get_session_with_context() as session:\n",
    "    other_user = session.exec(select(User).where(User.username == test_username)).one()\n",
    "\n",
    "with get_session_with_context() as session:\n",
    "    super_user = session.exec(select(User).where(User.username == \"kumaran\")).one()\n",
    "\n",
    "    # Negative Scenario: MFA disabled Super user disabling MFA for self\n",
    "    with pytest.raises(HTTPException) as e:\n",
    "        get_user_to_disable_mfa(super_user, session, str(super_user.uuid))\n",
    "\n",
    "    # Negative Scenario: MFA disabled Super user disabling MFA for invalid user id\n",
    "    with pytest.raises(HTTPException) as e:\n",
    "        get_user_to_disable_mfa(super_user, session, INVALID_UUID_FOR_TESTING)\n",
    "\n",
    "    # Positive Scenario: MFA disabled Super user disabling MFA for another MFA disabled user\n",
    "    with pytest.raises(HTTPException) as e:\n",
    "        get_user_to_disable_mfa(super_user, session, str(other_user.uuid))\n",
    "\n",
    "    # Positive Scenario: MFA disabled Super user disabling MFA for MFA enabled other user\n",
    "    actual = get_user_to_disable_mfa(super_user, session, str(mfa_active_user.uuid))\n",
    "    assert not actual.id == super_user.id\n",
    "    assert actual.id == mfa_active_user.id\n",
    "\n",
    "    # Positive Scenario: MFA enabled Super user disabling MFA self\n",
    "    super_user.is_mfa_active = True\n",
    "    actual = get_user_to_disable_mfa(super_user, session, str(super_user.uuid))\n",
    "    assert actual.id == super_user.id\n",
    "    display(actual)"
   ]
  },
  {
   "cell_type": "code",
   "execution_count": null,
   "metadata": {},
   "outputs": [],
   "source": [
    "# | exporti\n",
    "\n",
    "\n",
    "def create_sms_protocol(xs: Dict[str, str], sms: SMS, session: Session) -> None:\n",
    "    \"\"\"Create a new record in the sms protocol table\n",
    "\n",
    "    Args:\n",
    "        xs: The response from infobip's send sms API\n",
    "        sms: Instance of the SMS db model\n",
    "        session: Session object\n",
    "    \"\"\"\n",
    "\n",
    "    with commit_or_rollback(session):\n",
    "        sms_protocol = SMSProtocol(\n",
    "            pin_id=xs[\"pinId\"],\n",
    "            number_lookup_status=xs[\"ncStatus\"],\n",
    "            sent_sms_status=xs[\"smsStatus\"],\n",
    "            phone_number=xs[\"to\"],\n",
    "        )\n",
    "        sms_protocol.sms = sms\n",
    "        session.add(sms_protocol)"
   ]
  },
  {
   "cell_type": "code",
   "execution_count": null,
   "metadata": {},
   "outputs": [
    {
     "data": {
      "text/plain": [
       "SMSProtocol(id=115, number_lookup_status='NC_NOT_CONFIGURED', phone_number='910000000000', pin_attempts_remaining=None, pin_id='my_random_pin_id', sent_sms_status='MESSAGE_SENT', pin_verified=False, sms_id=114)"
      ]
     },
     "metadata": {},
     "output_type": "display_data"
    }
   ],
   "source": [
    "session = next(get_session())\n",
    "sample_response = {\n",
    "    \"pinId\": \"my_random_pin_id\",\n",
    "    \"to\": \"910000000000\",\n",
    "    \"ncStatus\": \"NC_NOT_CONFIGURED\",\n",
    "    \"smsStatus\": \"MESSAGE_SENT\",\n",
    "}\n",
    "test_username = create_user_for_testing()\n",
    "with get_session_with_context() as session:\n",
    "    user = session.exec(select(User).where(User.username == test_username)).one()\n",
    "    with commit_or_rollback(session):\n",
    "        sms = SMS(application_id=\"000000\", message_id=\"000000\")\n",
    "        sms.user = user\n",
    "        session.add(sms)\n",
    "\n",
    "    create_sms_protocol(sample_response, sms, session)\n",
    "\n",
    "    sms_protocol = session.exec(\n",
    "        select(SMSProtocol).where(SMSProtocol.sms_id == sms.id)\n",
    "    ).one()\n",
    "\n",
    "    display(sms_protocol)\n",
    "    assert sms_protocol.sms_id == sms.id\n",
    "    assert sms_protocol.pin_id == sample_response[\"pinId\"]\n",
    "    assert sms_protocol.phone_number == sample_response[\"to\"]"
   ]
  },
  {
   "cell_type": "code",
   "execution_count": null,
   "metadata": {},
   "outputs": [],
   "source": [
    "# | exporti\n",
    "\n",
    "\n",
    "def _get_allowed_message_template_names() -> List[str]:\n",
    "    \"\"\"Get valid message templates for sending SMS\n",
    "\n",
    "    The **register_phone_number** template will be removed from the allowed list because\n",
    "    while registering the phone number the users should use the /register_phone_number\n",
    "    route for sending the SMS and use /validate_phone_number route to validate.\n",
    "\n",
    "    Returns:\n",
    "        The list of valid message template names\n",
    "    \"\"\"\n",
    "    message_template_names = list(\n",
    "        get_application_and_message_config()[\"message_config\"].keys()\n",
    "    )\n",
    "    message_template_names.remove(\"register_phone_number\")\n",
    "\n",
    "    return message_template_names"
   ]
  },
  {
   "cell_type": "code",
   "execution_count": null,
   "metadata": {},
   "outputs": [
    {
     "data": {
      "text/plain": [
       "['reset_password', 'disable_mfa', 'get_token']"
      ]
     },
     "metadata": {},
     "output_type": "display_data"
    }
   ],
   "source": [
    "expected = [\"reset_password\", \"disable_mfa\", \"get_token\"]\n",
    "actual = _get_allowed_message_template_names()\n",
    "\n",
    "display(actual)\n",
    "assert actual == expected"
   ]
  },
  {
   "cell_type": "code",
   "execution_count": null,
   "metadata": {},
   "outputs": [],
   "source": [
    "# | exporti\n",
    "\n",
    "\n",
    "def _send_sms_otp_to_user(\n",
    "    user: User,\n",
    "    message_template_name: str,\n",
    "    session: Session,\n",
    "    phone_number: Optional[str] = None,\n",
    ") -> User:\n",
    "    \"\"\"Send the OTP via SMS to the user for the given message template\n",
    "\n",
    "    Args:\n",
    "        user: User object for whom the SMS needs to be sent\n",
    "        message_template_name: Message template name to include in the SMS\n",
    "        phone_number: The phone number of the user to send SMS. If this setting is passed, then the\n",
    "            SMS will be sent to this phone number in place of the one stored in the database. This will\n",
    "            allow the user if they wish to register a new phone number or change an existing one.\n",
    "        session: Session object\n",
    "\n",
    "    Returns:\n",
    "        The user object if the SMS is sent successfully\n",
    "\n",
    "    Raises:\n",
    "        HTTPException: If the Infobip server is not reachable or not able to send SMS\n",
    "        HTTPException: If the user requests for more sms's to the same number than the allocated limit. Currently\n",
    "            the limit is set to 30 messages per day to one phone number.\n",
    "    \"\"\"\n",
    "    user = session.merge(user)\n",
    "\n",
    "    application_id, message_id = get_app_and_message_id(\n",
    "        message_template_name=message_template_name\n",
    "    )\n",
    "\n",
    "    sms = session.exec(\n",
    "        select(SMS)\n",
    "        .where(SMS.user == user)\n",
    "        .where(SMS.application_id == application_id)\n",
    "        .where(SMS.message_id == message_id)\n",
    "    ).one_or_none()\n",
    "\n",
    "    if sms is None:\n",
    "        with commit_or_rollback(session):\n",
    "            sms = SMS(application_id=application_id, message_id=message_id)\n",
    "            sms.user = user\n",
    "            session.add(sms)\n",
    "\n",
    "    phone_number = phone_number if phone_number is not None else user.phone_number\n",
    "\n",
    "    sms_send_status = airt_service.sms_utils.send_sms(\n",
    "        sms.application_id, sms.message_id, phone_number\n",
    "    )\n",
    "\n",
    "    if \"requestError\" in sms_send_status:\n",
    "        raise HTTPException(\n",
    "            status_code=status.HTTP_400_BAD_REQUEST,\n",
    "            detail=f\"{sms_send_status['requestError']['serviceException']['text']}\",\n",
    "        )\n",
    "\n",
    "    if sms_send_status[\"smsStatus\"] == \"MESSAGE_NOT_SENT\":\n",
    "        raise HTTPException(\n",
    "            status_code=status.HTTP_400_BAD_REQUEST,\n",
    "            detail=ERRORS[\"MESSAGE_NOT_SENT\"],\n",
    "        )\n",
    "\n",
    "    sms_protocol = session.exec(\n",
    "        select(SMSProtocol).where(SMSProtocol.sms_id == sms.id)\n",
    "    ).one_or_none()\n",
    "\n",
    "    if sms_protocol is None:\n",
    "        create_sms_protocol(sms_send_status, sms, session)\n",
    "    else:\n",
    "        with commit_or_rollback(session):\n",
    "            session.delete(sms_protocol)\n",
    "\n",
    "        create_sms_protocol(sms_send_status, sms, session)\n",
    "\n",
    "    return user"
   ]
  },
  {
   "cell_type": "code",
   "execution_count": null,
   "metadata": {},
   "outputs": [],
   "source": [
    "# | export\n",
    "\n",
    "\n",
    "@user_router.get(\"/send_sms_otp\")\n",
    "def send_sms_otp(\n",
    "    username: str,\n",
    "    message_template_name: str,\n",
    "    session: Session = Depends(get_session),\n",
    ") -> str:\n",
    "    \"\"\"Send the OTP via SMS to the user\"\"\"\n",
    "\n",
    "    user = get_user(username)\n",
    "\n",
    "    if user is not None:\n",
    "        if (user.phone_number is not None) and (user.is_phone_number_verified):\n",
    "            allowed_message_template_names = _get_allowed_message_template_names()\n",
    "            if message_template_name in allowed_message_template_names:\n",
    "                user = _send_sms_otp_to_user(\n",
    "                    user=user,\n",
    "                    message_template_name=message_template_name,\n",
    "                    session=session,\n",
    "                )\n",
    "\n",
    "    return SEND_SMS_OTP_MSG"
   ]
  },
  {
   "cell_type": "code",
   "execution_count": null,
   "metadata": {},
   "outputs": [
    {
     "data": {
      "text/plain": [
       "'If you have already registered and verified your phone number, you will receive the OTP by SMS. If you did not receive the OTP, please contact your administrator.'"
      ]
     },
     "metadata": {},
     "output_type": "display_data"
    },
    {
     "data": {
      "text/plain": [
       "'No row was found when one was required'"
      ]
     },
     "execution_count": null,
     "metadata": {},
     "output_type": "execute_result"
    }
   ],
   "source": [
    "# Tests for send_sms_otp:\n",
    "# Negative Scenario: User phone number is not updated in the database\n",
    "\n",
    "test_username = create_user_for_testing()\n",
    "message_template_name = \"invalid_message_template_name\"\n",
    "actual = send_sms_otp(\n",
    "    username=test_username, message_template_name=message_template_name, session=session\n",
    ")\n",
    "display(actual)\n",
    "\n",
    "with pytest.raises(NoResultFound) as e:\n",
    "    with get_session_with_context() as session:\n",
    "        user = session.exec(select(User).where(User.username == test_username)).one()\n",
    "        sms = session.exec(select(SMS).where(SMS.user == user)).one()\n",
    "\n",
    "assert \"No row was found when one was required\" in str(e.value)\n",
    "str(e.value)"
   ]
  },
  {
   "cell_type": "code",
   "execution_count": null,
   "metadata": {},
   "outputs": [
    {
     "data": {
      "text/plain": [
       "'If you have already registered and verified your phone number, you will receive the OTP by SMS. If you did not receive the OTP, please contact your administrator.'"
      ]
     },
     "metadata": {},
     "output_type": "display_data"
    },
    {
     "data": {
      "text/plain": [
       "'No row was found when one was required'"
      ]
     },
     "execution_count": null,
     "metadata": {},
     "output_type": "execute_result"
    }
   ],
   "source": [
    "# Tests for send_sms_otp:\n",
    "# Negative Scenario: User phone number is updated but not verified in the database\n",
    "\n",
    "test_username = create_user_for_testing()\n",
    "message_template_name = \"reset_password\"\n",
    "with get_session_with_context() as session:\n",
    "    user = session.exec(select(User).where(User.username == test_username)).one()\n",
    "    user.phone_number = \"91123456789\"\n",
    "    session.add(user)\n",
    "    session.commit()\n",
    "\n",
    "    actual = send_sms_otp(\n",
    "        username=test_username,\n",
    "        message_template_name=message_template_name,\n",
    "        session=session,\n",
    "    )\n",
    "    display(actual)\n",
    "\n",
    "with pytest.raises(NoResultFound) as e:\n",
    "    with get_session_with_context() as session:\n",
    "        user = session.exec(select(User).where(User.username == test_username)).one()\n",
    "        sms = session.exec(select(SMS).where(SMS.user == user)).one()\n",
    "\n",
    "assert \"No row was found when one was required\" in str(e.value)\n",
    "str(e.value)"
   ]
  },
  {
   "cell_type": "code",
   "execution_count": null,
   "metadata": {},
   "outputs": [
    {
     "data": {
      "text/plain": [
       "'If you have already registered and verified your phone number, you will receive the OTP by SMS. If you did not receive the OTP, please contact your administrator.'"
      ]
     },
     "metadata": {},
     "output_type": "display_data"
    },
    {
     "data": {
      "text/plain": [
       "'No row was found when one was required'"
      ]
     },
     "metadata": {},
     "output_type": "display_data"
    },
    {
     "data": {
      "text/plain": [
       "'If you have already registered and verified your phone number, you will receive the OTP by SMS. If you did not receive the OTP, please contact your administrator.'"
      ]
     },
     "metadata": {},
     "output_type": "display_data"
    },
    {
     "data": {
      "text/plain": [
       "'No row was found when one was required'"
      ]
     },
     "metadata": {},
     "output_type": "display_data"
    }
   ],
   "source": [
    "# Tests for send_sms_otp:\n",
    "# Negative Scenario: User phone number is updated and verified but invalid message template is passed\n",
    "\n",
    "for message_template_name in [\"invalid_message_template_name\", \"register_phone_number\"]:\n",
    "    test_username = create_user_for_testing()\n",
    "    random_phone_number = \"910000000000\"\n",
    "    random_sms_pin_id = \"my_random_pin_id\"\n",
    "    with MonkeyPatch.context() as monkeypatch:\n",
    "        send_sms_sample_response = {\n",
    "            \"pinId\": random_sms_pin_id,\n",
    "            \"to\": random_phone_number,\n",
    "            \"ncStatus\": \"NC_NOT_CONFIGURED\",\n",
    "            \"smsStatus\": \"MESSAGE_SENT\",\n",
    "        }\n",
    "        monkeypatch.setattr(\n",
    "            \"airt_service.sms_utils.send_sms\", lambda x, y, z: send_sms_sample_response\n",
    "        )\n",
    "\n",
    "        with get_session_with_context() as session:\n",
    "            user = session.exec(\n",
    "                select(User).where(User.username == test_username)\n",
    "            ).one()\n",
    "            user.phone_number = random_phone_number\n",
    "            user.is_phone_number_verified = True\n",
    "            session.add(user)\n",
    "            session.commit()\n",
    "\n",
    "        actual = send_sms_otp(\n",
    "            username=test_username,\n",
    "            message_template_name=message_template_name,\n",
    "            session=session,\n",
    "        )\n",
    "        display(actual)\n",
    "\n",
    "    with pytest.raises(NoResultFound) as e:\n",
    "        with get_session_with_context() as session:\n",
    "            user = session.exec(\n",
    "                select(User).where(User.username == test_username)\n",
    "            ).one()\n",
    "            sms = session.exec(select(SMS).where(SMS.user == user)).one()\n",
    "\n",
    "    assert \"No row was found when one was required\" in str(e.value)\n",
    "    display(str(e.value))"
   ]
  },
  {
   "cell_type": "code",
   "execution_count": null,
   "metadata": {},
   "outputs": [
    {
     "data": {
      "text/plain": [
       "'If you have already registered and verified your phone number, you will receive the OTP by SMS. If you did not receive the OTP, please contact your administrator.'"
      ]
     },
     "metadata": {},
     "output_type": "display_data"
    },
    {
     "data": {
      "text/plain": [
       "SMS(application_id='12D2CA96F21A5ED26508CAAEB221A4C4', message_id='ECF0E776D585FFDA169CC14AE45A41FB', id=115, user_id=1088)"
      ]
     },
     "metadata": {},
     "output_type": "display_data"
    },
    {
     "data": {
      "text/plain": [
       "SMSProtocol(id=116, number_lookup_status='NC_NOT_CONFIGURED', phone_number='910000000000', pin_attempts_remaining=None, pin_id='my_random_pin_id', sent_sms_status='MESSAGE_SENT', pin_verified=False, sms_id=115)"
      ]
     },
     "metadata": {},
     "output_type": "display_data"
    }
   ],
   "source": [
    "# Tests for send_sms_otp:\n",
    "# Positive Scenario: User phone number is updated and verified and a valid message template is passed\n",
    "\n",
    "test_username = create_user_for_testing()\n",
    "random_phone_number = \"910000000000\"\n",
    "random_sms_pin_id = \"my_random_pin_id\"\n",
    "message_template_name = \"reset_password\"\n",
    "with MonkeyPatch.context() as monkeypatch:\n",
    "    send_sms_sample_response = {\n",
    "        \"pinId\": random_sms_pin_id,\n",
    "        \"to\": random_phone_number,\n",
    "        \"ncStatus\": \"NC_NOT_CONFIGURED\",\n",
    "        \"smsStatus\": \"MESSAGE_SENT\",\n",
    "    }\n",
    "    monkeypatch.setattr(\n",
    "        \"airt_service.sms_utils.send_sms\", lambda x, y, z: send_sms_sample_response\n",
    "    )\n",
    "\n",
    "    with get_session_with_context() as session:\n",
    "        user = session.exec(select(User).where(User.username == test_username)).one()\n",
    "        user.phone_number = random_phone_number\n",
    "        user.is_phone_number_verified = True\n",
    "        session.add(user)\n",
    "        session.commit()\n",
    "\n",
    "    actual = send_sms_otp(\n",
    "        username=test_username,\n",
    "        message_template_name=message_template_name,\n",
    "        session=session,\n",
    "    )\n",
    "    display(actual)\n",
    "\n",
    "with get_session_with_context() as session:\n",
    "    user = session.exec(select(User).where(User.username == test_username)).one()\n",
    "    sms = session.exec(select(SMS).where(SMS.user == user)).one()\n",
    "    display(sms)\n",
    "    assert sms.user_id == user.id\n",
    "\n",
    "    sms_protocol = session.exec(\n",
    "        select(SMSProtocol).where(SMSProtocol.sms_id == sms.id)\n",
    "    ).one()\n",
    "\n",
    "    display(sms_protocol)\n",
    "    assert sms_protocol.sms_id == sms.id\n",
    "    assert sms_protocol.pin_id == random_sms_pin_id\n",
    "    assert sms_protocol.phone_number == random_phone_number"
   ]
  },
  {
   "cell_type": "code",
   "execution_count": null,
   "metadata": {},
   "outputs": [],
   "source": [
    "# | export\n",
    "\n",
    "\n",
    "def require_otp_or_totp_if_mfa_enabled(\n",
    "    message_template_name: str,\n",
    ") -> Callable[..., Any]:\n",
    "    \"\"\"A decorator function to validate the totp/otp for MFA enabled user\n",
    "\n",
    "    If the totp/otp validation fails, the user will not be granted access to the decorated route\n",
    "\n",
    "    Args:\n",
    "        message_template_name: Name of the message template that was used to send the SMS\n",
    "    \"\"\"\n",
    "\n",
    "    def outer_wrapper(func: Callable[..., Any]) -> Callable[..., Any]:\n",
    "        @functools.wraps(func)\n",
    "        def inner_wrapper(*args: Any, **kwargs: Any) -> Any:\n",
    "            user = kwargs[\"user\"]\n",
    "            session = kwargs[\"session\"]\n",
    "            otp_or_totp = get_attr_by_name(kwargs, \"otp\")\n",
    "\n",
    "            if not user.is_mfa_active and otp_or_totp is not None:\n",
    "                raise HTTPException(\n",
    "                    status_code=status.HTTP_400_BAD_REQUEST,\n",
    "                    detail=ERRORS[\"MFA_NOT_ACTIVATED_BUT_PASSES_OTP\"],\n",
    "                )\n",
    "\n",
    "            if user.is_mfa_active:\n",
    "                if otp_or_totp is not None:\n",
    "                    try:\n",
    "                        validate_totp(user.mfa_secret, otp_or_totp)\n",
    "                    except HTTPException as e:\n",
    "                        try:\n",
    "                            validate_otp(\n",
    "                                user=user,\n",
    "                                otp=otp_or_totp,\n",
    "                                message_template_name=message_template_name,\n",
    "                                session=session,\n",
    "                            )\n",
    "                        except HTTPException as e:\n",
    "                            raise HTTPException(\n",
    "                                status_code=status.HTTP_400_BAD_REQUEST,\n",
    "                                detail=ERRORS[\"INVALID_OTP\"],\n",
    "                            )\n",
    "                else:\n",
    "                    raise HTTPException(\n",
    "                        status_code=status.HTTP_400_BAD_REQUEST,\n",
    "                        detail=ERRORS[\"OTP_REQUIRED\"],\n",
    "                    )\n",
    "\n",
    "            # Do something before\n",
    "            return func(*args, **kwargs)\n",
    "            # Do something after\n",
    "\n",
    "        return inner_wrapper\n",
    "\n",
    "    return outer_wrapper"
   ]
  },
  {
   "cell_type": "code",
   "execution_count": null,
   "metadata": {},
   "outputs": [
    {
     "data": {
      "text/plain": [
       "'MFA is not activated for the account. Please pass the OTP only after activating the MFA for your account.'"
      ]
     },
     "metadata": {},
     "output_type": "display_data"
    },
    {
     "data": {
      "text/plain": [
       "'Ok'"
      ]
     },
     "metadata": {},
     "output_type": "display_data"
    },
    {
     "data": {
      "text/plain": [
       "User(id=1089, uuid=UUID('db174ead-a970-4dae-949a-2e7ec2f6beb1'), username='qxxlajgckh', first_name='unittest', last_name='user', email='qxxlajgckh@email.com', subscription_type=<SubscriptionType.test: 'test'>, super_user=False, disabled=False, created=datetime.datetime(2023, 3, 10, 10, 25, 24), phone_number=None, is_phone_number_verified=False, mfa_secret=**********************************, is_mfa_active=True)"
      ]
     },
     "metadata": {},
     "output_type": "display_data"
    },
    {
     "data": {
      "text/plain": [
       "'Invalid OTP. Please try again.'"
      ]
     },
     "metadata": {},
     "output_type": "display_data"
    },
    {
     "data": {
      "text/plain": [
       "'OTP is required. Please enter the OTP generated by the authenticator app or the one you requested via SMS.'"
      ]
     },
     "metadata": {},
     "output_type": "display_data"
    },
    {
     "data": {
      "text/plain": [
       "'Ok'"
      ]
     },
     "metadata": {},
     "output_type": "display_data"
    }
   ],
   "source": [
    "@require_otp_or_totp_if_mfa_enabled(message_template_name=\"disable_mfa\")\n",
    "def test_require_otp_or_totp_if_mfa_enabled(\n",
    "    otp,\n",
    "    user,\n",
    "    session,\n",
    "):\n",
    "    return \"Ok\"\n",
    "\n",
    "\n",
    "with get_session_with_context() as session:\n",
    "    test_user = create_user_for_testing()\n",
    "    user = session.exec(select(User).where(User.username == test_user)).one()\n",
    "    with pytest.raises(HTTPException) as e:\n",
    "        random_otp = \"123123\"\n",
    "        test_require_otp_or_totp_if_mfa_enabled(\n",
    "            otp=random_otp, user=user, session=session\n",
    "        )\n",
    "    display(e.value.detail)\n",
    "    assert (\n",
    "        e.value.detail\n",
    "        == \"MFA is not activated for the account. Please pass the OTP only after activating the MFA for your account.\"\n",
    "    )\n",
    "\n",
    "    actual = test_require_otp_or_totp_if_mfa_enabled(\n",
    "        otp=None, user=user, session=session\n",
    "    )\n",
    "    assert actual == \"Ok\"\n",
    "    display(actual)\n",
    "\n",
    "    actual = generate_mfa_url(user=user, session=session)\n",
    "\n",
    "    activate_mfa_request = ActivateMFARequest(\n",
    "        user_otp=pyotp.TOTP(user.mfa_secret).now()\n",
    "    )\n",
    "\n",
    "    actual = activate_mfa(\n",
    "        activate_mfa_request=activate_mfa_request, user=user, session=session\n",
    "    )\n",
    "    display(actual)\n",
    "    assert actual.is_mfa_active\n",
    "\n",
    "    with pytest.raises(HTTPException) as e:\n",
    "        random_otp = \"123123\"\n",
    "        test_require_otp_or_totp_if_mfa_enabled(\n",
    "            otp=random_otp, user=user, session=session\n",
    "        )\n",
    "    display(e.value.detail)\n",
    "    assert \"Invalid OTP\" in e.value.detail\n",
    "\n",
    "    with pytest.raises(HTTPException) as e:\n",
    "        random_otp = None\n",
    "        test_require_otp_or_totp_if_mfa_enabled(\n",
    "            otp=random_otp, user=user, session=session\n",
    "        )\n",
    "    display(e.value.detail)\n",
    "    assert \"OTP is required\" in e.value.detail\n",
    "\n",
    "    valid_totp = pyotp.TOTP(user.mfa_secret).now()\n",
    "    actual = test_require_otp_or_totp_if_mfa_enabled(\n",
    "        otp=valid_totp, user=user, session=session\n",
    "    )\n",
    "    assert actual == \"Ok\"\n",
    "    display(actual)"
   ]
  },
  {
   "cell_type": "code",
   "execution_count": null,
   "metadata": {},
   "outputs": [],
   "source": [
    "# | export\n",
    "\n",
    "\n",
    "@user_router.delete(\n",
    "    \"/mfa/{user_uuid_or_name}/disable\",\n",
    "    response_model=UserRead,\n",
    "    responses={\n",
    "        400: {\n",
    "            \"model\": HTTPError,\n",
    "            \"description\": ERRORS[\"INCORRECT_USER_UUID\"],\n",
    "        },\n",
    "        401: {\n",
    "            \"model\": HTTPError,\n",
    "            \"description\": ERRORS[\"NOT_ENOUGH_PERMISSION_TO_ACCESS_OTHERS_DATA\"],\n",
    "        },\n",
    "    },\n",
    ")\n",
    "@require_otp_or_totp_if_mfa_enabled(message_template_name=\"disable_mfa\")\n",
    "def disable_mfa(\n",
    "    user_uuid_or_name: str,\n",
    "    otp: Optional[str] = None,\n",
    "    user: User = Depends(get_current_active_user),\n",
    "    session: Session = Depends(get_session),\n",
    ") -> User:\n",
    "    \"\"\"Disable MFA\"\"\"\n",
    "\n",
    "    user = session.merge(user)\n",
    "    user_to_disable_mfa = get_user_to_disable_mfa(user, session, user_uuid_or_name)\n",
    "\n",
    "    with commit_or_rollback(session):\n",
    "        user_to_disable_mfa.is_mfa_active = False\n",
    "        user_to_disable_mfa.mfa_secret = None\n",
    "        session.add(user_to_disable_mfa)\n",
    "\n",
    "    return user_to_disable_mfa"
   ]
  },
  {
   "cell_type": "code",
   "execution_count": null,
   "metadata": {},
   "outputs": [
    {
     "data": {
      "text/plain": [
       "User(id=1078, uuid=UUID('58eec427-e412-4ba7-9c74-fd47c2f38c30'), username='kllopwntsg', first_name='unittest', last_name='user', email='kllopwntsg@email.com', subscription_type=<SubscriptionType.test: 'test'>, super_user=False, disabled=False, created=datetime.datetime(2023, 3, 10, 10, 25, 20), phone_number=None, is_phone_number_verified=False, mfa_secret=****, is_mfa_active=False)"
      ]
     },
     "metadata": {},
     "output_type": "display_data"
    }
   ],
   "source": [
    "# Positive scenario: MFA enabled normal user trying to disable mfa for self (using TOTP)\n",
    "with get_session_with_context() as session:\n",
    "    user = session.exec(\n",
    "        select(User).where(User.username == mfa_active_user.username)\n",
    "    ).one()\n",
    "\n",
    "with get_session_with_context() as session:\n",
    "    expected = session.exec(select(User).where(User.username == user.username)).one()\n",
    "    actual = disable_mfa(\n",
    "        user_uuid_or_name=str(user.uuid),\n",
    "        otp=pyotp.TOTP(user.mfa_secret).now(),\n",
    "        user=user,\n",
    "        session=session,\n",
    "    )\n",
    "\n",
    "    display(actual)\n",
    "    assert actual.id == expected.id\n",
    "\n",
    "    # Negative scenario: normal user trying to disable mfa for others\n",
    "    with pytest.raises(HTTPException) as e:\n",
    "        disable_mfa(\n",
    "            user_uuid_or_name=INVALID_UUID_FOR_TESTING, user=user, session=session\n",
    "        )"
   ]
  },
  {
   "cell_type": "code",
   "execution_count": null,
   "metadata": {},
   "outputs": [
    {
     "data": {
      "text/plain": [
       "User(id=1090, uuid=UUID('6922f56f-4a85-4a8e-bc93-b027885a53fc'), username='lzdjuffcye', first_name='unittest', last_name='user', email='lzdjuffcye@email.com', subscription_type=<SubscriptionType.test: 'test'>, super_user=False, disabled=False, created=datetime.datetime(2023, 3, 10, 10, 25, 26), phone_number='910000000000', is_phone_number_verified=True, mfa_secret=**********************************, is_mfa_active=True)"
      ]
     },
     "metadata": {},
     "output_type": "display_data"
    },
    {
     "data": {
      "text/plain": [
       "'If you have already registered and verified your phone number, you will receive the OTP by SMS. If you did not receive the OTP, please contact your administrator.'"
      ]
     },
     "metadata": {},
     "output_type": "display_data"
    },
    {
     "data": {
      "text/plain": [
       "User(id=1090, uuid=UUID('6922f56f-4a85-4a8e-bc93-b027885a53fc'), username='lzdjuffcye', first_name='unittest', last_name='user', email='lzdjuffcye@email.com', subscription_type=<SubscriptionType.test: 'test'>, super_user=False, disabled=False, created=datetime.datetime(2023, 3, 10, 10, 25, 26), phone_number='910000000000', is_phone_number_verified=True, mfa_secret=****, is_mfa_active=False)"
      ]
     },
     "metadata": {},
     "output_type": "display_data"
    }
   ],
   "source": [
    "# Positive scenario: MFA enabled normal user trying to disable mfa using sms otp\n",
    "test_username = create_user_for_testing()\n",
    "random_phone_number = \"910000000000\"\n",
    "random_sms_pin_id = \"my_random_pin_id\"\n",
    "message_template_name = \"disable_mfa\"\n",
    "random_sms_otp = \"111111\"\n",
    "with MonkeyPatch.context() as monkeypatch:\n",
    "    send_sms_sample_response = {\n",
    "        \"pinId\": random_sms_pin_id,\n",
    "        \"to\": random_phone_number,\n",
    "        \"ncStatus\": \"NC_NOT_CONFIGURED\",\n",
    "        \"smsStatus\": \"MESSAGE_SENT\",\n",
    "    }\n",
    "    monkeypatch.setattr(\n",
    "        \"airt_service.sms_utils.send_sms\", lambda x, y, z: send_sms_sample_response\n",
    "    )\n",
    "\n",
    "    verify_pin_sample_response = {\n",
    "        \"pinId\": random_sms_pin_id,\n",
    "        \"msisdn\": random_phone_number,\n",
    "        \"verified\": True,\n",
    "        \"attemptsRemaining\": 0,\n",
    "    }\n",
    "\n",
    "    monkeypatch.setattr(\n",
    "        \"airt_service.sms_utils.verify_pin\", lambda x, y: verify_pin_sample_response\n",
    "    )\n",
    "\n",
    "    with get_session_with_context() as session:\n",
    "        user = session.exec(select(User).where(User.username == test_username)).one()\n",
    "        user.phone_number = random_phone_number\n",
    "        user.is_phone_number_verified = True\n",
    "        session.add(user)\n",
    "        session.commit()\n",
    "        session.refresh(user)\n",
    "\n",
    "        actual = generate_mfa_url(user=user, session=session)\n",
    "        assert user.mfa_secret is not None\n",
    "        # activate MFA\n",
    "        activate_mfa_request = ActivateMFARequest(\n",
    "            user_otp=pyotp.TOTP(user.mfa_secret).now()\n",
    "        )\n",
    "        actual = activate_mfa(\n",
    "            activate_mfa_request=activate_mfa_request, user=user, session=session\n",
    "        )\n",
    "        assert actual.is_mfa_active\n",
    "        display(actual)\n",
    "\n",
    "        actual = send_sms_otp(\n",
    "            username=test_username,\n",
    "            message_template_name=message_template_name,\n",
    "            session=session,\n",
    "        )\n",
    "        display(actual)\n",
    "\n",
    "        user = disable_mfa(\n",
    "            user_uuid_or_name=str(user.uuid),\n",
    "            otp=random_sms_otp,\n",
    "            user=user,\n",
    "            session=session,\n",
    "        )\n",
    "\n",
    "        display(user)\n",
    "        assert not user.is_mfa_active"
   ]
  },
  {
   "cell_type": "code",
   "execution_count": null,
   "metadata": {},
   "outputs": [
    {
     "data": {
      "text/plain": [
       "User(id=1091, uuid=UUID('bee524be-ab90-49b1-a8be-4cb4898e5538'), username='shbyyakzji', first_name='unittest', last_name='user', email='shbyyakzji@email.com', subscription_type=<SubscriptionType.test: 'test'>, super_user=True, disabled=False, created=datetime.datetime(2023, 3, 10, 10, 25, 30), phone_number=None, is_phone_number_verified=False, mfa_secret=**********************************, is_mfa_active=True)"
      ]
     },
     "metadata": {},
     "output_type": "display_data"
    },
    {
     "data": {
      "text/plain": [
       "'mfa_url=****************************************************************************************************'"
      ]
     },
     "metadata": {},
     "output_type": "display_data"
    },
    {
     "data": {
      "text/plain": [
       "User(id=1092, uuid=UUID('bcfdd44b-1a1a-40f1-99ed-eca029e4511c'), username='wmxswtjjtp', first_name='unittest', last_name='user', email='wmxswtjjtp@email.com', subscription_type=<SubscriptionType.test: 'test'>, super_user=False, disabled=False, created=datetime.datetime(2023, 3, 10, 10, 25, 30), phone_number=None, is_phone_number_verified=False, mfa_secret=**********************************, is_mfa_active=True)"
      ]
     },
     "metadata": {},
     "output_type": "display_data"
    },
    {
     "data": {
      "text/plain": [
       "User(id=1091, uuid=UUID('bee524be-ab90-49b1-a8be-4cb4898e5538'), username='shbyyakzji', first_name='unittest', last_name='user', email='shbyyakzji@email.com', subscription_type=<SubscriptionType.test: 'test'>, super_user=True, disabled=False, created=datetime.datetime(2023, 3, 10, 10, 25, 30), phone_number=None, is_phone_number_verified=False, mfa_secret=**********************************, is_mfa_active=True)"
      ]
     },
     "metadata": {},
     "output_type": "display_data"
    },
    {
     "data": {
      "text/plain": [
       "User(id=1092, uuid=UUID('bcfdd44b-1a1a-40f1-99ed-eca029e4511c'), username='wmxswtjjtp', first_name='unittest', last_name='user', email='wmxswtjjtp@email.com', subscription_type=<SubscriptionType.test: 'test'>, super_user=False, disabled=False, created=datetime.datetime(2023, 3, 10, 10, 25, 30), phone_number=None, is_phone_number_verified=False, mfa_secret=****, is_mfa_active=False)"
      ]
     },
     "metadata": {},
     "output_type": "display_data"
    },
    {
     "data": {
      "text/plain": [
       "User(id=1091, uuid=UUID('bee524be-ab90-49b1-a8be-4cb4898e5538'), username='shbyyakzji', first_name='unittest', last_name='user', email='shbyyakzji@email.com', subscription_type=<SubscriptionType.test: 'test'>, super_user=False, disabled=True, created=datetime.datetime(2023, 3, 10, 10, 25, 30), phone_number=None, is_phone_number_verified=False, mfa_secret=**********************************, is_mfa_active=True)"
      ]
     },
     "metadata": {},
     "output_type": "display_data"
    }
   ],
   "source": [
    "# Positive scenario: Super user trying to disable mfa for other users (using TOTP)\n",
    "# create a super user and activate MFA\n",
    "test_super_username = create_user_for_testing()\n",
    "with get_session_with_context() as session:\n",
    "    super_user = session.exec(\n",
    "        select(User).where(User.username == test_super_username)\n",
    "    ).one()\n",
    "    super_user.super_user = True\n",
    "    session.add(super_user)\n",
    "    session.commit()\n",
    "    session.refresh(super_user)\n",
    "\n",
    "    mfa_url = generate_mfa_url(user=super_user, session=session)\n",
    "    activate_mfa_request = ActivateMFARequest(\n",
    "        user_otp=pyotp.TOTP(super_user.mfa_secret).now()\n",
    "    )\n",
    "    actual = activate_mfa(\n",
    "        activate_mfa_request=activate_mfa_request, user=super_user, session=session\n",
    "    )\n",
    "    assert actual.is_mfa_active\n",
    "    display(super_user)\n",
    "\n",
    "# create a normal user and activate MFA\n",
    "with get_session_with_context() as session:\n",
    "    test_username = create_user_for_testing()\n",
    "    normal_user = session.exec(select(User).where(User.username == test_username)).one()\n",
    "    mfa_url = generate_mfa_url(user=normal_user, session=session)\n",
    "    display(f\"mfa_url={'*'*len(mfa_url.mfa_url)}\")\n",
    "\n",
    "    activate_mfa_request = ActivateMFARequest(\n",
    "        user_otp=pyotp.TOTP(normal_user.mfa_secret).now()\n",
    "    )\n",
    "    actual = activate_mfa(\n",
    "        activate_mfa_request=activate_mfa_request, user=normal_user, session=session\n",
    "    )\n",
    "    assert actual.is_mfa_active\n",
    "    display(normal_user)\n",
    "\n",
    "# login in as super user and disable MFA for the normal user\n",
    "with get_session_with_context() as session:\n",
    "    super_user = session.exec(\n",
    "        select(User).where(User.username == test_super_username)\n",
    "    ).one()\n",
    "    display(super_user)\n",
    "\n",
    "    actual = disable_mfa(\n",
    "        user_uuid_or_name=str(normal_user.uuid),\n",
    "        otp=pyotp.TOTP(super_user.mfa_secret).now(),\n",
    "        user=super_user,\n",
    "        session=session,\n",
    "    )\n",
    "\n",
    "    display(actual)\n",
    "    assert actual.id == normal_user.id\n",
    "    assert not actual.is_mfa_active\n",
    "\n",
    "# disable the super user\n",
    "with get_session_with_context() as session:\n",
    "    super_user = session.exec(\n",
    "        select(User).where(User.username == test_super_username)\n",
    "    ).one()\n",
    "    super_user.super_user = False\n",
    "    super_user.disabled = True\n",
    "    session.add(super_user)\n",
    "    session.commit()\n",
    "    session.refresh(super_user)\n",
    "\n",
    "display(super_user)"
   ]
  },
  {
   "cell_type": "code",
   "execution_count": null,
   "metadata": {},
   "outputs": [
    {
     "data": {
      "text/plain": [
       "User(id=1093, uuid=UUID('ff4937b6-df46-4c62-a240-406ba696ebd9'), username='sicnxpglbc', first_name='unittest', last_name='user', email='sicnxpglbc@email.com', subscription_type=<SubscriptionType.test: 'test'>, super_user=True, disabled=False, created=datetime.datetime(2023, 3, 10, 10, 25, 30), phone_number='910000000000', is_phone_number_verified=True, mfa_secret=**********************************, is_mfa_active=True)"
      ]
     },
     "metadata": {},
     "output_type": "display_data"
    },
    {
     "data": {
      "text/plain": [
       "'mfa_url=****************************************************************************************************'"
      ]
     },
     "metadata": {},
     "output_type": "display_data"
    },
    {
     "data": {
      "text/plain": [
       "User(id=1094, uuid=UUID('a659a13b-674a-4d1b-82d9-193c444d5389'), username='xgmmvrvdms', first_name='unittest', last_name='user', email='xgmmvrvdms@email.com', subscription_type=<SubscriptionType.test: 'test'>, super_user=False, disabled=False, created=datetime.datetime(2023, 3, 10, 10, 25, 31), phone_number=None, is_phone_number_verified=False, mfa_secret=**********************************, is_mfa_active=True)"
      ]
     },
     "metadata": {},
     "output_type": "display_data"
    },
    {
     "data": {
      "text/plain": [
       "User(id=1093, uuid=UUID('ff4937b6-df46-4c62-a240-406ba696ebd9'), username='sicnxpglbc', first_name='unittest', last_name='user', email='sicnxpglbc@email.com', subscription_type=<SubscriptionType.test: 'test'>, super_user=True, disabled=False, created=datetime.datetime(2023, 3, 10, 10, 25, 30), phone_number='910000000000', is_phone_number_verified=True, mfa_secret=**********************************, is_mfa_active=True)"
      ]
     },
     "metadata": {},
     "output_type": "display_data"
    },
    {
     "data": {
      "text/plain": [
       "'If you have already registered and verified your phone number, you will receive the OTP by SMS. If you did not receive the OTP, please contact your administrator.'"
      ]
     },
     "metadata": {},
     "output_type": "display_data"
    },
    {
     "data": {
      "text/plain": [
       "User(id=1094, uuid=UUID('a659a13b-674a-4d1b-82d9-193c444d5389'), username='xgmmvrvdms', first_name='unittest', last_name='user', email='xgmmvrvdms@email.com', subscription_type=<SubscriptionType.test: 'test'>, super_user=False, disabled=False, created=datetime.datetime(2023, 3, 10, 10, 25, 31), phone_number=None, is_phone_number_verified=False, mfa_secret=****, is_mfa_active=False)"
      ]
     },
     "metadata": {},
     "output_type": "display_data"
    },
    {
     "data": {
      "text/plain": [
       "User(id=1093, uuid=UUID('ff4937b6-df46-4c62-a240-406ba696ebd9'), username='sicnxpglbc', first_name='unittest', last_name='user', email='sicnxpglbc@email.com', subscription_type=<SubscriptionType.test: 'test'>, super_user=False, disabled=True, created=datetime.datetime(2023, 3, 10, 10, 25, 30), phone_number='910000000000', is_phone_number_verified=True, mfa_secret=**********************************, is_mfa_active=True)"
      ]
     },
     "metadata": {},
     "output_type": "display_data"
    }
   ],
   "source": [
    "# Positive scenario: Super user trying to disable mfa for other users (using SMS OTP)\n",
    "# create a super user and activate MFA\n",
    "test_super_username = create_user_for_testing()\n",
    "random_phone_number = \"910000000000\"\n",
    "random_sms_pin_id = \"my_random_pin_id\"\n",
    "message_template_name = \"disable_mfa\"\n",
    "random_sms_otp = \"111111\"\n",
    "\n",
    "with get_session_with_context() as session:\n",
    "    super_user = session.exec(\n",
    "        select(User).where(User.username == test_super_username)\n",
    "    ).one()\n",
    "    super_user.super_user = True\n",
    "    super_user.phone_number = random_phone_number\n",
    "    super_user.is_phone_number_verified = True\n",
    "    session.add(super_user)\n",
    "    session.commit()\n",
    "    session.refresh(super_user)\n",
    "\n",
    "    mfa_url = generate_mfa_url(user=super_user, session=session)\n",
    "    activate_mfa_request = ActivateMFARequest(\n",
    "        user_otp=pyotp.TOTP(super_user.mfa_secret).now()\n",
    "    )\n",
    "    actual = activate_mfa(\n",
    "        activate_mfa_request=activate_mfa_request, user=super_user, session=session\n",
    "    )\n",
    "    assert actual.is_mfa_active\n",
    "    display(super_user)\n",
    "\n",
    "# create a normal user and activate MFA\n",
    "with get_session_with_context() as session:\n",
    "    test_username = create_user_for_testing()\n",
    "    normal_user = session.exec(select(User).where(User.username == test_username)).one()\n",
    "    mfa_url = generate_mfa_url(user=normal_user, session=session)\n",
    "    display(f\"mfa_url={'*'*len(mfa_url.mfa_url)}\")\n",
    "\n",
    "    activate_mfa_request = ActivateMFARequest(\n",
    "        user_otp=pyotp.TOTP(normal_user.mfa_secret).now()\n",
    "    )\n",
    "    actual = activate_mfa(\n",
    "        activate_mfa_request=activate_mfa_request, user=normal_user, session=session\n",
    "    )\n",
    "    assert actual.is_mfa_active\n",
    "    display(normal_user)\n",
    "\n",
    "with MonkeyPatch.context() as monkeypatch:\n",
    "    send_sms_sample_response = {\n",
    "        \"pinId\": random_sms_pin_id,\n",
    "        \"to\": random_phone_number,\n",
    "        \"ncStatus\": \"NC_NOT_CONFIGURED\",\n",
    "        \"smsStatus\": \"MESSAGE_SENT\",\n",
    "    }\n",
    "    monkeypatch.setattr(\n",
    "        \"airt_service.sms_utils.send_sms\", lambda x, y, z: send_sms_sample_response\n",
    "    )\n",
    "\n",
    "    verify_pin_sample_response = {\n",
    "        \"pinId\": random_sms_pin_id,\n",
    "        \"msisdn\": random_phone_number,\n",
    "        \"verified\": True,\n",
    "        \"attemptsRemaining\": 0,\n",
    "    }\n",
    "\n",
    "    monkeypatch.setattr(\n",
    "        \"airt_service.sms_utils.verify_pin\", lambda x, y: verify_pin_sample_response\n",
    "    )\n",
    "\n",
    "    # login in as super user and disable MFA for the normal user\n",
    "    with get_session_with_context() as session:\n",
    "        super_user = session.exec(\n",
    "            select(User).where(User.username == test_super_username)\n",
    "        ).one()\n",
    "        display(super_user)\n",
    "\n",
    "        actual = send_sms_otp(\n",
    "            username=test_super_username,\n",
    "            message_template_name=message_template_name,\n",
    "            session=session,\n",
    "        )\n",
    "        display(actual)\n",
    "\n",
    "        actual = disable_mfa(\n",
    "            user_uuid_or_name=str(normal_user.uuid),\n",
    "            otp=random_sms_otp,\n",
    "            user=super_user,\n",
    "            session=session,\n",
    "        )\n",
    "\n",
    "        display(actual)\n",
    "        assert actual.id == normal_user.id\n",
    "        assert not actual.is_mfa_active\n",
    "\n",
    "# disable the super user\n",
    "with get_session_with_context() as session:\n",
    "    super_user = session.exec(\n",
    "        select(User).where(User.username == test_super_username)\n",
    "    ).one()\n",
    "    super_user.super_user = False\n",
    "    super_user.disabled = True\n",
    "    session.add(super_user)\n",
    "    session.commit()\n",
    "    session.refresh(super_user)\n",
    "\n",
    "display(super_user)"
   ]
  },
  {
   "cell_type": "code",
   "execution_count": null,
   "metadata": {},
   "outputs": [
    {
     "data": {
      "text/plain": [
       "User(id=1100, uuid=UUID('cddf56bc-ea11-4f29-9383-d78aaf2456c4'), username='rlqkuutxox', first_name='unittest', last_name='user', email='rlqkuutxox@email.com', subscription_type=<SubscriptionType.test: 'test'>, super_user=False, disabled=False, created=datetime.datetime(2023, 3, 10, 10, 25, 37), phone_number=None, is_phone_number_verified=False, mfa_secret=**********************************, is_mfa_active=True)"
      ]
     },
     "metadata": {},
     "output_type": "display_data"
    },
    {
     "data": {
      "text/plain": [
       "<sqlmodel.orm.session.Session>"
      ]
     },
     "metadata": {},
     "output_type": "display_data"
    }
   ],
   "source": [
    "# Context manager to create MFA enabled user\n",
    "\n",
    "\n",
    "@contextmanager\n",
    "def create_mfa_enabled_user():\n",
    "    with get_session_with_context() as session:\n",
    "        mfa_enabled_user = create_user_for_testing()\n",
    "        user = session.exec(select(User).where(User.username == mfa_enabled_user)).one()\n",
    "        try:\n",
    "            # generate MFA\n",
    "            actual = generate_mfa_url(user=user, session=session)\n",
    "            assert user.mfa_secret is not None\n",
    "            # activate MFA\n",
    "            activate_mfa_request = ActivateMFARequest(\n",
    "                user_otp=pyotp.TOTP(user.mfa_secret).now()\n",
    "            )\n",
    "            actual = activate_mfa(\n",
    "                activate_mfa_request=activate_mfa_request, user=user, session=session\n",
    "            )\n",
    "            yield user, session\n",
    "        finally:\n",
    "            # deactivate MFA\n",
    "            user = disable_mfa(\n",
    "                user_uuid_or_name=str(user.uuid),\n",
    "                otp=pyotp.TOTP(user.mfa_secret).now(),\n",
    "                user=user,\n",
    "                session=session,\n",
    "            )\n",
    "            with commit_or_rollback(session):\n",
    "                user.disabled = True\n",
    "                session.add(user)\n",
    "            assert user.mfa_secret is None\n",
    "            assert user.disabled\n",
    "\n",
    "\n",
    "with create_mfa_enabled_user() as user_and_session:\n",
    "    display(user_and_session[0])\n",
    "    display(user_and_session[1])"
   ]
  },
  {
   "cell_type": "code",
   "execution_count": null,
   "metadata": {},
   "outputs": [
    {
     "data": {
      "text/plain": [
       "'OTP is required. Please enter the OTP generated by the authenticator app or the one you requested via SMS.'"
      ]
     },
     "metadata": {},
     "output_type": "display_data"
    },
    {
     "data": {
      "text/plain": [
       "'Invalid OTP. Please try again.'"
      ]
     },
     "metadata": {},
     "output_type": "display_data"
    },
    {
     "data": {
      "text/plain": [
       "'mfa_url: ****************************************************************************************************'"
      ]
     },
     "metadata": {},
     "output_type": "display_data"
    },
    {
     "data": {
      "text/plain": [
       "'MFA is not activated for the account. Please pass the OTP only after activating the MFA for your account.'"
      ]
     },
     "metadata": {},
     "output_type": "display_data"
    }
   ],
   "source": [
    "# MFA enabled user trying to generate mfa url\n",
    "with create_mfa_enabled_user() as user_and_session:\n",
    "    user = user_and_session[0]\n",
    "    session = user_and_session[1]\n",
    "    # Negative scenario: Not passing the OTP in the request\n",
    "    with pytest.raises(HTTPException) as e:\n",
    "        generate_mfa_url(user=user, session=session)\n",
    "    assert \"OTP is required\" in str(e.value.detail)\n",
    "    display(e.value.detail)\n",
    "    # Negative scenario: passing invalid OTP in the request\n",
    "    with pytest.raises(HTTPException) as e:\n",
    "        random_otp = 111111\n",
    "        generate_mfa_url(otp=random_otp, user=user, session=session)\n",
    "    assert \"Invalid OTP\" in str(e.value.detail), str(e.value.detail)\n",
    "    display(e.value.detail)\n",
    "\n",
    "    # Positive scenario: passing valid OTP in the request\n",
    "    actual = generate_mfa_url(\n",
    "        otp=pyotp.TOTP(user.mfa_secret).now(), user=user, session=session\n",
    "    )\n",
    "    display(f'mfa_url: {\"*\"*len(actual.mfa_url)}')\n",
    "\n",
    "# Negatve scenario: Non MFA user passing OTP in the request\n",
    "with pytest.raises(HTTPException) as e:\n",
    "    random_otp = 111111\n",
    "    generate_mfa_url(otp=random_otp, user=user, session=session)\n",
    "assert (\n",
    "    str(e.value.detail)\n",
    "    == \"MFA is not activated for the account. Please pass the OTP only after activating the MFA for your account.\"\n",
    ")\n",
    "display(e.value.detail)"
   ]
  },
  {
   "cell_type": "code",
   "execution_count": null,
   "metadata": {},
   "outputs": [
    {
     "data": {
      "text/plain": [
       "'OTP is required. Please enter the OTP generated by the authenticator app or the one you requested via SMS.'"
      ]
     },
     "metadata": {},
     "output_type": "display_data"
    },
    {
     "data": {
      "text/plain": [
       "'Invalid OTP. Please try again.'"
      ]
     },
     "metadata": {},
     "output_type": "display_data"
    },
    {
     "data": {
      "text/plain": [
       "'MFA is not activated for the account. Please pass the OTP only after activating the MFA for your account.'"
      ]
     },
     "metadata": {},
     "output_type": "display_data"
    }
   ],
   "source": [
    "# MFA enabled user trying to disable mfa\n",
    "with create_mfa_enabled_user() as user_and_session:\n",
    "    user = user_and_session[0]\n",
    "    session = user_and_session[1]\n",
    "    # Negative scenario: Not passing the OTP in the request\n",
    "    with pytest.raises(HTTPException) as e:\n",
    "        disable_mfa(user_uuid_or_name=user.uuid, user=user, session=session)\n",
    "    assert \"OTP is required\" in str(e.value.detail)\n",
    "    display(e.value.detail)\n",
    "    # Negative scenario: passing invalid OTP in the request\n",
    "    with pytest.raises(HTTPException) as e:\n",
    "        random_otp = 111111\n",
    "        disable_mfa(\n",
    "            user_uuid_or_name=user.uuid, otp=random_otp, user=user, session=session\n",
    "        )\n",
    "    assert \"Invalid OTP\" in str(e.value.detail), str(e.value.detail)\n",
    "    display(e.value.detail)\n",
    "\n",
    "# Negatve scenario: Non MFA user passing OTP in the request\n",
    "with pytest.raises(HTTPException) as e:\n",
    "    random_otp = 111111\n",
    "    disable_mfa(user_uuid_or_name=user.uuid, otp=random_otp, user=user, session=session)\n",
    "assert (\n",
    "    str(e.value.detail)\n",
    "    == \"MFA is not activated for the account. Please pass the OTP only after activating the MFA for your account.\"\n",
    ")\n",
    "display(e.value.detail)"
   ]
  },
  {
   "cell_type": "code",
   "execution_count": null,
   "metadata": {},
   "outputs": [],
   "source": [
    "# | exporti\n",
    "\n",
    "\n",
    "@patch(cls_method=True)  # type: ignore\n",
    "def _create(cls: User, user_to_create: UserCreate, session: Session) -> User:\n",
    "    \"\"\"Method to create new user\n",
    "\n",
    "    Args:\n",
    "        user_to_create: UserCreate object\n",
    "        session: DB session object\n",
    "\n",
    "    Returns:\n",
    "        A newly created user object\n",
    "\n",
    "    Raises:\n",
    "        HTTPException: if username or email already exists in database\n",
    "    \"\"\"\n",
    "    user_to_create.password = get_password_hash(user_to_create.password)\n",
    "    new_user = User(**user_to_create.dict())\n",
    "\n",
    "    try:\n",
    "        session.add(new_user)\n",
    "        session.commit()\n",
    "        session.refresh(new_user)\n",
    "    except IntegrityError:\n",
    "        raise HTTPException(\n",
    "            status_code=status.HTTP_400_BAD_REQUEST,\n",
    "            detail=ERRORS[\"USERNAME_OR_EMAIL_ALREADY_EXISTS\"],\n",
    "        )\n",
    "#     create_topics_for_user(username=new_user.username)\n",
    "    return new_user"
   ]
  },
  {
   "cell_type": "code",
   "execution_count": null,
   "metadata": {},
   "outputs": [],
   "source": [
    "# | export\n",
    "\n",
    "\n",
    "@user_router.post(\n",
    "    \"/\",\n",
    "    response_model=UserRead,\n",
    "    responses={\n",
    "        400: {\n",
    "            \"model\": HTTPError,\n",
    "            \"description\": ERRORS[\"USERNAME_OR_EMAIL_ALREADY_EXISTS\"],\n",
    "        },\n",
    "        401: {\"model\": HTTPError, \"description\": ERRORS[\"NOT_ENOUGH_PERMISSION\"]},\n",
    "    },\n",
    ")\n",
    "@require_otp_if_mfa_enabled\n",
    "@ensure_super_user\n",
    "def create_user(\n",
    "    user_to_create: UserCreate,\n",
    "    user: User = Depends(get_current_active_user),\n",
    "    session: Session = Depends(get_session),\n",
    ") -> User:\n",
    "    \"\"\"\n",
    "    Create new user\n",
    "    \"\"\"\n",
    "    user = session.merge(user)\n",
    "\n",
    "    return User._create(user_to_create, session)  # type: ignore"
   ]
  },
  {
   "cell_type": "code",
   "execution_count": null,
   "metadata": {},
   "outputs": [
    {
     "name": "stdout",
     "output_type": "stream",
     "text": [
      "[INFO] airt_service.confluent: Topic mevflppjus_start_training_data created\n",
      "[INFO] airt_service.confluent: Topic mevflppjus_training_data created\n",
      "[INFO] airt_service.confluent: Topic mevflppjus_realtime_data created\n",
      "[INFO] airt_service.confluent: Topic mevflppjus_training_data_status created\n",
      "[INFO] airt_service.confluent: Topic mevflppjus_training_model_status created\n",
      "[INFO] airt_service.confluent: Topic mevflppjus_model_metrics created\n",
      "[INFO] airt_service.confluent: Topic mevflppjus_prediction created\n"
     ]
    },
    {
     "name": "stderr",
     "output_type": "stream",
     "text": [
      "%4|1678443941.537|CONFWARN|rdkafka#producer-1| [thrd:app]: Configuration property group.id is a consumer property and will be ignored by this producer instance\n",
      "%4|1678443941.537|CONFWARN|rdkafka#producer-1| [thrd:app]: Configuration property auto.offset.reset is a consumer property and will be ignored by this producer instance\n"
     ]
    },
    {
     "data": {
      "text/plain": [
       "User(id=1103, uuid=UUID('43cb952d-5748-4735-9b71-4b963fa4cd8f'), username='mevflppjus', first_name='first_name_mevflppjus', last_name='last_name_mevflppjus', email='mevflppjus@email.com', subscription_type=<SubscriptionType.test: 'test'>, super_user=True, disabled=False, created=datetime.datetime(2023, 3, 10, 10, 25, 42), phone_number=None, is_phone_number_verified=False, mfa_secret=**********************************, is_mfa_active=True)"
      ]
     },
     "metadata": {},
     "output_type": "display_data"
    },
    {
     "data": {
      "text/plain": [
       "User(id=1103, uuid=UUID('43cb952d-5748-4735-9b71-4b963fa4cd8f'), username='mevflppjus', first_name='first_name_mevflppjus', last_name='last_name_mevflppjus', email='mevflppjus@email.com', subscription_type=<SubscriptionType.test: 'test'>, super_user=False, disabled=True, created=datetime.datetime(2023, 3, 10, 10, 25, 42), phone_number=None, is_phone_number_verified=False, mfa_secret=****, is_mfa_active=False)"
      ]
     },
     "metadata": {},
     "output_type": "display_data"
    }
   ],
   "source": [
    "# Context manager to create MFA enabled super user\n",
    "@contextmanager\n",
    "def create_mfa_enabled_super_user():\n",
    "    with get_session_with_context() as session:\n",
    "        user_kumaran = session.exec(\n",
    "            select(User).where(User.username == \"kumaran\")\n",
    "        ).one()\n",
    "\n",
    "        username = \"\".join(random.choice(string.ascii_lowercase) for _ in range(10))\n",
    "\n",
    "        super_user_to_create = UserCreate(\n",
    "            username=username,\n",
    "            first_name=f\"first_name_{username}\",\n",
    "            last_name=f\"last_name_{username}\",\n",
    "            email=f\"{username}@email.com\",\n",
    "            password=username,\n",
    "            subscription_type=\"test\",\n",
    "            super_user=True,\n",
    "            otp=None,\n",
    "        )\n",
    "        actual = create_user(\n",
    "            user_to_create=super_user_to_create, user=user_kumaran, session=session\n",
    "        )\n",
    "        assert actual.username == super_user_to_create.username\n",
    "        assert actual.username is not None\n",
    "        assert actual.super_user\n",
    "\n",
    "    with get_session_with_context() as session:\n",
    "        try:\n",
    "            user = session.exec(\n",
    "                select(User).where(User.username == super_user_to_create.username)\n",
    "            ).one()\n",
    "            # generate MFA\n",
    "            actual = generate_mfa_url(user=user, session=session)\n",
    "            assert user.mfa_secret is not None\n",
    "            # activate MFA\n",
    "            activate_mfa_request = ActivateMFARequest(\n",
    "                user_otp=pyotp.TOTP(user.mfa_secret).now()\n",
    "            )\n",
    "            actual = activate_mfa(\n",
    "                activate_mfa_request=activate_mfa_request, user=user, session=session\n",
    "            )\n",
    "            yield user, session\n",
    "        finally:\n",
    "            # deactivate MFA\n",
    "            user = disable_mfa(\n",
    "                user_uuid_or_name=str(user.uuid),\n",
    "                otp=pyotp.TOTP(user.mfa_secret).now(),\n",
    "                user=user,\n",
    "                session=session,\n",
    "            )\n",
    "            with commit_or_rollback(session):\n",
    "                user.super_user = False\n",
    "                user.disabled = True\n",
    "                session.add(user)\n",
    "\n",
    "\n",
    "with create_mfa_enabled_super_user() as user_and_session:\n",
    "    user = user_and_session[0]\n",
    "    session = user_and_session[1]\n",
    "    display(user)\n",
    "    assert user.super_user\n",
    "    assert not user.disabled\n",
    "    assert user.is_mfa_active\n",
    "    assert user.mfa_secret is not None\n",
    "    test_user_id = user.id\n",
    "\n",
    "with get_session_with_context() as session:\n",
    "    user = session.exec(select(User).where(User.id == test_user_id)).one()\n",
    "    display(user)\n",
    "    assert not user.super_user\n",
    "    assert user.disabled\n",
    "    assert not user.is_mfa_active\n",
    "    assert user.mfa_secret is None"
   ]
  },
  {
   "cell_type": "code",
   "execution_count": null,
   "metadata": {},
   "outputs": [
    {
     "name": "stdout",
     "output_type": "stream",
     "text": [
      "[INFO] airt_service.confluent: Topic diuyzywjla_start_training_data created\n",
      "[INFO] airt_service.confluent: Topic diuyzywjla_training_data created\n",
      "[INFO] airt_service.confluent: Topic diuyzywjla_realtime_data created\n",
      "[INFO] airt_service.confluent: Topic diuyzywjla_training_data_status created\n",
      "[INFO] airt_service.confluent: Topic diuyzywjla_training_model_status created\n",
      "[INFO] airt_service.confluent: Topic diuyzywjla_model_metrics created\n",
      "[INFO] airt_service.confluent: Topic diuyzywjla_prediction created\n"
     ]
    },
    {
     "name": "stderr",
     "output_type": "stream",
     "text": [
      "%4|1678443942.004|CONFWARN|rdkafka#producer-2| [thrd:app]: Configuration property group.id is a consumer property and will be ignored by this producer instance\n",
      "%4|1678443942.004|CONFWARN|rdkafka#producer-2| [thrd:app]: Configuration property auto.offset.reset is a consumer property and will be ignored by this producer instance\n"
     ]
    },
    {
     "data": {
      "text/plain": [
       "'OTP is required. Please enter the OTP generated by the authenticator app or the one you requested via SMS.'"
      ]
     },
     "metadata": {},
     "output_type": "display_data"
    },
    {
     "data": {
      "text/plain": [
       "'Invalid OTP. Please try again.'"
      ]
     },
     "metadata": {},
     "output_type": "display_data"
    },
    {
     "name": "stderr",
     "output_type": "stream",
     "text": [
      "%4|1678443942.434|CONFWARN|rdkafka#producer-3| [thrd:app]: Configuration property group.id is a consumer property and will be ignored by this producer instance\n",
      "%4|1678443942.434|CONFWARN|rdkafka#producer-3| [thrd:app]: Configuration property auto.offset.reset is a consumer property and will be ignored by this producer instance\n"
     ]
    },
    {
     "name": "stdout",
     "output_type": "stream",
     "text": [
      "[INFO] airt_service.confluent: Topic nwsjipdczr_start_training_data created\n",
      "[INFO] airt_service.confluent: Topic nwsjipdczr_training_data created\n",
      "[INFO] airt_service.confluent: Topic nwsjipdczr_realtime_data created\n",
      "[INFO] airt_service.confluent: Topic nwsjipdczr_training_data_status created\n",
      "[INFO] airt_service.confluent: Topic nwsjipdczr_training_model_status created\n",
      "[INFO] airt_service.confluent: Topic nwsjipdczr_model_metrics created\n",
      "[INFO] airt_service.confluent: Topic nwsjipdczr_prediction created\n"
     ]
    },
    {
     "data": {
      "text/plain": [
       "User(id=1105, uuid=UUID('cada3785-0d66-43d1-a1d4-d1b562b5f8d1'), username='nwsjipdczr', first_name='first_name_nwsjipdczr', last_name='last_name_nwsjipdczr', email='nwsjipdczr@email.com', subscription_type=<SubscriptionType.test: 'test'>, super_user=True, disabled=False, created=datetime.datetime(2023, 3, 10, 10, 25, 42), phone_number=None, is_phone_number_verified=False, mfa_secret=****, is_mfa_active=False)"
      ]
     },
     "metadata": {},
     "output_type": "display_data"
    }
   ],
   "source": [
    "# MFA enabled super user trying to create new user\n",
    "with create_mfa_enabled_super_user() as user_and_session:\n",
    "    user = user_and_session[0]\n",
    "    session = user_and_session[1]\n",
    "    # Negative scenario: Not passing the OTP in the request\n",
    "    with pytest.raises(HTTPException) as e:\n",
    "        username = \"\".join(random.choice(string.ascii_lowercase) for _ in range(10))\n",
    "        user_to_create = UserCreate(\n",
    "            username=username,\n",
    "            first_name=f\"first_name_{username}\",\n",
    "            last_name=f\"last_name_{username}\",\n",
    "            email=f\"{username}@email.com\",\n",
    "            password=username,\n",
    "            subscription_type=\"test\",\n",
    "            super_user=True,\n",
    "        )\n",
    "        create_user(user_to_create=user_to_create, user=user, session=session)\n",
    "    assert \"OTP is required\" in str(e.value.detail)\n",
    "    display(e.value.detail)\n",
    "\n",
    "    # Negative scenario: passing invalid OTP in the request\n",
    "    with pytest.raises(HTTPException) as e:\n",
    "        random_otp = 111111\n",
    "        username = \"\".join(random.choice(string.ascii_lowercase) for _ in range(10))\n",
    "        user_to_create = UserCreate(\n",
    "            username=username,\n",
    "            first_name=f\"first_name_{username}\",\n",
    "            last_name=f\"last_name_{username}\",\n",
    "            email=f\"{username}@email.com\",\n",
    "            password=username,\n",
    "            subscription_type=\"test\",\n",
    "            super_user=True,\n",
    "            otp=random_otp,\n",
    "        )\n",
    "        create_user(user_to_create=user_to_create, user=user, session=session)\n",
    "    assert \"Invalid OTP\" in str(e.value.detail), str(e.value.detail)\n",
    "    display(e.value.detail)\n",
    "\n",
    "    # Positive scenario: passing valid OTP in the request\n",
    "    username = \"\".join(random.choice(string.ascii_lowercase) for _ in range(10))\n",
    "    user_to_create = UserCreate(\n",
    "        username=username,\n",
    "        first_name=f\"first_name_{username}\",\n",
    "        last_name=f\"last_name_{username}\",\n",
    "        email=f\"{username}@email.com\",\n",
    "        password=username,\n",
    "        subscription_type=\"test\",\n",
    "        super_user=True,\n",
    "        otp=pyotp.TOTP(user_and_session[0].mfa_secret).now(),\n",
    "    )\n",
    "    actual = create_user(user_to_create=user_to_create, user=user, session=session)\n",
    "    display(actual)\n",
    "    assert actual.username == username"
   ]
  },
  {
   "cell_type": "code",
   "execution_count": null,
   "metadata": {},
   "outputs": [
    {
     "data": {
      "text/plain": [
       "'MFA is not activated for the account. Please pass the OTP only after activating the MFA for your account.'"
      ]
     },
     "metadata": {},
     "output_type": "display_data"
    }
   ],
   "source": [
    "# Negative Scenario: Non-MFA super user trying to create a new user by passing OTP\n",
    "with get_session_with_context() as session:\n",
    "    with pytest.raises(HTTPException) as e:\n",
    "        random_otp = 111111\n",
    "        user_kumaran = session.exec(\n",
    "            select(User).where(User.username == \"kumaran\")\n",
    "        ).one()\n",
    "\n",
    "        username = \"\".join(random.choice(string.ascii_lowercase) for _ in range(10))\n",
    "        user_to_create = UserCreate(\n",
    "            username=username,\n",
    "            first_name=f\"first_name_{username}\",\n",
    "            last_name=f\"last_name_{username}\",\n",
    "            email=f\"{username}@email.com\",\n",
    "            password=username,\n",
    "            subscription_type=\"test\",\n",
    "            otp=random_otp,\n",
    "        )\n",
    "        create_user(user_to_create=user_to_create, user=user_kumaran, session=session)\n",
    "\n",
    "assert (\n",
    "    str(e.value.detail)\n",
    "    == \"MFA is not activated for the account. Please pass the OTP only after activating the MFA for your account.\"\n",
    ")\n",
    "display(e.value.detail)"
   ]
  },
  {
   "cell_type": "code",
   "execution_count": null,
   "metadata": {},
   "outputs": [
    {
     "data": {
      "text/plain": [
       "UserCreate(username='cqtrrkeigz', first_name='John', last_name='Wick', email='cqtrrkeigz@email.com', subscription_type=<SubscriptionType.test: 'test'>, super_user=False, phone_number=None, password = '****************************************', otp=None)"
      ]
     },
     "metadata": {},
     "output_type": "display_data"
    },
    {
     "name": "stdout",
     "output_type": "stream",
     "text": [
      "[INFO] airt_service.confluent: Topic cqtrrkeigz_start_training_data created\n",
      "[INFO] airt_service.confluent: Topic cqtrrkeigz_training_data created\n",
      "[INFO] airt_service.confluent: Topic cqtrrkeigz_realtime_data created\n",
      "[INFO] airt_service.confluent: Topic cqtrrkeigz_training_data_status created\n",
      "[INFO] airt_service.confluent: Topic cqtrrkeigz_training_model_status created\n",
      "[INFO] airt_service.confluent: Topic cqtrrkeigz_model_metrics created\n",
      "[INFO] airt_service.confluent: Topic cqtrrkeigz_prediction created\n"
     ]
    },
    {
     "name": "stderr",
     "output_type": "stream",
     "text": [
      "%4|1678443943.119|CONFWARN|rdkafka#producer-4| [thrd:app]: Configuration property group.id is a consumer property and will be ignored by this producer instance\n",
      "%4|1678443943.119|CONFWARN|rdkafka#producer-4| [thrd:app]: Configuration property auto.offset.reset is a consumer property and will be ignored by this producer instance\n"
     ]
    },
    {
     "data": {
      "text/plain": [
       "User(id=1106, uuid=UUID('7b362217-63af-4db6-81c7-a1f91bad0aa4'), username='cqtrrkeigz', first_name='John', last_name='Wick', email='cqtrrkeigz@email.com', subscription_type=<SubscriptionType.test: 'test'>, super_user=False, disabled=False, created=datetime.datetime(2023, 3, 10, 10, 25, 43), phone_number=None, is_phone_number_verified=False, mfa_secret=****, is_mfa_active=False)"
      ]
     },
     "metadata": {},
     "output_type": "display_data"
    },
    {
     "data": {
      "text/plain": [
       "<ExceptionInfo HTTPException(status_code=400, detail='The requested username or email already exists. Try another.') tblen=5>"
      ]
     },
     "metadata": {},
     "output_type": "display_data"
    },
    {
     "data": {
      "text/plain": [
       "<ExceptionInfo HTTPException(status_code=401, detail='You do not have sufficient permission to access this route. Please contact your administrator for help.') tblen=3>"
      ]
     },
     "metadata": {},
     "output_type": "display_data"
    }
   ],
   "source": [
    "with get_session_with_context() as session:\n",
    "    user_kumaran = session.exec(select(User).where(User.username == \"kumaran\")).one()\n",
    "\n",
    "    username = \"\".join(random.choice(string.ascii_lowercase) for _ in range(10))\n",
    "    user_to_create = UserCreate(\n",
    "        username=username,\n",
    "        first_name=\"John\",\n",
    "        last_name=\"Wick\",\n",
    "        email=f\"{username}@email.com\",\n",
    "        password=username,\n",
    "        subscription_type=\"test\",\n",
    "    )\n",
    "    display(user_to_create)\n",
    "    actual = create_user(\n",
    "        user_to_create=user_to_create, user=user_kumaran, session=session\n",
    "    )\n",
    "    display(actual)\n",
    "    assert actual.username == user_to_create.username\n",
    "    assert actual.username is not None\n",
    "\n",
    "    apikey_to_create = APIKeyCreate(expiry=datetime.utcnow() + timedelta(days=1))\n",
    "    apikey_created = create_apikey(\n",
    "        apikey_to_create=apikey_to_create, user=actual, session=session\n",
    "    )\n",
    "    #     display(apikey_created)\n",
    "\n",
    "    # Try to create it again\n",
    "    with pytest.raises(HTTPException) as e:\n",
    "        create_user(user_to_create=user_to_create, user=user_kumaran, session=session)\n",
    "    display(e)\n",
    "\n",
    "# Try to create it with user without create permission\n",
    "with get_session_with_context() as session:\n",
    "    not_super_user = session.exec(\n",
    "        select(User).where(User.username == test_username)\n",
    "    ).one()\n",
    "    with pytest.raises(HTTPException) as e:\n",
    "        create_user(user_to_create=user_to_create, user=not_super_user, session=session)\n",
    "    display(e)"
   ]
  },
  {
   "cell_type": "code",
   "execution_count": null,
   "metadata": {},
   "outputs": [],
   "source": [
    "# | exporti\n",
    "\n",
    "\n",
    "@patch(cls_method=True)  # type: ignore\n",
    "def get(cls: User, uuid: str, session: Session) -> User:\n",
    "    \"\"\"Function to get user object based on given user id\n",
    "\n",
    "    Args:\n",
    "        uuid: User uuid\n",
    "        session: Sqlmodel session\n",
    "\n",
    "    Returns:\n",
    "        A user object for given uuid\n",
    "\n",
    "    Raises:\n",
    "        HTTPException: if uuid does not exists in database\n",
    "    \"\"\"\n",
    "    try:\n",
    "        user = session.exec(select(User).where(User.uuid == uuid)).one()\n",
    "    except NoResultFound:\n",
    "        raise HTTPException(\n",
    "            status_code=status.HTTP_400_BAD_REQUEST,\n",
    "            detail=ERRORS[\"INCORRECT_USER_UUID\"],\n",
    "        )\n",
    "\n",
    "    return user"
   ]
  },
  {
   "cell_type": "code",
   "execution_count": null,
   "metadata": {},
   "outputs": [],
   "source": [
    "# | export\n",
    "\n",
    "\n",
    "class UserUpdateRequest(BaseModel):\n",
    "    \"\"\"Request object to update user\n",
    "\n",
    "    Args:\n",
    "        username: Updated username\n",
    "        first_name: Updated first name\n",
    "        last_name: Updated last name\n",
    "        email: Updated email\n",
    "        otp: Dynamically generated six-digit verification code from the authenticator app\n",
    "    \"\"\"\n",
    "\n",
    "    username: Optional[str] = None\n",
    "    first_name: Optional[str] = None\n",
    "    last_name: Optional[str] = None\n",
    "    email: Optional[str] = None\n",
    "    otp: Optional[str] = None"
   ]
  },
  {
   "cell_type": "code",
   "execution_count": null,
   "metadata": {},
   "outputs": [],
   "source": [
    "# | exporti\n",
    "\n",
    "\n",
    "@patch(cls_method=True)  # type: ignore\n",
    "def check_username_exists(cls: User, username: str, session: Session) -> None:\n",
    "    \"\"\"Check given username already exists in database or not\n",
    "\n",
    "    Args:\n",
    "        username: Username to check\n",
    "        session: Sqlmodel session\n",
    "\n",
    "    Raises:\n",
    "        HTTPException: if username exists\n",
    "    \"\"\"\n",
    "    try:\n",
    "        session.exec(select(User).where(User.username == username)).one()\n",
    "    except NoResultFound:\n",
    "        return\n",
    "\n",
    "    raise HTTPException(\n",
    "        status_code=status.HTTP_400_BAD_REQUEST,\n",
    "        detail=ERRORS[\"USERNAME_ALREADY_EXISTS\"],\n",
    "    )"
   ]
  },
  {
   "cell_type": "code",
   "execution_count": null,
   "metadata": {},
   "outputs": [],
   "source": [
    "# | exporti\n",
    "\n",
    "\n",
    "def check_valid_email(email: str) -> str:\n",
    "    \"\"\"Check the given email is valid or not\n",
    "\n",
    "    Args:\n",
    "        email: Email to check\n",
    "\n",
    "    Returns:\n",
    "        The email, if its valid\n",
    "\n",
    "    Raises:\n",
    "        HTTPException: if email is an invalid one\n",
    "    \"\"\"\n",
    "    email_regex = re.compile(r\"[^@]+@[^@]+\\.[^@]+\")\n",
    "    if not email_regex.match(email):\n",
    "        raise HTTPException(\n",
    "            status_code=status.HTTP_400_BAD_REQUEST,\n",
    "            detail=ERRORS[\"INVALID_EMAIL\"],\n",
    "        )\n",
    "    return email"
   ]
  },
  {
   "cell_type": "code",
   "execution_count": null,
   "metadata": {},
   "outputs": [
    {
     "data": {
      "text/plain": [
       "'valid_email@mail.com'"
      ]
     },
     "execution_count": null,
     "metadata": {},
     "output_type": "execute_result"
    }
   ],
   "source": [
    "email = \"valid_email@mail.com\"\n",
    "expected = email\n",
    "actual = check_valid_email(email)\n",
    "assert actual == expected, expected\n",
    "actual"
   ]
  },
  {
   "cell_type": "code",
   "execution_count": null,
   "metadata": {},
   "outputs": [
    {
     "data": {
      "text/plain": [
       "'Invalid email format. Please try again.'"
      ]
     },
     "execution_count": null,
     "metadata": {},
     "output_type": "execute_result"
    }
   ],
   "source": [
    "email = \"invalid_email\"\n",
    "with pytest.raises(HTTPException) as e:\n",
    "    check_valid_email(email)\n",
    "\n",
    "assert \"Invalid email\" in str(e.value.detail), str(e.value.detail)\n",
    "str(e.value.detail)"
   ]
  },
  {
   "cell_type": "code",
   "execution_count": null,
   "metadata": {},
   "outputs": [],
   "source": [
    "# | exporti\n",
    "\n",
    "\n",
    "@patch(cls_method=True)  # type: ignore\n",
    "def check_email_exists(cls: User, email: str, session: Session) -> None:\n",
    "    \"\"\"Check given email already exists in database or not\n",
    "\n",
    "    Args:\n",
    "        email: Email to check\n",
    "        session: Sqlmodel session\n",
    "\n",
    "    Raises:\n",
    "        HTTPException: if email is an invalid one or if email exists\n",
    "    \"\"\"\n",
    "\n",
    "    email = check_valid_email(email)\n",
    "\n",
    "    try:\n",
    "        session.exec(select(User).where(User.email == email)).one()\n",
    "    except NoResultFound:\n",
    "        return\n",
    "\n",
    "    raise HTTPException(\n",
    "        status_code=status.HTTP_400_BAD_REQUEST,\n",
    "        detail=ERRORS[\"EMAIL_ALREADY_EXISTS\"],\n",
    "    )"
   ]
  },
  {
   "cell_type": "code",
   "execution_count": null,
   "metadata": {},
   "outputs": [],
   "source": [
    "# | exporti\n",
    "\n",
    "\n",
    "@patch  # type: ignore\n",
    "def _update(self: User, to_update: UserUpdateRequest, session: Session) -> User:\n",
    "    if to_update.username:\n",
    "        User.check_username_exists(to_update.username, session)\n",
    "        self.username = to_update.username\n",
    "\n",
    "    if to_update.email:\n",
    "        User.check_email_exists(to_update.email, session)\n",
    "        self.email = to_update.email  # type: ignore\n",
    "\n",
    "    if to_update.first_name:\n",
    "        self.first_name = to_update.first_name\n",
    "    if to_update.last_name:\n",
    "        self.last_name = to_update.last_name\n",
    "\n",
    "    with commit_or_rollback(session):\n",
    "        session.add(self)\n",
    "\n",
    "    return self"
   ]
  },
  {
   "cell_type": "code",
   "execution_count": null,
   "metadata": {},
   "outputs": [],
   "source": [
    "# | export\n",
    "\n",
    "\n",
    "@user_router.post(\n",
    "    \"/{user_uuid_or_name}/update\",\n",
    "    response_model=UserRead,\n",
    "    responses={\n",
    "        400: {\n",
    "            \"model\": HTTPError,\n",
    "            \"description\": ERRORS[\"USERNAME_OR_EMAIL_ALREADY_EXISTS\"],\n",
    "        },\n",
    "        401: {\n",
    "            \"model\": HTTPError,\n",
    "            \"description\": ERRORS[\"NOT_ENOUGH_PERMISSION\"],\n",
    "        },\n",
    "    },\n",
    ")\n",
    "@require_otp_if_mfa_enabled\n",
    "def update_user(\n",
    "    to_update: UserUpdateRequest,\n",
    "    user_uuid_or_name: str,\n",
    "    user: User = Depends(get_current_active_user),\n",
    "    session: Session = Depends(get_session),\n",
    ") -> User:\n",
    "    \"\"\"Update user\"\"\"\n",
    "    user = session.merge(user)\n",
    "\n",
    "    user_to_update = get_valid_user(user, session, user_uuid_or_name)\n",
    "    return user_to_update._update(to_update, session)  # type: ignore"
   ]
  },
  {
   "cell_type": "code",
   "execution_count": null,
   "metadata": {},
   "outputs": [
    {
     "data": {
      "text/plain": [
       "'OTP is required. Please enter the OTP generated by the authenticator app or the one you requested via SMS.'"
      ]
     },
     "metadata": {},
     "output_type": "display_data"
    },
    {
     "data": {
      "text/plain": [
       "'Invalid OTP. Please try again.'"
      ]
     },
     "metadata": {},
     "output_type": "display_data"
    },
    {
     "data": {
      "text/plain": [
       "User(id=1108, uuid=UUID('5695cb8f-2f53-4139-8ceb-cae7ff418a40'), username='weinxqkvjf', first_name='updated_first_name', last_name='updated_last_name', email='weinxqkvjf@email.com', subscription_type=<SubscriptionType.test: 'test'>, super_user=False, disabled=False, created=datetime.datetime(2023, 3, 10, 10, 25, 44), phone_number=None, is_phone_number_verified=False, mfa_secret=**********************************, is_mfa_active=True)"
      ]
     },
     "metadata": {},
     "output_type": "display_data"
    },
    {
     "data": {
      "text/plain": [
       "\"verify_password('a_new_password', actual.password)=False\""
      ]
     },
     "metadata": {},
     "output_type": "display_data"
    }
   ],
   "source": [
    "# MFA enabled normal user trying to update their details\n",
    "with create_mfa_enabled_user() as user_and_session:\n",
    "    user = user_and_session[0]\n",
    "    session = user_and_session[1]\n",
    "    # Negative scenario: Not passing the OTP in the request\n",
    "    with pytest.raises(HTTPException) as e:\n",
    "        user_update_request = UserUpdateRequest(\n",
    "            username=user.username,\n",
    "            first_name=\"first_name_update\",\n",
    "            last_name=\"last_name_update\",\n",
    "            email=f\"{username}@email.com\",\n",
    "        )\n",
    "\n",
    "        update_user(\n",
    "            to_update=user_update_request,\n",
    "            user_uuid_or_name=str(user.uuid),\n",
    "            user=user,\n",
    "            session=session,\n",
    "        )\n",
    "    assert \"OTP is required\" in str(e.value.detail)\n",
    "    display(e.value.detail)\n",
    "\n",
    "    # Negative scenario: passing invalid OTP in the request\n",
    "    with pytest.raises(HTTPException) as e:\n",
    "        random_otp = 111111\n",
    "        user_update_request = UserUpdateRequest(\n",
    "            username=user.username,\n",
    "            first_name=\"first_name_update\",\n",
    "            last_name=\"last_name_update\",\n",
    "            email=f\"{username}@email.com\",\n",
    "            otp=random_otp,\n",
    "        )\n",
    "\n",
    "        update_user(\n",
    "            to_update=user_update_request,\n",
    "            user_uuid_or_name=str(user.uuid),\n",
    "            user=user,\n",
    "            session=session,\n",
    "        )\n",
    "    assert \"Invalid OTP\" in str(e.value.detail), str(e.value.detail)\n",
    "    display(e.value.detail)\n",
    "\n",
    "    # Positive scenario: passing valid OTP in the request\n",
    "    user_update_request = UserUpdateRequest(\n",
    "        first_name=\"updated_first_name\",\n",
    "        last_name=\"updated_last_name\",\n",
    "        password=\"a_new_password\",\n",
    "        otp=pyotp.TOTP(user_and_session[0].mfa_secret).now(),\n",
    "    )\n",
    "    actual = update_user(\n",
    "        to_update=user_update_request,\n",
    "        user_uuid_or_name=user.username,\n",
    "        user=user,\n",
    "        session=session,\n",
    "    )\n",
    "    display(actual)\n",
    "    assert actual.first_name == \"updated_first_name\"\n",
    "    assert actual.last_name == \"updated_last_name\"\n",
    "\n",
    "    display(f\"{verify_password('a_new_password', actual.password)=}\")\n",
    "    assert not verify_password(\"a_new_password\", actual.password)"
   ]
  },
  {
   "cell_type": "code",
   "execution_count": null,
   "metadata": {},
   "outputs": [
    {
     "data": {
      "text/plain": [
       "'MFA is not activated for the account. Please pass the OTP only after activating the MFA for your account.'"
      ]
     },
     "metadata": {},
     "output_type": "display_data"
    }
   ],
   "source": [
    "# Negative Scenario: Non-MFA user trying to update their details by passing OTP\n",
    "with get_session_with_context() as session:\n",
    "    with pytest.raises(HTTPException) as e:\n",
    "        random_otp = 111111\n",
    "        test_username_for_update = create_user_for_testing()\n",
    "        user_to_update = session.exec(\n",
    "            select(User).where(User.username == test_username_for_update)\n",
    "        ).one()\n",
    "\n",
    "        username = \"\".join(random.choice(string.ascii_lowercase) for _ in range(10))\n",
    "        user_update_request = UserUpdateRequest(\n",
    "            username=username,\n",
    "            first_name=\"first_name_update\",\n",
    "            last_name=\"last_name_update\",\n",
    "            email=f\"{username}@email.com\",\n",
    "            password=\"a_new_password\",\n",
    "            otp=random_otp,\n",
    "        )\n",
    "\n",
    "        update_user(\n",
    "            to_update=user_update_request,\n",
    "            user_uuid_or_name=str(user_to_update.uuid),\n",
    "            user=user_to_update,\n",
    "            session=session,\n",
    "        )\n",
    "assert (\n",
    "    str(e.value.detail)\n",
    "    == \"MFA is not activated for the account. Please pass the OTP only after activating the MFA for your account.\"\n",
    ")\n",
    "display(e.value.detail)"
   ]
  },
  {
   "cell_type": "code",
   "execution_count": null,
   "metadata": {},
   "outputs": [
    {
     "data": {
      "text/plain": [
       "\"actual.username='fdloqdanwh'\""
      ]
     },
     "metadata": {},
     "output_type": "display_data"
    }
   ],
   "source": [
    "with get_session_with_context() as session:\n",
    "    test_username_for_update = create_user_for_testing()\n",
    "    user_to_update = session.exec(\n",
    "        select(User).where(User.username == test_username_for_update)\n",
    "    ).one()\n",
    "\n",
    "    username = \"\".join(random.choice(string.ascii_lowercase) for _ in range(10))\n",
    "    user_update_request = UserUpdateRequest(\n",
    "        username=username,\n",
    "        first_name=\"first_name_update\",\n",
    "        last_name=\"last_name_update\",\n",
    "        email=f\"{username}@email.com\",\n",
    "    )\n",
    "\n",
    "    actual = update_user(\n",
    "        to_update=user_update_request,\n",
    "        user_uuid_or_name=str(user_to_update.uuid),\n",
    "        user=user_to_update,\n",
    "        session=session,\n",
    "    )\n",
    "\n",
    "    display(f\"{actual.username=}\")\n",
    "\n",
    "    assert actual.id == user_to_update.id\n",
    "    assert actual.username == user_update_request.username\n",
    "    assert actual.first_name == user_update_request.first_name\n",
    "    assert actual.last_name == user_update_request.last_name\n",
    "    assert actual.email == user_update_request.email"
   ]
  },
  {
   "cell_type": "code",
   "execution_count": null,
   "metadata": {},
   "outputs": [
    {
     "data": {
      "text/plain": [
       "<ExceptionInfo HTTPException(status_code=400, detail='Invalid email format. Please try again.') tblen=6>"
      ]
     },
     "metadata": {},
     "output_type": "display_data"
    },
    {
     "data": {
      "text/plain": [
       "<ExceptionInfo HTTPException(status_code=400, detail='The requested username is already taken. Try another.') tblen=5>"
      ]
     },
     "metadata": {},
     "output_type": "display_data"
    },
    {
     "data": {
      "text/plain": [
       "<ExceptionInfo HTTPException(status_code=400, detail='The requested Email is already taken. Try another.') tblen=5>"
      ]
     },
     "metadata": {},
     "output_type": "display_data"
    }
   ],
   "source": [
    "with get_session_with_context() as session:\n",
    "    test_username_for_update = create_user_for_testing()\n",
    "    user_to_update = session.exec(\n",
    "        select(User).where(User.username == test_username_for_update)\n",
    "    ).one()\n",
    "\n",
    "    user_update_request = UserUpdateRequest(\n",
    "        username=\"\".join(random.choice(string.ascii_lowercase) for _ in range(10)),\n",
    "        first_name=\"first_name_update\",\n",
    "        last_name=\"last_name_update\",\n",
    "        email=\"not_a_valid_email\",\n",
    "    )\n",
    "    with pytest.raises(HTTPException) as e:\n",
    "        actual = update_user(\n",
    "            to_update=user_update_request,\n",
    "            user_uuid_or_name=str(user_to_update.uuid),\n",
    "            user=user_to_update,\n",
    "            session=session,\n",
    "        )\n",
    "    display(e)\n",
    "\n",
    "    user_update_request = UserUpdateRequest(\n",
    "        username=\"kumaran\",\n",
    "        first_name=\"first_name_update\",\n",
    "        last_name=\"last_name_update\",\n",
    "        email=\"not_a_valid_email\",\n",
    "    )\n",
    "    with pytest.raises(HTTPException) as e:\n",
    "        actual = update_user(\n",
    "            to_update=user_update_request,\n",
    "            user_uuid_or_name=str(user_to_update.uuid),\n",
    "            user=user_to_update,\n",
    "            session=session,\n",
    "        )\n",
    "    display(e)\n",
    "\n",
    "    user_update_request = UserUpdateRequest(\n",
    "        username=\"\".join(random.choice(string.ascii_lowercase) for _ in range(10)),\n",
    "        first_name=\"first_name_update\",\n",
    "        last_name=\"last_name_update\",\n",
    "        email=\"kumaran@airt.ai\",\n",
    "    )\n",
    "    with pytest.raises(HTTPException) as e:\n",
    "        actual = update_user(\n",
    "            to_update=user_update_request,\n",
    "            user_uuid_or_name=str(user_to_update.uuid),\n",
    "            user=user_to_update,\n",
    "            session=session,\n",
    "        )\n",
    "    display(e)"
   ]
  },
  {
   "cell_type": "code",
   "execution_count": null,
   "metadata": {},
   "outputs": [],
   "source": [
    "# | exporti\n",
    "\n",
    "\n",
    "@patch  # type: ignore\n",
    "def disable(self: User, session: Session) -> User:\n",
    "    \"\"\"Disable user\n",
    "\n",
    "    Args:\n",
    "        session: Sqlmodel session\n",
    "\n",
    "    Returns:\n",
    "        The disabled user object\n",
    "\n",
    "    Raises:\n",
    "        HTTPException: if user is already disabled\n",
    "    \"\"\"\n",
    "    if self.disabled:\n",
    "        raise HTTPException(\n",
    "            status_code=status.HTTP_400_BAD_REQUEST,\n",
    "            detail=ERRORS[\"USER_ALREADY_DISABLED\"],\n",
    "        )\n",
    "\n",
    "    with commit_or_rollback(session):\n",
    "        self.disabled = True\n",
    "        session.add(self)\n",
    "\n",
    "        for apikey in self.apikeys:\n",
    "            apikey.disabled = True\n",
    "            session.add(apikey)\n",
    "    return self"
   ]
  },
  {
   "cell_type": "code",
   "execution_count": null,
   "metadata": {},
   "outputs": [],
   "source": [
    "# | export\n",
    "\n",
    "\n",
    "@user_router.delete(\n",
    "    \"/{user_uuid_or_name}\",\n",
    "    response_model=UserRead,\n",
    "    responses={\n",
    "        400: {\"model\": HTTPError, \"description\": ERRORS[\"INCORRECT_USER_UUID\"]},\n",
    "        401: {\n",
    "            \"model\": HTTPError,\n",
    "            \"description\": ERRORS[\"NOT_ENOUGH_PERMISSION\"],\n",
    "        },\n",
    "    },\n",
    ")\n",
    "@require_otp_if_mfa_enabled\n",
    "@ensure_super_user\n",
    "def disable_user(\n",
    "    user_uuid_or_name: str,\n",
    "    otp: Optional[str] = None,\n",
    "    user: User = Depends(get_current_active_user),\n",
    "    session: Session = Depends(get_session),\n",
    ") -> User:\n",
    "    \"\"\"Disable user\"\"\"\n",
    "    user = session.merge(user)\n",
    "\n",
    "    user_to_disable = get_valid_user(user, session, user_uuid_or_name)\n",
    "\n",
    "    return user_to_disable.disable(session)"
   ]
  },
  {
   "cell_type": "code",
   "execution_count": null,
   "metadata": {},
   "outputs": [
    {
     "name": "stdout",
     "output_type": "stream",
     "text": [
      "[INFO] airt_service.confluent: Topic cbocsrgsgl_start_training_data created\n",
      "[INFO] airt_service.confluent: Topic cbocsrgsgl_training_data created\n",
      "[INFO] airt_service.confluent: Topic cbocsrgsgl_realtime_data created\n",
      "[INFO] airt_service.confluent: Topic cbocsrgsgl_training_data_status created\n",
      "[INFO] airt_service.confluent: Topic cbocsrgsgl_training_model_status created\n",
      "[INFO] airt_service.confluent: Topic cbocsrgsgl_model_metrics created\n",
      "[INFO] airt_service.confluent: Topic cbocsrgsgl_prediction created\n"
     ]
    },
    {
     "name": "stderr",
     "output_type": "stream",
     "text": [
      "%4|1678443945.273|CONFWARN|rdkafka#producer-5| [thrd:app]: Configuration property group.id is a consumer property and will be ignored by this producer instance\n",
      "%4|1678443945.273|CONFWARN|rdkafka#producer-5| [thrd:app]: Configuration property auto.offset.reset is a consumer property and will be ignored by this producer instance\n"
     ]
    },
    {
     "data": {
      "text/plain": [
       "'OTP is required. Please enter the OTP generated by the authenticator app or the one you requested via SMS.'"
      ]
     },
     "metadata": {},
     "output_type": "display_data"
    },
    {
     "data": {
      "text/plain": [
       "'Invalid OTP. Please try again.'"
      ]
     },
     "metadata": {},
     "output_type": "display_data"
    },
    {
     "name": "stdout",
     "output_type": "stream",
     "text": [
      "[INFO] airt_service.confluent: Topic gdswtqfdfm_start_training_data created\n",
      "[INFO] airt_service.confluent: Topic gdswtqfdfm_training_data created\n",
      "[INFO] airt_service.confluent: Topic gdswtqfdfm_realtime_data created\n",
      "[INFO] airt_service.confluent: Topic gdswtqfdfm_training_data_status created\n",
      "[INFO] airt_service.confluent: Topic gdswtqfdfm_training_model_status created\n",
      "[INFO] airt_service.confluent: Topic gdswtqfdfm_model_metrics created\n",
      "[INFO] airt_service.confluent: Topic gdswtqfdfm_prediction created\n"
     ]
    },
    {
     "name": "stderr",
     "output_type": "stream",
     "text": [
      "%4|1678443945.687|CONFWARN|rdkafka#producer-6| [thrd:app]: Configuration property group.id is a consumer property and will be ignored by this producer instance\n",
      "%4|1678443945.687|CONFWARN|rdkafka#producer-6| [thrd:app]: Configuration property auto.offset.reset is a consumer property and will be ignored by this producer instance\n"
     ]
    },
    {
     "data": {
      "text/plain": [
       "User(id=1113, uuid=UUID('80e5893d-4604-4856-9a9f-25abab523d91'), username='gdswtqfdfm', first_name='first_name_gdswtqfdfm', last_name='last_name_gdswtqfdfm', email='gdswtqfdfm@email.com', subscription_type=<SubscriptionType.test: 'test'>, super_user=False, disabled=True, created=datetime.datetime(2023, 3, 10, 10, 25, 46), phone_number=None, is_phone_number_verified=False, mfa_secret=****, is_mfa_active=False)"
      ]
     },
     "metadata": {},
     "output_type": "display_data"
    }
   ],
   "source": [
    "# MFA enabled super user trying to disable a user\n",
    "with create_mfa_enabled_super_user() as user_and_session:\n",
    "    user = user_and_session[0]\n",
    "    session = user_and_session[1]\n",
    "    # Negative scenario: Not passing the OTP in the request\n",
    "    with pytest.raises(HTTPException) as e:\n",
    "        user_to_disable = session.exec(\n",
    "            select(User).where(User.username == user_to_create.username)\n",
    "        ).one()\n",
    "\n",
    "        disable_user(\n",
    "            user_uuid_or_name=str(user_to_disable.uuid), user=user, session=session\n",
    "        )\n",
    "    assert \"OTP is required\" in str(e.value.detail)\n",
    "    display(e.value.detail)\n",
    "\n",
    "    # Negative scenario: passing invalid OTP in the request\n",
    "    with pytest.raises(HTTPException) as e:\n",
    "        random_otp = 111111\n",
    "        user_to_disable = session.exec(\n",
    "            select(User).where(User.username == user_to_create.username)\n",
    "        ).one()\n",
    "\n",
    "        disable_user(\n",
    "            user_uuid_or_name=str(user_to_disable.uuid),\n",
    "            otp=random_otp,\n",
    "            user=user,\n",
    "            session=session,\n",
    "        )\n",
    "    assert \"Invalid OTP\" in str(e.value.detail), str(e.value.detail)\n",
    "    display(e.value.detail)\n",
    "\n",
    "    # Positive scenario: passing valid OTP in the request\n",
    "    username = \"\".join(random.choice(string.ascii_lowercase) for _ in range(10))\n",
    "    user_to_create_request = UserCreate(\n",
    "        username=username,\n",
    "        first_name=f\"first_name_{username}\",\n",
    "        last_name=f\"last_name_{username}\",\n",
    "        email=f\"{username}@email.com\",\n",
    "        password=username,\n",
    "        subscription_type=\"test\",\n",
    "        otp=pyotp.TOTP(user_and_session[0].mfa_secret).now(),\n",
    "    )\n",
    "    sample_user = create_user(\n",
    "        user_to_create=user_to_create_request, user=user, session=session\n",
    "    )\n",
    "    user_to_disable = session.exec(\n",
    "        select(User).where(User.username == sample_user.username)\n",
    "    ).one()\n",
    "\n",
    "    actual = disable_user(\n",
    "        user_uuid_or_name=str(user_to_disable.username),\n",
    "        otp=pyotp.TOTP(user_and_session[0].mfa_secret).now(),\n",
    "        user=user,\n",
    "        session=session,\n",
    "    )\n",
    "    display(actual)\n",
    "    assert actual.username == sample_user.username\n",
    "\n",
    "    # For following test cases\n",
    "    sample_user_id = user.id"
   ]
  },
  {
   "cell_type": "code",
   "execution_count": null,
   "metadata": {},
   "outputs": [
    {
     "data": {
      "text/plain": [
       "'MFA is not activated for the account. Please pass the OTP only after activating the MFA for your account.'"
      ]
     },
     "metadata": {},
     "output_type": "display_data"
    }
   ],
   "source": [
    "# Negative Scenario: Non-MFA enabled super user trying to disable new user by passing OTP\n",
    "with get_session_with_context() as session:\n",
    "    user = session.exec(select(User).where(User.id == sample_user_id)).one()\n",
    "    with pytest.raises(HTTPException) as e:\n",
    "        random_otp = 111111\n",
    "        user_to_disable = session.exec(\n",
    "            select(User).where(User.username == user_to_create.username)\n",
    "        ).one()\n",
    "\n",
    "        disable_user(\n",
    "            user_uuid_or_name=str(user_to_disable.uuid),\n",
    "            otp=random_otp,\n",
    "            user=user,\n",
    "            session=session,\n",
    "        )\n",
    "    assert (\n",
    "        str(e.value.detail)\n",
    "        == \"MFA is not activated for the account. Please pass the OTP only after activating the MFA for your account.\"\n",
    "    )\n",
    "    display(e.value.detail)"
   ]
  },
  {
   "cell_type": "code",
   "execution_count": null,
   "metadata": {},
   "outputs": [
    {
     "data": {
      "text/plain": [
       "User(id=1106, uuid=UUID('7b362217-63af-4db6-81c7-a1f91bad0aa4'), username='cqtrrkeigz', first_name='John', last_name='Wick', email='cqtrrkeigz@email.com', subscription_type=<SubscriptionType.test: 'test'>, super_user=False, disabled=True, created=datetime.datetime(2023, 3, 10, 10, 25, 43), phone_number=None, is_phone_number_verified=False, mfa_secret=****, is_mfa_active=False)"
      ]
     },
     "metadata": {},
     "output_type": "display_data"
    },
    {
     "data": {
      "text/plain": [
       "APIKey(uuid=UUID('6fec837a-130a-413b-bdd7-335a55a89847'), name=None, created=datetime.datetime(2023, 3, 10, 10, 25, 43), expiry=datetime.datetime(2023, 3, 11, 10, 25, 43), id=112, disabled=True, user_id=1106)"
      ]
     },
     "metadata": {},
     "output_type": "display_data"
    }
   ],
   "source": [
    "with get_session_with_context() as session:\n",
    "    user_kumaran = session.exec(select(User).where(User.username == \"kumaran\")).one()\n",
    "\n",
    "    user_to_disable = session.exec(\n",
    "        select(User).where(User.username == user_to_create.username)\n",
    "    ).one()\n",
    "\n",
    "    # Try to do it with user without create permission\n",
    "    not_super_user = session.exec(\n",
    "        select(User).where(User.username == test_username)\n",
    "    ).one()\n",
    "    with pytest.raises(HTTPException) as e:\n",
    "        disable_user(\n",
    "            user_uuid_or_name=str(user_to_disable.uuid),\n",
    "            user=not_super_user,\n",
    "            session=session,\n",
    "        )\n",
    "\n",
    "    actual = disable_user(\n",
    "        user_uuid_or_name=str(user_to_disable.uuid), user=user_kumaran, session=session\n",
    "    )\n",
    "    display(actual)\n",
    "    assert actual.disabled == True\n",
    "\n",
    "    for apikey in actual.apikeys:\n",
    "        display(apikey)\n",
    "        assert apikey.disabled == True"
   ]
  },
  {
   "cell_type": "code",
   "execution_count": null,
   "metadata": {},
   "outputs": [],
   "source": [
    "# | exporti\n",
    "\n",
    "\n",
    "@patch  # type: ignore\n",
    "def enable(self: User, session: Session) -> User:\n",
    "    \"\"\"Enable user\n",
    "\n",
    "    Args:\n",
    "        session: Sqlmodel session\n",
    "\n",
    "    Returns:\n",
    "        The enabled user object\n",
    "    \"\"\"\n",
    "    if not self.disabled:\n",
    "        raise HTTPException(\n",
    "            status_code=status.HTTP_400_BAD_REQUEST,\n",
    "            detail=ERRORS[\"USER_ALREADY_ENABLED\"],\n",
    "        )\n",
    "    with commit_or_rollback(session):\n",
    "        self.disabled = False\n",
    "        session.add(self)\n",
    "    return self"
   ]
  },
  {
   "cell_type": "code",
   "execution_count": null,
   "metadata": {},
   "outputs": [],
   "source": [
    "# | export\n",
    "\n",
    "\n",
    "@user_router.get(\n",
    "    \"/{user_uuid_or_name}/enable\",\n",
    "    response_model=UserRead,\n",
    "    responses={\n",
    "        400: {\"model\": HTTPError, \"description\": ERRORS[\"INCORRECT_USER_UUID\"]},\n",
    "        401: {\n",
    "            \"model\": HTTPError,\n",
    "            \"description\": ERRORS[\"NOT_ENOUGH_PERMISSION\"],\n",
    "        },\n",
    "    },\n",
    ")\n",
    "@require_otp_if_mfa_enabled\n",
    "@ensure_super_user\n",
    "def enable_user(\n",
    "    user_uuid_or_name: str,\n",
    "    otp: Optional[str] = None,\n",
    "    user: User = Depends(get_current_active_user),\n",
    "    session: Session = Depends(get_session),\n",
    ") -> User:\n",
    "    \"\"\"Enable user\"\"\"\n",
    "    user = session.merge(user)\n",
    "    user_to_enable = get_valid_user(user, session, user_uuid_or_name)\n",
    "\n",
    "    return user_to_enable.enable(session)"
   ]
  },
  {
   "cell_type": "code",
   "execution_count": null,
   "metadata": {},
   "outputs": [
    {
     "name": "stdout",
     "output_type": "stream",
     "text": [
      "[INFO] airt_service.confluent: Topic zncpmnqsfk_start_training_data created\n",
      "[INFO] airt_service.confluent: Topic zncpmnqsfk_training_data created\n",
      "[INFO] airt_service.confluent: Topic zncpmnqsfk_realtime_data created\n",
      "[INFO] airt_service.confluent: Topic zncpmnqsfk_training_data_status created\n",
      "[INFO] airt_service.confluent: Topic zncpmnqsfk_training_model_status created\n",
      "[INFO] airt_service.confluent: Topic zncpmnqsfk_model_metrics created\n",
      "[INFO] airt_service.confluent: Topic zncpmnqsfk_prediction created\n"
     ]
    },
    {
     "name": "stderr",
     "output_type": "stream",
     "text": [
      "%4|1678443946.190|CONFWARN|rdkafka#producer-7| [thrd:app]: Configuration property group.id is a consumer property and will be ignored by this producer instance\n",
      "%4|1678443946.190|CONFWARN|rdkafka#producer-7| [thrd:app]: Configuration property auto.offset.reset is a consumer property and will be ignored by this producer instance\n"
     ]
    },
    {
     "data": {
      "text/plain": [
       "'OTP is required. Please enter the OTP generated by the authenticator app or the one you requested via SMS.'"
      ]
     },
     "metadata": {},
     "output_type": "display_data"
    },
    {
     "data": {
      "text/plain": [
       "'Invalid OTP. Please try again.'"
      ]
     },
     "metadata": {},
     "output_type": "display_data"
    },
    {
     "name": "stderr",
     "output_type": "stream",
     "text": [
      "%4|1678443946.615|CONFWARN|rdkafka#producer-8| [thrd:app]: Configuration property group.id is a consumer property and will be ignored by this producer instance\n",
      "%4|1678443946.615|CONFWARN|rdkafka#producer-8| [thrd:app]: Configuration property auto.offset.reset is a consumer property and will be ignored by this producer instance\n"
     ]
    },
    {
     "name": "stdout",
     "output_type": "stream",
     "text": [
      "[INFO] airt_service.confluent: Topic nnpyrcsyql_start_training_data created\n",
      "[INFO] airt_service.confluent: Topic nnpyrcsyql_training_data created\n",
      "[INFO] airt_service.confluent: Topic nnpyrcsyql_realtime_data created\n",
      "[INFO] airt_service.confluent: Topic nnpyrcsyql_training_data_status created\n",
      "[INFO] airt_service.confluent: Topic nnpyrcsyql_training_model_status created\n",
      "[INFO] airt_service.confluent: Topic nnpyrcsyql_model_metrics created\n",
      "[INFO] airt_service.confluent: Topic nnpyrcsyql_prediction created\n"
     ]
    },
    {
     "data": {
      "text/plain": [
       "User(id=1115, uuid=UUID('46509e33-ed71-416a-9f53-de26a4076f60'), username='nnpyrcsyql', first_name='first_name_nnpyrcsyql', last_name='last_name_nnpyrcsyql', email='nnpyrcsyql@email.com', subscription_type=<SubscriptionType.test: 'test'>, super_user=False, disabled=False, created=datetime.datetime(2023, 3, 10, 10, 25, 47), phone_number=None, is_phone_number_verified=False, mfa_secret=****, is_mfa_active=False)"
      ]
     },
     "metadata": {},
     "output_type": "display_data"
    }
   ],
   "source": [
    "# MFA enabled super user trying to enable a user\n",
    "with create_mfa_enabled_super_user() as user_and_session:\n",
    "    user = user_and_session[0]\n",
    "    session = user_and_session[1]\n",
    "\n",
    "    disabled_user = session.exec(select(User).where(User.id == sample_user_id)).one()\n",
    "    # Negative scenario: Not passing the OTP in the request\n",
    "    with pytest.raises(HTTPException) as e:\n",
    "        enable_user(\n",
    "            user_uuid_or_name=str(disabled_user.uuid), user=user, session=session\n",
    "        )\n",
    "    assert \"OTP is required\" in str(e.value.detail)\n",
    "    display(e.value.detail)\n",
    "\n",
    "    # Negative scenario: passing invalid OTP in the request\n",
    "    with pytest.raises(HTTPException) as e:\n",
    "        random_otp = 111111\n",
    "        enable_user(\n",
    "            user_uuid_or_name=str(disabled_user.uuid),\n",
    "            otp=random_otp,\n",
    "            user=user,\n",
    "            session=session,\n",
    "        )\n",
    "    assert \"Invalid OTP\" in str(e.value.detail), str(e.value.detail)\n",
    "    display(e.value.detail)\n",
    "\n",
    "    # Positive scenario: passing valid OTP in the request\n",
    "    username = \"\".join(random.choice(string.ascii_lowercase) for _ in range(10))\n",
    "    user_to_create_request = UserCreate(\n",
    "        username=username,\n",
    "        first_name=f\"first_name_{username}\",\n",
    "        last_name=f\"last_name_{username}\",\n",
    "        email=f\"{username}@email.com\",\n",
    "        password=username,\n",
    "        subscription_type=\"test\",\n",
    "        otp=pyotp.TOTP(user_and_session[0].mfa_secret).now(),\n",
    "    )\n",
    "    sample_user = create_user(\n",
    "        user_to_create=user_to_create_request, user=user, session=session\n",
    "    )\n",
    "    user_to_enable = session.exec(\n",
    "        select(User).where(User.username == sample_user.username)\n",
    "    ).one()\n",
    "    user_to_enable.disabled = True\n",
    "    session.add(user_to_enable)\n",
    "    session.commit()\n",
    "    session.refresh(user_to_enable)\n",
    "\n",
    "    actual = enable_user(\n",
    "        user_uuid_or_name=str(user_to_enable.username),\n",
    "        otp=pyotp.TOTP(user_and_session[0].mfa_secret).now(),\n",
    "        user=user,\n",
    "        session=session,\n",
    "    )\n",
    "    display(actual)\n",
    "    assert actual.username == user_to_enable.username\n",
    "\n",
    "    # For following test case\n",
    "    test_user_id = user.id\n",
    "    user_to_enable_uuid = str(user_to_enable.uuid)"
   ]
  },
  {
   "cell_type": "code",
   "execution_count": null,
   "metadata": {},
   "outputs": [
    {
     "data": {
      "text/plain": [
       "'MFA is not activated for the account. Please pass the OTP only after activating the MFA for your account.'"
      ]
     },
     "metadata": {},
     "output_type": "display_data"
    }
   ],
   "source": [
    "# Negative Scenario: Non-MFA enabled super user trying to enable a user by passing OTP\n",
    "with get_session_with_context() as session:\n",
    "    user = session.exec(select(User).where(User.id == test_user_id)).one()\n",
    "    with pytest.raises(HTTPException) as e:\n",
    "        random_otp = 111111\n",
    "        user_to_disable = session.exec(\n",
    "            select(User).where(User.username == user_to_create.username)\n",
    "        ).one()\n",
    "\n",
    "        enable_user(\n",
    "            user_uuid_or_name=user_to_enable_uuid,\n",
    "            otp=random_otp,\n",
    "            user=user,\n",
    "            session=session,\n",
    "        )\n",
    "assert (\n",
    "    str(e.value.detail)\n",
    "    == \"MFA is not activated for the account. Please pass the OTP only after activating the MFA for your account.\"\n",
    ")\n",
    "display(e.value.detail)"
   ]
  },
  {
   "cell_type": "code",
   "execution_count": null,
   "metadata": {},
   "outputs": [
    {
     "name": "stdout",
     "output_type": "stream",
     "text": [
      "[INFO] airt_service.confluent: Topic muzmhtlmcj_start_training_data created\n",
      "[INFO] airt_service.confluent: Topic muzmhtlmcj_training_data created\n",
      "[INFO] airt_service.confluent: Topic muzmhtlmcj_realtime_data created\n",
      "[INFO] airt_service.confluent: Topic muzmhtlmcj_training_data_status created\n",
      "[INFO] airt_service.confluent: Topic muzmhtlmcj_training_model_status created\n",
      "[INFO] airt_service.confluent: Topic muzmhtlmcj_model_metrics created\n",
      "[INFO] airt_service.confluent: Topic muzmhtlmcj_prediction created\n"
     ]
    },
    {
     "name": "stderr",
     "output_type": "stream",
     "text": [
      "%4|1678443947.339|CONFWARN|rdkafka#producer-9| [thrd:app]: Configuration property group.id is a consumer property and will be ignored by this producer instance\n",
      "%4|1678443947.339|CONFWARN|rdkafka#producer-9| [thrd:app]: Configuration property auto.offset.reset is a consumer property and will be ignored by this producer instance\n"
     ]
    },
    {
     "data": {
      "text/plain": [
       "<ExceptionInfo HTTPException(status_code=401, detail='You do not have sufficient permission to access this route. Please contact your administrator for help.') tblen=3>"
      ]
     },
     "metadata": {},
     "output_type": "display_data"
    },
    {
     "data": {
      "text/plain": [
       "User(id=1116, uuid=UUID('119a2c5b-9a8e-43ff-83e0-85a5d2055d0a'), username='muzmhtlmcj', first_name='John', last_name='Wick', email='muzmhtlmcj@email.com', subscription_type=<SubscriptionType.test: 'test'>, super_user=False, disabled=False, created=datetime.datetime(2023, 3, 10, 10, 25, 47), phone_number=None, is_phone_number_verified=False, mfa_secret=****, is_mfa_active=False)"
      ]
     },
     "metadata": {},
     "output_type": "display_data"
    }
   ],
   "source": [
    "with get_session_with_context() as session:\n",
    "    user_kumaran = session.exec(select(User).where(User.username == \"kumaran\")).one()\n",
    "\n",
    "    username = \"\".join(random.choice(string.ascii_lowercase) for _ in range(10))\n",
    "    user_to_create = UserCreate(\n",
    "        username=username,\n",
    "        first_name=\"John\",\n",
    "        last_name=\"Wick\",\n",
    "        email=f\"{username}@email.com\",\n",
    "        password=username,\n",
    "        subscription_type=\"test\",\n",
    "    )\n",
    "    user_to_enable = create_user(\n",
    "        user_to_create=user_to_create, user=user_kumaran, session=session\n",
    "    )\n",
    "    user_to_enable.disabled = True\n",
    "    session.add(user_to_enable)\n",
    "    session.commit()\n",
    "    session.refresh(user_to_enable)\n",
    "\n",
    "    # Try to do it with user without create permission\n",
    "    not_super_user = session.exec(\n",
    "        select(User).where(User.username == test_username)\n",
    "    ).one()\n",
    "    with pytest.raises(HTTPException) as e:\n",
    "        enable_user(\n",
    "            user_uuid=str(user_to_enable.uuid), user=not_super_user, session=session\n",
    "        )\n",
    "    display(e)\n",
    "\n",
    "    actual = enable_user(\n",
    "        user_uuid_or_name=str(user_to_enable.uuid), user=user_kumaran, session=session\n",
    "    )\n",
    "    display(actual)\n",
    "    assert actual.disabled == False\n",
    "\n",
    "    for apikey in actual.apikeys:\n",
    "        display(apikey)\n",
    "        assert apikey.disabled == True"
   ]
  },
  {
   "cell_type": "code",
   "execution_count": null,
   "metadata": {},
   "outputs": [],
   "source": [
    "# | exporti\n",
    "\n",
    "\n",
    "@patch(cls_method=True)  # type: ignore\n",
    "def get_all(\n",
    "    cls: User,\n",
    "    disabled: bool,\n",
    "    offset: int,\n",
    "    limit: int,\n",
    "    session: Session,\n",
    ") -> List[User]:\n",
    "    \"\"\"Function to get all users\n",
    "\n",
    "    Args:\n",
    "        disabled: Whether to get only disabled users\n",
    "        offset: Offset results by given integer\n",
    "        limit: Limit results by given integer\n",
    "        session: Sqlmodel session\n",
    "\n",
    "    Returns:\n",
    "        a list of user objects\n",
    "    \"\"\"\n",
    "    statement = select(User)\n",
    "    statement = statement.where(User.disabled == disabled)\n",
    "\n",
    "    return session.exec(statement.offset(offset).limit(limit)).all()"
   ]
  },
  {
   "cell_type": "code",
   "execution_count": null,
   "metadata": {},
   "outputs": [],
   "source": [
    "# | export\n",
    "\n",
    "\n",
    "@user_router.get(\n",
    "    \"/\",\n",
    "    response_model=List[UserRead],\n",
    "    responses={\n",
    "        401: {\n",
    "            \"model\": HTTPError,\n",
    "            \"description\": ERRORS[\"NOT_ENOUGH_PERMISSION\"],\n",
    "        },\n",
    "    },\n",
    ")\n",
    "@ensure_super_user\n",
    "def get_all_users(\n",
    "    disabled: bool = False,\n",
    "    offset: int = 0,\n",
    "    limit: int = Query(default=100, lte=100),\n",
    "    user: User = Depends(get_current_active_user),\n",
    "    session: Session = Depends(get_session),\n",
    ") -> List[User]:\n",
    "    \"\"\"Get all users\"\"\"\n",
    "    user = session.merge(user)\n",
    "\n",
    "    return User.get_all(disabled=disabled, offset=offset, limit=limit, session=session)"
   ]
  },
  {
   "cell_type": "code",
   "execution_count": null,
   "metadata": {},
   "outputs": [
    {
     "name": "stdout",
     "output_type": "stream",
     "text": [
      "[INFO] airt_service.confluent: Topic rjqsteayei_start_training_data created\n",
      "[INFO] airt_service.confluent: Topic rjqsteayei_training_data created\n",
      "[INFO] airt_service.confluent: Topic rjqsteayei_realtime_data created\n",
      "[INFO] airt_service.confluent: Topic rjqsteayei_training_data_status created\n",
      "[INFO] airt_service.confluent: Topic rjqsteayei_training_model_status created\n",
      "[INFO] airt_service.confluent: Topic rjqsteayei_model_metrics created\n",
      "[INFO] airt_service.confluent: Topic rjqsteayei_prediction created\n"
     ]
    },
    {
     "name": "stderr",
     "output_type": "stream",
     "text": [
      "%4|1678443947.793|CONFWARN|rdkafka#producer-10| [thrd:app]: Configuration property group.id is a consumer property and will be ignored by this producer instance\n",
      "%4|1678443947.793|CONFWARN|rdkafka#producer-10| [thrd:app]: Configuration property auto.offset.reset is a consumer property and will be ignored by this producer instance\n"
     ]
    },
    {
     "data": {
      "text/plain": [
       "[User(id=1, uuid=UUID('b660dce5-f500-4a5d-86ef-8f81372d368a'), username='johndoe', first_name='John', last_name='Doe', email='johndoe@airt.ai', subscription_type=<SubscriptionType.small: 'small'>, super_user=False, disabled=False, created=datetime.datetime(2023, 3, 9, 8, 17, 31), phone_number=None, is_phone_number_verified=False, mfa_secret=****, is_mfa_active=False)]"
      ]
     },
     "metadata": {},
     "output_type": "display_data"
    }
   ],
   "source": [
    "# MFA enabled super user trying to get all users\n",
    "with create_mfa_enabled_super_user() as user_and_session:\n",
    "    user = user_and_session[0]\n",
    "    session = user_and_session[1]\n",
    "\n",
    "    actual = get_all_users(\n",
    "        disabled=False,\n",
    "        offset=0,\n",
    "        limit=1,\n",
    "        user=user,\n",
    "        session=session,\n",
    "    )\n",
    "    display(actual)\n",
    "    assert len(actual) > 0"
   ]
  },
  {
   "cell_type": "code",
   "execution_count": null,
   "metadata": {},
   "outputs": [
    {
     "data": {
      "text/plain": [
       "[User(id=1, uuid=UUID('b660dce5-f500-4a5d-86ef-8f81372d368a'), username='johndoe', first_name='John', last_name='Doe', email='johndoe@airt.ai', subscription_type=<SubscriptionType.small: 'small'>, super_user=False, disabled=False, created=datetime.datetime(2023, 3, 9, 8, 17, 31), phone_number=None, is_phone_number_verified=False, mfa_secret=****, is_mfa_active=False)]"
      ]
     },
     "metadata": {},
     "output_type": "display_data"
    },
    {
     "data": {
      "text/plain": [
       "[User(id=53, uuid=UUID('fc5cfad1-a2fb-4fbf-952b-97ae7884d11e'), username='vyfohgucmp', first_name='unittest', last_name='user', email='vyfohgucmp@email.com', subscription_type=<SubscriptionType.test: 'test'>, super_user=False, disabled=True, created=datetime.datetime(2023, 3, 9, 11, 46, 14), phone_number=None, is_phone_number_verified=False, mfa_secret=****, is_mfa_active=False)]"
      ]
     },
     "metadata": {},
     "output_type": "display_data"
    },
    {
     "data": {
      "text/plain": [
       "<ExceptionInfo HTTPException(status_code=401, detail='You do not have sufficient permission to access this route. Please contact your administrator for help.') tblen=2>"
      ]
     },
     "metadata": {},
     "output_type": "display_data"
    }
   ],
   "source": [
    "with get_session_with_context() as session:\n",
    "    user_kumaran = session.exec(select(User).where(User.username == \"kumaran\")).one()\n",
    "\n",
    "    actual = get_all_users(\n",
    "        disabled=False, offset=0, limit=1, user=user_kumaran, session=session\n",
    "    )\n",
    "    display(actual)\n",
    "    assert actual[0].username == \"johndoe\"\n",
    "    assert not actual[0].disabled\n",
    "\n",
    "    actual = get_all_users(\n",
    "        disabled=True, offset=0, limit=1, user=user_kumaran, session=session\n",
    "    )\n",
    "    display(actual)\n",
    "    assert actual[0].disabled\n",
    "\n",
    "# Try to get it with user without create permission\n",
    "with get_session_with_context() as session:\n",
    "    not_super_user = session.exec(\n",
    "        select(User).where(User.username == test_username)\n",
    "    ).one()\n",
    "    with pytest.raises(HTTPException) as e:\n",
    "        get_all_users(offset=0, limit=1, user=not_super_user, session=session)\n",
    "display(e)"
   ]
  },
  {
   "cell_type": "code",
   "execution_count": null,
   "metadata": {},
   "outputs": [],
   "source": [
    "# | export\n",
    "\n",
    "\n",
    "@user_router.get(\"/details\", response_model=UserRead)\n",
    "def get_user_details(\n",
    "    user_uuid_or_name: Optional[str] = None,\n",
    "    user: User = Depends(get_current_active_user),\n",
    "    session: Session = Depends(get_session),\n",
    ") -> User:\n",
    "    \"\"\"Get user details\"\"\"\n",
    "    user = session.merge(user)\n",
    "\n",
    "    _user = (\n",
    "        get_valid_user(user, session, user_uuid_or_name)\n",
    "        if user_uuid_or_name is not None\n",
    "        else user\n",
    "    )\n",
    "\n",
    "    return User.get(_user.uuid, session)  # type: ignore"
   ]
  },
  {
   "cell_type": "code",
   "execution_count": null,
   "metadata": {},
   "outputs": [
    {
     "data": {
      "text/plain": [
       "User(id=1118, uuid=UUID('1aa75ba9-fe96-4076-957f-8cb3830f8ae8'), username='hjuosewmvz', first_name='unittest', last_name='user', email='hjuosewmvz@email.com', subscription_type=<SubscriptionType.test: 'test'>, super_user=False, disabled=False, created=datetime.datetime(2023, 3, 10, 10, 25, 48), phone_number=None, is_phone_number_verified=False, mfa_secret=**********************************, is_mfa_active=True)"
      ]
     },
     "metadata": {},
     "output_type": "display_data"
    }
   ],
   "source": [
    "# MFA enabled user trying to get their details\n",
    "with create_mfa_enabled_user() as user_and_session:\n",
    "    user = user_and_session[0]\n",
    "    session = user_and_session[1]\n",
    "\n",
    "    actual = get_user_details(user_uuid_or_name=None, user=user, session=session)\n",
    "    display(actual)\n",
    "    assert actual.username == user.username"
   ]
  },
  {
   "cell_type": "code",
   "execution_count": null,
   "metadata": {},
   "outputs": [
    {
     "data": {
      "text/plain": [
       "User(id=1094, uuid=UUID('a659a13b-674a-4d1b-82d9-193c444d5389'), username='xgmmvrvdms', first_name='unittest', last_name='user', email='xgmmvrvdms@email.com', subscription_type=<SubscriptionType.test: 'test'>, super_user=False, disabled=False, created=datetime.datetime(2023, 3, 10, 10, 25, 31), phone_number=None, is_phone_number_verified=False, mfa_secret=****, is_mfa_active=False)"
      ]
     },
     "metadata": {},
     "output_type": "display_data"
    },
    {
     "data": {
      "text/plain": [
       "User(id=1094, uuid=UUID('a659a13b-674a-4d1b-82d9-193c444d5389'), username='xgmmvrvdms', first_name='unittest', last_name='user', email='xgmmvrvdms@email.com', subscription_type=<SubscriptionType.test: 'test'>, super_user=False, disabled=False, created=datetime.datetime(2023, 3, 10, 10, 25, 31), phone_number=None, is_phone_number_verified=False, mfa_secret=****, is_mfa_active=False)"
      ]
     },
     "metadata": {},
     "output_type": "display_data"
    },
    {
     "data": {
      "text/plain": [
       "\"Insufficient permission to access other user's data\""
      ]
     },
     "metadata": {},
     "output_type": "display_data"
    },
    {
     "data": {
      "text/plain": [
       "'The user uuid is incorrect. Please try again.'"
      ]
     },
     "metadata": {},
     "output_type": "display_data"
    }
   ],
   "source": [
    "# Normal user getting their details. Passing the user_id_or_name as None\n",
    "with get_session_with_context() as session:\n",
    "    not_super_user = session.exec(\n",
    "        select(User).where(User.username == test_username)\n",
    "    ).one()\n",
    "\n",
    "    actual = get_user_details(\n",
    "        user_uuid_or_name=None,\n",
    "        user=not_super_user,\n",
    "        session=session,\n",
    "    )\n",
    "    assert actual.id == not_super_user.id\n",
    "    display(actual)\n",
    "\n",
    "    # Normal user getting their details\n",
    "    actual = get_user_details(\n",
    "        user_uuid_or_name=str(not_super_user.uuid),\n",
    "        user=not_super_user,\n",
    "        session=session,\n",
    "    )\n",
    "    assert actual.id == not_super_user.id\n",
    "    display(actual)\n",
    "\n",
    "    # Normal user getting other user's details\n",
    "    with pytest.raises(HTTPException) as e:\n",
    "        get_user_details(\n",
    "            user_uuid_or_name=\"random_user_name\",\n",
    "            user=not_super_user,\n",
    "            session=session,\n",
    "        )\n",
    "\n",
    "    assert e.value.detail == \"Insufficient permission to access other user's data\"\n",
    "    display(e.value.detail)\n",
    "\n",
    "# Super user getting their details\n",
    "with get_session_with_context() as session:\n",
    "    user_kumaran = session.exec(select(User).where(User.username == \"kumaran\")).one()\n",
    "\n",
    "    actual = get_user_details(\n",
    "        user_uuid_or_name=str(user_kumaran.username),\n",
    "        user=user_kumaran,\n",
    "        session=session,\n",
    "    )\n",
    "    assert actual.id == user_kumaran.id\n",
    "\n",
    "    actual = get_user_details(\n",
    "        user_uuid_or_name=None,\n",
    "        user=user_kumaran,\n",
    "        session=session,\n",
    "    )\n",
    "    assert actual.id == user_kumaran.id\n",
    "\n",
    "    # Super user getting other user's details\n",
    "    actual = get_user_details(\n",
    "        user_uuid_or_name=str(not_super_user.username),\n",
    "        user=user_kumaran,\n",
    "        session=session,\n",
    "    )\n",
    "    assert actual.id == not_super_user.id\n",
    "\n",
    "    # Super user getting invalid user's details\n",
    "    with pytest.raises(HTTPException) as e:\n",
    "        get_user_details(\n",
    "            user_uuid_or_name=INVALID_UUID_FOR_TESTING,\n",
    "            user=user_kumaran,\n",
    "            session=session,\n",
    "        )\n",
    "\n",
    "    assert \"The user uuid is incorrect\" in e.value.detail, e.value.detail\n",
    "    display(e.value.detail)"
   ]
  },
  {
   "cell_type": "code",
   "execution_count": null,
   "metadata": {},
   "outputs": [],
   "source": [
    "# | exporti\n",
    "\n",
    "\n",
    "@patch  # type: ignore\n",
    "def enable(self: SSO, session: Session, sso_email: EmailStr) -> SSO:\n",
    "    \"\"\"Enable SSO for a particular service\n",
    "\n",
    "    Args:\n",
    "        session: Sqlmodel session\n",
    "        sso_email: Email address to enable SSO for this provider\n",
    "\n",
    "    Returns:\n",
    "        The enabled SSO object\n",
    "    \"\"\"\n",
    "    with commit_or_rollback(session):\n",
    "        self.disabled = False\n",
    "        self.sso_email = sso_email\n",
    "        session.add(self)\n",
    "\n",
    "    return self"
   ]
  },
  {
   "cell_type": "code",
   "execution_count": null,
   "metadata": {},
   "outputs": [],
   "source": [
    "# | exporti\n",
    "\n",
    "\n",
    "def check_valid_sso_provider(sso_provider: str) -> str:\n",
    "    \"\"\"Validate if the given sso_provider\n",
    "\n",
    "    Args:\n",
    "        sso_provider: SSO provider name\n",
    "\n",
    "    Returns:\n",
    "        The sso_provider if it is valid\n",
    "\n",
    "    Raises:\n",
    "        HTTPException: If the sso_provider didn't match the allowed values\n",
    "    \"\"\"\n",
    "    valid_sso_providers = [e.value for e in SSOProvider]\n",
    "    if sso_provider not in valid_sso_providers:\n",
    "        raise HTTPException(\n",
    "            status_code=status.HTTP_400_BAD_REQUEST,\n",
    "            detail=f'{ERRORS[\"INVALID_SSO_PROVIDER\"]}: {valid_sso_providers}',\n",
    "        )\n",
    "    return sso_provider"
   ]
  },
  {
   "cell_type": "code",
   "execution_count": null,
   "metadata": {},
   "outputs": [
    {
     "data": {
      "text/plain": [
       "\"Invalid SSO provider. Valid SSO providers are: ['google', 'github']\""
      ]
     },
     "metadata": {},
     "output_type": "display_data"
    }
   ],
   "source": [
    "sso_providers = [\"google\", \"github\"]\n",
    "for sp in sso_providers:\n",
    "    actual = check_valid_sso_provider(sp)\n",
    "    assert actual == sp\n",
    "\n",
    "invalid_sso_provider = [\"invalid_sso_provider\"]\n",
    "with pytest.raises(HTTPException) as e:\n",
    "    check_valid_sso_provider(invalid_sso_provider)\n",
    "assert \"Invalid SSO provider\" in e.value.detail\n",
    "display(e.value.detail)"
   ]
  },
  {
   "cell_type": "code",
   "execution_count": null,
   "metadata": {},
   "outputs": [],
   "source": [
    "# | export\n",
    "\n",
    "\n",
    "class EnableSSORequest(SSOBase):\n",
    "    \"\"\"A base class for enabling sso for the account\n",
    "\n",
    "    Args:\n",
    "        otp: OTP passed by the user\n",
    "    \"\"\"\n",
    "\n",
    "    otp: Optional[str] = None\n",
    "\n",
    "    @validator(\"sso_provider\", pre=True)\n",
    "    @classmethod\n",
    "    def validate_sso_provider(cls, sso_provider: str) -> str:\n",
    "        return check_valid_sso_provider(sso_provider)\n",
    "\n",
    "    @validator(\"sso_email\", pre=True)\n",
    "    @classmethod\n",
    "    def validate_email(cls, sso_email: str) -> str:\n",
    "        if sso_email is not None:\n",
    "            sso_email = check_valid_email(sso_email)\n",
    "        return sso_email"
   ]
  },
  {
   "cell_type": "code",
   "execution_count": null,
   "metadata": {},
   "outputs": [],
   "source": [
    "# | export\n",
    "\n",
    "\n",
    "@user_router.post(\"/sso/enable\", response_model=SSORead)\n",
    "@require_otp_if_mfa_enabled\n",
    "def enable_sso(\n",
    "    enable_sso_request: EnableSSORequest,\n",
    "    user: User = Depends(get_current_active_user),\n",
    "    session: Session = Depends(get_session),\n",
    ") -> SSO:\n",
    "    \"\"\"Enable SSO for the user\"\"\"\n",
    "    user = session.merge(user)\n",
    "\n",
    "    sso_email = enable_sso_request.sso_email\n",
    "    sso_provider = enable_sso_request.sso_provider\n",
    "\n",
    "    sso = session.exec(\n",
    "        select(SSO).where(SSO.user == user).where(SSO.sso_provider == sso_provider)\n",
    "    ).one_or_none()\n",
    "\n",
    "    if sso is not None:\n",
    "        return sso.enable(session, sso_email)  # type: ignore\n",
    "\n",
    "    if sso_email is None:\n",
    "        sso_email = user.email\n",
    "\n",
    "    with commit_or_rollback(session):\n",
    "        _sso = SSO(sso_provider=sso_provider, sso_email=sso_email)\n",
    "        _sso.user = user\n",
    "        session.add(_sso)\n",
    "\n",
    "    return _sso"
   ]
  },
  {
   "cell_type": "code",
   "execution_count": null,
   "metadata": {},
   "outputs": [
    {
     "data": {
      "text/plain": [
       "SSO(sso_provider=<SSOProvider.google: 'google'>, id=400, user_id=1119, disabled=False, sso_email='random_email_id@mail.com')"
      ]
     },
     "metadata": {},
     "output_type": "display_data"
    }
   ],
   "source": [
    "with get_session_with_context() as session:\n",
    "    test_username = create_user_for_testing()\n",
    "    user = session.exec(select(User).where(User.username == test_username)).one()\n",
    "    enable_sso_request = EnableSSORequest(\n",
    "        sso_provider=\"google\",\n",
    "        sso_email=\"random_email_id@mail.com\",\n",
    "    )\n",
    "    actual = enable_sso(\n",
    "        enable_sso_request=enable_sso_request, user=user, session=session\n",
    "    )\n",
    "    assert actual.sso_email == enable_sso_request.sso_email\n",
    "display(actual)"
   ]
  },
  {
   "cell_type": "code",
   "execution_count": null,
   "metadata": {},
   "outputs": [
    {
     "data": {
      "text/plain": [
       "\"Invalid SSO provider. Valid SSO providers are: ['google', 'github']\""
      ]
     },
     "metadata": {},
     "output_type": "display_data"
    },
    {
     "data": {
      "text/plain": [
       "'Invalid email format. Please try again.'"
      ]
     },
     "metadata": {},
     "output_type": "display_data"
    },
    {
     "data": {
      "text/plain": [
       "'MFA is not activated for the account. Please pass the OTP only after activating the MFA for your account.'"
      ]
     },
     "metadata": {},
     "output_type": "display_data"
    },
    {
     "data": {
      "text/plain": [
       "SSO(sso_provider=<SSOProvider.google: 'google'>, id=401, user_id=1121, disabled=False, sso_email='random_email_id@mail.com')"
      ]
     },
     "metadata": {},
     "output_type": "display_data"
    },
    {
     "data": {
      "text/plain": [
       "SSO(sso_provider=<SSOProvider.google: 'google'>, id=402, user_id=1122, disabled=False, sso_email='diknyklwtf@email.com')"
      ]
     },
     "metadata": {},
     "output_type": "display_data"
    }
   ],
   "source": [
    "# Non-MFA enabled user trying to enable SSO\n",
    "with get_session_with_context() as session:\n",
    "    test_username = create_user_for_testing()\n",
    "    user = session.exec(select(User).where(User.username == test_username)).one()\n",
    "\n",
    "    # Negative scenario: passing invalid SSO provider in the request\n",
    "    with pytest.raises(HTTPException) as e:\n",
    "        enable_sso_request = EnableSSORequest(\n",
    "            sso_provider=\"random_sso_provider\",\n",
    "            sso_email=\"random_email_id@mail.com\",\n",
    "            otp=random_otp,\n",
    "        )\n",
    "    assert \"Invalid SSO provider\" in e.value.detail\n",
    "    display(e.value.detail)\n",
    "\n",
    "    # Negative scenario: passing invalid email in the request\n",
    "    with pytest.raises(HTTPException) as e:\n",
    "        enable_sso_request = EnableSSORequest(\n",
    "            sso_provider=\"google\", sso_email=\"invalid_email.com\", otp=random_otp\n",
    "        )\n",
    "    assert \"Invalid email\" in e.value.detail\n",
    "    display(e.value.detail)\n",
    "\n",
    "    # Negative scenario: passing OTP in the request\n",
    "    with pytest.raises(HTTPException) as e:\n",
    "        random_otp = 111111\n",
    "        enable_sso_request = EnableSSORequest(\n",
    "            sso_provider=\"google\", sso_email=\"random_email_id@mail.com\", otp=random_otp\n",
    "        )\n",
    "        enable_sso(enable_sso_request=enable_sso_request, user=user, session=session)\n",
    "    assert \"MFA is not activated for the account\" in str(e.value.detail), str(\n",
    "        e.value.detail\n",
    "    )\n",
    "    display(e.value.detail)\n",
    "\n",
    "# Positive scenario: passing valid email in the request\n",
    "with get_session_with_context() as session:\n",
    "    test_username = create_user_for_testing()\n",
    "    user = session.exec(select(User).where(User.username == test_username)).one()\n",
    "    enable_sso_request = EnableSSORequest(\n",
    "        sso_provider=\"google\",\n",
    "        sso_email=\"random_email_id@mail.com\",\n",
    "    )\n",
    "    actual = enable_sso(\n",
    "        enable_sso_request=enable_sso_request, user=user, session=session\n",
    "    )\n",
    "    assert actual.sso_email == enable_sso_request.sso_email\n",
    "display(actual)\n",
    "\n",
    "# Positive scenario: not passing email in the request, should take the one from our records\n",
    "with get_session_with_context() as session:\n",
    "    test_username = create_user_for_testing()\n",
    "    user = session.exec(select(User).where(User.username == test_username)).one()\n",
    "    enable_sso_request = EnableSSORequest(\n",
    "        sso_provider=\"google\",\n",
    "        sso_email=None,\n",
    "    )\n",
    "    actual = enable_sso(\n",
    "        enable_sso_request=enable_sso_request, user=user, session=session\n",
    "    )\n",
    "    assert actual.sso_email == user.email\n",
    "display(actual)"
   ]
  },
  {
   "cell_type": "code",
   "execution_count": null,
   "metadata": {},
   "outputs": [
    {
     "data": {
      "text/plain": [
       "SSO()"
      ]
     },
     "metadata": {},
     "output_type": "display_data"
    },
    {
     "data": {
      "text/plain": [
       "SSO(sso_provider=<SSOProvider.google: 'google'>, id=403, user_id=1123, disabled=False, sso_email='new_random_email_id@mail.com')"
      ]
     },
     "metadata": {},
     "output_type": "display_data"
    }
   ],
   "source": [
    "# MFA enabled user trying to enable SSO\n",
    "with create_mfa_enabled_user() as user_and_session:\n",
    "    user = user_and_session[0]\n",
    "    session = user_and_session[1]\n",
    "    # Positive scenario: passing valid OTP in the request\n",
    "    enable_sso_request = EnableSSORequest(\n",
    "        sso_provider=\"google\",\n",
    "        sso_email=\"random_email_id@mail.com\",\n",
    "        otp=pyotp.TOTP(user_and_session[0].mfa_secret).now(),\n",
    "    )\n",
    "    actual = enable_sso(\n",
    "        enable_sso_request=enable_sso_request, user=user, session=session\n",
    "    )\n",
    "    display(actual)\n",
    "\n",
    "    # Negative scenario: passing already enabled sso_provider name\n",
    "    new_sso_email = \"new_random_email_id@mail.com\"\n",
    "    enable_sso_request = EnableSSORequest(\n",
    "        sso_provider=\"google\",\n",
    "        sso_email=new_sso_email,\n",
    "        otp=pyotp.TOTP(user_and_session[0].mfa_secret).now(),\n",
    "    )\n",
    "    actual = enable_sso(\n",
    "        enable_sso_request=enable_sso_request, user=user, session=session\n",
    "    )\n",
    "    assert actual.sso_email == new_sso_email\n",
    "    display(actual)"
   ]
  },
  {
   "cell_type": "code",
   "execution_count": null,
   "metadata": {},
   "outputs": [
    {
     "data": {
      "text/plain": [
       "'OTP is required. Please enter the OTP generated by the authenticator app or the one you requested via SMS.'"
      ]
     },
     "metadata": {},
     "output_type": "display_data"
    },
    {
     "data": {
      "text/plain": [
       "'Invalid OTP. Please try again.'"
      ]
     },
     "metadata": {},
     "output_type": "display_data"
    },
    {
     "data": {
      "text/plain": [
       "SSO()"
      ]
     },
     "metadata": {},
     "output_type": "display_data"
    }
   ],
   "source": [
    "# MFA enabled user trying to enable SSO\n",
    "with create_mfa_enabled_user() as user_and_session:\n",
    "    user = user_and_session[0]\n",
    "    session = user_and_session[1]\n",
    "    # Negative scenario: Not passing the OTP in the request\n",
    "    with pytest.raises(HTTPException) as e:\n",
    "        enable_sso_request = EnableSSORequest(\n",
    "            sso_provider=\"google\", sso_email=\"random_email_id@mail.com\"\n",
    "        )\n",
    "        enable_sso(enable_sso_request=enable_sso_request, user=user, session=session)\n",
    "    assert \"OTP is required\" in str(e.value.detail)\n",
    "    display(e.value.detail)\n",
    "\n",
    "    # Negative scenario: passing invalid OTP in the request\n",
    "    with pytest.raises(HTTPException) as e:\n",
    "        random_otp = 111111\n",
    "        enable_sso_request = EnableSSORequest(\n",
    "            sso_provider=\"google\", sso_email=\"random_email_id@mail.com\", otp=random_otp\n",
    "        )\n",
    "        enable_sso(enable_sso_request=enable_sso_request, user=user, session=session)\n",
    "    assert \"Invalid OTP\" in str(e.value.detail), str(e.value.detail)\n",
    "    display(e.value.detail)\n",
    "\n",
    "    # Positive scenario: passing valid OTP in the request\n",
    "    enable_sso_request = EnableSSORequest(\n",
    "        sso_provider=\"google\",\n",
    "        sso_email=\"random_email_id@mail.com\",\n",
    "        otp=pyotp.TOTP(user_and_session[0].mfa_secret).now(),\n",
    "    )\n",
    "    actual = enable_sso(\n",
    "        enable_sso_request=enable_sso_request, user=user, session=session\n",
    "    )\n",
    "\n",
    "    assert actual.sso_email == enable_sso_request.sso_email\n",
    "display(actual)"
   ]
  },
  {
   "cell_type": "code",
   "execution_count": null,
   "metadata": {},
   "outputs": [],
   "source": [
    "# | exporti\n",
    "\n",
    "\n",
    "@patch  # type: ignore\n",
    "def disable(self: SSO, session: Session):\n",
    "    \"\"\"Disable SSO for a particular service\n",
    "\n",
    "    Args:\n",
    "        session: Sqlmodel session\n",
    "\n",
    "    Returns:\n",
    "        The disabled SSO object\n",
    "\n",
    "    Raises:\n",
    "        HTTPException: if SSO is already disabled\n",
    "    \"\"\"\n",
    "    if self.disabled:\n",
    "        raise HTTPException(\n",
    "            status_code=status.HTTP_400_BAD_REQUEST,\n",
    "            detail=ERRORS[\"SSO_ALREADY_DISABLED\"],\n",
    "        )\n",
    "\n",
    "    with commit_or_rollback(session):\n",
    "        self.disabled = True\n",
    "        session.add(self)\n",
    "\n",
    "    return self"
   ]
  },
  {
   "cell_type": "code",
   "execution_count": null,
   "metadata": {},
   "outputs": [],
   "source": [
    "# | export\n",
    "\n",
    "\n",
    "@user_router.delete(\n",
    "    \"/sso/{user_uuid_or_name}/disable/{sso_provider}\",\n",
    "    response_model=SSORead,\n",
    "    responses={\n",
    "        400: {\n",
    "            \"model\": HTTPError,\n",
    "            \"description\": ERRORS[\"INCORRECT_USER_UUID\"],\n",
    "        },\n",
    "        401: {\n",
    "            \"model\": HTTPError,\n",
    "            \"description\": ERRORS[\"NOT_ENOUGH_PERMISSION_TO_ACCESS_OTHERS_DATA\"],\n",
    "        },\n",
    "    },\n",
    ")\n",
    "@require_otp_if_mfa_enabled\n",
    "def disable_sso(\n",
    "    user_uuid_or_name: str,\n",
    "    sso_provider: str,\n",
    "    otp: Optional[str] = None,\n",
    "    user: User = Depends(get_current_active_user),\n",
    "    session: Session = Depends(get_session),\n",
    ") -> SSO:\n",
    "    \"\"\"Disable SSO\"\"\"\n",
    "\n",
    "    user = session.merge(user)\n",
    "\n",
    "    sso_provider = check_valid_sso_provider(sso_provider)\n",
    "\n",
    "    user_to_disable_sso = get_valid_user(user, session, user_uuid_or_name)\n",
    "\n",
    "    try:\n",
    "        sso_provider_to_disable = session.exec(\n",
    "            select(SSO)\n",
    "            .where(SSO.user == user_to_disable_sso)\n",
    "            .where(SSO.sso_provider == sso_provider)\n",
    "        ).one()\n",
    "\n",
    "    except NoResultFound:\n",
    "        raise HTTPException(\n",
    "            status_code=status.HTTP_400_BAD_REQUEST,\n",
    "            detail=ERRORS[\"SSO_NOT_ENABLED_FOR_SERVICE\"],\n",
    "        )\n",
    "\n",
    "    return sso_provider_to_disable.disable(session)  # type: ignore"
   ]
  },
  {
   "cell_type": "code",
   "execution_count": null,
   "metadata": {},
   "outputs": [
    {
     "data": {
      "text/plain": [
       "\"Insufficient permission to access other user's data\""
      ]
     },
     "metadata": {},
     "output_type": "display_data"
    },
    {
     "data": {
      "text/plain": [
       "'OTP is required. Please enter the OTP generated by the authenticator app or the one you requested via SMS.'"
      ]
     },
     "metadata": {},
     "output_type": "display_data"
    },
    {
     "data": {
      "text/plain": [
       "'Invalid OTP. Please try again.'"
      ]
     },
     "metadata": {},
     "output_type": "display_data"
    },
    {
     "data": {
      "text/plain": [
       "SSO()"
      ]
     },
     "metadata": {},
     "output_type": "display_data"
    },
    {
     "data": {
      "text/plain": [
       "\"Invalid SSO provider. Valid SSO providers are: ['google', 'github']\""
      ]
     },
     "metadata": {},
     "output_type": "display_data"
    },
    {
     "data": {
      "text/plain": [
       "SSO()"
      ]
     },
     "metadata": {},
     "output_type": "display_data"
    },
    {
     "data": {
      "text/plain": [
       "'SSO is already disabled for the provider.'"
      ]
     },
     "metadata": {},
     "output_type": "display_data"
    },
    {
     "data": {
      "text/plain": [
       "SSO()"
      ]
     },
     "metadata": {},
     "output_type": "display_data"
    }
   ],
   "source": [
    "# MFA enabled user trying to disable SSO\n",
    "with create_mfa_enabled_user() as user_and_session:\n",
    "    user = user_and_session[0]\n",
    "    session = user_and_session[1]\n",
    "    sso_provider = \"google\"\n",
    "\n",
    "    # Negative scenario: normal user trying to disable sso for others\n",
    "    with pytest.raises(HTTPException) as e:\n",
    "        otp = pyotp.TOTP(user_and_session[0].mfa_secret).now()\n",
    "        disable_sso(\n",
    "            user_uuid_or_name=INVALID_UUID_FOR_TESTING,\n",
    "            sso_provider=sso_provider,\n",
    "            otp=otp,\n",
    "            user=user,\n",
    "            session=session,\n",
    "        )\n",
    "    assert \"Insufficient permission\" in e.value.detail, e.value.detail\n",
    "    display(e.value.detail)\n",
    "\n",
    "    # Negative scenario: Not passing the OTP in the request\n",
    "    with pytest.raises(HTTPException) as e:\n",
    "        disable_sso(\n",
    "            user_uuid_or_name=str(user.uuid),\n",
    "            sso_provider=sso_provider,\n",
    "            otp=None,\n",
    "            user=user,\n",
    "            session=session,\n",
    "        )\n",
    "    assert \"OTP is required\" in str(e.value.detail), str(e.value.detail)\n",
    "    display(e.value.detail)\n",
    "\n",
    "    # Negative scenario: Passing invalid OTP in the request\n",
    "    with pytest.raises(HTTPException) as e:\n",
    "        invalid_otp = 111111\n",
    "        disable_sso(\n",
    "            user_uuid=str(user.uuid),\n",
    "            sso_provider=sso_provider,\n",
    "            otp=invalid_otp,\n",
    "            user=user,\n",
    "            session=session,\n",
    "        )\n",
    "    assert \"Invalid OTP\" in str(e.value.detail), str(e.value.detail)\n",
    "    display(e.value.detail)\n",
    "\n",
    "with create_mfa_enabled_user() as user_and_session:\n",
    "    user = user_and_session[0]\n",
    "    session = user_and_session[1]\n",
    "    sso_provider = \"google\"\n",
    "    # Positive scenario: disabling SSO for particular service\n",
    "    enable_sso_request = EnableSSORequest(\n",
    "        sso_provider=sso_provider,\n",
    "        sso_email=\"random_email_id@mail.com\",\n",
    "        otp=pyotp.TOTP(user_and_session[0].mfa_secret).now(),\n",
    "    )\n",
    "    enabled_sso_provider = enable_sso(\n",
    "        enable_sso_request=enable_sso_request, user=user, session=session\n",
    "    )\n",
    "    display(enabled_sso_provider)\n",
    "\n",
    "    # Negative scenario: passing invalid sso_provider\n",
    "    with pytest.raises(HTTPException) as e:\n",
    "        disable_sso(\n",
    "            user_uuid_or_name=str(user.uuid),\n",
    "            sso_provider=\"invalid_sso_provider\",\n",
    "            otp=pyotp.TOTP(user_and_session[0].mfa_secret).now(),\n",
    "            user=user,\n",
    "            session=session,\n",
    "        )\n",
    "    assert \"Invalid SSO provider\" in e.value.detail\n",
    "    display(e.value.detail)\n",
    "\n",
    "    # Positive scenario: disabling SSO for particular service\n",
    "    actual = disable_sso(\n",
    "        user_uuid_or_name=str(user.uuid),\n",
    "        sso_provider=sso_provider,\n",
    "        otp=pyotp.TOTP(user_and_session[0].mfa_secret).now(),\n",
    "        user=user,\n",
    "        session=session,\n",
    "    )\n",
    "    display(actual)\n",
    "    assert actual.sso_provider == sso_provider\n",
    "    assert actual.user_id == user.id\n",
    "\n",
    "    # Negative scenario: disabling already disabled SSO provider\n",
    "    with pytest.raises(HTTPException) as e:\n",
    "        disable_sso(\n",
    "            user_uuid_or_name=str(user.uuid),\n",
    "            sso_provider=sso_provider,\n",
    "            otp=pyotp.TOTP(user_and_session[0].mfa_secret).now(),\n",
    "            user=user,\n",
    "            session=session,\n",
    "        )\n",
    "    assert \"SSO is already disabled\" in str(e.value.detail), str(e.value.detail)\n",
    "    display(e.value.detail)\n",
    "\n",
    "with create_mfa_enabled_user() as user_and_session:\n",
    "    user = user_and_session[0]\n",
    "    session = user_and_session[1]\n",
    "    sso_provider = \"google\"\n",
    "    # Positive scenario: enabling a disabled SSO provider\n",
    "    new_sso_email = \"new_email_address@mail.com\"\n",
    "    enable_sso_request = EnableSSORequest(\n",
    "        sso_provider=sso_provider,\n",
    "        sso_email=new_sso_email,\n",
    "        otp=pyotp.TOTP(user_and_session[0].mfa_secret).now(),\n",
    "    )\n",
    "    enabled_sso_provider = enable_sso(\n",
    "        enable_sso_request=enable_sso_request, user=user, session=session\n",
    "    )\n",
    "    display(enabled_sso_provider)\n",
    "    assert (\n",
    "        enabled_sso_provider.sso_email == new_sso_email\n",
    "    ), enabled_sso_provider.sso_email"
   ]
  },
  {
   "cell_type": "code",
   "execution_count": null,
   "metadata": {},
   "outputs": [
    {
     "data": {
      "text/plain": [
       "SSO()"
      ]
     },
     "metadata": {},
     "output_type": "display_data"
    },
    {
     "name": "stdout",
     "output_type": "stream",
     "text": [
      "[INFO] airt_service.confluent: Topic avouyjplpy_start_training_data created\n",
      "[INFO] airt_service.confluent: Topic avouyjplpy_training_data created\n",
      "[INFO] airt_service.confluent: Topic avouyjplpy_realtime_data created\n",
      "[INFO] airt_service.confluent: Topic avouyjplpy_training_data_status created\n",
      "[INFO] airt_service.confluent: Topic avouyjplpy_training_model_status created\n",
      "[INFO] airt_service.confluent: Topic avouyjplpy_model_metrics created\n",
      "[INFO] airt_service.confluent: Topic avouyjplpy_prediction created\n"
     ]
    },
    {
     "name": "stderr",
     "output_type": "stream",
     "text": [
      "%4|1678443951.296|CONFWARN|rdkafka#producer-11| [thrd:app]: Configuration property group.id is a consumer property and will be ignored by this producer instance\n",
      "%4|1678443951.296|CONFWARN|rdkafka#producer-11| [thrd:app]: Configuration property auto.offset.reset is a consumer property and will be ignored by this producer instance\n"
     ]
    },
    {
     "data": {
      "text/plain": [
       "User(id=1129, uuid=UUID('32b49c71-b77c-42e4-a41f-4dc77dfe9364'), username='avouyjplpy', first_name='first_name_avouyjplpy', last_name='last_name_avouyjplpy', email='avouyjplpy@email.com', subscription_type=<SubscriptionType.test: 'test'>, super_user=True, disabled=False, created=datetime.datetime(2023, 3, 10, 10, 25, 51), phone_number=None, is_phone_number_verified=False, mfa_secret=**********************************, is_mfa_active=True)"
      ]
     },
     "metadata": {},
     "output_type": "display_data"
    },
    {
     "data": {
      "text/plain": [
       "SSO()"
      ]
     },
     "metadata": {},
     "output_type": "display_data"
    },
    {
     "data": {
      "text/plain": [
       "SSO()"
      ]
     },
     "metadata": {},
     "output_type": "display_data"
    },
    {
     "data": {
      "text/plain": [
       "SSO()"
      ]
     },
     "metadata": {},
     "output_type": "display_data"
    }
   ],
   "source": [
    "# MFA enabled super user trying to disable SSO\n",
    "with get_session_with_context() as session:\n",
    "    normal_user = session.exec(\n",
    "        select(User).where(User.username == create_user_for_testing())\n",
    "    ).one()\n",
    "    enable_sso_request = EnableSSORequest(\n",
    "        sso_provider=\"google\", sso_email=\"random_email_id@mail.com\"\n",
    "    )\n",
    "    actual = enable_sso(\n",
    "        enable_sso_request=enable_sso_request, user=normal_user, session=session\n",
    "    )\n",
    "    display(actual)\n",
    "\n",
    "    assert actual.sso_provider == enable_sso_request.sso_provider\n",
    "    assert actual.sso_email == enable_sso_request.sso_email\n",
    "    assert actual.user_id == normal_user.id\n",
    "\n",
    "\n",
    "with create_mfa_enabled_super_user() as user_and_session:\n",
    "    user = user_and_session[0]\n",
    "    session = user_and_session[1]\n",
    "    display(user)\n",
    "    sso_provider = \"google\"\n",
    "    # Positive Scenario: disabling SSO for others\n",
    "    otp = pyotp.TOTP(user.mfa_secret).now()\n",
    "    actual = disable_sso(\n",
    "        user_uuid_or_name=str(normal_user.uuid),\n",
    "        sso_provider=sso_provider,\n",
    "        otp=otp,\n",
    "        user=user,\n",
    "        session=session,\n",
    "    )\n",
    "    display(actual)\n",
    "\n",
    "    assert actual.sso_provider == sso_provider\n",
    "    assert actual.disabled\n",
    "\n",
    "    # Positive Scenario: disabling SSO for self\n",
    "    enable_sso_request = EnableSSORequest(\n",
    "        sso_provider=\"google\",\n",
    "        sso_email=\"random_email_id@mail.com\",\n",
    "        otp=pyotp.TOTP(user.mfa_secret).now(),\n",
    "    )\n",
    "    actual = enable_sso(\n",
    "        enable_sso_request=enable_sso_request, user=user, session=session\n",
    "    )\n",
    "    display(actual)\n",
    "    assert actual.sso_email == enable_sso_request.sso_email\n",
    "\n",
    "    otp = pyotp.TOTP(user.mfa_secret).now()\n",
    "    actual = disable_sso(\n",
    "        user_uuid_or_name=str(user.uuid),\n",
    "        sso_provider=sso_provider,\n",
    "        otp=otp,\n",
    "        user=user,\n",
    "        session=session,\n",
    "    )\n",
    "    display(actual)\n",
    "    assert actual.sso_provider == sso_provider\n",
    "    assert actual.disabled"
   ]
  },
  {
   "cell_type": "code",
   "execution_count": null,
   "metadata": {},
   "outputs": [
    {
     "data": {
      "text/plain": [
       "SSO()"
      ]
     },
     "metadata": {},
     "output_type": "display_data"
    },
    {
     "data": {
      "text/plain": [
       "SSO()"
      ]
     },
     "metadata": {},
     "output_type": "display_data"
    },
    {
     "data": {
      "text/plain": [
       "'SSO is already disabled for the provider.'"
      ]
     },
     "metadata": {},
     "output_type": "display_data"
    },
    {
     "data": {
      "text/plain": [
       "'MFA is not activated for the account. Please pass the OTP only after activating the MFA for your account.'"
      ]
     },
     "metadata": {},
     "output_type": "display_data"
    },
    {
     "data": {
      "text/plain": [
       "\"Insufficient permission to access other user's data\""
      ]
     },
     "metadata": {},
     "output_type": "display_data"
    }
   ],
   "source": [
    "# Non-MFA user trying to disable SSO\n",
    "with get_session_with_context() as session:\n",
    "    username_for_testing = create_user_for_testing()\n",
    "    normal_user = session.exec(\n",
    "        select(User).where(User.username == username_for_testing)\n",
    "    ).one()\n",
    "    sso_provider = \"google\"\n",
    "    enable_sso_request = EnableSSORequest(\n",
    "        sso_provider=sso_provider, sso_email=\"random_email_id@mail.com\"\n",
    "    )\n",
    "    actual = enable_sso(\n",
    "        enable_sso_request=enable_sso_request, user=normal_user, session=session\n",
    "    )\n",
    "    display(actual)\n",
    "    assert actual.sso_provider == sso_provider\n",
    "    assert actual.sso_email == enable_sso_request.sso_email\n",
    "    assert actual.user_id == normal_user.id\n",
    "    assert not actual.disabled\n",
    "\n",
    "    # Positive Scenario: disabling SSO for self\n",
    "    actual = disable_sso(\n",
    "        user_uuid_or_name=str(normal_user.uuid),\n",
    "        sso_provider=sso_provider,\n",
    "        otp=None,\n",
    "        user=normal_user,\n",
    "        session=session,\n",
    "    )\n",
    "    display(actual)\n",
    "    assert actual.sso_provider == sso_provider\n",
    "    assert actual.disabled\n",
    "\n",
    "    # Negative Scenario: disabling SSO for already SSO disabled user\n",
    "    with pytest.raises(HTTPException) as e:\n",
    "        disable_sso(\n",
    "            user_uuid_or_name=str(normal_user.uuid),\n",
    "            sso_provider=sso_provider,\n",
    "            otp=None,\n",
    "            user=normal_user,\n",
    "            session=session,\n",
    "        )\n",
    "    display(e.value.detail)\n",
    "    assert \"SSO is already disabled\" in str(e.value.detail)\n",
    "\n",
    "    # Negative Scenario: passing OTP\n",
    "    with pytest.raises(HTTPException) as e:\n",
    "        random_otp = 123456\n",
    "        disable_sso(\n",
    "            user_uuid_or_name=str(normal_user.uuid),\n",
    "            sso_provider=sso_provider,\n",
    "            otp=random_otp,\n",
    "            user=normal_user,\n",
    "            session=session,\n",
    "        )\n",
    "    display(e.value.detail)\n",
    "    assert \"MFA is not activated for the account\" in str(e.value.detail), str(\n",
    "        e.value.detail\n",
    "    )\n",
    "\n",
    "    # Negative Scenario: disabling SSO for others\n",
    "    with pytest.raises(HTTPException) as e:\n",
    "        disable_sso(\n",
    "            user_uuid_or_name=INVALID_UUID_FOR_TESTING,\n",
    "            sso_provider=sso_provider,\n",
    "            otp=None,\n",
    "            user=normal_user,\n",
    "            session=session,\n",
    "        )\n",
    "    display(e.value.detail)\n",
    "    assert \"Insufficient permission\" in str(e.value.detail), str(e.value.detail)"
   ]
  },
  {
   "cell_type": "code",
   "execution_count": null,
   "metadata": {},
   "outputs": [],
   "source": [
    "# | export\n",
    "\n",
    "\n",
    "def create_trial_user(subscription_type: str, session: Session) -> User:\n",
    "    \"\"\"Create a trial user for the given subscription_type\"\"\"\n",
    "\n",
    "    username = \"\".join(\n",
    "        random.choice(string.ascii_lowercase) for _ in range(50)  # nosec B311\n",
    "    )\n",
    "\n",
    "    user_to_create = UserCreate(\n",
    "        username=f\"{subscription_type}_{username}\",\n",
    "        first_name=f\"{subscription_type}_first_name\",\n",
    "        last_name=f\"{subscription_type}_last_name\",\n",
    "        email=f\"{subscription_type}_{username}@email.com\",\n",
    "        password=f\"{subscription_type}_{username}\",\n",
    "        subscription_type=subscription_type,\n",
    "    )\n",
    "    return User._create(user_to_create, session)  # type: ignore"
   ]
  },
  {
   "cell_type": "code",
   "execution_count": null,
   "metadata": {},
   "outputs": [
    {
     "name": "stdout",
     "output_type": "stream",
     "text": [
      "[INFO] airt_service.confluent: Topic captn_trial_obvdemkshuxlwumtsrcuwxfqprdyxwuejynfnasccnqwjzlavk_start_training_data created\n",
      "[INFO] airt_service.confluent: Topic captn_trial_obvdemkshuxlwumtsrcuwxfqprdyxwuejynfnasccnqwjzlavk_training_data created\n",
      "[INFO] airt_service.confluent: Topic captn_trial_obvdemkshuxlwumtsrcuwxfqprdyxwuejynfnasccnqwjzlavk_realtime_data created\n",
      "[INFO] airt_service.confluent: Topic captn_trial_obvdemkshuxlwumtsrcuwxfqprdyxwuejynfnasccnqwjzlavk_training_data_status created\n",
      "[INFO] airt_service.confluent: Topic captn_trial_obvdemkshuxlwumtsrcuwxfqprdyxwuejynfnasccnqwjzlavk_training_model_status created\n",
      "[INFO] airt_service.confluent: Topic captn_trial_obvdemkshuxlwumtsrcuwxfqprdyxwuejynfnasccnqwjzlavk_model_metrics created\n",
      "[INFO] airt_service.confluent: Topic captn_trial_obvdemkshuxlwumtsrcuwxfqprdyxwuejynfnasccnqwjzlavk_prediction created\n"
     ]
    },
    {
     "name": "stderr",
     "output_type": "stream",
     "text": [
      "%4|1678443952.050|CONFWARN|rdkafka#producer-12| [thrd:app]: Configuration property group.id is a consumer property and will be ignored by this producer instance\n",
      "%4|1678443952.050|CONFWARN|rdkafka#producer-12| [thrd:app]: Configuration property auto.offset.reset is a consumer property and will be ignored by this producer instance\n"
     ]
    },
    {
     "data": {
      "text/plain": [
       "User(id=1131, uuid=UUID('7af47f6f-bdfd-424d-ad9d-f85a1d21cf60'), username='captn_trial_obvdemkshuxlwumtsrcuwxfqprdyxwuejynfnasccnqwjzlavk', first_name='captn_trial_first_name', last_name='captn_trial_last_name', email='captn_trial_obvdemkshuxlwumtsrcuwxfqprdyxwuejynfnasccnqwjzlavk@email.com', subscription_type=<SubscriptionType.captn_trial: 'captn_trial'>, super_user=False, disabled=False, created=datetime.datetime(2023, 3, 10, 10, 25, 52), phone_number=None, is_phone_number_verified=False, mfa_secret=****, is_mfa_active=False)"
      ]
     },
     "metadata": {},
     "output_type": "display_data"
    }
   ],
   "source": [
    "with get_session_with_context() as session:\n",
    "    new_user = create_trial_user(subscription_type=\"captn_trial\", session=session)\n",
    "display(new_user)\n",
    "assert \"captn_trial_\" in new_user.username, new_user.username"
   ]
  },
  {
   "cell_type": "code",
   "execution_count": null,
   "metadata": {},
   "outputs": [],
   "source": [
    "# | export\n",
    "\n",
    "\n",
    "@user_router.get(\"/sso/signup\")\n",
    "def sso_signup(subscription_type: str, sso_provider: str) -> str:\n",
    "    \"\"\"Method to create new user with SSO\"\"\"\n",
    "    with get_session_with_context() as session:\n",
    "        # 1. Create Trial user\n",
    "        trial_user = create_trial_user(\n",
    "            subscription_type=subscription_type, session=session\n",
    "        )\n",
    "        # 2. Enable SSO for the Trial user\n",
    "        enable_sso_request = EnableSSORequest(\n",
    "            sso_provider=sso_provider, sso_email=trial_user.email\n",
    "        )\n",
    "        sso = enable_sso.__wrapped__(  # type: ignore\n",
    "            enable_sso_request=enable_sso_request, user=trial_user, session=session\n",
    "        )\n",
    "        # 3. get authorization URL\n",
    "        return initiate_sso_flow(\n",
    "            username=trial_user.username,\n",
    "            sso_provider=sso_provider,\n",
    "            nonce=secrets.token_hex(),\n",
    "            sso=sso,\n",
    "        ).authorization_url"
   ]
  },
  {
   "cell_type": "code",
   "execution_count": null,
   "metadata": {},
   "outputs": [
    {
     "name": "stderr",
     "output_type": "stream",
     "text": [
      "%4|1678443952.465|CONFWARN|rdkafka#producer-13| [thrd:app]: Configuration property group.id is a consumer property and will be ignored by this producer instance\n",
      "%4|1678443952.465|CONFWARN|rdkafka#producer-13| [thrd:app]: Configuration property auto.offset.reset is a consumer property and will be ignored by this producer instance\n"
     ]
    },
    {
     "name": "stdout",
     "output_type": "stream",
     "text": [
      "[INFO] airt_service.confluent: Topic captn_trial_mnauoolrjscovtyggkopqktnhirirbldcejwnzcnygotooyijj_start_training_data created\n",
      "[INFO] airt_service.confluent: Topic captn_trial_mnauoolrjscovtyggkopqktnhirirbldcejwnzcnygotooyijj_training_data created\n",
      "[INFO] airt_service.confluent: Topic captn_trial_mnauoolrjscovtyggkopqktnhirirbldcejwnzcnygotooyijj_realtime_data created\n",
      "[INFO] airt_service.confluent: Topic captn_trial_mnauoolrjscovtyggkopqktnhirirbldcejwnzcnygotooyijj_training_data_status created\n",
      "[INFO] airt_service.confluent: Topic captn_trial_mnauoolrjscovtyggkopqktnhirirbldcejwnzcnygotooyijj_training_model_status created\n",
      "[INFO] airt_service.confluent: Topic captn_trial_mnauoolrjscovtyggkopqktnhirirbldcejwnzcnygotooyijj_model_metrics created\n",
      "[INFO] airt_service.confluent: Topic captn_trial_mnauoolrjscovtyggkopqktnhirirbldcejwnzcnygotooyijj_prediction created\n",
      "https://accounts.google.com/o/oauth2/v2/auth?response_type=code&client_id=842138153914-6kvm51cpin7iocg3nrsnl44s3d24u047.apps.googleusercontent.com&redirect_uri=http%3A%2F%2F127.0.0.1%3A6006%2Fsso%2Fcallback&scope=https%3A%2F%2Fwww.googleapis.com%2Fauth%2Fuserinfo.email+https%3A%2F%2Fwww.googleapis.com%2Fauth%2Fuserinfo.profile+openid&state=a13026842f619efd7b09ebf611f2c55b395792510e4419b98d73afd83ed33e12_captn_trial_mnauoolrjscovtyggkopqktnhirirbldcejwnzcnygotooyijj&prompt=select_account\n"
     ]
    }
   ],
   "source": [
    "with get_session_with_context() as session:\n",
    "    authorization_url = sso_signup(\n",
    "        subscription_type=\"captn_trial\", sso_provider=\"google\"\n",
    "    )\n",
    "    assert \"captn_trial\" in authorization_url\n",
    "    assert \"google\" in authorization_url\n",
    "    print(authorization_url)"
   ]
  },
  {
   "cell_type": "code",
   "execution_count": null,
   "metadata": {},
   "outputs": [],
   "source": [
    "# | export\n",
    "\n",
    "\n",
    "class RegisterPhoneNumberRequest(BaseModel):\n",
    "    \"\"\"A base class for registering a new phone number\n",
    "\n",
    "    Args:\n",
    "        phone_number: User's new phone number to add in the db\n",
    "        otp: Dynamically generated six-digit verification code from the authenticator app\n",
    "    \"\"\"\n",
    "\n",
    "    phone_number: Optional[str] = None\n",
    "    otp: Optional[str] = None"
   ]
  },
  {
   "cell_type": "code",
   "execution_count": null,
   "metadata": {},
   "outputs": [],
   "source": [
    "# | export\n",
    "\n",
    "\n",
    "@user_router.post(\n",
    "    \"/register_phone_number\",\n",
    "    response_model=UserRead,\n",
    "    responses={\n",
    "        400: {\"model\": HTTPError, \"description\": ERRORS[\"NO_PHONE_NUMBER_TO_REGISTER\"]},\n",
    "    },\n",
    ")\n",
    "@require_otp_if_mfa_enabled\n",
    "def register_phone_number(\n",
    "    register_phone_number_request: RegisterPhoneNumberRequest,\n",
    "    user: User = Depends(get_current_active_user),\n",
    "    session: Session = Depends(get_session),\n",
    ") -> User:\n",
    "    \"\"\"Register a new phone number for the user\"\"\"\n",
    "    user = session.merge(user)\n",
    "\n",
    "    phone_number = register_phone_number_request.phone_number\n",
    "\n",
    "    if phone_number is None:\n",
    "        if user.phone_number is None:\n",
    "            raise HTTPException(\n",
    "                status_code=status.HTTP_400_BAD_REQUEST,\n",
    "                detail=ERRORS[\"NO_PHONE_NUMBER_TO_REGISTER\"],\n",
    "            )\n",
    "        phone_number = user.phone_number\n",
    "\n",
    "    else:\n",
    "        with commit_or_rollback(session):\n",
    "            user.is_phone_number_verified = False\n",
    "            user.phone_number = phone_number\n",
    "            session.add(user)\n",
    "\n",
    "    user = _send_sms_otp_to_user(\n",
    "        user=user,\n",
    "        message_template_name=\"register_phone_number\",\n",
    "        session=session,\n",
    "        phone_number=phone_number,\n",
    "    )\n",
    "\n",
    "    return user"
   ]
  },
  {
   "cell_type": "code",
   "execution_count": null,
   "metadata": {},
   "outputs": [
    {
     "data": {
      "text/plain": [
       "'OTP is required. Please enter the OTP generated by the authenticator app or the one you requested via SMS.'"
      ]
     },
     "metadata": {},
     "output_type": "display_data"
    },
    {
     "data": {
      "text/plain": [
       "'Invalid OTP. Please try again.'"
      ]
     },
     "metadata": {},
     "output_type": "display_data"
    },
    {
     "data": {
      "text/plain": [
       "'Please pass a phone number to register.'"
      ]
     },
     "metadata": {},
     "output_type": "display_data"
    }
   ],
   "source": [
    "# Negative Scenario for MFA user: phone number not passed in arguments nor set in the db\n",
    "with create_mfa_enabled_user() as user_and_session:\n",
    "    user = user_and_session[0]\n",
    "    session = user_and_session[1]\n",
    "\n",
    "    register_phone_number_request = RegisterPhoneNumberRequest()\n",
    "\n",
    "    # Negative scenario: Not passing the OTP in the request\n",
    "    with pytest.raises(HTTPException) as e:\n",
    "        register_phone_number(\n",
    "            register_phone_number_request=register_phone_number_request,\n",
    "            user=user,\n",
    "            session=session,\n",
    "        )\n",
    "    assert \"OTP is required\" in str(e.value.detail)\n",
    "    display(e.value.detail)\n",
    "\n",
    "    # Negative scenario: passing invalid OTP in the request\n",
    "    with pytest.raises(HTTPException) as e:\n",
    "        random_otp = 111111\n",
    "        register_phone_number_request = RegisterPhoneNumberRequest(otp=random_otp)\n",
    "        register_phone_number(\n",
    "            register_phone_number_request=register_phone_number_request,\n",
    "            user=user,\n",
    "            session=session,\n",
    "        )\n",
    "    assert \"Invalid OTP\" in str(e.value.detail), str(e.value.detail)\n",
    "    display(e.value.detail)\n",
    "\n",
    "    with pytest.raises(HTTPException) as e:\n",
    "        otp = pyotp.TOTP(user.mfa_secret).now()\n",
    "        register_phone_number_request = RegisterPhoneNumberRequest(otp=otp)\n",
    "        register_phone_number(\n",
    "            register_phone_number_request=register_phone_number_request,\n",
    "            user=user,\n",
    "            session=session,\n",
    "        )\n",
    "    display(e.value.detail)\n",
    "    assert \"Please pass a phone number to register\" in str(e.value.detail), str(\n",
    "        e.value.detail\n",
    "    )"
   ]
  },
  {
   "cell_type": "code",
   "execution_count": null,
   "metadata": {},
   "outputs": [
    {
     "data": {
      "text/plain": [
       "User(id=1134, uuid=UUID('a7695e53-68a6-41d4-8a5a-e6e66ed5923a'), username='isulyjikhu', first_name='unittest', last_name='user', email='isulyjikhu@email.com', subscription_type=<SubscriptionType.test: 'test'>, super_user=False, disabled=False, created=datetime.datetime(2023, 3, 10, 10, 25, 54), phone_number='910000000000', is_phone_number_verified=False, mfa_secret=**********************************, is_mfa_active=True)"
      ]
     },
     "metadata": {},
     "output_type": "display_data"
    },
    {
     "data": {
      "text/plain": [
       "SMS(application_id='12D2CA96F21A5ED26508CAAEB221A4C4', message_id='60583E51E79AA5AF2A0D9E974D648689', id=118, user_id=1134)"
      ]
     },
     "metadata": {},
     "output_type": "display_data"
    },
    {
     "data": {
      "text/plain": [
       "SMSProtocol(id=119, number_lookup_status='NC_NOT_CONFIGURED', phone_number='910000000000', pin_attempts_remaining=None, pin_id='my_random_pin_id', sent_sms_status='MESSAGE_SENT', pin_verified=False, sms_id=118)"
      ]
     },
     "metadata": {},
     "output_type": "display_data"
    },
    {
     "data": {
      "text/plain": [
       "User(id=1134, uuid=UUID('a7695e53-68a6-41d4-8a5a-e6e66ed5923a'), username='isulyjikhu', first_name='unittest', last_name='user', email='isulyjikhu@email.com', subscription_type=<SubscriptionType.test: 'test'>, super_user=False, disabled=False, created=datetime.datetime(2023, 3, 10, 10, 25, 54), phone_number='910000000000', is_phone_number_verified=False, mfa_secret=**********************************, is_mfa_active=True)"
      ]
     },
     "metadata": {},
     "output_type": "display_data"
    },
    {
     "data": {
      "text/plain": [
       "SMS(application_id='12D2CA96F21A5ED26508CAAEB221A4C4', message_id='60583E51E79AA5AF2A0D9E974D648689', id=118, user_id=1134)"
      ]
     },
     "metadata": {},
     "output_type": "display_data"
    },
    {
     "data": {
      "text/plain": [
       "SMSProtocol(id=120, number_lookup_status='NC_NOT_CONFIGURED', phone_number='910000000000', pin_attempts_remaining=None, pin_id='my_random_pin_id', sent_sms_status='MESSAGE_SENT', pin_verified=False, sms_id=118)"
      ]
     },
     "metadata": {},
     "output_type": "display_data"
    },
    {
     "data": {
      "text/plain": [
       "'sms_protocol.id=119 != sms_protocol_1.id=120'"
      ]
     },
     "metadata": {},
     "output_type": "display_data"
    }
   ],
   "source": [
    "# Mocking Positive scenario for MFA: smsStatus is set to MESSAGE_SENT\n",
    "\n",
    "with MonkeyPatch.context() as monkeypatch:\n",
    "    sample_response = {\n",
    "        \"pinId\": \"my_random_pin_id\",\n",
    "        \"to\": \"910000000000\",\n",
    "        \"ncStatus\": \"NC_NOT_CONFIGURED\",\n",
    "        \"smsStatus\": \"MESSAGE_SENT\",\n",
    "    }\n",
    "    monkeypatch.setattr(\n",
    "        \"airt_service.sms_utils.send_sms\", lambda x, y, z: sample_response\n",
    "    )\n",
    "\n",
    "    with create_mfa_enabled_user() as user_and_session:\n",
    "        user = user_and_session[0]\n",
    "        session = user_and_session[1]\n",
    "\n",
    "        random_phone_number = \"910000000000\"\n",
    "        register_phone_number_request = RegisterPhoneNumberRequest(\n",
    "            phone_number=random_phone_number, otp=pyotp.TOTP(user.mfa_secret).now()\n",
    "        )\n",
    "        actual = register_phone_number(\n",
    "            register_phone_number_request=register_phone_number_request,\n",
    "            user=user,\n",
    "            session=session,\n",
    "        )\n",
    "        display(actual)\n",
    "        assert user.phone_number == random_phone_number\n",
    "        assert user.is_phone_number_verified == False\n",
    "\n",
    "        sms = session.exec(select(SMS).where(SMS.user == user)).one()\n",
    "\n",
    "        display(sms)\n",
    "        assert sms.user_id == user.id\n",
    "\n",
    "        sms_protocol = session.exec(\n",
    "            select(SMSProtocol).where(SMSProtocol.sms_id == sms.id)\n",
    "        ).one()\n",
    "\n",
    "        display(sms_protocol)\n",
    "        assert sms_protocol.sms_id == sms.id\n",
    "\n",
    "        # Triggering Multiple phone number register request and making sure the previous records in the sms_protocol are cleared\n",
    "        register_phone_number_request = RegisterPhoneNumberRequest(\n",
    "            phone_number=random_phone_number, otp=pyotp.TOTP(user.mfa_secret).now()\n",
    "        )\n",
    "        actual = register_phone_number(\n",
    "            register_phone_number_request=register_phone_number_request,\n",
    "            user=user,\n",
    "            session=session,\n",
    "        )\n",
    "        display(actual)\n",
    "\n",
    "        sms = session.exec(select(SMS).where(SMS.user == user)).one()\n",
    "\n",
    "        display(sms)\n",
    "        assert sms.user_id == user.id\n",
    "\n",
    "        sms_protocol_1 = session.exec(\n",
    "            select(SMSProtocol).where(SMSProtocol.sms_id == sms.id)\n",
    "        ).one()\n",
    "\n",
    "        display(sms_protocol_1)\n",
    "        assert sms_protocol_1.sms_id == sms.id\n",
    "\n",
    "        display(f\"{sms_protocol.id=} != {sms_protocol_1.id=}\")\n",
    "        assert sms_protocol.id != sms_protocol_1.id"
   ]
  },
  {
   "cell_type": "code",
   "execution_count": null,
   "metadata": {},
   "outputs": [
    {
     "data": {
      "text/plain": [
       "'Failed to send OTP via SMS. Please check the phone number you have registered is valid and can receive SMS. Also, make sure the format of the phone number you have entered follows the pattern of country code followed by your phone number (without spaces). For example, 440123456789, +440123456789, and 00440123456789 are all valid formats for registering a UK phone number.'"
      ]
     },
     "metadata": {},
     "output_type": "display_data"
    }
   ],
   "source": [
    "# Mocking Negative scenario for Non-MFA: smsStatus is set to MESSAGE_NOT_SENT\n",
    "\n",
    "with MonkeyPatch.context() as monkeypatch:\n",
    "    sample_response = {\n",
    "        \"pinId\": \"my_random_pin_id\",\n",
    "        \"to\": \"910000000000\",\n",
    "        \"ncStatus\": \"NC_NOT_CONFIGURED\",\n",
    "        \"smsStatus\": \"MESSAGE_NOT_SENT\",\n",
    "    }\n",
    "    monkeypatch.setattr(\n",
    "        \"airt_service.sms_utils.send_sms\", lambda x, y, z: sample_response\n",
    "    )\n",
    "\n",
    "    with get_session_with_context() as session:\n",
    "        user = session.exec(select(User).where(User.username == test_username)).one()\n",
    "\n",
    "        random_phone_number = \"910000000000\"\n",
    "        register_phone_number_request = RegisterPhoneNumberRequest(\n",
    "            phone_number=random_phone_number\n",
    "        )\n",
    "        with pytest.raises(HTTPException) as e:\n",
    "            register_phone_number(\n",
    "                register_phone_number_request=register_phone_number_request,\n",
    "                user=user,\n",
    "                session=session,\n",
    "            )\n",
    "        display(e.value.detail)\n",
    "        assert \"Failed to send OTP via SMS\" in str(e.value.detail), str(e.value.detail)"
   ]
  },
  {
   "cell_type": "code",
   "execution_count": null,
   "metadata": {},
   "outputs": [
    {
     "data": {
      "text/plain": [
       "'Too many requests. Try again later.'"
      ]
     },
     "metadata": {},
     "output_type": "display_data"
    }
   ],
   "source": [
    "# Mocking Negative scenario for Non-MFA: SMS request limit expired for the phone number\n",
    "\n",
    "with MonkeyPatch.context() as monkeypatch:\n",
    "    sample_response = {\n",
    "        \"requestError\": {\n",
    "            \"serviceException\": {\n",
    "                \"messageId\": \"THROTTLE_EXCEPTION\",\n",
    "                \"text\": \"Too many requests. Try again later.\",\n",
    "            }\n",
    "        }\n",
    "    }\n",
    "    monkeypatch.setattr(\n",
    "        \"airt_service.sms_utils.send_sms\", lambda x, y, z: sample_response\n",
    "    )\n",
    "\n",
    "    with get_session_with_context() as session:\n",
    "        user = session.exec(select(User).where(User.username == test_username)).one()\n",
    "\n",
    "        random_phone_number = \"910000000000\"\n",
    "        register_phone_number_request = RegisterPhoneNumberRequest(\n",
    "            phone_number=random_phone_number\n",
    "        )\n",
    "        with pytest.raises(HTTPException) as e:\n",
    "            register_phone_number(\n",
    "                register_phone_number_request=register_phone_number_request,\n",
    "                user=user,\n",
    "                session=session,\n",
    "            )\n",
    "        display(e.value.detail)\n",
    "        assert \"Too many requests. Try again later\" in str(e.value.detail), str(\n",
    "            e.value.detail\n",
    "        )"
   ]
  },
  {
   "cell_type": "code",
   "execution_count": null,
   "metadata": {},
   "outputs": [],
   "source": [
    "# | export\n",
    "\n",
    "\n",
    "@user_router.get(\n",
    "    \"/validate_phone_number\",\n",
    "    response_model=UserRead,\n",
    "    responses={\n",
    "        400: {\"model\": HTTPError, \"description\": ERRORS[\"PHONE_NUMBER_NOT_REGISTERED\"]},\n",
    "    },\n",
    ")\n",
    "def validate_phone_number(\n",
    "    otp: str,\n",
    "    user: User = Depends(get_current_active_user),\n",
    "    session: Session = Depends(get_session),\n",
    ") -> User:\n",
    "    \"\"\"Validate user's phone number\"\"\"\n",
    "    user = session.merge(user)\n",
    "\n",
    "    if user.phone_number is None:\n",
    "        raise HTTPException(\n",
    "            status_code=status.HTTP_400_BAD_REQUEST,\n",
    "            detail=ERRORS[\"PHONE_NUMBER_NOT_REGISTERED\"],\n",
    "        )\n",
    "\n",
    "    validate_otp(\n",
    "        user=user,\n",
    "        otp=otp,\n",
    "        message_template_name=\"register_phone_number\",\n",
    "        session=session,\n",
    "    )\n",
    "\n",
    "    with commit_or_rollback(session):\n",
    "        user.is_phone_number_verified = True\n",
    "        session.add(user)\n",
    "\n",
    "    return user"
   ]
  },
  {
   "cell_type": "code",
   "execution_count": null,
   "metadata": {},
   "outputs": [
    {
     "data": {
      "text/plain": [
       "'The phone number is not yet registered. Please register your phone number before calling this method.'"
      ]
     },
     "metadata": {},
     "output_type": "display_data"
    }
   ],
   "source": [
    "test_username = create_user_for_testing()\n",
    "\n",
    "with get_session_with_context() as session:\n",
    "    user = session.exec(select(User).where(User.username == test_username)).one()\n",
    "\n",
    "    with pytest.raises(HTTPException) as e:\n",
    "        invalid_otp = 123456\n",
    "        validate_phone_number(otp=invalid_otp, user=user, session=session)\n",
    "    display(e.value.detail)\n",
    "    assert \"The phone number is not yet registered\" in str(e.value.detail), str(\n",
    "        e.value.detail\n",
    "    )"
   ]
  },
  {
   "cell_type": "code",
   "execution_count": null,
   "metadata": {},
   "outputs": [
    {
     "data": {
      "text/plain": [
       "User(id=1136, uuid=UUID('ecf7af07-9036-440d-a5fd-3ba5a9a5d5ce'), username='axiwqelnlv', first_name='unittest', last_name='user', email='axiwqelnlv@email.com', subscription_type=<SubscriptionType.test: 'test'>, super_user=False, disabled=False, created=datetime.datetime(2023, 3, 10, 10, 26, 1), phone_number='910000000000', is_phone_number_verified=False, mfa_secret=****, is_mfa_active=False)"
      ]
     },
     "metadata": {},
     "output_type": "display_data"
    },
    {
     "data": {
      "text/plain": [
       "User(id=1136, uuid=UUID('ecf7af07-9036-440d-a5fd-3ba5a9a5d5ce'), username='axiwqelnlv', first_name='unittest', last_name='user', email='axiwqelnlv@email.com', subscription_type=<SubscriptionType.test: 'test'>, super_user=False, disabled=False, created=datetime.datetime(2023, 3, 10, 10, 26, 1), phone_number='910000000000', is_phone_number_verified=True, mfa_secret=****, is_mfa_active=False)"
      ]
     },
     "metadata": {},
     "output_type": "display_data"
    },
    {
     "data": {
      "text/plain": [
       "SMS(application_id='12D2CA96F21A5ED26508CAAEB221A4C4', message_id='60583E51E79AA5AF2A0D9E974D648689', id=120, user_id=1136)"
      ]
     },
     "metadata": {},
     "output_type": "display_data"
    },
    {
     "data": {
      "text/plain": [
       "sqlalchemy.exc.NoResultFound('No row was found when one was required')"
      ]
     },
     "metadata": {},
     "output_type": "display_data"
    }
   ],
   "source": [
    "# Mocking Positive scenario\n",
    "test_username = create_user_for_testing()\n",
    "with MonkeyPatch.context() as monkeypatch:\n",
    "    send_sms_sample_response = {\n",
    "        \"pinId\": \"my_random_pin_id\",\n",
    "        \"to\": \"910000000000\",\n",
    "        \"ncStatus\": \"NC_NOT_CONFIGURED\",\n",
    "        \"smsStatus\": \"MESSAGE_SENT\",\n",
    "    }\n",
    "    monkeypatch.setattr(\n",
    "        \"airt_service.sms_utils.send_sms\", lambda x, y, z: send_sms_sample_response\n",
    "    )\n",
    "\n",
    "    verify_pin_sample_response = {\n",
    "        \"pinId\": \"my_random_pin_id\",\n",
    "        \"msisdn\": \"910000000000\",\n",
    "        \"verified\": True,\n",
    "        \"attemptsRemaining\": 0,\n",
    "    }\n",
    "\n",
    "    monkeypatch.setattr(\n",
    "        \"airt_service.sms_utils.verify_pin\", lambda x, y: verify_pin_sample_response\n",
    "    )\n",
    "\n",
    "    with get_session_with_context() as session:\n",
    "        user = session.exec(select(User).where(User.username == test_username)).one()\n",
    "        # register phone number\n",
    "        random_phone_number = \"910000000000\"\n",
    "        register_phone_number_request = RegisterPhoneNumberRequest(\n",
    "            phone_number=random_phone_number\n",
    "        )\n",
    "        actual = register_phone_number(\n",
    "            register_phone_number_request=register_phone_number_request,\n",
    "            user=user,\n",
    "            session=session,\n",
    "        )\n",
    "        display(actual)\n",
    "        assert user.phone_number == random_phone_number\n",
    "        assert user.is_phone_number_verified == False\n",
    "\n",
    "        # validate phone number\n",
    "        randon_otp = 111111\n",
    "        actual = validate_phone_number(otp=randon_otp, user=user, session=session)\n",
    "\n",
    "        display(actual)\n",
    "        assert user.phone_number == random_phone_number\n",
    "        assert user.is_phone_number_verified == True\n",
    "\n",
    "        sms = session.exec(select(SMS).where(SMS.user == user)).one()\n",
    "\n",
    "        display(sms)\n",
    "        assert sms.user_id == user.id\n",
    "\n",
    "        with pytest.raises(NoResultFound) as e:\n",
    "            sms_protocol = session.exec(\n",
    "                select(SMSProtocol).where(SMSProtocol.sms_id == sms.id)\n",
    "            ).one()\n",
    "        display(e.value)"
   ]
  },
  {
   "cell_type": "code",
   "execution_count": null,
   "metadata": {},
   "outputs": [
    {
     "data": {
      "text/plain": [
       "User(id=1137, uuid=UUID('c3a121c4-5340-4f86-a959-475f1c519fc2'), username='ichricpomx', first_name='unittest', last_name='user', email='ichricpomx@email.com', subscription_type=<SubscriptionType.test: 'test'>, super_user=False, disabled=False, created=datetime.datetime(2023, 3, 10, 10, 26, 5), phone_number='910000000000', is_phone_number_verified=False, mfa_secret=****, is_mfa_active=False)"
      ]
     },
     "metadata": {},
     "output_type": "display_data"
    },
    {
     "data": {
      "text/plain": [
       "'Incorrect OTP. Please enter the OTP you have received on your registered phone number and try again.'"
      ]
     },
     "metadata": {},
     "output_type": "display_data"
    },
    {
     "data": {
      "text/plain": [
       "'Too many failed attempts. Please initiate the phone registration process again.'"
      ]
     },
     "metadata": {},
     "output_type": "display_data"
    },
    {
     "data": {
      "text/plain": [
       "SMS(application_id='12D2CA96F21A5ED26508CAAEB221A4C4', message_id='60583E51E79AA5AF2A0D9E974D648689', id=121, user_id=1137)"
      ]
     },
     "metadata": {},
     "output_type": "display_data"
    },
    {
     "data": {
      "text/plain": [
       "SMSProtocol(id=122, number_lookup_status='NC_NOT_CONFIGURED', phone_number='910000000000', pin_attempts_remaining=0, pin_id='my_random_pin_id', sent_sms_status='MESSAGE_SENT', pin_verified=False, sms_id=121)"
      ]
     },
     "metadata": {},
     "output_type": "display_data"
    }
   ],
   "source": [
    "# Mocking Negative scenario: wrong PIN with attemptsRemaining = 0\n",
    "test_username = create_user_for_testing()\n",
    "with MonkeyPatch.context() as monkeypatch:\n",
    "    send_sms_sample_response = {\n",
    "        \"pinId\": \"my_random_pin_id\",\n",
    "        \"to\": \"910000000000\",\n",
    "        \"ncStatus\": \"NC_NOT_CONFIGURED\",\n",
    "        \"smsStatus\": \"MESSAGE_SENT\",\n",
    "    }\n",
    "    monkeypatch.setattr(\n",
    "        \"airt_service.sms_utils.send_sms\", lambda x, y, z: send_sms_sample_response\n",
    "    )\n",
    "\n",
    "    verify_pin_sample_response = {\n",
    "        \"pinId\": \"my_random_pin_id\",\n",
    "        \"msisdn\": \"910000000000\",\n",
    "        \"verified\": False,\n",
    "        \"attemptsRemaining\": 0,\n",
    "        \"pinError\": \"WRONG_PIN\",\n",
    "    }\n",
    "\n",
    "    monkeypatch.setattr(\n",
    "        \"airt_service.sms_utils.verify_pin\", lambda x, y: verify_pin_sample_response\n",
    "    )\n",
    "\n",
    "    with get_session_with_context() as session:\n",
    "        user = session.exec(select(User).where(User.username == test_username)).one()\n",
    "\n",
    "        random_phone_number = \"910000000000\"\n",
    "        register_phone_number_request = RegisterPhoneNumberRequest(\n",
    "            phone_number=random_phone_number\n",
    "        )\n",
    "        actual = register_phone_number(\n",
    "            register_phone_number_request=register_phone_number_request,\n",
    "            user=user,\n",
    "            session=session,\n",
    "        )\n",
    "        display(actual)\n",
    "        assert user.phone_number == random_phone_number\n",
    "        assert user.is_phone_number_verified == False\n",
    "\n",
    "        with pytest.raises(HTTPException) as e:\n",
    "            randon_otp = 111111\n",
    "            validate_phone_number(otp=randon_otp, user=user, session=session)\n",
    "\n",
    "        display(e.value.detail)\n",
    "        assert \"Incorrect OTP\" in str(e.value.detail), str(e.value.detail)\n",
    "\n",
    "        with pytest.raises(HTTPException) as e:\n",
    "            randon_otp = 111111\n",
    "            validate_phone_number(otp=randon_otp, user=user, session=session)\n",
    "\n",
    "        display(e.value.detail)\n",
    "        assert \"Too many failed attempts\" in str(e.value.detail), str(e.value.detail)\n",
    "\n",
    "        sms = session.exec(select(SMS).where(SMS.user == user)).one()\n",
    "\n",
    "        display(sms)\n",
    "        assert sms.user_id == user.id\n",
    "\n",
    "        sms_protocol = session.exec(\n",
    "            select(SMSProtocol).where(SMSProtocol.sms_id == sms.id)\n",
    "        ).one()\n",
    "\n",
    "        display(sms_protocol)\n",
    "        assert sms_protocol.sms_id == sms.id"
   ]
  },
  {
   "cell_type": "code",
   "execution_count": null,
   "metadata": {},
   "outputs": [],
   "source": [
    "# | export\n",
    "\n",
    "\n",
    "class ResetPasswordRequest(BaseModel):\n",
    "    \"\"\"Request object to reset user's password\n",
    "\n",
    "    Args:\n",
    "        username: Username to reset the password\n",
    "        new_password: New password to set for the user's account\n",
    "        otp: Dynamically generated six-digit verification code from the authenticator app or the OTP received via SMS\n",
    "    \"\"\"\n",
    "\n",
    "    username: str\n",
    "    new_password: str\n",
    "    otp: str"
   ]
  },
  {
   "cell_type": "code",
   "execution_count": null,
   "metadata": {},
   "outputs": [],
   "source": [
    "# | export\n",
    "\n",
    "\n",
    "def require_otp_or_totp(message_template_name: str) -> Callable[..., Any]:\n",
    "    \"\"\"A decorator function to validate the totp/otp\n",
    "\n",
    "    If the totp/otp validation fails, the user will not be granted access to the decorated route\n",
    "\n",
    "    Args:\n",
    "        message_template_name: Name of the message template that was used to send the SMS\n",
    "    \"\"\"\n",
    "\n",
    "    def outer_wrapper(func: Callable[..., Any]) -> Callable[..., Any]:\n",
    "        @functools.wraps(func)\n",
    "        def inner_wrapper(*args: Any, **kwargs: Any) -> Any:\n",
    "            username = get_attr_by_name(kwargs, \"username\")\n",
    "            otp_or_totp = get_attr_by_name(kwargs, \"otp\")\n",
    "            session = kwargs[\"session\"]\n",
    "\n",
    "            user = get_user(username)  # type: ignore\n",
    "            if user is None:\n",
    "                raise HTTPException(\n",
    "                    status_code=status.HTTP_401_UNAUTHORIZED,\n",
    "                    detail=ERRORS[\"INCORRECT_USERNAME_OR_OTP\"],\n",
    "                )\n",
    "\n",
    "            if user.is_mfa_active:\n",
    "                try:\n",
    "                    validate_totp(user.mfa_secret, otp_or_totp)  # type: ignore\n",
    "                    return func(*args, **kwargs)\n",
    "                except HTTPException as e:\n",
    "                    pass\n",
    "            try:\n",
    "                validate_otp(\n",
    "                    user=user,\n",
    "                    otp=otp_or_totp,  # type: ignore\n",
    "                    message_template_name=message_template_name,\n",
    "                    session=session,\n",
    "                )\n",
    "            except HTTPException as e:\n",
    "                raise HTTPException(\n",
    "                    status_code=status.HTTP_401_UNAUTHORIZED,\n",
    "                    detail=ERRORS[\"INCORRECT_USERNAME_OR_OTP\"],\n",
    "                )\n",
    "\n",
    "            # Do something before\n",
    "            return func(*args, **kwargs)\n",
    "            # Do something after\n",
    "\n",
    "        return inner_wrapper\n",
    "\n",
    "    return outer_wrapper"
   ]
  },
  {
   "cell_type": "code",
   "execution_count": null,
   "metadata": {},
   "outputs": [
    {
     "data": {
      "text/plain": [
       "'Something went wrong. The username or OTP you entered is incorrect. Please try again or contact your administrator.'"
      ]
     },
     "metadata": {},
     "output_type": "display_data"
    }
   ],
   "source": [
    "reset_password_request = ResetPasswordRequest(\n",
    "    username=\"this_is_an_invalid_username\", new_password=\"random_password\", otp=\"000000\"\n",
    ")\n",
    "\n",
    "\n",
    "@require_otp_or_totp(message_template_name=\"reset_password\")\n",
    "def test_require_otp_or_totp(\n",
    "    reset_password_request,\n",
    "    session,\n",
    "):\n",
    "    return \"Ok\"\n",
    "\n",
    "\n",
    "with get_session_with_context() as session:\n",
    "    with pytest.raises(HTTPException) as e:\n",
    "        test_require_otp_or_totp(\n",
    "            reset_password_request=reset_password_request, session=session\n",
    "        )\n",
    "    display(e.value.detail)"
   ]
  },
  {
   "cell_type": "code",
   "execution_count": null,
   "metadata": {},
   "outputs": [
    {
     "data": {
      "text/plain": [
       "User(id=1138, uuid=UUID('e7448293-8664-4278-97ef-567b5f02938a'), username='bdgpgdhveb', first_name='unittest', last_name='user', email='bdgpgdhveb@email.com', subscription_type=<SubscriptionType.test: 'test'>, super_user=False, disabled=False, created=datetime.datetime(2023, 3, 10, 10, 26, 9), phone_number='910000000000', is_phone_number_verified=True, mfa_secret=**********************************, is_mfa_active=True)"
      ]
     },
     "metadata": {},
     "output_type": "display_data"
    },
    {
     "data": {
      "text/plain": [
       "'If you have already registered and verified your phone number, you will receive the OTP by SMS. If you did not receive the OTP, please contact your administrator.'"
      ]
     },
     "metadata": {},
     "output_type": "display_data"
    },
    {
     "data": {
      "text/plain": [
       "'Ok'"
      ]
     },
     "metadata": {},
     "output_type": "display_data"
    }
   ],
   "source": [
    "test_username = create_user_for_testing()\n",
    "random_phone_number = \"910000000000\"\n",
    "random_sms_pin_id = \"my_random_pin_id\"\n",
    "message_template_name = \"reset_password\"\n",
    "random_sms_otp = \"111111\"\n",
    "with MonkeyPatch.context() as monkeypatch:\n",
    "    send_sms_sample_response = {\n",
    "        \"pinId\": random_sms_pin_id,\n",
    "        \"to\": random_phone_number,\n",
    "        \"ncStatus\": \"NC_NOT_CONFIGURED\",\n",
    "        \"smsStatus\": \"MESSAGE_SENT\",\n",
    "    }\n",
    "    monkeypatch.setattr(\n",
    "        \"airt_service.sms_utils.send_sms\", lambda x, y, z: send_sms_sample_response\n",
    "    )\n",
    "\n",
    "    verify_pin_sample_response = {\n",
    "        \"pinId\": random_sms_pin_id,\n",
    "        \"msisdn\": random_phone_number,\n",
    "        \"verified\": True,\n",
    "        \"attemptsRemaining\": 0,\n",
    "    }\n",
    "\n",
    "    monkeypatch.setattr(\n",
    "        \"airt_service.sms_utils.verify_pin\", lambda x, y: verify_pin_sample_response\n",
    "    )\n",
    "\n",
    "    with get_session_with_context() as session:\n",
    "        user = session.exec(select(User).where(User.username == test_username)).one()\n",
    "        user.phone_number = random_phone_number\n",
    "        user.is_phone_number_verified = True\n",
    "        session.add(user)\n",
    "        session.commit()\n",
    "        session.refresh(user)\n",
    "\n",
    "        actual = generate_mfa_url(user=user, session=session)\n",
    "        assert user.mfa_secret is not None\n",
    "        # activate MFA\n",
    "        activate_mfa_request = ActivateMFARequest(\n",
    "            user_otp=pyotp.TOTP(user.mfa_secret).now()\n",
    "        )\n",
    "        actual = activate_mfa(\n",
    "            activate_mfa_request=activate_mfa_request, user=user, session=session\n",
    "        )\n",
    "        assert actual.is_mfa_active\n",
    "        display(actual)\n",
    "\n",
    "    actual = send_sms_otp(\n",
    "        username=test_username,\n",
    "        message_template_name=message_template_name,\n",
    "        session=session,\n",
    "    )\n",
    "    display(actual)\n",
    "\n",
    "    reset_password_request = ResetPasswordRequest(\n",
    "        username=test_username, new_password=\"random_password\", otp=\"000000\"\n",
    "    )\n",
    "    actual = test_require_otp_or_totp(\n",
    "        reset_password_request=reset_password_request, session=session\n",
    "    )\n",
    "    display(actual)"
   ]
  },
  {
   "cell_type": "code",
   "execution_count": null,
   "metadata": {},
   "outputs": [
    {
     "data": {
      "text/plain": [
       "User(id=1139, uuid=UUID('3b1e02b0-8c21-43c3-ba61-0e4a17c5c022'), username='rvgerfqcfk', first_name='unittest', last_name='user', email='rvgerfqcfk@email.com', subscription_type=<SubscriptionType.test: 'test'>, super_user=False, disabled=False, created=datetime.datetime(2023, 3, 10, 10, 26, 13), phone_number='910000000000', is_phone_number_verified=True, mfa_secret=**********************************, is_mfa_active=True)"
      ]
     },
     "metadata": {},
     "output_type": "display_data"
    },
    {
     "data": {
      "text/plain": [
       "'If you have already registered and verified your phone number, you will receive the OTP by SMS. If you did not receive the OTP, please contact your administrator.'"
      ]
     },
     "metadata": {},
     "output_type": "display_data"
    },
    {
     "data": {
      "text/plain": [
       "'Something went wrong. The username or OTP you entered is incorrect. Please try again or contact your administrator.'"
      ]
     },
     "metadata": {},
     "output_type": "display_data"
    }
   ],
   "source": [
    "test_username = create_user_for_testing()\n",
    "random_phone_number = \"910000000000\"\n",
    "random_sms_pin_id = \"my_random_pin_id\"\n",
    "message_template_name = \"reset_password\"\n",
    "random_sms_otp = \"111111\"\n",
    "with MonkeyPatch.context() as monkeypatch:\n",
    "    send_sms_sample_response = {\n",
    "        \"pinId\": random_sms_pin_id,\n",
    "        \"to\": random_phone_number,\n",
    "        \"ncStatus\": \"NC_NOT_CONFIGURED\",\n",
    "        \"smsStatus\": \"MESSAGE_SENT\",\n",
    "    }\n",
    "    monkeypatch.setattr(\n",
    "        \"airt_service.sms_utils.send_sms\", lambda x, y, z: send_sms_sample_response\n",
    "    )\n",
    "\n",
    "    verify_pin_sample_response = {\n",
    "        \"pinId\": random_sms_pin_id,\n",
    "        \"msisdn\": random_phone_number,\n",
    "        \"verified\": False,\n",
    "        \"attemptsRemaining\": 0,\n",
    "        \"pinError\": \"WRONG_PIN\",\n",
    "    }\n",
    "\n",
    "    monkeypatch.setattr(\n",
    "        \"airt_service.sms_utils.verify_pin\", lambda x, y: verify_pin_sample_response\n",
    "    )\n",
    "\n",
    "    with get_session_with_context() as session:\n",
    "        user = session.exec(select(User).where(User.username == test_username)).one()\n",
    "        user.phone_number = random_phone_number\n",
    "        user.is_phone_number_verified = True\n",
    "        session.add(user)\n",
    "        session.commit()\n",
    "        session.refresh(user)\n",
    "\n",
    "        actual = generate_mfa_url(user=user, session=session)\n",
    "        assert user.mfa_secret is not None\n",
    "        # activate MFA\n",
    "        activate_mfa_request = ActivateMFARequest(\n",
    "            user_otp=pyotp.TOTP(user.mfa_secret).now()\n",
    "        )\n",
    "        actual = activate_mfa(\n",
    "            activate_mfa_request=activate_mfa_request, user=user, session=session\n",
    "        )\n",
    "        assert actual.is_mfa_active\n",
    "        display(actual)\n",
    "\n",
    "    actual = send_sms_otp(\n",
    "        username=test_username,\n",
    "        message_template_name=message_template_name,\n",
    "        session=session,\n",
    "    )\n",
    "    display(actual)\n",
    "\n",
    "    reset_password_request = ResetPasswordRequest(\n",
    "        username=test_username, new_password=\"random_password\", otp=\"000000\"\n",
    "    )\n",
    "    with pytest.raises(HTTPException) as e:\n",
    "        test_require_otp_or_totp(\n",
    "            reset_password_request=reset_password_request, session=session\n",
    "        )\n",
    "    display(e.value.detail)"
   ]
  },
  {
   "cell_type": "code",
   "execution_count": null,
   "metadata": {},
   "outputs": [],
   "source": [
    "# | export\n",
    "\n",
    "\n",
    "@user_router.post(\n",
    "    \"/reset_password\",\n",
    "    responses={\n",
    "        401: {\"model\": HTTPError, \"description\": ERRORS[\"INCORRECT_USERNAME_OR_OTP\"]},\n",
    "    },\n",
    ")\n",
    "@require_otp_or_totp(message_template_name=\"reset_password\")\n",
    "def reset_password(\n",
    "    reset_password_request: ResetPasswordRequest,\n",
    "    session: Session = Depends(get_session),\n",
    ") -> str:\n",
    "    \"\"\"Reset passowrd for the user\"\"\"\n",
    "    username = reset_password_request.username\n",
    "    new_password = reset_password_request.new_password\n",
    "\n",
    "    user = get_user(username)\n",
    "    user = session.merge(user)\n",
    "\n",
    "    with commit_or_rollback(session):\n",
    "        user.password = get_password_hash(new_password)  # type: ignore\n",
    "        session.add(user)\n",
    "\n",
    "    return PASSWORD_RESET_MSG"
   ]
  },
  {
   "cell_type": "code",
   "execution_count": null,
   "metadata": {},
   "outputs": [
    {
     "data": {
      "text/plain": [
       "'Something went wrong. The username or OTP you entered is incorrect. Please try again or contact your administrator.'"
      ]
     },
     "metadata": {},
     "output_type": "display_data"
    }
   ],
   "source": [
    "# Tests for reset_password:\n",
    "# Negative Scenario: passing invalid username\n",
    "\n",
    "reset_password_request = ResetPasswordRequest(\n",
    "    username=\"this_is_an_invalid_username\", new_password=\"random_password\", otp=\"000000\"\n",
    ")\n",
    "\n",
    "with pytest.raises(HTTPException) as e:\n",
    "    reset_password(reset_password_request=reset_password_request, session=session)\n",
    "\n",
    "\n",
    "assert \"Something went wrong\" in str(e.value.detail), str(e.value.detail)\n",
    "display(e.value.detail)"
   ]
  },
  {
   "cell_type": "code",
   "execution_count": null,
   "metadata": {},
   "outputs": [
    {
     "data": {
      "text/plain": [
       "'If you have already registered and verified your phone number, you will receive the OTP by SMS. If you did not receive the OTP, please contact your administrator.'"
      ]
     },
     "metadata": {},
     "output_type": "display_data"
    },
    {
     "data": {
      "text/plain": [
       "'\\n\\nSomething went wrong. The username or OTP you entered is incorrect. Please try again or contact your administrator.'"
      ]
     },
     "metadata": {},
     "output_type": "display_data"
    }
   ],
   "source": [
    "# Tests for reset_password:\n",
    "# Negative Scenario: Non-MFA user with no phone number registered trying to reset_password\n",
    "test_username = create_user_for_testing()\n",
    "message_template_name = \"password_reset\"\n",
    "actual = send_sms_otp(\n",
    "    username=test_username, message_template_name=message_template_name, session=session\n",
    ")\n",
    "display(actual)\n",
    "\n",
    "reset_password_request = ResetPasswordRequest(\n",
    "    username=test_username, new_password=\"random_password\", otp=\"000000\"\n",
    ")\n",
    "\n",
    "with pytest.raises(HTTPException) as e:\n",
    "    reset_password(reset_password_request=reset_password_request, session=session)\n",
    "\n",
    "\n",
    "assert \"Something went wrong\" in str(e.value.detail), str(e.value.detail)\n",
    "display(f\"\\n\\n{e.value.detail}\")"
   ]
  },
  {
   "cell_type": "code",
   "execution_count": null,
   "metadata": {},
   "outputs": [
    {
     "data": {
      "text/plain": [
       "'If you have already registered and verified your phone number, you will receive the OTP by SMS. If you did not receive the OTP, please contact your administrator.'"
      ]
     },
     "metadata": {},
     "output_type": "display_data"
    },
    {
     "data": {
      "text/plain": [
       "'\\n\\nSomething went wrong. The username or OTP you entered is incorrect. Please try again or contact your administrator.'"
      ]
     },
     "metadata": {},
     "output_type": "display_data"
    }
   ],
   "source": [
    "# Tests for reset_password:\n",
    "# Negative Scenario: Non-MFA user with no phone number not validated trying to reset_password\n",
    "\n",
    "random_phone_number = \"910000000000\"\n",
    "message_template_name = \"password_reset\"\n",
    "with get_session_with_context() as session:\n",
    "    user = session.exec(select(User).where(User.username == test_username)).one()\n",
    "    user.phone_number = random_phone_number\n",
    "    session.add(user)\n",
    "    session.commit()\n",
    "\n",
    "    actual = send_sms_otp(\n",
    "        username=test_username,\n",
    "        message_template_name=message_template_name,\n",
    "        session=session,\n",
    "    )\n",
    "    display(actual)\n",
    "\n",
    "    reset_password_request = ResetPasswordRequest(\n",
    "        username=test_username, new_password=\"random_password\", otp=\"000000\"\n",
    "    )\n",
    "\n",
    "    with pytest.raises(HTTPException) as e:\n",
    "        reset_password(reset_password_request=reset_password_request, session=session)\n",
    "\n",
    "\n",
    "assert \"Something went wrong\" in str(e.value.detail), str(e.value.detail)\n",
    "display(f\"\\n\\n{e.value.detail}\")"
   ]
  },
  {
   "cell_type": "code",
   "execution_count": null,
   "metadata": {},
   "outputs": [
    {
     "data": {
      "text/plain": [
       "'If you have already registered and verified your phone number, you will receive the OTP by SMS. If you did not receive the OTP, please contact your administrator.'"
      ]
     },
     "metadata": {},
     "output_type": "display_data"
    },
    {
     "data": {
      "text/plain": [
       "'\\n\\nSomething went wrong. The username or OTP you entered is incorrect. Please try again or contact your administrator.'"
      ]
     },
     "metadata": {},
     "output_type": "display_data"
    }
   ],
   "source": [
    "# Tests for reset_password:\n",
    "# Negative Scenario: Non-MFA user with phone number validated passing invalid OTP\n",
    "\n",
    "test_username = create_user_for_testing()\n",
    "random_phone_number = \"910000000000\"\n",
    "random_sms_pin_id = \"my_random_pin_id\"\n",
    "message_template_name = \"password_reset\"\n",
    "with MonkeyPatch.context() as monkeypatch:\n",
    "    send_sms_sample_response = {\n",
    "        \"pinId\": random_sms_pin_id,\n",
    "        \"to\": random_phone_number,\n",
    "        \"ncStatus\": \"NC_NOT_CONFIGURED\",\n",
    "        \"smsStatus\": \"MESSAGE_SENT\",\n",
    "    }\n",
    "    monkeypatch.setattr(\n",
    "        \"airt_service.sms_utils.send_sms\", lambda x, y, z: send_sms_sample_response\n",
    "    )\n",
    "\n",
    "    verify_pin_sample_response = {\n",
    "        \"pinId\": random_sms_pin_id,\n",
    "        \"msisdn\": random_phone_number,\n",
    "        \"verified\": False,\n",
    "        \"attemptsRemaining\": 0,\n",
    "        \"pinError\": \"WRONG_PIN\",\n",
    "    }\n",
    "\n",
    "    monkeypatch.setattr(\n",
    "        \"airt_service.sms_utils.verify_pin\", lambda x, y: verify_pin_sample_response\n",
    "    )\n",
    "\n",
    "    with get_session_with_context() as session:\n",
    "        user = session.exec(select(User).where(User.username == test_username)).one()\n",
    "        user.phone_number = random_phone_number\n",
    "        user.is_phone_number_verified = True\n",
    "        session.add(user)\n",
    "        session.commit()\n",
    "        session.refresh(user)\n",
    "\n",
    "    actual = send_sms_otp(\n",
    "        username=test_username,\n",
    "        message_template_name=message_template_name,\n",
    "        session=session,\n",
    "    )\n",
    "    display(actual)\n",
    "\n",
    "    reset_password_request = ResetPasswordRequest(\n",
    "        username=test_username, new_password=\"random_password\", otp=\"000000\"\n",
    "    )\n",
    "\n",
    "    with pytest.raises(HTTPException) as e:\n",
    "        reset_password(reset_password_request=reset_password_request, session=session)\n",
    "\n",
    "assert \"Something went wrong\" in str(e.value.detail), str(e.value.detail)\n",
    "display(f\"\\n\\n{e.value.detail}\")"
   ]
  },
  {
   "cell_type": "code",
   "execution_count": null,
   "metadata": {},
   "outputs": [
    {
     "data": {
      "text/plain": [
       "'If you have already registered and verified your phone number, you will receive the OTP by SMS. If you did not receive the OTP, please contact your administrator.'"
      ]
     },
     "metadata": {},
     "output_type": "display_data"
    },
    {
     "data": {
      "text/plain": [
       "'\\n\\nSomething went wrong. The username or OTP you entered is incorrect. Please try again or contact your administrator.'"
      ]
     },
     "metadata": {},
     "output_type": "display_data"
    }
   ],
   "source": [
    "# Tests for reset_password:\n",
    "# Negative Scenario: Non-MFA user with phone number validated passing invalid message_template_name\n",
    "\n",
    "test_username = create_user_for_testing()\n",
    "random_phone_number = \"910000000000\"\n",
    "random_sms_pin_id = \"my_random_pin_id\"\n",
    "new_password = \"random_password\"\n",
    "message_template_name = \"invalid_message_template_name\"\n",
    "with MonkeyPatch.context() as monkeypatch:\n",
    "    send_sms_sample_response = {\n",
    "        \"pinId\": random_sms_pin_id,\n",
    "        \"to\": random_phone_number,\n",
    "        \"ncStatus\": \"NC_NOT_CONFIGURED\",\n",
    "        \"smsStatus\": \"MESSAGE_SENT\",\n",
    "    }\n",
    "    monkeypatch.setattr(\n",
    "        \"airt_service.sms_utils.send_sms\", lambda x, y, z: send_sms_sample_response\n",
    "    )\n",
    "\n",
    "    verify_pin_sample_response = {\n",
    "        \"pinId\": random_sms_pin_id,\n",
    "        \"msisdn\": random_phone_number,\n",
    "        \"verified\": True,\n",
    "        \"attemptsRemaining\": 0,\n",
    "    }\n",
    "\n",
    "    monkeypatch.setattr(\n",
    "        \"airt_service.sms_utils.verify_pin\", lambda x, y: verify_pin_sample_response\n",
    "    )\n",
    "\n",
    "    with get_session_with_context() as session:\n",
    "        user = session.exec(select(User).where(User.username == test_username)).one()\n",
    "        user.phone_number = random_phone_number\n",
    "        user.is_phone_number_verified = True\n",
    "        session.add(user)\n",
    "        session.commit()\n",
    "        session.refresh(user)\n",
    "\n",
    "    actual = send_sms_otp(\n",
    "        username=test_username,\n",
    "        message_template_name=message_template_name,\n",
    "        session=session,\n",
    "    )\n",
    "    display(actual)\n",
    "\n",
    "    reset_password_request = ResetPasswordRequest(\n",
    "        username=test_username, new_password=new_password, otp=\"000000\"\n",
    "    )\n",
    "    with pytest.raises(HTTPException) as e:\n",
    "        reset_password(reset_password_request=reset_password_request, session=session)\n",
    "\n",
    "    assert \"Something went wrong\" in str(e.value.detail), str(e.value.detail)\n",
    "    display(f\"\\n\\n{e.value.detail}\")\n",
    "\n",
    "    with get_session_with_context() as session:\n",
    "        with pytest.raises(NoResultFound) as e:\n",
    "            sms = session.exec(select(SMS).where(SMS.user == user)).one()"
   ]
  },
  {
   "cell_type": "code",
   "execution_count": null,
   "metadata": {},
   "outputs": [
    {
     "data": {
      "text/plain": [
       "'If you have already registered and verified your phone number, you will receive the OTP by SMS. If you did not receive the OTP, please contact your administrator.'"
      ]
     },
     "metadata": {},
     "output_type": "display_data"
    },
    {
     "data": {
      "text/plain": [
       "'\\n\\nPassword reset successful'"
      ]
     },
     "metadata": {},
     "output_type": "display_data"
    },
    {
     "data": {
      "text/plain": [
       "'verify_password(new_password, user.password)=True'"
      ]
     },
     "metadata": {},
     "output_type": "display_data"
    },
    {
     "data": {
      "text/plain": [
       "SMS(application_id='12D2CA96F21A5ED26508CAAEB221A4C4', message_id='ECF0E776D585FFDA169CC14AE45A41FB', id=124, user_id=1143)"
      ]
     },
     "metadata": {},
     "output_type": "display_data"
    },
    {
     "data": {
      "text/plain": [
       "sqlalchemy.exc.NoResultFound('No row was found when one was required')"
      ]
     },
     "metadata": {},
     "output_type": "display_data"
    }
   ],
   "source": [
    "# Tests for reset_password:\n",
    "# Positive Scenario: Non-MFA user with phone number validated passing valid OTP\n",
    "\n",
    "test_username = create_user_for_testing()\n",
    "random_phone_number = \"910000000000\"\n",
    "random_sms_pin_id = \"my_random_pin_id\"\n",
    "new_password = \"random_password\"\n",
    "message_template_name = \"reset_password\"\n",
    "with MonkeyPatch.context() as monkeypatch:\n",
    "    send_sms_sample_response = {\n",
    "        \"pinId\": random_sms_pin_id,\n",
    "        \"to\": random_phone_number,\n",
    "        \"ncStatus\": \"NC_NOT_CONFIGURED\",\n",
    "        \"smsStatus\": \"MESSAGE_SENT\",\n",
    "    }\n",
    "    monkeypatch.setattr(\n",
    "        \"airt_service.sms_utils.send_sms\", lambda x, y, z: send_sms_sample_response\n",
    "    )\n",
    "\n",
    "    verify_pin_sample_response = {\n",
    "        \"pinId\": random_sms_pin_id,\n",
    "        \"msisdn\": random_phone_number,\n",
    "        \"verified\": True,\n",
    "        \"attemptsRemaining\": 0,\n",
    "    }\n",
    "\n",
    "    monkeypatch.setattr(\n",
    "        \"airt_service.sms_utils.verify_pin\", lambda x, y: verify_pin_sample_response\n",
    "    )\n",
    "\n",
    "    with get_session_with_context() as session:\n",
    "        user = session.exec(select(User).where(User.username == test_username)).one()\n",
    "        user.phone_number = random_phone_number\n",
    "        user.is_phone_number_verified = True\n",
    "        session.add(user)\n",
    "        session.commit()\n",
    "        session.refresh(user)\n",
    "\n",
    "    actual = send_sms_otp(\n",
    "        username=test_username,\n",
    "        message_template_name=message_template_name,\n",
    "        session=session,\n",
    "    )\n",
    "    display(actual)\n",
    "\n",
    "    reset_password_request = ResetPasswordRequest(\n",
    "        username=test_username, new_password=new_password, otp=\"000000\"\n",
    "    )\n",
    "\n",
    "    actual = reset_password(\n",
    "        reset_password_request=reset_password_request, session=session\n",
    "    )\n",
    "    display(f\"\\n\\n{actual}\")\n",
    "    assert \"Password reset successful\" in actual\n",
    "\n",
    "    with get_session_with_context() as session:\n",
    "        user = session.exec(select(User).where(User.username == test_username)).one()\n",
    "        display(f\"{verify_password(new_password, user.password)=}\")\n",
    "        assert verify_password(new_password, user.password)\n",
    "\n",
    "        sms = session.exec(select(SMS).where(SMS.user == user)).one()\n",
    "\n",
    "        display(sms)\n",
    "        assert sms.user_id == user.id\n",
    "\n",
    "        with pytest.raises(NoResultFound) as e:\n",
    "            sms_protocol = session.exec(\n",
    "                select(SMSProtocol).where(SMSProtocol.sms_id == sms.id)\n",
    "            ).one()\n",
    "        display(e.value)"
   ]
  },
  {
   "cell_type": "code",
   "execution_count": null,
   "metadata": {},
   "outputs": [
    {
     "data": {
      "text/plain": [
       "'\\n\\nSomething went wrong. The username or OTP you entered is incorrect. Please try again or contact your administrator.'"
      ]
     },
     "metadata": {},
     "output_type": "display_data"
    }
   ],
   "source": [
    "# Tests for reset_password:\n",
    "# Negative Scenario: MFA user without phone number passing invalid otp\n",
    "with create_mfa_enabled_user() as user_and_session:\n",
    "    user, session = user_and_session\n",
    "\n",
    "    reset_password_request = ResetPasswordRequest(\n",
    "        username=user.username, new_password=\"random_password\", otp=\"000000\"\n",
    "    )\n",
    "\n",
    "    with pytest.raises(HTTPException) as e:\n",
    "        reset_password(reset_password_request=reset_password_request, session=session)\n",
    "\n",
    "\n",
    "assert \"Something went wrong\" in str(e.value.detail), str(e.value.detail)\n",
    "display(f\"\\n\\n{e.value.detail}\")"
   ]
  },
  {
   "cell_type": "code",
   "execution_count": null,
   "metadata": {},
   "outputs": [
    {
     "data": {
      "text/plain": [
       "'If you have already registered and verified your phone number, you will receive the OTP by SMS. If you did not receive the OTP, please contact your administrator.'"
      ]
     },
     "metadata": {},
     "output_type": "display_data"
    },
    {
     "data": {
      "text/plain": [
       "'\\n\\nPassword reset successful'"
      ]
     },
     "metadata": {},
     "output_type": "display_data"
    },
    {
     "data": {
      "text/plain": [
       "'verify_password(new_password, user.password)=True'"
      ]
     },
     "metadata": {},
     "output_type": "display_data"
    },
    {
     "data": {
      "text/plain": [
       "sqlalchemy.exc.NoResultFound('No row was found when one was required')"
      ]
     },
     "metadata": {},
     "output_type": "display_data"
    }
   ],
   "source": [
    "# Tests for reset_password:\n",
    "# Positive Scenario: MFA user without phone number passing valid totp\n",
    "\n",
    "new_password = \"random_password\"\n",
    "message_template_name = \"reset_password\"\n",
    "with create_mfa_enabled_user() as user_and_session:\n",
    "    user, session = user_and_session\n",
    "\n",
    "    actual = send_sms_otp(\n",
    "        username=user.username,\n",
    "        message_template_name=message_template_name,\n",
    "        session=session,\n",
    "    )\n",
    "    display(actual)\n",
    "\n",
    "    reset_password_request = ResetPasswordRequest(\n",
    "        username=user.username,\n",
    "        new_password=new_password,\n",
    "        otp=pyotp.TOTP(user.mfa_secret).now(),\n",
    "    )\n",
    "    actual = reset_password(\n",
    "        reset_password_request=reset_password_request, session=session\n",
    "    )\n",
    "    display(f\"\\n\\n{actual}\")\n",
    "    assert \"Password reset successful\" in actual\n",
    "\n",
    "with get_session_with_context() as session:\n",
    "    user = session.exec(select(User).where(User.username == user.username)).one()\n",
    "\n",
    "    display(f\"{verify_password(new_password, user.password)=}\")\n",
    "    assert verify_password(new_password, user.password)\n",
    "\n",
    "    with pytest.raises(NoResultFound) as e:\n",
    "        session.exec(select(SMS).where(SMS.user == user)).one()\n",
    "    display(e.value)"
   ]
  },
  {
   "cell_type": "code",
   "execution_count": null,
   "metadata": {},
   "outputs": [
    {
     "data": {
      "text/plain": [
       "\"user.phone_number='910000000000'\""
      ]
     },
     "metadata": {},
     "output_type": "display_data"
    },
    {
     "data": {
      "text/plain": [
       "'\\n\\nPassword reset successful'"
      ]
     },
     "metadata": {},
     "output_type": "display_data"
    },
    {
     "data": {
      "text/plain": [
       "'verify_password(new_password, user.password)=True'"
      ]
     },
     "metadata": {},
     "output_type": "display_data"
    },
    {
     "data": {
      "text/plain": [
       "sqlalchemy.exc.NoResultFound('No row was found when one was required')"
      ]
     },
     "metadata": {},
     "output_type": "display_data"
    }
   ],
   "source": [
    "# Tests for reset_password:\n",
    "# Positive Scenario: MFA user with phone number calling reset_password directly with a valid totp\n",
    "\n",
    "\n",
    "random_phone_number = \"910000000000\"\n",
    "new_password = \"random_password\"\n",
    "with create_mfa_enabled_user() as user_and_session:\n",
    "    user, session = user_and_session\n",
    "\n",
    "    user.phone_number = random_phone_number\n",
    "    user.is_phone_number_verified = True\n",
    "    session.add(user)\n",
    "    session.commit()\n",
    "    session.refresh(user)\n",
    "    display(f\"{user.phone_number=}\")\n",
    "    assert user.phone_number\n",
    "    assert user.is_phone_number_verified\n",
    "\n",
    "    reset_password_request = ResetPasswordRequest(\n",
    "        username=user.username,\n",
    "        new_password=new_password,\n",
    "        otp=pyotp.TOTP(user.mfa_secret).now(),\n",
    "    )\n",
    "    actual = reset_password(\n",
    "        reset_password_request=reset_password_request, session=session\n",
    "    )\n",
    "    display(f\"\\n\\n{actual}\")\n",
    "    assert \"Password reset successful\" in actual\n",
    "\n",
    "    with get_session_with_context() as session:\n",
    "        user = session.exec(select(User).where(User.username == user.username)).one()\n",
    "        display(f\"{verify_password(new_password, user.password)=}\")\n",
    "        assert verify_password(new_password, user.password)\n",
    "        with pytest.raises(NoResultFound) as e:\n",
    "            sms = session.exec(select(SMS).where(SMS.user == user)).one()\n",
    "        display(e.value)"
   ]
  },
  {
   "cell_type": "code",
   "execution_count": null,
   "metadata": {},
   "outputs": [
    {
     "data": {
      "text/plain": [
       "\"user.phone_number='910000000000'\""
      ]
     },
     "metadata": {},
     "output_type": "display_data"
    },
    {
     "data": {
      "text/plain": [
       "'If you have already registered and verified your phone number, you will receive the OTP by SMS. If you did not receive the OTP, please contact your administrator.'"
      ]
     },
     "metadata": {},
     "output_type": "display_data"
    },
    {
     "data": {
      "text/plain": [
       "'\\n\\nPassword reset successful'"
      ]
     },
     "metadata": {},
     "output_type": "display_data"
    },
    {
     "data": {
      "text/plain": [
       "'verify_password(new_password, user.password)=True'"
      ]
     },
     "metadata": {},
     "output_type": "display_data"
    },
    {
     "data": {
      "text/plain": [
       "SMS(application_id='12D2CA96F21A5ED26508CAAEB221A4C4', message_id='ECF0E776D585FFDA169CC14AE45A41FB', id=125, user_id=1147)"
      ]
     },
     "metadata": {},
     "output_type": "display_data"
    }
   ],
   "source": [
    "# Tests for reset_password:\n",
    "# Positive Scenario: MFA user with phone number passing valid totp (First calls send_sms_otp, then calls reset_password with valid totp)\n",
    "\n",
    "random_sms_pin_id = \"00000000000000\"\n",
    "random_phone_number = \"910000000000\"\n",
    "new_password = \"random_password\"\n",
    "message_template_name = \"reset_password\"\n",
    "with MonkeyPatch.context() as monkeypatch:\n",
    "    send_sms_sample_response = {\n",
    "        \"pinId\": random_sms_pin_id,\n",
    "        \"to\": random_phone_number,\n",
    "        \"ncStatus\": \"NC_NOT_CONFIGURED\",\n",
    "        \"smsStatus\": \"MESSAGE_SENT\",\n",
    "    }\n",
    "    monkeypatch.setattr(\n",
    "        \"airt_service.sms_utils.send_sms\", lambda x, y, z: send_sms_sample_response\n",
    "    )\n",
    "\n",
    "    with create_mfa_enabled_user() as user_and_session:\n",
    "        user, session = user_and_session\n",
    "\n",
    "        user.phone_number = random_phone_number\n",
    "        user.is_phone_number_verified = True\n",
    "        session.add(user)\n",
    "        session.commit()\n",
    "        session.refresh(user)\n",
    "        display(f\"{user.phone_number=}\")\n",
    "        assert user.phone_number\n",
    "        assert user.is_phone_number_verified\n",
    "\n",
    "        actual = send_sms_otp(\n",
    "            username=user.username,\n",
    "            message_template_name=message_template_name,\n",
    "            session=session,\n",
    "        )\n",
    "        display(actual)\n",
    "\n",
    "        reset_password_request = ResetPasswordRequest(\n",
    "            username=user.username,\n",
    "            new_password=new_password,\n",
    "            otp=pyotp.TOTP(user.mfa_secret).now(),\n",
    "        )\n",
    "        actual = reset_password(\n",
    "            reset_password_request=reset_password_request, session=session\n",
    "        )\n",
    "        display(f\"\\n\\n{actual}\")\n",
    "        assert \"Password reset successful\" in actual\n",
    "\n",
    "    with get_session_with_context() as session:\n",
    "        user = session.exec(select(User).where(User.username == user.username)).one()\n",
    "        display(f\"{verify_password(new_password, user.password)=}\")\n",
    "        assert verify_password(new_password, user.password)\n",
    "        sms = session.exec(select(SMS).where(SMS.user == user)).one()\n",
    "        display(sms)"
   ]
  },
  {
   "cell_type": "code",
   "execution_count": null,
   "metadata": {},
   "outputs": [
    {
     "data": {
      "text/plain": [
       "\"user.phone_number='910000000000'\""
      ]
     },
     "metadata": {},
     "output_type": "display_data"
    },
    {
     "data": {
      "text/plain": [
       "'If you have already registered and verified your phone number, you will receive the OTP by SMS. If you did not receive the OTP, please contact your administrator.'"
      ]
     },
     "metadata": {},
     "output_type": "display_data"
    },
    {
     "data": {
      "text/plain": [
       "'\\n\\nPassword reset successful'"
      ]
     },
     "metadata": {},
     "output_type": "display_data"
    },
    {
     "data": {
      "text/plain": [
       "'verify_password(new_password, user.password)=True'"
      ]
     },
     "metadata": {},
     "output_type": "display_data"
    },
    {
     "data": {
      "text/plain": [
       "SMS(application_id='12D2CA96F21A5ED26508CAAEB221A4C4', message_id='ECF0E776D585FFDA169CC14AE45A41FB', id=126, user_id=1148)"
      ]
     },
     "metadata": {},
     "output_type": "display_data"
    },
    {
     "data": {
      "text/plain": [
       "sqlalchemy.exc.NoResultFound('No row was found when one was required')"
      ]
     },
     "metadata": {},
     "output_type": "display_data"
    }
   ],
   "source": [
    "# Tests for reset_password:\n",
    "# Positive Scenario: MFA user with phone number passing valid sms otp (First calls send_sms_otp, then calls reset_password with valid sms otp)\n",
    "\n",
    "random_sms_pin_id = \"00000000000000\"\n",
    "random_phone_number = \"910000000000\"\n",
    "new_password = \"random_password\"\n",
    "invalid_totp = \"000000\"\n",
    "message_template_name = \"reset_password\"\n",
    "with MonkeyPatch.context() as monkeypatch:\n",
    "    send_sms_sample_response = {\n",
    "        \"pinId\": random_sms_pin_id,\n",
    "        \"to\": random_phone_number,\n",
    "        \"ncStatus\": \"NC_NOT_CONFIGURED\",\n",
    "        \"smsStatus\": \"MESSAGE_SENT\",\n",
    "    }\n",
    "    monkeypatch.setattr(\n",
    "        \"airt_service.sms_utils.send_sms\", lambda x, y, z: send_sms_sample_response\n",
    "    )\n",
    "\n",
    "    verify_pin_sample_response = {\n",
    "        \"pinId\": random_sms_pin_id,\n",
    "        \"msisdn\": random_phone_number,\n",
    "        \"verified\": True,\n",
    "        \"attemptsRemaining\": 0,\n",
    "    }\n",
    "\n",
    "    monkeypatch.setattr(\n",
    "        \"airt_service.sms_utils.verify_pin\", lambda x, y: verify_pin_sample_response\n",
    "    )\n",
    "\n",
    "    with create_mfa_enabled_user() as user_and_session:\n",
    "        user, session = user_and_session\n",
    "\n",
    "        user.phone_number = random_phone_number\n",
    "        user.is_phone_number_verified = True\n",
    "        session.add(user)\n",
    "        session.commit()\n",
    "        session.refresh(user)\n",
    "        display(f\"{user.phone_number=}\")\n",
    "        assert user.phone_number\n",
    "        assert user.is_phone_number_verified\n",
    "\n",
    "        actual = send_sms_otp(\n",
    "            username=user.username,\n",
    "            message_template_name=message_template_name,\n",
    "            session=session,\n",
    "        )\n",
    "        display(actual)\n",
    "\n",
    "        reset_password_request = ResetPasswordRequest(\n",
    "            username=user.username, new_password=new_password, otp=invalid_totp\n",
    "        )\n",
    "        actual = reset_password(\n",
    "            reset_password_request=reset_password_request, session=session\n",
    "        )\n",
    "        display(f\"\\n\\n{actual}\")\n",
    "        assert \"Password reset successful\" in actual\n",
    "\n",
    "        with get_session_with_context() as session:\n",
    "            user = session.exec(\n",
    "                select(User).where(User.username == user.username)\n",
    "            ).one()\n",
    "            display(f\"{verify_password(new_password, user.password)=}\")\n",
    "            assert verify_password(new_password, user.password)\n",
    "            sms = session.exec(select(SMS).where(SMS.user == user)).one()\n",
    "            display(sms)\n",
    "            assert sms.user_id == user.id\n",
    "\n",
    "            with pytest.raises(NoResultFound) as e:\n",
    "                sms_protocol = session.exec(\n",
    "                    select(SMSProtocol).where(SMSProtocol.sms_id == sms.id)\n",
    "                ).one()\n",
    "            display(e.value)"
   ]
  },
  {
   "cell_type": "code",
   "execution_count": null,
   "metadata": {},
   "outputs": [
    {
     "data": {
      "text/plain": [
       "\"user.phone_number='910000000000'\""
      ]
     },
     "metadata": {},
     "output_type": "display_data"
    },
    {
     "data": {
      "text/plain": [
       "'If you have already registered and verified your phone number, you will receive the OTP by SMS. If you did not receive the OTP, please contact your administrator.'"
      ]
     },
     "metadata": {},
     "output_type": "display_data"
    },
    {
     "data": {
      "text/plain": [
       "'\\n\\nSomething went wrong. The username or OTP you entered is incorrect. Please try again or contact your administrator.'"
      ]
     },
     "metadata": {},
     "output_type": "display_data"
    },
    {
     "data": {
      "text/plain": [
       "'verify_password(new_password, user.password)=False'"
      ]
     },
     "metadata": {},
     "output_type": "display_data"
    }
   ],
   "source": [
    "# Tests for reset_password:\n",
    "# Negative Scenario: MFA user with phone number passing invalid sms otp (First calls send_sms_otp, then calls reset_password with invalid sms otp)\n",
    "\n",
    "random_sms_pin_id = \"00000000000000\"\n",
    "random_phone_number = \"910000000000\"\n",
    "new_password = \"random_password\"\n",
    "invalid_totp = \"000000\"\n",
    "message_template_name = \"reset_password\"\n",
    "with MonkeyPatch.context() as monkeypatch:\n",
    "    send_sms_sample_response = {\n",
    "        \"pinId\": random_sms_pin_id,\n",
    "        \"to\": random_phone_number,\n",
    "        \"ncStatus\": \"NC_NOT_CONFIGURED\",\n",
    "        \"smsStatus\": \"MESSAGE_SENT\",\n",
    "    }\n",
    "    monkeypatch.setattr(\n",
    "        \"airt_service.sms_utils.send_sms\", lambda x, y, z: send_sms_sample_response\n",
    "    )\n",
    "\n",
    "    verify_pin_sample_response = {\n",
    "        \"pinId\": random_sms_pin_id,\n",
    "        \"msisdn\": random_phone_number,\n",
    "        \"verified\": False,\n",
    "        \"attemptsRemaining\": 0,\n",
    "        \"pinError\": \"WRONG_PIN\",\n",
    "    }\n",
    "\n",
    "    monkeypatch.setattr(\n",
    "        \"airt_service.sms_utils.verify_pin\", lambda x, y: verify_pin_sample_response\n",
    "    )\n",
    "\n",
    "    with create_mfa_enabled_user() as user_and_session:\n",
    "        user, session = user_and_session\n",
    "\n",
    "        user.phone_number = random_phone_number\n",
    "        user.is_phone_number_verified = True\n",
    "        session.add(user)\n",
    "        session.commit()\n",
    "        session.refresh(user)\n",
    "        display(f\"{user.phone_number=}\")\n",
    "        assert user.phone_number\n",
    "        assert user.is_phone_number_verified\n",
    "\n",
    "        actual = send_sms_otp(\n",
    "            username=user.username,\n",
    "            message_template_name=message_template_name,\n",
    "            session=session,\n",
    "        )\n",
    "        display(actual)\n",
    "\n",
    "        reset_password_request = ResetPasswordRequest(\n",
    "            username=user.username, new_password=new_password, otp=invalid_totp\n",
    "        )\n",
    "        with pytest.raises(HTTPException) as e:\n",
    "            reset_password(\n",
    "                reset_password_request=reset_password_request, session=session\n",
    "            )\n",
    "\n",
    "        assert \"Something went wrong\" in str(e.value.detail), str(e.value.detail)\n",
    "        display(f\"\\n\\n{e.value.detail}\")\n",
    "\n",
    "        with get_session_with_context() as session:\n",
    "            user = session.exec(\n",
    "                select(User).where(User.username == user.username)\n",
    "            ).one()\n",
    "            display(f\"{verify_password(new_password, user.password)=}\")\n",
    "            assert not verify_password(new_password, user.password)"
   ]
  },
  {
   "cell_type": "code",
   "execution_count": null,
   "metadata": {},
   "outputs": [],
   "source": [
    "# | export\n",
    "\n",
    "\n",
    "class UserCleanupRequest(BaseModel):\n",
    "    \"\"\"Request object to cleanup user\n",
    "\n",
    "    Args:\n",
    "        username: username\n",
    "        otp: Dynamically generated six-digit verification code from the authenticator app\n",
    "    \"\"\"\n",
    "\n",
    "    username: str\n",
    "    otp: Optional[str] = None"
   ]
  },
  {
   "cell_type": "code",
   "execution_count": null,
   "metadata": {},
   "outputs": [],
   "source": [
    "# | export\n",
    "\n",
    "\n",
    "@user_router.post(\n",
    "    \"/cleanup\",\n",
    "    response_model=UserRead,\n",
    "    responses={\n",
    "        400: {\"model\": HTTPError, \"description\": ERRORS[\"CANT_CLEANUP_SELF\"]},\n",
    "        401: {\"model\": HTTPError, \"description\": ERRORS[\"NOT_ENOUGH_PERMISSION\"]},\n",
    "    },\n",
    ")\n",
    "@require_otp_if_mfa_enabled\n",
    "@ensure_super_user\n",
    "def cleanup(\n",
    "    user_to_cleanup: UserCleanupRequest,\n",
    "    user: User = Depends(get_current_active_user),\n",
    "    session: Session = Depends(get_session),\n",
    ") -> User:\n",
    "    \"\"\"\n",
    "    Cleanup user\n",
    "    \"\"\"\n",
    "    user = session.merge(user)\n",
    "\n",
    "    if user.username == user_to_cleanup.username:\n",
    "        raise HTTPException(\n",
    "            status_code=status.HTTP_400_BAD_REQUEST,\n",
    "            detail=ERRORS[\"CANT_CLEANUP_SELF\"],\n",
    "        )\n",
    "\n",
    "    try:\n",
    "        user_to_cleanup_obj = session.exec(\n",
    "            select(User).where(User.username == user_to_cleanup.username)\n",
    "        ).one()\n",
    "    except NoResultFound:\n",
    "        raise HTTPException(\n",
    "            status_code=status.HTTP_400_BAD_REQUEST,\n",
    "            detail=ERRORS[\"INCORRECT_USERNAME\"],\n",
    "        )\n",
    "    except Exception as e:\n",
    "        logger.exception(e)\n",
    "        error_message = (\n",
    "            e._message() if callable(getattr(e, \"_message\", None)) else str(e)  # type: ignore\n",
    "        )\n",
    "        raise HTTPException(\n",
    "            status_code=status.HTTP_400_BAD_REQUEST,\n",
    "            detail=error_message,\n",
    "        )\n",
    "\n",
    "    cleanup_user(user_to_cleanup_obj, session)\n",
    "\n",
    "    return user"
   ]
  },
  {
   "cell_type": "code",
   "execution_count": null,
   "metadata": {},
   "outputs": [
    {
     "name": "stdout",
     "output_type": "stream",
     "text": [
      "[INFO] airt_service.confluent: Topic mooffmejor_start_training_data created\n",
      "[INFO] airt_service.confluent: Topic mooffmejor_training_data created\n",
      "[INFO] airt_service.confluent: Topic mooffmejor_realtime_data created\n",
      "[INFO] airt_service.confluent: Topic mooffmejor_training_data_status created\n",
      "[INFO] airt_service.confluent: Topic mooffmejor_training_model_status created\n",
      "[INFO] airt_service.confluent: Topic mooffmejor_model_metrics created\n",
      "[INFO] airt_service.confluent: Topic mooffmejor_prediction created\n"
     ]
    },
    {
     "name": "stderr",
     "output_type": "stream",
     "text": [
      "%4|1678444001.750|CONFWARN|rdkafka#producer-14| [thrd:app]: Configuration property group.id is a consumer property and will be ignored by this producer instance\n",
      "%4|1678444001.750|CONFWARN|rdkafka#producer-14| [thrd:app]: Configuration property auto.offset.reset is a consumer property and will be ignored by this producer instance\n"
     ]
    },
    {
     "data": {
      "text/plain": [
       "'OTP is required. Please enter the OTP generated by the authenticator app or the one you requested via SMS.'"
      ]
     },
     "metadata": {},
     "output_type": "display_data"
    },
    {
     "data": {
      "text/plain": [
       "'Invalid OTP. Please try again.'"
      ]
     },
     "metadata": {},
     "output_type": "display_data"
    }
   ],
   "source": [
    "# MFA enabled user trying to delete user profile\n",
    "with create_mfa_enabled_super_user() as user_and_session:\n",
    "    user = user_and_session[0]\n",
    "    session = user_and_session[1]\n",
    "    # Negative scenario: Not passing the OTP in the request\n",
    "    with pytest.raises(HTTPException) as e:\n",
    "        cleanup(\n",
    "            UserCleanupRequest(username=user.username),\n",
    "            user=user,\n",
    "            session=session,\n",
    "        )\n",
    "    assert \"OTP is required\" in str(e.value.detail), str(e.value.detail)\n",
    "    display(e.value.detail)\n",
    "\n",
    "    # Negative scenario: passing invalid OTP in the request\n",
    "    with pytest.raises(HTTPException) as e:\n",
    "        cleanup(\n",
    "            user_to_cleanup=UserCleanupRequest(username=user.username, otp=\"123123\"),\n",
    "            user=user,\n",
    "            session=session,\n",
    "        )\n",
    "    assert \"Invalid OTP\" in str(e.value.detail), str(e.value.detail)\n",
    "    display(e.value.detail)\n",
    "\n",
    "    # For following test cases\n",
    "    test_user_username = user.username"
   ]
  },
  {
   "cell_type": "code",
   "execution_count": null,
   "metadata": {},
   "outputs": [
    {
     "data": {
      "text/plain": [
       "'MFA is not activated for the account. Please pass the OTP only after activating the MFA for your account.'"
      ]
     },
     "metadata": {},
     "output_type": "display_data"
    }
   ],
   "source": [
    "# Negative Scenario: MFA enabled user trying to cleanup by passing OTP\n",
    "with get_session_with_context() as session:\n",
    "    user = session.exec(select(User).where(User.username == test_username)).one()\n",
    "    with pytest.raises(HTTPException) as e:\n",
    "        user_kumaran = session.exec(\n",
    "            select(User).where(User.username == \"kumaran\")\n",
    "        ).one()\n",
    "        random_otp = 111111\n",
    "        cleanup(\n",
    "            user_to_cleanup=UserCleanupRequest(\n",
    "                username=test_user_username, otp=random_otp\n",
    "            ),\n",
    "            user=user_kumaran,\n",
    "            session=session,\n",
    "        )\n",
    "    assert (\n",
    "        str(e.value.detail)\n",
    "        == \"MFA is not activated for the account. Please pass the OTP only after activating the MFA for your account.\"\n",
    "    )\n",
    "    display(e.value.detail)"
   ]
  },
  {
   "cell_type": "code",
   "execution_count": null,
   "metadata": {},
   "outputs": [
    {
     "data": {
      "text/plain": [
       "<ExceptionInfo HTTPException(status_code=400, detail='Users cannot delete their own account.') tblen=4>"
      ]
     },
     "metadata": {},
     "output_type": "display_data"
    },
    {
     "data": {
      "text/plain": [
       "<ExceptionInfo HTTPException(status_code=401, detail='You do not have sufficient permission to access this route. Please contact your administrator for help.') tblen=3>"
      ]
     },
     "metadata": {},
     "output_type": "display_data"
    }
   ],
   "source": [
    "non_admin_username = create_user_for_testing(subscription_type=\"small\")\n",
    "with get_session_with_context() as session:\n",
    "    user_kumaran = session.exec(select(User).where(User.username == \"kumaran\")).one()\n",
    "    non_admin_user = session.exec(\n",
    "        select(User).where(User.username == non_admin_username)\n",
    "    ).one()\n",
    "\n",
    "    with pytest.raises(HTTPException) as e:\n",
    "        cleanup(\n",
    "            UserCleanupRequest(username=user_kumaran.username),\n",
    "            user=user_kumaran,\n",
    "            session=session,\n",
    "        )\n",
    "    display(e)\n",
    "\n",
    "    with pytest.raises(HTTPException) as e:\n",
    "        cleanup(\n",
    "            UserCleanupRequest(username=user_kumaran.username),\n",
    "            user=non_admin_user,\n",
    "            session=session,\n",
    "        )\n",
    "    display(e)"
   ]
  },
  {
   "cell_type": "code",
   "execution_count": null,
   "metadata": {},
   "outputs": [
    {
     "data": {
      "text/plain": [
       "'ztwdmixrtq'"
      ]
     },
     "metadata": {},
     "output_type": "display_data"
    },
    {
     "name": "stdout",
     "output_type": "stream",
     "text": [
      "[INFO] botocore.credentials: Found credentials in environment variables.\n",
      "[INFO] airt_service.data.datablob: DataBlob.from_local(): FromLocalResponse(uuid=UUID('7ccf4035-fb21-424c-824b-0987f8f0133f'), type='local', presigned={'url': 'https://harish-airt-service-dev-1-eu-west-1.s3.amazonaws.com/', 'fields': {'key': '****************************************', 'x-amz-algorithm': 'AWS4-HMAC-SHA256', 'x-amz-credential': '********************/20230310/eu-west-1/s3/aws4_request', 'x-amz-date': '20230310T102642Z', 'policy': '************************************************************************************************************************************************************************************************************************************************************', 'x-amz-signature': '****************************'}})\n",
      "[INFO] airt.remote_path: RemotePath.from_url(): creating remote path with the following url s3://test-airt-service/account_312571_events\n",
      "[INFO] airt.remote_path: S3Path._create_cache_path(): created cache path: /tmp/s3test-airt-serviceaccount_312571_events_cached_ur1rr1x5\n",
      "[INFO] airt.remote_path: S3Path.__init__(): created object for accessing s3://test-airt-service/account_312571_events locally in /tmp/s3test-airt-serviceaccount_312571_events_cached_ur1rr1x5\n",
      "[INFO] airt.remote_path: S3Path.__enter__(): pulling data from s3://test-airt-service/account_312571_events to /tmp/s3test-airt-serviceaccount_312571_events_cached_ur1rr1x5\n"
     ]
    },
    {
     "data": {
      "text/html": [
       "<div>\n",
       "<style scoped>\n",
       "    .dataframe tbody tr th:only-of-type {\n",
       "        vertical-align: middle;\n",
       "    }\n",
       "\n",
       "    .dataframe tbody tr th {\n",
       "        vertical-align: top;\n",
       "    }\n",
       "\n",
       "    .dataframe thead th {\n",
       "        text-align: right;\n",
       "    }\n",
       "</style>\n",
       "<table border=\"1\" class=\"dataframe\">\n",
       "  <thead>\n",
       "    <tr style=\"text-align: right;\">\n",
       "      <th></th>\n",
       "      <th>AccountId</th>\n",
       "      <th>DefinitionId</th>\n",
       "      <th>OccurredTime</th>\n",
       "      <th>OccurredTimeTicks</th>\n",
       "      <th>PersonId</th>\n",
       "    </tr>\n",
       "    <tr>\n",
       "      <th>__null_dask_index__</th>\n",
       "      <th></th>\n",
       "      <th></th>\n",
       "      <th></th>\n",
       "      <th></th>\n",
       "      <th></th>\n",
       "    </tr>\n",
       "  </thead>\n",
       "  <tbody>\n",
       "    <tr>\n",
       "      <th>0</th>\n",
       "      <td>312571</td>\n",
       "      <td>loadTests2</td>\n",
       "      <td>2019-12-31 21:30:02</td>\n",
       "      <td>1577836802678</td>\n",
       "      <td>2</td>\n",
       "    </tr>\n",
       "    <tr>\n",
       "      <th>1</th>\n",
       "      <td>312571</td>\n",
       "      <td>loadTests3</td>\n",
       "      <td>2020-01-03 23:53:22</td>\n",
       "      <td>1578104602678</td>\n",
       "      <td>2</td>\n",
       "    </tr>\n",
       "    <tr>\n",
       "      <th>2</th>\n",
       "      <td>312571</td>\n",
       "      <td>loadTests1</td>\n",
       "      <td>2020-01-07 02:16:42</td>\n",
       "      <td>1578372402678</td>\n",
       "      <td>2</td>\n",
       "    </tr>\n",
       "    <tr>\n",
       "      <th>3</th>\n",
       "      <td>312571</td>\n",
       "      <td>loadTests2</td>\n",
       "      <td>2020-01-10 04:40:02</td>\n",
       "      <td>1578640202678</td>\n",
       "      <td>2</td>\n",
       "    </tr>\n",
       "    <tr>\n",
       "      <th>4</th>\n",
       "      <td>312571</td>\n",
       "      <td>loadTests3</td>\n",
       "      <td>2020-01-13 07:03:22</td>\n",
       "      <td>1578908002678</td>\n",
       "      <td>2</td>\n",
       "    </tr>\n",
       "  </tbody>\n",
       "</table>\n",
       "</div>"
      ],
      "text/plain": [
       "                     AccountId DefinitionId        OccurredTime  \\\n",
       "__null_dask_index__                                               \n",
       "0                       312571   loadTests2 2019-12-31 21:30:02   \n",
       "1                       312571   loadTests3 2020-01-03 23:53:22   \n",
       "2                       312571   loadTests1 2020-01-07 02:16:42   \n",
       "3                       312571   loadTests2 2020-01-10 04:40:02   \n",
       "4                       312571   loadTests3 2020-01-13 07:03:22   \n",
       "\n",
       "                     OccurredTimeTicks  PersonId  \n",
       "__null_dask_index__                               \n",
       "0                        1577836802678         2  \n",
       "1                        1578104602678         2  \n",
       "2                        1578372402678         2  \n",
       "3                        1578640202678         2  \n",
       "4                        1578908002678         2  "
      ]
     },
     "metadata": {},
     "output_type": "display_data"
    },
    {
     "data": {
      "text/plain": [
       "[Path('/tmp/s3test-airt-serviceaccount_312571_events_cached_ur1rr1x5/_common_metadata'),\n",
       " Path('/tmp/s3test-airt-serviceaccount_312571_events_cached_ur1rr1x5/part.0.parquet'),\n",
       " Path('/tmp/s3test-airt-serviceaccount_312571_events_cached_ur1rr1x5/file.csv'),\n",
       " Path('/tmp/s3test-airt-serviceaccount_312571_events_cached_ur1rr1x5/part.3.parquet'),\n",
       " Path('/tmp/s3test-airt-serviceaccount_312571_events_cached_ur1rr1x5/_metadata'),\n",
       " Path('/tmp/s3test-airt-serviceaccount_312571_events_cached_ur1rr1x5/part.2.parquet'),\n",
       " Path('/tmp/s3test-airt-serviceaccount_312571_events_cached_ur1rr1x5/part.1.parquet'),\n",
       " Path('/tmp/s3test-airt-serviceaccount_312571_events_cached_ur1rr1x5/part.4.parquet')]"
      ]
     },
     "metadata": {},
     "output_type": "display_data"
    },
    {
     "name": "stdout",
     "output_type": "stream",
     "text": [
      "[INFO] airt.remote_path: S3Path._clean_up(): removing local cache path /tmp/s3test-airt-serviceaccount_312571_events_cached_ur1rr1x5\n",
      "[INFO] airt_service.data.csv: process_csv(datablob_id=7, datasource_id=7): processing user uploaded csv file for datablob_id=7 and uploading parquet back to S3 for datasource_id=7\n",
      "[INFO] airt_service.data.csv: process_csv(datablob_id=7, datasource_id=7): step 1/4: downloading user uploaded file from bucket s3://harish-airt-service-dev-1-eu-west-1/1152/datablob/7\n",
      "[INFO] airt.remote_path: RemotePath.from_url(): creating remote path with the following url s3://harish-airt-service-dev-1-eu-west-1/1152/datablob/7\n",
      "[INFO] airt.remote_path: S3Path._create_cache_path(): created cache path: /tmp/s3harish-airt-service-dev-1-eu-west-11152datablob7_cached_az3vwvfl\n",
      "[INFO] airt.remote_path: S3Path.__init__(): created object for accessing s3://harish-airt-service-dev-1-eu-west-1/1152/datablob/7 locally in /tmp/s3harish-airt-service-dev-1-eu-west-11152datablob7_cached_az3vwvfl\n",
      "[INFO] airt.remote_path: S3Path.__enter__(): pulling data from s3://harish-airt-service-dev-1-eu-west-1/1152/datablob/7 to /tmp/s3harish-airt-service-dev-1-eu-west-11152datablob7_cached_az3vwvfl\n",
      "[INFO] airt_service.data.csv: process_csv(datablob_id=7, datasource_id=7): step 2/4: running import_csv()\n",
      "[INFO] airt.remote_path: RemotePath.from_url(): creating remote path with the following url s3://harish-airt-service-dev-1-eu-west-1/1152/datasource/7\n",
      "[INFO] airt.remote_path: S3Path._create_cache_path(): created cache path: /tmp/s3harish-airt-service-dev-1-eu-west-11152datasource7_cached_odde9gg4\n",
      "[INFO] airt.remote_path: S3Path.__init__(): created object for accessing s3://harish-airt-service-dev-1-eu-west-1/1152/datasource/7 locally in /tmp/s3harish-airt-service-dev-1-eu-west-11152datasource7_cached_odde9gg4\n",
      "[INFO] airt.data.importers: import_csv(): importing CSV file(s) from [/tmp/s3harish-airt-service-dev-1-eu-west-11152datablob7_cached_az3vwvfl/file.csv,..., /tmp/s3harish-airt-service-dev-1-eu-west-11152datablob7_cached_az3vwvfl/file.csv] using blocksize='256MB' and kwargs={'usecols': [0, 1, 2, 3, 4], 'parse_dates': ['OccurredTime']} and storing result in /tmp/s3harish-airt-service-dev-1-eu-west-11152datasource7_cached_odde9gg4\n",
      "[INFO] airt.dask_manager: Starting cluster...\n",
      "[INFO] airt.dask_manager: Cluster started: <Client: 'tcp://127.0.0.1:37223' processes=32 threads=32, memory=251.57 GiB>\n",
      "Cluster dashboard: http://127.0.0.1:8787/status\n",
      "[INFO] airt.data.importers: import_csv(): step 1/5: importing data and storing it into partitioned Parquet files\n",
      "[INFO] airt.data.importers:  - number of rows: 498,961\n",
      "[INFO] airt.dask_manager: Starting stopping cluster...\n",
      "[INFO] airt.dask_manager: Cluster stopped\n",
      "[INFO] airt.dask_manager: Starting cluster...\n",
      "[INFO] airt.dask_manager: Cluster started: <Client: 'tcp://127.0.0.1:34833' processes=4 threads=4, memory=251.57 GiB>\n",
      "Cluster dashboard: http://127.0.0.1:8787/status\n",
      "[INFO] airt.data.importers: import_csv(): step 2/5: indexing data by PersonId.\n",
      "[INFO] airt.data.importers:  - number of rows: 498,961\n",
      "[INFO] airt.dask_manager: Starting stopping cluster...\n",
      "[INFO] airt.dask_manager: Cluster stopped\n",
      "[INFO] airt.dask_manager: Starting cluster...\n",
      "[INFO] airt.dask_manager: Cluster started: <Client: 'tcp://127.0.0.1:40099' processes=32 threads=32, memory=251.57 GiB>\n",
      "Cluster dashboard: http://127.0.0.1:8787/status\n",
      "[INFO] airt.data.importers: import_csv(): step 3/5: deduplicating and sorting data by PersonId and OccurredTime.\n",
      "[INFO] airt.data.importers:  - number of rows: 498,961\n",
      "[INFO] airt.data.importers: import_csv(): step 4/5: repartitioning data.\n",
      "[INFO] airt.data.importers:  - number of rows: 498,961\n",
      "[INFO] airt.data.importers: import_csv(): step 5/5: sorting data by PersonId and OccurredTime.\n",
      "[INFO] airt.data.importers:  - number of rows: 498,961\n",
      "[INFO] airt.data.importers: import_csv(): completed, the final data is stored in /tmp/s3harish-airt-service-dev-1-eu-west-11152datasource7_cached_odde9gg4 as Parquet files with:\n",
      "[INFO] airt.data.importers:  - dtypes={'AccountId': dtype('int64'), 'DefinitionId': dtype('O'), 'OccurredTime': dtype('<M8[ns]'), 'OccurredTimeTicks': dtype('int64')}\n",
      "[INFO] airt.data.importers:  - npartitions=1\n",
      "[INFO] airt.data.importers:  - partition_sizes={0: 498961}\n",
      "[INFO] airt.dask_manager: Starting stopping cluster...\n",
      "[INFO] airt.dask_manager: Cluster stopped\n",
      "[INFO] airt_service.data.csv: process_csv(datablob_id=7, datasource_id=7): step 3/4: uploading parquet files back to path S3Path(enter_count=1, remote_url=s3://harish-airt-service-dev-1-eu-west-1/1152/datasource/7, pull_on_enter=False, push_on_exit=True, cache_path=/tmp/s3harish-airt-service-dev-1-eu-west-11152datasource7_cached_odde9gg4, access_key=None, secret_key=None)\n",
      "[INFO] airt.remote_path: S3Path.__exit__(): pushing data from /tmp/s3harish-airt-service-dev-1-eu-west-11152datasource7_cached_odde9gg4 to s3://harish-airt-service-dev-1-eu-west-1/1152/datasource/7\n",
      "[INFO] airt.remote_path: S3Path._clean_up(): removing local cache path /tmp/s3harish-airt-service-dev-1-eu-west-11152datasource7_cached_odde9gg4\n",
      "[INFO] airt.remote_path: S3Path._clean_up(): removing local cache path /tmp/s3harish-airt-service-dev-1-eu-west-11152datablob7_cached_az3vwvfl\n",
      "[INFO] airt_service.data.csv: process_csv(datablob_id=7, datasource_id=7): step 4/4: calculating datasource attributes - folder_size, no_of_rows, head, hash\n",
      "[INFO] airt_service.data.csv: process_csv(datablob_id=7, datasource_id=7): completed\n"
     ]
    },
    {
     "data": {
      "text/plain": [
       "DataSource(id=7, uuid=UUID('7b920451-5d1e-49a4-8dd0-65f0ca732ade'), hash='1dd8ee7a0f96a48110dec6e25891d18d', total_steps=1, completed_steps=1, folder_size=6619982, no_of_rows=498961, cloud_provider=<CloudProvider.aws: 'aws'>, region='eu-west-1', error=None, disabled=False, path='s3://harish-airt-service-dev-1-eu-west-1/1152/datasource/7', created=datetime.datetime(2023, 3, 10, 10, 26, 54), user_id=1152, pulled_on=datetime.datetime(2023, 3, 10, 10, 26, 57), tags=[])"
      ]
     },
     "metadata": {},
     "output_type": "display_data"
    },
    {
     "data": {
      "text/plain": [
       "Model(client_column='AccountId', completed_steps=0, datasource_id=7, cloud_provider=<CloudProvider.aws: 'aws'>, error=None, user_id=1152, target_column='DefinitionId', region='eu-west-1', target='load*', disabled=False, predict_after=datetime.timedelta(days=20), created=datetime.datetime(2023, 3, 10, 10, 27, 12), timestamp_column=None, id=7, total_steps=5, uuid=UUID('8743589d-62cf-43ab-ba9f-8729ea4cd648'), path=None)"
      ]
     },
     "metadata": {},
     "output_type": "display_data"
    },
    {
     "name": "stdout",
     "output_type": "stream",
     "text": [
      "[INFO] airt_service.batch_job: create_batch_job(): command='predict 7', task='csv_processing'\n",
      "[INFO] airt_service.batch_job_components.base: Entering FastAPIBatchJobContext(task=csv_processing)\n",
      "[INFO] airt_service.batch_job: batch_ctx=FastAPIBatchJobContext(task=csv_processing)\n",
      "[INFO] airt_service.batch_job_components.fastapi: FastAPIBatchJobContext.create_job(self=FastAPIBatchJobContext(task=csv_processing), command='predict 7', environment_vars={'AWS_ACCESS_KEY_ID': '********************', 'AWS_SECRET_ACCESS_KEY': '****************************************', 'AWS_DEFAULT_REGION': 'eu-west-1', 'AZURE_SUBSCRIPTION_ID': '************************************', 'AZURE_TENANT_ID': '************************************', 'AZURE_CLIENT_ID': '************************************', 'AZURE_CLIENT_SECRET': '****************************************', 'AZURE_STORAGE_ACCOUNT_PREFIX': 'hariairtcdev', 'AZURE_RESOURCE_GROUP': 'harish-airt-service-dev', 'STORAGE_BUCKET_PREFIX': 'harish-airt-service-dev-1', 'DB_USERNAME': 'root', 'DB_PASSWORD': '****************************************', 'DB_HOST': 'harish-mysql', 'DB_PORT': '3306', 'DB_DATABASE': 'airt_service', 'DB_DATABASE_SERVER': 'mysql'})\n",
      "[INFO] airt_service.batch_job_components.base: Exiting FastAPIBatchJobContext(task=csv_processing): exc_type=None, exc=None, None\n"
     ]
    },
    {
     "data": {
      "text/plain": [
       "Prediction(total_steps=3, completed_steps=0, model_id=7, region='eu-west-1', created=datetime.datetime(2023, 3, 10, 10, 27, 12), path=None, uuid=UUID('8ff65489-b7c7-4f4e-aca3-2e0bf0211797'), cloud_provider=<CloudProvider.aws: 'aws'>, datasource_id=7, error=None, disabled=False, id=7)"
      ]
     },
     "metadata": {},
     "output_type": "display_data"
    }
   ],
   "source": [
    "to_delete_username = create_user_for_testing(subscription_type=\"small\")\n",
    "display(to_delete_username)\n",
    "\n",
    "with get_session_with_context() as session:\n",
    "    user = session.exec(select(User).where(User.username == to_delete_username)).one()\n",
    "\n",
    "    create_apikey(\n",
    "        apikey_to_create=APIKeyCreate(expiry=datetime.utcnow() + timedelta(days=1)),\n",
    "        user=user,\n",
    "        session=session,\n",
    "    )\n",
    "\n",
    "    from_local_request = FromLocalRequest(\n",
    "        path=\"tmp/test-folder/\", tag=\"my_csv_datasource_tag\"\n",
    "    )\n",
    "    from_local_response = from_local_start_route(\n",
    "        from_local_request=from_local_request,\n",
    "        user=user,\n",
    "        session=session,\n",
    "    )\n",
    "\n",
    "    with RemotePath.from_url(\n",
    "        remote_url=f\"s3://test-airt-service/account_312571_events\",\n",
    "        pull_on_enter=True,\n",
    "        push_on_exit=False,\n",
    "        exist_ok=True,\n",
    "        parents=False,\n",
    "        access_key=environ[\"AWS_ACCESS_KEY_ID\"],\n",
    "        secret_key=environ[\"AWS_SECRET_ACCESS_KEY\"],\n",
    "    ) as test_s3_path:\n",
    "        df = pd.read_parquet(test_s3_path.as_path())\n",
    "        display(df.head())\n",
    "        df.to_csv(test_s3_path.as_path() / \"file.csv\", index=False)\n",
    "        display(list(test_s3_path.as_path().glob(\"*\")))\n",
    "        #         !head -n 10 {test_s3_path.as_path()/\"file.csv\"}\n",
    "\n",
    "        upload_to_s3_with_retry(\n",
    "            test_s3_path.as_path() / \"file.csv\",\n",
    "            from_local_response.presigned[\"url\"],\n",
    "            from_local_response.presigned[\"fields\"],\n",
    "        )\n",
    "\n",
    "    datablob_id = (\n",
    "        session.exec(select(DataBlob).where(DataBlob.uuid == from_local_response.uuid))\n",
    "        .one()\n",
    "        .id\n",
    "    )\n",
    "    datasource = DataSource(\n",
    "        datablob_id=datablob_id,\n",
    "        cloud_provider=\"aws\",\n",
    "        region=\"eu-west-1\",\n",
    "        total_steps=1,\n",
    "        user=user,\n",
    "    )\n",
    "    session.add(datasource)\n",
    "    session.commit()\n",
    "\n",
    "    process_csv(\n",
    "        datablob_id=datablob_id,\n",
    "        datasource_id=datasource.id,\n",
    "        deduplicate_data=True,\n",
    "        index_column=\"PersonId\",\n",
    "        sort_by=\"OccurredTime\",\n",
    "        blocksize=\"256MB\",\n",
    "        kwargs_json=json.dumps(\n",
    "            dict(\n",
    "                usecols=[0, 1, 2, 3, 4],\n",
    "                parse_dates=[\"OccurredTime\"],\n",
    "            )\n",
    "        ),\n",
    "    )\n",
    "\n",
    "with get_session_with_context() as session:\n",
    "    datasource = session.exec(\n",
    "        select(DataSource).where(DataSource.id == datasource.id)\n",
    "    ).one()\n",
    "    display(datasource)\n",
    "\n",
    "    train_request = TrainRequest(\n",
    "        data_uuid=datasource.uuid,\n",
    "        client_column=\"AccountId\",\n",
    "        target_column=\"DefinitionId\",\n",
    "        target=\"load*\",\n",
    "        predict_after=timedelta(seconds=20 * 24 * 60 * 60),\n",
    "    )\n",
    "\n",
    "    model = train_model(train_request=train_request, user=user, session=session)\n",
    "    display(model)\n",
    "    # Call exec_cli train_model\n",
    "\n",
    "    b = BackgroundTasks()\n",
    "    with set_env_variable_context(variable=\"JOB_EXECUTOR\", value=\"fastapi\"):\n",
    "        predicted = predict_model(\n",
    "            model_uuid=model.uuid, user=user, session=session, background_tasks=b\n",
    "        )\n",
    "    display(predicted)\n",
    "# Call exec_cli predict_model"
   ]
  },
  {
   "cell_type": "code",
   "execution_count": null,
   "metadata": {},
   "outputs": [
    {
     "name": "stdout",
     "output_type": "stream",
     "text": [
      "[INFO] airt_service.cleanup: deleting predictions\n",
      "[INFO] airt_service.cleanup: deleting models\n",
      "[INFO] airt_service.cleanup: deleting datasources\n",
      "[INFO] airt_service.cleanup: deleting datablobs\n",
      "[INFO] airt_service.cleanup: deleting apikeys\n",
      "[INFO] airt_service.cleanup: Deleting user files in s3://harish-airt-service-dev-1-eu-west-1/1152\n"
     ]
    },
    {
     "name": "stderr",
     "output_type": "stream",
     "text": [
      "%4|1678444033.844|CONFWARN|rdkafka#producer-15| [thrd:app]: Configuration property group.id is a consumer property and will be ignored by this producer instance\n",
      "%4|1678444033.844|CONFWARN|rdkafka#producer-15| [thrd:app]: Configuration property auto.offset.reset is a consumer property and will be ignored by this producer instance\n"
     ]
    },
    {
     "name": "stdout",
     "output_type": "stream",
     "text": [
      "[INFO] airt_service.cleanup: deleting user\n"
     ]
    },
    {
     "data": {
      "text/plain": [
       "<ExceptionInfo HTTPException(status_code=400, detail='Incorrect username. Please try again.') tblen=4>"
      ]
     },
     "metadata": {},
     "output_type": "display_data"
    }
   ],
   "source": [
    "with get_session_with_context() as session:\n",
    "    user_kumaran = session.exec(select(User).where(User.username == \"kumaran\")).one()\n",
    "\n",
    "    cleanup(\n",
    "        UserCleanupRequest(username=to_delete_username),\n",
    "        user=user_kumaran,\n",
    "        session=session,\n",
    "    )\n",
    "\n",
    "    with pytest.raises(NoResultFound):\n",
    "        session.exec(select(User).where(User.username == to_delete_username)).one()\n",
    "\n",
    "    with pytest.raises(HTTPException) as e:\n",
    "        cleanup(\n",
    "            UserCleanupRequest(username=to_delete_username),\n",
    "            user=user_kumaran,\n",
    "            session=session,\n",
    "        )\n",
    "    display(e)"
   ]
  },
  {
   "cell_type": "code",
   "execution_count": null,
   "metadata": {},
   "outputs": [],
   "source": []
  }
 ],
 "metadata": {
  "kernelspec": {
   "display_name": "python3",
   "language": "python",
   "name": "python3"
  }
 },
 "nbformat": 4,
 "nbformat_minor": 2
}
