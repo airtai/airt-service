{
 "cells": [
  {
   "cell_type": "raw",
   "metadata": {},
   "source": [
    "---\n",
    "description: Notebook for SMS utility functions\n",
    "output-file: sms_utils.html\n",
    "title: SMS Utilities\n",
    "\n",
    "---\n",
    "\n"
   ]
  },
  {
   "cell_type": "code",
   "execution_count": null,
   "id": "31d3c598",
   "metadata": {},
   "outputs": [],
   "source": [
    "# | default_exp sms_utils"
   ]
  },
  {
   "cell_type": "code",
   "execution_count": null,
   "id": "6689fa4b",
   "metadata": {},
   "outputs": [
    {
     "name": "stdout",
     "output_type": "stream",
     "text": [
      "[INFO] airt.testing.activate_by_import: Testing environment activated.\n",
      "[INFO] numexpr.utils: Note: NumExpr detected 64 cores but \"NUMEXPR_MAX_THREADS\" not set, so enforcing safe limit of 8.\n",
      "[INFO] numexpr.utils: NumExpr defaulting to 8 threads.\n",
      "[INFO] airt.keras.helpers: Using a single GPU #0 with memory_limit 1024 MB\n"
     ]
    }
   ],
   "source": [
    "from airt.testing import activate_by_import"
   ]
  },
  {
   "cell_type": "code",
   "execution_count": null,
   "id": "96af62b3",
   "metadata": {},
   "outputs": [],
   "source": [
    "# | export\n",
    "\n",
    "import json\n",
    "import os\n",
    "from time import sleep\n",
    "from typing import *\n",
    "\n",
    "import numpy as np\n",
    "import requests\n",
    "from airt.logger import get_logger\n",
    "from fastapi import HTTPException, status\n",
    "from sqlmodel import Session, select\n",
    "\n",
    "import airt_service\n",
    "import airt_service.sanitizer\n",
    "from airt_service.db.models import SMS, SMSProtocol, User\n",
    "from airt_service.errors import ERRORS\n",
    "from airt_service.helpers import commit_or_rollback"
   ]
  },
  {
   "cell_type": "code",
   "execution_count": null,
   "id": "5ff3c086",
   "metadata": {},
   "outputs": [
    {
     "name": "stdout",
     "output_type": "stream",
     "text": [
      "[INFO] airt.executor.subcommand: Module loaded.\n"
     ]
    }
   ],
   "source": [
    "from contextlib import contextmanager\n",
    "\n",
    "import pyotp\n",
    "import pytest\n",
    "from _pytest.monkeypatch import MonkeyPatch\n",
    "\n",
    "from airt_service.db.models import (\n",
    "    User,\n",
    "    create_user_for_testing,\n",
    "    get_session_with_context,\n",
    ")\n",
    "from airt_service.users import (\n",
    "    ActivateMFARequest,\n",
    "    activate_mfa,\n",
    "    generate_mfa_url,\n",
    "    send_sms_otp,\n",
    ")"
   ]
  },
  {
   "cell_type": "code",
   "execution_count": null,
   "id": "9c53c216",
   "metadata": {},
   "outputs": [],
   "source": [
    "# | exporti\n",
    "\n",
    "logger = get_logger(__name__)"
   ]
  },
  {
   "cell_type": "code",
   "execution_count": null,
   "id": "40faa911",
   "metadata": {},
   "outputs": [
    {
     "name": "stdout",
     "output_type": "stream",
     "text": [
      "[INFO] __main__: log a random string\n"
     ]
    }
   ],
   "source": [
    "logger.info(\"log a random string\")"
   ]
  },
  {
   "cell_type": "code",
   "execution_count": null,
   "id": "e6f0eea3",
   "metadata": {},
   "outputs": [],
   "source": [
    "# | exporti\n",
    "\n",
    "\n",
    "def _generate_application_name() -> str:\n",
    "    \"\"\"Generate an application template name\n",
    "\n",
    "    The generated template name will be used to create an application template which is necessary for\n",
    "    using the infobip 2FA service. These templates will be created only once and will be reused on\n",
    "    subsequent requests.\n",
    "\n",
    "    Returns:\n",
    "        The application template name\n",
    "    \"\"\"\n",
    "    domain = os.environ[\"DOMAIN\"]\n",
    "\n",
    "    return os.environ[\"HOSTNAME\"] if domain == \"localhost\" else domain"
   ]
  },
  {
   "cell_type": "code",
   "execution_count": null,
   "id": "108fd13e",
   "metadata": {},
   "outputs": [],
   "source": [
    "@contextmanager\n",
    "def change_domain(domain_name: str):\n",
    "    try:\n",
    "        domain = os.environ[\"DOMAIN\"]\n",
    "        os.environ[\"DOMAIN\"] = domain_name\n",
    "        yield\n",
    "    finally:\n",
    "        os.environ[\"DOMAIN\"] = domain"
   ]
  },
  {
   "cell_type": "code",
   "execution_count": null,
   "id": "2fa9400c",
   "metadata": {},
   "outputs": [
    {
     "data": {
      "text/plain": [
       "'random_domain'"
      ]
     },
     "metadata": {},
     "output_type": "display_data"
    },
    {
     "data": {
      "text/plain": [
       "'harish-airt-service-devel'"
      ]
     },
     "metadata": {},
     "output_type": "display_data"
    }
   ],
   "source": [
    "expected = \"random_domain\"\n",
    "with change_domain(expected):\n",
    "    actual = _generate_application_name()\n",
    "    display(actual)\n",
    "    assert actual == expected\n",
    "\n",
    "\n",
    "actual = _generate_application_name()\n",
    "expected = os.environ[\"HOSTNAME\"]\n",
    "display(actual)\n",
    "assert actual == expected"
   ]
  },
  {
   "cell_type": "code",
   "execution_count": null,
   "id": "7ba7604c",
   "metadata": {},
   "outputs": [],
   "source": [
    "# | export\n",
    "\n",
    "\n",
    "def get_application_and_message_config() -> Dict[str, Dict[str, Any]]:\n",
    "    \"\"\"Get the application and message template configurations\n",
    "\n",
    "    Before using the Infobip's 2FA service it is necessary to configure the properties and templates for the use case. Properties,\n",
    "    such as the number of allowed PIN attempts and PIN time to live etc., are configured by creating an application. Templates,\n",
    "    such as message text, PIN type, PIN length etc., are configured by creating a Message Template.\n",
    "\n",
    "    Returns:\n",
    "        The application and message template configurations\n",
    "    \"\"\"\n",
    "    return {\n",
    "        \"application_config\": {\n",
    "            \"name\": f\"{_generate_application_name()}\",\n",
    "            \"configuration\": {\n",
    "                \"sendPinPerPhoneNumberLimit\": \"30/1d\",  # Default value in Infobip: \"3/1d\"\n",
    "            },\n",
    "        },\n",
    "        \"message_config\": {\n",
    "            \"register_phone_number\": {\n",
    "                \"senderId\": f\"{os.environ['INFOBIP_SENDER_ID']}\",\n",
    "                \"pinType\": \"NUMERIC\",\n",
    "                \"messageText\": \"{{pin}} is your OTP to register the phone number. This OTP is valid for the next 15 mins.\",\n",
    "                \"pinLength\": 6,\n",
    "            },\n",
    "            \"reset_password\": {\n",
    "                \"senderId\": f\"{os.environ['INFOBIP_SENDER_ID']}\",\n",
    "                \"pinType\": \"NUMERIC\",\n",
    "                \"messageText\": \"{{pin}} is your OTP to reset the password. This OTP is valid for the next 15 mins.\",\n",
    "                \"pinLength\": 6,\n",
    "            },\n",
    "            \"disable_mfa\": {\n",
    "                \"senderId\": f\"{os.environ['INFOBIP_SENDER_ID']}\",\n",
    "                \"pinType\": \"NUMERIC\",\n",
    "                \"messageText\": \"{{pin}} is your OTP to disable the multi-factor authentication (MFA). This OTP is valid for the next 15 mins.\",\n",
    "                \"pinLength\": 6,\n",
    "            },\n",
    "            \"get_token\": {\n",
    "                \"senderId\": f\"{os.environ['INFOBIP_SENDER_ID']}\",\n",
    "                \"pinType\": \"NUMERIC\",\n",
    "                \"messageText\": \"{{pin}} is your OTP to get an application token. This OTP is valid for the next 15 mins.\",\n",
    "                \"pinLength\": 6,\n",
    "            },\n",
    "        },\n",
    "    }"
   ]
  },
  {
   "cell_type": "code",
   "execution_count": null,
   "id": "a1fa9436",
   "metadata": {},
   "outputs": [
    {
     "data": {
      "text/plain": [
       "['register_phone_number', 'reset_password', 'disable_mfa', 'get_token']"
      ]
     },
     "execution_count": null,
     "metadata": {},
     "output_type": "execute_result"
    }
   ],
   "source": [
    "config = get_application_and_message_config()\n",
    "assert config[\"application_config\"][\"name\"] == (\n",
    "    os.environ[\"HOSTNAME\"] or os.environ[\"DOMAIN\"]\n",
    ")\n",
    "\n",
    "allowed_message_template_names = list(config[\"message_config\"].keys())\n",
    "\n",
    "assert [\n",
    "    \"register_phone_number\",\n",
    "    \"reset_password\",\n",
    "    \"disable_mfa\",\n",
    "    \"get_token\",\n",
    "] == allowed_message_template_names, allowed_message_template_names\n",
    "allowed_message_template_names"
   ]
  },
  {
   "cell_type": "code",
   "execution_count": null,
   "id": "5089cf48",
   "metadata": {},
   "outputs": [],
   "source": [
    "# | exporti\n",
    "\n",
    "\n",
    "def _send_get_request_to_infobip(\n",
    "    relative_url: str,\n",
    ") -> Union[Dict[str, Any], List[Dict[str, Any]]]:\n",
    "    \"\"\"Send a GET request to Infobip\n",
    "\n",
    "    Args:\n",
    "        relative_url: The relative url of the infobip endpoint\n",
    "\n",
    "    Returns:\n",
    "        A list of JSON objects\n",
    "    \"\"\"\n",
    "\n",
    "    headers = {\n",
    "        \"Authorization\": f\"App {os.environ['INFOBIP_API_KEY']}\",\n",
    "        \"Accept\": \"application/json\",\n",
    "    }\n",
    "    url = f\"{os.environ['INFOBIP_BASE_URL']}{relative_url}\"\n",
    "    for i in range(3):\n",
    "        err = None\n",
    "        try:\n",
    "            response = requests.get(url, headers=headers)\n",
    "            if response:\n",
    "                response_json = response.json()\n",
    "                break\n",
    "            else:\n",
    "                err = response.text\n",
    "                sleep(np.random.uniform(1, 3))\n",
    "\n",
    "        except Exception as e:\n",
    "            raise HTTPException(\n",
    "                status_code=status.HTTP_503_SERVICE_UNAVAILABLE,\n",
    "                detail=ERRORS[\"MESSAGING_SERVICE_UNAVAILABLE\"],\n",
    "            )\n",
    "    if err:\n",
    "        logger.exception(f\"Unexpected response from infobip\", exc_info=err)\n",
    "        raise HTTPException(status_code=500, detail=f\"Unexpected exception: {err}\")\n",
    "\n",
    "    return response_json  # type: ignore"
   ]
  },
  {
   "cell_type": "code",
   "execution_count": null,
   "id": "4debb351",
   "metadata": {},
   "outputs": [],
   "source": [
    "relative_url = \"/2fa/2/applications\"\n",
    "applications = _send_get_request_to_infobip(relative_url)\n",
    "assert isinstance(applications, list)"
   ]
  },
  {
   "cell_type": "code",
   "execution_count": null,
   "id": "9984fe72",
   "metadata": {},
   "outputs": [],
   "source": [
    "# | exporti\n",
    "\n",
    "\n",
    "def _get_application_id(application_name: str) -> Optional[str]:\n",
    "    \"\"\"Get application template id for the given application name\n",
    "\n",
    "    Args:\n",
    "        application_name: Application name for which the application id needs to be retrived\n",
    "\n",
    "    Returns:\n",
    "        The application id if the exists, else None\n",
    "    \"\"\"\n",
    "    relative_url = \"/2fa/2/applications\"\n",
    "    apps = _send_get_request_to_infobip(relative_url)\n",
    "    app: List[Dict[str, Any]] = [app for app in apps if app[\"name\"] == application_name]  # type: ignore\n",
    "\n",
    "    return None if len(app) == 0 else app[0][\"applicationId\"]"
   ]
  },
  {
   "cell_type": "code",
   "execution_count": null,
   "id": "61205f0a",
   "metadata": {},
   "outputs": [
    {
     "data": {
      "text/plain": [
       "None"
      ]
     },
     "metadata": {},
     "output_type": "display_data"
    }
   ],
   "source": [
    "application_name = \"random_name_for_testing\"\n",
    "\n",
    "expected = None\n",
    "actual = _get_application_id(application_name)\n",
    "\n",
    "display(actual)\n",
    "assert actual == expected"
   ]
  },
  {
   "cell_type": "code",
   "execution_count": null,
   "id": "11d5b4e0",
   "metadata": {},
   "outputs": [],
   "source": [
    "# | exporti\n",
    "\n",
    "\n",
    "def _send_post_request_to_infobip(\n",
    "    relative_url: str, data: Dict[str, Any]\n",
    ") -> Dict[str, Any]:\n",
    "    \"\"\"Send a POST request to Infobip\n",
    "\n",
    "    Args:\n",
    "        relative_url: The relative url of the infobip endpoint\n",
    "        data: Template configuration\n",
    "\n",
    "    Returns:\n",
    "        A JSON object of the response\n",
    "    \"\"\"\n",
    "\n",
    "    headers = {\n",
    "        \"Authorization\": f\"App {os.environ['INFOBIP_API_KEY']}\",\n",
    "        \"Content-Type\": \"application/json\",\n",
    "        \"Accept\": \"application/json\",\n",
    "    }\n",
    "    url = f\"{os.environ['INFOBIP_BASE_URL']}{relative_url}\"\n",
    "\n",
    "    try:\n",
    "        response: Dict[str, Any] = requests.post(url, json=data, headers=headers).json()\n",
    "    except Exception as e:\n",
    "        raise HTTPException(\n",
    "            status_code=status.HTTP_503_SERVICE_UNAVAILABLE,\n",
    "            detail=ERRORS[\"MESSAGING_SERVICE_UNAVAILABLE\"],\n",
    "        )\n",
    "    return response"
   ]
  },
  {
   "cell_type": "code",
   "execution_count": null,
   "id": "a1033ba4",
   "metadata": {},
   "outputs": [],
   "source": [
    "# | exporti\n",
    "\n",
    "\n",
    "def _create_all_message_templates(\n",
    "    application_id: str, message_config: Dict[str, Dict[str, str]]\n",
    ") -> Dict[str, str]:\n",
    "    \"\"\"Create new message templates with the given configurations\n",
    "\n",
    "    Args:\n",
    "        application_id: Application id for which the message templates needs to be created\n",
    "        message_config: Message template configurations like message text, PIN type, PIN length etc.,\n",
    "\n",
    "    Returns:\n",
    "        The created message template name and their ids as a key value pair.\n",
    "    \"\"\"\n",
    "    relative_url = f\"/2fa/2/applications/{application_id}/messages\"\n",
    "    message_templates_to_ids = {}\n",
    "\n",
    "    for template_name, config in message_config.items():\n",
    "        message_templates_to_ids[template_name] = _send_post_request_to_infobip(\n",
    "            relative_url, config\n",
    "        )[\"messageId\"]\n",
    "\n",
    "    return message_templates_to_ids"
   ]
  },
  {
   "cell_type": "code",
   "execution_count": null,
   "id": "aa488b33",
   "metadata": {},
   "outputs": [
    {
     "data": {
      "text/plain": [
       "{'messageId': '23F5A8833224B9894DB8F52F87E5DD13',\n",
       " 'applicationId': 'CC1BF4F8DC02A1EABF277DFC3E64671E',\n",
       " 'pinPlaceholder': '{{pin}}',\n",
       " 'messageText': '{{pin}} is your OTP to register the phone number. This OTP is valid for the next 15 mins.',\n",
       " 'pinLength': 6,\n",
       " 'pinType': 'NUMERIC',\n",
       " 'senderId': 'InfoSMS',\n",
       " 'speechRate': 1.0}"
      ]
     },
     "metadata": {},
     "output_type": "display_data"
    },
    {
     "data": {
      "text/plain": [
       "{'messageId': 'B76F69FDD729D54A78B6787B0A27AB07',\n",
       " 'applicationId': 'CC1BF4F8DC02A1EABF277DFC3E64671E',\n",
       " 'pinPlaceholder': '{{pin}}',\n",
       " 'messageText': '{{pin}} is your OTP to reset the password. This OTP is valid for the next 15 mins.',\n",
       " 'pinLength': 6,\n",
       " 'pinType': 'NUMERIC',\n",
       " 'senderId': 'InfoSMS',\n",
       " 'speechRate': 1.0}"
      ]
     },
     "metadata": {},
     "output_type": "display_data"
    },
    {
     "data": {
      "text/plain": [
       "{'messageId': '70735F04BBA2E476DE5184C8A6802830',\n",
       " 'applicationId': 'CC1BF4F8DC02A1EABF277DFC3E64671E',\n",
       " 'pinPlaceholder': '{{pin}}',\n",
       " 'messageText': '{{pin}} is your OTP to disable the multi-factor authentication (MFA). This OTP is valid for the next 15 mins.',\n",
       " 'pinLength': 6,\n",
       " 'pinType': 'NUMERIC',\n",
       " 'senderId': 'InfoSMS',\n",
       " 'speechRate': 1.0}"
      ]
     },
     "metadata": {},
     "output_type": "display_data"
    },
    {
     "data": {
      "text/plain": [
       "{'messageId': 'A1146F52686100205447A98E94937A90',\n",
       " 'applicationId': 'CC1BF4F8DC02A1EABF277DFC3E64671E',\n",
       " 'pinPlaceholder': '{{pin}}',\n",
       " 'messageText': '{{pin}} is your OTP to get an application token. This OTP is valid for the next 15 mins.',\n",
       " 'pinLength': 6,\n",
       " 'pinType': 'NUMERIC',\n",
       " 'senderId': 'InfoSMS',\n",
       " 'speechRate': 1.0}"
      ]
     },
     "metadata": {},
     "output_type": "display_data"
    }
   ],
   "source": [
    "# Creating all message templates for the sample test application named \"Test 2FA\"\n",
    "\n",
    "if os.environ[\"DOMAIN\"] == \"localhost\":\n",
    "    relative_url = \"/2fa/2/applications\"\n",
    "    apps = _send_get_request_to_infobip(relative_url)\n",
    "\n",
    "    if len(apps) > 0 and apps[0][\"name\"] == \"Test 2FA\":\n",
    "\n",
    "        application_id = apps[0][\"applicationId\"]\n",
    "        message_templates_to_ids = _create_all_message_templates(\n",
    "            application_id, config[\"message_config\"]\n",
    "        )\n",
    "\n",
    "        relative_url = f\"/2fa/2/applications/{application_id}/messages\"\n",
    "        messages = _send_get_request_to_infobip(relative_url)\n",
    "\n",
    "        msg_config = get_application_and_message_config()[\"message_config\"]\n",
    "        for k, v in message_templates_to_ids.items():\n",
    "            message = [i for i in messages if i[\"messageId\"] == v][0]\n",
    "            display(message)\n",
    "            assert (\n",
    "                message[\"messageText\"] == msg_config[k][\"messageText\"]\n",
    "            ), f'{message[\"messageText\"]=}, {msg_config[k][\"messageText\"]=}'"
   ]
  },
  {
   "cell_type": "code",
   "execution_count": null,
   "id": "c1ca5815",
   "metadata": {},
   "outputs": [],
   "source": [
    "# | exporti\n",
    "\n",
    "\n",
    "def _get_message_id_for_template(\n",
    "    xs: List[Dict[str, Union[str, int]]], message_template_name: str\n",
    ") -> Optional[str]:\n",
    "    \"\"\"Get the message id for the given template\n",
    "\n",
    "    Args:\n",
    "        xs: The list of available message templates in Infobip server\n",
    "        message_template_name: Message template name for which the id needs to be retrieved\n",
    "\n",
    "    Returns:\n",
    "        The message id if the template is already created, else None\n",
    "    \"\"\"\n",
    "    config = get_application_and_message_config()\n",
    "\n",
    "    message_ids = [\n",
    "        x[\"messageId\"]\n",
    "        for x in xs\n",
    "        if config[\"message_config\"][message_template_name].items() <= x.items()\n",
    "    ]\n",
    "\n",
    "    if len(message_ids) == 0:\n",
    "        return None\n",
    "\n",
    "    return message_ids[0]  # type: ignore"
   ]
  },
  {
   "cell_type": "code",
   "execution_count": null,
   "id": "87491b68",
   "metadata": {},
   "outputs": [
    {
     "data": {
      "text/plain": [
       "None"
      ]
     },
     "metadata": {},
     "output_type": "display_data"
    },
    {
     "data": {
      "text/plain": [
       "'123'"
      ]
     },
     "metadata": {},
     "output_type": "display_data"
    }
   ],
   "source": [
    "xs = [\n",
    "    {\n",
    "        \"messageId\": \"000\",\n",
    "        \"applicationId\": \"123\",\n",
    "        \"pinPlaceholder\": \"{{pin}}\",\n",
    "        \"messageText\": \"{{pin}} is your one-time verification code. The code is valid for the next 15 mins.\",\n",
    "        \"pinLength\": 6,\n",
    "        \"pinType\": \"NUMERIC\",\n",
    "        \"senderId\": \"InfoSMS\",\n",
    "        \"speechRate\": 1.0,\n",
    "    }\n",
    "]\n",
    "message_template_name = \"register_phone_number\"\n",
    "actual = _get_message_id_for_template(xs, message_template_name)\n",
    "expected = None\n",
    "display(actual)\n",
    "assert actual == expected\n",
    "\n",
    "xs = [\n",
    "    {\n",
    "        \"messageId\": \"123\",\n",
    "        \"applicationId\": \"123\",\n",
    "        \"pinPlaceholder\": \"{{pin}}\",\n",
    "        \"messageText\": \"{{pin}} is your OTP to register the phone number. This OTP is valid for the next 15 mins.\",\n",
    "        \"pinLength\": 6,\n",
    "        \"pinType\": \"NUMERIC\",\n",
    "        \"senderId\": \"InfoSMS\",\n",
    "        \"speechRate\": 1.0,\n",
    "    }\n",
    "]\n",
    "message_template_name = \"register_phone_number\"\n",
    "actual = _get_message_id_for_template(xs, message_template_name)\n",
    "expected = \"123\"\n",
    "display(actual)\n",
    "assert actual == expected"
   ]
  },
  {
   "cell_type": "code",
   "execution_count": null,
   "id": "e7ad8e73",
   "metadata": {},
   "outputs": [],
   "source": [
    "# | exporti\n",
    "\n",
    "\n",
    "def _send_put_request_to_infobip(\n",
    "    relative_url: str, data: Dict[str, Any]\n",
    ") -> Dict[str, Any]:\n",
    "    \"\"\"Send a PUT request to Infobip\n",
    "\n",
    "    Args:\n",
    "        relative_url: The relative url of the infobip endpoint\n",
    "        data: The updated template configuration\n",
    "\n",
    "    Returns:\n",
    "        A JSON object of the response\n",
    "    \"\"\"\n",
    "\n",
    "    headers = {\n",
    "        \"Authorization\": f\"App {os.environ['INFOBIP_API_KEY']}\",\n",
    "        \"Content-Type\": \"application/json\",\n",
    "        \"Accept\": \"application/json\",\n",
    "    }\n",
    "    url = f\"{os.environ['INFOBIP_BASE_URL']}{relative_url}\"\n",
    "\n",
    "    try:\n",
    "        response: Dict[str, Any] = requests.put(url, json=data, headers=headers).json()\n",
    "    except Exception as e:\n",
    "        raise HTTPException(\n",
    "            status_code=status.HTTP_503_SERVICE_UNAVAILABLE,\n",
    "            detail=ERRORS[\"MESSAGING_SERVICE_UNAVAILABLE\"],\n",
    "        )\n",
    "    return response"
   ]
  },
  {
   "cell_type": "code",
   "execution_count": null,
   "id": "61b8d399",
   "metadata": {},
   "outputs": [],
   "source": [
    "# | exporti\n",
    "\n",
    "\n",
    "def _update_application_config(app_id: str, config: Dict[str, Any]) -> Dict[str, Any]:\n",
    "    \"\"\"Update an existing application configuration\n",
    "\n",
    "    Args:\n",
    "        app_id: Application ID for which the configurations needs to be updated\n",
    "        config: New configuration for the application\n",
    "    \"\"\"\n",
    "    relative_url = f\"/2fa/2/applications/{app_id}\"\n",
    "    return _send_put_request_to_infobip(relative_url, config)"
   ]
  },
  {
   "cell_type": "code",
   "execution_count": null,
   "id": "85878576",
   "metadata": {},
   "outputs": [],
   "source": [
    "# | exporti\n",
    "\n",
    "\n",
    "def _is_config_changed(\n",
    "    local_config: Dict[str, Any], server_config: Dict[str, Any]\n",
    ") -> bool:\n",
    "    \"\"\"Verify that the shared key values are different for the given configurations\n",
    "\n",
    "    Args:\n",
    "        local_config: The template configuration set in the code\n",
    "        server_config: The template configuration retrieved from the infobip server\n",
    "\n",
    "    Returns:\n",
    "        True, if the configurations didn't match else False\n",
    "    \"\"\"\n",
    "\n",
    "    shared_keys = local_config.keys() & server_config.keys()\n",
    "    for k in shared_keys:\n",
    "        if not local_config[k] == server_config[k]:\n",
    "            return True\n",
    "\n",
    "    return False"
   ]
  },
  {
   "cell_type": "code",
   "execution_count": null,
   "id": "23d55afe",
   "metadata": {},
   "outputs": [
    {
     "data": {
      "text/plain": [
       "True"
      ]
     },
     "metadata": {},
     "output_type": "display_data"
    }
   ],
   "source": [
    "local_config = {\n",
    "    \"sendPinPerPhoneNumberLimit\": \"30/1d\",\n",
    "    \"pinAttempts\": 10,\n",
    "    \"verifyPinLimit\": \"1/3s\",\n",
    "}\n",
    "server_config = {\n",
    "    \"pinAttempts\": 10,\n",
    "    \"allowMultiplePinVerifications\": False,\n",
    "    \"pinTimeToLive\": \"15m\",\n",
    "    \"verifyPinLimit\": \"1/3s\",\n",
    "    \"sendPinPerApplicationLimit\": \"10000/1d\",\n",
    "    \"sendPinPerPhoneNumberLimit\": \"10/1d\",\n",
    "}\n",
    "\n",
    "actual = _is_config_changed(local_config, server_config)\n",
    "display(actual)\n",
    "assert actual"
   ]
  },
  {
   "cell_type": "code",
   "execution_count": null,
   "id": "84f20c4b",
   "metadata": {},
   "outputs": [
    {
     "data": {
      "text/plain": [
       "False"
      ]
     },
     "metadata": {},
     "output_type": "display_data"
    }
   ],
   "source": [
    "local_config = {\"sendPinPerPhoneNumberLimit\": \"30/1d\", \"pinAttempts\": 10}\n",
    "server_config = {\n",
    "    \"pinAttempts\": 10,\n",
    "    \"allowMultiplePinVerifications\": False,\n",
    "    \"pinTimeToLive\": \"15m\",\n",
    "    \"verifyPinLimit\": \"1/3s\",\n",
    "    \"sendPinPerApplicationLimit\": \"10000/1d\",\n",
    "    \"sendPinPerPhoneNumberLimit\": \"30/1d\",\n",
    "}\n",
    "\n",
    "actual = _is_config_changed(local_config, server_config)\n",
    "display(actual)\n",
    "assert not actual"
   ]
  },
  {
   "cell_type": "code",
   "execution_count": null,
   "id": "8288ea1c",
   "metadata": {},
   "outputs": [
    {
     "data": {
      "text/plain": [
       "False"
      ]
     },
     "metadata": {},
     "output_type": "display_data"
    }
   ],
   "source": [
    "local_config = {\n",
    "    \"messageText\": \"{{pin}} is your OTP to register the phone number. This OTP is valid for the next 15 mins.\",\n",
    "    \"pinLength\": 6,\n",
    "}\n",
    "server_config = {\n",
    "    \"messageId\": \"60583E51E79AA5AF2A0D9E974D648689\",\n",
    "    \"applicationId\": \"12D2CA96F21A5ED26508CAAEB221A4C4\",\n",
    "    \"pinPlaceholder\": \"{{pin}}\",\n",
    "    \"messageText\": \"{{pin}} is your OTP to register the phone number. This OTP is valid for the next 15 mins.\",\n",
    "    \"pinLength\": 6,\n",
    "    \"pinType\": \"NUMERIC\",\n",
    "    \"senderId\": \"InfoSMS\",\n",
    "    \"speechRate\": 1.0,\n",
    "}\n",
    "actual = _is_config_changed(local_config, server_config)\n",
    "display(actual)\n",
    "assert not actual"
   ]
  },
  {
   "cell_type": "code",
   "execution_count": null,
   "id": "96a4b2c9",
   "metadata": {},
   "outputs": [],
   "source": [
    "# | export\n",
    "\n",
    "\n",
    "def get_app_and_message_id(message_template_name: str) -> Tuple[str, str]:\n",
    "    \"\"\"Get the application id and the message template id\n",
    "\n",
    "    A new application and a message template will be created in the Infobip server if the requested\n",
    "    templates are not created yet. In case, the templates are already created then they will be reused.\n",
    "\n",
    "    Args:\n",
    "        message_template_name: Message template name for which the id needs to be retrieved. Currently,\n",
    "            the API only supports **register_phone_number** and **reset_password** as message template name.\n",
    "\n",
    "    Returns:\n",
    "        The application id and the message template id for the given message template\n",
    "    \"\"\"\n",
    "    config = get_application_and_message_config()\n",
    "    application_id = _get_application_id(config[\"application_config\"][\"name\"])\n",
    "\n",
    "    if application_id is not None:\n",
    "        # check and update application configuration if the local configurations are not matching the server configurations\n",
    "        relative_url = f\"/2fa/2/applications/{application_id}\"\n",
    "        server_app_config = _send_get_request_to_infobip(relative_url)[\"configuration\"]  # type: ignore\n",
    "        local_app_config = config[\"application_config\"][\"configuration\"]\n",
    "\n",
    "        if _is_config_changed(local_app_config, server_app_config):\n",
    "            application_id = _update_application_config(\n",
    "                application_id, config[\"application_config\"]\n",
    "            )[\"applicationId\"]\n",
    "\n",
    "        # Get id for the given message_template_name\n",
    "        relative_url = f\"/2fa/2/applications/{application_id}/messages\"\n",
    "        messages = _send_get_request_to_infobip(relative_url)\n",
    "        message_id = _get_message_id_for_template(messages, message_template_name)  # type: ignore\n",
    "\n",
    "        if message_id is None:\n",
    "            # Create a new message template for the message_template_name\n",
    "            relative_url = f\"/2fa/2/applications/{application_id}/messages\"\n",
    "            ret_val_message_id = _send_post_request_to_infobip(\n",
    "                relative_url, config[\"message_config\"][message_template_name]\n",
    "            )[\"messageId\"]\n",
    "        else:\n",
    "            ret_val_message_id = message_id\n",
    "    else:\n",
    "        # Create a new application template\n",
    "        relative_url = \"/2fa/2/applications\"\n",
    "        application_id = _send_post_request_to_infobip(\n",
    "            relative_url, config[\"application_config\"]\n",
    "        )[\"applicationId\"]\n",
    "\n",
    "        # Create new message templates\n",
    "        message_templates_to_ids = _create_all_message_templates(\n",
    "            application_id, config[\"message_config\"]\n",
    "        )\n",
    "        ret_val_message_id = message_templates_to_ids[message_template_name]\n",
    "\n",
    "    return application_id, ret_val_message_id  # type: ignore"
   ]
  },
  {
   "cell_type": "code",
   "execution_count": null,
   "id": "f980e588",
   "metadata": {},
   "outputs": [
    {
     "data": {
      "text/plain": [
       "'\\nApplication id and message id for: register_phone_number'"
      ]
     },
     "metadata": {},
     "output_type": "display_data"
    },
    {
     "data": {
      "text/plain": [
       "'12D2CA96F21A5ED26508CAAEB221A4C4'"
      ]
     },
     "metadata": {},
     "output_type": "display_data"
    },
    {
     "data": {
      "text/plain": [
       "'60583E51E79AA5AF2A0D9E974D648689'"
      ]
     },
     "metadata": {},
     "output_type": "display_data"
    },
    {
     "data": {
      "text/plain": [
       "'\\nApplication id and message id for: reset_password'"
      ]
     },
     "metadata": {},
     "output_type": "display_data"
    },
    {
     "data": {
      "text/plain": [
       "'12D2CA96F21A5ED26508CAAEB221A4C4'"
      ]
     },
     "metadata": {},
     "output_type": "display_data"
    },
    {
     "data": {
      "text/plain": [
       "'ECF0E776D585FFDA169CC14AE45A41FB'"
      ]
     },
     "metadata": {},
     "output_type": "display_data"
    },
    {
     "data": {
      "text/plain": [
       "'\\nApplication id and message id for: disable_mfa'"
      ]
     },
     "metadata": {},
     "output_type": "display_data"
    },
    {
     "data": {
      "text/plain": [
       "'12D2CA96F21A5ED26508CAAEB221A4C4'"
      ]
     },
     "metadata": {},
     "output_type": "display_data"
    },
    {
     "data": {
      "text/plain": [
       "'C168073E779C6B2E5A2C097C6FDFA52B'"
      ]
     },
     "metadata": {},
     "output_type": "display_data"
    },
    {
     "data": {
      "text/plain": [
       "'\\nApplication id and message id for: get_token'"
      ]
     },
     "metadata": {},
     "output_type": "display_data"
    },
    {
     "data": {
      "text/plain": [
       "'12D2CA96F21A5ED26508CAAEB221A4C4'"
      ]
     },
     "metadata": {},
     "output_type": "display_data"
    },
    {
     "data": {
      "text/plain": [
       "'317DEE435D439EFCEF3314E916A26081'"
      ]
     },
     "metadata": {},
     "output_type": "display_data"
    }
   ],
   "source": [
    "def create_and_test_new_templates(message_template_name: str):\n",
    "    application_id_1, message_id_1 = get_app_and_message_id(message_template_name)\n",
    "    application_id_2, message_id_2 = get_app_and_message_id(message_template_name)\n",
    "\n",
    "    assert application_id_1 == application_id_2\n",
    "    assert message_id_1 == message_id_2\n",
    "\n",
    "    display(application_id_1, message_id_1)\n",
    "\n",
    "    # List all app templates make make sure we have only one entry of the newly created app template\n",
    "    relative_url = \"/2fa/2/applications\"\n",
    "    apps = _send_get_request_to_infobip(relative_url)\n",
    "    apps = [i[\"applicationId\"] for i in apps]\n",
    "\n",
    "    assert apps.count(application_id_1) == 1\n",
    "\n",
    "    # make sure the application configs are matching\n",
    "    relative_url = f\"/2fa/2/applications/{application_id_1}\"\n",
    "    server_app_config = _send_get_request_to_infobip(relative_url)[\"configuration\"]\n",
    "    config = get_application_and_message_config()\n",
    "    local_app_config = config[\"application_config\"][\"configuration\"]\n",
    "\n",
    "    assert not _is_config_changed(local_app_config, server_app_config)\n",
    "\n",
    "    # List all messages make make sure we have only one entry of the newly created message templates\n",
    "    relative_url = f\"/2fa/2/applications/{application_id_1}/messages\"\n",
    "    messages = _send_get_request_to_infobip(relative_url)\n",
    "\n",
    "    message_ids = [i[\"messageId\"] for i in messages]\n",
    "    assert message_ids.count(message_id_1) == 1\n",
    "\n",
    "    relative_url = f\"/2fa/2/applications/{application_id_1}/messages/{message_id_1}\"\n",
    "    server_msg_config = _send_get_request_to_infobip(relative_url)\n",
    "    local_msg_config = config[\"message_config\"][message_template_name]\n",
    "\n",
    "    assert not _is_config_changed(local_msg_config, server_msg_config)\n",
    "\n",
    "\n",
    "if os.environ[\"DOMAIN\"] == \"localhost\":\n",
    "    for message_template_name in config[\"message_config\"].keys():\n",
    "        display(f\"\\nApplication id and message id for: {message_template_name}\")\n",
    "        create_and_test_new_templates(message_template_name=message_template_name)"
   ]
  },
  {
   "cell_type": "code",
   "execution_count": null,
   "id": "58600166",
   "metadata": {},
   "outputs": [],
   "source": [
    "# | export\n",
    "\n",
    "\n",
    "def send_sms(application_id: str, message_id: str, phone_number: str) -> Dict[str, Any]:\n",
    "    \"\"\"Send a OTP code over SMS using infobip services\n",
    "\n",
    "    Args:\n",
    "        application_id: The ID of the application that represents the 2FA service,\n",
    "        message_id: The ID of the message template to send to the recipient.\n",
    "        phone_number: The phone number of the recipient.\n",
    "\n",
    "    Returns:\n",
    "        A JSON object of the response from Infobip\n",
    "    \"\"\"\n",
    "    relative_url = \"/2fa/2/pin\"\n",
    "    data = {\n",
    "        \"applicationId\": f\"{application_id}\",\n",
    "        \"messageId\": f\"{message_id}\",\n",
    "        \"to\": f\"{phone_number}\",\n",
    "    }\n",
    "    return _send_post_request_to_infobip(relative_url, data)"
   ]
  },
  {
   "cell_type": "code",
   "execution_count": null,
   "id": "0a97aa54",
   "metadata": {},
   "outputs": [],
   "source": [
    "# | export\n",
    "\n",
    "\n",
    "def verify_pin(pin_id: str, otp: str) -> Dict[str, Any]:\n",
    "    \"\"\"Verify a phone number using infobip services.\n",
    "\n",
    "    Args:\n",
    "        pin_id: The ID of the pin that needs to be verified. The Infobip 2FA service will dynamically create a pin while sending the SMS.\n",
    "            And while verifying the OTP, we need to send the same pin to the Infobip 2FA service to validate on their servers.\n",
    "        otp: The OTP sent to the user via SMS.\n",
    "\n",
    "    Returns:\n",
    "        A JSON object of the response from Infobip\n",
    "    \"\"\"\n",
    "    relative_url = f\"/2fa/2/pin/{pin_id}/verify\"\n",
    "    data = {\n",
    "        \"pin\": otp,\n",
    "    }\n",
    "    return _send_post_request_to_infobip(relative_url, data)"
   ]
  },
  {
   "cell_type": "code",
   "execution_count": null,
   "id": "0ac7ec3f",
   "metadata": {},
   "outputs": [],
   "source": [
    "# | exporti\n",
    "\n",
    "\n",
    "def validate_otp(\n",
    "    user: User,\n",
    "    otp: str,\n",
    "    message_template_name: str,\n",
    "    session: Session,\n",
    ") -> None:\n",
    "    \"\"\"Validate the SMS OTP\n",
    "\n",
    "    Args:\n",
    "        user: User object for whom the SMS OTP needs to be checked\n",
    "        otp: The SMS OTP to validate\n",
    "        message_template_name: Message template name to validate the OTP\n",
    "        session: Session object\n",
    "\n",
    "    Raises:\n",
    "        HTTPException: If the Phone number is not registered and not verified\n",
    "        HTTPException: If the OTP is invalid\n",
    "    \"\"\"\n",
    "    application_id, message_id = get_app_and_message_id(\n",
    "        message_template_name=message_template_name\n",
    "    )\n",
    "\n",
    "    sms = session.exec(\n",
    "        select(SMS)\n",
    "        .where(SMS.user == user)\n",
    "        .where(SMS.application_id == application_id)\n",
    "        .where(SMS.message_id == message_id)\n",
    "    ).one_or_none()\n",
    "    if sms is None:\n",
    "        raise HTTPException(\n",
    "            status_code=status.HTTP_400_BAD_REQUEST,\n",
    "            detail=ERRORS[\"PHONE_NUMBER_NOT_REGISTERED\"],\n",
    "        )\n",
    "\n",
    "    sms_protocol = session.exec(\n",
    "        select(SMSProtocol).where(SMSProtocol.sms_id == sms.id)\n",
    "    ).one_or_none()\n",
    "\n",
    "    if sms_protocol is None:\n",
    "        raise HTTPException(\n",
    "            status_code=status.HTTP_400_BAD_REQUEST,\n",
    "            detail=ERRORS[\"PHONE_NUMBER_NOT_REGISTERED\"],\n",
    "        )\n",
    "\n",
    "    if sms_protocol.pin_attempts_remaining == 0:\n",
    "        raise HTTPException(\n",
    "            status_code=status.HTTP_400_BAD_REQUEST,\n",
    "            detail=ERRORS[\"NO_MORE_PIN_ATTEMPTS\"],\n",
    "        )\n",
    "\n",
    "    pin_verification_status = airt_service.sms_utils.verify_pin(\n",
    "        sms_protocol.pin_id, otp\n",
    "    )\n",
    "\n",
    "    if \"requestError\" in pin_verification_status:\n",
    "        raise HTTPException(\n",
    "            status_code=status.HTTP_400_BAD_REQUEST,\n",
    "            detail=f\"{pin_verification_status['requestError']['serviceException']['text']}\",\n",
    "        )\n",
    "\n",
    "    if not pin_verification_status[\"verified\"]:\n",
    "        with commit_or_rollback(session):\n",
    "            sms_protocol.pin_verified = pin_verification_status[\"verified\"]\n",
    "            sms_protocol.pin_attempts_remaining = pin_verification_status[\n",
    "                \"attemptsRemaining\"\n",
    "            ]\n",
    "            session.add(sms_protocol)\n",
    "\n",
    "        raise HTTPException(\n",
    "            status_code=status.HTTP_400_BAD_REQUEST,\n",
    "            detail=ERRORS[f\"{pin_verification_status['pinError']}\"],\n",
    "        )\n",
    "\n",
    "    with commit_or_rollback(session):\n",
    "        session.delete(sms_protocol)"
   ]
  },
  {
   "cell_type": "code",
   "execution_count": null,
   "id": "22131e90",
   "metadata": {},
   "outputs": [
    {
     "data": {
      "text/plain": [
       "'The phone number is not yet registered. Please register your phone number before calling this method.'"
      ]
     },
     "metadata": {},
     "output_type": "display_data"
    }
   ],
   "source": [
    "with get_session_with_context() as session:\n",
    "    test_user = create_user_for_testing()\n",
    "    user = session.exec(select(User).where(User.username == test_user)).one()\n",
    "    message_template_name = \"get_token\"\n",
    "    random_otp = \"000000\"\n",
    "    with pytest.raises(HTTPException) as e:\n",
    "        validate_otp(\n",
    "            user=user,\n",
    "            otp=random_otp,\n",
    "            message_template_name=message_template_name,\n",
    "            session=session,\n",
    "        )\n",
    "    display(e.value.detail)"
   ]
  },
  {
   "cell_type": "code",
   "execution_count": null,
   "id": "76799012",
   "metadata": {},
   "outputs": [
    {
     "data": {
      "text/plain": [
       "User(id=10, uuid=UUID('1b69e42e-6f02-4dd3-ad94-a7cedc657413'), username='vbcmsxtapn', first_name='unittest', last_name='user', email='vbcmsxtapn@email.com', subscription_type=<SubscriptionType.test: 'test'>, super_user=False, disabled=False, created=datetime.datetime(2022, 10, 21, 5, 14, 16), phone_number='910000000000', is_phone_number_verified=True, mfa_secret=**********************************, is_mfa_active=True)"
      ]
     },
     "metadata": {},
     "output_type": "display_data"
    },
    {
     "data": {
      "text/plain": [
       "'If you have already registered and verified your phone number, you will receive the OTP by SMS. If you did not receive the OTP, please contact your administrator.'"
      ]
     },
     "metadata": {},
     "output_type": "display_data"
    },
    {
     "data": {
      "text/plain": [
       "'Ok'"
      ]
     },
     "metadata": {},
     "output_type": "display_data"
    }
   ],
   "source": [
    "# Monkey patching positive scenario\n",
    "test_username = create_user_for_testing()\n",
    "random_phone_number = \"910000000000\"\n",
    "random_sms_pin_id = \"my_random_pin_id\"\n",
    "message_template_name = \"disable_mfa\"\n",
    "random_sms_otp = \"111111\"\n",
    "with MonkeyPatch.context() as monkeypatch:\n",
    "\n",
    "    send_sms_sample_response = {\n",
    "        \"pinId\": random_sms_pin_id,\n",
    "        \"to\": random_phone_number,\n",
    "        \"ncStatus\": \"NC_NOT_CONFIGURED\",\n",
    "        \"smsStatus\": \"MESSAGE_SENT\",\n",
    "    }\n",
    "    monkeypatch.setattr(\n",
    "        \"airt_service.sms_utils.send_sms\", lambda x, y, z: send_sms_sample_response\n",
    "    )\n",
    "\n",
    "    verify_pin_sample_response = {\n",
    "        \"pinId\": random_sms_pin_id,\n",
    "        \"msisdn\": random_phone_number,\n",
    "        \"verified\": True,\n",
    "        \"attemptsRemaining\": 0,\n",
    "    }\n",
    "\n",
    "    monkeypatch.setattr(\n",
    "        \"airt_service.sms_utils.verify_pin\", lambda x, y: verify_pin_sample_response\n",
    "    )\n",
    "\n",
    "    with get_session_with_context() as session:\n",
    "        user = session.exec(select(User).where(User.username == test_username)).one()\n",
    "        user.phone_number = random_phone_number\n",
    "        user.is_phone_number_verified = True\n",
    "        session.add(user)\n",
    "        session.commit()\n",
    "        session.refresh(user)\n",
    "\n",
    "        actual = generate_mfa_url(user=user, session=session)\n",
    "        assert user.mfa_secret is not None\n",
    "        # activate MFA\n",
    "        activate_mfa_request = ActivateMFARequest(\n",
    "            user_otp=pyotp.TOTP(user.mfa_secret).now()\n",
    "        )\n",
    "        actual = activate_mfa(\n",
    "            activate_mfa_request=activate_mfa_request, user=user, session=session\n",
    "        )\n",
    "        assert actual.is_mfa_active\n",
    "        display(actual)\n",
    "\n",
    "        actual = send_sms_otp(\n",
    "            username=test_username,\n",
    "            message_template_name=message_template_name,\n",
    "            session=session,\n",
    "        )\n",
    "        display(actual)\n",
    "\n",
    "        random_otp = \"000000\"\n",
    "        validate_otp(\n",
    "            user=user,\n",
    "            otp=random_otp,\n",
    "            message_template_name=message_template_name,\n",
    "            session=session,\n",
    "        )\n",
    "        display(\"Ok\")"
   ]
  }
 ],
 "metadata": {
  "kernelspec": {
   "display_name": "Python 3",
   "language": "python",
   "name": "python3"
  }
 },
 "nbformat": 4,
 "nbformat_minor": 5
}
