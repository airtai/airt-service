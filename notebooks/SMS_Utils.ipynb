{
 "cells": [
  {
   "cell_type": "raw",
   "id": "8439b432",
   "metadata": {},
   "source": [
    "---\n",
    "description: Notebook for SMS utility functions\n",
    "output-file: sms_utils.html\n",
    "title: SMS Utilities\n",
    "\n",
    "---\n",
    "\n"
   ]
  },
  {
   "cell_type": "code",
   "execution_count": null,
   "id": "31d3c598",
   "metadata": {},
   "outputs": [],
   "source": [
    "#| default_exp sms_utils"
   ]
  },
  {
   "cell_type": "code",
   "execution_count": null,
   "id": "6689fa4b",
   "metadata": {},
   "outputs": [
    {
     "name": "stdout",
     "output_type": "stream",
     "text": [
      "[INFO] airt.testing.activate_by_import: Testing environment activated.\n",
      "[INFO] numexpr.utils: Note: NumExpr detected 64 cores but \"NUMEXPR_MAX_THREADS\" not set, so enforcing safe limit of 8.\n",
      "[INFO] numexpr.utils: NumExpr defaulting to 8 threads.\n",
      "[INFO] airt.keras.helpers: Using a single GPU #0 with memory_limit 1024 MB\n"
     ]
    }
   ],
   "source": [
    "from airt.testing import activate_by_import"
   ]
  },
  {
   "cell_type": "code",
   "execution_count": null,
   "id": "96af62b3",
   "metadata": {},
   "outputs": [],
   "source": [
    "#| export\n",
    "\n",
    "from typing import *\n",
    "import requests\n",
    "import json\n",
    "import os\n",
    "from time import sleep\n",
    "\n",
    "import numpy as np\n",
    "\n",
    "from fastapi import status, HTTPException\n",
    "\n",
    "from airt.logger import get_logger\n",
    "\n",
    "from airt_service.errors import ERRORS"
   ]
  },
  {
   "cell_type": "code",
   "execution_count": null,
   "id": "5ff3c086",
   "metadata": {},
   "outputs": [],
   "source": [
    "from contextlib import contextmanager\n",
    "\n",
    "import pytest"
   ]
  },
  {
   "cell_type": "code",
   "execution_count": null,
   "id": "9c53c216",
   "metadata": {},
   "outputs": [],
   "source": [
    "#| exporti\n",
    "\n",
    "logger = get_logger(__name__)"
   ]
  },
  {
   "cell_type": "code",
   "execution_count": null,
   "id": "40faa911",
   "metadata": {},
   "outputs": [
    {
     "name": "stdout",
     "output_type": "stream",
     "text": [
      "[INFO] __main__: log a random string\n"
     ]
    }
   ],
   "source": [
    "logger.info(\"log a random string\")"
   ]
  },
  {
   "cell_type": "code",
   "execution_count": null,
   "id": "e6f0eea3",
   "metadata": {},
   "outputs": [],
   "source": [
    "#| exporti\n",
    "\n",
    "def _generate_application_name() -> str:\n",
    "    \"\"\"Generate an application template name\n",
    "    \n",
    "    The generated template name will be used to create an application template which is necessary for\n",
    "    using the infobip 2FA service. These templates will be created only once and will be reused on \n",
    "    subsequent requests.\n",
    "\n",
    "    Returns:\n",
    "        The application template name\n",
    "    \"\"\"\n",
    "    domain = os.environ[\"DOMAIN\"]\n",
    "\n",
    "    return os.environ[\"HOSTNAME\"] if domain == \"localhost\" else domain"
   ]
  },
  {
   "cell_type": "code",
   "execution_count": null,
   "id": "108fd13e",
   "metadata": {},
   "outputs": [],
   "source": [
    "@contextmanager\n",
    "def change_domain(domain_name: str):\n",
    "    try:\n",
    "        domain = os.environ[\"DOMAIN\"]\n",
    "        os.environ[\"DOMAIN\"] = domain_name\n",
    "        yield\n",
    "    finally:\n",
    "        os.environ[\"DOMAIN\"] = domain"
   ]
  },
  {
   "cell_type": "code",
   "execution_count": null,
   "id": "2fa9400c",
   "metadata": {},
   "outputs": [
    {
     "name": "stdout",
     "output_type": "stream",
     "text": [
      "random_domain\n",
      "harish-airt-service-devel\n"
     ]
    }
   ],
   "source": [
    "expected = \"random_domain\"\n",
    "with change_domain(expected):\n",
    "    actual = _generate_application_name()\n",
    "    print(actual)\n",
    "    assert actual == expected\n",
    "\n",
    "\n",
    "actual = _generate_application_name()\n",
    "expected = os.environ[\"HOSTNAME\"]\n",
    "print(actual)\n",
    "assert actual == expected"
   ]
  },
  {
   "cell_type": "code",
   "execution_count": null,
   "id": "7ba7604c",
   "metadata": {},
   "outputs": [],
   "source": [
    "#| export\n",
    "\n",
    "\n",
    "def get_application_and_message_config() -> Dict[str, Dict[str, Any]]:\n",
    "    \"\"\"Get the application and message template configurations\n",
    "\n",
    "    Before using the Infobip's 2FA service it is necessary to configure the properties and templates for the use case. Properties,\n",
    "    such as the number of allowed PIN attempts and PIN time to live etc., are configured by creating an application. Templates,\n",
    "    such as message text, PIN type, PIN length etc., are configured by creating a Message Template.\n",
    "\n",
    "    Returns:\n",
    "        The application and message template configurations\n",
    "    \"\"\"\n",
    "    return {\n",
    "        \"application_config\": {\n",
    "            \"name\": f\"{_generate_application_name()}\",\n",
    "            \"configuration\": {\n",
    "                \"sendPinPerPhoneNumberLimit\": \"30/1d\",  # Default value in Infobip: \"3/1d\"\n",
    "            },\n",
    "        },\n",
    "        \"message_config\": {\n",
    "            \"register_phone_number\": {\n",
    "                \"senderId\": f\"{os.environ['INFOBIP_SENDER_ID']}\",\n",
    "                \"pinType\": \"NUMERIC\",\n",
    "                \"messageText\": \"{{pin}} is your OTP to register the phone number. This OTP is valid for the next 15 mins.\",\n",
    "                \"pinLength\": 6,\n",
    "            },\n",
    "            \"reset_password\": {\n",
    "                \"senderId\": f\"{os.environ['INFOBIP_SENDER_ID']}\",\n",
    "                \"pinType\": \"NUMERIC\",\n",
    "                \"messageText\": \"{{pin}} is your OTP to reset the password. This OTP is valid for the next 15 mins.\",\n",
    "                \"pinLength\": 6,\n",
    "            },\n",
    "            \"disable_mfa\": {\n",
    "                \"senderId\": f\"{os.environ['INFOBIP_SENDER_ID']}\",\n",
    "                \"pinType\": \"NUMERIC\",\n",
    "                \"messageText\": \"{{pin}} is your OTP to disable the multi-factor authentication (MFA). This OTP is valid for the next 15 mins.\",\n",
    "                \"pinLength\": 6,\n",
    "            },\n",
    "        },\n",
    "    }"
   ]
  },
  {
   "cell_type": "code",
   "execution_count": null,
   "id": "a1fa9436",
   "metadata": {},
   "outputs": [
    {
     "data": {
      "text/plain": [
       "['register_phone_number', 'reset_password', 'disable_mfa']"
      ]
     },
     "execution_count": null,
     "metadata": {},
     "output_type": "execute_result"
    }
   ],
   "source": [
    "config = get_application_and_message_config()\n",
    "assert config[\"application_config\"][\"name\"] == (\n",
    "    os.environ[\"HOSTNAME\"] or os.environ[\"DOMAIN\"]\n",
    ")\n",
    "\n",
    "allowed_message_template_names = list(config[\"message_config\"].keys())\n",
    "\n",
    "assert [\n",
    "    \"register_phone_number\",\n",
    "    \"reset_password\",\n",
    "    \"disable_mfa\",\n",
    "] == allowed_message_template_names\n",
    "allowed_message_template_names"
   ]
  },
  {
   "cell_type": "code",
   "execution_count": null,
   "id": "5089cf48",
   "metadata": {},
   "outputs": [],
   "source": [
    "#| exporti\n",
    "\n",
    "\n",
    "def _send_get_request_to_infobip(relative_url: str) -> Union[Dict[str, Any], List[Dict[str, Any]]]:\n",
    "    \"\"\"Send a GET request to Infobip\n",
    "\n",
    "    Args:\n",
    "        relative_url: The relative url of the infobip endpoint\n",
    "\n",
    "    Returns:\n",
    "        A list of JSON objects\n",
    "    \"\"\"\n",
    "\n",
    "    headers = {\n",
    "        \"Authorization\": f\"App {os.environ['INFOBIP_API_KEY']}\",\n",
    "        \"Accept\": \"application/json\",\n",
    "    }\n",
    "    url = f\"{os.environ['INFOBIP_BASE_URL']}{relative_url}\"\n",
    "    for i in range(3):\n",
    "        err = None\n",
    "        try:\n",
    "            response = requests.get(url, headers=headers)\n",
    "            if response:\n",
    "                response_json = response.json()\n",
    "                break\n",
    "            else:\n",
    "                err = response.text\n",
    "                sleep(np.random.uniform(1, 3))\n",
    "\n",
    "        except Exception as e:\n",
    "            raise HTTPException(\n",
    "                status_code=status.HTTP_503_SERVICE_UNAVAILABLE,\n",
    "                detail=ERRORS[\"MESSAGING_SERVICE_UNAVAILABLE\"],\n",
    "            )\n",
    "    if err:\n",
    "        logger.exception(f\"Unexpected response from infobip\", exc_info=err)\n",
    "        raise HTTPException(status_code=500, detail=f\"Unexpected exception: {err}\")\n",
    "\n",
    "    return response_json"
   ]
  },
  {
   "cell_type": "code",
   "execution_count": null,
   "id": "4debb351",
   "metadata": {},
   "outputs": [],
   "source": [
    "relative_url = \"/2fa/2/applications\"\n",
    "applications = _send_get_request_to_infobip(relative_url)\n",
    "assert isinstance(applications, list)"
   ]
  },
  {
   "cell_type": "code",
   "execution_count": null,
   "id": "9984fe72",
   "metadata": {},
   "outputs": [],
   "source": [
    "#| exporti\n",
    "\n",
    "def _get_application_id(application_name: str) -> Optional[str]:\n",
    "    \"\"\"Get application template id for the given application name\n",
    "\n",
    "    Args:\n",
    "        application_name: Application name for which the application id needs to be retrived\n",
    "\n",
    "    Returns:\n",
    "        The application id if the exists, else None\n",
    "    \"\"\"\n",
    "    relative_url = \"/2fa/2/applications\"\n",
    "    apps = _send_get_request_to_infobip(relative_url)\n",
    "    app:List[Dict[str, Any]] = [app for app in apps if app[\"name\"] == application_name] # type: ignore\n",
    "\n",
    "    return None if len(app) == 0 else app[0][\"applicationId\"]"
   ]
  },
  {
   "cell_type": "code",
   "execution_count": null,
   "id": "61205f0a",
   "metadata": {},
   "outputs": [
    {
     "name": "stdout",
     "output_type": "stream",
     "text": [
      "None\n"
     ]
    }
   ],
   "source": [
    "application_name = \"random_name_for_testing\"\n",
    "\n",
    "expected = None\n",
    "actual = _get_application_id(application_name)\n",
    "\n",
    "print(actual)\n",
    "assert actual == expected"
   ]
  },
  {
   "cell_type": "code",
   "execution_count": null,
   "id": "11d5b4e0",
   "metadata": {},
   "outputs": [],
   "source": [
    "#| exporti\n",
    "\n",
    "\n",
    "def _send_post_request_to_infobip(\n",
    "    relative_url: str, data: Dict[str, Any]\n",
    ") -> Dict[str, Any]:\n",
    "    \"\"\"Send a POST request to Infobip\n",
    "\n",
    "    Args:\n",
    "        relative_url: The relative url of the infobip endpoint\n",
    "        data: Template configuration\n",
    "\n",
    "    Returns:\n",
    "        A JSON object of the response\n",
    "    \"\"\"\n",
    "\n",
    "    headers = {\n",
    "        \"Authorization\": f\"App {os.environ['INFOBIP_API_KEY']}\",\n",
    "        \"Content-Type\": \"application/json\",\n",
    "        \"Accept\": \"application/json\",\n",
    "    }\n",
    "    url = f\"{os.environ['INFOBIP_BASE_URL']}{relative_url}\"\n",
    "\n",
    "    try:\n",
    "        response = requests.post(url, json=data, headers=headers).json()\n",
    "    except Exception as e:\n",
    "        raise HTTPException(\n",
    "            status_code=status.HTTP_503_SERVICE_UNAVAILABLE,\n",
    "            detail=ERRORS[\"MESSAGING_SERVICE_UNAVAILABLE\"],\n",
    "        )\n",
    "    return response"
   ]
  },
  {
   "cell_type": "code",
   "execution_count": null,
   "id": "a1033ba4",
   "metadata": {},
   "outputs": [],
   "source": [
    "#| exporti\n",
    "\n",
    "\n",
    "def _create_all_message_templates(\n",
    "    application_id: str, message_config: Dict[str, Dict[str, str]]\n",
    ") -> Dict[str, str]:\n",
    "    \"\"\"Create new message templates with the given configurations\n",
    "\n",
    "    Args:\n",
    "        application_id: Application id for which the message templates needs to be created\n",
    "        message_config: Message template configurations like message text, PIN type, PIN length etc.,\n",
    "        \n",
    "    Returns:\n",
    "        The created message template name and their ids as a key value pair.\n",
    "    \"\"\"\n",
    "    relative_url = f\"/2fa/2/applications/{application_id}/messages\"\n",
    "    message_templates_to_ids = {}\n",
    "\n",
    "    for template_name, config in message_config.items():\n",
    "        message_templates_to_ids[template_name] = _send_post_request_to_infobip(\n",
    "            relative_url, config\n",
    "        )[\"messageId\"]\n",
    "        \n",
    "    return message_templates_to_ids"
   ]
  },
  {
   "cell_type": "code",
   "execution_count": null,
   "id": "aa488b33",
   "metadata": {},
   "outputs": [
    {
     "name": "stdout",
     "output_type": "stream",
     "text": [
      "{'messageId': '4F470AD3DE8B6400B81CE8B23523CDB0', 'applicationId': 'CC1BF4F8DC02A1EABF277DFC3E64671E', 'pinPlaceholder': '{{pin}}', 'messageText': '{{pin}} is your OTP to register the phone number. This OTP is valid for the next 15 mins.', 'pinLength': 6, 'pinType': 'NUMERIC', 'senderId': 'InfoSMS', 'speechRate': 1.0}\n",
      "{'messageId': '93FE8F8D29769879C56CEC8B58E16C9B', 'applicationId': 'CC1BF4F8DC02A1EABF277DFC3E64671E', 'pinPlaceholder': '{{pin}}', 'messageText': '{{pin}} is your OTP to reset the password. This OTP is valid for the next 15 mins.', 'pinLength': 6, 'pinType': 'NUMERIC', 'senderId': 'InfoSMS', 'speechRate': 1.0}\n",
      "{'messageId': 'BBFC392CBC9FC957BDD99F2F9A15BA0A', 'applicationId': 'CC1BF4F8DC02A1EABF277DFC3E64671E', 'pinPlaceholder': '{{pin}}', 'messageText': '{{pin}} is your OTP to disable the multi-factor authentication (MFA). This OTP is valid for the next 15 mins.', 'pinLength': 6, 'pinType': 'NUMERIC', 'senderId': 'InfoSMS', 'speechRate': 1.0}\n"
     ]
    }
   ],
   "source": [
    "# Creating all message templates for the sample test application named \"Test 2FA\"\n",
    "\n",
    "if os.environ[\"DOMAIN\"] == \"localhost\":\n",
    "    relative_url = \"/2fa/2/applications\"\n",
    "    apps = _send_get_request_to_infobip(relative_url)\n",
    "\n",
    "    if len(apps) > 0 and apps[0][\"name\"] == \"Test 2FA\":\n",
    "        \n",
    "        application_id = apps[0][\"applicationId\"]\n",
    "        message_templates_to_ids = _create_all_message_templates(application_id, config[\"message_config\"])\n",
    "\n",
    "        relative_url = f\"/2fa/2/applications/{application_id}/messages\"\n",
    "        messages = _send_get_request_to_infobip(relative_url)\n",
    "        \n",
    "        msg_config = get_application_and_message_config()[\"message_config\"]\n",
    "        for k, v in message_templates_to_ids.items():\n",
    "            message = [i for i in messages if i[\"messageId\"]==v][0]\n",
    "            print(message)\n",
    "            assert message[\"messageText\"] == msg_config[k][\"messageText\"], f'{message[\"messageText\"]=}, {msg_config[k][\"messageText\"]=}'"
   ]
  },
  {
   "cell_type": "code",
   "execution_count": null,
   "id": "c1ca5815",
   "metadata": {},
   "outputs": [],
   "source": [
    "#| exporti\n",
    "\n",
    "\n",
    "def _get_message_id_for_template(\n",
    "    xs: List[Dict[str, Union[str, int]]], message_template_name: str\n",
    ") -> Optional[str]:\n",
    "    \"\"\"Get the message id for the given template\n",
    "\n",
    "    Args:\n",
    "        xs: The list of available message templates in Infobip server\n",
    "        message_template_name: Message template name for which the id needs to be retrieved\n",
    "\n",
    "    Returns:\n",
    "        The message id if the template is already created, else None\n",
    "    \"\"\"\n",
    "    config = get_application_and_message_config()\n",
    "\n",
    "    message_ids = [\n",
    "        x[\"messageId\"]\n",
    "        for x in xs\n",
    "        if config[\"message_config\"][message_template_name].items() <= x.items()\n",
    "    ]\n",
    "\n",
    "    if len(message_ids) == 0:\n",
    "        return None\n",
    "\n",
    "    return message_ids[0]  # type: ignore"
   ]
  },
  {
   "cell_type": "code",
   "execution_count": null,
   "id": "87491b68",
   "metadata": {},
   "outputs": [
    {
     "name": "stdout",
     "output_type": "stream",
     "text": [
      "None\n",
      "123\n"
     ]
    }
   ],
   "source": [
    "xs = [\n",
    "    {\n",
    "        \"messageId\": \"000\",\n",
    "        \"applicationId\": \"123\",\n",
    "        \"pinPlaceholder\": \"{{pin}}\",\n",
    "        \"messageText\": \"{{pin}} is your one-time verification code. The code is valid for the next 15 mins.\",\n",
    "        \"pinLength\": 6,\n",
    "        \"pinType\": \"NUMERIC\",\n",
    "        \"senderId\": \"InfoSMS\",\n",
    "        \"speechRate\": 1.0,\n",
    "    }\n",
    "]\n",
    "message_template_name = \"register_phone_number\"\n",
    "actual = _get_message_id_for_template(xs, message_template_name)\n",
    "expected = None\n",
    "print(actual)\n",
    "assert actual == expected\n",
    "\n",
    "xs = [\n",
    "    {\n",
    "        \"messageId\": \"123\",\n",
    "        \"applicationId\": \"123\",\n",
    "        \"pinPlaceholder\": \"{{pin}}\",\n",
    "        \"messageText\": \"{{pin}} is your OTP to register the phone number. This OTP is valid for the next 15 mins.\",\n",
    "        \"pinLength\": 6,\n",
    "        \"pinType\": \"NUMERIC\",\n",
    "        \"senderId\": \"InfoSMS\",\n",
    "        \"speechRate\": 1.0,\n",
    "    }\n",
    "]\n",
    "message_template_name = \"register_phone_number\"\n",
    "actual = _get_message_id_for_template(xs, message_template_name)\n",
    "expected = \"123\"\n",
    "print(actual)\n",
    "assert actual == expected"
   ]
  },
  {
   "cell_type": "code",
   "execution_count": null,
   "id": "e7ad8e73",
   "metadata": {},
   "outputs": [],
   "source": [
    "#| exporti\n",
    "\n",
    "def _send_put_request_to_infobip(\n",
    "    relative_url: str, data: Dict[str, Any]\n",
    ") -> Dict[str, Any]:\n",
    "    \"\"\"Send a PUT request to Infobip\n",
    "\n",
    "    Args:\n",
    "        relative_url: The relative url of the infobip endpoint\n",
    "        data: The updated template configuration\n",
    "\n",
    "    Returns:\n",
    "        A JSON object of the response\n",
    "    \"\"\"\n",
    "\n",
    "    headers = {\n",
    "        \"Authorization\": f\"App {os.environ['INFOBIP_API_KEY']}\",\n",
    "        \"Content-Type\": \"application/json\",\n",
    "        \"Accept\": \"application/json\",\n",
    "    }\n",
    "    url = f\"{os.environ['INFOBIP_BASE_URL']}{relative_url}\"\n",
    "\n",
    "    try:\n",
    "        response = requests.put(url, json=data, headers=headers).json()\n",
    "    except Exception as e:\n",
    "        raise HTTPException(\n",
    "            status_code=status.HTTP_503_SERVICE_UNAVAILABLE,\n",
    "            detail=ERRORS[\"MESSAGING_SERVICE_UNAVAILABLE\"],\n",
    "        )\n",
    "    return response"
   ]
  },
  {
   "cell_type": "code",
   "execution_count": null,
   "id": "61b8d399",
   "metadata": {},
   "outputs": [],
   "source": [
    "#| exporti\n",
    "\n",
    "def _update_application_config(app_id: str, config: Dict[str, Any]):\n",
    "    \"\"\"Update an existing application configuration\n",
    "    \n",
    "    Args:\n",
    "        app_id: Application ID for which the configurations needs to be updated\n",
    "        config: New configuration for the application\n",
    "    \"\"\"\n",
    "    relative_url = f\"/2fa/2/applications/{app_id}\"\n",
    "    return _send_put_request_to_infobip(relative_url, config)"
   ]
  },
  {
   "cell_type": "code",
   "execution_count": null,
   "id": "85878576",
   "metadata": {},
   "outputs": [],
   "source": [
    "#| exporti\n",
    "\n",
    "def _is_config_changed(local_config: Dict[str, Any], server_config: Dict[str, Any]) -> bool:\n",
    "    \"\"\"Verify that the shared key values are different for the given configurations\n",
    "    \n",
    "    Args:\n",
    "        local_config: The template configuration set in the code\n",
    "        server_config: The template configuration retrieved from the infobip server\n",
    "        \n",
    "    Returns:\n",
    "        True, if the configurations didn't match else False\n",
    "    \"\"\"\n",
    "    \n",
    "    shared_keys = local_config.keys() & server_config.keys()\n",
    "    for k in shared_keys:\n",
    "        if not local_config[k] == server_config[k]:\n",
    "            return True\n",
    "        \n",
    "    return False"
   ]
  },
  {
   "cell_type": "code",
   "execution_count": null,
   "id": "23d55afe",
   "metadata": {},
   "outputs": [
    {
     "data": {
      "text/plain": [
       "True"
      ]
     },
     "metadata": {},
     "output_type": "display_data"
    }
   ],
   "source": [
    "local_config = {'sendPinPerPhoneNumberLimit': '30/1d', \"pinAttempts\": 10, \"verifyPinLimit\": \"1/3s\"}\n",
    "server_config = {\n",
    "    \"pinAttempts\": 10,\n",
    "    \"allowMultiplePinVerifications\": False,\n",
    "    \"pinTimeToLive\": \"15m\",\n",
    "    \"verifyPinLimit\": \"1/3s\",\n",
    "    \"sendPinPerApplicationLimit\": \"10000/1d\",\n",
    "    \"sendPinPerPhoneNumberLimit\": \"10/1d\",\n",
    "}\n",
    "\n",
    "actual = _is_config_changed(local_config, server_config)\n",
    "display(actual)\n",
    "assert actual"
   ]
  },
  {
   "cell_type": "code",
   "execution_count": null,
   "id": "84f20c4b",
   "metadata": {},
   "outputs": [
    {
     "data": {
      "text/plain": [
       "False"
      ]
     },
     "metadata": {},
     "output_type": "display_data"
    }
   ],
   "source": [
    "local_config = {'sendPinPerPhoneNumberLimit': '30/1d', \"pinAttempts\": 10}\n",
    "server_config = {\n",
    "    \"pinAttempts\": 10,\n",
    "    \"allowMultiplePinVerifications\": False,\n",
    "    \"pinTimeToLive\": \"15m\",\n",
    "    \"verifyPinLimit\": \"1/3s\",\n",
    "    \"sendPinPerApplicationLimit\": \"10000/1d\",\n",
    "    \"sendPinPerPhoneNumberLimit\": \"30/1d\",\n",
    "}\n",
    "\n",
    "actual = _is_config_changed(local_config, server_config)\n",
    "display(actual)\n",
    "assert not actual"
   ]
  },
  {
   "cell_type": "code",
   "execution_count": null,
   "id": "8288ea1c",
   "metadata": {},
   "outputs": [
    {
     "data": {
      "text/plain": [
       "False"
      ]
     },
     "metadata": {},
     "output_type": "display_data"
    }
   ],
   "source": [
    "local_config = {'messageText': \"{{pin}} is your OTP to register the phone number. This OTP is valid for the next 15 mins.\", \"pinLength\": 6}\n",
    "server_config = {\n",
    "    \"messageId\": \"60583E51E79AA5AF2A0D9E974D648689\",\n",
    "    \"applicationId\": \"12D2CA96F21A5ED26508CAAEB221A4C4\",\n",
    "    \"pinPlaceholder\": \"{{pin}}\",\n",
    "    \"messageText\": \"{{pin}} is your OTP to register the phone number. This OTP is valid for the next 15 mins.\",\n",
    "    \"pinLength\": 6,\n",
    "    \"pinType\": \"NUMERIC\",\n",
    "    \"senderId\": \"InfoSMS\",\n",
    "    \"speechRate\": 1.0,\n",
    "}\n",
    "actual = _is_config_changed(local_config, server_config)\n",
    "display(actual)\n",
    "assert not actual"
   ]
  },
  {
   "cell_type": "code",
   "execution_count": null,
   "id": "96a4b2c9",
   "metadata": {},
   "outputs": [],
   "source": [
    "#| export\n",
    "\n",
    "\n",
    "def get_app_and_message_id(message_template_name: str) -> Tuple[str, str]:\n",
    "    \"\"\"Get the application id and the message template id\n",
    "\n",
    "    A new application and a message template will be created in the Infobip server if the requested\n",
    "    templates are not created yet. In case, the templates are already created then they will be reused.\n",
    "\n",
    "    Args:\n",
    "        message_template_name: Message template name for which the id needs to be retrieved. Currently,\n",
    "            the API only supports **register_phone_number** and **reset_password** as message template name.\n",
    "\n",
    "    Returns:\n",
    "        The application id and the message template id for the given message template\n",
    "    \"\"\"\n",
    "    config = get_application_and_message_config()\n",
    "    application_id = _get_application_id(config[\"application_config\"][\"name\"])\n",
    "\n",
    "    if application_id is not None:\n",
    "        # check and update application configuration if the local configurations are not matching the server configurations\n",
    "        relative_url = f\"/2fa/2/applications/{application_id}\"\n",
    "        server_app_config = _send_get_request_to_infobip(relative_url)[\"configuration\"] # type: ignore\n",
    "        local_app_config = config[\"application_config\"][\"configuration\"]\n",
    "\n",
    "        if _is_config_changed(local_app_config, server_app_config):\n",
    "            application_id = _update_application_config(\n",
    "                application_id, config[\"application_config\"]\n",
    "            )[\"applicationId\"]\n",
    "\n",
    "        # Get id for the given message_template_name\n",
    "        relative_url = f\"/2fa/2/applications/{application_id}/messages\"\n",
    "        messages = _send_get_request_to_infobip(relative_url)\n",
    "        message_id = _get_message_id_for_template(messages, message_template_name)  # type: ignore\n",
    "\n",
    "        if message_id is None:\n",
    "            # Create a new message template for the message_template_name\n",
    "            relative_url = f\"/2fa/2/applications/{application_id}/messages\"\n",
    "            ret_val_message_id = _send_post_request_to_infobip(\n",
    "                relative_url, config[\"message_config\"][message_template_name]\n",
    "            )[\"messageId\"]\n",
    "        else:\n",
    "            ret_val_message_id = message_id\n",
    "    else:\n",
    "        # Create a new application template\n",
    "        relative_url = \"/2fa/2/applications\"\n",
    "        application_id = _send_post_request_to_infobip(\n",
    "            relative_url, config[\"application_config\"]\n",
    "        )[\"applicationId\"]\n",
    "\n",
    "        # Create new message templates\n",
    "        message_templates_to_ids = _create_all_message_templates(\n",
    "            application_id, config[\"message_config\"]\n",
    "        )\n",
    "        ret_val_message_id = message_templates_to_ids[message_template_name]\n",
    "\n",
    "    return application_id, ret_val_message_id # type: ignore"
   ]
  },
  {
   "cell_type": "code",
   "execution_count": null,
   "id": "f980e588",
   "metadata": {},
   "outputs": [
    {
     "name": "stdout",
     "output_type": "stream",
     "text": [
      "\n",
      "Application id and message id for: register_phone_number\n",
      "12D2CA96F21A5ED26508CAAEB221A4C4 60583E51E79AA5AF2A0D9E974D648689\n",
      "\n",
      "Application id and message id for: reset_password\n",
      "12D2CA96F21A5ED26508CAAEB221A4C4 ECF0E776D585FFDA169CC14AE45A41FB\n",
      "\n",
      "Application id and message id for: disable_mfa\n",
      "12D2CA96F21A5ED26508CAAEB221A4C4 C168073E779C6B2E5A2C097C6FDFA52B\n"
     ]
    }
   ],
   "source": [
    "def create_and_test_new_templates(message_template_name: str):\n",
    "    application_id_1, message_id_1 = get_app_and_message_id(message_template_name)\n",
    "    application_id_2, message_id_2 = get_app_and_message_id(message_template_name)\n",
    "\n",
    "    assert application_id_1 == application_id_2\n",
    "    assert message_id_1 == message_id_2\n",
    "\n",
    "    print(application_id_1, message_id_1)\n",
    "\n",
    "    # List all app templates make make sure we have only one entry of the newly created app template\n",
    "    relative_url = \"/2fa/2/applications\"\n",
    "    apps = _send_get_request_to_infobip(relative_url)\n",
    "    apps = [i[\"applicationId\"] for i in apps]\n",
    "\n",
    "    assert apps.count(application_id_1) == 1\n",
    "    \n",
    "    # make sure the application configs are matching\n",
    "    relative_url = f\"/2fa/2/applications/{application_id_1}\"\n",
    "    server_app_config = _send_get_request_to_infobip(relative_url)[\"configuration\"]\n",
    "    config = get_application_and_message_config()\n",
    "    local_app_config = config['application_config']['configuration']\n",
    "    \n",
    "    assert not _is_config_changed(local_app_config, server_app_config)\n",
    "    \n",
    "\n",
    "    # List all messages make make sure we have only one entry of the newly created message templates\n",
    "    relative_url = f\"/2fa/2/applications/{application_id_1}/messages\"\n",
    "    messages = _send_get_request_to_infobip(relative_url)\n",
    "\n",
    "    message_ids = [i[\"messageId\"] for i in messages]\n",
    "    assert message_ids.count(message_id_1) == 1\n",
    "    \n",
    "    relative_url = f\"/2fa/2/applications/{application_id_1}/messages/{message_id_1}\"\n",
    "    server_msg_config = _send_get_request_to_infobip(relative_url)\n",
    "    local_msg_config = config['message_config'][message_template_name]\n",
    "    \n",
    "    assert not _is_config_changed(local_msg_config, server_msg_config)\n",
    "\n",
    "if os.environ[\"DOMAIN\"] == \"localhost\":\n",
    "    for message_template_name in config[\"message_config\"].keys():\n",
    "        print(f\"\\nApplication id and message id for: {message_template_name}\")\n",
    "        create_and_test_new_templates(message_template_name=message_template_name)"
   ]
  },
  {
   "cell_type": "code",
   "execution_count": null,
   "id": "58600166",
   "metadata": {},
   "outputs": [],
   "source": [
    "#| export\n",
    "\n",
    "\n",
    "def send_sms(application_id: str, message_id: str, phone_number: str) -> Dict[str, Any]:\n",
    "    \"\"\"Send a OTP code over SMS using infobip services\n",
    "\n",
    "    Args:\n",
    "        application_id: The ID of the application that represents the 2FA service,\n",
    "        message_id: The ID of the message template to send to the recipient.\n",
    "        phone_number: The phone number of the recipient.\n",
    "\n",
    "    Returns:\n",
    "        A JSON object of the response from Infobip\n",
    "    \"\"\"\n",
    "    relative_url = \"/2fa/2/pin\"\n",
    "    data = {\n",
    "        \"applicationId\": f\"{application_id}\",\n",
    "        \"messageId\": f\"{message_id}\",\n",
    "        \"to\": f\"{phone_number}\",\n",
    "    }\n",
    "    return _send_post_request_to_infobip(relative_url, data)"
   ]
  },
  {
   "cell_type": "code",
   "execution_count": null,
   "id": "0a97aa54",
   "metadata": {},
   "outputs": [],
   "source": [
    "#| export\n",
    "\n",
    "def verify_pin(pin_id: str, otp: str) -> Dict[str, Any]:\n",
    "    \"\"\"Verify a phone number using infobip services.\n",
    "    \n",
    "    Args:\n",
    "        pin_id: The ID of the pin that needs to be verified. The Infobip 2FA service will dynamically create a pin while sending the SMS. \n",
    "            And while verifying the OTP, we need to send the same pin to the Infobip 2FA service to validate on their servers.\n",
    "        otp: The OTP sent to the user via SMS.\n",
    "        \n",
    "    Returns:\n",
    "        A JSON object of the response from Infobip\n",
    "    \"\"\"\n",
    "    relative_url = f\"/2fa/2/pin/{pin_id}/verify\"\n",
    "    data = {\n",
    "        \"pin\": otp,\n",
    "    }\n",
    "    return _send_post_request_to_infobip(relative_url, data)"
   ]
  },
  {
   "cell_type": "code",
   "execution_count": null,
   "id": "0ac7ec3f",
   "metadata": {},
   "outputs": [],
   "source": []
  }
 ],
 "metadata": {
  "kernelspec": {
   "display_name": "Python 3",
   "language": "python",
   "name": "python3"
  },
  "language_info": {
   "codemirror_mode": {
    "name": "ipython",
    "version": 3
   },
   "file_extension": ".py",
   "mimetype": "text/x-python",
   "name": "python",
   "nbconvert_exporter": "python",
   "pygments_lexer": "ipython3",
   "version": "3.8.10"
  }
 },
 "nbformat": 4,
 "nbformat_minor": 5
}
