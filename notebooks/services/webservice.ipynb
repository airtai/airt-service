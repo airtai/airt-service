{
 "cells": [
  {
   "cell_type": "markdown",
   "id": "f14911fa",
   "metadata": {},
   "source": [
    "# REST Server\n",
    "> Notebook to start airt-service webserver"
   ]
  },
  {
   "cell_type": "code",
   "execution_count": null,
   "id": "b333c6af",
   "metadata": {},
   "outputs": [
    {
     "name": "stderr",
     "output_type": "stream",
     "text": [
      "2021-08-30 12:22:10.427382: I tensorflow/stream_executor/platform/default/dso_loader.cc:53] Successfully opened dynamic library libcudart.so.11.0\n"
     ]
    }
   ],
   "source": [
    "import logging\n",
    "from pathlib import Path\n",
    "\n",
    "import tensorflow as tf\n",
    "\n",
    "logging.basicConfig(format='%(asctime)s [%(levelname)s] %(name)s:%(message)s', level=logging.INFO, datefmt=\"%y-%m-%dT%H:%M:%S\")\n",
    "tf.get_logger().setLevel('INFO')\n",
    "\n",
    "import uvicorn\n",
    "from fastcore.imports import in_notebook, in_ipython\n",
    "\n",
    "from airt_service.server import create_ws_server"
   ]
  },
  {
   "cell_type": "code",
   "execution_count": null,
   "id": "11c4ccd8",
   "metadata": {},
   "outputs": [],
   "source": [
    "if in_notebook() or in_ipython():\n",
    "    assets_path = Path(\"../../assets\")\n",
    "else:\n",
    "    assets_path = Path(\"./assets\")\n",
    "\n",
    "app = create_ws_server(assets_path=assets_path)"
   ]
  },
  {
   "cell_type": "code",
   "execution_count": null,
   "id": "9a2e0cf9",
   "metadata": {},
   "outputs": [
    {
     "name": "stderr",
     "output_type": "stream",
     "text": [
      "INFO:     Started server process [12682]\n",
      "21-08-30T12:22:12 [INFO] uvicorn.error:Started server process [12682]\n",
      "INFO:     Waiting for application startup.\n",
      "21-08-30T12:22:12 [INFO] uvicorn.error:Waiting for application startup.\n",
      "INFO:     Application startup complete.\n",
      "21-08-30T12:22:12 [INFO] uvicorn.error:Application startup complete.\n",
      "INFO:     Uvicorn running on http://0.0.0.0:6006 (Press CTRL+C to quit)\n",
      "21-08-30T12:22:12 [INFO] uvicorn.error:Uvicorn running on http://0.0.0.0:6006 (Press CTRL+C to quit)\n"
     ]
    },
    {
     "name": "stdout",
     "output_type": "stream",
     "text": [
      "INFO:     172.18.0.1:38252 - \"GET / HTTP/1.1\" 307 Temporary Redirect\n",
      "INFO:     172.18.0.1:38252 - \"GET /docs HTTP/1.1\" 200 OK\n",
      "INFO:     172.18.0.1:38252 - \"GET /openapi.json HTTP/1.1\" 200 OK\n",
      "INFO:     172.18.0.1:38332 - \"POST /token HTTP/1.1\" 200 OK\n",
      "INFO:     172.18.0.1:38342 - \"POST /data/s3/connect?uri=adsf&access_key=asdf&secret_key=adsf HTTP/1.1\" 200 OK\n"
     ]
    },
    {
     "name": "stderr",
     "output_type": "stream",
     "text": [
      "INFO:     Shutting down\n",
      "21-08-30T12:23:28 [INFO] uvicorn.error:Shutting down\n",
      "INFO:     Waiting for application shutdown.\n",
      "21-08-30T12:23:28 [INFO] uvicorn.error:Waiting for application shutdown.\n",
      "INFO:     Application shutdown complete.\n",
      "21-08-30T12:23:28 [INFO] uvicorn.error:Application shutdown complete.\n",
      "INFO:     Finished server process [12682]\n",
      "21-08-30T12:23:28 [INFO] uvicorn.error:Finished server process [12682]\n"
     ]
    }
   ],
   "source": [
    "#|eval: false\n",
    "\n",
    "if __name__ == \"__main__\":\n",
    "    if in_notebook():\n",
    "        import nest_asyncio\n",
    "        nest_asyncio.apply()\n",
    "    uvicorn.run(app, host=\"0.0.0.0\", port=6006)"
   ]
  },
  {
   "cell_type": "code",
   "execution_count": null,
   "id": "13ea4c0a",
   "metadata": {},
   "outputs": [],
   "source": []
  }
 ],
 "metadata": {
  "kernelspec": {
   "display_name": "Python 3",
   "language": "python",
   "name": "python3"
  },
  "language_info": {
   "codemirror_mode": {
    "name": "ipython",
    "version": 3
   },
   "file_extension": ".py",
   "mimetype": "text/x-python",
   "name": "python",
   "nbconvert_exporter": "python",
   "pygments_lexer": "ipython3",
   "version": "3.8.10"
  }
 },
 "nbformat": 4,
 "nbformat_minor": 5
}
