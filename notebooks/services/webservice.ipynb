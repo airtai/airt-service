{
 "cells": [
  {
   "cell_type": "markdown",
   "id": "f14911fa",
   "metadata": {},
   "source": [
    "# REST Server\n",
    "> Notebook to start airt-service webserver"
   ]
  },
  {
   "cell_type": "code",
   "execution_count": null,
   "id": "b333c6af",
   "metadata": {},
   "outputs": [],
   "source": [
    "import logging\n",
    "from pathlib import Path\n",
    "\n",
    "import tensorflow as tf\n",
    "\n",
    "logging.basicConfig(\n",
    "    format=\"%(asctime)s [%(levelname)s] %(name)s:%(message)s\",\n",
    "    level=logging.INFO,\n",
    "    datefmt=\"%y-%m-%dT%H:%M:%S\",\n",
    ")\n",
    "tf.get_logger().setLevel(\"INFO\")\n",
    "\n",
    "import uvicorn\n",
    "from fastcore.imports import in_ipython, in_notebook\n",
    "\n",
    "from airt_service.server import create_ws_server"
   ]
  },
  {
   "cell_type": "code",
   "execution_count": null,
   "id": "11c4ccd8",
   "metadata": {},
   "outputs": [],
   "source": [
    "if in_notebook() or in_ipython():\n",
    "    assets_path = Path(\"../../assets\")\n",
    "else:\n",
    "    assets_path = Path(\"./assets\")\n",
    "\n",
    "app, fast_kafka_api_app = create_ws_server(assets_path=assets_path)"
   ]
  },
  {
   "cell_type": "code",
   "execution_count": null,
   "id": "9a2e0cf9",
   "metadata": {},
   "outputs": [],
   "source": [
    "# |eval: false\n",
    "\n",
    "if __name__ == \"__main__\":\n",
    "    if in_notebook():\n",
    "        import nest_asyncio\n",
    "\n",
    "        nest_asyncio.apply()\n",
    "    uvicorn.run(app, host=\"0.0.0.0\", port=6006)"
   ]
  },
  {
   "cell_type": "code",
   "execution_count": null,
   "id": "13ea4c0a",
   "metadata": {},
   "outputs": [],
   "source": []
  }
 ],
 "metadata": {
  "kernelspec": {
   "display_name": "python3",
   "language": "python",
   "name": "python3"
  }
 },
 "nbformat": 4,
 "nbformat_minor": 5
}
