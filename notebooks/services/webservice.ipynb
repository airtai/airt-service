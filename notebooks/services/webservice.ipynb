{
 "cells": [
  {
   "cell_type": "markdown",
   "id": "f14911fa",
   "metadata": {},
   "source": [
    "# REST Server\n",
    "> Notebook to start airt-service webserver"
   ]
  },
  {
   "cell_type": "code",
   "execution_count": null,
   "id": "b333c6af",
   "metadata": {},
   "outputs": [
    {
     "name": "stderr",
     "output_type": "stream",
     "text": [
      "2023-03-27 14:24:27.620218: I tensorflow/core/platform/cpu_feature_guard.cc:193] This TensorFlow binary is optimized with oneAPI Deep Neural Network Library (oneDNN) to use the following CPU instructions in performance-critical operations:  AVX2 FMA\n",
      "To enable them in other operations, rebuild TensorFlow with the appropriate compiler flags.\n",
      "2023-03-27 14:24:27.721281: W tensorflow/stream_executor/platform/default/dso_loader.cc:64] Could not load dynamic library 'libcudart.so.11.0'; dlerror: libcudart.so.11.0: cannot open shared object file: No such file or directory\n",
      "2023-03-27 14:24:27.721300: I tensorflow/stream_executor/cuda/cudart_stub.cc:29] Ignore above cudart dlerror if you do not have a GPU set up on your machine.\n",
      "2023-03-27 14:24:27.737629: E tensorflow/stream_executor/cuda/cuda_blas.cc:2981] Unable to register cuBLAS factory: Attempting to register factory for plugin cuBLAS when one has already been registered\n",
      "2023-03-27 14:24:28.200586: W tensorflow/stream_executor/platform/default/dso_loader.cc:64] Could not load dynamic library 'libnvinfer.so.7'; dlerror: libnvinfer.so.7: cannot open shared object file: No such file or directory\n",
      "2023-03-27 14:24:28.200631: W tensorflow/stream_executor/platform/default/dso_loader.cc:64] Could not load dynamic library 'libnvinfer_plugin.so.7'; dlerror: libnvinfer_plugin.so.7: cannot open shared object file: No such file or directory\n",
      "2023-03-27 14:24:28.200637: W tensorflow/compiler/tf2tensorrt/utils/py_utils.cc:38] TF-TRT Warning: Cannot dlopen some TensorRT libraries. If you would like to use Nvidia GPU with TensorRT, please make sure the missing libraries mentioned above are installed properly.\n"
     ]
    },
    {
     "name": "stdout",
     "output_type": "stream",
     "text": [
      "23-03-27 14:24:29.968 [INFO] airt.executor.subcommand: Module loaded.\n"
     ]
    }
   ],
   "source": [
    "import logging\n",
    "from pathlib import Path\n",
    "\n",
    "import tensorflow as tf\n",
    "\n",
    "logging.basicConfig(\n",
    "    format=\"%(asctime)s [%(levelname)s] %(name)s:%(message)s\",\n",
    "    level=logging.INFO,\n",
    "    datefmt=\"%y-%m-%dT%H:%M:%S\",\n",
    ")\n",
    "tf.get_logger().setLevel(\"INFO\")\n",
    "\n",
    "import uvicorn\n",
    "from fastcore.imports import in_ipython, in_notebook\n",
    "\n",
    "from airt_service.server import create_ws_server"
   ]
  },
  {
   "cell_type": "code",
   "execution_count": null,
   "id": "11c4ccd8",
   "metadata": {},
   "outputs": [
    {
     "name": "stdout",
     "output_type": "stream",
     "text": [
      "23-03-27 14:24:31.919 [INFO] fastkafka._application.app: run_in_background() : Adding function 'startup_event' as background task\n"
     ]
    }
   ],
   "source": [
    "if in_notebook() or in_ipython():\n",
    "    assets_path = Path(\"../../assets\")\n",
    "else:\n",
    "    assets_path = Path(\"./assets\")\n",
    "\n",
    "app, fast_kafka_api_app = create_ws_server(assets_path=assets_path)"
   ]
  },
  {
   "cell_type": "code",
   "execution_count": null,
   "id": "9a2e0cf9",
   "metadata": {},
   "outputs": [
    {
     "name": "stderr",
     "output_type": "stream",
     "text": [
      "INFO:     Started server process [4844]\n",
      "INFO:     Waiting for application startup.\n",
      "INFO:     Application startup complete.\n",
      "INFO:     Uvicorn running on http://0.0.0.0:6006 (Press CTRL+C to quit)\n",
      "INFO:     Shutting down\n",
      "INFO:     Waiting for application shutdown.\n",
      "INFO:     Application shutdown complete.\n",
      "INFO:     Finished server process [4844]\n"
     ]
    }
   ],
   "source": [
    "# |eval: false\n",
    "\n",
    "if __name__ == \"__main__\":\n",
    "    if in_notebook():\n",
    "        import nest_asyncio\n",
    "\n",
    "        nest_asyncio.apply()\n",
    "    uvicorn.run(app, host=\"0.0.0.0\", port=6006)"
   ]
  },
  {
   "cell_type": "code",
   "execution_count": null,
   "id": "13ea4c0a",
   "metadata": {},
   "outputs": [],
   "source": []
  }
 ],
 "metadata": {
  "kernelspec": {
   "display_name": "python3",
   "language": "python",
   "name": "python3"
  }
 },
 "nbformat": 4,
 "nbformat_minor": 5
}
