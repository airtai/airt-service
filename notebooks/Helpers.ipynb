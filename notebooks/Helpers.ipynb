{
 "cells": [
  {
   "cell_type": "raw",
   "id": "a42e4a9f",
   "metadata": {},
   "source": [
    "---\n",
    "description: Notebook to have helper functions\n",
    "output-file: helpers.html\n",
    "title: Helpers\n",
    "\n",
    "---\n",
    "\n"
   ]
  },
  {
   "cell_type": "code",
   "execution_count": null,
   "id": "fa8873c7",
   "metadata": {},
   "outputs": [],
   "source": [
    "#| default_exp helpers"
   ]
  },
  {
   "cell_type": "code",
   "execution_count": null,
   "id": "2e4f0501",
   "metadata": {},
   "outputs": [
    {
     "name": "stdout",
     "output_type": "stream",
     "text": [
      "[INFO] airt.testing.activate_by_import: Testing environment activated.\n",
      "[INFO] numexpr.utils: Note: NumExpr detected 16 cores but \"NUMEXPR_MAX_THREADS\" not set, so enforcing safe limit of 8.\n",
      "[INFO] numexpr.utils: NumExpr defaulting to 8 threads.\n",
      "[INFO] airt.keras.helpers: Using a single GPU #0 with memory_limit 1024 MB\n"
     ]
    }
   ],
   "source": [
    "from airt.testing import activate_by_import"
   ]
  },
  {
   "cell_type": "code",
   "execution_count": null,
   "id": "cc1e8efa",
   "metadata": {},
   "outputs": [],
   "source": [
    "#| export\n",
    "\n",
    "import os\n",
    "import random\n",
    "import string\n",
    "import re\n",
    "from contextlib import contextmanager\n",
    "from os import environ\n",
    "from pathlib import Path\n",
    "from typing import *\n",
    "\n",
    "import pandas as pd\n",
    "import requests\n",
    "from fastcore.utils import *\n",
    "from passlib.context import CryptContext\n",
    "from sqlmodel import Session\n",
    "\n",
    "import airt_service.sanitizer\n",
    "from airt.logger import get_logger"
   ]
  },
  {
   "cell_type": "code",
   "execution_count": null,
   "id": "2faadc3f",
   "metadata": {},
   "outputs": [
    {
     "name": "stdout",
     "output_type": "stream",
     "text": [
      "[INFO] airt.executor.subcommand: Module loaded.\n"
     ]
    }
   ],
   "source": [
    "import tempfile\n",
    "from time import sleep\n",
    "\n",
    "import pytest\n",
    "import numpy as np\n",
    "import dask.dataframe as dd\n",
    "from sqlmodel import select\n",
    "from _pytest.monkeypatch import MonkeyPatch\n",
    "\n",
    "from airt.remote_path import RemotePath\n",
    "from airt_service.data.datablob import FromLocalRequest, from_local_start_route\n",
    "from airt_service.data.utils import create_db_uri_for_s3_datablob\n",
    "from airt_service.db.models import (\n",
    "    create_user_for_testing,\n",
    "    get_session,\n",
    "    get_session_with_context,\n",
    "    User,\n",
    "    DataBlob,\n",
    ")"
   ]
  },
  {
   "cell_type": "code",
   "execution_count": null,
   "id": "e21a2921",
   "metadata": {},
   "outputs": [],
   "source": [
    "old_setattr = MonkeyPatch.setattr\n",
    "\n",
    "\n",
    "@patch\n",
    "def setattr(self: MonkeyPatch, *args, **kwargs):\n",
    "    global logger\n",
    "    old_setattr(self, *args, **kwargs)\n",
    "    logger = get_logger(__name__)"
   ]
  },
  {
   "cell_type": "code",
   "execution_count": null,
   "id": "c03bfeb1",
   "metadata": {},
   "outputs": [
    {
     "data": {
      "text/plain": [
       "'jiqkfavmfz'"
      ]
     },
     "metadata": {},
     "output_type": "display_data"
    }
   ],
   "source": [
    "test_username = create_user_for_testing()\n",
    "display(test_username)"
   ]
  },
  {
   "cell_type": "code",
   "execution_count": null,
   "id": "bd15ea56",
   "metadata": {},
   "outputs": [],
   "source": [
    "#| exporti\n",
    "\n",
    "logger = get_logger(__name__)"
   ]
  },
  {
   "cell_type": "code",
   "execution_count": null,
   "id": "bfa63074",
   "metadata": {},
   "outputs": [],
   "source": [
    "#| export\n",
    "\n",
    "pwd_context = CryptContext(schemes=[\"bcrypt\"], deprecated=\"auto\")"
   ]
  },
  {
   "cell_type": "code",
   "execution_count": null,
   "id": "fae7da44",
   "metadata": {},
   "outputs": [],
   "source": [
    "#| export\n",
    "\n",
    "\n",
    "def get_password_hash(password: str) -> str:\n",
    "    \"\"\"Get the hash for a given password\n",
    "\n",
    "    Args:\n",
    "        password: Password to be hashed as a string\n",
    "\n",
    "    Returns:\n",
    "        The hashed password as a string\n",
    "    \"\"\"\n",
    "    return pwd_context.hash(password)\n",
    "\n",
    "\n",
    "def verify_password(plain_password: str, hashed_password: str) -> bool:\n",
    "    \"\"\"Validate if the hashed password is derived from the plain password\n",
    "\n",
    "    Args:\n",
    "        plain_password: Plain password as a string\n",
    "        hashed_password: Hashed password stored in the database as a string\n",
    "\n",
    "    Returns:\n",
    "        True, if the hashed password is derived from the plain password else False\n",
    "    \"\"\"\n",
    "    return pwd_context.verify(plain_password, hashed_password)"
   ]
  },
  {
   "cell_type": "code",
   "execution_count": null,
   "id": "0562e4b8",
   "metadata": {},
   "outputs": [
    {
     "data": {
      "text/plain": [
       "'$2b$12$3K9c9V0LGe99CXn5h7rIDezQpb7Ur2wbR6jl4QzP5a9g2f3HaaQaW'"
      ]
     },
     "metadata": {},
     "output_type": "display_data"
    }
   ],
   "source": [
    "test_password = \"Welcome123\"\n",
    "\n",
    "actual_password_hash = get_password_hash(test_password)\n",
    "display(actual_password_hash)\n",
    "\n",
    "assert verify_password(test_password, actual_password_hash)"
   ]
  },
  {
   "cell_type": "code",
   "execution_count": null,
   "id": "56f1a3d8",
   "metadata": {},
   "outputs": [],
   "source": [
    "#| export\n",
    "\n",
    "\n",
    "def get_storage_path() -> Path:\n",
    "    \"\"\"Get the root storage_path to store datasource, models, predictions in local\n",
    "\n",
    "    Returns:\n",
    "        The root storage path\n",
    "    \"\"\"\n",
    "    storage_path = Path(os.environ.get(\"STORAGE_PATH\", \"./storage\"))\n",
    "    storage_path = storage_path.absolute()\n",
    "    storage_path.mkdir(parents=True, exist_ok=True)\n",
    "    return storage_path"
   ]
  },
  {
   "cell_type": "code",
   "execution_count": null,
   "id": "2e3bae71",
   "metadata": {},
   "outputs": [
    {
     "data": {
      "text/plain": [
       "Path('/tf/airt-service/storage')"
      ]
     },
     "metadata": {},
     "output_type": "display_data"
    }
   ],
   "source": [
    "actual = get_storage_path()\n",
    "display(actual)\n",
    "assert (actual == Path(\"/tf/airt-service/storage\")) or (\n",
    "    actual == Path(\"./storage\").absolute()\n",
    ")\n",
    "assert actual.exists()"
   ]
  },
  {
   "cell_type": "code",
   "execution_count": null,
   "id": "07e18a7d",
   "metadata": {},
   "outputs": [],
   "source": [
    "#| export\n",
    "\n",
    "\n",
    "def get_datasource_path() -> Path:\n",
    "    \"\"\"Get a local path to store the datasources\n",
    "\n",
    "    Returns:\n",
    "        A path to store the datasources\n",
    "    \"\"\"\n",
    "    storage_path = get_storage_path()\n",
    "    datasource_path = storage_path / \"datasource\"\n",
    "    datasource_path.mkdir(parents=False, exist_ok=True)\n",
    "    return datasource_path"
   ]
  },
  {
   "cell_type": "code",
   "execution_count": null,
   "id": "08edb541",
   "metadata": {},
   "outputs": [
    {
     "data": {
      "text/plain": [
       "Path('/tf/airt-service/storage/datasource')"
      ]
     },
     "metadata": {},
     "output_type": "display_data"
    }
   ],
   "source": [
    "expected = get_storage_path() / \"datasource\"\n",
    "actual = get_datasource_path()\n",
    "display(actual)\n",
    "assert actual == expected\n",
    "assert actual.exists()"
   ]
  },
  {
   "cell_type": "code",
   "execution_count": null,
   "id": "ebc51c87",
   "metadata": {},
   "outputs": [],
   "source": [
    "#| export\n",
    "\n",
    "\n",
    "def get_model_path() -> Path:\n",
    "    \"\"\"Get a local path to store the models\n",
    "\n",
    "    Returns:\n",
    "        A path to store the models\n",
    "    \"\"\"\n",
    "    storage_path = get_storage_path()\n",
    "    model_path = storage_path / \"model\"\n",
    "    model_path.mkdir(parents=False, exist_ok=True)\n",
    "    return model_path"
   ]
  },
  {
   "cell_type": "code",
   "execution_count": null,
   "id": "2ba97d2f",
   "metadata": {},
   "outputs": [
    {
     "data": {
      "text/plain": [
       "Path('/tf/airt-service/storage/model')"
      ]
     },
     "metadata": {},
     "output_type": "display_data"
    }
   ],
   "source": [
    "expected = get_storage_path() / \"model\"\n",
    "actual = get_model_path()\n",
    "display(actual)\n",
    "assert actual == expected\n",
    "assert actual.exists()"
   ]
  },
  {
   "cell_type": "code",
   "execution_count": null,
   "id": "acb0c703",
   "metadata": {},
   "outputs": [],
   "source": [
    "#| export\n",
    "\n",
    "\n",
    "def get_prediction_path() -> Path:\n",
    "    \"\"\"Get a local path to store the predictions\n",
    "\n",
    "    Returns:\n",
    "        A path to store the predictions\n",
    "    \"\"\"\n",
    "    storage_path = get_storage_path()\n",
    "    prediction_path = storage_path / \"prediction\"\n",
    "    prediction_path.mkdir(parents=False, exist_ok=True)\n",
    "    return prediction_path"
   ]
  },
  {
   "cell_type": "code",
   "execution_count": null,
   "id": "48f38692",
   "metadata": {},
   "outputs": [
    {
     "data": {
      "text/plain": [
       "Path('/tf/airt-service/storage/prediction')"
      ]
     },
     "metadata": {},
     "output_type": "display_data"
    }
   ],
   "source": [
    "expected = get_storage_path() / \"prediction\"\n",
    "actual = get_prediction_path()\n",
    "display(actual)\n",
    "assert actual == expected\n",
    "assert actual.exists()"
   ]
  },
  {
   "cell_type": "code",
   "execution_count": null,
   "id": "fb62c8d3",
   "metadata": {},
   "outputs": [],
   "source": [
    "#| export\n",
    "\n",
    "\n",
    "def generate_random_string(length: int = 6) -> str:\n",
    "    \"\"\"Generate a random string of the given length\n",
    "\n",
    "    Args:\n",
    "        length: Length of the random string. If not set, then the default value 6 will be used.\n",
    "\n",
    "    Returns:\n",
    "        A random string of the given length\n",
    "    \"\"\"\n",
    "    return \"\".join(\n",
    "        random.choice(string.ascii_uppercase + string.digits)  # nosec B311\n",
    "        for _ in range(length)\n",
    "    )"
   ]
  },
  {
   "cell_type": "code",
   "execution_count": null,
   "id": "07ec4c8d",
   "metadata": {},
   "outputs": [
    {
     "data": {
      "text/plain": [
       "'B86264W1ER'"
      ]
     },
     "metadata": {},
     "output_type": "display_data"
    }
   ],
   "source": [
    "actual = generate_random_string(length=10)\n",
    "display(actual)\n",
    "assert len(actual) == 10"
   ]
  },
  {
   "cell_type": "code",
   "execution_count": null,
   "id": "2cabe48d",
   "metadata": {},
   "outputs": [],
   "source": [
    "#| export\n",
    "\n",
    "\n",
    "@contextmanager\n",
    "def set_env_variable_context(variable: str, value: str) -> Iterator[None]:\n",
    "    old_value = environ[variable] if variable in environ else None\n",
    "    environ[variable] = value\n",
    "    yield\n",
    "    if old_value is None:\n",
    "        del environ[variable]\n",
    "    else:\n",
    "        environ[variable] = old_value"
   ]
  },
  {
   "cell_type": "code",
   "execution_count": null,
   "id": "84f25cbd",
   "metadata": {},
   "outputs": [],
   "source": [
    "# test JOB_EXECUTOR is not set already scenario\n",
    "assert \"SET_AND_TEST_ENV_VARIABLE\" not in environ\n",
    "with set_env_variable_context(variable=\"SET_AND_TEST_ENV_VARIABLE\", value=\"something\"):\n",
    "    assert environ[\"SET_AND_TEST_ENV_VARIABLE\"] == \"something\"\n",
    "assert \"SET_AND_TEST_ENV_VARIABLE\" not in environ\n",
    "\n",
    "# test JOB_EXECUTOR is set already using first with statement scenario\n",
    "assert \"SET_AND_TEST_ENV_VARIABLE\" not in environ\n",
    "with set_env_variable_context(variable=\"SET_AND_TEST_ENV_VARIABLE\", value=\"something\"):\n",
    "    assert environ[\"SET_AND_TEST_ENV_VARIABLE\"] == \"something\"\n",
    "\n",
    "    with set_env_variable_context(\n",
    "        variable=\"SET_AND_TEST_ENV_VARIABLE\", value=\"different_value\"\n",
    "    ):\n",
    "        assert environ[\"SET_AND_TEST_ENV_VARIABLE\"] == \"different_value\"\n",
    "\n",
    "    assert environ[\"SET_AND_TEST_ENV_VARIABLE\"] == \"something\"\n",
    "assert \"SET_AND_TEST_ENV_VARIABLE\" not in environ"
   ]
  },
  {
   "cell_type": "code",
   "execution_count": null,
   "id": "0c94874c",
   "metadata": {},
   "outputs": [],
   "source": [
    "#| export\n",
    "\n",
    "\n",
    "@contextmanager\n",
    "def commit_or_rollback(session: Session) -> Iterator[None]:\n",
    "    \"\"\"A context manager to commit the changes to the database. In the case of an exception,\n",
    "    the database will be rollback to the previous state.\n",
    "\n",
    "    Args:\n",
    "        session: Current session object\n",
    "    \"\"\"\n",
    "    try:\n",
    "        yield\n",
    "        session.commit()\n",
    "    except Exception as e:\n",
    "        session.rollback()\n",
    "        raise e"
   ]
  },
  {
   "cell_type": "code",
   "execution_count": null,
   "id": "8b77051e",
   "metadata": {},
   "outputs": [
    {
     "data": {
      "text/plain": [
       "DataBlob(id=26, uuid=UUID('768d6003-69be-406c-a55b-204782ed3d95'), type='s3', uri='s3://****************************************@bucket', source='s3://bucket', total_steps=1, completed_steps=0, folder_size=None, cloud_provider=<CloudProvider.aws: 'aws'>, region='eu-west-1', error=None, disabled=False, path=None, created=datetime.datetime(2022, 10, 20, 7, 59, 22), user_id=121, pulled_on=None, tags=[])"
      ]
     },
     "metadata": {},
     "output_type": "display_data"
    },
    {
     "data": {
      "text/plain": [
       "'ok'"
      ]
     },
     "metadata": {},
     "output_type": "display_data"
    }
   ],
   "source": [
    "with get_session_with_context() as session:\n",
    "    user = session.exec(select(User).where(User.username == test_username)).one()\n",
    "\n",
    "    uri = \"s3://bucket\"\n",
    "    # test_tag = Tag.get_by_name(name=\"test\", session=session)\n",
    "    db_uri = create_db_uri_for_s3_datablob(\n",
    "        uri=uri,\n",
    "        access_key=\"access\",\n",
    "        secret_key=\"secret\",\n",
    "    )\n",
    "\n",
    "    def test_commit_or_rollback(raise_exception: bool):\n",
    "        with commit_or_rollback(session):\n",
    "            datablob = DataBlob(\n",
    "                type=\"s3\",\n",
    "                uri=db_uri,\n",
    "                source=uri,\n",
    "                cloud_provider=\"aws\",\n",
    "                region=\"eu-west-1\",\n",
    "                total_steps=1,\n",
    "                user=user,\n",
    "                #         tags=[test_tag],\n",
    "            )\n",
    "            session.add(datablob)\n",
    "            assert datablob.id is None\n",
    "            if raise_exception:\n",
    "                raise ValueError(\"I had one job and I failed\")\n",
    "\n",
    "        return datablob\n",
    "\n",
    "    # positive case\n",
    "    datablob = test_commit_or_rollback(False)\n",
    "    display(datablob)\n",
    "    assert datablob.id\n",
    "\n",
    "    # negative case\n",
    "    with pytest.raises(ValueError):\n",
    "        test_commit_or_rollback(True)\n",
    "\n",
    "    display(\"ok\")"
   ]
  },
  {
   "cell_type": "code",
   "execution_count": null,
   "id": "0233e4f4",
   "metadata": {},
   "outputs": [],
   "source": [
    "#| export\n",
    "\n",
    "\n",
    "def truncate(s: str, length: int = 255) -> str:\n",
    "    \"\"\"Truncate the string to a given length\n",
    "\n",
    "    Args:\n",
    "        s: String to truncate\n",
    "        length: Length to truncate the string\n",
    "\n",
    "    Returns:\n",
    "        The truncated string\n",
    "    \"\"\"\n",
    "    return s[:length]"
   ]
  },
  {
   "cell_type": "code",
   "execution_count": null,
   "id": "af1d8441",
   "metadata": {},
   "outputs": [
    {
     "data": {
      "text/plain": [
       "\"actual='Error; something went wrong'\""
      ]
     },
     "metadata": {},
     "output_type": "display_data"
    },
    {
     "data": {
      "text/plain": [
       "\"actual='Error'\""
      ]
     },
     "metadata": {},
     "output_type": "display_data"
    },
    {
     "data": {
      "text/plain": [
       "\"actual='---------------------------------------------------------------------------------------------------------------------------------------------------------------------------------------------------------------------------------------------------------------'\""
      ]
     },
     "metadata": {},
     "output_type": "display_data"
    }
   ],
   "source": [
    "test_cases = [\n",
    "    {\n",
    "        \"s\": \"Error; something went wrong\",\n",
    "        \"length\": 255,\n",
    "        \"expected\": \"Error; something went wrong\",\n",
    "    },\n",
    "    {\n",
    "        \"s\": \"Error; something went wrong\",\n",
    "        \"length\": 5,\n",
    "        \"expected\": \"Error\",\n",
    "    },\n",
    "    {\n",
    "        \"s\": \"-\" * 2000,\n",
    "        \"length\": 255,\n",
    "        \"expected\": \"-\" * 255,\n",
    "    },\n",
    "]\n",
    "\n",
    "for case in test_cases:\n",
    "    actual = truncate(s=case[\"s\"], length=case[\"length\"])\n",
    "    display(f\"{actual=}\")\n",
    "    assert actual == case[\"expected\"]"
   ]
  },
  {
   "cell_type": "code",
   "execution_count": null,
   "id": "66c292f5",
   "metadata": {},
   "outputs": [],
   "source": [
    "#| export\n",
    "\n",
    "\n",
    "def df_to_dict(df: pd.DataFrame) -> Dict[str, Any]:\n",
    "    \"\"\"Convert pandas dataframe to dict\n",
    "\n",
    "    Args:\n",
    "        df: Input dataframe\n",
    "\n",
    "    Returns:\n",
    "        A dict the data and dtypes\n",
    "    \"\"\"\n",
    "    d = {\n",
    "        \"data\": df.to_dict(\"tight\"),\n",
    "        \"dtypes\": df.dtypes.apply(lambda x: str(x)).to_dict(),\n",
    "    }\n",
    "    return d\n",
    "\n",
    "\n",
    "def dict_to_df(d: Dict[str, Any]) -> pd.DataFrame:\n",
    "    \"\"\"Convert the dict into a pandas dataframe\n",
    "\n",
    "    Args:\n",
    "        d: Dict containing the data and dtypes\n",
    "\n",
    "    Returns:\n",
    "        The pandas dataframe constructed from the dict\n",
    "    \"\"\"\n",
    "    data = d[\"data\"]\n",
    "    dtypes = d[\"dtypes\"]\n",
    "    df = pd.DataFrame.from_dict(data, orient=\"tight\")\n",
    "    for k, v in dtypes.items():\n",
    "        df[k] = df[k].astype(v)\n",
    "    return df"
   ]
  },
  {
   "cell_type": "code",
   "execution_count": null,
   "id": "933ab5fc",
   "metadata": {},
   "outputs": [
    {
     "name": "stderr",
     "output_type": "stream",
     "text": [
      "/root/.local/lib/python3.8/site-packages/pandas/util/__init__.py:15: FutureWarning: pandas.util.testing is deprecated. Use the functions in the public API at pandas.testing instead.\n",
      "  import pandas.util.testing\n",
      "/root/.local/lib/python3.8/site-packages/dask/dataframe/core.py:7606: UserWarning: Insufficient elements for `head`. 10 elements requested, only 8 elements available. Try passing larger `npartitions` to `head`.\n",
      "  warnings.warn(\n"
     ]
    },
    {
     "data": {
      "text/html": [
       "<div>\n",
       "<style scoped>\n",
       "    .dataframe tbody tr th:only-of-type {\n",
       "        vertical-align: middle;\n",
       "    }\n",
       "\n",
       "    .dataframe tbody tr th {\n",
       "        vertical-align: top;\n",
       "    }\n",
       "\n",
       "    .dataframe thead th {\n",
       "        text-align: right;\n",
       "    }\n",
       "</style>\n",
       "<table border=\"1\" class=\"dataframe\">\n",
       "  <thead>\n",
       "    <tr style=\"text-align: right;\">\n",
       "      <th></th>\n",
       "      <th>B</th>\n",
       "      <th>C</th>\n",
       "      <th>D</th>\n",
       "      <th>B_float32</th>\n",
       "      <th>B_int32</th>\n",
       "      <th>B_bool</th>\n",
       "      <th>C_float32</th>\n",
       "      <th>C_int32</th>\n",
       "      <th>C_bool</th>\n",
       "      <th>D_float32</th>\n",
       "      <th>D_int32</th>\n",
       "      <th>D_bool</th>\n",
       "      <th>ts</th>\n",
       "    </tr>\n",
       "    <tr>\n",
       "      <th>A</th>\n",
       "      <th></th>\n",
       "      <th></th>\n",
       "      <th></th>\n",
       "      <th></th>\n",
       "      <th></th>\n",
       "      <th></th>\n",
       "      <th></th>\n",
       "      <th></th>\n",
       "      <th></th>\n",
       "      <th></th>\n",
       "      <th></th>\n",
       "      <th></th>\n",
       "      <th></th>\n",
       "    </tr>\n",
       "  </thead>\n",
       "  <tbody>\n",
       "    <tr>\n",
       "      <th>-2.209765</th>\n",
       "      <td>1.980765</td>\n",
       "      <td>1.789313</td>\n",
       "      <td>0.844521</td>\n",
       "      <td>1.980765</td>\n",
       "      <td>1</td>\n",
       "      <td>True</td>\n",
       "      <td>1.789313</td>\n",
       "      <td>1</td>\n",
       "      <td>True</td>\n",
       "      <td>0.844521</td>\n",
       "      <td>0</td>\n",
       "      <td>True</td>\n",
       "      <td>2022-10-20 07:59:21</td>\n",
       "    </tr>\n",
       "    <tr>\n",
       "      <th>-1.584939</th>\n",
       "      <td>-0.367534</td>\n",
       "      <td>1.654168</td>\n",
       "      <td>0.939094</td>\n",
       "      <td>-0.367534</td>\n",
       "      <td>0</td>\n",
       "      <td>True</td>\n",
       "      <td>1.654168</td>\n",
       "      <td>1</td>\n",
       "      <td>True</td>\n",
       "      <td>0.939094</td>\n",
       "      <td>0</td>\n",
       "      <td>True</td>\n",
       "      <td>2022-10-20 07:59:21</td>\n",
       "    </tr>\n",
       "    <tr>\n",
       "      <th>-1.546101</th>\n",
       "      <td>-0.355850</td>\n",
       "      <td>-0.642616</td>\n",
       "      <td>1.283032</td>\n",
       "      <td>-0.355850</td>\n",
       "      <td>0</td>\n",
       "      <td>True</td>\n",
       "      <td>-0.642616</td>\n",
       "      <td>0</td>\n",
       "      <td>True</td>\n",
       "      <td>1.283032</td>\n",
       "      <td>1</td>\n",
       "      <td>True</td>\n",
       "      <td>2022-10-20 07:59:21</td>\n",
       "    </tr>\n",
       "    <tr>\n",
       "      <th>-1.135242</th>\n",
       "      <td>-0.579568</td>\n",
       "      <td>-1.526793</td>\n",
       "      <td>-0.832108</td>\n",
       "      <td>-0.579568</td>\n",
       "      <td>0</td>\n",
       "      <td>True</td>\n",
       "      <td>-1.526793</td>\n",
       "      <td>-1</td>\n",
       "      <td>True</td>\n",
       "      <td>-0.832108</td>\n",
       "      <td>0</td>\n",
       "      <td>True</td>\n",
       "      <td>2022-10-20 07:59:21</td>\n",
       "    </tr>\n",
       "    <tr>\n",
       "      <th>-1.089560</th>\n",
       "      <td>0.625968</td>\n",
       "      <td>-0.205677</td>\n",
       "      <td>-1.874327</td>\n",
       "      <td>0.625968</td>\n",
       "      <td>0</td>\n",
       "      <td>True</td>\n",
       "      <td>-0.205677</td>\n",
       "      <td>0</td>\n",
       "      <td>True</td>\n",
       "      <td>-1.874327</td>\n",
       "      <td>-1</td>\n",
       "      <td>True</td>\n",
       "      <td>2022-10-20 07:59:21</td>\n",
       "    </tr>\n",
       "    <tr>\n",
       "      <th>-0.927017</th>\n",
       "      <td>0.879269</td>\n",
       "      <td>1.158200</td>\n",
       "      <td>-0.720700</td>\n",
       "      <td>0.879269</td>\n",
       "      <td>0</td>\n",
       "      <td>True</td>\n",
       "      <td>1.158200</td>\n",
       "      <td>1</td>\n",
       "      <td>True</td>\n",
       "      <td>-0.720700</td>\n",
       "      <td>0</td>\n",
       "      <td>True</td>\n",
       "      <td>2022-10-20 07:59:21</td>\n",
       "    </tr>\n",
       "    <tr>\n",
       "      <th>-0.833045</th>\n",
       "      <td>0.434356</td>\n",
       "      <td>0.661008</td>\n",
       "      <td>-1.260591</td>\n",
       "      <td>0.434355</td>\n",
       "      <td>0</td>\n",
       "      <td>True</td>\n",
       "      <td>0.661008</td>\n",
       "      <td>0</td>\n",
       "      <td>True</td>\n",
       "      <td>-1.260591</td>\n",
       "      <td>-1</td>\n",
       "      <td>True</td>\n",
       "      <td>2022-10-20 07:59:21</td>\n",
       "    </tr>\n",
       "    <tr>\n",
       "      <th>-0.757721</th>\n",
       "      <td>-0.345270</td>\n",
       "      <td>0.451236</td>\n",
       "      <td>0.868114</td>\n",
       "      <td>-0.345270</td>\n",
       "      <td>0</td>\n",
       "      <td>True</td>\n",
       "      <td>0.451236</td>\n",
       "      <td>0</td>\n",
       "      <td>True</td>\n",
       "      <td>0.868114</td>\n",
       "      <td>0</td>\n",
       "      <td>True</td>\n",
       "      <td>2022-10-20 07:59:21</td>\n",
       "    </tr>\n",
       "  </tbody>\n",
       "</table>\n",
       "</div>"
      ],
      "text/plain": [
       "                  B         C         D  B_float32  B_int32  B_bool  \\\n",
       "A                                                                     \n",
       "-2.209765  1.980765  1.789313  0.844521   1.980765        1    True   \n",
       "-1.584939 -0.367534  1.654168  0.939094  -0.367534        0    True   \n",
       "-1.546101 -0.355850 -0.642616  1.283032  -0.355850        0    True   \n",
       "-1.135242 -0.579568 -1.526793 -0.832108  -0.579568        0    True   \n",
       "-1.089560  0.625968 -0.205677 -1.874327   0.625968        0    True   \n",
       "-0.927017  0.879269  1.158200 -0.720700   0.879269        0    True   \n",
       "-0.833045  0.434356  0.661008 -1.260591   0.434355        0    True   \n",
       "-0.757721 -0.345270  0.451236  0.868114  -0.345270        0    True   \n",
       "\n",
       "           C_float32  C_int32  C_bool  D_float32  D_int32  D_bool  \\\n",
       "A                                                                   \n",
       "-2.209765   1.789313        1    True   0.844521        0    True   \n",
       "-1.584939   1.654168        1    True   0.939094        0    True   \n",
       "-1.546101  -0.642616        0    True   1.283032        1    True   \n",
       "-1.135242  -1.526793       -1    True  -0.832108        0    True   \n",
       "-1.089560  -0.205677        0    True  -1.874327       -1    True   \n",
       "-0.927017   1.158200        1    True  -0.720700        0    True   \n",
       "-0.833045   0.661008        0    True  -1.260591       -1    True   \n",
       "-0.757721   0.451236        0    True   0.868114        0    True   \n",
       "\n",
       "                           ts  \n",
       "A                              \n",
       "-2.209765 2022-10-20 07:59:21  \n",
       "-1.584939 2022-10-20 07:59:21  \n",
       "-1.546101 2022-10-20 07:59:21  \n",
       "-1.135242 2022-10-20 07:59:21  \n",
       "-1.089560 2022-10-20 07:59:21  \n",
       "-0.927017 2022-10-20 07:59:21  \n",
       "-0.833045 2022-10-20 07:59:21  \n",
       "-0.757721 2022-10-20 07:59:21  "
      ]
     },
     "metadata": {},
     "output_type": "display_data"
    }
   ],
   "source": [
    "df = pd.util.testing.makeDataFrame().set_index(\"A\")\n",
    "for c in df.columns:\n",
    "    df[f\"{c}_float32\"] = df[c].astype(\"float32\")\n",
    "    df[f\"{c}_int32\"] = df[c].astype(\"int32\")\n",
    "    df[f\"{c}_bool\"] = df[c].astype(\"bool\")\n",
    "df[\"ts\"] = np.datetime64(\"now\")\n",
    "\n",
    "ddf = dd.from_pandas(df, npartitions=4)\n",
    "ddf_head = ddf.head(10)\n",
    "s = df_to_dict(ddf_head)\n",
    "actual = dict_to_df(s)\n",
    "\n",
    "pd.testing.assert_frame_equal(ddf_head, actual)\n",
    "display(actual)"
   ]
  },
  {
   "cell_type": "code",
   "execution_count": null,
   "id": "d262536e",
   "metadata": {},
   "outputs": [],
   "source": [
    "#| export\n",
    "\n",
    "\n",
    "def _detect_sql_code_injection(s: str) -> bool:\n",
    "    \"\"\"Check if the given string contains SQL code injection\n",
    "\n",
    "    Args:\n",
    "        s: String to validate\n",
    "\n",
    "    Returns:\n",
    "        True, if the given string contains SQL code injection\n",
    "    \"\"\"\n",
    "    # https://larrysteinle.com/2011/02/20/use-regular-expressions-to-detect-sql-code-injection/\n",
    "    regex_text = \"('(''|[^'])*')|(;)|(\\b(ALTER|CREATE|DELETE|DROP|EXEC(UTE){0,1}|INSERT( +INTO){0,1}|MERGE|SELECT|UPDATE|UNION( +ALL){0,1})\\b)\"\n",
    "    return bool(re.search(regex_text, s))"
   ]
  },
  {
   "cell_type": "code",
   "execution_count": null,
   "id": "a1159c1e",
   "metadata": {},
   "outputs": [],
   "source": [
    "# unsafe inputs\n",
    "unsafe_inputs = [\"'; SELECT * FROM test ;--\", \"10; DROP TABLE test /*\"]\n",
    "\n",
    "# safe inputs\n",
    "safe_inputs = [\n",
    "    \"index_col\",\n",
    "    \"index-col\",\n",
    "    \"indexCol\",\n",
    "    \"revenue_10\",\n",
    "    \"string with space\",\n",
    "    \"str!@$\",\n",
    "    \"$str\",\n",
    "    \"%%test%%\",\n",
    "    \"SELECT a FROM test\",\n",
    "]\n",
    "\n",
    "for i in unsafe_inputs:\n",
    "    assert _detect_sql_code_injection(i), i\n",
    "\n",
    "for i in safe_inputs:\n",
    "    assert not _detect_sql_code_injection(i), i"
   ]
  },
  {
   "cell_type": "code",
   "execution_count": null,
   "id": "c0425f45",
   "metadata": {},
   "outputs": [],
   "source": [
    "#| export\n",
    "\n",
    "\n",
    "def validate_user_inputs(xs: List[str]) -> None:\n",
    "    \"\"\"Validate the user input for SQL code injection\n",
    "\n",
    "    Args:\n",
    "        xs: List of strings\n",
    "\n",
    "    Raises:\n",
    "        ValueError: If the list contains SQL code injection\n",
    "    \"\"\"\n",
    "    for i in xs:\n",
    "        if _detect_sql_code_injection(i):\n",
    "            raise ValueError(f\"The input {i} is invalid. SQL code injection detected.\")"
   ]
  },
  {
   "cell_type": "code",
   "execution_count": null,
   "id": "4346363d",
   "metadata": {},
   "outputs": [],
   "source": [
    "valid_inputs = [\"index_col\", \"index-col\", \"indexCol\", \"revenue_10\"]\n",
    "validate_user_inputs(valid_inputs)"
   ]
  },
  {
   "cell_type": "code",
   "execution_count": null,
   "id": "b0850d94",
   "metadata": {},
   "outputs": [],
   "source": [
    "invalid_inputs = [\"index_col\", \"index-col\", \"indexCol\", \"'; SELECT * FROM test ;--\"]\n",
    "\n",
    "with pytest.raises(ValueError) as e:\n",
    "    validate_user_inputs(invalid_inputs)\n",
    "\n",
    "assert (\n",
    "    \"The input '; SELECT * FROM test ;-- is invalid. SQL code injection detected.\"\n",
    "    == str(e.value)\n",
    ")"
   ]
  },
  {
   "cell_type": "code",
   "execution_count": null,
   "id": "ad35ee52",
   "metadata": {},
   "outputs": [],
   "source": [
    "#| export\n",
    "\n",
    "\n",
    "def get_attr_by_name(xs: Dict[str, Any], attr_name: str) -> Union[str, None]:\n",
    "    \"\"\"Get the attribute by name from the input dictionary\n",
    "\n",
    "    The input dictionary may contain nested objects, and the attribute may present at the root\n",
    "    level or nested within the dictionary. This function searches the entire dictionary and\n",
    "    returns the attribute's value if a match is found; otherwise, it returns None.\n",
    "\n",
    "    Args:\n",
    "        xs: Input dictionary\n",
    "        attr_name: The name of the attribute for which the value must be retrieved\n",
    "\n",
    "    Returns:\n",
    "        If the given attribute name is found in the input dictionary, the value of the attribute will be returned; otherwise, None\n",
    "    \"\"\"\n",
    "    if attr_name in xs:\n",
    "        ret_val = xs[attr_name]\n",
    "    else:\n",
    "        ret_val = next(\n",
    "            (getattr(v, attr_name) for v in xs.values() if hasattr(v, attr_name)), None\n",
    "        )\n",
    "    return ret_val"
   ]
  },
  {
   "cell_type": "code",
   "execution_count": null,
   "id": "bd4965b0",
   "metadata": {},
   "outputs": [
    {
     "data": {
      "text/plain": [
       "'123456'"
      ]
     },
     "metadata": {},
     "output_type": "display_data"
    },
    {
     "data": {
      "text/plain": [
       "'123456'"
      ]
     },
     "metadata": {},
     "output_type": "display_data"
    },
    {
     "data": {
      "text/plain": [
       "'username'"
      ]
     },
     "metadata": {},
     "output_type": "display_data"
    },
    {
     "data": {
      "text/plain": [
       "None"
      ]
     },
     "metadata": {},
     "output_type": "display_data"
    },
    {
     "data": {
      "text/plain": [
       "'user_value'"
      ]
     },
     "metadata": {},
     "output_type": "display_data"
    }
   ],
   "source": [
    "kwargs = {\n",
    "    \"otp\": \"123456\",\n",
    "    \"user\": \"user\",\n",
    "    \"session\": \"session\",\n",
    "    \"random\": \"asd\",\n",
    "    \"random_\": \"asd\",\n",
    "}\n",
    "expected = \"123456\"\n",
    "actual = get_attr_by_name(kwargs, \"otp\")\n",
    "display(actual)\n",
    "assert actual == expected\n",
    "\n",
    "\n",
    "class Test:\n",
    "    otp = \"123456\"\n",
    "    username = \"username\"\n",
    "\n",
    "\n",
    "kwargs = {\n",
    "    \"user\": \"user\",\n",
    "    \"session\": \"session\",\n",
    "    \"random\": \"asd\",\n",
    "    \"random_\": \"asd\",\n",
    "    \"d\": Test,\n",
    "}\n",
    "expected = \"123456\"\n",
    "actual = get_attr_by_name(kwargs, \"otp\")\n",
    "display(actual)\n",
    "assert actual == expected\n",
    "\n",
    "expected = \"username\"\n",
    "actual = get_attr_by_name(kwargs, \"username\")\n",
    "display(actual)\n",
    "assert actual == expected\n",
    "\n",
    "\n",
    "kwargs = {\n",
    "    \"user\": \"user_value\",\n",
    "    \"session\": \"session_value\",\n",
    "    \"random\": \"asd\",\n",
    "    \"random_\": \"asd\",\n",
    "}\n",
    "expected = None\n",
    "actual = get_attr_by_name(kwargs, \"otp\")\n",
    "display(actual)\n",
    "assert actual == expected\n",
    "\n",
    "actual = get_attr_by_name(kwargs, \"user\")\n",
    "display(actual)\n",
    "assert actual == \"user_value\""
   ]
  },
  {
   "cell_type": "code",
   "execution_count": null,
   "id": "22e919f5",
   "metadata": {},
   "outputs": [],
   "source": []
  }
 ],
 "metadata": {
  "kernelspec": {
   "display_name": "Python 3 (ipykernel)",
   "language": "python",
   "name": "python3"
  }
 },
 "nbformat": 4,
 "nbformat_minor": 5
}
