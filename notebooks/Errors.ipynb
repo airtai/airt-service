{
 "cells": [
  {
   "cell_type": "raw",
   "metadata": {},
   "source": [
    "---\n",
    "description: Notebook to have custom errors and exceptions\n",
    "output-file: errors.html\n",
    "title: Errors and Exceptions\n",
    "\n",
    "---\n",
    "\n"
   ]
  },
  {
   "cell_type": "code",
   "execution_count": null,
   "metadata": {},
   "outputs": [],
   "source": [
    "#| default_exp errors"
   ]
  },
  {
   "cell_type": "code",
   "execution_count": null,
   "metadata": {},
   "outputs": [],
   "source": [
    "from airt.testing import activate_by_import"
   ]
  },
  {
   "cell_type": "code",
   "execution_count": null,
   "metadata": {},
   "outputs": [],
   "source": [
    "#| export\n",
    "\n",
    "import yaml\n",
    "from typing import *\n",
    "from pathlib import Path\n",
    "\n",
    "from pydantic import BaseModel"
   ]
  },
  {
   "cell_type": "code",
   "execution_count": null,
   "metadata": {},
   "outputs": [],
   "source": []
  },
  {
   "cell_type": "code",
   "execution_count": null,
   "metadata": {},
   "outputs": [],
   "source": [
    "#| export\n",
    "\n",
    "\n",
    "class HTTPError(BaseModel):\n",
    "    \"\"\"A class for raising custom http exceptions\"\"\"\n",
    "\n",
    "    detail: str\n",
    "\n",
    "    class Config:\n",
    "        schema_extra = {\n",
    "            \"example\": {\"detail\": \"HTTPException\"},\n",
    "        }"
   ]
  },
  {
   "cell_type": "code",
   "execution_count": null,
   "metadata": {},
   "outputs": [
    {
     "data": {
      "text/plain": [
       "HTTPError(detail='test detail')"
      ]
     },
     "metadata": {},
     "output_type": "display_data"
    }
   ],
   "source": [
    "http_error = HTTPError(detail=\"test detail\")\n",
    "display(http_error)\n",
    "assert http_error.detail == \"test detail\""
   ]
  },
  {
   "cell_type": "code",
   "execution_count": null,
   "metadata": {},
   "outputs": [],
   "source": [
    "#| export\n",
    "\n",
    "if Path(\"../errors.yml\").is_file():\n",
    "    errors_path = Path(\"../errors.yml\")\n",
    "elif Path(\"./errors.yml\").is_file():\n",
    "    errors_path = Path(\"./errors.yml\")\n",
    "elif Path(\"/tf/errors.yml\").is_file():\n",
    "    errors_path = Path(\"/tf/errors.yml\")\n",
    "else:\n",
    "    raise ValueError(\"errors.yml file not found in given paths\")\n",
    "\n",
    "with open(errors_path) as f:\n",
    "    ERRORS = yaml.safe_load(f)"
   ]
  },
  {
   "cell_type": "code",
   "execution_count": null,
   "metadata": {},
   "outputs": [
    {
     "data": {
      "text/plain": [
       "{'NOT_ENOUGH_PERMISSION': 'Not enough permission to access route',\n",
       " 'INTERNAL_SERVER_ERROR': 'Internal server error',\n",
       " 'QUOTA_EXCEEDED': 'Quota exceeded',\n",
       " 'INCORRECT_DATA_ID': 'Incorrect data id',\n",
       " 'DATASOURCE_IS_DELETED': 'Datasource is deleted',\n",
       " 'PULL_NOT_AVAILABLE': 'Pull not available',\n",
       " 'DATASOURCE_IS_NOT_PULLED': 'Datasource is not pulled yet, please call /pull first',\n",
       " 'INCORRECT_MODEL_ID': 'Incorrect model id',\n",
       " 'MODEL_IS_DELETED': 'Model is deleted',\n",
       " 'INCORRECT_PREDICTION_ID': 'Incorrect prediction id',\n",
       " 'PREDICTION_IS_DELETED': 'Prediction is deleted',\n",
       " 'INCORRECT_PREDICTION_PUSH_ID': 'Incorrect prediction push id',\n",
       " 'INCORRECT_USERNAME_OR_PASSWORD': 'Incorrect username or password',\n",
       " 'INCORRECT_APIKEY_ID': 'Incorrect apikey id or not enough authorization to access apikey',\n",
       " 'APIKEY_REVOKED': 'Apikey is revoked',\n",
       " 'INVALID_CREDENTIALS': 'Could not validate credentials. Wrong or expired key provided.',\n",
       " 'INACTIVE_USER': 'Inactive user',\n",
       " 'USERNAME_ALREADY_EXISTS': 'Username already exists',\n",
       " 'EMAIL_ALREADY_EXISTS': 'Email already exists',\n",
       " 'USERNAME_OR_EMAIL_ALREADY_EXISTS': 'Username or email already exists',\n",
       " 'INVALID_EMAIL': 'Invalid email',\n",
       " 'INCORRECT_USER_ID': 'Incorrect user id',\n",
       " 'USER_ALREADY_DISABLED': 'User already disabled',\n",
       " 'USER_ALREADY_ENABLED': 'User already enabled'}"
      ]
     },
     "metadata": {},
     "output_type": "display_data"
    }
   ],
   "source": [
    "assert ERRORS[\"INTERNAL_SERVER_ERROR\"] == \"Internal server error\"\n",
    "\n",
    "display(ERRORS)"
   ]
  },
  {
   "cell_type": "code",
   "execution_count": null,
   "metadata": {},
   "outputs": [],
   "source": []
  }
 ],
 "metadata": {
  "kernelspec": {
   "display_name": "Python 3",
   "language": "python",
   "name": "python3"
  }
 },
 "nbformat": 4,
 "nbformat_minor": 4
}
