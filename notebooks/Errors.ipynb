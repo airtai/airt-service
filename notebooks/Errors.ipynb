{
 "cells": [
  {
   "cell_type": "raw",
   "metadata": {},
   "source": [
    "---\n",
    "description: Notebook to have custom errors and exceptions\n",
    "output-file: errors.html\n",
    "title: Errors and Exceptions\n",
    "\n",
    "---\n",
    "\n"
   ]
  },
  {
   "cell_type": "code",
   "execution_count": null,
   "metadata": {},
   "outputs": [],
   "source": [
    "#| default_exp errors"
   ]
  },
  {
   "cell_type": "code",
   "execution_count": null,
   "metadata": {},
   "outputs": [
    {
     "name": "stdout",
     "output_type": "stream",
     "text": [
      "[INFO] airt.testing.activate_by_import: Testing environment activated.\n",
      "[INFO] numexpr.utils: Note: NumExpr detected 16 cores but \"NUMEXPR_MAX_THREADS\" not set, so enforcing safe limit of 8.\n",
      "[INFO] numexpr.utils: NumExpr defaulting to 8 threads.\n",
      "[INFO] airt.keras.helpers: Using a single GPU #0 with memory_limit 1024 MB\n"
     ]
    }
   ],
   "source": [
    "from airt.testing import activate_by_import"
   ]
  },
  {
   "cell_type": "code",
   "execution_count": null,
   "metadata": {},
   "outputs": [],
   "source": [
    "#| export\n",
    "\n",
    "import yaml\n",
    "from typing import *\n",
    "from pathlib import Path\n",
    "\n",
    "import airt_service.sanitizer\n",
    "from pydantic import BaseModel"
   ]
  },
  {
   "cell_type": "code",
   "execution_count": null,
   "metadata": {},
   "outputs": [],
   "source": []
  },
  {
   "cell_type": "code",
   "execution_count": null,
   "metadata": {},
   "outputs": [],
   "source": [
    "#| export\n",
    "\n",
    "\n",
    "class HTTPError(BaseModel):\n",
    "    \"\"\"A class for raising custom http exceptions\"\"\"\n",
    "\n",
    "    detail: str\n",
    "\n",
    "    class Config:\n",
    "        schema_extra = {\n",
    "            \"example\": {\"detail\": \"HTTPException\"},\n",
    "        }"
   ]
  },
  {
   "cell_type": "code",
   "execution_count": null,
   "metadata": {},
   "outputs": [
    {
     "data": {
      "text/plain": [
       "HTTPError(detail='test detail')"
      ]
     },
     "metadata": {},
     "output_type": "display_data"
    }
   ],
   "source": [
    "http_error = HTTPError(detail=\"test detail\")\n",
    "display(http_error)\n",
    "assert http_error.detail == \"test detail\""
   ]
  },
  {
   "cell_type": "code",
   "execution_count": null,
   "metadata": {},
   "outputs": [],
   "source": [
    "#| export\n",
    "\n",
    "if Path(\"../errors.yml\").is_file():\n",
    "    errors_path = Path(\"../errors.yml\")\n",
    "elif Path(\"./errors.yml\").is_file():\n",
    "    errors_path = Path(\"./errors.yml\")\n",
    "elif Path(\"/tf/errors.yml\").is_file():\n",
    "    errors_path = Path(\"/tf/errors.yml\")\n",
    "else:\n",
    "    raise ValueError(\"errors.yml file not found in given paths\")\n",
    "\n",
    "with open(errors_path) as f:\n",
    "    ERRORS = yaml.safe_load(f)"
   ]
  },
  {
   "cell_type": "code",
   "execution_count": null,
   "metadata": {},
   "outputs": [
    {
     "data": {
      "text/plain": [
       "{'NOT_ENOUGH_PERMISSION': 'Insufficient permission to access route',\n",
       " 'INTERNAL_SERVER_ERROR': 'Internal server error',\n",
       " 'QUOTA_EXCEEDED': 'Quota exceeded',\n",
       " 'INCORRECT_DATABLOB_ID': 'Incorrect datablob id',\n",
       " 'DATABLOB_IS_DELETED': 'DataBlob is deleted',\n",
       " 'DATABLOB_CSV_FILES_NOT_AVAILABLE': 'CSV files not available for the datablob',\n",
       " 'AZURE_NOT_SUPPORTED': 'Azure cloud provider not supported for from_local route',\n",
       " 'INCORRECT_DATASOURCE_ID': 'Incorrect datasource id',\n",
       " 'DATASOURCE_IS_DELETED': 'Datasource is deleted',\n",
       " 'PULL_NOT_AVAILABLE': 'Pull not available',\n",
       " 'PUSH_NOT_AVAILABLE': 'Push not available',\n",
       " 'DATASOURCE_IS_NOT_PULLED': 'Datasource is not pulled yet, please call /pull first',\n",
       " 'INCORRECT_MODEL_ID': 'Incorrect model id',\n",
       " 'MODEL_IS_DELETED': 'Model is deleted',\n",
       " 'INCORRECT_PREDICTION_ID': 'Incorrect prediction id',\n",
       " 'PREDICTION_IS_DELETED': 'Prediction is deleted',\n",
       " 'INCORRECT_PREDICTION_PUSH_ID': 'Incorrect prediction push id',\n",
       " 'INCORRECT_USERNAME_OR_PASSWORD': '****************************************',\n",
       " 'INCORRECT_APIKEY': '****************************************',\n",
       " 'APIKEY_REVOKED': 'Apikey is revoked',\n",
       " 'INVALID_CREDENTIALS': 'Could not validate credentials. Wrong or expired key provided.',\n",
       " 'INACTIVE_USER': 'Inactive user',\n",
       " 'USERNAME_ALREADY_EXISTS': 'Username already exists',\n",
       " 'EMAIL_ALREADY_EXISTS': 'Email already exists',\n",
       " 'USERNAME_OR_EMAIL_ALREADY_EXISTS': 'Username or email already exists',\n",
       " 'INVALID_EMAIL': 'Invalid email',\n",
       " 'INCORRECT_USER_USERNAME': 'Incorrect username',\n",
       " 'INCORRECT_USER_UUID': 'Incorrect user id',\n",
       " 'USER_ALREADY_DISABLED': 'User already disabled',\n",
       " 'USER_ALREADY_ENABLED': 'User already enabled',\n",
       " 'INVALID_OTP': 'Invalid OTP',\n",
       " 'OTP_REQUIRED': 'OTP is required',\n",
       " 'GENERATE_MFA_URL_NOT_GENERATED': 'MFA code is not generated for this user, please call /user/mfa/generate first',\n",
       " 'NOT_ENOUGH_PERMISSION_TO_ACCESS_OTHERS_DATA': \"Insufficient permission to access other user's data\",\n",
       " 'MFA_ALREADY_DISABLED': 'MFA is already disabled for the user',\n",
       " 'CANT_CLEANUP_SELF': 'User cannot cleanup self',\n",
       " 'INCORRECT_USERNAME': 'Incorrect username',\n",
       " 'APIKEY_NAME_ALREADY_EXISTS': 'An Api-key with the same name already exists',\n",
       " 'MFA_NOT_ACTIVATED_BUT_PASSES_OTP': 'MFA is not activated for the account. Please pass the OTP only after activating the MFA for your account.',\n",
       " 'INCORRECT_USERNAME_OR_OTP': 'Something went wrong. The username or OTP you entered is incorrect. Please try again or contact your administrator.',\n",
       " 'SSO_ALREADY_DISABLED': 'SSO is already disabled for the provider.',\n",
       " 'SSO_ALREADY_ENABLED_FOR_SERVICE': 'SSO is already enabled for the provider.',\n",
       " 'SSO_NOT_ENABLED_FOR_SERVICE': 'SSO is not enabled for the provider.',\n",
       " 'SSO_EMAIL_NOT_SAME': 'Email Address Mismatch. Please authenticate using the same email address that you have used while enabling the SSO for this provider.',\n",
       " 'SSO_SESSION_EXPIRED': 'Your session has expired. Please re-generate the authentication URL and initiate the SSO login process again.',\n",
       " 'SSO_CSRF_WARNING': 'Request check failed: State not equal in request and response. For your protection, access to this resource is secured against CSRF. Please re-generate the authentication URL and initiate the SSO login process again.',\n",
       " 'SERVICE_UNAVAILABLE': 'The Service is unavailable. Please try again later.',\n",
       " 'SSO_PROVIDER_REQUIRED': 'SSO provider name is required.',\n",
       " 'SSO_NOT_YET_FINISHED': 'SSO authentication is not complete. Please click on the authentication link you have received while requesting a new token and complete the login process first.',\n",
       " 'INVALID_SSO_PROVIDER': 'Invalid SSO provider. Valid SSO providers are',\n",
       " 'MESSAGING_SERVICE_UNAVAILABLE': 'Messaging service is unavailable. Please try again later.',\n",
       " 'NO_PHONE_NUMBER_TO_REGISTER': 'Please pass a phone number to register.',\n",
       " 'PHONE_NUMBER_NOT_REGISTERED': 'The phone number is not yet registered. Please register your phone number before calling this method.',\n",
       " 'WRONG_PIN': 'Incorrect OTP. Please enter the OTP you have received on your registered phone number and try again.',\n",
       " 'NO_MORE_PIN_ATTEMPTS': 'Too many failed attempts. Please initiate the phone registration process again.',\n",
       " 'MESSAGE_NOT_SENT': 'Failed to send OTP via SMS. Please check the phone number you have registered is valid and can receive SMS. Also, make sure the format of the phone number you have entered follows the pattern of country code followed by your phone number (without spaces). For example, 440123456789, +440123456789, and 00440123456789 are all valid formats for registering a UK phone number.',\n",
       " 'TTL_EXPIRED': 'OTP entered is expired. Please generate a new OTP and try again.'}"
      ]
     },
     "metadata": {},
     "output_type": "display_data"
    }
   ],
   "source": [
    "assert ERRORS[\"INTERNAL_SERVER_ERROR\"] == \"Internal server error\"\n",
    "\n",
    "display(ERRORS)"
   ]
  },
  {
   "cell_type": "code",
   "execution_count": null,
   "metadata": {},
   "outputs": [],
   "source": []
  }
 ],
 "metadata": {
  "kernelspec": {
   "display_name": "Python 3",
   "language": "python",
   "name": "python3"
  }
 },
 "nbformat": 4,
 "nbformat_minor": 4
}
