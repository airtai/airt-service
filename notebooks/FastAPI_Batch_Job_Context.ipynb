{
 "cells": [
  {
   "cell_type": "raw",
   "metadata": {},
   "source": [
    "---\n",
    "description: Context classes to run jobs using FastAPI BackgroundTasks\n",
    "output-file: fastapi_batch_job_context.html\n",
    "title: FastAPI Batch Job Context\n",
    "\n",
    "---\n",
    "\n"
   ]
  },
  {
   "cell_type": "code",
   "execution_count": null,
   "metadata": {},
   "outputs": [],
   "source": [
    "# | default_exp batch_job_components.fastapi"
   ]
  },
  {
   "cell_type": "code",
   "execution_count": null,
   "metadata": {},
   "outputs": [
    {
     "name": "stdout",
     "output_type": "stream",
     "text": [
      "[INFO] airt.testing.activate_by_import: Testing environment activated.\n",
      "[INFO] numexpr.utils: Note: NumExpr detected 16 cores but \"NUMEXPR_MAX_THREADS\" not set, so enforcing safe limit of 8.\n",
      "[INFO] numexpr.utils: NumExpr defaulting to 8 threads.\n",
      "[INFO] airt.keras.helpers: Using a single GPU #0 with memory_limit 1024 MB\n"
     ]
    }
   ],
   "source": [
    "from airt.testing import activate_by_import"
   ]
  },
  {
   "cell_type": "code",
   "execution_count": null,
   "metadata": {},
   "outputs": [],
   "source": [
    "# | export\n",
    "\n",
    "from typing import *\n",
    "\n",
    "import airt_service.sanitizer\n",
    "from airt.logger import get_logger\n",
    "from airt_service.background_task import execute_cli\n",
    "from airt_service.batch_job_components.base import BatchJobContext"
   ]
  },
  {
   "cell_type": "code",
   "execution_count": null,
   "metadata": {},
   "outputs": [],
   "source": [
    "from airt_service.helpers import set_env_variable_context\n",
    "from fastapi import BackgroundTasks"
   ]
  },
  {
   "cell_type": "code",
   "execution_count": null,
   "metadata": {},
   "outputs": [],
   "source": [
    "# | exporti\n",
    "\n",
    "logger = get_logger(__name__)"
   ]
  },
  {
   "cell_type": "code",
   "execution_count": null,
   "metadata": {},
   "outputs": [],
   "source": [
    "# | export\n",
    "\n",
    "\n",
    "class FastAPIBatchJobContext(BatchJobContext):\n",
    "    def __init__(self, task: str, **kwargs):\n",
    "        \"\"\"FastAPI Batch Job Context\n",
    "\n",
    "        Do not use __init__, please use factory method `create` to initiate object\n",
    "        \"\"\"\n",
    "        BatchJobContext.__init__(self, task=task)\n",
    "        self.background_tasks = kwargs[\"background_tasks\"]\n",
    "\n",
    "    def create_job(self, command: str, environment_vars: Dict[str, str]):\n",
    "        \"\"\"Create a new job\n",
    "\n",
    "        Args:\n",
    "            command: Command to execute in job\n",
    "            environment_vars: Environment vars to set in the container\n",
    "        \"\"\"\n",
    "        logger.info(\n",
    "            f\"{self.__class__.__name__}.create_job({self=}, {command=}, {environment_vars=})\"\n",
    "        )\n",
    "        self.background_tasks.add_task(execute_cli, command=command)\n",
    "\n",
    "\n",
    "FastAPIBatchJobContext.add_factory()"
   ]
  },
  {
   "cell_type": "code",
   "execution_count": null,
   "metadata": {},
   "outputs": [
    {
     "name": "stdout",
     "output_type": "stream",
     "text": [
      "[INFO] airt_service.batch_job_components.base: Entering FastAPIBatchJobContext(task=csv_processing)\n"
     ]
    },
    {
     "data": {
      "text/plain": [
       "FastAPIBatchJobContext(task=csv_processing)"
      ]
     },
     "metadata": {},
     "output_type": "display_data"
    },
    {
     "name": "stdout",
     "output_type": "stream",
     "text": [
      "[INFO] __main__: FastAPIBatchJobContext.create_job(self=FastAPIBatchJobContext(task=csv_processing), command='ls -lah', environment_vars={})\n"
     ]
    },
    {
     "data": {
      "text/plain": [
       "'bg_task.func=<function execute_cli>'"
      ]
     },
     "metadata": {},
     "output_type": "display_data"
    },
    {
     "data": {
      "text/plain": [
       "'bg_task.args=()'"
      ]
     },
     "metadata": {},
     "output_type": "display_data"
    },
    {
     "data": {
      "text/plain": [
       "\"bg_task.kwargs={'command': 'ls -lah'}\""
      ]
     },
     "metadata": {},
     "output_type": "display_data"
    },
    {
     "name": "stdout",
     "output_type": "stream",
     "text": [
      "[INFO] airt_service.batch_job_components.base: Exiting FastAPIBatchJobContext(task=csv_processing): exc_type=None, exc=None, None\n"
     ]
    }
   ],
   "source": [
    "with set_env_variable_context(variable=\"JOB_EXECUTOR\", value=\"fastapi\"):\n",
    "    background_tasks = BackgroundTasks()\n",
    "    with BatchJobContext.create(\n",
    "        \"csv_processing\", background_tasks=background_tasks\n",
    "    ) as batch_ctx:\n",
    "        display(batch_ctx)\n",
    "        assert batch_ctx.__class__.__name__ == \"FastAPIBatchJobContext\"\n",
    "\n",
    "        batch_ctx.create_job(command=\"ls -lah\", environment_vars={})\n",
    "\n",
    "        bg_task = background_tasks.tasks[-1]\n",
    "        display(f\"{bg_task.func=}\", f\"{bg_task.args=}\", f\"{bg_task.kwargs=}\")\n",
    "        assert bg_task.func == execute_cli\n",
    "        assert bg_task.kwargs[\"command\"] == f\"ls -lah\""
   ]
  },
  {
   "cell_type": "code",
   "execution_count": null,
   "metadata": {},
   "outputs": [],
   "source": []
  }
 ],
 "metadata": {
  "kernelspec": {
   "display_name": "Python 3 (ipykernel)",
   "language": "python",
   "name": "python3"
  }
 },
 "nbformat": 4,
 "nbformat_minor": 4
}
