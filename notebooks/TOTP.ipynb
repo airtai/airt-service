{
 "cells": [
  {
   "cell_type": "raw",
   "metadata": {},
   "source": [
    "---\n",
    "description: Notebook with functionalities for TOTP\n",
    "output-file: totp.html\n",
    "title: TOTP\n",
    "\n",
    "---\n",
    "\n"
   ]
  },
  {
   "cell_type": "code",
   "execution_count": null,
   "id": "fa8873c7",
   "metadata": {},
   "outputs": [],
   "source": [
    "# | default_exp totp"
   ]
  },
  {
   "cell_type": "code",
   "execution_count": null,
   "id": "2e4f0501",
   "metadata": {},
   "outputs": [
    {
     "name": "stdout",
     "output_type": "stream",
     "text": [
      "[INFO] airt.testing.activate_by_import: Testing environment activated.\n",
      "[INFO] numexpr.utils: Note: NumExpr detected 64 cores but \"NUMEXPR_MAX_THREADS\" not set, so enforcing safe limit of 8.\n",
      "[INFO] numexpr.utils: NumExpr defaulting to 8 threads.\n",
      "[INFO] airt.keras.helpers: Using a single GPU #0 with memory_limit 1024 MB\n"
     ]
    }
   ],
   "source": [
    "from airt.testing import activate_by_import"
   ]
  },
  {
   "cell_type": "code",
   "execution_count": null,
   "id": "cc1e8efa",
   "metadata": {},
   "outputs": [],
   "source": [
    "# | export\n",
    "\n",
    "import functools\n",
    "from typing import *\n",
    "\n",
    "import pyotp\n",
    "from airt.logger import get_logger\n",
    "from fastapi import HTTPException, status\n",
    "\n",
    "import airt_service.sanitizer\n",
    "from airt_service.constants import MFA_ISSUER_NAME\n",
    "from airt_service.errors import ERRORS\n",
    "from airt_service.helpers import get_attr_by_name"
   ]
  },
  {
   "cell_type": "code",
   "execution_count": null,
   "id": "b10949e3",
   "metadata": {},
   "outputs": [
    {
     "name": "stdout",
     "output_type": "stream",
     "text": [
      "[INFO] airt.executor.subcommand: Module loaded.\n"
     ]
    }
   ],
   "source": [
    "from contextlib import contextmanager\n",
    "\n",
    "import pytest\n",
    "import qrcode\n",
    "from PIL import Image\n",
    "from sqlmodel import Session, select\n",
    "\n",
    "from airt_service.db.models import (\n",
    "    User,\n",
    "    create_user_for_testing,\n",
    "    get_session,\n",
    "    get_session_with_context,\n",
    ")\n",
    "from airt_service.users import (\n",
    "    ActivateMFARequest,\n",
    "    activate_mfa,\n",
    "    disable_mfa,\n",
    "    generate_mfa_url,\n",
    ")"
   ]
  },
  {
   "cell_type": "code",
   "execution_count": null,
   "id": "bd15ea56",
   "metadata": {},
   "outputs": [],
   "source": [
    "# | exporti\n",
    "\n",
    "logger = get_logger(__name__)"
   ]
  },
  {
   "cell_type": "code",
   "execution_count": null,
   "id": "4b8b1564",
   "metadata": {},
   "outputs": [],
   "source": [
    "# | export\n",
    "\n",
    "\n",
    "def generate_mfa_secret() -> str:\n",
    "    \"\"\"Generate a 16 character base32 secret, compatible with Google Authenticator.\n",
    "\n",
    "    Returns:\n",
    "        The 16 character base32 secret string.\n",
    "    \"\"\"\n",
    "    # Create a new secret for each user and store it in the database\n",
    "    base32secret = pyotp.random_base32()\n",
    "    return base32secret"
   ]
  },
  {
   "cell_type": "code",
   "execution_count": null,
   "id": "48d998c3",
   "metadata": {},
   "outputs": [],
   "source": [
    "base32secret = generate_mfa_secret()\n",
    "assert len(base32secret) == 32"
   ]
  },
  {
   "cell_type": "code",
   "execution_count": null,
   "id": "75675e60",
   "metadata": {},
   "outputs": [],
   "source": [
    "# | export\n",
    "\n",
    "\n",
    "def generate_mfa_provisioning_url(mfa_secret: str, user_email: str) -> str:\n",
    "    \"\"\"Generate mfa provisioning uri\n",
    "\n",
    "    Args:\n",
    "        mfa_secret: The 16 character base32 secret string\n",
    "        user_email: The user email to generate the provisioning url for\n",
    "\n",
    "    Returns:\n",
    "        The provisioning uri generated from the secret\n",
    "    \"\"\"\n",
    "    uri = pyotp.totp.TOTP(mfa_secret).provisioning_uri(\n",
    "        name=user_email, issuer_name=MFA_ISSUER_NAME\n",
    "    )\n",
    "    return uri"
   ]
  },
  {
   "cell_type": "code",
   "execution_count": null,
   "id": "8aae923c",
   "metadata": {},
   "outputs": [],
   "source": [
    "uri = generate_mfa_provisioning_url(base32secret, \"test_user\")\n",
    "assert len(uri) == 87\n",
    "assert \"test_user\" in uri\n",
    "assert MFA_ISSUER_NAME in uri"
   ]
  },
  {
   "cell_type": "code",
   "execution_count": null,
   "id": "48088f66",
   "metadata": {},
   "outputs": [],
   "source": [
    "def generate_qr_code(url: str) -> Image:\n",
    "    \"\"\"Generate the QR code from the uri\n",
    "\n",
    "    Args:\n",
    "        url: mfa provisioning url\n",
    "\n",
    "    Returns:\n",
    "        The QR code generated from the provisioning url\n",
    "    \"\"\"\n",
    "    img = qrcode.make(url)\n",
    "    return img"
   ]
  },
  {
   "cell_type": "code",
   "execution_count": null,
   "id": "94dad5e7",
   "metadata": {},
   "outputs": [
    {
     "data": {
      "image/png": "[encoded data removed]",
      "text/plain": [
       "<qrcode.image.pil.PilImage>"
      ]
     },
     "execution_count": null,
     "metadata": {},
     "output_type": "execute_result"
    }
   ],
   "source": [
    "qr_code = generate_qr_code(base32secret)\n",
    "assert type(qr_code) == qrcode.image.pil.PilImage\n",
    "qr_code"
   ]
  },
  {
   "cell_type": "code",
   "execution_count": null,
   "id": "ad35ee52",
   "metadata": {},
   "outputs": [
    {
     "name": "stdout",
     "output_type": "stream",
     "text": [
      "█████████████████████████████████████████████\n",
      "█████████████████████████████████████████████\n",
      "████ ▄▄▄▄▄ █▄▀██▄▄▄  ▀▀▀▄█    ▀▄▀█ ▄▄▄▄▄ ████\n",
      "████ █   █ █▀▀ █ █▀██▄ ▀▀▄█ ▄▀  ▀█ █   █ ████\n",
      "████ █▄▄▄█ █ ▄▀▄█▄█ ▀  ▀█▄▄▄▀█▄▄ █ █▄▄▄█ ████\n",
      "████▄▄▄▄▄▄▄█ ▀▄█ ▀ ▀ ▀▄▀ █▄▀ █ █▄█▄▄▄▄▄▄▄████\n",
      "████▄█▀█ ▀▄▄ ▄   █ █▀█▄█▀▄▀▀▀██  ▄   ▄█▀▄████\n",
      "████▄▄█▄▀ ▄▀▀█▀▀▀▀ █▄  ▄▀▀▄▄▄█▀█ █ ▀▀█▄▀█████\n",
      "█████ ▀▄██▄ ▄ █▀ ▄▀▄█▄▀▄▀  ▀█▀█ ██▄ ▀██  ████\n",
      "████▀▄ ▀█ ▄██▀▄▀█   ▀▀ ▀█▄▄▄█ ▄    █ ▄ ██████\n",
      "████▀▄▄▄▀▀▄   █ ▄▀▄█▄▄▄▄▀▄▀▄▀  ▀▄ ▀█▄█▄▀█████\n",
      "████▄█ █ ▄▄▄ █▀▀█ ▀ ▀▀▀▄█ ▀█ ▄██ █ ▀▄▄██▀████\n",
      "████▄▄▀  ▄▄█▀█ ▄ ▀█▀█▄█▄█▀ ▀▀▀█▀  ▄▀▀█▄▄█████\n",
      "████▀▀ █▀▀▄▄▀██▀▀▀▀ █▄██ █  ▄▀▄ ▄  █▀█ ▄ ████\n",
      "████ ▄▀▀██▄▀▄ █▄▄ █▄▀▄▄▄▀ ▀▄ ▀█▀ ▀███  ▄█████\n",
      "██████▀▄▄▀▄▄▀█▀  ▄ █▄▀█ ▀▀█▄██▄█▄▀█ ▄▀▀▀█████\n",
      "████▄▄▄▄█▄▄▄ ▀▀▄▄▀▀ ▄▄▀█▄▄ ▀▄█   ▄▄▄ ▀▄▀▀████\n",
      "████ ▄▄▄▄▄ █▄ ▄██▀  ▄▄▄▀▄█  ▄█▄█ █▄█ █ ██████\n",
      "████ █   █ █▄█▄▀█ ▄███  ▀▄▀██▄ ▀    ▄  ▄▄████\n",
      "████ █▄▄▄█ ████▀█▀     █▄ █▄▀▄▄▀█▄▄▄██▄ █████\n",
      "████▄▄▄▄▄▄▄█▄█▄█▄▄▄█▄▄███▄▄█▄███▄▄▄█▄██▄▄████\n",
      "█████████████████████████████████████████████\n",
      "▀▀▀▀▀▀▀▀▀▀▀▀▀▀▀▀▀▀▀▀▀▀▀▀▀▀▀▀▀▀▀▀▀▀▀▀▀▀▀▀▀▀▀▀▀\n"
     ]
    }
   ],
   "source": [
    "uri = generate_mfa_provisioning_url(base32secret, \"test_user\")\n",
    "\n",
    "qr = qrcode.QRCode()\n",
    "qr.add_data(uri)\n",
    "qr.print_ascii(invert=True)"
   ]
  },
  {
   "cell_type": "code",
   "execution_count": null,
   "id": "07c3797d",
   "metadata": {},
   "outputs": [],
   "source": [
    "# | export\n",
    "\n",
    "\n",
    "def validate_totp(mfa_secret: str, user_otp: str):\n",
    "    \"\"\"Validate the OTP passed in against the current time OTP\n",
    "\n",
    "    Args:\n",
    "        mfa_secret: The 16 character base32 secret string assigned to the user\n",
    "        user_otp: The OTP to validate against the current time OTP\n",
    "\n",
    "    Raises:\n",
    "        HTTPError: If the user OTP does not match the current time OTP\n",
    "    \"\"\"\n",
    "    totp = pyotp.TOTP(mfa_secret)\n",
    "\n",
    "    if not totp.verify(otp=user_otp):\n",
    "        raise HTTPException(\n",
    "            status_code=status.HTTP_400_BAD_REQUEST,\n",
    "            detail=ERRORS[\"INVALID_OTP\"],\n",
    "        )"
   ]
  },
  {
   "cell_type": "code",
   "execution_count": null,
   "id": "a8baaba1",
   "metadata": {},
   "outputs": [],
   "source": [
    "# Verifying by passing the random TOTP\n",
    "random_str = \"123123\"\n",
    "with pytest.raises(HTTPException) as e:\n",
    "    validate_totp(base32secret, random_str)\n",
    "\n",
    "random_str = \"\"\n",
    "with pytest.raises(HTTPException) as e:\n",
    "    validate_totp(base32secret, random_str)\n",
    "\n",
    "# Verifying by passing the actual TOTP\n",
    "totp = pyotp.TOTP(base32secret).now()\n",
    "validate_totp(base32secret, totp)"
   ]
  },
  {
   "cell_type": "code",
   "execution_count": null,
   "id": "9cf208c8",
   "metadata": {},
   "outputs": [],
   "source": [
    "# | export\n",
    "\n",
    "\n",
    "def require_otp_if_mfa_enabled(func):\n",
    "    \"\"\"A decorator function to validate the otp for MFA enabled user\n",
    "\n",
    "    If the otp validation fails, the user will not be granted access to the decorated routes\n",
    "    \"\"\"\n",
    "\n",
    "    @functools.wraps(func)\n",
    "    def wrapper(*args, **kwargs):\n",
    "        user = kwargs[\"user\"]\n",
    "        session = kwargs[\"session\"]\n",
    "        otp = get_attr_by_name(kwargs, \"otp\")\n",
    "\n",
    "        if not user.is_mfa_active and otp is not None:\n",
    "            raise HTTPException(\n",
    "                status_code=status.HTTP_400_BAD_REQUEST,\n",
    "                detail=ERRORS[\"MFA_NOT_ACTIVATED_BUT_PASSES_OTP\"],\n",
    "            )\n",
    "\n",
    "        if user.is_mfa_active:\n",
    "            if otp is not None:\n",
    "                validate_totp(user.mfa_secret, otp)\n",
    "            else:\n",
    "                raise HTTPException(\n",
    "                    status_code=status.HTTP_400_BAD_REQUEST,\n",
    "                    detail=ERRORS[\"OTP_REQUIRED\"],\n",
    "                )\n",
    "\n",
    "        # Do something before\n",
    "        return func(*args, **kwargs)\n",
    "        # Do something after\n",
    "\n",
    "    return wrapper"
   ]
  },
  {
   "cell_type": "code",
   "execution_count": null,
   "id": "014d5d2f",
   "metadata": {},
   "outputs": [
    {
     "data": {
      "text/plain": [
       "'MFA is not activated for the account. Please pass the OTP only after activating the MFA for your account.'"
      ]
     },
     "metadata": {},
     "output_type": "display_data"
    },
    {
     "data": {
      "text/plain": [
       "'Ok'"
      ]
     },
     "metadata": {},
     "output_type": "display_data"
    }
   ],
   "source": [
    "@require_otp_if_mfa_enabled\n",
    "def test_require_otp_if_mfa_enabled(\n",
    "    otp,\n",
    "    user,\n",
    "    session,\n",
    "):\n",
    "    return \"Ok\"\n",
    "\n",
    "\n",
    "with get_session_with_context() as session:\n",
    "    test_user = create_user_for_testing()\n",
    "    user = session.exec(select(User).where(User.username == test_user)).one()\n",
    "    with pytest.raises(HTTPException) as e:\n",
    "        random_otp = \"123123\"\n",
    "        test_require_otp_if_mfa_enabled(otp=random_otp, user=user, session=session)\n",
    "    display(e.value.detail)\n",
    "    assert (\n",
    "        e.value.detail\n",
    "        == \"MFA is not activated for the account. Please pass the OTP only after activating the MFA for your account.\"\n",
    "    )\n",
    "\n",
    "    actual = test_require_otp_if_mfa_enabled(otp=None, user=user, session=session)\n",
    "    assert actual == \"Ok\"\n",
    "    display(actual)"
   ]
  },
  {
   "cell_type": "code",
   "execution_count": null,
   "id": "0053e7e1",
   "metadata": {},
   "outputs": [
    {
     "data": {
      "text/plain": [
       "User(id=5, uuid=UUID('3c9d6859-c3e6-4877-8b7b-35947762fc7e'), username='xriavxvvqs', first_name='unittest', last_name='user', email='xriavxvvqs@email.com', subscription_type=<SubscriptionType.test: 'test'>, super_user=False, disabled=False, created=datetime.datetime(2022, 10, 21, 5, 14, 13), phone_number=None, is_phone_number_verified=False, mfa_secret=**********************************, is_mfa_active=True)"
      ]
     },
     "metadata": {},
     "output_type": "display_data"
    },
    {
     "data": {
      "text/plain": [
       "<sqlmodel.orm.session.Session>"
      ]
     },
     "metadata": {},
     "output_type": "display_data"
    }
   ],
   "source": [
    "# Context manager to create MFA enabled user\n",
    "@contextmanager\n",
    "def create_mfa_enabled_user():\n",
    "    with get_session_with_context() as session:\n",
    "        mfa_enabled_user = create_user_for_testing()\n",
    "        user = session.exec(select(User).where(User.username == mfa_enabled_user)).one()\n",
    "        try:\n",
    "            # generate MFA\n",
    "            actual = generate_mfa_url(user=user, session=session)\n",
    "            assert user.mfa_secret is not None\n",
    "            # activate MFA\n",
    "            activate_mfa_request = ActivateMFARequest(\n",
    "                user_otp=pyotp.TOTP(user.mfa_secret).now()\n",
    "            )\n",
    "            actual = activate_mfa(\n",
    "                activate_mfa_request=activate_mfa_request, user=user, session=session\n",
    "            )\n",
    "            yield user, session\n",
    "        finally:\n",
    "            # deactivate MFA\n",
    "            user = disable_mfa(\n",
    "                user_uuid_or_name=str(user.uuid),\n",
    "                otp=pyotp.TOTP(user.mfa_secret).now(),\n",
    "                user=user,\n",
    "                session=session,\n",
    "            )\n",
    "            assert user.mfa_secret is None\n",
    "\n",
    "\n",
    "with create_mfa_enabled_user() as user_and_session:\n",
    "    display(user_and_session[0])\n",
    "    display(user_and_session[1])"
   ]
  },
  {
   "cell_type": "code",
   "execution_count": null,
   "id": "58886d3c",
   "metadata": {},
   "outputs": [
    {
     "data": {
      "text/plain": [
       "'Invalid OTP. Please try again.'"
      ]
     },
     "metadata": {},
     "output_type": "display_data"
    }
   ],
   "source": [
    "with create_mfa_enabled_user() as user_and_session:\n",
    "    user = user_and_session[0]\n",
    "    session = user_and_session[1]\n",
    "    with pytest.raises(HTTPException) as e:\n",
    "        random_otp = \"123123\"\n",
    "        test_require_otp_if_mfa_enabled(otp=random_otp, user=user, session=session)\n",
    "    display(e.value.detail)\n",
    "    assert \"Invalid OTP\" in e.value.detail"
   ]
  },
  {
   "cell_type": "code",
   "execution_count": null,
   "id": "32f67b6e",
   "metadata": {},
   "outputs": [
    {
     "data": {
      "text/plain": [
       "'OTP is required. Please enter the OTP generated by the authenticator app or the one you requested via SMS.'"
      ]
     },
     "metadata": {},
     "output_type": "display_data"
    }
   ],
   "source": [
    "with create_mfa_enabled_user() as user_and_session:\n",
    "    user = user_and_session[0]\n",
    "    session = user_and_session[1]\n",
    "    with pytest.raises(HTTPException) as e:\n",
    "        test_require_otp_if_mfa_enabled(otp=None, user=user, session=session)\n",
    "    display(e.value.detail)\n",
    "    assert \"OTP is required\" in e.value.detail"
   ]
  },
  {
   "cell_type": "code",
   "execution_count": null,
   "id": "bc560d12",
   "metadata": {},
   "outputs": [
    {
     "data": {
      "text/plain": [
       "'Ok'"
      ]
     },
     "execution_count": null,
     "metadata": {},
     "output_type": "execute_result"
    }
   ],
   "source": [
    "with create_mfa_enabled_user() as user_and_session:\n",
    "    user = user_and_session[0]\n",
    "    session = user_and_session[1]\n",
    "    valid_otp = pyotp.TOTP(user.mfa_secret).now()\n",
    "    actual = test_require_otp_if_mfa_enabled(otp=valid_otp, user=user, session=session)\n",
    "assert actual == \"Ok\"\n",
    "actual"
   ]
  },
  {
   "cell_type": "code",
   "execution_count": null,
   "id": "67510ef3",
   "metadata": {},
   "outputs": [],
   "source": []
  }
 ],
 "metadata": {
  "kernelspec": {
   "display_name": "Python 3",
   "language": "python",
   "name": "python3"
  }
 },
 "nbformat": 4,
 "nbformat_minor": 5
}
