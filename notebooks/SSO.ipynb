{
 "cells": [
  {
   "cell_type": "raw",
   "id": "b5baca7e",
   "metadata": {},
   "source": [
    "---\n",
    "description: Notebook containing configurations and helper functions for implementing\n",
    "  SSO\n",
    "output-file: sso.html\n",
    "title: SSO\n",
    "\n",
    "---\n",
    "\n"
   ]
  },
  {
   "cell_type": "code",
   "execution_count": 2,
   "id": "dfe92975",
   "metadata": {},
   "outputs": [],
   "source": [
    "# | default_exp sso"
   ]
  },
  {
   "cell_type": "code",
   "execution_count": 3,
   "id": "ea107adb",
   "metadata": {},
   "outputs": [],
   "source": [
    "# | export\n",
    "\n",
    "import os\n",
    "import secrets\n",
    "from datetime import datetime, timedelta\n",
    "from typing import *\n",
    "\n",
    "import requests\n",
    "from fastapi import HTTPException, Request, status\n",
    "from pydantic import BaseModel\n",
    "from requests_oauthlib import OAuth2Session\n",
    "from sqlalchemy.exc import NoResultFound\n",
    "from sqlmodel import select\n",
    "\n",
    "import airt_service.sanitizer\n",
    "from airt_service.db.models import (\n",
    "    SSO,\n",
    "    SSOProtocol,\n",
    "    SSOProvider,\n",
    "    User,\n",
    "    get_session_with_context,\n",
    ")\n",
    "from airt_service.errors import ERRORS\n",
    "from airt_service.helpers import commit_or_rollback"
   ]
  },
  {
   "cell_type": "code",
   "execution_count": 4,
   "id": "51a85a19",
   "metadata": {},
   "outputs": [
    {
     "name": "stdout",
     "output_type": "stream",
     "text": [
      "23-03-09 05:09:16.291 [INFO] airt.executor.subcommand: Module loaded.\n"
     ]
    }
   ],
   "source": [
    "import secrets\n",
    "from contextlib import contextmanager\n",
    "from urllib.parse import parse_qs, urlparse\n",
    "\n",
    "import pytest\n",
    "from sqlmodel import select\n",
    "\n",
    "from airt_service.db.models import (\n",
    "    create_user_for_testing,\n",
    "    get_session,\n",
    "    get_session_with_context,\n",
    ")\n",
    "from airt_service.users import EnableSSORequest, disable_sso, enable_sso"
   ]
  },
  {
   "cell_type": "code",
   "execution_count": 5,
   "id": "ce1f60cd",
   "metadata": {},
   "outputs": [],
   "source": [
    "# | exporti\n",
    "\n",
    "# Google APi discovery URL\n",
    "GOOGLE_DISCOVERY_URL = \"https://accounts.google.com/.well-known/openid-configuration\"\n",
    "\n",
    "# constants\n",
    "SSO_SUCCESS_MSG = \"Authentication successful. Please close the browser.\"\n",
    "SESSION_TIME_LIMIT = 10  # mins\n",
    "SSO_CONFIG: Dict[str, Any] = {\n",
    "    \"google\": {\"scope\": [\n",
    "        \"https://www.googleapis.com/auth/userinfo.email\", \n",
    "        \"https://www.googleapis.com/auth/userinfo.profile\",\n",
    "        \"openid\"\n",
    "    ]},\n",
    "    \"github\": {\n",
    "        \"scope\": \"user:email\",\n",
    "        \"authorization_endpoint\": \"https://github.com/login/oauth/authorize\",\n",
    "        \"token_endpoint\": \"https://github.com/login/oauth/access_token\",\n",
    "        \"userinfo_endpoint\": \"https://api.github.com/user/emails\",\n",
    "    },\n",
    "}"
   ]
  },
  {
   "cell_type": "code",
   "execution_count": 6,
   "id": "e165de46",
   "metadata": {},
   "outputs": [],
   "source": [
    "# | exporti\n",
    "\n",
    "\n",
    "def _generate_callback_url() -> str:\n",
    "    \"\"\"Generate callback URL for the SSO provider\n",
    "\n",
    "    This is the URL the user will be redirected to after successful user authentication.\n",
    "\n",
    "    Returns:\n",
    "        The generated callback URL\n",
    "    \"\"\"\n",
    "    domain_in_env = os.environ[\"DOMAIN\"]\n",
    "    domain = (\n",
    "        \"http://127.0.0.1:6006\"\n",
    "        if (domain_in_env == \"localhost\" or \"airt-service\" in domain_in_env)\n",
    "        else f\"https://{domain_in_env}\"\n",
    "    )\n",
    "\n",
    "    callback_url = f\"{domain}/sso/callback\"\n",
    "\n",
    "    return callback_url"
   ]
  },
  {
   "cell_type": "code",
   "execution_count": 7,
   "id": "12db0fee",
   "metadata": {},
   "outputs": [
    {
     "data": {
      "text/plain": [
       "'http://127.0.0.1:6006/sso/callback'"
      ]
     },
     "metadata": {},
     "output_type": "display_data"
    }
   ],
   "source": [
    "actual = _generate_callback_url()\n",
    "\n",
    "display(actual)\n",
    "assert \"http://127.0.0.1:6006/sso/callback\" == actual"
   ]
  },
  {
   "cell_type": "code",
   "execution_count": 8,
   "id": "6ad4152e",
   "metadata": {},
   "outputs": [],
   "source": [
    "@contextmanager\n",
    "def non_local_domain():\n",
    "    try:\n",
    "        actual_domain = os.environ[\"DOMAIN\"]\n",
    "        os.environ[\"DOMAIN\"] = \"not_localhost\"\n",
    "\n",
    "        yield\n",
    "    finally:\n",
    "        os.environ[\"DOMAIN\"] = actual_domain"
   ]
  },
  {
   "cell_type": "code",
   "execution_count": 9,
   "id": "8436b49f",
   "metadata": {},
   "outputs": [
    {
     "data": {
      "text/plain": [
       "'https://not_localhost/sso/callback'"
      ]
     },
     "metadata": {},
     "output_type": "display_data"
    }
   ],
   "source": [
    "with non_local_domain():\n",
    "    actual = _generate_callback_url()\n",
    "\n",
    "    display(actual)\n",
    "    assert actual == \"https://not_localhost/sso/callback\""
   ]
  },
  {
   "cell_type": "code",
   "execution_count": 10,
   "id": "24a1e9dd",
   "metadata": {},
   "outputs": [],
   "source": [
    "# | exporti\n",
    "\n",
    "\n",
    "def _get_google_provider_cfg(api_uri: Optional[str] = None) -> Union[str, dict]:\n",
    "    \"\"\"Get google's OpenID Connect configuration\n",
    "\n",
    "    This configuration includes the URIs of the authorization, token, revocation, userinfo, and public-keys endpoints.\n",
    "\n",
    "    Args:\n",
    "        api_uri: API endpoint uri to return from the configuration. If not set then the default value **None**\n",
    "            will be used to return all the API uri endpoints.\n",
    "\n",
    "    Returns:\n",
    "        The google's OpenID Connect endpoint(s)\n",
    "    \"\"\"\n",
    "    try:\n",
    "        google_provider_cfg = requests.get(GOOGLE_DISCOVERY_URL).json()\n",
    "    except Exception as e:\n",
    "        raise HTTPException(\n",
    "            status_code=status.HTTP_503_SERVICE_UNAVAILABLE,\n",
    "            detail=ERRORS[\"SERVICE_UNAVAILABLE\"],\n",
    "        )\n",
    "\n",
    "    return google_provider_cfg[api_uri] if api_uri is not None else google_provider_cfg  # type: ignore"
   ]
  },
  {
   "cell_type": "code",
   "execution_count": 11,
   "id": "f9d8be47",
   "metadata": {},
   "outputs": [
    {
     "data": {
      "text/plain": [
       "'https://accounts.google.com/o/oauth2/v2/auth'"
      ]
     },
     "metadata": {},
     "output_type": "display_data"
    }
   ],
   "source": [
    "full_cfg = _get_google_provider_cfg()\n",
    "assert \"token_endpoint\" in full_cfg.keys()\n",
    "assert \"authorization_endpoint\" in full_cfg.keys()\n",
    "\n",
    "api_uri = \"authorization_endpoint\"\n",
    "actual = _get_google_provider_cfg(api_uri)\n",
    "display(actual)\n",
    "assert full_cfg[api_uri] == actual"
   ]
  },
  {
   "cell_type": "code",
   "execution_count": 12,
   "id": "b18e2db0",
   "metadata": {},
   "outputs": [],
   "source": [
    "# | exporti\n",
    "\n",
    "\n",
    "def _get_authorization_url_and_nonce(\n",
    "    sso_provider: str, username: str, nonce: str\n",
    ") -> Tuple[str, str]:\n",
    "    \"\"\"Get authorization url and nonce\n",
    "\n",
    "    Args:\n",
    "        sso_provider: The name of the sso provider\n",
    "        nonce: cryptographically strong random string\n",
    "        username: username to append in the redirection url\n",
    "\n",
    "    Returns:\n",
    "        The authorization url and the nonce\n",
    "    \"\"\"\n",
    "\n",
    "    callback_url = _generate_callback_url()\n",
    "    nonce_with_username = f\"{nonce}_{username}\"\n",
    "\n",
    "    client = OAuth2Session(\n",
    "        os.environ[f\"{sso_provider.upper()}_CLIENT_ID\"],\n",
    "        scope=SSO_CONFIG[f\"{sso_provider}\"][\"scope\"],\n",
    "        redirect_uri=callback_url,\n",
    "        state=nonce_with_username,\n",
    "    )\n",
    "\n",
    "    authorization_endpoint = (\n",
    "        _get_google_provider_cfg(api_uri=\"authorization_endpoint\")\n",
    "        if sso_provider == \"google\"\n",
    "        else SSO_CONFIG[f\"{sso_provider}\"][\"authorization_endpoint\"]\n",
    "    )\n",
    "\n",
    "    authorization_url, nonce_with_username = client.authorization_url(\n",
    "        authorization_endpoint, prompt=\"select_account\"\n",
    "    )\n",
    "\n",
    "    return authorization_url, nonce_with_username"
   ]
  },
  {
   "cell_type": "code",
   "execution_count": 13,
   "id": "58ea7da0",
   "metadata": {},
   "outputs": [
    {
     "data": {
      "text/plain": [
       "'https://accounts.google.com/o/oauth2/v2/auth?response_type=code&client_id=842138153914-6kvm51cpin7iocg3nrsnl44s3d24u047.apps.googleusercontent.com&redirect_uri=http%3A%2F%2F127.0.0.1%3A6006%2Fsso%2Fcallback&scope=https%3A%2F%2Fwww.googleapis.com%2Fauth%2Fuserinfo.email+https%3A%2F%2Fwww.googleapis.com%2Fauth%2Fuserinfo.profile+openid&state=280d29d323ce018a67b1f8132509a0b3328c4798240e21cf1c296d136a5aeb44_random_username&prompt=select_account'"
      ]
     },
     "metadata": {},
     "output_type": "display_data"
    }
   ],
   "source": [
    "sso_provider = \"google\"\n",
    "username = \"random_username\"\n",
    "nonce = secrets.token_hex()\n",
    "authorization_url, nonce_with_username = _get_authorization_url_and_nonce(\n",
    "    sso_provider, username, nonce\n",
    ")\n",
    "\n",
    "parse_result = urlparse(authorization_url)\n",
    "dict_result = parse_qs(parse_result.query)\n",
    "\n",
    "display(authorization_url)\n",
    "\n",
    "api_uri = \"authorization_endpoint\"\n",
    "expected_authorization_base_url = _get_google_provider_cfg(api_uri)\n",
    "\n",
    "assert expected_authorization_base_url in authorization_url\n",
    "assert dict_result[\"state\"][0] == f\"{nonce}_{username}\"\n",
    "assert dict_result[\"redirect_uri\"][0] == _generate_callback_url()"
   ]
  },
  {
   "cell_type": "code",
   "execution_count": 14,
   "id": "9e5cb9ad",
   "metadata": {},
   "outputs": [
    {
     "data": {
      "text/plain": [
       "'https://github.com/login/oauth/authorize?response_type=code&client_id=a0f58d9e50375190dbf0&redirect_uri=http%3A%2F%2F127.0.0.1%3A6006%2Fsso%2Fcallback&scope=user%3Aemail&state=15a2935f1af85367ae5661f9ad675127fe710097479763d7270e1ce7be569ba9_random_username&prompt=select_account'"
      ]
     },
     "metadata": {},
     "output_type": "display_data"
    }
   ],
   "source": [
    "sso_provider = \"github\"\n",
    "username = \"random_username\"\n",
    "nonce = secrets.token_hex()\n",
    "authorization_url, nonce_with_username = _get_authorization_url_and_nonce(\n",
    "    sso_provider, username, nonce\n",
    ")\n",
    "\n",
    "parse_result = urlparse(authorization_url)\n",
    "dict_result = parse_qs(parse_result.query)\n",
    "\n",
    "display(authorization_url)\n",
    "\n",
    "assert SSO_CONFIG[f\"{sso_provider}\"][\"authorization_endpoint\"] in authorization_url\n",
    "assert dict_result[\"state\"][0] == f\"{nonce}_{username}\"\n",
    "assert dict_result[\"redirect_uri\"][0] == _generate_callback_url()"
   ]
  },
  {
   "cell_type": "code",
   "execution_count": 15,
   "id": "ab2bd752",
   "metadata": {},
   "outputs": [],
   "source": [
    "# | export\n",
    "\n",
    "\n",
    "def get_valid_sso_providers() -> List[str]:\n",
    "    \"\"\"Get valid SSO proiders\n",
    "\n",
    "    Returns:\n",
    "        The list of valid SSO providers\n",
    "    \"\"\"\n",
    "    return [e.value for e in SSOProvider]"
   ]
  },
  {
   "cell_type": "code",
   "execution_count": 16,
   "id": "0f786e9e",
   "metadata": {},
   "outputs": [
    {
     "data": {
      "text/plain": [
       "['google', 'github']"
      ]
     },
     "execution_count": 16,
     "metadata": {},
     "output_type": "execute_result"
    }
   ],
   "source": [
    "actual = get_valid_sso_providers()\n",
    "assert actual == [\"google\", \"github\"]\n",
    "actual"
   ]
  },
  {
   "cell_type": "code",
   "execution_count": 17,
   "id": "b799ca23",
   "metadata": {},
   "outputs": [],
   "source": [
    "# | exporti\n",
    "\n",
    "\n",
    "def get_sso_if_enabled_for_user(username: str, sso_provider: str) -> Optional[SSO]:\n",
    "    \"\"\"Check if the given sso provider is enabled for the user\n",
    "\n",
    "    Args:\n",
    "        username: username as string\n",
    "        sso_provider: The name of the SSO provider\n",
    "\n",
    "    Returns:\n",
    "        The SSO object if the given sso provider is enabled for the user, else None\n",
    "    \"\"\"\n",
    "    with get_session_with_context() as session:\n",
    "        try:\n",
    "            sso = session.exec(\n",
    "                select(SSO)\n",
    "                .where(SSO.username == username)\n",
    "                .where(SSO.sso_provider == sso_provider)\n",
    "            ).one()\n",
    "\n",
    "            if sso.disabled:\n",
    "                sso = None\n",
    "\n",
    "        except NoResultFound:\n",
    "            sso = None\n",
    "\n",
    "        return sso  # type: ignore"
   ]
  },
  {
   "cell_type": "code",
   "execution_count": 18,
   "id": "2ffdbef8",
   "metadata": {},
   "outputs": [
    {
     "data": {
      "text/plain": [
       "None"
      ]
     },
     "metadata": {},
     "output_type": "display_data"
    }
   ],
   "source": [
    "with get_session_with_context() as session:\n",
    "    user = session.exec(\n",
    "        select(User).where(User.username == create_user_for_testing())\n",
    "    ).one()\n",
    "    sso_provider = \"google\"\n",
    "    actual = get_sso_if_enabled_for_user(user.username, sso_provider)\n",
    "    display(actual)\n",
    "    assert not actual"
   ]
  },
  {
   "cell_type": "code",
   "execution_count": 19,
   "id": "481cb6ca",
   "metadata": {},
   "outputs": [],
   "source": [
    "# context manager to create a SSO enabled user for GOOGLE\n",
    "\n",
    "\n",
    "@contextmanager\n",
    "def create_sso_user(\n",
    "    sso_provider: str = \"google\", sso_email: str = \"random_email_id@mail.com\"\n",
    "):\n",
    "    with get_session_with_context() as session:\n",
    "        sso_enabled_user = create_user_for_testing()\n",
    "        user = session.exec(select(User).where(User.username == sso_enabled_user)).one()\n",
    "        try:\n",
    "            enable_sso_request = EnableSSORequest(\n",
    "                sso_provider=sso_provider, sso_email=sso_email\n",
    "            )\n",
    "            actual = enable_sso(\n",
    "                enable_sso_request=enable_sso_request, user=user, session=session\n",
    "            )\n",
    "            display(actual)\n",
    "            yield user, session\n",
    "        finally:\n",
    "            # deactivate User\n",
    "            with commit_or_rollback(session):\n",
    "                user.disabled = True\n",
    "                session.add(user)\n",
    "                session.commit()\n",
    "            assert user.disabled"
   ]
  },
  {
   "cell_type": "code",
   "execution_count": 20,
   "id": "86cc40d9",
   "metadata": {},
   "outputs": [
    {
     "data": {
      "text/plain": [
       "SSO()"
      ]
     },
     "metadata": {},
     "output_type": "display_data"
    }
   ],
   "source": [
    "with create_sso_user() as user_and_session:\n",
    "    user = user_and_session[0]\n",
    "    session = user_and_session[1]\n",
    "\n",
    "    sso_provider = \"google\"\n",
    "    actual = get_sso_if_enabled_for_user(user.username, sso_provider)\n",
    "    actual.sso_provider == \"google\"\n",
    "    actual.sso_email == \"random_email_id@mail.com\"\n",
    "    actual"
   ]
  },
  {
   "cell_type": "code",
   "execution_count": 21,
   "id": "2b08713f",
   "metadata": {},
   "outputs": [
    {
     "data": {
      "text/plain": [
       "SSO()"
      ]
     },
     "metadata": {},
     "output_type": "display_data"
    },
    {
     "data": {
      "text/plain": [
       "SSO()"
      ]
     },
     "metadata": {},
     "output_type": "display_data"
    },
    {
     "data": {
      "text/plain": [
       "None"
      ]
     },
     "metadata": {},
     "output_type": "display_data"
    }
   ],
   "source": [
    "with create_sso_user() as user_and_session:\n",
    "    user = user_and_session[0]\n",
    "    session = user_and_session[1]\n",
    "    sso_provider = \"google\"\n",
    "    # disable SSO\n",
    "    actual = disable_sso(\n",
    "        user_uuid_or_name=str(user.uuid),\n",
    "        sso_provider=sso_provider,\n",
    "        user=user,\n",
    "        session=session,\n",
    "    )\n",
    "    display(actual)\n",
    "    assert actual.sso_provider == sso_provider\n",
    "    assert actual.username == user.username\n",
    "    # Now access the SSO record from db\n",
    "    actual = get_sso_if_enabled_for_user(user.username, sso_provider)\n",
    "    display(actual)\n",
    "    assert not actual"
   ]
  },
  {
   "cell_type": "code",
   "execution_count": 22,
   "id": "5406903b",
   "metadata": {},
   "outputs": [],
   "source": [
    "# | export\n",
    "\n",
    "\n",
    "class SSOAuthURL(BaseModel):\n",
    "    \"\"\"A base class for creating authorization URL for the provider\n",
    "\n",
    "    Args:\n",
    "        authorization_url: The generated authorization URL for the provider\n",
    "    \"\"\"\n",
    "\n",
    "    authorization_url: str"
   ]
  },
  {
   "cell_type": "code",
   "execution_count": 23,
   "id": "5bc4f397",
   "metadata": {},
   "outputs": [],
   "source": [
    "# | export\n",
    "\n",
    "\n",
    "def initiate_sso_flow(\n",
    "    username: str, sso_provider: str, nonce: str, sso: SSO\n",
    ") -> SSOAuthURL:\n",
    "    \"\"\"Initiate SSO flow and return provider authorization URL\n",
    "\n",
    "    Args:\n",
    "        username: Username as a string\n",
    "        sso_provider: The name of the SSO provider\n",
    "        nonce: A cryptographically strong random string\n",
    "        sso: SSO object in session\n",
    "\n",
    "    Returns:\n",
    "        The authorization URL for the SSO provider\n",
    "    \"\"\"\n",
    "    # Step 1: Generate authorization_url with username and nonce added to the query params\n",
    "    authorization_url, nonce_with_username = _get_authorization_url_and_nonce(\n",
    "        sso_provider, username, nonce\n",
    "    )\n",
    "\n",
    "    # Step 2: store the nonce and created_at in the sso_protocol table\n",
    "    with get_session_with_context() as session:\n",
    "        sso_protocol = SSOProtocol(**dict(nonce=nonce, created_at=datetime.utcnow()))\n",
    "        sso_protocol.sso = session.merge(sso)\n",
    "        session.add(sso_protocol)\n",
    "        session.commit()\n",
    "\n",
    "    # Step 3: return the redirect URL to the user\n",
    "    return SSOAuthURL(authorization_url=authorization_url)"
   ]
  },
  {
   "cell_type": "code",
   "execution_count": 24,
   "id": "baed66d7",
   "metadata": {},
   "outputs": [
    {
     "data": {
      "text/plain": [
       "SSO()"
      ]
     },
     "metadata": {},
     "output_type": "display_data"
    },
    {
     "data": {
      "text/plain": [
       "SSOAuthURL(authorization_url='https://accounts.google.com/o/oauth2/v2/auth?response_type=code&client_id=842138153914-6kvm51cpin7iocg3nrsnl44s3d24u047.apps.googleusercontent.com&redirect_uri=http%3A%2F%2F127.0.0.1%3A6006%2Fsso%2Fcallback&scope=https%3A%2F%2Fwww.googleapis.com%2Fauth%2Fuserinfo.email+https%3A%2F%2Fwww.googleapis.com%2Fauth%2Fuserinfo.profile+openid&state=3fae1ae6a84c20d23d93f11911776b529057f3ba294d0426beb25426ade7101e_yxtwcagsma&prompt=select_account')"
      ]
     },
     "metadata": {},
     "output_type": "display_data"
    },
    {
     "data": {
      "text/plain": [
       "SSOAuthURL(authorization_url='https://accounts.google.com/o/oauth2/v2/auth?response_type=code&client_id=842138153914-6kvm51cpin7iocg3nrsnl44s3d24u047.apps.googleusercontent.com&redirect_uri=http%3A%2F%2F127.0.0.1%3A6006%2Fsso%2Fcallback&scope=https%3A%2F%2Fwww.googleapis.com%2Fauth%2Fuserinfo.email+https%3A%2F%2Fwww.googleapis.com%2Fauth%2Fuserinfo.profile+openid&state=7d56ef048ca59108c26783abee835a56fb3ae2f67c1c0c74ce2f17292bb2f677_yxtwcagsma&prompt=select_account')"
      ]
     },
     "metadata": {},
     "output_type": "display_data"
    },
    {
     "data": {
      "text/plain": [
       "SSOAuthURL(authorization_url='https://accounts.google.com/o/oauth2/v2/auth?response_type=code&client_id=842138153914-6kvm51cpin7iocg3nrsnl44s3d24u047.apps.googleusercontent.com&redirect_uri=http%3A%2F%2F127.0.0.1%3A6006%2Fsso%2Fcallback&scope=https%3A%2F%2Fwww.googleapis.com%2Fauth%2Fuserinfo.email+https%3A%2F%2Fwww.googleapis.com%2Fauth%2Fuserinfo.profile+openid&state=26dec5d8c0e6c20deac6602220502f73619d8f57d5f8f08477886a55736a5f10_yxtwcagsma&prompt=select_account')"
      ]
     },
     "metadata": {},
     "output_type": "display_data"
    },
    {
     "data": {
      "text/plain": [
       "SSOProtocol(created_at=datetime.datetime(2023, 3, 9, 5, 9, 19), nonce='26dec5d8c0e6c20deac6602220502f73619d8f57d5f8f08477886a55736a5f10', error=None, is_sso_successful=False, id=15, sso_id=20)"
      ]
     },
     "metadata": {},
     "output_type": "display_data"
    }
   ],
   "source": [
    "with create_sso_user() as user_and_session:\n",
    "    user = user_and_session[0]\n",
    "    session = user_and_session[1]\n",
    "    sso_provider = \"google\"\n",
    "\n",
    "    sso = get_sso_if_enabled_for_user(user.username, sso_provider)\n",
    "    nonce = secrets.token_hex()\n",
    "    actual = initiate_sso_flow(user.username, sso_provider, sso=sso, nonce=nonce)\n",
    "    display(actual)\n",
    "    assert f\"{nonce}_{user.username}\" in actual.authorization_url\n",
    "\n",
    "    sso = get_sso_if_enabled_for_user(user.username, sso_provider)\n",
    "    nonce = secrets.token_hex()\n",
    "    actual = initiate_sso_flow(user.username, sso_provider, sso=sso, nonce=nonce)\n",
    "    display(actual)\n",
    "    assert f\"{nonce}_{user.username}\" in actual.authorization_url\n",
    "\n",
    "    sso = get_sso_if_enabled_for_user(user.username, sso_provider)\n",
    "    nonce = secrets.token_hex()\n",
    "    actual = initiate_sso_flow(user.username, sso_provider, sso=sso, nonce=nonce)\n",
    "    display(actual)\n",
    "    assert f\"{nonce}_{user.username}\" in actual.authorization_url\n",
    "\n",
    "    # check if the record exists in DB\n",
    "    sso = get_sso_if_enabled_for_user(user.username, sso_provider)\n",
    "    with get_session_with_context() as session:\n",
    "        sso_protocol = session.exec(\n",
    "            select(SSOProtocol)\n",
    "            .where(SSOProtocol.sso_id == sso.id)\n",
    "            .where(SSOProtocol.nonce == nonce)\n",
    "        ).one()\n",
    "    display(sso_protocol)"
   ]
  },
  {
   "cell_type": "code",
   "execution_count": 25,
   "id": "3c1eb71e",
   "metadata": {},
   "outputs": [
    {
     "data": {
      "text/plain": [
       "SSO()"
      ]
     },
     "metadata": {},
     "output_type": "display_data"
    },
    {
     "data": {
      "text/plain": [
       "SSOAuthURL(authorization_url='https://github.com/login/oauth/authorize?response_type=code&client_id=a0f58d9e50375190dbf0&redirect_uri=http%3A%2F%2F127.0.0.1%3A6006%2Fsso%2Fcallback&scope=user%3Aemail&state=012454163bd6b8beef31351b24a1e0060ddf2a3fe833a277f7224222ceefb8b4_kunnvtcaub&prompt=select_account')"
      ]
     },
     "metadata": {},
     "output_type": "display_data"
    }
   ],
   "source": [
    "sso_provider = \"github\"\n",
    "sso_email = \"random.mail@gmail.com\"\n",
    "with create_sso_user(\n",
    "    sso_provider=sso_provider, sso_email=sso_email\n",
    ") as user_and_session:\n",
    "    user = user_and_session[0]\n",
    "    session = user_and_session[1]\n",
    "    sso_provider = sso_provider\n",
    "\n",
    "    sso = get_sso_if_enabled_for_user(user.username, sso_provider)\n",
    "    nonce = secrets.token_hex()\n",
    "    actual = initiate_sso_flow(user.username, sso_provider, sso=sso, nonce=nonce)\n",
    "    display(actual)\n",
    "    assert f\"{nonce}_{user.username}\" in actual.authorization_url"
   ]
  },
  {
   "cell_type": "code",
   "execution_count": 26,
   "id": "510f939c",
   "metadata": {},
   "outputs": [
    {
     "data": {
      "text/plain": [
       "SSO()"
      ]
     },
     "metadata": {},
     "output_type": "display_data"
    },
    {
     "data": {
      "text/plain": [
       "SSOAuthURL(authorization_url='https://github.com/login/oauth/authorize?response_type=code&client_id=a0f58d9e50375190dbf0&redirect_uri=http%3A%2F%2F127.0.0.1%3A6006%2Fsso%2Fcallback&scope=user%3Aemail&state=9ab6f1720b9fda3f61a648ca2e4e20df205f82c54238bda9668a55e07121862b_apafgdjjxr&prompt=select_account')"
      ]
     },
     "metadata": {},
     "output_type": "display_data"
    },
    {
     "data": {
      "text/plain": [
       "SSO(sso_provider=<SSOProvider.github: 'github'>, id=22, disabled=False, sso_email='random.mail@gmail.com', username='apafgdjjxr')"
      ]
     },
     "metadata": {},
     "output_type": "display_data"
    },
    {
     "data": {
      "text/plain": [
       "SSOProtocol(created_at=datetime.datetime(2023, 3, 9, 5, 9, 20), nonce='9ab6f1720b9fda3f61a648ca2e4e20df205f82c54238bda9668a55e07121862b', error=None, is_sso_successful=False, id=17, sso_id=22)"
      ]
     },
     "metadata": {},
     "output_type": "display_data"
    }
   ],
   "source": [
    "sso_provider = \"github\"\n",
    "sso_email = \"random.mail@gmail.com\"\n",
    "with create_sso_user(\n",
    "    sso_provider=sso_provider, sso_email=sso_email\n",
    ") as user_and_session:\n",
    "    user = user_and_session[0]\n",
    "    session = user_and_session[1]\n",
    "\n",
    "    sso = get_sso_if_enabled_for_user(user.username, sso_provider)\n",
    "    nonce = secrets.token_hex()\n",
    "    actual = initiate_sso_flow(user.username, sso_provider, sso=sso, nonce=nonce)\n",
    "    display(actual)\n",
    "    assert f\"{nonce}_{user.username}\" in actual.authorization_url\n",
    "    assert (\n",
    "        SSO_CONFIG[f\"{sso_provider}\"][\"authorization_endpoint\"]\n",
    "        in actual.authorization_url\n",
    "    )\n",
    "\n",
    "    # check if the record exists in DB\n",
    "    sso = get_sso_if_enabled_for_user(user.username, sso_provider)\n",
    "    with get_session_with_context() as session:\n",
    "        sso_protocol = session.exec(\n",
    "            select(SSOProtocol)\n",
    "            .where(SSOProtocol.sso_id == sso.id)\n",
    "            .where(SSOProtocol.nonce == nonce)\n",
    "        ).one()\n",
    "    display(sso)\n",
    "    display(sso_protocol)"
   ]
  },
  {
   "cell_type": "code",
   "execution_count": 27,
   "id": "7dedee8c",
   "metadata": {},
   "outputs": [],
   "source": [
    "# | exporti\n",
    "\n",
    "\n",
    "def _get_token_and_user_url(sso_provider: str) -> Tuple[str, str]:\n",
    "    \"\"\"Get token and the user info URL endpoints for the given provider\n",
    "\n",
    "    Args:\n",
    "        sso_provider: Name of the SSO provider\n",
    "\n",
    "    Returns:\n",
    "        The token and the user info URL endpoints for the given provider\n",
    "    \"\"\"\n",
    "    if sso_provider == \"google\":\n",
    "        token_endpoint = _get_google_provider_cfg(api_uri=\"token_endpoint\")\n",
    "        userinfo_endpoint = _get_google_provider_cfg(api_uri=\"userinfo_endpoint\")\n",
    "    else:\n",
    "        token_endpoint = SSO_CONFIG[f\"{sso_provider}\"][\"token_endpoint\"]\n",
    "        userinfo_endpoint = SSO_CONFIG[f\"{sso_provider}\"][\"userinfo_endpoint\"]\n",
    "\n",
    "    return token_endpoint, userinfo_endpoint  # type: ignore"
   ]
  },
  {
   "cell_type": "code",
   "execution_count": 28,
   "id": "cc8cacb4",
   "metadata": {},
   "outputs": [
    {
     "data": {
      "text/plain": [
       "'https://oauth2.googleapis.com/token'"
      ]
     },
     "metadata": {},
     "output_type": "display_data"
    },
    {
     "data": {
      "text/plain": [
       "'https://openidconnect.googleapis.com/v1/userinfo'"
      ]
     },
     "metadata": {},
     "output_type": "display_data"
    }
   ],
   "source": [
    "sso_provider = \"google\"\n",
    "token_endpoint, userinfo_endpoint = _get_token_and_user_url(sso_provider)\n",
    "display(token_endpoint)\n",
    "display(userinfo_endpoint)\n",
    "\n",
    "assert \"/token\" in token_endpoint\n",
    "assert \"/userinfo\" in userinfo_endpoint"
   ]
  },
  {
   "cell_type": "code",
   "execution_count": 29,
   "id": "40ab59ec",
   "metadata": {},
   "outputs": [
    {
     "data": {
      "text/plain": [
       "'https://github.com/login/oauth/access_token'"
      ]
     },
     "metadata": {},
     "output_type": "display_data"
    },
    {
     "data": {
      "text/plain": [
       "'https://api.github.com/user/emails'"
      ]
     },
     "metadata": {},
     "output_type": "display_data"
    }
   ],
   "source": [
    "sso_provider = \"github\"\n",
    "token_endpoint, userinfo_endpoint = _get_token_and_user_url(sso_provider)\n",
    "display(token_endpoint)\n",
    "display(userinfo_endpoint)\n",
    "\n",
    "assert SSO_CONFIG[f\"{sso_provider}\"][\"token_endpoint\"] == token_endpoint\n",
    "assert SSO_CONFIG[f\"{sso_provider}\"][\"userinfo_endpoint\"] == userinfo_endpoint"
   ]
  },
  {
   "cell_type": "code",
   "execution_count": 30,
   "id": "e9b0141b",
   "metadata": {},
   "outputs": [],
   "source": [
    "# | exporti\n",
    "\n",
    "\n",
    "def get_user_info_from_provider(\n",
    "    url: str, nonce_with_username: str, sso_provider: str\n",
    ") -> Union[Dict[str, str], List[Dict[str, str]]]:\n",
    "    \"\"\"Get user info from the provider\n",
    "\n",
    "    This function exchanges the authorization code in the response for an access token\n",
    "    to access user details from the provider.\n",
    "\n",
    "    Args:\n",
    "        url: callback url from google\n",
    "        nonce_with_username: The nonce created by the client along with the username\n",
    "        sso_provider: Name of the SSO provider\n",
    "\n",
    "    Returns:\n",
    "        The user's information registered with the SSO provider\n",
    "    \"\"\"\n",
    "    redirect_uri = _generate_callback_url()\n",
    "    client = OAuth2Session(\n",
    "        os.environ[f\"{sso_provider.upper()}_CLIENT_ID\"],\n",
    "        state=nonce_with_username,\n",
    "        redirect_uri=redirect_uri,\n",
    "    )\n",
    "\n",
    "    token_endpoint, userinfo_endpoint = _get_token_and_user_url(sso_provider)\n",
    "    try:\n",
    "        token = client.fetch_token(\n",
    "            token_endpoint,\n",
    "            client_secret=os.environ[f\"{sso_provider.upper()}_CLIENT_SECRET\"],\n",
    "            authorization_response=url,\n",
    "        )\n",
    "    except Exception as e:\n",
    "        raise HTTPException(\n",
    "            status_code=status.HTTP_400_BAD_REQUEST,\n",
    "            detail=ERRORS[\"SSO_CSRF_WARNING\"],\n",
    "        )\n",
    "\n",
    "    response = client.get(userinfo_endpoint).json()\n",
    "    return response"
   ]
  },
  {
   "cell_type": "code",
   "execution_count": 31,
   "id": "1dba33b7",
   "metadata": {},
   "outputs": [
    {
     "data": {
      "text/plain": [
       "'Request check failed: State not equal in request and response. For your protection, access to this resource is secured against CSRF. Please re-generate the authentication URL and initiate the SSO login process again.'"
      ]
     },
     "execution_count": 31,
     "metadata": {},
     "output_type": "execute_result"
    }
   ],
   "source": [
    "url = \"/sso/google/callback?state=a1b2c3_random_username&code=123456&scope=email+https%3A%2F%2Fwww.googleapis.com%2Fauth%2Fuserinfo.email+openid&authuser=0&prompt=none\"\n",
    "sso_provider = \"google\"\n",
    "nonce_with_username = \"a1b2c3_random_username\"\n",
    "with pytest.raises(HTTPException) as e:\n",
    "    get_user_info_from_provider(url, nonce_with_username, sso_provider)\n",
    "\n",
    "err = str(e.value.detail)\n",
    "assert \"Request check failed\" in err, err\n",
    "err"
   ]
  },
  {
   "cell_type": "code",
   "execution_count": 32,
   "id": "abd2bbf8",
   "metadata": {},
   "outputs": [],
   "source": [
    "# | export\n",
    "\n",
    "\n",
    "def get_sso_protocol_and_email(\n",
    "    username: str, nonce: str, sso_provider: str\n",
    ") -> Tuple[SSOProtocol, str]:\n",
    "    \"\"\"Get SSO protocol and SSO email details\n",
    "\n",
    "    Args:\n",
    "        username: username to append in the redirection url\n",
    "        nonce: cryptographically strong random string\n",
    "        sso_provider: Name of the SSO provider\n",
    "\n",
    "    Returns:\n",
    "        The record from sso protocol table and the email address used to enable the sso provider\n",
    "\n",
    "    Raises:\n",
    "        HTTPException: If the username is incorrect\n",
    "        HTTPException: If the SSO is not yet enabled for the provider\n",
    "        HTTPException: If the received in the callback didn't match\n",
    "        HTTPException: If the session is timed out\n",
    "        HTTPException: If the email address used for SSO authentication didn't match with the one used while enabling the SSO\n",
    "    \"\"\"\n",
    "    # Step 1: Check if username exists\n",
    "    with get_session_with_context() as session:\n",
    "        try:\n",
    "            user = session.exec(select(User).where(User.username == username)).one()\n",
    "        except NoResultFound:\n",
    "            raise HTTPException(\n",
    "                status_code=status.HTTP_400_BAD_REQUEST,\n",
    "                detail=ERRORS[\"INCORRECT_USERNAME\"],\n",
    "            )\n",
    "    # Step 2: Check if the sso provider is enabled for the user\n",
    "    sso = get_sso_if_enabled_for_user(username, sso_provider)\n",
    "    if sso is None:\n",
    "        raise HTTPException(\n",
    "            status_code=status.HTTP_400_BAD_REQUEST,\n",
    "            detail=ERRORS[\"SSO_NOT_ENABLED_FOR_SERVICE\"],\n",
    "        )\n",
    "\n",
    "    # Step 3: Check if sso_protocol table has a record\n",
    "    with get_session_with_context() as session:\n",
    "        try:\n",
    "            sso_protocol = session.exec(\n",
    "                select(SSOProtocol)\n",
    "                .where(SSOProtocol.sso_id == sso.id)\n",
    "                .where(SSOProtocol.nonce == nonce)\n",
    "            ).one()\n",
    "        except NoResultFound:\n",
    "            raise HTTPException(\n",
    "                status_code=status.HTTP_401_UNAUTHORIZED,\n",
    "                detail=ERRORS[\"SSO_CSRF_WARNING\"],\n",
    "            )\n",
    "\n",
    "    # Step 4: Check if the sso_protocol already has errored out\n",
    "    if sso_protocol.error is not None:\n",
    "        raise HTTPException(\n",
    "            status_code=status.HTTP_401_UNAUTHORIZED,\n",
    "            detail=sso_protocol.error,\n",
    "        )\n",
    "\n",
    "    return sso_protocol, sso.sso_email"
   ]
  },
  {
   "cell_type": "code",
   "execution_count": 33,
   "id": "2387f22f",
   "metadata": {},
   "outputs": [
    {
     "data": {
      "text/plain": [
       "'Incorrect username. Please try again.'"
      ]
     },
     "execution_count": 33,
     "metadata": {},
     "output_type": "execute_result"
    }
   ],
   "source": [
    "sso_provider = \"google\"\n",
    "invalid_nonce = \"invalid_nonce\"\n",
    "invalid_username = \"invalid_username\"\n",
    "with pytest.raises(HTTPException) as e:\n",
    "    get_sso_protocol_and_email(\n",
    "        username=invalid_username, nonce=invalid_nonce, sso_provider=sso_provider\n",
    "    )\n",
    "assert \"Incorrect username\" in e.value.detail\n",
    "e.value.detail"
   ]
  },
  {
   "cell_type": "code",
   "execution_count": 34,
   "id": "525b858d",
   "metadata": {},
   "outputs": [
    {
     "data": {
      "text/plain": [
       "SSO()"
      ]
     },
     "metadata": {},
     "output_type": "display_data"
    },
    {
     "data": {
      "text/plain": [
       "'SSO is not enabled for the provider.'"
      ]
     },
     "execution_count": 34,
     "metadata": {},
     "output_type": "execute_result"
    }
   ],
   "source": [
    "with create_sso_user() as user_and_session:\n",
    "    user = user_and_session[0]\n",
    "    session = user_and_session[1]\n",
    "    sso_provider = \"github\"\n",
    "    invalid_nonce = \"invalid_nonce\"\n",
    "    with pytest.raises(HTTPException) as e:\n",
    "        get_sso_protocol_and_email(\n",
    "            username=user.username, nonce=invalid_nonce, sso_provider=sso_provider\n",
    "        )\n",
    "assert \"SSO is not enabled for the provider.\" in e.value.detail\n",
    "e.value.detail"
   ]
  },
  {
   "cell_type": "code",
   "execution_count": 35,
   "id": "e9e22727",
   "metadata": {},
   "outputs": [
    {
     "data": {
      "text/plain": [
       "SSO()"
      ]
     },
     "metadata": {},
     "output_type": "display_data"
    },
    {
     "data": {
      "text/plain": [
       "'Request check failed: State not equal in request and response. For your protection, access to this resource is secured against CSRF. Please re-generate the authentication URL and initiate the SSO login process again.'"
      ]
     },
     "execution_count": 35,
     "metadata": {},
     "output_type": "execute_result"
    }
   ],
   "source": [
    "with create_sso_user() as user_and_session:\n",
    "    user = user_and_session[0]\n",
    "    session = user_and_session[1]\n",
    "    sso_provider = \"google\"\n",
    "    invalid_nonce = \"invalid_nonce\"\n",
    "    with pytest.raises(HTTPException) as e:\n",
    "        get_sso_protocol_and_email(\n",
    "            username=user.username, nonce=invalid_nonce, sso_provider=sso_provider\n",
    "        )\n",
    "assert \"Request check failed:\" in e.value.detail\n",
    "e.value.detail"
   ]
  },
  {
   "cell_type": "code",
   "execution_count": 46,
   "id": "2a780dcb",
   "metadata": {},
   "outputs": [],
   "source": [
    "# | export\n",
    "\n",
    "\n",
    "def update_user_info_in_db(\n",
    "    sso_signup_trial_username: str,\n",
    "    user_info_from_provider: Union[Dict[str, str], List[Dict[str, str]]],\n",
    ") -> None:\n",
    "    with get_session_with_context() as session:\n",
    "        try:\n",
    "            user = session.exec(\n",
    "                select(User).where(User.email == user_info_from_provider[\"email\"])\n",
    "            ).one()\n",
    "        except NoResultFound:\n",
    "            user = session.exec(\n",
    "                select(User).where(User.username == sso_signup_trial_username)\n",
    "            ).one()\n",
    "\n",
    "            random_number = secrets.SystemRandom().randint(0, 1000)\n",
    "            updated_username = f'{user_info_from_provider[\"name\"].replace(\" \", \"_\")}_{random_number}'\n",
    "            \n",
    "            user.username = updated_username\n",
    "            user.first_name = user_info_from_provider[\"given_name\"]\n",
    "            user.last_name = user_info_from_provider[\"family_name\"]\n",
    "            user.email = user_info_from_provider[\"email\"]\n",
    "\n",
    "        user.sso_signup_trial_username = sso_signup_trial_username\n",
    "        \n",
    "        sso = session.exec(select(SSO).where(SSO.username == sso_signup_trial_username)).one()\n",
    "        sso.username = updated_username\n",
    "        \n",
    "        with commit_or_rollback(session):\n",
    "            session.add(sso)\n",
    "            session.add(user)"
   ]
  },
  {
   "cell_type": "code",
   "execution_count": 47,
   "id": "61ae6328",
   "metadata": {},
   "outputs": [
    {
     "data": {
      "text/plain": [
       "SSO()"
      ]
     },
     "metadata": {},
     "output_type": "display_data"
    },
    {
     "ename": "IntegrityError",
     "evalue": "(raised as a result of Query-invoked autoflush; consider using a session.no_autoflush block if this flush is occurring prematurely)\n(MySQLdb.IntegrityError) (1451, 'Cannot delete or update a parent row: a foreign key constraint fails (`airt_service`.`sso`, CONSTRAINT `sso_ibfk_1` FOREIGN KEY (`username`) REFERENCES `user` (`username`))')\n[SQL: UPDATE user SET username=%s, email=%s, first_name=%s, last_name=%s, sso_signup_trial_username=%s WHERE user.id = %s]\n[parameters: ('John_Doe_qyibuvlpja_945', 'john.doe.qyibuvlpja@gmail.com', 'John', 'Doe', 'qyibuvlpja', 75)]\n(Background on this error at: https://sqlalche.me/e/14/gkpj)",
     "output_type": "error",
     "traceback": [
      "\u001b[0;31m---------------------------------------------------------------------------\u001b[0m",
      "\u001b[0;31mIntegrityError\u001b[0m                            Traceback (most recent call last)",
      "File \u001b[0;32m~/.local/lib/python3.9/site-packages/sqlalchemy/engine/base.py:1900\u001b[0m, in \u001b[0;36mConnection._execute_context\u001b[0;34m(self, dialect, constructor, statement, parameters, execution_options, *args, **kw)\u001b[0m\n\u001b[1;32m   1899\u001b[0m     \u001b[38;5;28;01mif\u001b[39;00m \u001b[38;5;129;01mnot\u001b[39;00m evt_handled:\n\u001b[0;32m-> 1900\u001b[0m         \u001b[38;5;28;43mself\u001b[39;49m\u001b[38;5;241;43m.\u001b[39;49m\u001b[43mdialect\u001b[49m\u001b[38;5;241;43m.\u001b[39;49m\u001b[43mdo_execute\u001b[49m\u001b[43m(\u001b[49m\n\u001b[1;32m   1901\u001b[0m \u001b[43m            \u001b[49m\u001b[43mcursor\u001b[49m\u001b[43m,\u001b[49m\u001b[43m \u001b[49m\u001b[43mstatement\u001b[49m\u001b[43m,\u001b[49m\u001b[43m \u001b[49m\u001b[43mparameters\u001b[49m\u001b[43m,\u001b[49m\u001b[43m \u001b[49m\u001b[43mcontext\u001b[49m\n\u001b[1;32m   1902\u001b[0m \u001b[43m        \u001b[49m\u001b[43m)\u001b[49m\n\u001b[1;32m   1904\u001b[0m \u001b[38;5;28;01mif\u001b[39;00m \u001b[38;5;28mself\u001b[39m\u001b[38;5;241m.\u001b[39m_has_events \u001b[38;5;129;01mor\u001b[39;00m \u001b[38;5;28mself\u001b[39m\u001b[38;5;241m.\u001b[39mengine\u001b[38;5;241m.\u001b[39m_has_events:\n",
      "File \u001b[0;32m~/.local/lib/python3.9/site-packages/sqlalchemy/engine/default.py:736\u001b[0m, in \u001b[0;36mDefaultDialect.do_execute\u001b[0;34m(self, cursor, statement, parameters, context)\u001b[0m\n\u001b[1;32m    735\u001b[0m \u001b[38;5;28;01mdef\u001b[39;00m \u001b[38;5;21mdo_execute\u001b[39m(\u001b[38;5;28mself\u001b[39m, cursor, statement, parameters, context\u001b[38;5;241m=\u001b[39m\u001b[38;5;28;01mNone\u001b[39;00m):\n\u001b[0;32m--> 736\u001b[0m     \u001b[43mcursor\u001b[49m\u001b[38;5;241;43m.\u001b[39;49m\u001b[43mexecute\u001b[49m\u001b[43m(\u001b[49m\u001b[43mstatement\u001b[49m\u001b[43m,\u001b[49m\u001b[43m \u001b[49m\u001b[43mparameters\u001b[49m\u001b[43m)\u001b[49m\n",
      "File \u001b[0;32m~/.local/lib/python3.9/site-packages/MySQLdb/cursors.py:206\u001b[0m, in \u001b[0;36mBaseCursor.execute\u001b[0;34m(self, query, args)\u001b[0m\n\u001b[1;32m    205\u001b[0m \u001b[38;5;28;01massert\u001b[39;00m \u001b[38;5;28misinstance\u001b[39m(query, (\u001b[38;5;28mbytes\u001b[39m, \u001b[38;5;28mbytearray\u001b[39m))\n\u001b[0;32m--> 206\u001b[0m res \u001b[38;5;241m=\u001b[39m \u001b[38;5;28;43mself\u001b[39;49m\u001b[38;5;241;43m.\u001b[39;49m\u001b[43m_query\u001b[49m\u001b[43m(\u001b[49m\u001b[43mquery\u001b[49m\u001b[43m)\u001b[49m\n\u001b[1;32m    207\u001b[0m \u001b[38;5;28;01mreturn\u001b[39;00m res\n",
      "File \u001b[0;32m~/.local/lib/python3.9/site-packages/MySQLdb/cursors.py:319\u001b[0m, in \u001b[0;36mBaseCursor._query\u001b[0;34m(self, q)\u001b[0m\n\u001b[1;32m    318\u001b[0m \u001b[38;5;28mself\u001b[39m\u001b[38;5;241m.\u001b[39m_result \u001b[38;5;241m=\u001b[39m \u001b[38;5;28;01mNone\u001b[39;00m\n\u001b[0;32m--> 319\u001b[0m \u001b[43mdb\u001b[49m\u001b[38;5;241;43m.\u001b[39;49m\u001b[43mquery\u001b[49m\u001b[43m(\u001b[49m\u001b[43mq\u001b[49m\u001b[43m)\u001b[49m\n\u001b[1;32m    320\u001b[0m \u001b[38;5;28mself\u001b[39m\u001b[38;5;241m.\u001b[39m_do_get_result(db)\n",
      "File \u001b[0;32m~/.local/lib/python3.9/site-packages/MySQLdb/connections.py:254\u001b[0m, in \u001b[0;36mConnection.query\u001b[0;34m(self, query)\u001b[0m\n\u001b[1;32m    253\u001b[0m     query \u001b[38;5;241m=\u001b[39m \u001b[38;5;28mbytes\u001b[39m(query)\n\u001b[0;32m--> 254\u001b[0m \u001b[43m_mysql\u001b[49m\u001b[38;5;241;43m.\u001b[39;49m\u001b[43mconnection\u001b[49m\u001b[38;5;241;43m.\u001b[39;49m\u001b[43mquery\u001b[49m\u001b[43m(\u001b[49m\u001b[38;5;28;43mself\u001b[39;49m\u001b[43m,\u001b[49m\u001b[43m \u001b[49m\u001b[43mquery\u001b[49m\u001b[43m)\u001b[49m\n",
      "\u001b[0;31mIntegrityError\u001b[0m: (1451, 'Cannot delete or update a parent row: a foreign key constraint fails (`airt_service`.`sso`, CONSTRAINT `sso_ibfk_1` FOREIGN KEY (`username`) REFERENCES `user` (`username`))')",
      "\nThe above exception was the direct cause of the following exception:\n",
      "\u001b[0;31mIntegrityError\u001b[0m                            Traceback (most recent call last)",
      "Cell \u001b[0;32mIn[47], line 16\u001b[0m\n\u001b[1;32m      3\u001b[0m session \u001b[38;5;241m=\u001b[39m user_and_session[\u001b[38;5;241m1\u001b[39m]\n\u001b[1;32m      5\u001b[0m user_info_from_provider \u001b[38;5;241m=\u001b[39m {\n\u001b[1;32m      6\u001b[0m     \u001b[38;5;124m\"\u001b[39m\u001b[38;5;124msub\u001b[39m\u001b[38;5;124m\"\u001b[39m: \u001b[38;5;124m\"\u001b[39m\u001b[38;5;124m10111231231233982347423\u001b[39m\u001b[38;5;124m\"\u001b[39m,\n\u001b[1;32m      7\u001b[0m     \u001b[38;5;124m\"\u001b[39m\u001b[38;5;124mname\u001b[39m\u001b[38;5;124m\"\u001b[39m: \u001b[38;5;124mf\u001b[39m\u001b[38;5;124m\"\u001b[39m\u001b[38;5;124mJohn Doe \u001b[39m\u001b[38;5;132;01m{\u001b[39;00msso_enabled_user\u001b[38;5;241m.\u001b[39musername\u001b[38;5;132;01m}\u001b[39;00m\u001b[38;5;124m\"\u001b[39m,\n\u001b[0;32m   (...)\u001b[0m\n\u001b[1;32m     13\u001b[0m     \u001b[38;5;124m\"\u001b[39m\u001b[38;5;124mlocale\u001b[39m\u001b[38;5;124m\"\u001b[39m: \u001b[38;5;124m\"\u001b[39m\u001b[38;5;124men\u001b[39m\u001b[38;5;124m\"\u001b[39m,\n\u001b[1;32m     14\u001b[0m }\n\u001b[0;32m---> 16\u001b[0m \u001b[43mupdate_user_info_in_db\u001b[49m\u001b[43m(\u001b[49m\u001b[43msso_enabled_user\u001b[49m\u001b[38;5;241;43m.\u001b[39;49m\u001b[43musername\u001b[49m\u001b[43m,\u001b[49m\u001b[43m \u001b[49m\u001b[43muser_info_from_provider\u001b[49m\u001b[43m)\u001b[49m\n\u001b[1;32m     18\u001b[0m user \u001b[38;5;241m=\u001b[39m session\u001b[38;5;241m.\u001b[39mexec(select(User)\u001b[38;5;241m.\u001b[39mwhere(User\u001b[38;5;241m.\u001b[39msso_signup_trial_username \u001b[38;5;241m==\u001b[39m sso_enabled_user\u001b[38;5;241m.\u001b[39musername))\u001b[38;5;241m.\u001b[39mone()\n\u001b[1;32m     19\u001b[0m \u001b[38;5;28mprint\u001b[39m(user)\n",
      "Cell \u001b[0;32mIn[46], line 28\u001b[0m, in \u001b[0;36mupdate_user_info_in_db\u001b[0;34m(sso_signup_trial_username, user_info_from_provider)\u001b[0m\n\u001b[1;32m     24\u001b[0m     user\u001b[38;5;241m.\u001b[39memail \u001b[38;5;241m=\u001b[39m user_info_from_provider[\u001b[38;5;124m\"\u001b[39m\u001b[38;5;124memail\u001b[39m\u001b[38;5;124m\"\u001b[39m]\n\u001b[1;32m     26\u001b[0m user\u001b[38;5;241m.\u001b[39msso_signup_trial_username \u001b[38;5;241m=\u001b[39m sso_signup_trial_username\n\u001b[0;32m---> 28\u001b[0m sso \u001b[38;5;241m=\u001b[39m \u001b[43msession\u001b[49m\u001b[38;5;241;43m.\u001b[39;49m\u001b[43mexec\u001b[49m\u001b[43m(\u001b[49m\u001b[43mselect\u001b[49m\u001b[43m(\u001b[49m\u001b[43mSSO\u001b[49m\u001b[43m)\u001b[49m\u001b[38;5;241;43m.\u001b[39;49m\u001b[43mwhere\u001b[49m\u001b[43m(\u001b[49m\u001b[43mSSO\u001b[49m\u001b[38;5;241;43m.\u001b[39;49m\u001b[43musername\u001b[49m\u001b[43m \u001b[49m\u001b[38;5;241;43m==\u001b[39;49m\u001b[43m \u001b[49m\u001b[43msso_signup_trial_username\u001b[49m\u001b[43m)\u001b[49m\u001b[43m)\u001b[49m\u001b[38;5;241m.\u001b[39mone()\n\u001b[1;32m     29\u001b[0m sso\u001b[38;5;241m.\u001b[39musername \u001b[38;5;241m=\u001b[39m updated_username\n\u001b[1;32m     31\u001b[0m \u001b[38;5;28;01mwith\u001b[39;00m commit_or_rollback(session):\n",
      "File \u001b[0;32m~/.local/lib/python3.9/site-packages/sqlmodel/orm/session.py:60\u001b[0m, in \u001b[0;36mSession.exec\u001b[0;34m(self, statement, params, execution_options, bind_arguments, _parent_execute_state, _add_event, **kw)\u001b[0m\n\u001b[1;32m     45\u001b[0m \u001b[38;5;28;01mdef\u001b[39;00m \u001b[38;5;21mexec\u001b[39m(\n\u001b[1;32m     46\u001b[0m     \u001b[38;5;28mself\u001b[39m,\n\u001b[1;32m     47\u001b[0m     statement: Union[\n\u001b[0;32m   (...)\u001b[0m\n\u001b[1;32m     58\u001b[0m     \u001b[38;5;241m*\u001b[39m\u001b[38;5;241m*\u001b[39mkw: Any,\n\u001b[1;32m     59\u001b[0m ) \u001b[38;5;241m-\u001b[39m\u001b[38;5;241m>\u001b[39m Union[Result[_TSelectParam], ScalarResult[_TSelectParam]]:\n\u001b[0;32m---> 60\u001b[0m     results \u001b[38;5;241m=\u001b[39m \u001b[38;5;28;43msuper\u001b[39;49m\u001b[43m(\u001b[49m\u001b[43m)\u001b[49m\u001b[38;5;241;43m.\u001b[39;49m\u001b[43mexecute\u001b[49m\u001b[43m(\u001b[49m\n\u001b[1;32m     61\u001b[0m \u001b[43m        \u001b[49m\u001b[43mstatement\u001b[49m\u001b[43m,\u001b[49m\n\u001b[1;32m     62\u001b[0m \u001b[43m        \u001b[49m\u001b[43mparams\u001b[49m\u001b[38;5;241;43m=\u001b[39;49m\u001b[43mparams\u001b[49m\u001b[43m,\u001b[49m\n\u001b[1;32m     63\u001b[0m \u001b[43m        \u001b[49m\u001b[43mexecution_options\u001b[49m\u001b[38;5;241;43m=\u001b[39;49m\u001b[43mexecution_options\u001b[49m\u001b[43m,\u001b[49m\n\u001b[1;32m     64\u001b[0m \u001b[43m        \u001b[49m\u001b[43mbind_arguments\u001b[49m\u001b[38;5;241;43m=\u001b[39;49m\u001b[43mbind_arguments\u001b[49m\u001b[43m,\u001b[49m\n\u001b[1;32m     65\u001b[0m \u001b[43m        \u001b[49m\u001b[43m_parent_execute_state\u001b[49m\u001b[38;5;241;43m=\u001b[39;49m\u001b[43m_parent_execute_state\u001b[49m\u001b[43m,\u001b[49m\n\u001b[1;32m     66\u001b[0m \u001b[43m        \u001b[49m\u001b[43m_add_event\u001b[49m\u001b[38;5;241;43m=\u001b[39;49m\u001b[43m_add_event\u001b[49m\u001b[43m,\u001b[49m\n\u001b[1;32m     67\u001b[0m \u001b[43m        \u001b[49m\u001b[38;5;241;43m*\u001b[39;49m\u001b[38;5;241;43m*\u001b[39;49m\u001b[43mkw\u001b[49m\u001b[43m,\u001b[49m\n\u001b[1;32m     68\u001b[0m \u001b[43m    \u001b[49m\u001b[43m)\u001b[49m\n\u001b[1;32m     69\u001b[0m     \u001b[38;5;28;01mif\u001b[39;00m \u001b[38;5;28misinstance\u001b[39m(statement, SelectOfScalar):\n\u001b[1;32m     70\u001b[0m         \u001b[38;5;28;01mreturn\u001b[39;00m results\u001b[38;5;241m.\u001b[39mscalars()  \u001b[38;5;66;03m# type: ignore\u001b[39;00m\n",
      "File \u001b[0;32m~/.local/lib/python3.9/site-packages/sqlalchemy/orm/session.py:1660\u001b[0m, in \u001b[0;36mSession.execute\u001b[0;34m(self, statement, params, execution_options, bind_arguments, _parent_execute_state, _add_event, **kw)\u001b[0m\n\u001b[1;32m   1654\u001b[0m execution_options \u001b[38;5;241m=\u001b[39m util\u001b[38;5;241m.\u001b[39mcoerce_to_immutabledict(execution_options)\n\u001b[1;32m   1656\u001b[0m \u001b[38;5;28;01mif\u001b[39;00m compile_state_cls \u001b[38;5;129;01mis\u001b[39;00m \u001b[38;5;129;01mnot\u001b[39;00m \u001b[38;5;28;01mNone\u001b[39;00m:\n\u001b[1;32m   1657\u001b[0m     (\n\u001b[1;32m   1658\u001b[0m         statement,\n\u001b[1;32m   1659\u001b[0m         execution_options,\n\u001b[0;32m-> 1660\u001b[0m     ) \u001b[38;5;241m=\u001b[39m \u001b[43mcompile_state_cls\u001b[49m\u001b[38;5;241;43m.\u001b[39;49m\u001b[43morm_pre_session_exec\u001b[49m\u001b[43m(\u001b[49m\n\u001b[1;32m   1661\u001b[0m \u001b[43m        \u001b[49m\u001b[38;5;28;43mself\u001b[39;49m\u001b[43m,\u001b[49m\n\u001b[1;32m   1662\u001b[0m \u001b[43m        \u001b[49m\u001b[43mstatement\u001b[49m\u001b[43m,\u001b[49m\n\u001b[1;32m   1663\u001b[0m \u001b[43m        \u001b[49m\u001b[43mparams\u001b[49m\u001b[43m,\u001b[49m\n\u001b[1;32m   1664\u001b[0m \u001b[43m        \u001b[49m\u001b[43mexecution_options\u001b[49m\u001b[43m,\u001b[49m\n\u001b[1;32m   1665\u001b[0m \u001b[43m        \u001b[49m\u001b[43mbind_arguments\u001b[49m\u001b[43m,\u001b[49m\n\u001b[1;32m   1666\u001b[0m \u001b[43m        \u001b[49m\u001b[43m_parent_execute_state\u001b[49m\u001b[43m \u001b[49m\u001b[38;5;129;43;01mis\u001b[39;49;00m\u001b[43m \u001b[49m\u001b[38;5;129;43;01mnot\u001b[39;49;00m\u001b[43m \u001b[49m\u001b[38;5;28;43;01mNone\u001b[39;49;00m\u001b[43m,\u001b[49m\n\u001b[1;32m   1667\u001b[0m \u001b[43m    \u001b[49m\u001b[43m)\u001b[49m\n\u001b[1;32m   1668\u001b[0m \u001b[38;5;28;01melse\u001b[39;00m:\n\u001b[1;32m   1669\u001b[0m     bind_arguments\u001b[38;5;241m.\u001b[39msetdefault(\u001b[38;5;124m\"\u001b[39m\u001b[38;5;124mclause\u001b[39m\u001b[38;5;124m\"\u001b[39m, statement)\n",
      "File \u001b[0;32m~/.local/lib/python3.9/site-packages/sqlalchemy/orm/context.py:312\u001b[0m, in \u001b[0;36mORMCompileState.orm_pre_session_exec\u001b[0;34m(cls, session, statement, params, execution_options, bind_arguments, is_reentrant_invoke)\u001b[0m\n\u001b[1;32m    309\u001b[0m         bind_arguments[\u001b[38;5;124m\"\u001b[39m\u001b[38;5;124mmapper\u001b[39m\u001b[38;5;124m\"\u001b[39m] \u001b[38;5;241m=\u001b[39m plugin_subject\u001b[38;5;241m.\u001b[39mmapper\n\u001b[1;32m    311\u001b[0m \u001b[38;5;28;01mif\u001b[39;00m load_options\u001b[38;5;241m.\u001b[39m_autoflush:\n\u001b[0;32m--> 312\u001b[0m     \u001b[43msession\u001b[49m\u001b[38;5;241;43m.\u001b[39;49m\u001b[43m_autoflush\u001b[49m\u001b[43m(\u001b[49m\u001b[43m)\u001b[49m\n\u001b[1;32m    314\u001b[0m \u001b[38;5;28;01mreturn\u001b[39;00m statement, execution_options\n",
      "File \u001b[0;32m~/.local/lib/python3.9/site-packages/sqlalchemy/orm/session.py:2257\u001b[0m, in \u001b[0;36mSession._autoflush\u001b[0;34m(self)\u001b[0m\n\u001b[1;32m   2247\u001b[0m \u001b[38;5;28;01mexcept\u001b[39;00m sa_exc\u001b[38;5;241m.\u001b[39mStatementError \u001b[38;5;28;01mas\u001b[39;00m e:\n\u001b[1;32m   2248\u001b[0m     \u001b[38;5;66;03m# note we are reraising StatementError as opposed to\u001b[39;00m\n\u001b[1;32m   2249\u001b[0m     \u001b[38;5;66;03m# raising FlushError with \"chaining\" to remain compatible\u001b[39;00m\n\u001b[1;32m   2250\u001b[0m     \u001b[38;5;66;03m# with code that catches StatementError, IntegrityError,\u001b[39;00m\n\u001b[1;32m   2251\u001b[0m     \u001b[38;5;66;03m# etc.\u001b[39;00m\n\u001b[1;32m   2252\u001b[0m     e\u001b[38;5;241m.\u001b[39madd_detail(\n\u001b[1;32m   2253\u001b[0m         \u001b[38;5;124m\"\u001b[39m\u001b[38;5;124mraised as a result of Query-invoked autoflush; \u001b[39m\u001b[38;5;124m\"\u001b[39m\n\u001b[1;32m   2254\u001b[0m         \u001b[38;5;124m\"\u001b[39m\u001b[38;5;124mconsider using a session.no_autoflush block if this \u001b[39m\u001b[38;5;124m\"\u001b[39m\n\u001b[1;32m   2255\u001b[0m         \u001b[38;5;124m\"\u001b[39m\u001b[38;5;124mflush is occurring prematurely\u001b[39m\u001b[38;5;124m\"\u001b[39m\n\u001b[1;32m   2256\u001b[0m     )\n\u001b[0;32m-> 2257\u001b[0m     \u001b[43mutil\u001b[49m\u001b[38;5;241;43m.\u001b[39;49m\u001b[43mraise_\u001b[49m\u001b[43m(\u001b[49m\u001b[43me\u001b[49m\u001b[43m,\u001b[49m\u001b[43m \u001b[49m\u001b[43mwith_traceback\u001b[49m\u001b[38;5;241;43m=\u001b[39;49m\u001b[43msys\u001b[49m\u001b[38;5;241;43m.\u001b[39;49m\u001b[43mexc_info\u001b[49m\u001b[43m(\u001b[49m\u001b[43m)\u001b[49m\u001b[43m[\u001b[49m\u001b[38;5;241;43m2\u001b[39;49m\u001b[43m]\u001b[49m\u001b[43m)\u001b[49m\n",
      "File \u001b[0;32m~/.local/lib/python3.9/site-packages/sqlalchemy/util/compat.py:208\u001b[0m, in \u001b[0;36mraise_\u001b[0;34m(***failed resolving arguments***)\u001b[0m\n\u001b[1;32m    205\u001b[0m     exception\u001b[38;5;241m.\u001b[39m__cause__ \u001b[38;5;241m=\u001b[39m replace_context\n\u001b[1;32m    207\u001b[0m \u001b[38;5;28;01mtry\u001b[39;00m:\n\u001b[0;32m--> 208\u001b[0m     \u001b[38;5;28;01mraise\u001b[39;00m exception\n\u001b[1;32m    209\u001b[0m \u001b[38;5;28;01mfinally\u001b[39;00m:\n\u001b[1;32m    210\u001b[0m     \u001b[38;5;66;03m# credit to\u001b[39;00m\n\u001b[1;32m    211\u001b[0m     \u001b[38;5;66;03m# https://cosmicpercolator.com/2016/01/13/exception-leaks-in-python-2-and-3/\u001b[39;00m\n\u001b[1;32m    212\u001b[0m     \u001b[38;5;66;03m# as the __traceback__ object creates a cycle\u001b[39;00m\n\u001b[1;32m    213\u001b[0m     \u001b[38;5;28;01mdel\u001b[39;00m exception, replace_context, from_, with_traceback\n",
      "File \u001b[0;32m~/.local/lib/python3.9/site-packages/sqlalchemy/orm/session.py:2246\u001b[0m, in \u001b[0;36mSession._autoflush\u001b[0;34m(self)\u001b[0m\n\u001b[1;32m   2244\u001b[0m \u001b[38;5;28;01mif\u001b[39;00m \u001b[38;5;28mself\u001b[39m\u001b[38;5;241m.\u001b[39mautoflush \u001b[38;5;129;01mand\u001b[39;00m \u001b[38;5;129;01mnot\u001b[39;00m \u001b[38;5;28mself\u001b[39m\u001b[38;5;241m.\u001b[39m_flushing:\n\u001b[1;32m   2245\u001b[0m     \u001b[38;5;28;01mtry\u001b[39;00m:\n\u001b[0;32m-> 2246\u001b[0m         \u001b[38;5;28;43mself\u001b[39;49m\u001b[38;5;241;43m.\u001b[39;49m\u001b[43mflush\u001b[49m\u001b[43m(\u001b[49m\u001b[43m)\u001b[49m\n\u001b[1;32m   2247\u001b[0m     \u001b[38;5;28;01mexcept\u001b[39;00m sa_exc\u001b[38;5;241m.\u001b[39mStatementError \u001b[38;5;28;01mas\u001b[39;00m e:\n\u001b[1;32m   2248\u001b[0m         \u001b[38;5;66;03m# note we are reraising StatementError as opposed to\u001b[39;00m\n\u001b[1;32m   2249\u001b[0m         \u001b[38;5;66;03m# raising FlushError with \"chaining\" to remain compatible\u001b[39;00m\n\u001b[1;32m   2250\u001b[0m         \u001b[38;5;66;03m# with code that catches StatementError, IntegrityError,\u001b[39;00m\n\u001b[1;32m   2251\u001b[0m         \u001b[38;5;66;03m# etc.\u001b[39;00m\n\u001b[1;32m   2252\u001b[0m         e\u001b[38;5;241m.\u001b[39madd_detail(\n\u001b[1;32m   2253\u001b[0m             \u001b[38;5;124m\"\u001b[39m\u001b[38;5;124mraised as a result of Query-invoked autoflush; \u001b[39m\u001b[38;5;124m\"\u001b[39m\n\u001b[1;32m   2254\u001b[0m             \u001b[38;5;124m\"\u001b[39m\u001b[38;5;124mconsider using a session.no_autoflush block if this \u001b[39m\u001b[38;5;124m\"\u001b[39m\n\u001b[1;32m   2255\u001b[0m             \u001b[38;5;124m\"\u001b[39m\u001b[38;5;124mflush is occurring prematurely\u001b[39m\u001b[38;5;124m\"\u001b[39m\n\u001b[1;32m   2256\u001b[0m         )\n",
      "File \u001b[0;32m~/.local/lib/python3.9/site-packages/sqlalchemy/orm/session.py:3386\u001b[0m, in \u001b[0;36mSession.flush\u001b[0;34m(self, objects)\u001b[0m\n\u001b[1;32m   3384\u001b[0m \u001b[38;5;28;01mtry\u001b[39;00m:\n\u001b[1;32m   3385\u001b[0m     \u001b[38;5;28mself\u001b[39m\u001b[38;5;241m.\u001b[39m_flushing \u001b[38;5;241m=\u001b[39m \u001b[38;5;28;01mTrue\u001b[39;00m\n\u001b[0;32m-> 3386\u001b[0m     \u001b[38;5;28;43mself\u001b[39;49m\u001b[38;5;241;43m.\u001b[39;49m\u001b[43m_flush\u001b[49m\u001b[43m(\u001b[49m\u001b[43mobjects\u001b[49m\u001b[43m)\u001b[49m\n\u001b[1;32m   3387\u001b[0m \u001b[38;5;28;01mfinally\u001b[39;00m:\n\u001b[1;32m   3388\u001b[0m     \u001b[38;5;28mself\u001b[39m\u001b[38;5;241m.\u001b[39m_flushing \u001b[38;5;241m=\u001b[39m \u001b[38;5;28;01mFalse\u001b[39;00m\n",
      "File \u001b[0;32m~/.local/lib/python3.9/site-packages/sqlalchemy/orm/session.py:3526\u001b[0m, in \u001b[0;36mSession._flush\u001b[0;34m(self, objects)\u001b[0m\n\u001b[1;32m   3524\u001b[0m \u001b[38;5;28;01mexcept\u001b[39;00m:\n\u001b[1;32m   3525\u001b[0m     \u001b[38;5;28;01mwith\u001b[39;00m util\u001b[38;5;241m.\u001b[39msafe_reraise():\n\u001b[0;32m-> 3526\u001b[0m         transaction\u001b[38;5;241m.\u001b[39mrollback(_capture_exception\u001b[38;5;241m=\u001b[39m\u001b[38;5;28;01mTrue\u001b[39;00m)\n",
      "File \u001b[0;32m~/.local/lib/python3.9/site-packages/sqlalchemy/util/langhelpers.py:70\u001b[0m, in \u001b[0;36msafe_reraise.__exit__\u001b[0;34m(self, type_, value, traceback)\u001b[0m\n\u001b[1;32m     68\u001b[0m     \u001b[38;5;28mself\u001b[39m\u001b[38;5;241m.\u001b[39m_exc_info \u001b[38;5;241m=\u001b[39m \u001b[38;5;28;01mNone\u001b[39;00m  \u001b[38;5;66;03m# remove potential circular references\u001b[39;00m\n\u001b[1;32m     69\u001b[0m     \u001b[38;5;28;01mif\u001b[39;00m \u001b[38;5;129;01mnot\u001b[39;00m \u001b[38;5;28mself\u001b[39m\u001b[38;5;241m.\u001b[39mwarn_only:\n\u001b[0;32m---> 70\u001b[0m         \u001b[43mcompat\u001b[49m\u001b[38;5;241;43m.\u001b[39;49m\u001b[43mraise_\u001b[49m\u001b[43m(\u001b[49m\n\u001b[1;32m     71\u001b[0m \u001b[43m            \u001b[49m\u001b[43mexc_value\u001b[49m\u001b[43m,\u001b[49m\n\u001b[1;32m     72\u001b[0m \u001b[43m            \u001b[49m\u001b[43mwith_traceback\u001b[49m\u001b[38;5;241;43m=\u001b[39;49m\u001b[43mexc_tb\u001b[49m\u001b[43m,\u001b[49m\n\u001b[1;32m     73\u001b[0m \u001b[43m        \u001b[49m\u001b[43m)\u001b[49m\n\u001b[1;32m     74\u001b[0m \u001b[38;5;28;01melse\u001b[39;00m:\n\u001b[1;32m     75\u001b[0m     \u001b[38;5;28;01mif\u001b[39;00m \u001b[38;5;129;01mnot\u001b[39;00m compat\u001b[38;5;241m.\u001b[39mpy3k \u001b[38;5;129;01mand\u001b[39;00m \u001b[38;5;28mself\u001b[39m\u001b[38;5;241m.\u001b[39m_exc_info \u001b[38;5;129;01mand\u001b[39;00m \u001b[38;5;28mself\u001b[39m\u001b[38;5;241m.\u001b[39m_exc_info[\u001b[38;5;241m1\u001b[39m]:\n\u001b[1;32m     76\u001b[0m         \u001b[38;5;66;03m# emulate Py3K's behavior of telling us when an exception\u001b[39;00m\n\u001b[1;32m     77\u001b[0m         \u001b[38;5;66;03m# occurs in an exception handler.\u001b[39;00m\n",
      "File \u001b[0;32m~/.local/lib/python3.9/site-packages/sqlalchemy/util/compat.py:208\u001b[0m, in \u001b[0;36mraise_\u001b[0;34m(***failed resolving arguments***)\u001b[0m\n\u001b[1;32m    205\u001b[0m     exception\u001b[38;5;241m.\u001b[39m__cause__ \u001b[38;5;241m=\u001b[39m replace_context\n\u001b[1;32m    207\u001b[0m \u001b[38;5;28;01mtry\u001b[39;00m:\n\u001b[0;32m--> 208\u001b[0m     \u001b[38;5;28;01mraise\u001b[39;00m exception\n\u001b[1;32m    209\u001b[0m \u001b[38;5;28;01mfinally\u001b[39;00m:\n\u001b[1;32m    210\u001b[0m     \u001b[38;5;66;03m# credit to\u001b[39;00m\n\u001b[1;32m    211\u001b[0m     \u001b[38;5;66;03m# https://cosmicpercolator.com/2016/01/13/exception-leaks-in-python-2-and-3/\u001b[39;00m\n\u001b[1;32m    212\u001b[0m     \u001b[38;5;66;03m# as the __traceback__ object creates a cycle\u001b[39;00m\n\u001b[1;32m    213\u001b[0m     \u001b[38;5;28;01mdel\u001b[39;00m exception, replace_context, from_, with_traceback\n",
      "File \u001b[0;32m~/.local/lib/python3.9/site-packages/sqlalchemy/orm/session.py:3486\u001b[0m, in \u001b[0;36mSession._flush\u001b[0;34m(self, objects)\u001b[0m\n\u001b[1;32m   3484\u001b[0m \u001b[38;5;28mself\u001b[39m\u001b[38;5;241m.\u001b[39m_warn_on_events \u001b[38;5;241m=\u001b[39m \u001b[38;5;28;01mTrue\u001b[39;00m\n\u001b[1;32m   3485\u001b[0m \u001b[38;5;28;01mtry\u001b[39;00m:\n\u001b[0;32m-> 3486\u001b[0m     \u001b[43mflush_context\u001b[49m\u001b[38;5;241;43m.\u001b[39;49m\u001b[43mexecute\u001b[49m\u001b[43m(\u001b[49m\u001b[43m)\u001b[49m\n\u001b[1;32m   3487\u001b[0m \u001b[38;5;28;01mfinally\u001b[39;00m:\n\u001b[1;32m   3488\u001b[0m     \u001b[38;5;28mself\u001b[39m\u001b[38;5;241m.\u001b[39m_warn_on_events \u001b[38;5;241m=\u001b[39m \u001b[38;5;28;01mFalse\u001b[39;00m\n",
      "File \u001b[0;32m~/.local/lib/python3.9/site-packages/sqlalchemy/orm/unitofwork.py:456\u001b[0m, in \u001b[0;36mUOWTransaction.execute\u001b[0;34m(self)\u001b[0m\n\u001b[1;32m    454\u001b[0m \u001b[38;5;28;01melse\u001b[39;00m:\n\u001b[1;32m    455\u001b[0m     \u001b[38;5;28;01mfor\u001b[39;00m rec \u001b[38;5;129;01min\u001b[39;00m topological\u001b[38;5;241m.\u001b[39msort(\u001b[38;5;28mself\u001b[39m\u001b[38;5;241m.\u001b[39mdependencies, postsort_actions):\n\u001b[0;32m--> 456\u001b[0m         \u001b[43mrec\u001b[49m\u001b[38;5;241;43m.\u001b[39;49m\u001b[43mexecute\u001b[49m\u001b[43m(\u001b[49m\u001b[38;5;28;43mself\u001b[39;49m\u001b[43m)\u001b[49m\n",
      "File \u001b[0;32m~/.local/lib/python3.9/site-packages/sqlalchemy/orm/unitofwork.py:630\u001b[0m, in \u001b[0;36mSaveUpdateAll.execute\u001b[0;34m(self, uow)\u001b[0m\n\u001b[1;32m    628\u001b[0m \u001b[38;5;129m@util\u001b[39m\u001b[38;5;241m.\u001b[39mpreload_module(\u001b[38;5;124m\"\u001b[39m\u001b[38;5;124msqlalchemy.orm.persistence\u001b[39m\u001b[38;5;124m\"\u001b[39m)\n\u001b[1;32m    629\u001b[0m \u001b[38;5;28;01mdef\u001b[39;00m \u001b[38;5;21mexecute\u001b[39m(\u001b[38;5;28mself\u001b[39m, uow):\n\u001b[0;32m--> 630\u001b[0m     \u001b[43mutil\u001b[49m\u001b[38;5;241;43m.\u001b[39;49m\u001b[43mpreloaded\u001b[49m\u001b[38;5;241;43m.\u001b[39;49m\u001b[43morm_persistence\u001b[49m\u001b[38;5;241;43m.\u001b[39;49m\u001b[43msave_obj\u001b[49m\u001b[43m(\u001b[49m\n\u001b[1;32m    631\u001b[0m \u001b[43m        \u001b[49m\u001b[38;5;28;43mself\u001b[39;49m\u001b[38;5;241;43m.\u001b[39;49m\u001b[43mmapper\u001b[49m\u001b[43m,\u001b[49m\n\u001b[1;32m    632\u001b[0m \u001b[43m        \u001b[49m\u001b[43muow\u001b[49m\u001b[38;5;241;43m.\u001b[39;49m\u001b[43mstates_for_mapper_hierarchy\u001b[49m\u001b[43m(\u001b[49m\u001b[38;5;28;43mself\u001b[39;49m\u001b[38;5;241;43m.\u001b[39;49m\u001b[43mmapper\u001b[49m\u001b[43m,\u001b[49m\u001b[43m \u001b[49m\u001b[38;5;28;43;01mFalse\u001b[39;49;00m\u001b[43m,\u001b[49m\u001b[43m \u001b[49m\u001b[38;5;28;43;01mFalse\u001b[39;49;00m\u001b[43m)\u001b[49m\u001b[43m,\u001b[49m\n\u001b[1;32m    633\u001b[0m \u001b[43m        \u001b[49m\u001b[43muow\u001b[49m\u001b[43m,\u001b[49m\n\u001b[1;32m    634\u001b[0m \u001b[43m    \u001b[49m\u001b[43m)\u001b[49m\n",
      "File \u001b[0;32m~/.local/lib/python3.9/site-packages/sqlalchemy/orm/persistence.py:237\u001b[0m, in \u001b[0;36msave_obj\u001b[0;34m(base_mapper, states, uowtransaction, single)\u001b[0m\n\u001b[1;32m    231\u001b[0m     insert \u001b[38;5;241m=\u001b[39m _collect_insert_commands(table, states_to_insert)\n\u001b[1;32m    233\u001b[0m     update \u001b[38;5;241m=\u001b[39m _collect_update_commands(\n\u001b[1;32m    234\u001b[0m         uowtransaction, table, states_to_update\n\u001b[1;32m    235\u001b[0m     )\n\u001b[0;32m--> 237\u001b[0m     \u001b[43m_emit_update_statements\u001b[49m\u001b[43m(\u001b[49m\n\u001b[1;32m    238\u001b[0m \u001b[43m        \u001b[49m\u001b[43mbase_mapper\u001b[49m\u001b[43m,\u001b[49m\n\u001b[1;32m    239\u001b[0m \u001b[43m        \u001b[49m\u001b[43muowtransaction\u001b[49m\u001b[43m,\u001b[49m\n\u001b[1;32m    240\u001b[0m \u001b[43m        \u001b[49m\u001b[43mmapper\u001b[49m\u001b[43m,\u001b[49m\n\u001b[1;32m    241\u001b[0m \u001b[43m        \u001b[49m\u001b[43mtable\u001b[49m\u001b[43m,\u001b[49m\n\u001b[1;32m    242\u001b[0m \u001b[43m        \u001b[49m\u001b[43mupdate\u001b[49m\u001b[43m,\u001b[49m\n\u001b[1;32m    243\u001b[0m \u001b[43m    \u001b[49m\u001b[43m)\u001b[49m\n\u001b[1;32m    245\u001b[0m     _emit_insert_statements(\n\u001b[1;32m    246\u001b[0m         base_mapper,\n\u001b[1;32m    247\u001b[0m         uowtransaction,\n\u001b[0;32m   (...)\u001b[0m\n\u001b[1;32m    250\u001b[0m         insert,\n\u001b[1;32m    251\u001b[0m     )\n\u001b[1;32m    253\u001b[0m _finalize_insert_update_commands(\n\u001b[1;32m    254\u001b[0m     base_mapper,\n\u001b[1;32m    255\u001b[0m     uowtransaction,\n\u001b[0;32m   (...)\u001b[0m\n\u001b[1;32m    271\u001b[0m     ),\n\u001b[1;32m    272\u001b[0m )\n",
      "File \u001b[0;32m~/.local/lib/python3.9/site-packages/sqlalchemy/orm/persistence.py:1001\u001b[0m, in \u001b[0;36m_emit_update_statements\u001b[0;34m(base_mapper, uowtransaction, mapper, table, update, bookkeeping)\u001b[0m\n\u001b[1;32m    995\u001b[0m multiparams \u001b[38;5;241m=\u001b[39m [rec[\u001b[38;5;241m2\u001b[39m] \u001b[38;5;28;01mfor\u001b[39;00m rec \u001b[38;5;129;01min\u001b[39;00m records]\n\u001b[1;32m    997\u001b[0m check_rowcount \u001b[38;5;241m=\u001b[39m assert_multirow \u001b[38;5;129;01mor\u001b[39;00m (\n\u001b[1;32m    998\u001b[0m     assert_singlerow \u001b[38;5;129;01mand\u001b[39;00m \u001b[38;5;28mlen\u001b[39m(multiparams) \u001b[38;5;241m==\u001b[39m \u001b[38;5;241m1\u001b[39m\n\u001b[1;32m    999\u001b[0m )\n\u001b[0;32m-> 1001\u001b[0m c \u001b[38;5;241m=\u001b[39m \u001b[43mconnection\u001b[49m\u001b[38;5;241;43m.\u001b[39;49m\u001b[43m_execute_20\u001b[49m\u001b[43m(\u001b[49m\n\u001b[1;32m   1002\u001b[0m \u001b[43m    \u001b[49m\u001b[43mstatement\u001b[49m\u001b[43m,\u001b[49m\u001b[43m \u001b[49m\u001b[43mmultiparams\u001b[49m\u001b[43m,\u001b[49m\u001b[43m \u001b[49m\u001b[43mexecution_options\u001b[49m\u001b[38;5;241;43m=\u001b[39;49m\u001b[43mexecution_options\u001b[49m\n\u001b[1;32m   1003\u001b[0m \u001b[43m\u001b[49m\u001b[43m)\u001b[49m\n\u001b[1;32m   1005\u001b[0m rows \u001b[38;5;241m+\u001b[39m\u001b[38;5;241m=\u001b[39m c\u001b[38;5;241m.\u001b[39mrowcount\n\u001b[1;32m   1007\u001b[0m \u001b[38;5;28;01mfor\u001b[39;00m (\n\u001b[1;32m   1008\u001b[0m     state,\n\u001b[1;32m   1009\u001b[0m     state_dict,\n\u001b[0;32m   (...)\u001b[0m\n\u001b[1;32m   1015\u001b[0m     has_all_pks,\n\u001b[1;32m   1016\u001b[0m ) \u001b[38;5;129;01min\u001b[39;00m records:\n",
      "File \u001b[0;32m~/.local/lib/python3.9/site-packages/sqlalchemy/engine/base.py:1705\u001b[0m, in \u001b[0;36mConnection._execute_20\u001b[0;34m(self, statement, parameters, execution_options)\u001b[0m\n\u001b[1;32m   1701\u001b[0m     util\u001b[38;5;241m.\u001b[39mraise_(\n\u001b[1;32m   1702\u001b[0m         exc\u001b[38;5;241m.\u001b[39mObjectNotExecutableError(statement), replace_context\u001b[38;5;241m=\u001b[39merr\n\u001b[1;32m   1703\u001b[0m     )\n\u001b[1;32m   1704\u001b[0m \u001b[38;5;28;01melse\u001b[39;00m:\n\u001b[0;32m-> 1705\u001b[0m     \u001b[38;5;28;01mreturn\u001b[39;00m \u001b[43mmeth\u001b[49m\u001b[43m(\u001b[49m\u001b[38;5;28;43mself\u001b[39;49m\u001b[43m,\u001b[49m\u001b[43m \u001b[49m\u001b[43margs_10style\u001b[49m\u001b[43m,\u001b[49m\u001b[43m \u001b[49m\u001b[43mkwargs_10style\u001b[49m\u001b[43m,\u001b[49m\u001b[43m \u001b[49m\u001b[43mexecution_options\u001b[49m\u001b[43m)\u001b[49m\n",
      "File \u001b[0;32m~/.local/lib/python3.9/site-packages/sqlalchemy/sql/elements.py:333\u001b[0m, in \u001b[0;36mClauseElement._execute_on_connection\u001b[0;34m(self, connection, multiparams, params, execution_options, _force)\u001b[0m\n\u001b[1;32m    329\u001b[0m \u001b[38;5;28;01mdef\u001b[39;00m \u001b[38;5;21m_execute_on_connection\u001b[39m(\n\u001b[1;32m    330\u001b[0m     \u001b[38;5;28mself\u001b[39m, connection, multiparams, params, execution_options, _force\u001b[38;5;241m=\u001b[39m\u001b[38;5;28;01mFalse\u001b[39;00m\n\u001b[1;32m    331\u001b[0m ):\n\u001b[1;32m    332\u001b[0m     \u001b[38;5;28;01mif\u001b[39;00m _force \u001b[38;5;129;01mor\u001b[39;00m \u001b[38;5;28mself\u001b[39m\u001b[38;5;241m.\u001b[39msupports_execution:\n\u001b[0;32m--> 333\u001b[0m         \u001b[38;5;28;01mreturn\u001b[39;00m \u001b[43mconnection\u001b[49m\u001b[38;5;241;43m.\u001b[39;49m\u001b[43m_execute_clauseelement\u001b[49m\u001b[43m(\u001b[49m\n\u001b[1;32m    334\u001b[0m \u001b[43m            \u001b[49m\u001b[38;5;28;43mself\u001b[39;49m\u001b[43m,\u001b[49m\u001b[43m \u001b[49m\u001b[43mmultiparams\u001b[49m\u001b[43m,\u001b[49m\u001b[43m \u001b[49m\u001b[43mparams\u001b[49m\u001b[43m,\u001b[49m\u001b[43m \u001b[49m\u001b[43mexecution_options\u001b[49m\n\u001b[1;32m    335\u001b[0m \u001b[43m        \u001b[49m\u001b[43m)\u001b[49m\n\u001b[1;32m    336\u001b[0m     \u001b[38;5;28;01melse\u001b[39;00m:\n\u001b[1;32m    337\u001b[0m         \u001b[38;5;28;01mraise\u001b[39;00m exc\u001b[38;5;241m.\u001b[39mObjectNotExecutableError(\u001b[38;5;28mself\u001b[39m)\n",
      "File \u001b[0;32m~/.local/lib/python3.9/site-packages/sqlalchemy/engine/base.py:1572\u001b[0m, in \u001b[0;36mConnection._execute_clauseelement\u001b[0;34m(self, elem, multiparams, params, execution_options)\u001b[0m\n\u001b[1;32m   1560\u001b[0m compiled_cache \u001b[38;5;241m=\u001b[39m execution_options\u001b[38;5;241m.\u001b[39mget(\n\u001b[1;32m   1561\u001b[0m     \u001b[38;5;124m\"\u001b[39m\u001b[38;5;124mcompiled_cache\u001b[39m\u001b[38;5;124m\"\u001b[39m, \u001b[38;5;28mself\u001b[39m\u001b[38;5;241m.\u001b[39mengine\u001b[38;5;241m.\u001b[39m_compiled_cache\n\u001b[1;32m   1562\u001b[0m )\n\u001b[1;32m   1564\u001b[0m compiled_sql, extracted_params, cache_hit \u001b[38;5;241m=\u001b[39m elem\u001b[38;5;241m.\u001b[39m_compile_w_cache(\n\u001b[1;32m   1565\u001b[0m     dialect\u001b[38;5;241m=\u001b[39mdialect,\n\u001b[1;32m   1566\u001b[0m     compiled_cache\u001b[38;5;241m=\u001b[39mcompiled_cache,\n\u001b[0;32m   (...)\u001b[0m\n\u001b[1;32m   1570\u001b[0m     linting\u001b[38;5;241m=\u001b[39m\u001b[38;5;28mself\u001b[39m\u001b[38;5;241m.\u001b[39mdialect\u001b[38;5;241m.\u001b[39mcompiler_linting \u001b[38;5;241m|\u001b[39m compiler\u001b[38;5;241m.\u001b[39mWARN_LINTING,\n\u001b[1;32m   1571\u001b[0m )\n\u001b[0;32m-> 1572\u001b[0m ret \u001b[38;5;241m=\u001b[39m \u001b[38;5;28;43mself\u001b[39;49m\u001b[38;5;241;43m.\u001b[39;49m\u001b[43m_execute_context\u001b[49m\u001b[43m(\u001b[49m\n\u001b[1;32m   1573\u001b[0m \u001b[43m    \u001b[49m\u001b[43mdialect\u001b[49m\u001b[43m,\u001b[49m\n\u001b[1;32m   1574\u001b[0m \u001b[43m    \u001b[49m\u001b[43mdialect\u001b[49m\u001b[38;5;241;43m.\u001b[39;49m\u001b[43mexecution_ctx_cls\u001b[49m\u001b[38;5;241;43m.\u001b[39;49m\u001b[43m_init_compiled\u001b[49m\u001b[43m,\u001b[49m\n\u001b[1;32m   1575\u001b[0m \u001b[43m    \u001b[49m\u001b[43mcompiled_sql\u001b[49m\u001b[43m,\u001b[49m\n\u001b[1;32m   1576\u001b[0m \u001b[43m    \u001b[49m\u001b[43mdistilled_params\u001b[49m\u001b[43m,\u001b[49m\n\u001b[1;32m   1577\u001b[0m \u001b[43m    \u001b[49m\u001b[43mexecution_options\u001b[49m\u001b[43m,\u001b[49m\n\u001b[1;32m   1578\u001b[0m \u001b[43m    \u001b[49m\u001b[43mcompiled_sql\u001b[49m\u001b[43m,\u001b[49m\n\u001b[1;32m   1579\u001b[0m \u001b[43m    \u001b[49m\u001b[43mdistilled_params\u001b[49m\u001b[43m,\u001b[49m\n\u001b[1;32m   1580\u001b[0m \u001b[43m    \u001b[49m\u001b[43melem\u001b[49m\u001b[43m,\u001b[49m\n\u001b[1;32m   1581\u001b[0m \u001b[43m    \u001b[49m\u001b[43mextracted_params\u001b[49m\u001b[43m,\u001b[49m\n\u001b[1;32m   1582\u001b[0m \u001b[43m    \u001b[49m\u001b[43mcache_hit\u001b[49m\u001b[38;5;241;43m=\u001b[39;49m\u001b[43mcache_hit\u001b[49m\u001b[43m,\u001b[49m\n\u001b[1;32m   1583\u001b[0m \u001b[43m\u001b[49m\u001b[43m)\u001b[49m\n\u001b[1;32m   1584\u001b[0m \u001b[38;5;28;01mif\u001b[39;00m has_events:\n\u001b[1;32m   1585\u001b[0m     \u001b[38;5;28mself\u001b[39m\u001b[38;5;241m.\u001b[39mdispatch\u001b[38;5;241m.\u001b[39mafter_execute(\n\u001b[1;32m   1586\u001b[0m         \u001b[38;5;28mself\u001b[39m,\n\u001b[1;32m   1587\u001b[0m         elem,\n\u001b[0;32m   (...)\u001b[0m\n\u001b[1;32m   1591\u001b[0m         ret,\n\u001b[1;32m   1592\u001b[0m     )\n",
      "File \u001b[0;32m~/.local/lib/python3.9/site-packages/sqlalchemy/engine/base.py:1943\u001b[0m, in \u001b[0;36mConnection._execute_context\u001b[0;34m(self, dialect, constructor, statement, parameters, execution_options, *args, **kw)\u001b[0m\n\u001b[1;32m   1940\u001b[0m             branched\u001b[38;5;241m.\u001b[39mclose()\n\u001b[1;32m   1942\u001b[0m \u001b[38;5;28;01mexcept\u001b[39;00m \u001b[38;5;167;01mBaseException\u001b[39;00m \u001b[38;5;28;01mas\u001b[39;00m e:\n\u001b[0;32m-> 1943\u001b[0m     \u001b[38;5;28;43mself\u001b[39;49m\u001b[38;5;241;43m.\u001b[39;49m\u001b[43m_handle_dbapi_exception\u001b[49m\u001b[43m(\u001b[49m\n\u001b[1;32m   1944\u001b[0m \u001b[43m        \u001b[49m\u001b[43me\u001b[49m\u001b[43m,\u001b[49m\u001b[43m \u001b[49m\u001b[43mstatement\u001b[49m\u001b[43m,\u001b[49m\u001b[43m \u001b[49m\u001b[43mparameters\u001b[49m\u001b[43m,\u001b[49m\u001b[43m \u001b[49m\u001b[43mcursor\u001b[49m\u001b[43m,\u001b[49m\u001b[43m \u001b[49m\u001b[43mcontext\u001b[49m\n\u001b[1;32m   1945\u001b[0m \u001b[43m    \u001b[49m\u001b[43m)\u001b[49m\n\u001b[1;32m   1947\u001b[0m \u001b[38;5;28;01mreturn\u001b[39;00m result\n",
      "File \u001b[0;32m~/.local/lib/python3.9/site-packages/sqlalchemy/engine/base.py:2124\u001b[0m, in \u001b[0;36mConnection._handle_dbapi_exception\u001b[0;34m(self, e, statement, parameters, cursor, context)\u001b[0m\n\u001b[1;32m   2122\u001b[0m     util\u001b[38;5;241m.\u001b[39mraise_(newraise, with_traceback\u001b[38;5;241m=\u001b[39mexc_info[\u001b[38;5;241m2\u001b[39m], from_\u001b[38;5;241m=\u001b[39me)\n\u001b[1;32m   2123\u001b[0m \u001b[38;5;28;01melif\u001b[39;00m should_wrap:\n\u001b[0;32m-> 2124\u001b[0m     \u001b[43mutil\u001b[49m\u001b[38;5;241;43m.\u001b[39;49m\u001b[43mraise_\u001b[49m\u001b[43m(\u001b[49m\n\u001b[1;32m   2125\u001b[0m \u001b[43m        \u001b[49m\u001b[43msqlalchemy_exception\u001b[49m\u001b[43m,\u001b[49m\u001b[43m \u001b[49m\u001b[43mwith_traceback\u001b[49m\u001b[38;5;241;43m=\u001b[39;49m\u001b[43mexc_info\u001b[49m\u001b[43m[\u001b[49m\u001b[38;5;241;43m2\u001b[39;49m\u001b[43m]\u001b[49m\u001b[43m,\u001b[49m\u001b[43m \u001b[49m\u001b[43mfrom_\u001b[49m\u001b[38;5;241;43m=\u001b[39;49m\u001b[43me\u001b[49m\n\u001b[1;32m   2126\u001b[0m \u001b[43m    \u001b[49m\u001b[43m)\u001b[49m\n\u001b[1;32m   2127\u001b[0m \u001b[38;5;28;01melse\u001b[39;00m:\n\u001b[1;32m   2128\u001b[0m     util\u001b[38;5;241m.\u001b[39mraise_(exc_info[\u001b[38;5;241m1\u001b[39m], with_traceback\u001b[38;5;241m=\u001b[39mexc_info[\u001b[38;5;241m2\u001b[39m])\n",
      "File \u001b[0;32m~/.local/lib/python3.9/site-packages/sqlalchemy/util/compat.py:208\u001b[0m, in \u001b[0;36mraise_\u001b[0;34m(***failed resolving arguments***)\u001b[0m\n\u001b[1;32m    205\u001b[0m     exception\u001b[38;5;241m.\u001b[39m__cause__ \u001b[38;5;241m=\u001b[39m replace_context\n\u001b[1;32m    207\u001b[0m \u001b[38;5;28;01mtry\u001b[39;00m:\n\u001b[0;32m--> 208\u001b[0m     \u001b[38;5;28;01mraise\u001b[39;00m exception\n\u001b[1;32m    209\u001b[0m \u001b[38;5;28;01mfinally\u001b[39;00m:\n\u001b[1;32m    210\u001b[0m     \u001b[38;5;66;03m# credit to\u001b[39;00m\n\u001b[1;32m    211\u001b[0m     \u001b[38;5;66;03m# https://cosmicpercolator.com/2016/01/13/exception-leaks-in-python-2-and-3/\u001b[39;00m\n\u001b[1;32m    212\u001b[0m     \u001b[38;5;66;03m# as the __traceback__ object creates a cycle\u001b[39;00m\n\u001b[1;32m    213\u001b[0m     \u001b[38;5;28;01mdel\u001b[39;00m exception, replace_context, from_, with_traceback\n",
      "File \u001b[0;32m~/.local/lib/python3.9/site-packages/sqlalchemy/engine/base.py:1900\u001b[0m, in \u001b[0;36mConnection._execute_context\u001b[0;34m(self, dialect, constructor, statement, parameters, execution_options, *args, **kw)\u001b[0m\n\u001b[1;32m   1898\u001b[0m                 \u001b[38;5;28;01mbreak\u001b[39;00m\n\u001b[1;32m   1899\u001b[0m     \u001b[38;5;28;01mif\u001b[39;00m \u001b[38;5;129;01mnot\u001b[39;00m evt_handled:\n\u001b[0;32m-> 1900\u001b[0m         \u001b[38;5;28;43mself\u001b[39;49m\u001b[38;5;241;43m.\u001b[39;49m\u001b[43mdialect\u001b[49m\u001b[38;5;241;43m.\u001b[39;49m\u001b[43mdo_execute\u001b[49m\u001b[43m(\u001b[49m\n\u001b[1;32m   1901\u001b[0m \u001b[43m            \u001b[49m\u001b[43mcursor\u001b[49m\u001b[43m,\u001b[49m\u001b[43m \u001b[49m\u001b[43mstatement\u001b[49m\u001b[43m,\u001b[49m\u001b[43m \u001b[49m\u001b[43mparameters\u001b[49m\u001b[43m,\u001b[49m\u001b[43m \u001b[49m\u001b[43mcontext\u001b[49m\n\u001b[1;32m   1902\u001b[0m \u001b[43m        \u001b[49m\u001b[43m)\u001b[49m\n\u001b[1;32m   1904\u001b[0m \u001b[38;5;28;01mif\u001b[39;00m \u001b[38;5;28mself\u001b[39m\u001b[38;5;241m.\u001b[39m_has_events \u001b[38;5;129;01mor\u001b[39;00m \u001b[38;5;28mself\u001b[39m\u001b[38;5;241m.\u001b[39mengine\u001b[38;5;241m.\u001b[39m_has_events:\n\u001b[1;32m   1905\u001b[0m     \u001b[38;5;28mself\u001b[39m\u001b[38;5;241m.\u001b[39mdispatch\u001b[38;5;241m.\u001b[39mafter_cursor_execute(\n\u001b[1;32m   1906\u001b[0m         \u001b[38;5;28mself\u001b[39m,\n\u001b[1;32m   1907\u001b[0m         cursor,\n\u001b[0;32m   (...)\u001b[0m\n\u001b[1;32m   1911\u001b[0m         context\u001b[38;5;241m.\u001b[39mexecutemany,\n\u001b[1;32m   1912\u001b[0m     )\n",
      "File \u001b[0;32m~/.local/lib/python3.9/site-packages/sqlalchemy/engine/default.py:736\u001b[0m, in \u001b[0;36mDefaultDialect.do_execute\u001b[0;34m(self, cursor, statement, parameters, context)\u001b[0m\n\u001b[1;32m    735\u001b[0m \u001b[38;5;28;01mdef\u001b[39;00m \u001b[38;5;21mdo_execute\u001b[39m(\u001b[38;5;28mself\u001b[39m, cursor, statement, parameters, context\u001b[38;5;241m=\u001b[39m\u001b[38;5;28;01mNone\u001b[39;00m):\n\u001b[0;32m--> 736\u001b[0m     \u001b[43mcursor\u001b[49m\u001b[38;5;241;43m.\u001b[39;49m\u001b[43mexecute\u001b[49m\u001b[43m(\u001b[49m\u001b[43mstatement\u001b[49m\u001b[43m,\u001b[49m\u001b[43m \u001b[49m\u001b[43mparameters\u001b[49m\u001b[43m)\u001b[49m\n",
      "File \u001b[0;32m~/.local/lib/python3.9/site-packages/MySQLdb/cursors.py:206\u001b[0m, in \u001b[0;36mBaseCursor.execute\u001b[0;34m(self, query, args)\u001b[0m\n\u001b[1;32m    203\u001b[0m         \u001b[38;5;28;01mraise\u001b[39;00m ProgrammingError(\u001b[38;5;28mstr\u001b[39m(m))\n\u001b[1;32m    205\u001b[0m \u001b[38;5;28;01massert\u001b[39;00m \u001b[38;5;28misinstance\u001b[39m(query, (\u001b[38;5;28mbytes\u001b[39m, \u001b[38;5;28mbytearray\u001b[39m))\n\u001b[0;32m--> 206\u001b[0m res \u001b[38;5;241m=\u001b[39m \u001b[38;5;28;43mself\u001b[39;49m\u001b[38;5;241;43m.\u001b[39;49m\u001b[43m_query\u001b[49m\u001b[43m(\u001b[49m\u001b[43mquery\u001b[49m\u001b[43m)\u001b[49m\n\u001b[1;32m    207\u001b[0m \u001b[38;5;28;01mreturn\u001b[39;00m res\n",
      "File \u001b[0;32m~/.local/lib/python3.9/site-packages/MySQLdb/cursors.py:319\u001b[0m, in \u001b[0;36mBaseCursor._query\u001b[0;34m(self, q)\u001b[0m\n\u001b[1;32m    317\u001b[0m db \u001b[38;5;241m=\u001b[39m \u001b[38;5;28mself\u001b[39m\u001b[38;5;241m.\u001b[39m_get_db()\n\u001b[1;32m    318\u001b[0m \u001b[38;5;28mself\u001b[39m\u001b[38;5;241m.\u001b[39m_result \u001b[38;5;241m=\u001b[39m \u001b[38;5;28;01mNone\u001b[39;00m\n\u001b[0;32m--> 319\u001b[0m \u001b[43mdb\u001b[49m\u001b[38;5;241;43m.\u001b[39;49m\u001b[43mquery\u001b[49m\u001b[43m(\u001b[49m\u001b[43mq\u001b[49m\u001b[43m)\u001b[49m\n\u001b[1;32m    320\u001b[0m \u001b[38;5;28mself\u001b[39m\u001b[38;5;241m.\u001b[39m_do_get_result(db)\n\u001b[1;32m    321\u001b[0m \u001b[38;5;28mself\u001b[39m\u001b[38;5;241m.\u001b[39m_post_get_result()\n",
      "File \u001b[0;32m~/.local/lib/python3.9/site-packages/MySQLdb/connections.py:254\u001b[0m, in \u001b[0;36mConnection.query\u001b[0;34m(self, query)\u001b[0m\n\u001b[1;32m    252\u001b[0m \u001b[38;5;28;01mif\u001b[39;00m \u001b[38;5;28misinstance\u001b[39m(query, \u001b[38;5;28mbytearray\u001b[39m):\n\u001b[1;32m    253\u001b[0m     query \u001b[38;5;241m=\u001b[39m \u001b[38;5;28mbytes\u001b[39m(query)\n\u001b[0;32m--> 254\u001b[0m \u001b[43m_mysql\u001b[49m\u001b[38;5;241;43m.\u001b[39;49m\u001b[43mconnection\u001b[49m\u001b[38;5;241;43m.\u001b[39;49m\u001b[43mquery\u001b[49m\u001b[43m(\u001b[49m\u001b[38;5;28;43mself\u001b[39;49m\u001b[43m,\u001b[49m\u001b[43m \u001b[49m\u001b[43mquery\u001b[49m\u001b[43m)\u001b[49m\n",
      "\u001b[0;31mIntegrityError\u001b[0m: (raised as a result of Query-invoked autoflush; consider using a session.no_autoflush block if this flush is occurring prematurely)\n(MySQLdb.IntegrityError) (1451, 'Cannot delete or update a parent row: a foreign key constraint fails (`airt_service`.`sso`, CONSTRAINT `sso_ibfk_1` FOREIGN KEY (`username`) REFERENCES `user` (`username`))')\n[SQL: UPDATE user SET username=%s, email=%s, first_name=%s, last_name=%s, sso_signup_trial_username=%s WHERE user.id = %s]\n[parameters: ('John_Doe_qyibuvlpja_945', 'john.doe.qyibuvlpja@gmail.com', 'John', 'Doe', 'qyibuvlpja', 75)]\n(Background on this error at: https://sqlalche.me/e/14/gkpj)"
     ]
    }
   ],
   "source": [
    "with create_sso_user() as user_and_session:\n",
    "    sso_enabled_user = user_and_session[0]\n",
    "    session = user_and_session[1]\n",
    "    \n",
    "    user_info_from_provider = {\n",
    "        \"sub\": \"10111231231233982347423\",\n",
    "        \"name\": f\"John Doe {sso_enabled_user.username}\",\n",
    "        \"given_name\": \"John\",\n",
    "        \"family_name\": \"Doe\",\n",
    "        \"picture\": \"https://lh3.googleusercontent.com/a/someRandomString=s96-c\",\n",
    "        \"email\": f\"john.doe.{sso_enabled_user.username}@gmail.com\",\n",
    "        \"email_verified\": True,\n",
    "        \"locale\": \"en\",\n",
    "    }\n",
    "\n",
    "    update_user_info_in_db(sso_enabled_user.username, user_info_from_provider)\n",
    "    \n",
    "    user = session.exec(select(User).where(User.sso_signup_trial_username == sso_enabled_user.username)).one()\n",
    "    print(user)\n",
    "    \n",
    "    assert user_info_from_provider[\"name\"].replace(\" \", \"_\") in user.username, user.username\n",
    "    assert user.first_name == user_info_from_provider[\"given_name\"]\n",
    "    assert user.last_name == user_info_from_provider[\"family_name\"]\n",
    "    assert user.email == user_info_from_provider[\"email\"]\n",
    "    assert user.sso_signup_trial_username == user.username\n",
    "    \n",
    "    user = session.exec(select(SSO).where(SSO.username == test_username)).one()\n"
   ]
  },
  {
   "cell_type": "code",
   "execution_count": 37,
   "id": "3ad8fac6",
   "metadata": {},
   "outputs": [
    {
     "name": "stdout",
     "output_type": "stream",
     "text": [
      "test_username='dtxcpvbxpv'\n"
     ]
    },
    {
     "ename": "NoResultFound",
     "evalue": "No row was found when one was required",
     "output_type": "error",
     "traceback": [
      "\u001b[0;31m---------------------------------------------------------------------------\u001b[0m",
      "\u001b[0;31mNoResultFound\u001b[0m                             Traceback (most recent call last)",
      "Cell \u001b[0;32mIn[37], line 17\u001b[0m\n\u001b[1;32m      4\u001b[0m \u001b[38;5;28mprint\u001b[39m(\u001b[38;5;124mf\u001b[39m\u001b[38;5;124m\"\u001b[39m\u001b[38;5;132;01m{\u001b[39;00mtest_username\u001b[38;5;132;01m=}\u001b[39;00m\u001b[38;5;124m\"\u001b[39m)\n\u001b[1;32m      6\u001b[0m user_info_from_provider \u001b[38;5;241m=\u001b[39m {\n\u001b[1;32m      7\u001b[0m     \u001b[38;5;124m\"\u001b[39m\u001b[38;5;124msub\u001b[39m\u001b[38;5;124m\"\u001b[39m: \u001b[38;5;124m\"\u001b[39m\u001b[38;5;124m10111231231233982347423\u001b[39m\u001b[38;5;124m\"\u001b[39m,\n\u001b[1;32m      8\u001b[0m     \u001b[38;5;124m\"\u001b[39m\u001b[38;5;124mname\u001b[39m\u001b[38;5;124m\"\u001b[39m: \u001b[38;5;124mf\u001b[39m\u001b[38;5;124m\"\u001b[39m\u001b[38;5;124mJohn Doe \u001b[39m\u001b[38;5;132;01m{\u001b[39;00mtest_username\u001b[38;5;132;01m}\u001b[39;00m\u001b[38;5;124m\"\u001b[39m,\n\u001b[0;32m   (...)\u001b[0m\n\u001b[1;32m     14\u001b[0m     \u001b[38;5;124m\"\u001b[39m\u001b[38;5;124mlocale\u001b[39m\u001b[38;5;124m\"\u001b[39m: \u001b[38;5;124m\"\u001b[39m\u001b[38;5;124men\u001b[39m\u001b[38;5;124m\"\u001b[39m,\n\u001b[1;32m     15\u001b[0m }\n\u001b[0;32m---> 17\u001b[0m \u001b[43mupdate_user_info_in_db\u001b[49m\u001b[43m(\u001b[49m\u001b[43mtest_username\u001b[49m\u001b[43m,\u001b[49m\u001b[43m \u001b[49m\u001b[43muser_info_from_provider\u001b[49m\u001b[43m)\u001b[49m\n\u001b[1;32m     19\u001b[0m \u001b[38;5;28;01mwith\u001b[39;00m get_session_with_context() \u001b[38;5;28;01mas\u001b[39;00m session:\n\u001b[1;32m     20\u001b[0m     user \u001b[38;5;241m=\u001b[39m session\u001b[38;5;241m.\u001b[39mexec(select(User)\u001b[38;5;241m.\u001b[39mwhere(User\u001b[38;5;241m.\u001b[39msso_signup_trial_username \u001b[38;5;241m==\u001b[39m test_username))\u001b[38;5;241m.\u001b[39mone()\n",
      "Cell \u001b[0;32mIn[36], line 28\u001b[0m, in \u001b[0;36mupdate_user_info_in_db\u001b[0;34m(sso_signup_trial_username, user_info_from_provider)\u001b[0m\n\u001b[1;32m     24\u001b[0m     user\u001b[38;5;241m.\u001b[39memail \u001b[38;5;241m=\u001b[39m user_info_from_provider[\u001b[38;5;124m\"\u001b[39m\u001b[38;5;124memail\u001b[39m\u001b[38;5;124m\"\u001b[39m]\n\u001b[1;32m     26\u001b[0m user\u001b[38;5;241m.\u001b[39msso_signup_trial_username \u001b[38;5;241m=\u001b[39m sso_signup_trial_username\n\u001b[0;32m---> 28\u001b[0m sso \u001b[38;5;241m=\u001b[39m \u001b[43msession\u001b[49m\u001b[38;5;241;43m.\u001b[39;49m\u001b[43mexec\u001b[49m\u001b[43m(\u001b[49m\u001b[43mselect\u001b[49m\u001b[43m(\u001b[49m\u001b[43mSSO\u001b[49m\u001b[43m)\u001b[49m\u001b[38;5;241;43m.\u001b[39;49m\u001b[43mwhere\u001b[49m\u001b[43m(\u001b[49m\u001b[43mSSO\u001b[49m\u001b[38;5;241;43m.\u001b[39;49m\u001b[43musername\u001b[49m\u001b[43m \u001b[49m\u001b[38;5;241;43m==\u001b[39;49m\u001b[43m \u001b[49m\u001b[43msso_signup_trial_username\u001b[49m\u001b[43m)\u001b[49m\u001b[43m)\u001b[49m\u001b[38;5;241;43m.\u001b[39;49m\u001b[43mone\u001b[49m\u001b[43m(\u001b[49m\u001b[43m)\u001b[49m\n\u001b[1;32m     29\u001b[0m sso\u001b[38;5;241m.\u001b[39musername \u001b[38;5;241m=\u001b[39m updated_username\n\u001b[1;32m     31\u001b[0m \u001b[38;5;28;01mwith\u001b[39;00m commit_or_rollback(session):\n",
      "File \u001b[0;32m~/.local/lib/python3.9/site-packages/sqlalchemy/engine/result.py:1476\u001b[0m, in \u001b[0;36mScalarResult.one\u001b[0;34m(self)\u001b[0m\n\u001b[1;32m   1468\u001b[0m \u001b[38;5;28;01mdef\u001b[39;00m \u001b[38;5;21mone\u001b[39m(\u001b[38;5;28mself\u001b[39m):\n\u001b[1;32m   1469\u001b[0m \u001b[38;5;250m    \u001b[39m\u001b[38;5;124;03m\"\"\"Return exactly one object or raise an exception.\u001b[39;00m\n\u001b[1;32m   1470\u001b[0m \n\u001b[1;32m   1471\u001b[0m \u001b[38;5;124;03m    Equivalent to :meth:`_result.Result.one` except that\u001b[39;00m\n\u001b[0;32m   (...)\u001b[0m\n\u001b[1;32m   1474\u001b[0m \n\u001b[1;32m   1475\u001b[0m \u001b[38;5;124;03m    \"\"\"\u001b[39;00m\n\u001b[0;32m-> 1476\u001b[0m     \u001b[38;5;28;01mreturn\u001b[39;00m \u001b[38;5;28;43mself\u001b[39;49m\u001b[38;5;241;43m.\u001b[39;49m\u001b[43m_only_one_row\u001b[49m\u001b[43m(\u001b[49m\n\u001b[1;32m   1477\u001b[0m \u001b[43m        \u001b[49m\u001b[43mraise_for_second_row\u001b[49m\u001b[38;5;241;43m=\u001b[39;49m\u001b[38;5;28;43;01mTrue\u001b[39;49;00m\u001b[43m,\u001b[49m\u001b[43m \u001b[49m\u001b[43mraise_for_none\u001b[49m\u001b[38;5;241;43m=\u001b[39;49m\u001b[38;5;28;43;01mTrue\u001b[39;49;00m\u001b[43m,\u001b[49m\u001b[43m \u001b[49m\u001b[43mscalar\u001b[49m\u001b[38;5;241;43m=\u001b[39;49m\u001b[38;5;28;43;01mFalse\u001b[39;49;00m\n\u001b[1;32m   1478\u001b[0m \u001b[43m    \u001b[49m\u001b[43m)\u001b[49m\n",
      "File \u001b[0;32m~/.local/lib/python3.9/site-packages/sqlalchemy/engine/result.py:562\u001b[0m, in \u001b[0;36mResultInternal._only_one_row\u001b[0;34m(self, raise_for_second_row, raise_for_none, scalar)\u001b[0m\n\u001b[1;32m    560\u001b[0m \u001b[38;5;28;01mif\u001b[39;00m row \u001b[38;5;129;01mis\u001b[39;00m \u001b[38;5;28;01mNone\u001b[39;00m:\n\u001b[1;32m    561\u001b[0m     \u001b[38;5;28;01mif\u001b[39;00m raise_for_none:\n\u001b[0;32m--> 562\u001b[0m         \u001b[38;5;28;01mraise\u001b[39;00m exc\u001b[38;5;241m.\u001b[39mNoResultFound(\n\u001b[1;32m    563\u001b[0m             \u001b[38;5;124m\"\u001b[39m\u001b[38;5;124mNo row was found when one was required\u001b[39m\u001b[38;5;124m\"\u001b[39m\n\u001b[1;32m    564\u001b[0m         )\n\u001b[1;32m    565\u001b[0m     \u001b[38;5;28;01melse\u001b[39;00m:\n\u001b[1;32m    566\u001b[0m         \u001b[38;5;28;01mreturn\u001b[39;00m \u001b[38;5;28;01mNone\u001b[39;00m\n",
      "\u001b[0;31mNoResultFound\u001b[0m: No row was found when one was required"
     ]
    }
   ],
   "source": [
    "# Update first time user details.\n",
    "\n",
    "test_username = create_user_for_testing()\n",
    "print(f\"{test_username=}\")\n",
    "\n",
    "user_info_from_provider = {\n",
    "    \"sub\": \"10111231231233982347423\",\n",
    "    \"name\": f\"John Doe {test_username}\",\n",
    "    \"given_name\": \"John\",\n",
    "    \"family_name\": \"Doe\",\n",
    "    \"picture\": \"https://lh3.googleusercontent.com/a/someRandomString=s96-c\",\n",
    "    \"email\": f\"john.doe.{test_username}@gmail.com\",\n",
    "    \"email_verified\": True,\n",
    "    \"locale\": \"en\",\n",
    "}\n",
    "\n",
    "update_user_info_in_db(test_username, user_info_from_provider)\n",
    "\n",
    "with get_session_with_context() as session:\n",
    "    user = session.exec(select(User).where(User.sso_signup_trial_username == test_username)).one()\n",
    "    print(user)\n",
    "    \n",
    "    assert user_info_from_provider[\"name\"].replace(\" \", \"_\") in user.username, user.username\n",
    "    assert user.first_name == user_info_from_provider[\"given_name\"]\n",
    "    assert user.last_name == user_info_from_provider[\"family_name\"]\n",
    "    assert user.email == user_info_from_provider[\"email\"]\n",
    "    assert user.sso_signup_trial_username == test_username\n",
    "    \n",
    "    user = session.exec(select(SSO).where(SSO.username == test_username)).one()"
   ]
  },
  {
   "cell_type": "code",
   "execution_count": null,
   "id": "32d85a2e",
   "metadata": {},
   "outputs": [],
   "source": [
    "# Update existing user details. Only the sso_signup_trial_username field should be updated\n",
    "existing_test_username = create_user_for_testing()\n",
    "print(f\"{existing_test_username=}\")\n",
    "\n",
    "existing_user_info_from_provider = {\n",
    "    \"sub\": \"10111231231233982347423\",\n",
    "    \"name\": f\"John Doe {existing_test_username}\",\n",
    "    \"given_name\": \"John\",\n",
    "    \"family_name\": \"Doe\",\n",
    "    \"picture\": \"https://lh3.googleusercontent.com/a/someRandomString=s96-c\",\n",
    "    \"email\": f\"john.doe.{existing_test_username}@gmail.com\",\n",
    "    \"email_verified\": True,\n",
    "    \"locale\": \"en\",\n",
    "}\n",
    "\n",
    "update_user_info_in_db(existing_test_username, existing_user_info_from_provider)\n",
    "\n",
    "with get_session_with_context() as session:\n",
    "    existing_user = session.exec(select(User).where(User.sso_signup_trial_username == existing_test_username)).one()\n",
    "    print(existing_user)\n",
    "    \n",
    "    assert existing_user_info_from_provider[\"name\"].replace(\" \", \"_\") in existing_user.username, existing_user.username\n",
    "    assert existing_user.first_name == existing_user_info_from_provider[\"given_name\"], existing_user.first_name\n",
    "    assert existing_user.last_name == existing_user_info_from_provider[\"family_name\"], existing_user.last_name\n",
    "    assert existing_user.email == existing_user_info_from_provider[\"email\"], existing_user.email\n",
    "    assert existing_user.sso_signup_trial_username == existing_test_username, existing_user.sso_signup_trial_username\n",
    "\n",
    "# existing user logging next time with same SSO email\n",
    "\n",
    "test_username = create_user_for_testing()\n",
    "print(f\"{test_username=}\")\n",
    "\n",
    "update_user_info_in_db(test_username, existing_user_info_from_provider)\n",
    "\n",
    "with get_session_with_context() as session:\n",
    "    user = session.exec(select(User).where(User.sso_signup_trial_username == test_username)).one()\n",
    "    print(user)\n",
    "    \n",
    "    assert existing_user_info_from_provider[\"name\"].replace(\" \", \"_\") in user.username, user.username\n",
    "    assert user.first_name == existing_user_info_from_provider[\"given_name\"]\n",
    "    assert user.last_name == existing_user_info_from_provider[\"family_name\"]\n",
    "    assert user.email == existing_user_info_from_provider[\"email\"]\n",
    "    assert user.sso_signup_trial_username == test_username\n",
    "    \n",
    "assert user.username == existing_user.username\n",
    "assert user.first_name == existing_user.first_name\n",
    "assert user.last_name == existing_user.last_name\n",
    "assert user.email == existing_user.email\n",
    "assert user.sso_signup_trial_username != existing_user.sso_signup_trial_username"
   ]
  },
  {
   "cell_type": "code",
   "execution_count": null,
   "id": "57558e93",
   "metadata": {},
   "outputs": [],
   "source": [
    "# | export\n",
    "\n",
    "\n",
    "def validate_sso_response(request: Request, sso_provider: str) -> str:\n",
    "    \"\"\"Validate the response from the SSO provider\n",
    "\n",
    "    This function receives the callback from the SSO provider along with the query parameters\n",
    "    and validates it. Finally the corresponding SSO authentication status and the\n",
    "    message is stored in the database\n",
    "\n",
    "    Args:\n",
    "        request: The callback request object\n",
    "        sso_provider: The Name of the SSO provider\n",
    "\n",
    "    Returns:\n",
    "        The text message indicating the status of the SSO authentication to display in the browser.\n",
    "    \"\"\"\n",
    "    sso_protocol_error = None\n",
    "    is_sso_successful = False\n",
    "\n",
    "    # Step 1: get username and nonce from response's state\n",
    "    try:\n",
    "        state = request.query_params[\"state\"]\n",
    "        nonce, username = state.split(\"_\", 1)\n",
    "    except KeyError as e:\n",
    "        raise HTTPException(\n",
    "            status_code=status.HTTP_400_BAD_REQUEST,\n",
    "            detail=ERRORS[\"SSO_CSRF_WARNING\"],\n",
    "        )\n",
    "\n",
    "    # Step 2: Validate and get record from sso protocol table\n",
    "    sso_protocol, sso_email = get_sso_protocol_and_email(username, nonce, sso_provider)\n",
    "\n",
    "    try:\n",
    "        # Step 3: Check if SESSION_TIME_LIMIT exceeded\n",
    "        if (datetime.utcnow() - sso_protocol.created_at) > timedelta(\n",
    "            minutes=SESSION_TIME_LIMIT\n",
    "        ):\n",
    "            sso_protocol_error = ERRORS[\"SSO_SESSION_EXPIRED\"]\n",
    "            raise HTTPException(\n",
    "                status_code=status.HTTP_401_UNAUTHORIZED,\n",
    "                detail=ERRORS[\"SSO_SESSION_EXPIRED\"],\n",
    "            )\n",
    "\n",
    "        # Step 4: get email from SSO provider and validate against our records\n",
    "        user_info_from_provider = get_user_info_from_provider(\n",
    "            url=str(request.url),\n",
    "            nonce_with_username=state,\n",
    "            sso_provider=sso_provider,\n",
    "        )\n",
    "        email_from_provider: str = (\n",
    "            user_info_from_provider[\"email\"]\n",
    "            if sso_provider == \"google\"\n",
    "            else [email[\"email\"] for email in response if email[\"primary\"]][0]\n",
    "        )\n",
    "        if email_from_provider != sso_email and \"captn_trial\" not in username:\n",
    "            sso_protocol_error = ERRORS[\"SSO_EMAIL_NOT_SAME\"]\n",
    "            raise HTTPException(\n",
    "                status_code=status.HTTP_401_UNAUTHORIZED,\n",
    "                detail=ERRORS[\"SSO_EMAIL_NOT_SAME\"],\n",
    "            )\n",
    "    finally:\n",
    "        # Step 5: Update error and is_sso_successful in database\n",
    "        if sso_protocol_error is None:\n",
    "            is_sso_successful = True\n",
    "\n",
    "        with get_session_with_context() as session:\n",
    "            sso_protocol.error = sso_protocol_error\n",
    "            sso_protocol.is_sso_successful = is_sso_successful\n",
    "            session.add(sso_protocol)\n",
    "            session.commit()\n",
    "\n",
    "    if \"captn_trial\" in username:\n",
    "        update_user_info_in_db(username, user_info_from_provider)\n",
    "\n",
    "    return SSO_SUCCESS_MSG"
   ]
  },
  {
   "cell_type": "code",
   "execution_count": null,
   "id": "d22ff2ce",
   "metadata": {},
   "outputs": [],
   "source": [
    "# Negative Scenario: state variable not present in the query param\n",
    "scope = {\n",
    "    \"type\": \"http\",\n",
    "    \"query_string\": {\n",
    "        \"authuser\": \"0\",\n",
    "        \"prompt\": \"consent\",\n",
    "    },\n",
    "}\n",
    "r = Request(scope)\n",
    "with pytest.raises(HTTPException) as e:\n",
    "    validate_sso_response(r, sso_provider=\"google\")\n",
    "assert \"Request check failed\" in e.value.detail, e.value.detail\n",
    "e.value.detail"
   ]
  },
  {
   "cell_type": "code",
   "execution_count": null,
   "id": "647b7d3b",
   "metadata": {},
   "outputs": [],
   "source": [
    "# Negative Scenario: passing invalid user\n",
    "scope = {\n",
    "    \"type\": \"http\",\n",
    "    \"query_string\": {\n",
    "        \"state\": \"dkco0tuhs_user_name\",\n",
    "        \"code\": \"come_code\",\n",
    "        \"scope\": \"email https://www.googleapis.com/auth/userinfo.email openid\",\n",
    "        \"authuser\": \"0\",\n",
    "        \"prompt\": \"consent\",\n",
    "    },\n",
    "}\n",
    "r = Request(scope)\n",
    "with pytest.raises(HTTPException) as e:\n",
    "    validate_sso_response(r, sso_provider=\"google\")\n",
    "assert \"Incorrect username\" in e.value.detail\n",
    "e.value.detail"
   ]
  },
  {
   "cell_type": "code",
   "execution_count": null,
   "id": "f3793760",
   "metadata": {},
   "outputs": [],
   "source": [
    "# Negative Scenario: passing disabled sso provider\n",
    "with create_sso_user(sso_provider=\"github\") as user_and_session:\n",
    "    user = user_and_session[0]\n",
    "    session = user_and_session[1]\n",
    "    scope = {\n",
    "        \"type\": \"http\",\n",
    "        \"query_string\": {\n",
    "            \"state\": f\"dkco0tuhs_{user.username}\",\n",
    "            \"code\": \"come_code\",\n",
    "            \"scope\": \"email https://www.googleapis.com/auth/userinfo.email openid\",\n",
    "            \"authuser\": \"0\",\n",
    "            \"prompt\": \"consent\",\n",
    "        },\n",
    "    }\n",
    "    r = Request(scope)\n",
    "    with pytest.raises(HTTPException) as e:\n",
    "        validate_sso_response(r, sso_provider=\"google\")\n",
    "assert \"SSO is not enabled for the provider\" in e.value.detail\n",
    "e.value.detail"
   ]
  },
  {
   "cell_type": "code",
   "execution_count": null,
   "id": "9eb99f33",
   "metadata": {},
   "outputs": [],
   "source": [
    "# Negative Scenario: CSRF\n",
    "with create_sso_user() as user_and_session:\n",
    "    user = user_and_session[0]\n",
    "    session = user_and_session[1]\n",
    "    scope = {\n",
    "        \"type\": \"http\",\n",
    "        \"query_string\": {\n",
    "            \"state\": f\"dkco0tuhs_{user.username}\",\n",
    "            \"code\": \"come_code\",\n",
    "            \"scope\": \"email https://www.googleapis.com/auth/userinfo.email openid\",\n",
    "            \"authuser\": \"0\",\n",
    "            \"prompt\": \"consent\",\n",
    "        },\n",
    "    }\n",
    "    r = Request(scope)\n",
    "    with pytest.raises(HTTPException) as e:\n",
    "        validate_sso_response(r, sso_provider=\"google\")\n",
    "assert \"CSRF\" in e.value.detail\n",
    "e.value.detail"
   ]
  },
  {
   "cell_type": "code",
   "execution_count": null,
   "id": "b7850ebc",
   "metadata": {},
   "outputs": [],
   "source": []
  }
 ],
 "metadata": {
  "kernelspec": {
   "display_name": "Python 3 (ipykernel)",
   "language": "python",
   "name": "python3"
  },
  "language_info": {
   "codemirror_mode": {
    "name": "ipython",
    "version": 3
   },
   "file_extension": ".py",
   "mimetype": "text/x-python",
   "name": "python",
   "nbconvert_exporter": "python",
   "pygments_lexer": "ipython3",
   "version": "3.9.16"
  }
 },
 "nbformat": 4,
 "nbformat_minor": 5
}
