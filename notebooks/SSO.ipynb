{
 "cells": [
  {
   "cell_type": "raw",
   "id": "b5baca7e",
   "metadata": {},
   "source": [
    "---\n",
    "description: Notebook containing configurations and helper functions for implementing\n",
    "  SSO\n",
    "output-file: sso.html\n",
    "title: SSO\n",
    "\n",
    "---\n",
    "\n"
   ]
  },
  {
   "cell_type": "code",
   "execution_count": null,
   "id": "dfe92975",
   "metadata": {},
   "outputs": [],
   "source": [
    "# | default_exp sso"
   ]
  },
  {
   "cell_type": "code",
   "execution_count": null,
   "id": "ea107adb",
   "metadata": {},
   "outputs": [],
   "source": [
    "# | export\n",
    "\n",
    "import os\n",
    "import secrets\n",
    "from datetime import datetime, timedelta\n",
    "from typing import *\n",
    "\n",
    "import requests\n",
    "from fastapi import HTTPException, Request, status\n",
    "from pydantic import BaseModel\n",
    "from requests_oauthlib import OAuth2Session\n",
    "from sqlalchemy.exc import NoResultFound\n",
    "from sqlmodel import select\n",
    "\n",
    "import airt_service.sanitizer\n",
    "from airt_service.db.models import (\n",
    "    SSO,\n",
    "    SSOProtocol,\n",
    "    SSOProvider,\n",
    "    User,\n",
    "    get_session_with_context,\n",
    ")\n",
    "from airt_service.errors import ERRORS\n",
    "from airt_service.helpers import commit_or_rollback"
   ]
  },
  {
   "cell_type": "code",
   "execution_count": null,
   "id": "51a85a19",
   "metadata": {},
   "outputs": [
    {
     "name": "stdout",
     "output_type": "stream",
     "text": [
      "23-03-10 10:25:12.348 [INFO] airt.executor.subcommand: Module loaded.\n"
     ]
    }
   ],
   "source": [
    "import secrets\n",
    "from contextlib import contextmanager\n",
    "from urllib.parse import parse_qs, urlparse\n",
    "\n",
    "import pytest\n",
    "from sqlmodel import select\n",
    "\n",
    "from airt_service.db.models import (\n",
    "    create_user_for_testing,\n",
    "    get_session,\n",
    "    get_session_with_context,\n",
    ")\n",
    "from airt_service.users import EnableSSORequest, disable_sso, enable_sso"
   ]
  },
  {
   "cell_type": "code",
   "execution_count": null,
   "id": "ce1f60cd",
   "metadata": {},
   "outputs": [],
   "source": [
    "# | exporti\n",
    "\n",
    "# Google APi discovery URL\n",
    "GOOGLE_DISCOVERY_URL = \"https://accounts.google.com/.well-known/openid-configuration\"\n",
    "\n",
    "# constants\n",
    "SSO_SUCCESS_MSG = \"Authentication successful. Please close the browser.\"\n",
    "SESSION_TIME_LIMIT = 10  # mins\n",
    "SSO_CONFIG: Dict[str, Any] = {\n",
    "    \"google\": {\"scope\": [\n",
    "        \"https://www.googleapis.com/auth/userinfo.email\", \n",
    "        \"https://www.googleapis.com/auth/userinfo.profile\",\n",
    "        \"openid\"\n",
    "    ]},\n",
    "    \"github\": {\n",
    "        \"scope\": \"user:email\",\n",
    "        \"authorization_endpoint\": \"https://github.com/login/oauth/authorize\",\n",
    "        \"token_endpoint\": \"https://github.com/login/oauth/access_token\",\n",
    "        \"userinfo_endpoint\": \"https://api.github.com/user/emails\",\n",
    "    },\n",
    "}"
   ]
  },
  {
   "cell_type": "code",
   "execution_count": null,
   "id": "e165de46",
   "metadata": {},
   "outputs": [],
   "source": [
    "# | exporti\n",
    "\n",
    "\n",
    "def _generate_callback_url() -> str:\n",
    "    \"\"\"Generate callback URL for the SSO provider\n",
    "\n",
    "    This is the URL the user will be redirected to after successful user authentication.\n",
    "\n",
    "    Returns:\n",
    "        The generated callback URL\n",
    "    \"\"\"\n",
    "    domain_in_env = os.environ[\"DOMAIN\"]\n",
    "    domain = (\n",
    "        \"http://127.0.0.1:6006\"\n",
    "        if (domain_in_env == \"localhost\" or \"airt-service\" in domain_in_env)\n",
    "        else f\"https://{domain_in_env}\"\n",
    "    )\n",
    "\n",
    "    callback_url = f\"{domain}/sso/callback\"\n",
    "\n",
    "    return callback_url"
   ]
  },
  {
   "cell_type": "code",
   "execution_count": null,
   "id": "12db0fee",
   "metadata": {},
   "outputs": [
    {
     "data": {
      "text/plain": [
       "'http://127.0.0.1:6006/sso/callback'"
      ]
     },
     "metadata": {},
     "output_type": "display_data"
    }
   ],
   "source": [
    "actual = _generate_callback_url()\n",
    "\n",
    "display(actual)\n",
    "assert \"http://127.0.0.1:6006/sso/callback\" == actual"
   ]
  },
  {
   "cell_type": "code",
   "execution_count": null,
   "id": "6ad4152e",
   "metadata": {},
   "outputs": [],
   "source": [
    "@contextmanager\n",
    "def non_local_domain():\n",
    "    try:\n",
    "        actual_domain = os.environ[\"DOMAIN\"]\n",
    "        os.environ[\"DOMAIN\"] = \"not_localhost\"\n",
    "\n",
    "        yield\n",
    "    finally:\n",
    "        os.environ[\"DOMAIN\"] = actual_domain"
   ]
  },
  {
   "cell_type": "code",
   "execution_count": null,
   "id": "8436b49f",
   "metadata": {},
   "outputs": [
    {
     "data": {
      "text/plain": [
       "'https://not_localhost/sso/callback'"
      ]
     },
     "metadata": {},
     "output_type": "display_data"
    }
   ],
   "source": [
    "with non_local_domain():\n",
    "    actual = _generate_callback_url()\n",
    "\n",
    "    display(actual)\n",
    "    assert actual == \"https://not_localhost/sso/callback\""
   ]
  },
  {
   "cell_type": "code",
   "execution_count": null,
   "id": "24a1e9dd",
   "metadata": {},
   "outputs": [],
   "source": [
    "# | exporti\n",
    "\n",
    "\n",
    "def _get_google_provider_cfg(api_uri: Optional[str] = None) -> Union[str, dict]:\n",
    "    \"\"\"Get google's OpenID Connect configuration\n",
    "\n",
    "    This configuration includes the URIs of the authorization, token, revocation, userinfo, and public-keys endpoints.\n",
    "\n",
    "    Args:\n",
    "        api_uri: API endpoint uri to return from the configuration. If not set then the default value **None**\n",
    "            will be used to return all the API uri endpoints.\n",
    "\n",
    "    Returns:\n",
    "        The google's OpenID Connect endpoint(s)\n",
    "    \"\"\"\n",
    "    try:\n",
    "        google_provider_cfg = requests.get(GOOGLE_DISCOVERY_URL).json()\n",
    "    except Exception as e:\n",
    "        raise HTTPException(\n",
    "            status_code=status.HTTP_503_SERVICE_UNAVAILABLE,\n",
    "            detail=ERRORS[\"SERVICE_UNAVAILABLE\"],\n",
    "        )\n",
    "\n",
    "    return google_provider_cfg[api_uri] if api_uri is not None else google_provider_cfg  # type: ignore"
   ]
  },
  {
   "cell_type": "code",
   "execution_count": null,
   "id": "f9d8be47",
   "metadata": {},
   "outputs": [
    {
     "data": {
      "text/plain": [
       "'https://accounts.google.com/o/oauth2/v2/auth'"
      ]
     },
     "metadata": {},
     "output_type": "display_data"
    }
   ],
   "source": [
    "full_cfg = _get_google_provider_cfg()\n",
    "assert \"token_endpoint\" in full_cfg.keys()\n",
    "assert \"authorization_endpoint\" in full_cfg.keys()\n",
    "\n",
    "api_uri = \"authorization_endpoint\"\n",
    "actual = _get_google_provider_cfg(api_uri)\n",
    "display(actual)\n",
    "assert full_cfg[api_uri] == actual"
   ]
  },
  {
   "cell_type": "code",
   "execution_count": null,
   "id": "b18e2db0",
   "metadata": {},
   "outputs": [],
   "source": [
    "# | exporti\n",
    "\n",
    "\n",
    "def _get_authorization_url_and_nonce(\n",
    "    sso_provider: str, username: str, nonce: str\n",
    ") -> Tuple[str, str]:\n",
    "    \"\"\"Get authorization url and nonce\n",
    "\n",
    "    Args:\n",
    "        sso_provider: The name of the sso provider\n",
    "        nonce: cryptographically strong random string\n",
    "        username: username to append in the redirection url\n",
    "\n",
    "    Returns:\n",
    "        The authorization url and the nonce\n",
    "    \"\"\"\n",
    "\n",
    "    callback_url = _generate_callback_url()\n",
    "    nonce_with_username = f\"{nonce}_{username}\"\n",
    "\n",
    "    client = OAuth2Session(\n",
    "        os.environ[f\"{sso_provider.upper()}_CLIENT_ID\"],\n",
    "        scope=SSO_CONFIG[f\"{sso_provider}\"][\"scope\"],\n",
    "        redirect_uri=callback_url,\n",
    "        state=nonce_with_username,\n",
    "    )\n",
    "\n",
    "    authorization_endpoint = (\n",
    "        _get_google_provider_cfg(api_uri=\"authorization_endpoint\")\n",
    "        if sso_provider == \"google\"\n",
    "        else SSO_CONFIG[f\"{sso_provider}\"][\"authorization_endpoint\"]\n",
    "    )\n",
    "\n",
    "    authorization_url, nonce_with_username = client.authorization_url(\n",
    "        authorization_endpoint, prompt=\"select_account\"\n",
    "    )\n",
    "\n",
    "    return authorization_url, nonce_with_username"
   ]
  },
  {
   "cell_type": "code",
   "execution_count": null,
   "id": "58ea7da0",
   "metadata": {},
   "outputs": [
    {
     "data": {
      "text/plain": [
       "'https://accounts.google.com/o/oauth2/v2/auth?response_type=code&client_id=842138153914-6kvm51cpin7iocg3nrsnl44s3d24u047.apps.googleusercontent.com&redirect_uri=http%3A%2F%2F127.0.0.1%3A6006%2Fsso%2Fcallback&scope=https%3A%2F%2Fwww.googleapis.com%2Fauth%2Fuserinfo.email+https%3A%2F%2Fwww.googleapis.com%2Fauth%2Fuserinfo.profile+openid&state=0fd3a4312ecbf54afc4373f56d692010a59993fd2e1dc6454ab0cf4702cf1f4d_random_username&prompt=select_account'"
      ]
     },
     "metadata": {},
     "output_type": "display_data"
    }
   ],
   "source": [
    "sso_provider = \"google\"\n",
    "username = \"random_username\"\n",
    "nonce = secrets.token_hex()\n",
    "authorization_url, nonce_with_username = _get_authorization_url_and_nonce(\n",
    "    sso_provider, username, nonce\n",
    ")\n",
    "\n",
    "parse_result = urlparse(authorization_url)\n",
    "dict_result = parse_qs(parse_result.query)\n",
    "\n",
    "display(authorization_url)\n",
    "\n",
    "api_uri = \"authorization_endpoint\"\n",
    "expected_authorization_base_url = _get_google_provider_cfg(api_uri)\n",
    "\n",
    "assert expected_authorization_base_url in authorization_url\n",
    "assert dict_result[\"state\"][0] == f\"{nonce}_{username}\"\n",
    "assert dict_result[\"redirect_uri\"][0] == _generate_callback_url()"
   ]
  },
  {
   "cell_type": "code",
   "execution_count": null,
   "id": "9e5cb9ad",
   "metadata": {},
   "outputs": [
    {
     "data": {
      "text/plain": [
       "'https://github.com/login/oauth/authorize?response_type=code&client_id=a0f58d9e50375190dbf0&redirect_uri=http%3A%2F%2F127.0.0.1%3A6006%2Fsso%2Fcallback&scope=user%3Aemail&state=6a2d6f2c383776c00733f09d21768ca108dcc6571c8e7ff80e0ec1ca2d8379a4_random_username&prompt=select_account'"
      ]
     },
     "metadata": {},
     "output_type": "display_data"
    }
   ],
   "source": [
    "sso_provider = \"github\"\n",
    "username = \"random_username\"\n",
    "nonce = secrets.token_hex()\n",
    "authorization_url, nonce_with_username = _get_authorization_url_and_nonce(\n",
    "    sso_provider, username, nonce\n",
    ")\n",
    "\n",
    "parse_result = urlparse(authorization_url)\n",
    "dict_result = parse_qs(parse_result.query)\n",
    "\n",
    "display(authorization_url)\n",
    "\n",
    "assert SSO_CONFIG[f\"{sso_provider}\"][\"authorization_endpoint\"] in authorization_url\n",
    "assert dict_result[\"state\"][0] == f\"{nonce}_{username}\"\n",
    "assert dict_result[\"redirect_uri\"][0] == _generate_callback_url()"
   ]
  },
  {
   "cell_type": "code",
   "execution_count": null,
   "id": "ab2bd752",
   "metadata": {},
   "outputs": [],
   "source": [
    "# | export\n",
    "\n",
    "\n",
    "def get_valid_sso_providers() -> List[str]:\n",
    "    \"\"\"Get valid SSO proiders\n",
    "\n",
    "    Returns:\n",
    "        The list of valid SSO providers\n",
    "    \"\"\"\n",
    "    return [e.value for e in SSOProvider]"
   ]
  },
  {
   "cell_type": "code",
   "execution_count": null,
   "id": "0f786e9e",
   "metadata": {},
   "outputs": [
    {
     "data": {
      "text/plain": [
       "['google', 'github']"
      ]
     },
     "execution_count": null,
     "metadata": {},
     "output_type": "execute_result"
    }
   ],
   "source": [
    "actual = get_valid_sso_providers()\n",
    "assert actual == [\"google\", \"github\"]\n",
    "actual"
   ]
  },
  {
   "cell_type": "code",
   "execution_count": null,
   "id": "b799ca23",
   "metadata": {},
   "outputs": [],
   "source": [
    "# | exporti\n",
    "\n",
    "\n",
    "def get_sso_if_enabled_for_user(user_id: int, sso_provider: str) -> Optional[SSO]:\n",
    "    \"\"\"Check if the given sso provider is enabled for the user\n",
    "\n",
    "    Args:\n",
    "        user_id: The user_id for whom the SSO provider status needs be checked\n",
    "        sso_provider: The name of the SSO provider\n",
    "\n",
    "    Returns:\n",
    "        The SSO object if the given sso provider is enabled for the user, else None\n",
    "    \"\"\"\n",
    "    with get_session_with_context() as session:\n",
    "        try:\n",
    "            sso = session.exec(\n",
    "                select(SSO)\n",
    "                .where(SSO.user_id == user_id)\n",
    "                .where(SSO.sso_provider == sso_provider)\n",
    "            ).one()\n",
    "\n",
    "            if sso.disabled:\n",
    "                sso = None\n",
    "\n",
    "        except NoResultFound:\n",
    "            sso = None\n",
    "\n",
    "        return sso  # type: ignore"
   ]
  },
  {
   "cell_type": "code",
   "execution_count": null,
   "id": "2ffdbef8",
   "metadata": {},
   "outputs": [
    {
     "data": {
      "text/plain": [
       "None"
      ]
     },
     "metadata": {},
     "output_type": "display_data"
    }
   ],
   "source": [
    "with get_session_with_context() as session:\n",
    "    user = session.exec(\n",
    "        select(User).where(User.username == create_user_for_testing())\n",
    "    ).one()\n",
    "    sso_provider = \"google\"\n",
    "    actual = get_sso_if_enabled_for_user(user.id, sso_provider)\n",
    "    display(actual)\n",
    "    assert not actual"
   ]
  },
  {
   "cell_type": "code",
   "execution_count": null,
   "id": "481cb6ca",
   "metadata": {},
   "outputs": [],
   "source": [
    "# context manager to create a SSO enabled user for GOOGLE\n",
    "\n",
    "\n",
    "@contextmanager\n",
    "def create_sso_user(\n",
    "    sso_provider: str = \"google\", sso_email: str = \"random_email_id@mail.com\"\n",
    "):\n",
    "    with get_session_with_context() as session:\n",
    "        sso_enabled_user = create_user_for_testing()\n",
    "        user = session.exec(select(User).where(User.username == sso_enabled_user)).one()\n",
    "        try:\n",
    "            enable_sso_request = EnableSSORequest(\n",
    "                sso_provider=sso_provider, sso_email=sso_email\n",
    "            )\n",
    "            actual = enable_sso(\n",
    "                enable_sso_request=enable_sso_request, user=user, session=session\n",
    "            )\n",
    "            display(actual)\n",
    "            yield user, session\n",
    "        finally:\n",
    "            # deactivate User\n",
    "            with commit_or_rollback(session):\n",
    "                user.disabled = True\n",
    "                session.add(user)\n",
    "                session.commit()\n",
    "            assert user.disabled"
   ]
  },
  {
   "cell_type": "code",
   "execution_count": null,
   "id": "86cc40d9",
   "metadata": {},
   "outputs": [
    {
     "data": {
      "text/plain": [
       "SSO()"
      ]
     },
     "metadata": {},
     "output_type": "display_data"
    }
   ],
   "source": [
    "with create_sso_user() as user_and_session:\n",
    "    user = user_and_session[0]\n",
    "    session = user_and_session[1]\n",
    "\n",
    "    sso_provider = \"google\"\n",
    "    actual = get_sso_if_enabled_for_user(user.id, sso_provider)\n",
    "    actual.sso_provider == \"google\"\n",
    "    actual.sso_email == \"random_email_id@mail.com\"\n",
    "    actual"
   ]
  },
  {
   "cell_type": "code",
   "execution_count": null,
   "id": "2b08713f",
   "metadata": {},
   "outputs": [
    {
     "data": {
      "text/plain": [
       "SSO()"
      ]
     },
     "metadata": {},
     "output_type": "display_data"
    },
    {
     "data": {
      "text/plain": [
       "SSO()"
      ]
     },
     "metadata": {},
     "output_type": "display_data"
    },
    {
     "data": {
      "text/plain": [
       "None"
      ]
     },
     "metadata": {},
     "output_type": "display_data"
    }
   ],
   "source": [
    "with create_sso_user() as user_and_session:\n",
    "    user = user_and_session[0]\n",
    "    session = user_and_session[1]\n",
    "    sso_provider = \"google\"\n",
    "    # disable SSO\n",
    "    actual = disable_sso(\n",
    "        user_uuid_or_name=str(user.uuid),\n",
    "        sso_provider=sso_provider,\n",
    "        user=user,\n",
    "        session=session,\n",
    "    )\n",
    "    display(actual)\n",
    "    assert actual.sso_provider == sso_provider\n",
    "    assert actual.user_id == user.id\n",
    "    # Now access the SSO record from db\n",
    "    actual = get_sso_if_enabled_for_user(user.id, sso_provider)\n",
    "    display(actual)\n",
    "    assert not actual"
   ]
  },
  {
   "cell_type": "code",
   "execution_count": null,
   "id": "5406903b",
   "metadata": {},
   "outputs": [],
   "source": [
    "# | export\n",
    "\n",
    "\n",
    "class SSOAuthURL(BaseModel):\n",
    "    \"\"\"A base class for creating authorization URL for the provider\n",
    "\n",
    "    Args:\n",
    "        authorization_url: The generated authorization URL for the provider\n",
    "    \"\"\"\n",
    "\n",
    "    authorization_url: str"
   ]
  },
  {
   "cell_type": "code",
   "execution_count": null,
   "id": "5bc4f397",
   "metadata": {},
   "outputs": [],
   "source": [
    "# | export\n",
    "\n",
    "\n",
    "def initiate_sso_flow(\n",
    "    username: str, sso_provider: str, nonce: str, sso: SSO\n",
    ") -> SSOAuthURL:\n",
    "    \"\"\"Initiate SSO flow and return provider authorization URL\n",
    "\n",
    "    Args:\n",
    "        username: Username as a string\n",
    "        sso_provider: The name of the SSO provider\n",
    "        nonce: A cryptographically strong random string\n",
    "        sso: SSO object in session\n",
    "\n",
    "    Returns:\n",
    "        The authorization URL for the SSO provider\n",
    "    \"\"\"\n",
    "    # Step 1: Generate authorization_url with username and nonce added to the query params\n",
    "    authorization_url, nonce_with_username = _get_authorization_url_and_nonce(\n",
    "        sso_provider, username, nonce\n",
    "    )\n",
    "\n",
    "    # Step 2: store the nonce and created_at in the sso_protocol table\n",
    "    with get_session_with_context() as session:\n",
    "        sso_protocol = SSOProtocol(**dict(nonce=nonce, created_at=datetime.utcnow()))\n",
    "        sso_protocol.sso = session.merge(sso)\n",
    "        session.add(sso_protocol)\n",
    "        session.commit()\n",
    "\n",
    "    # Step 3: return the redirect URL to the user\n",
    "    return SSOAuthURL(authorization_url=authorization_url)"
   ]
  },
  {
   "cell_type": "code",
   "execution_count": null,
   "id": "baed66d7",
   "metadata": {},
   "outputs": [
    {
     "data": {
      "text/plain": [
       "SSO()"
      ]
     },
     "metadata": {},
     "output_type": "display_data"
    },
    {
     "data": {
      "text/plain": [
       "SSOAuthURL(authorization_url='https://accounts.google.com/o/oauth2/v2/auth?response_type=code&client_id=842138153914-6kvm51cpin7iocg3nrsnl44s3d24u047.apps.googleusercontent.com&redirect_uri=http%3A%2F%2F127.0.0.1%3A6006%2Fsso%2Fcallback&scope=https%3A%2F%2Fwww.googleapis.com%2Fauth%2Fuserinfo.email+https%3A%2F%2Fwww.googleapis.com%2Fauth%2Fuserinfo.profile+openid&state=a6c16476592868111d68f0885e54f66b2934a063d63a620e58c732ce25b3f0ca_vkylrpnbch&prompt=select_account')"
      ]
     },
     "metadata": {},
     "output_type": "display_data"
    },
    {
     "data": {
      "text/plain": [
       "SSOAuthURL(authorization_url='https://accounts.google.com/o/oauth2/v2/auth?response_type=code&client_id=842138153914-6kvm51cpin7iocg3nrsnl44s3d24u047.apps.googleusercontent.com&redirect_uri=http%3A%2F%2F127.0.0.1%3A6006%2Fsso%2Fcallback&scope=https%3A%2F%2Fwww.googleapis.com%2Fauth%2Fuserinfo.email+https%3A%2F%2Fwww.googleapis.com%2Fauth%2Fuserinfo.profile+openid&state=340dc3ad383f0be8c73a14fdce752d69160a43b1f88630391a132a8a85e8d785_vkylrpnbch&prompt=select_account')"
      ]
     },
     "metadata": {},
     "output_type": "display_data"
    },
    {
     "data": {
      "text/plain": [
       "SSOAuthURL(authorization_url='https://accounts.google.com/o/oauth2/v2/auth?response_type=code&client_id=842138153914-6kvm51cpin7iocg3nrsnl44s3d24u047.apps.googleusercontent.com&redirect_uri=http%3A%2F%2F127.0.0.1%3A6006%2Fsso%2Fcallback&scope=https%3A%2F%2Fwww.googleapis.com%2Fauth%2Fuserinfo.email+https%3A%2F%2Fwww.googleapis.com%2Fauth%2Fuserinfo.profile+openid&state=7825f9203f580fc8a565d5d9b2c77951826e1b0ddeb71909c3241c660c166e3c_vkylrpnbch&prompt=select_account')"
      ]
     },
     "metadata": {},
     "output_type": "display_data"
    },
    {
     "data": {
      "text/plain": [
       "SSOProtocol(id=103, created_at=datetime.datetime(2023, 3, 10, 10, 25, 15), error=None, is_sso_successful=False, nonce='7825f9203f580fc8a565d5d9b2c77951826e1b0ddeb71909c3241c660c166e3c', sso_id=380)"
      ]
     },
     "metadata": {},
     "output_type": "display_data"
    }
   ],
   "source": [
    "with create_sso_user() as user_and_session:\n",
    "    user = user_and_session[0]\n",
    "    session = user_and_session[1]\n",
    "    sso_provider = \"google\"\n",
    "\n",
    "    sso = get_sso_if_enabled_for_user(user.id, sso_provider)\n",
    "    nonce = secrets.token_hex()\n",
    "    actual = initiate_sso_flow(user.username, sso_provider, sso=sso, nonce=nonce)\n",
    "    display(actual)\n",
    "    assert f\"{nonce}_{user.username}\" in actual.authorization_url\n",
    "\n",
    "    sso = get_sso_if_enabled_for_user(user.id, sso_provider)\n",
    "    nonce = secrets.token_hex()\n",
    "    actual = initiate_sso_flow(user.username, sso_provider, sso=sso, nonce=nonce)\n",
    "    display(actual)\n",
    "    assert f\"{nonce}_{user.username}\" in actual.authorization_url\n",
    "\n",
    "    sso = get_sso_if_enabled_for_user(user.id, sso_provider)\n",
    "    nonce = secrets.token_hex()\n",
    "    actual = initiate_sso_flow(user.username, sso_provider, sso=sso, nonce=nonce)\n",
    "    display(actual)\n",
    "    assert f\"{nonce}_{user.username}\" in actual.authorization_url\n",
    "\n",
    "    # check if the record exists in DB\n",
    "    sso = get_sso_if_enabled_for_user(user.id, sso_provider)\n",
    "    with get_session_with_context() as session:\n",
    "        sso_protocol = session.exec(\n",
    "            select(SSOProtocol)\n",
    "            .where(SSOProtocol.sso_id == sso.id)\n",
    "            .where(SSOProtocol.nonce == nonce)\n",
    "        ).one()\n",
    "    display(sso_protocol)"
   ]
  },
  {
   "cell_type": "code",
   "execution_count": null,
   "id": "3c1eb71e",
   "metadata": {},
   "outputs": [
    {
     "data": {
      "text/plain": [
       "SSO()"
      ]
     },
     "metadata": {},
     "output_type": "display_data"
    },
    {
     "data": {
      "text/plain": [
       "SSOAuthURL(authorization_url='https://github.com/login/oauth/authorize?response_type=code&client_id=a0f58d9e50375190dbf0&redirect_uri=http%3A%2F%2F127.0.0.1%3A6006%2Fsso%2Fcallback&scope=user%3Aemail&state=284d99c8b1eb5a08031b2ac4086fe5c955f5c3d0448afb60adf132b947c685da_ehxgpbhhfv&prompt=select_account')"
      ]
     },
     "metadata": {},
     "output_type": "display_data"
    }
   ],
   "source": [
    "sso_provider = \"github\"\n",
    "sso_email = \"random.mail@gmail.com\"\n",
    "with create_sso_user(\n",
    "    sso_provider=sso_provider, sso_email=sso_email\n",
    ") as user_and_session:\n",
    "    user = user_and_session[0]\n",
    "    session = user_and_session[1]\n",
    "    sso_provider = sso_provider\n",
    "\n",
    "    sso = get_sso_if_enabled_for_user(user.id, sso_provider)\n",
    "    nonce = secrets.token_hex()\n",
    "    actual = initiate_sso_flow(user.username, sso_provider, sso=sso, nonce=nonce)\n",
    "    display(actual)\n",
    "    assert f\"{nonce}_{user.username}\" in actual.authorization_url"
   ]
  },
  {
   "cell_type": "code",
   "execution_count": null,
   "id": "510f939c",
   "metadata": {},
   "outputs": [
    {
     "data": {
      "text/plain": [
       "SSO()"
      ]
     },
     "metadata": {},
     "output_type": "display_data"
    },
    {
     "data": {
      "text/plain": [
       "SSOAuthURL(authorization_url='https://github.com/login/oauth/authorize?response_type=code&client_id=a0f58d9e50375190dbf0&redirect_uri=http%3A%2F%2F127.0.0.1%3A6006%2Fsso%2Fcallback&scope=user%3Aemail&state=c6d073e6abf26b565ccbe650db1f84898fd5482eb61c372eb2ebdd61e7ab08b1_vkaegidcoy&prompt=select_account')"
      ]
     },
     "metadata": {},
     "output_type": "display_data"
    },
    {
     "data": {
      "text/plain": [
       "SSO(disabled=False, sso_email='random.mail@gmail.com', user_id=1057, sso_provider=<SSOProvider.github: 'github'>, id=382)"
      ]
     },
     "metadata": {},
     "output_type": "display_data"
    },
    {
     "data": {
      "text/plain": [
       "SSOProtocol(id=105, created_at=datetime.datetime(2023, 3, 10, 10, 25, 16), error=None, is_sso_successful=False, nonce='c6d073e6abf26b565ccbe650db1f84898fd5482eb61c372eb2ebdd61e7ab08b1', sso_id=382)"
      ]
     },
     "metadata": {},
     "output_type": "display_data"
    }
   ],
   "source": [
    "sso_provider = \"github\"\n",
    "sso_email = \"random.mail@gmail.com\"\n",
    "with create_sso_user(\n",
    "    sso_provider=sso_provider, sso_email=sso_email\n",
    ") as user_and_session:\n",
    "    user = user_and_session[0]\n",
    "    session = user_and_session[1]\n",
    "\n",
    "    sso = get_sso_if_enabled_for_user(user.id, sso_provider)\n",
    "    nonce = secrets.token_hex()\n",
    "    actual = initiate_sso_flow(user.username, sso_provider, sso=sso, nonce=nonce)\n",
    "    display(actual)\n",
    "    assert f\"{nonce}_{user.username}\" in actual.authorization_url\n",
    "    assert (\n",
    "        SSO_CONFIG[f\"{sso_provider}\"][\"authorization_endpoint\"]\n",
    "        in actual.authorization_url\n",
    "    )\n",
    "\n",
    "    # check if the record exists in DB\n",
    "    sso = get_sso_if_enabled_for_user(user.id, sso_provider)\n",
    "    with get_session_with_context() as session:\n",
    "        sso_protocol = session.exec(\n",
    "            select(SSOProtocol)\n",
    "            .where(SSOProtocol.sso_id == sso.id)\n",
    "            .where(SSOProtocol.nonce == nonce)\n",
    "        ).one()\n",
    "    display(sso)\n",
    "    display(sso_protocol)"
   ]
  },
  {
   "cell_type": "code",
   "execution_count": null,
   "id": "7dedee8c",
   "metadata": {},
   "outputs": [],
   "source": [
    "# | exporti\n",
    "\n",
    "\n",
    "def _get_token_and_user_url(sso_provider: str) -> Tuple[str, str]:\n",
    "    \"\"\"Get token and the user info URL endpoints for the given provider\n",
    "\n",
    "    Args:\n",
    "        sso_provider: Name of the SSO provider\n",
    "\n",
    "    Returns:\n",
    "        The token and the user info URL endpoints for the given provider\n",
    "    \"\"\"\n",
    "    if sso_provider == \"google\":\n",
    "        token_endpoint = _get_google_provider_cfg(api_uri=\"token_endpoint\")\n",
    "        userinfo_endpoint = _get_google_provider_cfg(api_uri=\"userinfo_endpoint\")\n",
    "    else:\n",
    "        token_endpoint = SSO_CONFIG[f\"{sso_provider}\"][\"token_endpoint\"]\n",
    "        userinfo_endpoint = SSO_CONFIG[f\"{sso_provider}\"][\"userinfo_endpoint\"]\n",
    "\n",
    "    return token_endpoint, userinfo_endpoint  # type: ignore"
   ]
  },
  {
   "cell_type": "code",
   "execution_count": null,
   "id": "cc8cacb4",
   "metadata": {},
   "outputs": [
    {
     "data": {
      "text/plain": [
       "'https://oauth2.googleapis.com/token'"
      ]
     },
     "metadata": {},
     "output_type": "display_data"
    },
    {
     "data": {
      "text/plain": [
       "'https://openidconnect.googleapis.com/v1/userinfo'"
      ]
     },
     "metadata": {},
     "output_type": "display_data"
    }
   ],
   "source": [
    "sso_provider = \"google\"\n",
    "token_endpoint, userinfo_endpoint = _get_token_and_user_url(sso_provider)\n",
    "display(token_endpoint)\n",
    "display(userinfo_endpoint)\n",
    "\n",
    "assert \"/token\" in token_endpoint\n",
    "assert \"/userinfo\" in userinfo_endpoint"
   ]
  },
  {
   "cell_type": "code",
   "execution_count": null,
   "id": "40ab59ec",
   "metadata": {},
   "outputs": [
    {
     "data": {
      "text/plain": [
       "'https://github.com/login/oauth/access_token'"
      ]
     },
     "metadata": {},
     "output_type": "display_data"
    },
    {
     "data": {
      "text/plain": [
       "'https://api.github.com/user/emails'"
      ]
     },
     "metadata": {},
     "output_type": "display_data"
    }
   ],
   "source": [
    "sso_provider = \"github\"\n",
    "token_endpoint, userinfo_endpoint = _get_token_and_user_url(sso_provider)\n",
    "display(token_endpoint)\n",
    "display(userinfo_endpoint)\n",
    "\n",
    "assert SSO_CONFIG[f\"{sso_provider}\"][\"token_endpoint\"] == token_endpoint\n",
    "assert SSO_CONFIG[f\"{sso_provider}\"][\"userinfo_endpoint\"] == userinfo_endpoint"
   ]
  },
  {
   "cell_type": "code",
   "execution_count": null,
   "id": "e9b0141b",
   "metadata": {},
   "outputs": [],
   "source": [
    "# | exporti\n",
    "\n",
    "\n",
    "def get_user_info_from_provider(\n",
    "    url: str, nonce_with_username: str, sso_provider: str\n",
    ") -> Union[Dict[str, Any], List[Dict[str, Any]]]:\n",
    "    \"\"\"Get user info from the provider\n",
    "\n",
    "    This function exchanges the authorization code in the response for an access token\n",
    "    to access user details from the provider.\n",
    "\n",
    "    Args:\n",
    "        url: callback url from google\n",
    "        nonce_with_username: The nonce created by the client along with the username\n",
    "        sso_provider: Name of the SSO provider\n",
    "\n",
    "    Returns:\n",
    "        The user's information registered with the SSO provider\n",
    "    \"\"\"\n",
    "    redirect_uri = _generate_callback_url()\n",
    "    client = OAuth2Session(\n",
    "        os.environ[f\"{sso_provider.upper()}_CLIENT_ID\"],\n",
    "        state=nonce_with_username,\n",
    "        redirect_uri=redirect_uri,\n",
    "    )\n",
    "\n",
    "    token_endpoint, userinfo_endpoint = _get_token_and_user_url(sso_provider)\n",
    "    try:\n",
    "        token = client.fetch_token(\n",
    "            token_endpoint,\n",
    "            client_secret=os.environ[f\"{sso_provider.upper()}_CLIENT_SECRET\"],\n",
    "            authorization_response=url,\n",
    "        )\n",
    "    except Exception as e:\n",
    "        raise HTTPException(\n",
    "            status_code=status.HTTP_400_BAD_REQUEST,\n",
    "            detail=ERRORS[\"SSO_CSRF_WARNING\"],\n",
    "        )\n",
    "\n",
    "    response: Union[Dict[str, Any], List[Dict[str, Any]]] = client.get(\n",
    "        userinfo_endpoint\n",
    "    ).json()\n",
    "    return response"
   ]
  },
  {
   "cell_type": "code",
   "execution_count": null,
   "id": "1dba33b7",
   "metadata": {},
   "outputs": [
    {
     "data": {
      "text/plain": [
       "'Request check failed: State not equal in request and response. For your protection, access to this resource is secured against CSRF. Please re-generate the authentication URL and initiate the SSO login process again.'"
      ]
     },
     "execution_count": null,
     "metadata": {},
     "output_type": "execute_result"
    }
   ],
   "source": [
    "url = \"/sso/google/callback?state=a1b2c3_random_username&code=123456&scope=email+https%3A%2F%2Fwww.googleapis.com%2Fauth%2Fuserinfo.email+openid&authuser=0&prompt=none\"\n",
    "sso_provider = \"google\"\n",
    "nonce_with_username = \"a1b2c3_random_username\"\n",
    "with pytest.raises(HTTPException) as e:\n",
    "    get_user_info_from_provider(url, nonce_with_username, sso_provider)\n",
    "\n",
    "err = str(e.value.detail)\n",
    "assert \"Request check failed\" in err, err\n",
    "err"
   ]
  },
  {
   "cell_type": "code",
   "execution_count": null,
   "id": "abd2bbf8",
   "metadata": {},
   "outputs": [],
   "source": [
    "# | export\n",
    "\n",
    "\n",
    "def get_sso_protocol_and_email(\n",
    "    username: str, nonce: str, sso_provider: str\n",
    ") -> Tuple[SSOProtocol, str]:\n",
    "    \"\"\"Get SSO protocol and SSO email details\n",
    "\n",
    "    Args:\n",
    "        username: username to append in the redirection url\n",
    "        nonce: cryptographically strong random string\n",
    "        sso_provider: Name of the SSO provider\n",
    "\n",
    "    Returns:\n",
    "        The record from sso protocol table and the email address used to enable the sso provider\n",
    "\n",
    "    Raises:\n",
    "        HTTPException: If the username is incorrect\n",
    "        HTTPException: If the SSO is not yet enabled for the provider\n",
    "        HTTPException: If the received in the callback didn't match\n",
    "        HTTPException: If the session is timed out\n",
    "        HTTPException: If the email address used for SSO authentication didn't match with the one used while enabling the SSO\n",
    "    \"\"\"\n",
    "    # Step 1: Check if username exists\n",
    "    with get_session_with_context() as session:\n",
    "        try:\n",
    "            user = session.exec(select(User).where(User.username == username)).one()\n",
    "        except NoResultFound:\n",
    "            raise HTTPException(\n",
    "                status_code=status.HTTP_400_BAD_REQUEST,\n",
    "                detail=ERRORS[\"INCORRECT_USERNAME\"],\n",
    "            )\n",
    "    # Step 2: Check if the sso provider is enabled for the user\n",
    "    sso = get_sso_if_enabled_for_user(user.id, sso_provider)\n",
    "    if sso is None:\n",
    "        raise HTTPException(\n",
    "            status_code=status.HTTP_400_BAD_REQUEST,\n",
    "            detail=ERRORS[\"SSO_NOT_ENABLED_FOR_SERVICE\"],\n",
    "        )\n",
    "\n",
    "    # Step 3: Check if sso_protocol table has a record\n",
    "    with get_session_with_context() as session:\n",
    "        try:\n",
    "            sso_protocol = session.exec(\n",
    "                select(SSOProtocol)\n",
    "                .where(SSOProtocol.sso_id == sso.id)\n",
    "                .where(SSOProtocol.nonce == nonce)\n",
    "            ).one()\n",
    "        except NoResultFound:\n",
    "            raise HTTPException(\n",
    "                status_code=status.HTTP_401_UNAUTHORIZED,\n",
    "                detail=ERRORS[\"SSO_CSRF_WARNING\"],\n",
    "            )\n",
    "\n",
    "    # Step 4: Check if the sso_protocol already has errored out\n",
    "    if sso_protocol.error is not None:\n",
    "        raise HTTPException(\n",
    "            status_code=status.HTTP_401_UNAUTHORIZED,\n",
    "            detail=sso_protocol.error,\n",
    "        )\n",
    "\n",
    "    return sso_protocol, sso.sso_email"
   ]
  },
  {
   "cell_type": "code",
   "execution_count": null,
   "id": "2387f22f",
   "metadata": {},
   "outputs": [
    {
     "data": {
      "text/plain": [
       "'Incorrect username. Please try again.'"
      ]
     },
     "execution_count": null,
     "metadata": {},
     "output_type": "execute_result"
    }
   ],
   "source": [
    "sso_provider = \"google\"\n",
    "invalid_nonce = \"invalid_nonce\"\n",
    "invalid_username = \"invalid_username\"\n",
    "with pytest.raises(HTTPException) as e:\n",
    "    get_sso_protocol_and_email(\n",
    "        username=invalid_username, nonce=invalid_nonce, sso_provider=sso_provider\n",
    "    )\n",
    "assert \"Incorrect username\" in e.value.detail\n",
    "e.value.detail"
   ]
  },
  {
   "cell_type": "code",
   "execution_count": null,
   "id": "525b858d",
   "metadata": {},
   "outputs": [
    {
     "data": {
      "text/plain": [
       "SSO()"
      ]
     },
     "metadata": {},
     "output_type": "display_data"
    },
    {
     "data": {
      "text/plain": [
       "'SSO is not enabled for the provider.'"
      ]
     },
     "execution_count": null,
     "metadata": {},
     "output_type": "execute_result"
    }
   ],
   "source": [
    "with create_sso_user() as user_and_session:\n",
    "    user = user_and_session[0]\n",
    "    session = user_and_session[1]\n",
    "    sso_provider = \"github\"\n",
    "    invalid_nonce = \"invalid_nonce\"\n",
    "    with pytest.raises(HTTPException) as e:\n",
    "        get_sso_protocol_and_email(\n",
    "            username=user.username, nonce=invalid_nonce, sso_provider=sso_provider\n",
    "        )\n",
    "assert \"SSO is not enabled for the provider.\" in e.value.detail\n",
    "e.value.detail"
   ]
  },
  {
   "cell_type": "code",
   "execution_count": null,
   "id": "e9e22727",
   "metadata": {},
   "outputs": [
    {
     "data": {
      "text/plain": [
       "SSO()"
      ]
     },
     "metadata": {},
     "output_type": "display_data"
    },
    {
     "data": {
      "text/plain": [
       "'Request check failed: State not equal in request and response. For your protection, access to this resource is secured against CSRF. Please re-generate the authentication URL and initiate the SSO login process again.'"
      ]
     },
     "execution_count": null,
     "metadata": {},
     "output_type": "execute_result"
    }
   ],
   "source": [
    "with create_sso_user() as user_and_session:\n",
    "    user = user_and_session[0]\n",
    "    session = user_and_session[1]\n",
    "    sso_provider = \"google\"\n",
    "    invalid_nonce = \"invalid_nonce\"\n",
    "    with pytest.raises(HTTPException) as e:\n",
    "        get_sso_protocol_and_email(\n",
    "            username=user.username, nonce=invalid_nonce, sso_provider=sso_provider\n",
    "        )\n",
    "assert \"Request check failed:\" in e.value.detail\n",
    "e.value.detail"
   ]
  },
  {
   "cell_type": "code",
   "execution_count": null,
   "id": "3343d8ab",
   "metadata": {},
   "outputs": [],
   "source": [
    "# | export\n",
    "\n",
    "def update_user_id_in_sso_table(trial_sso_username: str, user_id_to_update: int) -> None:\n",
    "    \"\"\"Update the user_id in the SSO table\n",
    "    \n",
    "    Args:\n",
    "        trial_sso_username: Name of the trial SSO user\n",
    "        user_id_to_update: User id to update in the SSO table\n",
    "        \n",
    "    Raises:\n",
    "        HTTPException: If the username is incorrect or no records found for the user in the SSO table\n",
    "    \"\"\"\n",
    "    with get_session_with_context() as session:\n",
    "        try:\n",
    "            trial_sso_user = session.exec(\n",
    "                select(User).where(User.username == trial_sso_username)\n",
    "            ).one()\n",
    "            sso = session.exec(\n",
    "                select(SSO).where(SSO.user_id == trial_sso_user.id)\n",
    "            ).one()\n",
    "        \n",
    "        except NoResultFound:\n",
    "            raise HTTPException(\n",
    "                status_code=status.HTTP_400_BAD_REQUEST,\n",
    "                detail=ERRORS[\"SSO_GENERIC_ERROR\"],\n",
    "            )\n",
    "        \n",
    "        sso.user_id = user_id_to_update\n",
    "        with commit_or_rollback(session):\n",
    "            session.add(sso)\n"
   ]
  },
  {
   "cell_type": "code",
   "execution_count": null,
   "id": "1a7795ed",
   "metadata": {},
   "outputs": [
    {
     "data": {
      "text/plain": [
       "SSO()"
      ]
     },
     "metadata": {},
     "output_type": "display_data"
    },
    {
     "name": "stdout",
     "output_type": "stream",
     "text": [
      "test_user.id=1064\n",
      "sso.user_id=1064\n"
     ]
    }
   ],
   "source": [
    "with create_sso_user() as user_and_session:\n",
    "    sso_enabled_user = user_and_session[0]\n",
    "    session = user_and_session[1]\n",
    "    session.exec(select(SSO).where(SSO.user_id == sso_enabled_user.id)).one()\n",
    "\n",
    "with get_session_with_context() as session:\n",
    "    test_username = create_user_for_testing()\n",
    "    test_user = session.exec(select(User).where(User.username == test_username)).one()\n",
    "    assert not session.exec(select(SSO).where(SSO.user_id == test_user.id)).first()\n",
    "    \n",
    "    print(f\"{test_user.id=}\")\n",
    "    update_user_id_in_sso_table(sso_enabled_user.username, test_user.id)\n",
    "\n",
    "with get_session_with_context() as session:\n",
    "    sso = session.exec(select(SSO).where(SSO.user_id == test_user.id)).one()\n",
    "    print(f\"{sso.user_id=}\")"
   ]
  },
  {
   "cell_type": "code",
   "execution_count": null,
   "id": "68e69ffd",
   "metadata": {},
   "outputs": [
    {
     "name": "stdout",
     "output_type": "stream",
     "text": [
      "Something went wrong. Please re-generate the authentication URL and initiate the SSO login process again.\n"
     ]
    }
   ],
   "source": [
    "with pytest.raises(HTTPException) as e:\n",
    "    with get_session_with_context() as session:\n",
    "        test_username = create_user_for_testing()\n",
    "        test_user = session.exec(select(User).where(User.username == test_username)).one()\n",
    "        assert not session.exec(select(SSO).where(SSO.user_id == test_user.id)).first()\n",
    "\n",
    "        invalid_username = \"invalid_username\"\n",
    "        update_user_id_in_sso_table(invalid_username, test_user.id)\n",
    "\n",
    "print(e.value.detail)"
   ]
  },
  {
   "cell_type": "code",
   "execution_count": null,
   "id": "0ca9d493",
   "metadata": {},
   "outputs": [],
   "source": [
    "# | export\n",
    "\n",
    "\n",
    "def disable_trial_user(username: str) -> None:\n",
    "    \"\"\"Disable the trial user\n",
    "    \n",
    "    Args:\n",
    "        username: Username of the user to disable \n",
    "    \"\"\"\n",
    "    with get_session_with_context() as session:\n",
    "        user = session.exec(select(User).where(User.username == username)).one()\n",
    "        user.disabled = True\n",
    "        with commit_or_rollback(session):\n",
    "            session.add(user)"
   ]
  },
  {
   "cell_type": "code",
   "execution_count": null,
   "id": "caa346a0",
   "metadata": {},
   "outputs": [
    {
     "name": "stdout",
     "output_type": "stream",
     "text": [
      "test_user.disabled=False\n",
      "test_user.disabled=True\n"
     ]
    }
   ],
   "source": [
    "with get_session_with_context() as session:\n",
    "    test_username = create_user_for_testing()\n",
    "    test_user = session.exec(select(User).where(User.username == test_username)).one()\n",
    "    print(f\"{test_user.disabled=}\")\n",
    "    assert not test_user.disabled\n",
    "    \n",
    "disable_trial_user(test_username)\n",
    "\n",
    "with get_session_with_context() as session:\n",
    "    test_user = session.exec(select(User).where(User.username == test_username)).one()\n",
    "    print(f\"{test_user.disabled=}\")\n",
    "    assert test_user.disabled"
   ]
  },
  {
   "cell_type": "code",
   "execution_count": null,
   "id": "2a780dcb",
   "metadata": {},
   "outputs": [],
   "source": [
    "# | export\n",
    "\n",
    "\n",
    "def update_user_info_in_db(\n",
    "    sso_signup_trial_username: str,\n",
    "    user_info_from_provider: Dict[str, str],\n",
    ") -> None:\n",
    "    \"\"\"Update user information retrived from an external SSO provider in the database.\n",
    "\n",
    "    Args:\n",
    "        sso_signup_trial_username: The username of the SSO signup trial user.\n",
    "        user_info_from_provider: User information retrieved from an external SSO provider.\n",
    "    \"\"\"\n",
    "    existing_user = False\n",
    "    with get_session_with_context() as session:\n",
    "        try:\n",
    "            user = session.exec(\n",
    "                select(User).where(User.email == user_info_from_provider[\"email\"])\n",
    "            ).one()\n",
    "            \n",
    "            existing_user = True\n",
    "            update_user_id_in_sso_table(sso_signup_trial_username, user.id)\n",
    "\n",
    "        except NoResultFound:\n",
    "            user = session.exec(\n",
    "                select(User).where(User.username == sso_signup_trial_username)\n",
    "            ).one()\n",
    "\n",
    "            random_number = secrets.SystemRandom().randint(0, 1000)\n",
    "            updated_username = f'{user_info_from_provider[\"name\"].replace(\" \", \"_\").lower()}_{random_number}'\n",
    "            \n",
    "            user.username = updated_username\n",
    "            user.first_name = user_info_from_provider[\"given_name\"]\n",
    "            user.last_name = user_info_from_provider[\"family_name\"]\n",
    "            user.email = user_info_from_provider[\"email\"]\n",
    "\n",
    "        user.sso_signup_trial_username = sso_signup_trial_username\n",
    "        \n",
    "        with commit_or_rollback(session):\n",
    "            session.add(user)\n",
    "            \n",
    "        # disable the trial user\n",
    "        if existing_user:\n",
    "            disable_trial_user(sso_signup_trial_username)"
   ]
  },
  {
   "cell_type": "code",
   "execution_count": null,
   "id": "3ad8fac6",
   "metadata": {},
   "outputs": [
    {
     "data": {
      "text/plain": [
       "SSO()"
      ]
     },
     "metadata": {},
     "output_type": "display_data"
    },
    {
     "name": "stdout",
     "output_type": "stream",
     "text": [
      "subscription_type=<SubscriptionType.test: 'test'> disabled=False phone_number=None mfa_secret=None first_name='John' is_mfa_active=False last_name='Doe' created=datetime.datetime(2023, 3, 10, 10, 25, 18) email='john.doe.goyjcmchle@gmail.com' super_user=False is_phone_number_verified=False id=1069 sso_signup_trial_username='goyjcmchle' username='john_doe_goyjcmchle_100' uuid=UUID('4f242577-f3d1-4642-a016-04054475497f') password='$2b$12$X0brzJZ5lPrrKvUc9K4Qw.Kf2Lanysvk4MTKTt630HVcjdXGib04m'\n",
      "\n",
      "disabled=False sso_email='random_email_id@mail.com' user_id=1069 sso_provider=<SSOProvider.google: 'google'> id=391\n"
     ]
    }
   ],
   "source": [
    "# Update first time user details.\n",
    "with create_sso_user() as user_and_session:\n",
    "    sso_enabled_user = user_and_session[0]\n",
    "    session = user_and_session[1]\n",
    "\n",
    "    user_info_from_provider = {\n",
    "        \"sub\": \"10111231231233982347423\",\n",
    "        \"name\": f\"John Doe {sso_enabled_user.username}\",\n",
    "        \"given_name\": \"John\",\n",
    "        \"family_name\": \"Doe\",\n",
    "        \"picture\": \"https://lh3.googleusercontent.com/a/someRandomString=s96-c\",\n",
    "        \"email\": f\"john.doe.{sso_enabled_user.username}@gmail.com\",\n",
    "        \"email_verified\": True,\n",
    "        \"locale\": \"en\",\n",
    "    }\n",
    "\n",
    "    update_user_info_in_db(sso_enabled_user.username, user_info_from_provider)\n",
    "\n",
    "    with get_session_with_context() as session:\n",
    "        user = session.exec(select(User).where(User.sso_signup_trial_username == sso_enabled_user.username)).one()\n",
    "        print(user)\n",
    "\n",
    "        assert user_info_from_provider[\"name\"].replace(\" \", \"_\").lower() in user.username, user.username\n",
    "        assert user.first_name == user_info_from_provider[\"given_name\"]\n",
    "        assert user.last_name == user_info_from_provider[\"family_name\"]\n",
    "        assert user.email == user_info_from_provider[\"email\"]\n",
    "        assert user.sso_signup_trial_username == sso_enabled_user.username\n",
    "\n",
    "        sso = session.exec(select(SSO).where(SSO.user_id == user.id)).one()\n",
    "        print(f\"\\n{sso}\")"
   ]
  },
  {
   "cell_type": "code",
   "execution_count": null,
   "id": "32d85a2e",
   "metadata": {},
   "outputs": [
    {
     "data": {
      "text/plain": [
       "SSO()"
      ]
     },
     "metadata": {},
     "output_type": "display_data"
    },
    {
     "data": {
      "text/plain": [
       "SSO()"
      ]
     },
     "metadata": {},
     "output_type": "display_data"
    },
    {
     "name": "stdout",
     "output_type": "stream",
     "text": [
      "eitjxjchay\n",
      "eitjxjchay\n",
      "test_user.disabled=True\n"
     ]
    }
   ],
   "source": [
    "# Update existing user details. Only the sso_signup_trial_username field should be updated\n",
    "\n",
    "with create_sso_user() as user_and_session:\n",
    "    existing_test_sso_enabled_user = user_and_session[0]\n",
    "    session = user_and_session[1]\n",
    "\n",
    "    existing_test_user_info_from_provider = {\n",
    "        \"sub\": \"10111231231233982347423\",\n",
    "        \"name\": f\"John Doe {existing_test_sso_enabled_user.username}\",\n",
    "        \"given_name\": \"John\",\n",
    "        \"family_name\": \"Doe\",\n",
    "        \"picture\": \"https://lh3.googleusercontent.com/a/someRandomString=s96-c\",\n",
    "        \"email\": f\"john.doe.{existing_test_sso_enabled_user.username}@gmail.com\",\n",
    "        \"email_verified\": True,\n",
    "        \"locale\": \"en\",\n",
    "    }\n",
    "\n",
    "    update_user_info_in_db(existing_test_sso_enabled_user.username, existing_test_user_info_from_provider)\n",
    "\n",
    "    with get_session_with_context() as session:\n",
    "        existing_user = session.exec(select(User).where(User.sso_signup_trial_username == existing_test_sso_enabled_user.username)).one()\n",
    "\n",
    "        assert existing_test_user_info_from_provider[\"name\"].replace(\" \", \"_\").lower() in existing_user.username, existing_user.username\n",
    "        assert existing_user.first_name == existing_test_user_info_from_provider[\"given_name\"], existing_user.first_name\n",
    "        assert existing_user.last_name == existing_test_user_info_from_provider[\"family_name\"], existing_user.last_name\n",
    "        assert existing_user.email == existing_test_user_info_from_provider[\"email\"], existing_user.email\n",
    "        assert existing_user.sso_signup_trial_username == existing_test_sso_enabled_user.username, existing_user.sso_signup_trial_username\n",
    "\n",
    "# existing user logging next time with same SSO email\n",
    "\n",
    "with create_sso_user() as user_and_session:\n",
    "    test_user = user_and_session[0]\n",
    "    session = user_and_session[1]\n",
    "    print(test_user.username)\n",
    "    update_user_info_in_db(test_user.username, existing_test_user_info_from_provider)\n",
    "\n",
    "    with get_session_with_context() as session:\n",
    "        user = session.exec(select(User).where(User.sso_signup_trial_username == test_user.username)).one()\n",
    "\n",
    "        assert existing_test_user_info_from_provider[\"name\"].replace(\" \", \"_\").lower() in user.username, user.username\n",
    "        assert user.first_name == existing_test_user_info_from_provider[\"given_name\"]\n",
    "        assert user.last_name == existing_test_user_info_from_provider[\"family_name\"]\n",
    "        assert user.email == existing_test_user_info_from_provider[\"email\"]\n",
    "        assert user.sso_signup_trial_username == test_user.username\n",
    "\n",
    "    assert user.username == existing_user.username\n",
    "    assert user.first_name == existing_user.first_name\n",
    "    assert user.last_name == existing_user.last_name\n",
    "    assert user.email == existing_user.email\n",
    "    assert user.sso_signup_trial_username != existing_user.sso_signup_trial_username\n",
    "\n",
    "    print(user.sso_signup_trial_username)\n",
    "    \n",
    "with get_session_with_context() as session:\n",
    "    test_user = session.exec(select(User).where(User.username == test_user.username)).one()\n",
    "    print(f\"{test_user.disabled=}\")\n",
    "    assert test_user.disabled"
   ]
  },
  {
   "cell_type": "code",
   "execution_count": null,
   "id": "57558e93",
   "metadata": {},
   "outputs": [],
   "source": [
    "# | export\n",
    "\n",
    "\n",
    "def validate_sso_response(request: Request, sso_provider: str) -> str:\n",
    "    \"\"\"Validate the response from the SSO provider\n",
    "\n",
    "    This function receives the callback from the SSO provider along with the query parameters\n",
    "    and validates it. Finally the corresponding SSO authentication status and the\n",
    "    message is stored in the database\n",
    "\n",
    "    Args:\n",
    "        request: The callback request object\n",
    "        sso_provider: The Name of the SSO provider\n",
    "\n",
    "    Returns:\n",
    "        The text message indicating the status of the SSO authentication to display in the browser.\n",
    "    \"\"\"\n",
    "    sso_protocol_error = None\n",
    "    is_sso_successful = False\n",
    "\n",
    "    # Step 1: get username and nonce from response's state\n",
    "    try:\n",
    "        state = request.query_params[\"state\"]\n",
    "        nonce, username = state.split(\"_\", 1)\n",
    "    except KeyError as e:\n",
    "        raise HTTPException(\n",
    "            status_code=status.HTTP_400_BAD_REQUEST,\n",
    "            detail=ERRORS[\"SSO_CSRF_WARNING\"],\n",
    "        )\n",
    "\n",
    "    # Step 2: Validate and get record from sso protocol table\n",
    "    sso_protocol, sso_email = get_sso_protocol_and_email(username, nonce, sso_provider)\n",
    "\n",
    "    try:\n",
    "        # Step 3: Check if SESSION_TIME_LIMIT exceeded\n",
    "        if (datetime.utcnow() - sso_protocol.created_at) > timedelta(\n",
    "            minutes=SESSION_TIME_LIMIT\n",
    "        ):\n",
    "            sso_protocol_error = ERRORS[\"SSO_SESSION_EXPIRED\"]\n",
    "            raise HTTPException(\n",
    "                status_code=status.HTTP_401_UNAUTHORIZED,\n",
    "                detail=ERRORS[\"SSO_SESSION_EXPIRED\"],\n",
    "            )\n",
    "\n",
    "        # Step 4: get email from SSO provider and validate against our records\n",
    "        user_info_from_provider = get_user_info_from_provider(\n",
    "            url=str(request.url),\n",
    "            nonce_with_username=state,\n",
    "            sso_provider=sso_provider,\n",
    "        )\n",
    "        email_from_provider: str = (\n",
    "            user_info_from_provider[\"email\"] # type: ignore\n",
    "            if sso_provider == \"google\"\n",
    "            else [email[\"email\"] for email in email_from_provider if email[\"primary\"]][ # type: ignore\n",
    "                0\n",
    "            ]\n",
    "        )\n",
    "        if email_from_provider != sso_email and \"captn_trial\" not in username:\n",
    "            sso_protocol_error = ERRORS[\"SSO_EMAIL_NOT_SAME\"]\n",
    "            raise HTTPException(\n",
    "                status_code=status.HTTP_401_UNAUTHORIZED,\n",
    "                detail=ERRORS[\"SSO_EMAIL_NOT_SAME\"],\n",
    "            )\n",
    "    finally:\n",
    "        # Step 5: Update error and is_sso_successful in database\n",
    "        if sso_protocol_error is None:\n",
    "            is_sso_successful = True\n",
    "\n",
    "        with get_session_with_context() as session:\n",
    "            sso_protocol.error = sso_protocol_error\n",
    "            sso_protocol.is_sso_successful = is_sso_successful\n",
    "            session.add(sso_protocol)\n",
    "            session.commit()\n",
    "\n",
    "    if \"captn_trial\" in username:\n",
    "        update_user_info_in_db(username, user_info_from_provider)  # type: ignore\n",
    "\n",
    "    return SSO_SUCCESS_MSG"
   ]
  },
  {
   "cell_type": "code",
   "execution_count": null,
   "id": "d22ff2ce",
   "metadata": {},
   "outputs": [
    {
     "data": {
      "text/plain": [
       "'Request check failed: State not equal in request and response. For your protection, access to this resource is secured against CSRF. Please re-generate the authentication URL and initiate the SSO login process again.'"
      ]
     },
     "execution_count": null,
     "metadata": {},
     "output_type": "execute_result"
    }
   ],
   "source": [
    "# Negative Scenario: state variable not present in the query param\n",
    "scope = {\n",
    "    \"type\": \"http\",\n",
    "    \"query_string\": {\n",
    "        \"authuser\": \"0\",\n",
    "        \"prompt\": \"consent\",\n",
    "    },\n",
    "}\n",
    "r = Request(scope)\n",
    "with pytest.raises(HTTPException) as e:\n",
    "    validate_sso_response(r, sso_provider=\"google\")\n",
    "assert \"Request check failed\" in e.value.detail, e.value.detail\n",
    "e.value.detail"
   ]
  },
  {
   "cell_type": "code",
   "execution_count": null,
   "id": "647b7d3b",
   "metadata": {},
   "outputs": [
    {
     "data": {
      "text/plain": [
       "'Incorrect username. Please try again.'"
      ]
     },
     "execution_count": null,
     "metadata": {},
     "output_type": "execute_result"
    }
   ],
   "source": [
    "# Negative Scenario: passing invalid user\n",
    "scope = {\n",
    "    \"type\": \"http\",\n",
    "    \"query_string\": {\n",
    "        \"state\": \"dkco0tuhs_user_name\",\n",
    "        \"code\": \"come_code\",\n",
    "        \"scope\": \"email https://www.googleapis.com/auth/userinfo.email openid\",\n",
    "        \"authuser\": \"0\",\n",
    "        \"prompt\": \"consent\",\n",
    "    },\n",
    "}\n",
    "r = Request(scope)\n",
    "with pytest.raises(HTTPException) as e:\n",
    "    validate_sso_response(r, sso_provider=\"google\")\n",
    "assert \"Incorrect username\" in e.value.detail\n",
    "e.value.detail"
   ]
  },
  {
   "cell_type": "code",
   "execution_count": null,
   "id": "f3793760",
   "metadata": {},
   "outputs": [
    {
     "data": {
      "text/plain": [
       "SSO()"
      ]
     },
     "metadata": {},
     "output_type": "display_data"
    },
    {
     "data": {
      "text/plain": [
       "'SSO is not enabled for the provider.'"
      ]
     },
     "execution_count": null,
     "metadata": {},
     "output_type": "execute_result"
    }
   ],
   "source": [
    "# Negative Scenario: passing disabled sso provider\n",
    "with create_sso_user(sso_provider=\"github\") as user_and_session:\n",
    "    user = user_and_session[0]\n",
    "    session = user_and_session[1]\n",
    "    scope = {\n",
    "        \"type\": \"http\",\n",
    "        \"query_string\": {\n",
    "            \"state\": f\"dkco0tuhs_{user.username}\",\n",
    "            \"code\": \"come_code\",\n",
    "            \"scope\": \"email https://www.googleapis.com/auth/userinfo.email openid\",\n",
    "            \"authuser\": \"0\",\n",
    "            \"prompt\": \"consent\",\n",
    "        },\n",
    "    }\n",
    "    r = Request(scope)\n",
    "    with pytest.raises(HTTPException) as e:\n",
    "        validate_sso_response(r, sso_provider=\"google\")\n",
    "assert \"SSO is not enabled for the provider\" in e.value.detail\n",
    "e.value.detail"
   ]
  },
  {
   "cell_type": "code",
   "execution_count": null,
   "id": "9eb99f33",
   "metadata": {},
   "outputs": [
    {
     "data": {
      "text/plain": [
       "SSO()"
      ]
     },
     "metadata": {},
     "output_type": "display_data"
    },
    {
     "data": {
      "text/plain": [
       "'Request check failed: State not equal in request and response. For your protection, access to this resource is secured against CSRF. Please re-generate the authentication URL and initiate the SSO login process again.'"
      ]
     },
     "execution_count": null,
     "metadata": {},
     "output_type": "execute_result"
    }
   ],
   "source": [
    "# Negative Scenario: CSRF\n",
    "with create_sso_user() as user_and_session:\n",
    "    user = user_and_session[0]\n",
    "    session = user_and_session[1]\n",
    "    scope = {\n",
    "        \"type\": \"http\",\n",
    "        \"query_string\": {\n",
    "            \"state\": f\"dkco0tuhs_{user.username}\",\n",
    "            \"code\": \"come_code\",\n",
    "            \"scope\": \"email https://www.googleapis.com/auth/userinfo.email openid\",\n",
    "            \"authuser\": \"0\",\n",
    "            \"prompt\": \"consent\",\n",
    "        },\n",
    "    }\n",
    "    r = Request(scope)\n",
    "    with pytest.raises(HTTPException) as e:\n",
    "        validate_sso_response(r, sso_provider=\"google\")\n",
    "assert \"CSRF\" in e.value.detail\n",
    "e.value.detail"
   ]
  },
  {
   "cell_type": "code",
   "execution_count": null,
   "id": "b7850ebc",
   "metadata": {},
   "outputs": [],
   "source": []
  }
 ],
 "metadata": {
  "kernelspec": {
   "display_name": "python3",
   "language": "python",
   "name": "python3"
  }
 },
 "nbformat": 4,
 "nbformat_minor": 5
}
