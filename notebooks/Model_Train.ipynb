{
 "cells": [
  {
   "cell_type": "raw",
   "metadata": {},
   "source": [
    "---\n",
    "description: Router to have routes to train, evaluate model and start prediction\n",
    "output-file: model_train.html\n",
    "title: Model Train Router\n",
    "\n",
    "---\n",
    "\n"
   ]
  },
  {
   "cell_type": "code",
   "execution_count": null,
   "id": "2d3a68a0",
   "metadata": {},
   "outputs": [],
   "source": [
    "# | default_exp model.train"
   ]
  },
  {
   "cell_type": "code",
   "execution_count": null,
   "id": "f227df1d",
   "metadata": {},
   "outputs": [
    {
     "name": "stdout",
     "output_type": "stream",
     "text": [
      "[INFO] airt.testing.activate_by_import: Testing environment activated.\n",
      "[INFO] numexpr.utils: Note: NumExpr detected 16 cores but \"NUMEXPR_MAX_THREADS\" not set, so enforcing safe limit of 8.\n",
      "[INFO] numexpr.utils: NumExpr defaulting to 8 threads.\n",
      "[INFO] airt.keras.helpers: Using a single GPU #0 with memory_limit 1024 MB\n"
     ]
    }
   ],
   "source": [
    "from airt.testing import activate_by_import"
   ]
  },
  {
   "cell_type": "code",
   "execution_count": null,
   "id": "8f8d1cf5",
   "metadata": {},
   "outputs": [],
   "source": [
    "# | export\n",
    "\n",
    "import shutil\n",
    "import uuid\n",
    "from datetime import timedelta\n",
    "from typing import *\n",
    "\n",
    "from airt.logger import get_logger\n",
    "from airt.remote_path import RemotePath\n",
    "from fastapi import APIRouter, BackgroundTasks, Depends, HTTPException, Query, status\n",
    "from fastcore.script import Param, call_parse\n",
    "from pydantic import BaseModel\n",
    "from sqlalchemy.exc import NoResultFound\n",
    "from sqlmodel import Session, select\n",
    "\n",
    "import airt_service.sanitizer\n",
    "from airt_service.auth import get_current_active_user\n",
    "from airt_service.aws.utils import create_s3_prediction_path\n",
    "from airt_service.azure.utils import create_azure_blob_storage_prediction_path\n",
    "from airt_service.batch_job import create_batch_job\n",
    "from airt_service.constants import METADATA_FOLDER_PATH\n",
    "from airt_service.data.datasource import get_datasource_responses\n",
    "from airt_service.db.models import (\n",
    "    DataSource,\n",
    "    DataSourceSelect,\n",
    "    Model,\n",
    "    ModelRead,\n",
    "    Prediction,\n",
    "    PredictionRead,\n",
    "    User,\n",
    "    get_session,\n",
    "    get_session_with_context,\n",
    ")\n",
    "from airt_service.errors import ERRORS, HTTPError\n",
    "from airt_service.helpers import truncate"
   ]
  },
  {
   "cell_type": "code",
   "execution_count": null,
   "id": "9e70bd06",
   "metadata": {},
   "outputs": [
    {
     "name": "stdout",
     "output_type": "stream",
     "text": [
      "[INFO] airt.data.importers: Module loaded:\n",
      "[INFO] airt.data.importers:  - using pandas     : 1.4.4\n",
      "[INFO] airt.data.importers:  - using dask       : 2022.9.0\n",
      "[INFO] airt.executor.subcommand: Module loaded.\n"
     ]
    }
   ],
   "source": [
    "import json\n",
    "from os import environ\n",
    "\n",
    "import pandas as pd\n",
    "import pytest\n",
    "import requests\n",
    "from airt.remote_path import RemotePath\n",
    "\n",
    "from airt_service.aws.utils import upload_to_s3_with_retry\n",
    "from airt_service.background_task import execute_cli\n",
    "from airt_service.constants import METADATA_FOLDER_PATH\n",
    "from airt_service.data.csv import process_csv\n",
    "from airt_service.data.datablob import FromLocalRequest, from_local_start_route\n",
    "from airt_service.db.models import (\n",
    "    DataBlob,\n",
    "    SubscriptionType,\n",
    "    create_user_for_testing,\n",
    "    get_session_with_context,\n",
    ")\n",
    "from airt_service.helpers import commit_or_rollback, set_env_variable_context\n",
    "from airt_service.users import (\n",
    "    ActivateMFARequest,\n",
    "    activate_mfa,\n",
    "    disable_mfa,\n",
    "    generate_mfa_url,\n",
    ")"
   ]
  },
  {
   "cell_type": "code",
   "execution_count": null,
   "id": "301cc7c6",
   "metadata": {},
   "outputs": [],
   "source": [
    "# | exporti\n",
    "\n",
    "logger = get_logger(__name__)"
   ]
  },
  {
   "cell_type": "code",
   "execution_count": null,
   "id": "21420ce9",
   "metadata": {},
   "outputs": [
    {
     "data": {
      "text/plain": [
       "'hmybjvsbeq'"
      ]
     },
     "metadata": {},
     "output_type": "display_data"
    }
   ],
   "source": [
    "test_username = create_user_for_testing(subscription_type=\"small\")\n",
    "display(test_username)"
   ]
  },
  {
   "cell_type": "code",
   "execution_count": null,
   "id": "07920442",
   "metadata": {},
   "outputs": [],
   "source": [
    "INVALID_UUID_FOR_TESTING = \"00000000-0000-0000-0000-000000000000\""
   ]
  },
  {
   "cell_type": "code",
   "execution_count": null,
   "id": "15ce99fa",
   "metadata": {},
   "outputs": [
    {
     "name": "stdout",
     "output_type": "stream",
     "text": [
      "[INFO] botocore.credentials: Found credentials in environment variables.\n",
      "[INFO] airt_service.data.datablob: DataBlob.from_local(): FromLocalResponse(uuid=UUID('6a7499f7-c9a0-4de3-9cfe-a4eb420e054a'), type='local', presigned={'url': 'https://kumaran-airt-service-eu-west-1.s3.amazonaws.com/', 'fields': {'key': '****************************************', 'AWSAccessKeyId': '********************', 'policy': '************************************************************************************************************************************************************************************************************************************************************', 'signature': '****************************'}})\n",
      "[INFO] airt.remote_path: RemotePath.from_url(): creating remote path with the following url s3://test-airt-service/account_312571_events\n",
      "[INFO] airt.remote_path: S3Path._create_cache_path(): created cache path: /tmp/s3test-airt-serviceaccount_312571_events_cached_1q99ez7y\n",
      "[INFO] airt.remote_path: S3Path.__init__(): created object for accessing s3://test-airt-service/account_312571_events locally in /tmp/s3test-airt-serviceaccount_312571_events_cached_1q99ez7y\n",
      "[INFO] airt.remote_path: S3Path.__enter__(): pulling data from s3://test-airt-service/account_312571_events to /tmp/s3test-airt-serviceaccount_312571_events_cached_1q99ez7y\n"
     ]
    },
    {
     "data": {
      "text/html": [
       "<div>\n",
       "<style scoped>\n",
       "    .dataframe tbody tr th:only-of-type {\n",
       "        vertical-align: middle;\n",
       "    }\n",
       "\n",
       "    .dataframe tbody tr th {\n",
       "        vertical-align: top;\n",
       "    }\n",
       "\n",
       "    .dataframe thead th {\n",
       "        text-align: right;\n",
       "    }\n",
       "</style>\n",
       "<table border=\"1\" class=\"dataframe\">\n",
       "  <thead>\n",
       "    <tr style=\"text-align: right;\">\n",
       "      <th></th>\n",
       "      <th>AccountId</th>\n",
       "      <th>DefinitionId</th>\n",
       "      <th>OccurredTime</th>\n",
       "      <th>OccurredTimeTicks</th>\n",
       "      <th>PersonId</th>\n",
       "    </tr>\n",
       "    <tr>\n",
       "      <th>__null_dask_index__</th>\n",
       "      <th></th>\n",
       "      <th></th>\n",
       "      <th></th>\n",
       "      <th></th>\n",
       "      <th></th>\n",
       "    </tr>\n",
       "  </thead>\n",
       "  <tbody>\n",
       "    <tr>\n",
       "      <th>0</th>\n",
       "      <td>312571</td>\n",
       "      <td>loadTests2</td>\n",
       "      <td>2019-12-31 21:30:02</td>\n",
       "      <td>1577836802678</td>\n",
       "      <td>2</td>\n",
       "    </tr>\n",
       "    <tr>\n",
       "      <th>1</th>\n",
       "      <td>312571</td>\n",
       "      <td>loadTests3</td>\n",
       "      <td>2020-01-03 23:53:22</td>\n",
       "      <td>1578104602678</td>\n",
       "      <td>2</td>\n",
       "    </tr>\n",
       "    <tr>\n",
       "      <th>2</th>\n",
       "      <td>312571</td>\n",
       "      <td>loadTests1</td>\n",
       "      <td>2020-01-07 02:16:42</td>\n",
       "      <td>1578372402678</td>\n",
       "      <td>2</td>\n",
       "    </tr>\n",
       "    <tr>\n",
       "      <th>3</th>\n",
       "      <td>312571</td>\n",
       "      <td>loadTests2</td>\n",
       "      <td>2020-01-10 04:40:02</td>\n",
       "      <td>1578640202678</td>\n",
       "      <td>2</td>\n",
       "    </tr>\n",
       "    <tr>\n",
       "      <th>4</th>\n",
       "      <td>312571</td>\n",
       "      <td>loadTests3</td>\n",
       "      <td>2020-01-13 07:03:22</td>\n",
       "      <td>1578908002678</td>\n",
       "      <td>2</td>\n",
       "    </tr>\n",
       "  </tbody>\n",
       "</table>\n",
       "</div>"
      ],
      "text/plain": [
       "                     AccountId DefinitionId        OccurredTime  \\\n",
       "__null_dask_index__                                               \n",
       "0                       312571   loadTests2 2019-12-31 21:30:02   \n",
       "1                       312571   loadTests3 2020-01-03 23:53:22   \n",
       "2                       312571   loadTests1 2020-01-07 02:16:42   \n",
       "3                       312571   loadTests2 2020-01-10 04:40:02   \n",
       "4                       312571   loadTests3 2020-01-13 07:03:22   \n",
       "\n",
       "                     OccurredTimeTicks  PersonId  \n",
       "__null_dask_index__                               \n",
       "0                        1577836802678         2  \n",
       "1                        1578104602678         2  \n",
       "2                        1578372402678         2  \n",
       "3                        1578640202678         2  \n",
       "4                        1578908002678         2  "
      ]
     },
     "metadata": {},
     "output_type": "display_data"
    },
    {
     "data": {
      "text/plain": [
       "[Path('/tmp/s3test-airt-serviceaccount_312571_events_cached_1q99ez7y/_metadata'),\n",
       " Path('/tmp/s3test-airt-serviceaccount_312571_events_cached_1q99ez7y/_common_metadata'),\n",
       " Path('/tmp/s3test-airt-serviceaccount_312571_events_cached_1q99ez7y/file.csv'),\n",
       " Path('/tmp/s3test-airt-serviceaccount_312571_events_cached_1q99ez7y/part.3.parquet'),\n",
       " Path('/tmp/s3test-airt-serviceaccount_312571_events_cached_1q99ez7y/part.0.parquet'),\n",
       " Path('/tmp/s3test-airt-serviceaccount_312571_events_cached_1q99ez7y/part.1.parquet'),\n",
       " Path('/tmp/s3test-airt-serviceaccount_312571_events_cached_1q99ez7y/part.4.parquet'),\n",
       " Path('/tmp/s3test-airt-serviceaccount_312571_events_cached_1q99ez7y/part.2.parquet')]"
      ]
     },
     "metadata": {},
     "output_type": "display_data"
    },
    {
     "name": "stdout",
     "output_type": "stream",
     "text": [
      "AccountId,DefinitionId,OccurredTime,OccurredTimeTicks,PersonId\n",
      "312571,loadTests2,2019-12-31 21:30:02,1577836802678,2\n",
      "312571,loadTests3,2020-01-03 23:53:22,1578104602678,2\n",
      "312571,loadTests1,2020-01-07 02:16:42,1578372402678,2\n",
      "312571,loadTests2,2020-01-10 04:40:02,1578640202678,2\n",
      "312571,loadTests3,2020-01-13 07:03:22,1578908002678,2\n",
      "312571,loadTests1,2020-01-16 09:26:42,1579175802678,2\n",
      "312571,loadTests2,2020-01-19 11:50:02,1579443602678,2\n",
      "312571,loadTests3,2020-01-22 14:13:22,1579711402678,2\n",
      "312571,loadTests1,2020-01-25 16:36:42,1579979202678,2\n",
      "[INFO] airt.remote_path: S3Path._clean_up(): removing local cache path /tmp/s3test-airt-serviceaccount_312571_events_cached_1q99ez7y\n",
      "[INFO] airt_service.data.csv: process_csv(datablob_id=3, datasource_id=2): processing user uploaded csv file for datablob_id=3 and uploading parquet back to S3 for datasource_id=2\n",
      "[INFO] airt_service.data.csv: process_csv(datablob_id=3, datasource_id=2): step 1/4: downloading user uploaded file from bucket s3://kumaran-airt-service-eu-west-1/77/datablob/3\n",
      "[INFO] airt.remote_path: RemotePath.from_url(): creating remote path with the following url s3://kumaran-airt-service-eu-west-1/77/datablob/3\n",
      "[INFO] airt.remote_path: S3Path._create_cache_path(): created cache path: /tmp/s3kumaran-airt-service-eu-west-177datablob3_cached_pxrls9tt\n",
      "[INFO] airt.remote_path: S3Path.__init__(): created object for accessing s3://kumaran-airt-service-eu-west-1/77/datablob/3 locally in /tmp/s3kumaran-airt-service-eu-west-177datablob3_cached_pxrls9tt\n",
      "[INFO] airt.remote_path: S3Path.__enter__(): pulling data from s3://kumaran-airt-service-eu-west-1/77/datablob/3 to /tmp/s3kumaran-airt-service-eu-west-177datablob3_cached_pxrls9tt\n",
      "[INFO] airt_service.data.csv: process_csv(datablob_id=3, datasource_id=2): step 2/4: running import_csv()\n",
      "[INFO] airt.remote_path: RemotePath.from_url(): creating remote path with the following url s3://kumaran-airt-service-eu-west-1/77/datasource/2\n",
      "[INFO] airt.remote_path: S3Path._create_cache_path(): created cache path: /tmp/s3kumaran-airt-service-eu-west-177datasource2_cached_9h_fu_ut\n",
      "[INFO] airt.remote_path: S3Path.__init__(): created object for accessing s3://kumaran-airt-service-eu-west-1/77/datasource/2 locally in /tmp/s3kumaran-airt-service-eu-west-177datasource2_cached_9h_fu_ut\n",
      "[INFO] airt.data.importers: import_csv(): importing CSV file(s) from [/tmp/s3kumaran-airt-service-eu-west-177datablob3_cached_pxrls9tt/file.csv,..., /tmp/s3kumaran-airt-service-eu-west-177datablob3_cached_pxrls9tt/file.csv] using blocksize='256MB' and kwargs={'usecols': [0, 1, 2, 3, 4], 'parse_dates': ['OccurredTime']} and storing result in /tmp/s3kumaran-airt-service-eu-west-177datasource2_cached_9h_fu_ut\n",
      "[INFO] airt.dask_manager: Starting cluster...\n",
      "[INFO] airt.dask_manager: Cluster started: <Client: 'tcp://127.0.0.1:36153' processes=8 threads=8, memory=22.89 GiB>\n",
      "Cluster dashboard: http://127.0.0.1:8787/status\n",
      "[INFO] airt.data.importers: import_csv(): step 1/5: importing data and storing it into partitioned Parquet files\n",
      "[INFO] airt.data.importers:  - number of rows: 498,961\n",
      "[INFO] airt.dask_manager: Starting stopping cluster...\n",
      "[INFO] airt.dask_manager: Cluster stopped\n",
      "[INFO] airt.dask_manager: Starting cluster...\n",
      "[INFO] airt.dask_manager: Cluster started: <Client: 'tcp://127.0.0.1:46231' processes=4 threads=4, memory=22.89 GiB>\n",
      "Cluster dashboard: http://127.0.0.1:8787/status\n",
      "[INFO] airt.data.importers: import_csv(): step 2/5: indexing data by PersonId.\n",
      "[INFO] airt.data.importers:  - number of rows: 498,961\n",
      "[INFO] airt.dask_manager: Starting stopping cluster...\n",
      "[INFO] airt.dask_manager: Cluster stopped\n",
      "[INFO] airt.dask_manager: Starting cluster...\n",
      "[INFO] airt.dask_manager: Cluster started: <Client: 'tcp://127.0.0.1:36869' processes=8 threads=8, memory=22.89 GiB>\n",
      "Cluster dashboard: http://127.0.0.1:8787/status\n",
      "[INFO] airt.data.importers: import_csv(): step 3/5: deduplicating and sorting data by PersonId and OccurredTime.\n",
      "[INFO] airt.data.importers:  - number of rows: 498,961\n",
      "[INFO] airt.data.importers: import_csv(): step 4/5: repartitioning data.\n",
      "[INFO] airt.data.importers:  - number of rows: 498,961\n",
      "[INFO] airt.data.importers: import_csv(): step 5/5: sorting data by PersonId and OccurredTime.\n",
      "[INFO] airt.data.importers:  - number of rows: 498,961\n",
      "[INFO] airt.data.importers: import_csv(): completed, the final data is stored in /tmp/s3kumaran-airt-service-eu-west-177datasource2_cached_9h_fu_ut as Parquet files with:\n",
      "[INFO] airt.data.importers:  - dtypes={'AccountId': dtype('int64'), 'DefinitionId': dtype('O'), 'OccurredTime': dtype('<M8[ns]'), 'OccurredTimeTicks': dtype('int64')}\n",
      "[INFO] airt.data.importers:  - npartitions=1\n",
      "[INFO] airt.data.importers:  - partition_sizes={0: 498961}\n",
      "[INFO] airt.dask_manager: Starting stopping cluster...\n",
      "[INFO] airt.dask_manager: Cluster stopped\n",
      "[INFO] airt_service.data.csv: process_csv(datablob_id=3, datasource_id=2): step 3/4: uploading parquet files back to path S3Path(enter_count=1, remote_url=s3://kumaran-airt-service-eu-west-1/77/datasource/2, pull_on_enter=False, push_on_exit=True, cache_path=/tmp/s3kumaran-airt-service-eu-west-177datasource2_cached_9h_fu_ut, access_key=None, secret_key=None)\n",
      "[INFO] airt.remote_path: S3Path.__exit__(): pushing data from /tmp/s3kumaran-airt-service-eu-west-177datasource2_cached_9h_fu_ut to s3://kumaran-airt-service-eu-west-1/77/datasource/2\n",
      "[INFO] airt.remote_path: S3Path._clean_up(): removing local cache path /tmp/s3kumaran-airt-service-eu-west-177datasource2_cached_9h_fu_ut\n",
      "[INFO] airt.remote_path: S3Path._clean_up(): removing local cache path /tmp/s3kumaran-airt-service-eu-west-177datablob3_cached_pxrls9tt\n",
      "[INFO] airt_service.data.csv: process_csv(datablob_id=3, datasource_id=2): step 4/4: calculating datasource attributes - folder_size, no_of_rows, head, hash\n",
      "[INFO] airt_service.data.csv: process_csv(datablob_id=3, datasource_id=2): completed\n"
     ]
    },
    {
     "data": {
      "text/plain": [
       "DataSource(id=2, uuid=UUID('e8177433-f873-468c-8d52-0ba78931b3ed'), hash='64ab63985d6651f495ddccd4d96d16cb', total_steps=1, completed_steps=1, folder_size=6619982, no_of_rows=498961, cloud_provider=<CloudProvider.aws: 'aws'>, region='eu-west-1', error=None, disabled=False, path='s3://kumaran-airt-service-eu-west-1/77/datasource/2', created=datetime.datetime(2022, 10, 20, 6, 35, 38), user_id=77, pulled_on=datetime.datetime(2022, 10, 20, 6, 35, 46), tags=[])"
      ]
     },
     "metadata": {},
     "output_type": "display_data"
    }
   ],
   "source": [
    "# Create and pull datasource to use in following tests\n",
    "with get_session_with_context() as session:\n",
    "    user = session.exec(select(User).where(User.username == test_username)).one()\n",
    "\n",
    "    from_local_request = FromLocalRequest(\n",
    "        path=\"tmp/test-folder/\", tag=\"my_csv_datasource_tag\"\n",
    "    )\n",
    "    from_local_response = from_local_start_route(\n",
    "        from_local_request=from_local_request,\n",
    "        user=user,\n",
    "        session=session,\n",
    "    )\n",
    "\n",
    "    with RemotePath.from_url(\n",
    "        remote_url=f\"s3://test-airt-service/account_312571_events\",\n",
    "        pull_on_enter=True,\n",
    "        push_on_exit=False,\n",
    "        exist_ok=True,\n",
    "        parents=False,\n",
    "        access_key=environ[\"AWS_ACCESS_KEY_ID\"],\n",
    "        secret_key=environ[\"AWS_SECRET_ACCESS_KEY\"],\n",
    "    ) as test_s3_path:\n",
    "        df = pd.read_parquet(test_s3_path.as_path())\n",
    "        display(df.head())\n",
    "        df.to_csv(test_s3_path.as_path() / \"file.csv\", index=False)\n",
    "        display(list(test_s3_path.as_path().glob(\"*\")))\n",
    "        !head -n 10 {test_s3_path.as_path()/\"file.csv\"}\n",
    "\n",
    "        upload_to_s3_with_retry(\n",
    "            test_s3_path.as_path() / \"file.csv\",\n",
    "            from_local_response.presigned[\"url\"],\n",
    "            from_local_response.presigned[\"fields\"],\n",
    "        )\n",
    "\n",
    "    datablob_id = (\n",
    "        session.exec(select(DataBlob).where(DataBlob.uuid == from_local_response.uuid))\n",
    "        .one()\n",
    "        .id\n",
    "    )\n",
    "    datasource = DataSource(\n",
    "        datablob_id=datablob_id,\n",
    "        cloud_provider=\"aws\",\n",
    "        region=\"eu-west-1\",\n",
    "        total_steps=1,\n",
    "        user=user,\n",
    "    )\n",
    "    session.add(datasource)\n",
    "    session.commit()\n",
    "\n",
    "    process_csv(\n",
    "        datablob_id=datablob_id,\n",
    "        datasource_id=datasource.id,\n",
    "        deduplicate_data=True,\n",
    "        index_column=\"PersonId\",\n",
    "        sort_by=\"OccurredTime\",\n",
    "        blocksize=\"256MB\",\n",
    "        kwargs_json=json.dumps(\n",
    "            dict(\n",
    "                usecols=[0, 1, 2, 3, 4],\n",
    "                parse_dates=[\"OccurredTime\"],\n",
    "            )\n",
    "        ),\n",
    "    )\n",
    "\n",
    "with get_session_with_context() as session:\n",
    "    datasource = session.exec(\n",
    "        select(DataSource).where(DataSource.id == datasource.id)\n",
    "    ).one()\n",
    "    display(datasource)\n",
    "    datasource_id = datasource.id\n",
    "    datasource_cloud_provider = datasource.cloud_provider\n",
    "    datasource_region = datasource.region"
   ]
  },
  {
   "cell_type": "code",
   "execution_count": null,
   "id": "868c601c",
   "metadata": {},
   "outputs": [],
   "source": [
    "# | export\n",
    "\n",
    "# Default router for all train routes\n",
    "model_train_router = APIRouter(\n",
    "    prefix=\"/model\",\n",
    "    tags=[\"train\"],\n",
    "    #     dependencies=[Depends(get_current_active_user)],\n",
    "    responses={\n",
    "        404: {\"description\": \"Not found\"},\n",
    "        500: {\n",
    "            \"model\": HTTPError,\n",
    "            \"description\": ERRORS[\"INTERNAL_SERVER_ERROR\"],\n",
    "        },\n",
    "    },\n",
    ")"
   ]
  },
  {
   "cell_type": "code",
   "execution_count": null,
   "id": "b5471a80",
   "metadata": {},
   "outputs": [],
   "source": [
    "# | export\n",
    "\n",
    "\n",
    "class TrainRequest(BaseModel):\n",
    "    \"\"\"Request object for the /model/train route\n",
    "\n",
    "    Args:\n",
    "        data_uuid: Datasource uuid to train model\n",
    "        client_column: Column in which client ids are present\n",
    "        target_column: Column where target events for training are present\n",
    "        target: Regex string to use as target event for training\n",
    "        predict_after: Time period after to predict(in seconds)\n",
    "    \"\"\"\n",
    "\n",
    "    data_uuid: uuid.UUID\n",
    "    client_column: str\n",
    "    target_column: str\n",
    "    target: str\n",
    "    predict_after: timedelta"
   ]
  },
  {
   "cell_type": "code",
   "execution_count": null,
   "id": "cd6c3fb9",
   "metadata": {},
   "outputs": [],
   "source": [
    "# | export\n",
    "\n",
    "\n",
    "@model_train_router.post(\n",
    "    \"/train\",\n",
    "    response_model=ModelRead,\n",
    "    responses={\n",
    "        **get_datasource_responses,  # type: ignore\n",
    "        412: {\"model\": HTTPError, \"description\": ERRORS[\"QUOTA_EXCEEDED\"]},\n",
    "    },\n",
    ")\n",
    "def train_model(\n",
    "    train_request: TrainRequest,\n",
    "    user: User = Depends(get_current_active_user),\n",
    "    session: Session = Depends(get_session),\n",
    ") -> Model:\n",
    "    \"\"\"Start model training from the given datasource\"\"\"\n",
    "    user = session.merge(user)\n",
    "    if not user.subscription_type.value in [\n",
    "        \"small\",\n",
    "        \"medium\",\n",
    "        \"large\",\n",
    "        \"infobip\",\n",
    "        \"captn\",\n",
    "    ]:\n",
    "        raise HTTPException(\n",
    "            status_code=status.HTTP_412_PRECONDITION_FAILED,\n",
    "            detail=ERRORS[\"QUOTA_EXCEEDED\"],\n",
    "        )\n",
    "    datasource = DataSource.get(uuid=train_request.data_uuid, user=user, session=session)  # type: ignore\n",
    "    # send msg to batch job queue to start training and return model_id\n",
    "    model = Model(\n",
    "        client_column=train_request.client_column,\n",
    "        target_column=train_request.target_column,\n",
    "        target=train_request.target,\n",
    "        predict_after=train_request.predict_after,\n",
    "        cloud_provider=datasource.cloud_provider,\n",
    "        region=datasource.region,\n",
    "        total_steps=5,\n",
    "        user=user,\n",
    "        datasource_id=datasource.id,\n",
    "    )\n",
    "    session.add(model)\n",
    "    session.commit()\n",
    "    session.refresh(model)\n",
    "    return model"
   ]
  },
  {
   "cell_type": "code",
   "execution_count": null,
   "id": "6a0d78d2",
   "metadata": {},
   "outputs": [
    {
     "data": {
      "text/plain": [
       "<ExceptionInfo HTTPException(status_code=412, detail='Quota exceeded') tblen=2>"
      ]
     },
     "metadata": {},
     "output_type": "display_data"
    }
   ],
   "source": [
    "user_without_quota = create_user_for_testing(subscription_type=\"test\")\n",
    "with get_session_with_context() as session:\n",
    "    user = session.exec(select(User).where(User.username == user_without_quota)).one()\n",
    "\n",
    "    train_request = TrainRequest(\n",
    "        data_uuid=datasource.uuid,\n",
    "        client_column=\"AccountId\",\n",
    "        target_column=\"DefinitionId\",\n",
    "        target=\"load*\",\n",
    "        predict_after=timedelta(seconds=20 * 24 * 60 * 60),\n",
    "    )\n",
    "\n",
    "    with pytest.raises(HTTPException) as e:\n",
    "        train_model(train_request=train_request, user=user, session=session)\n",
    "    display(e)"
   ]
  },
  {
   "cell_type": "code",
   "execution_count": null,
   "id": "a8699859",
   "metadata": {},
   "outputs": [
    {
     "data": {
      "text/plain": [
       "Model(cloud_provider=<CloudProvider.aws: 'aws'>, error=None, datasource_id=2, client_column='AccountId', region='eu-west-1', user_id=77, target_column='DefinitionId', disabled=False, target='load*', created=datetime.datetime(2022, 10, 20, 6, 36, 9), predict_after=datetime.timedelta(days=20), id=2, timestamp_column=None, uuid=UUID('cfdf1bd1-1262-47a4-8518-1f0ffaf42f84'), total_steps=5, path=None, completed_steps=0)"
      ]
     },
     "metadata": {},
     "output_type": "display_data"
    }
   ],
   "source": [
    "with get_session_with_context() as session:\n",
    "    user = session.exec(select(User).where(User.username == test_username)).one()\n",
    "\n",
    "    train_request = TrainRequest(\n",
    "        data_uuid=datasource.uuid,\n",
    "        client_column=\"AccountId\",\n",
    "        target_column=\"DefinitionId\",\n",
    "        target=\"load*\",\n",
    "        predict_after=timedelta(seconds=20 * 24 * 60 * 60),\n",
    "    )\n",
    "\n",
    "    actual = train_model(train_request=train_request, user=user, session=session)\n",
    "\n",
    "# For following tests\n",
    "with get_session_with_context() as session:\n",
    "    model_trained = session.exec(select(Model).where(Model.id == actual.id)).one()\n",
    "    display(model_trained)\n",
    "    model_trained_id = model_trained.id"
   ]
  },
  {
   "cell_type": "code",
   "execution_count": null,
   "id": "6f055037",
   "metadata": {},
   "outputs": [],
   "source": [
    "# | export\n",
    "\n",
    "\n",
    "get_model_responses = {\n",
    "    400: {\"model\": HTTPError, \"description\": ERRORS[\"INCORRECT_MODEL_ID\"]}\n",
    "}\n",
    "\n",
    "\n",
    "def get_model(model_uuid: str, user: User, session: Session) -> Model:\n",
    "    \"\"\"Get model object for the model_id\n",
    "\n",
    "    Args:\n",
    "        model_uuid: Model uuid\n",
    "        user: User object\n",
    "        session: Sqlmodel session\n",
    "\n",
    "     Returns:\n",
    "        The model object for given model uuid\n",
    "    \"\"\"\n",
    "    try:\n",
    "        model = session.exec(\n",
    "            select(Model).where(Model.uuid == model_uuid, Model.user == user)\n",
    "        ).one()\n",
    "    except NoResultFound:\n",
    "        raise HTTPException(\n",
    "            status_code=status.HTTP_400_BAD_REQUEST,\n",
    "            detail=ERRORS[\"INCORRECT_MODEL_ID\"],\n",
    "        )\n",
    "\n",
    "    if model.disabled:\n",
    "        raise HTTPException(\n",
    "            status_code=status.HTTP_400_BAD_REQUEST, detail=ERRORS[\"MODEL_IS_DELETED\"]\n",
    "        )\n",
    "    return model"
   ]
  },
  {
   "cell_type": "code",
   "execution_count": null,
   "id": "2bb5558e",
   "metadata": {},
   "outputs": [
    {
     "data": {
      "text/plain": [
       "Model(cloud_provider=<CloudProvider.aws: 'aws'>, error=None, datasource_id=2, client_column='AccountId', region='eu-west-1', user_id=77, target_column='DefinitionId', disabled=False, target='load*', created=datetime.datetime(2022, 10, 20, 6, 36, 9), predict_after=datetime.timedelta(days=20), id=2, timestamp_column=None, uuid=UUID('cfdf1bd1-1262-47a4-8518-1f0ffaf42f84'), total_steps=5, path=None, completed_steps=0)"
      ]
     },
     "metadata": {},
     "output_type": "display_data"
    },
    {
     "data": {
      "text/plain": [
       "<ExceptionInfo HTTPException(status_code=400, detail='Incorrect model id') tblen=2>"
      ]
     },
     "metadata": {},
     "output_type": "display_data"
    },
    {
     "data": {
      "text/plain": [
       "<ExceptionInfo HTTPException(status_code=400, detail='Incorrect model id') tblen=2>"
      ]
     },
     "metadata": {},
     "output_type": "display_data"
    }
   ],
   "source": [
    "with get_session_with_context() as session:\n",
    "    user = session.exec(select(User).where(User.username == test_username)).one()\n",
    "    model_trained = session.merge(model_trained)\n",
    "\n",
    "    expected = model_trained\n",
    "    actual = get_model(model_uuid=expected.uuid, user=user, session=session)\n",
    "    display(actual)\n",
    "    assert actual == expected\n",
    "\n",
    "    with pytest.raises(HTTPException) as e:\n",
    "        get_model(model_uuid=INVALID_UUID_FOR_TESTING, user=user, session=session)\n",
    "    display(e)\n",
    "\n",
    "    user_kumaran = session.exec(select(User).where(User.username == \"kumaran\")).one()\n",
    "    with pytest.raises(HTTPException) as e:\n",
    "        get_model(model_uuid=expected.uuid, user=user_kumaran, session=session)\n",
    "    display(e)"
   ]
  },
  {
   "cell_type": "code",
   "execution_count": null,
   "id": "2e665c63",
   "metadata": {},
   "outputs": [
    {
     "data": {
      "text/plain": [
       "<ExceptionInfo HTTPException(status_code=400, detail='Model is deleted') tblen=2>"
      ]
     },
     "metadata": {},
     "output_type": "display_data"
    }
   ],
   "source": [
    "with get_session_with_context() as session:\n",
    "    user = session.exec(select(User).where(User.username == test_username)).one()\n",
    "\n",
    "    datasource = user.datasources[0]\n",
    "    model_disabled = Model(\n",
    "        client_column=\"client_column\",\n",
    "        target_column=\"target_column\",\n",
    "        target=\"target\",\n",
    "        predict_after=timedelta(seconds=20 * 24 * 60 * 60),\n",
    "        cloud_provider=datasource.cloud_provider,\n",
    "        region=datasource.region,\n",
    "        total_steps=5,\n",
    "        user=user,\n",
    "        datasource_id=datasource.id,\n",
    "        disabled=True,\n",
    "    )\n",
    "    session.add(model_disabled)\n",
    "    session.commit()\n",
    "    session.refresh(model_disabled)\n",
    "\n",
    "    with pytest.raises(HTTPException) as e:\n",
    "        get_model(model_uuid=model_disabled.uuid, user=user, session=session)\n",
    "    display(e)"
   ]
  },
  {
   "cell_type": "code",
   "execution_count": null,
   "id": "4ed95d90",
   "metadata": {},
   "outputs": [],
   "source": [
    "# | export\n",
    "\n",
    "\n",
    "@model_train_router.get(\n",
    "    \"/{model_uuid}\",\n",
    "    response_model=ModelRead,\n",
    "    responses={\n",
    "        **get_model_responses,  # type: ignore\n",
    "        422: {\"model\": HTTPError, \"description\": \"Model error\"},\n",
    "    },\n",
    ")\n",
    "def get_details_of_model(\n",
    "    model_uuid: str,\n",
    "    user: User = Depends(get_current_active_user),\n",
    "    session: Session = Depends(get_session),\n",
    ") -> Model:\n",
    "    \"\"\"Get details of the model\"\"\"\n",
    "    user = session.merge(user)\n",
    "    # get details from the internal db for model_id\n",
    "    model = get_model(model_uuid=model_uuid, user=user, session=session)\n",
    "\n",
    "    if model.error is not None:\n",
    "        raise HTTPException(\n",
    "            status_code=status.HTTP_422_UNPROCESSABLE_ENTITY, detail=model.error\n",
    "        )\n",
    "\n",
    "    # ToDo: Remove following temporary fix once actual train is implemented\n",
    "    model.completed_steps = model.total_steps\n",
    "    session.add(model)\n",
    "    session.commit()\n",
    "    session.refresh(model)\n",
    "    return model"
   ]
  },
  {
   "cell_type": "code",
   "execution_count": null,
   "id": "f14a1631",
   "metadata": {},
   "outputs": [
    {
     "data": {
      "text/plain": [
       "Model(cloud_provider=<CloudProvider.aws: 'aws'>, error=None, datasource_id=2, client_column='AccountId', region='eu-west-1', user_id=77, target_column='DefinitionId', disabled=False, target='load*', created=datetime.datetime(2022, 10, 20, 6, 36, 9), predict_after=datetime.timedelta(days=20), id=2, timestamp_column=None, uuid=UUID('cfdf1bd1-1262-47a4-8518-1f0ffaf42f84'), total_steps=5, path=None, completed_steps=5)"
      ]
     },
     "metadata": {},
     "output_type": "display_data"
    }
   ],
   "source": [
    "with get_session_with_context() as session:\n",
    "    user = session.exec(select(User).where(User.username == test_username)).one()\n",
    "    model_trained = session.merge(model_trained)\n",
    "\n",
    "    expected = model_trained\n",
    "    actual = get_details_of_model(model_uuid=expected.uuid, user=user, session=session)\n",
    "    display(actual)\n",
    "    assert actual == expected"
   ]
  },
  {
   "cell_type": "code",
   "execution_count": null,
   "id": "1c04c07d",
   "metadata": {},
   "outputs": [
    {
     "data": {
      "text/plain": [
       "<ExceptionInfo HTTPException(status_code=422, detail='test error') tblen=2>"
      ]
     },
     "metadata": {},
     "output_type": "display_data"
    }
   ],
   "source": [
    "with get_session_with_context() as session:\n",
    "    user = session.exec(select(User).where(User.username == test_username)).one()\n",
    "    model_errored = Model(\n",
    "        client_column=\"wrong_client_column\",\n",
    "        target_column=\"wrong_target_column\",\n",
    "        target=\"wrong_target\",\n",
    "        predict_after=timedelta(100),\n",
    "        cloud_provider=datasource_cloud_provider,\n",
    "        region=datasource_region,\n",
    "        total_steps=5,\n",
    "        user=user,\n",
    "        datasource_id=datasource_id,\n",
    "        error=\"test error\",\n",
    "    )\n",
    "    session.add(model_errored)\n",
    "    session.commit()\n",
    "    session.refresh(model_errored)\n",
    "\n",
    "    with pytest.raises(HTTPException) as e:\n",
    "        get_details_of_model(model_uuid=model_errored.uuid, user=user, session=session)\n",
    "    display(e)"
   ]
  },
  {
   "cell_type": "code",
   "execution_count": null,
   "id": "06b961b6",
   "metadata": {},
   "outputs": [],
   "source": [
    "# | export\n",
    "\n",
    "\n",
    "@model_train_router.delete(\n",
    "    \"/{model_uuid}\", response_model=ModelRead, responses=get_model_responses  # type: ignore\n",
    ")\n",
    "def delete_model(\n",
    "    model_uuid: str,\n",
    "    user: User = Depends(get_current_active_user),\n",
    "    session: Session = Depends(get_session),\n",
    ") -> Model:\n",
    "    \"\"\"Delete model\"\"\"\n",
    "    user = session.merge(user)\n",
    "    # get details from the internal db for model_id\n",
    "    model = get_model(model_uuid=model_uuid, user=user, session=session)\n",
    "\n",
    "    if model.path is not None:\n",
    "        shutil.rmtree(model.path)\n",
    "    model.disabled = True\n",
    "\n",
    "    session.add(model)\n",
    "    session.commit()\n",
    "    session.refresh(model)\n",
    "    return model"
   ]
  },
  {
   "cell_type": "code",
   "execution_count": null,
   "id": "9401014f",
   "metadata": {},
   "outputs": [
    {
     "data": {
      "text/plain": [
       "Model(cloud_provider=<CloudProvider.aws: 'aws'>, error=None, datasource_id=2, client_column='client_column', region='eu-west-1', user_id=77, target_column='target_column', disabled=True, target='target', created=datetime.datetime(2022, 10, 20, 6, 36, 9), predict_after=datetime.timedelta(days=100), id=5, timestamp_column=None, uuid=UUID('bfb11a8f-1ef1-46aa-af63-bc8d3a6977af'), total_steps=5, path=None, completed_steps=0)"
      ]
     },
     "metadata": {},
     "output_type": "display_data"
    }
   ],
   "source": [
    "with get_session_with_context() as session:\n",
    "    user = session.exec(select(User).where(User.username == test_username)).one()\n",
    "    model = Model(\n",
    "        client_column=\"client_column\",\n",
    "        target_column=\"target_column\",\n",
    "        target=\"target\",\n",
    "        predict_after=timedelta(100),\n",
    "        cloud_provider=datasource_cloud_provider,\n",
    "        region=datasource_region,\n",
    "        total_steps=5,\n",
    "        user=user,\n",
    "        datasource_id=datasource_id,\n",
    "    )\n",
    "    session.add(model)\n",
    "    session.commit()\n",
    "    session.refresh(model)\n",
    "\n",
    "    actual = delete_model(model_uuid=model.uuid, user=user, session=session)\n",
    "    display(actual)\n",
    "    assert actual.disabled == True\n",
    "    # assert not Path(actual.path).exists()"
   ]
  },
  {
   "cell_type": "code",
   "execution_count": null,
   "id": "140549b4",
   "metadata": {},
   "outputs": [],
   "source": [
    "# | export\n",
    "\n",
    "\n",
    "@model_train_router.get(\"/{model_uuid}/evaluate\", responses=get_model_responses)  # type: ignore\n",
    "def evaluate_model(\n",
    "    model_uuid: str,\n",
    "    user: User = Depends(get_current_active_user),\n",
    "    session: Session = Depends(get_session),\n",
    ") -> Dict[str, float]:\n",
    "    \"\"\"Get accuracy, recall, precision of the trained model\"\"\"\n",
    "    user = session.merge(user)\n",
    "    # get evaluation for the trained model\n",
    "    model = get_model(model_uuid=model_uuid, user=user, session=session)\n",
    "    return {\"accuracy\": 0.985, \"recall\": 0.962, \"precision\": 0.934}"
   ]
  },
  {
   "cell_type": "code",
   "execution_count": null,
   "id": "63f1a2ea",
   "metadata": {},
   "outputs": [
    {
     "data": {
      "text/plain": [
       "{'accuracy': 0.985, 'recall': 0.962, 'precision': 0.934}"
      ]
     },
     "metadata": {},
     "output_type": "display_data"
    }
   ],
   "source": [
    "with get_session_with_context() as session:\n",
    "    user = session.exec(select(User).where(User.username == test_username)).one()\n",
    "    model_trained = session.merge(model_trained)\n",
    "\n",
    "    actual = evaluate_model(model_uuid=model_trained.uuid, user=user, session=session)\n",
    "    display(actual)\n",
    "    assert isinstance(actual, dict)\n",
    "    assert \"accuracy\" in actual\n",
    "    assert \"recall\" in actual\n",
    "    assert \"precision\" in actual"
   ]
  },
  {
   "cell_type": "code",
   "execution_count": null,
   "id": "ad0f9374",
   "metadata": {},
   "outputs": [],
   "source": [
    "# | export\n",
    "\n",
    "\n",
    "@model_train_router.get(\"/\", response_model=List[ModelRead])\n",
    "def get_all_model(\n",
    "    disabled: bool = False,\n",
    "    completed: bool = False,\n",
    "    offset: int = 0,\n",
    "    limit: int = Query(default=100, lte=100),\n",
    "    user: User = Depends(get_current_active_user),\n",
    "    session: Session = Depends(get_session),\n",
    ") -> List[Model]:\n",
    "    \"\"\"Get all models created by user\"\"\"\n",
    "    user = session.merge(user)\n",
    "    statement = select(Model).where(Model.user == user)\n",
    "    statement = statement.where(Model.disabled == disabled)\n",
    "    if completed:\n",
    "        statement = statement.where(Model.completed_steps == Model.total_steps)\n",
    "    # get all models from db\n",
    "    models = session.exec(statement.offset(offset).limit(limit)).all()\n",
    "    return models"
   ]
  },
  {
   "cell_type": "code",
   "execution_count": null,
   "id": "7dc0ee5b",
   "metadata": {},
   "outputs": [
    {
     "data": {
      "text/plain": [
       "[Model(cloud_provider=<CloudProvider.aws: 'aws'>, error=None, datasource_id=2, client_column='AccountId', region='eu-west-1', user_id=77, target_column='DefinitionId', disabled=False, target='load*', created=datetime.datetime(2022, 10, 20, 6, 36, 9), predict_after=datetime.timedelta(days=20), id=2, timestamp_column=None, uuid=UUID('cfdf1bd1-1262-47a4-8518-1f0ffaf42f84'), total_steps=5, path=None, completed_steps=5)]"
      ]
     },
     "metadata": {},
     "output_type": "display_data"
    }
   ],
   "source": [
    "with get_session_with_context() as session:\n",
    "    user = session.exec(select(User).where(User.username == test_username)).one()\n",
    "    actual = get_all_model(\n",
    "        disabled=False, completed=False, offset=0, limit=1, user=user, session=session\n",
    "    )\n",
    "    display(actual)\n",
    "\n",
    "    assert len(actual) == 1\n",
    "    assert isinstance(actual[0], Model)\n",
    "    # assert actual[0] == user.models[0]"
   ]
  },
  {
   "cell_type": "code",
   "execution_count": null,
   "id": "4105b165",
   "metadata": {},
   "outputs": [
    {
     "data": {
      "text/plain": [
       "'len(actual)=2'"
      ]
     },
     "metadata": {},
     "output_type": "display_data"
    },
    {
     "data": {
      "text/plain": [
       "'len(actual)=2'"
      ]
     },
     "metadata": {},
     "output_type": "display_data"
    },
    {
     "data": {
      "text/plain": [
       "'len(actual)=1'"
      ]
     },
     "metadata": {},
     "output_type": "display_data"
    }
   ],
   "source": [
    "actual = get_all_model(\n",
    "    disabled=False, completed=False, offset=0, limit=10, user=user, session=session\n",
    ")\n",
    "display(f\"{len(actual)=}\")\n",
    "for model in actual:\n",
    "    assert not model.disabled\n",
    "\n",
    "actual = get_all_model(\n",
    "    disabled=True, completed=False, offset=0, limit=10, user=user, session=session\n",
    ")\n",
    "display(f\"{len(actual)=}\")\n",
    "for model in actual:\n",
    "    assert model.disabled\n",
    "\n",
    "actual = get_all_model(\n",
    "    disabled=False, completed=True, offset=0, limit=10, user=user, session=session\n",
    ")\n",
    "display(f\"{len(actual)=}\")\n",
    "for model in actual:\n",
    "    assert model.completed_steps == model.total_steps"
   ]
  },
  {
   "cell_type": "code",
   "execution_count": null,
   "id": "ce944e28",
   "metadata": {},
   "outputs": [],
   "source": [
    "# | export\n",
    "\n",
    "\n",
    "@model_train_router.post(\n",
    "    \"/{model_uuid}/predict\",\n",
    "    response_model=PredictionRead,\n",
    "    responses={\n",
    "        **get_model_responses,  # type: ignore\n",
    "        412: {\"model\": HTTPError, \"description\": ERRORS[\"QUOTA_EXCEEDED\"]},\n",
    "    },\n",
    ")\n",
    "def predict_model(\n",
    "    *,\n",
    "    model_uuid: str,\n",
    "    datasource_select: Optional[DataSourceSelect] = None,\n",
    "    user: User = Depends(get_current_active_user),\n",
    "    session: Session = Depends(get_session),\n",
    "    background_tasks: BackgroundTasks,\n",
    ") -> Prediction:\n",
    "    \"\"\"Start prediction using trained model and for the given datasource\"\"\"\n",
    "    user = session.merge(user)\n",
    "    if not user.subscription_type.value in [\n",
    "        \"small\",\n",
    "        \"medium\",\n",
    "        \"large\",\n",
    "        \"infobip\",\n",
    "        \"captn\",\n",
    "    ]:\n",
    "        raise HTTPException(\n",
    "            status_code=status.HTTP_412_PRECONDITION_FAILED,\n",
    "            detail=ERRORS[\"QUOTA_EXCEEDED\"],\n",
    "        )\n",
    "    model = get_model(model_uuid=model_uuid, user=user, session=session)\n",
    "    data_uuid = (\n",
    "        model.datasource.uuid\n",
    "        if datasource_select is None\n",
    "        else datasource_select.data_uuid\n",
    "    )\n",
    "    datasource = DataSource.get(uuid=data_uuid, user=user, session=session)  # type: ignore\n",
    "    # start prediction for the trained model and return prediction_id\n",
    "    prediction = Prediction(\n",
    "        total_steps=3,\n",
    "        user=user,\n",
    "        model=model,\n",
    "        datasource_id=datasource.id,\n",
    "        cloud_provider=datasource.cloud_provider,\n",
    "        region=datasource.region,\n",
    "    )\n",
    "    session.add(prediction)\n",
    "    session.commit()\n",
    "\n",
    "    command = f\"predict {prediction.id}\"\n",
    "\n",
    "    create_batch_job(\n",
    "        command=command,\n",
    "        task=\"csv_processing\",\n",
    "        cloud_provider=prediction.cloud_provider,\n",
    "        region=prediction.region,\n",
    "        background_tasks=background_tasks,\n",
    "    )\n",
    "\n",
    "    return prediction"
   ]
  },
  {
   "cell_type": "code",
   "execution_count": null,
   "id": "b8a11a18",
   "metadata": {},
   "outputs": [
    {
     "name": "stdout",
     "output_type": "stream",
     "text": [
      "[INFO] airt_service.batch_job: create_batch_job(): command='predict 2', task='csv_processing'\n",
      "[INFO] airt_service.batch_job_components.base: Entering FastAPIBatchJobContext(task=csv_processing)\n",
      "[INFO] airt_service.batch_job: batch_ctx=FastAPIBatchJobContext(task=csv_processing)\n",
      "[INFO] airt_service.batch_job_components.fastapi: FastAPIBatchJobContext.create_job(self=FastAPIBatchJobContext(task=csv_processing), command='predict 2', environment_vars={'AWS_ACCESS_KEY_ID': '********************', 'AWS_SECRET_ACCESS_KEY': '****************************************', 'AWS_DEFAULT_REGION': 'eu-west-1', 'AZURE_SUBSCRIPTION_ID': '************************************', 'AZURE_TENANT_ID': '************************************', 'AZURE_CLIENT_ID': '************************************', 'AZURE_CLIENT_SECRET': '****************************************', 'AZURE_STORAGE_ACCOUNT_PREFIX': 'kumsairtsdev', 'AZURE_RESOURCE_GROUP': 'kumaran-airt-service-dev', 'STORAGE_BUCKET_PREFIX': 'kumaran-airt-service', 'DB_USERNAME': 'root', 'DB_PASSWORD': '****************************************', 'DB_HOST': 'kumaran-mysql', 'DB_PORT': '3306', 'DB_DATABASE': 'airt_service', 'DB_DATABASE_SERVER': 'mysql'})\n",
      "[INFO] airt_service.batch_job_components.base: Exiting FastAPIBatchJobContext(task=csv_processing): exc_type=None, exc=None, None\n"
     ]
    },
    {
     "data": {
      "text/plain": [
       "Prediction(region='eu-west-1', created=datetime.datetime(2022, 10, 20, 6, 36, 10), uuid=UUID('36158532-0a49-40b7-b52a-bb6a949b683c'), datasource_id=2, total_steps=3, completed_steps=0, cloud_provider=<CloudProvider.aws: 'aws'>, id=2, disabled=False, path=None, model_id=2, error=None)"
      ]
     },
     "metadata": {},
     "output_type": "display_data"
    },
    {
     "data": {
      "text/plain": [
       "'bg_task.func=<function execute_cli>'"
      ]
     },
     "metadata": {},
     "output_type": "display_data"
    },
    {
     "data": {
      "text/plain": [
       "'bg_task.args=()'"
      ]
     },
     "metadata": {},
     "output_type": "display_data"
    },
    {
     "data": {
      "text/plain": [
       "\"bg_task.kwargs={'command': 'predict 2'}\""
      ]
     },
     "metadata": {},
     "output_type": "display_data"
    },
    {
     "data": {
      "text/plain": [
       "<ExceptionInfo HTTPException(status_code=412, detail='Quota exceeded') tblen=2>"
      ]
     },
     "metadata": {},
     "output_type": "display_data"
    }
   ],
   "source": [
    "with get_session_with_context() as session:\n",
    "    user = session.exec(select(User).where(User.username == test_username)).one()\n",
    "    model_trained = session.exec(\n",
    "        select(Model).where(Model.id == model_trained.id)\n",
    "    ).one()\n",
    "    # model_trained = session.merge(model_trained)\n",
    "    b = BackgroundTasks()\n",
    "\n",
    "    with set_env_variable_context(variable=\"JOB_EXECUTOR\", value=\"fastapi\"):\n",
    "        actual = predict_model(\n",
    "            model_uuid=model_trained.uuid,\n",
    "            user=user,\n",
    "            session=session,\n",
    "            background_tasks=b,\n",
    "        )\n",
    "    display(actual)\n",
    "    assert isinstance(actual, Prediction)\n",
    "    bg_task = b.tasks[-1]\n",
    "    display(f\"{bg_task.func=}\", f\"{bg_task.args=}\", f\"{bg_task.kwargs=}\")\n",
    "    assert bg_task.func == execute_cli\n",
    "    assert bg_task.kwargs[\"command\"] == f\"predict {actual.id}\"\n",
    "\n",
    "    user.subscription_type = SubscriptionType.test\n",
    "    session.add(user)\n",
    "    session.commit()\n",
    "    with pytest.raises(HTTPException) as e:\n",
    "        with set_env_variable_context(variable=\"JOB_EXECUTOR\", value=\"fastapi\"):\n",
    "            predict_model(\n",
    "                model_uuid=model_trained.uuid,\n",
    "                user=user,\n",
    "                session=session,\n",
    "                background_tasks=b,\n",
    "            )\n",
    "    display(e)"
   ]
  },
  {
   "cell_type": "code",
   "execution_count": null,
   "id": "5db59eee",
   "metadata": {},
   "outputs": [],
   "source": [
    "# | export\n",
    "\n",
    "\n",
    "@call_parse\n",
    "def predict(prediction_id: Param(\"id of prediction in db\", int)):  # type: ignore\n",
    "    \"\"\"Copy datasource parquet to prediction path to create dummy prediction output\n",
    "\n",
    "    Args:\n",
    "        prediction_id: Id of prediction in db\n",
    "\n",
    "    Example:\n",
    "        The following code executes a CLI command:\n",
    "        ```predict 1\n",
    "        ```\n",
    "    \"\"\"\n",
    "    with get_session_with_context() as session:\n",
    "        prediction = session.exec(\n",
    "            select(Prediction).where(Prediction.id == prediction_id)\n",
    "        ).one()\n",
    "        prediction.path = None\n",
    "\n",
    "        datasource = session.exec(\n",
    "            select(DataSource).where(DataSource.id == prediction.model.datasource_id)\n",
    "        ).one()\n",
    "\n",
    "        try:\n",
    "            if datasource.cloud_provider == \"aws\":\n",
    "                destination_bucket, s3_path = create_s3_prediction_path(\n",
    "                    user_id=prediction.model.user.id,\n",
    "                    prediction_id=prediction.id,\n",
    "                    region=prediction.region,\n",
    "                )\n",
    "                destination_remote_url = f\"s3://{destination_bucket.name}/{s3_path}\"\n",
    "            elif datasource.cloud_provider == \"azure\":\n",
    "                (\n",
    "                    destination_container_client,\n",
    "                    destination_azure_blob_storage_path,\n",
    "                ) = create_azure_blob_storage_prediction_path(\n",
    "                    user_id=prediction.model.user.id,\n",
    "                    prediction_id=prediction.id,\n",
    "                    region=prediction.region,\n",
    "                )\n",
    "                destination_remote_url = f\"{destination_container_client.url}/{destination_azure_blob_storage_path}\"\n",
    "\n",
    "            with RemotePath.from_url(\n",
    "                remote_url=destination_remote_url,\n",
    "                pull_on_enter=False,\n",
    "                push_on_exit=True,\n",
    "                exist_ok=True,\n",
    "                parents=True,\n",
    "            ) as destination_path:\n",
    "                sync_path = destination_path.as_path()\n",
    "                source_remote_url = datasource.path\n",
    "                with RemotePath.from_url(\n",
    "                    remote_url=source_remote_url,\n",
    "                    pull_on_enter=True,\n",
    "                    push_on_exit=False,\n",
    "                    exist_ok=True,\n",
    "                    parents=False,\n",
    "                ) as source_remote_path:\n",
    "                    source_files = source_remote_path.as_path().iterdir()\n",
    "                    source_files = [\n",
    "                        f for f in source_files if METADATA_FOLDER_PATH not in str(f)\n",
    "                    ]\n",
    "                    for f in source_files:\n",
    "                        shutil.move(str(f), sync_path)\n",
    "\n",
    "            prediction.path = destination_remote_url  # type: ignore\n",
    "            prediction.completed_steps = prediction.total_steps\n",
    "        except Exception as e:\n",
    "            prediction.error = truncate(str(e))\n",
    "        session.add(prediction)\n",
    "        session.commit()"
   ]
  },
  {
   "cell_type": "code",
   "execution_count": null,
   "id": "266f2e50",
   "metadata": {},
   "outputs": [
    {
     "name": "stdout",
     "output_type": "stream",
     "text": [
      "[INFO] airt_service.batch_job: create_batch_job(): command='predict 3', task='csv_processing'\n",
      "[INFO] airt_service.batch_job_components.base: Entering FastAPIBatchJobContext(task=csv_processing)\n",
      "[INFO] airt_service.batch_job: batch_ctx=FastAPIBatchJobContext(task=csv_processing)\n",
      "[INFO] airt_service.batch_job_components.fastapi: FastAPIBatchJobContext.create_job(self=FastAPIBatchJobContext(task=csv_processing), command='predict 3', environment_vars={'AWS_ACCESS_KEY_ID': '********************', 'AWS_SECRET_ACCESS_KEY': '****************************************', 'AWS_DEFAULT_REGION': 'eu-west-1', 'AZURE_SUBSCRIPTION_ID': '************************************', 'AZURE_TENANT_ID': '************************************', 'AZURE_CLIENT_ID': '************************************', 'AZURE_CLIENT_SECRET': '****************************************', 'AZURE_STORAGE_ACCOUNT_PREFIX': 'kumsairtsdev', 'AZURE_RESOURCE_GROUP': 'kumaran-airt-service-dev', 'STORAGE_BUCKET_PREFIX': 'kumaran-airt-service', 'DB_USERNAME': 'root', 'DB_PASSWORD': '****************************************', 'DB_HOST': 'kumaran-mysql', 'DB_PORT': '3306', 'DB_DATABASE': 'airt_service', 'DB_DATABASE_SERVER': 'mysql'})\n",
      "[INFO] airt_service.batch_job_components.base: Exiting FastAPIBatchJobContext(task=csv_processing): exc_type=None, exc=None, None\n"
     ]
    },
    {
     "data": {
      "text/plain": [
       "Prediction(region='eu-west-1', created=datetime.datetime(2022, 10, 20, 6, 36, 10), uuid=UUID('7616178b-edfe-4d97-a496-87074a0ca8ee'), datasource_id=2, total_steps=3, completed_steps=0, cloud_provider=<CloudProvider.aws: 'aws'>, id=3, disabled=False, path=None, model_id=2, error=None)"
      ]
     },
     "metadata": {},
     "output_type": "display_data"
    },
    {
     "name": "stdout",
     "output_type": "stream",
     "text": [
      "[INFO] airt.remote_path: RemotePath.from_url(): creating remote path with the following url s3://kumaran-airt-service-eu-west-1/77/prediction/3\n",
      "[INFO] airt.remote_path: S3Path._create_cache_path(): created cache path: /tmp/s3kumaran-airt-service-eu-west-177prediction3_cached_kdk501zv\n",
      "[INFO] airt.remote_path: S3Path.__init__(): created object for accessing s3://kumaran-airt-service-eu-west-1/77/prediction/3 locally in /tmp/s3kumaran-airt-service-eu-west-177prediction3_cached_kdk501zv\n",
      "[INFO] airt.remote_path: RemotePath.from_url(): creating remote path with the following url s3://kumaran-airt-service-eu-west-1/77/datasource/2\n",
      "[INFO] airt.remote_path: S3Path._create_cache_path(): created cache path: /tmp/s3kumaran-airt-service-eu-west-177datasource2_cached_vcckf1fz\n",
      "[INFO] airt.remote_path: S3Path.__init__(): created object for accessing s3://kumaran-airt-service-eu-west-1/77/datasource/2 locally in /tmp/s3kumaran-airt-service-eu-west-177datasource2_cached_vcckf1fz\n",
      "[INFO] airt.remote_path: S3Path.__enter__(): pulling data from s3://kumaran-airt-service-eu-west-1/77/datasource/2 to /tmp/s3kumaran-airt-service-eu-west-177datasource2_cached_vcckf1fz\n",
      "[INFO] airt.remote_path: S3Path._clean_up(): removing local cache path /tmp/s3kumaran-airt-service-eu-west-177datasource2_cached_vcckf1fz\n",
      "[INFO] airt.remote_path: S3Path.__exit__(): pushing data from /tmp/s3kumaran-airt-service-eu-west-177prediction3_cached_kdk501zv to s3://kumaran-airt-service-eu-west-1/77/prediction/3\n",
      "[INFO] airt.remote_path: S3Path._clean_up(): removing local cache path /tmp/s3kumaran-airt-service-eu-west-177prediction3_cached_kdk501zv\n"
     ]
    },
    {
     "data": {
      "text/plain": [
       "Prediction(total_steps=3, completed_steps=3, region='eu-west-1', created=datetime.datetime(2022, 10, 20, 6, 36, 10), uuid=UUID('7616178b-edfe-4d97-a496-87074a0ca8ee'), datasource_id=2, cloud_provider=<CloudProvider.aws: 'aws'>, error=None, disabled=False, id=3, path='s3://kumaran-airt-service-eu-west-1/77/prediction/3', model_id=2)"
      ]
     },
     "metadata": {},
     "output_type": "display_data"
    },
    {
     "name": "stdout",
     "output_type": "stream",
     "text": [
      "[INFO] airt.remote_path: RemotePath.from_url(): creating remote path with the following url s3://kumaran-airt-service-eu-west-1/77/prediction/3\n",
      "[INFO] airt.remote_path: S3Path._create_cache_path(): created cache path: /tmp/s3kumaran-airt-service-eu-west-177prediction3_cached_ajhceajo\n",
      "[INFO] airt.remote_path: S3Path.__init__(): created object for accessing s3://kumaran-airt-service-eu-west-1/77/prediction/3 locally in /tmp/s3kumaran-airt-service-eu-west-177prediction3_cached_ajhceajo\n",
      "[INFO] airt.remote_path: S3Path.__enter__(): pulling data from s3://kumaran-airt-service-eu-west-1/77/prediction/3 to /tmp/s3kumaran-airt-service-eu-west-177prediction3_cached_ajhceajo\n"
     ]
    },
    {
     "data": {
      "text/plain": [
       "'OK'"
      ]
     },
     "metadata": {},
     "output_type": "display_data"
    },
    {
     "name": "stdout",
     "output_type": "stream",
     "text": [
      "[INFO] airt.remote_path: S3Path._clean_up(): removing local cache path /tmp/s3kumaran-airt-service-eu-west-177prediction3_cached_ajhceajo\n"
     ]
    }
   ],
   "source": [
    "with get_session_with_context() as session:\n",
    "    user = session.exec(select(User).where(User.username == test_username)).one()\n",
    "    user.subscription_type = SubscriptionType.small\n",
    "    session.add(user)\n",
    "    session.commit()\n",
    "    model_trained = session.merge(model_trained)\n",
    "    b = BackgroundTasks()\n",
    "\n",
    "    with set_env_variable_context(variable=\"JOB_EXECUTOR\", value=\"fastapi\"):\n",
    "        prediction = predict_model(\n",
    "            model_uuid=model_trained.uuid,\n",
    "            user=user,\n",
    "            session=session,\n",
    "            background_tasks=b,\n",
    "        )\n",
    "    display(prediction)\n",
    "\n",
    "    predict(prediction_id=prediction.id)\n",
    "\n",
    "with get_session_with_context() as session:\n",
    "    prediction = session.exec(\n",
    "        select(Prediction).where(Prediction.id == prediction.id)\n",
    "    ).one()\n",
    "    display(prediction)\n",
    "    assert prediction.error is None\n",
    "    assert prediction.path\n",
    "    assert prediction.completed_steps == prediction.total_steps\n",
    "\n",
    "    # Validating the contents of the destination bucket\n",
    "    destination_bucket, destination_s3_path = create_s3_prediction_path(\n",
    "        user_id=prediction.model.user.id,\n",
    "        prediction_id=prediction.id,\n",
    "        region=prediction.region,\n",
    "    )\n",
    "\n",
    "    destination_bucket, destination_s3_path\n",
    "\n",
    "    with RemotePath.from_url(\n",
    "        remote_url=f\"s3://{destination_bucket.name}/{destination_s3_path}\",\n",
    "        pull_on_enter=True,\n",
    "        push_on_exit=False,\n",
    "        exist_ok=True,\n",
    "        parents=False,\n",
    "    ) as cache_path:\n",
    "        files = [str(p) for p in cache_path.as_path().rglob(\"*.*\")]\n",
    "        assert METADATA_FOLDER_PATH not in files\n",
    "        display(\"OK\")"
   ]
  },
  {
   "cell_type": "code",
   "execution_count": null,
   "id": "e63dc371",
   "metadata": {},
   "outputs": [],
   "source": []
  }
 ],
 "metadata": {
  "kernelspec": {
   "display_name": "Python 3",
   "language": "python",
   "name": "python3"
  }
 },
 "nbformat": 4,
 "nbformat_minor": 5
}
