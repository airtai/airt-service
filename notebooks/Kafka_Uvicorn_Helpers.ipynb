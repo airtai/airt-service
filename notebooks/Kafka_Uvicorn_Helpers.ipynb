{
 "cells": [
  {
   "cell_type": "code",
   "execution_count": null,
   "id": "fbfececc",
   "metadata": {},
   "outputs": [],
   "source": [
    "# | default_exp uvicorn_helpers"
   ]
  },
  {
   "cell_type": "code",
   "execution_count": null,
   "id": "f967cefd",
   "metadata": {},
   "outputs": [],
   "source": [
    "# | export\n",
    "\n",
    "from time import sleep\n",
    "from typing import *\n",
    "from contextlib import contextmanager\n",
    "\n",
    "import multiprocessing\n",
    "\n",
    "from fastapi import FastAPI\n",
    "from uvicorn import Config, Server"
   ]
  },
  {
   "cell_type": "code",
   "execution_count": null,
   "id": "c3a72ac8",
   "metadata": {},
   "outputs": [],
   "source": [
    "from fast_kafka_api.application import FastKafkaAPI"
   ]
  },
  {
   "cell_type": "code",
   "execution_count": null,
   "id": "84f0d1c7",
   "metadata": {},
   "outputs": [],
   "source": [
    "# | notest\n",
    "\n",
    "import nest_asyncio\n",
    "\n",
    "nest_asyncio.apply()"
   ]
  },
  {
   "cell_type": "code",
   "execution_count": null,
   "id": "b47e61b3",
   "metadata": {},
   "outputs": [],
   "source": [
    "# | export\n",
    "\n",
    "\n",
    "@contextmanager\n",
    "def run_uvicorn(arg: Union[Config, FastAPI]):\n",
    "    if isinstance(arg, Config):\n",
    "        config: Config = arg\n",
    "    else:\n",
    "        config = Config(app=arg)\n",
    "\n",
    "    def run(config=config):\n",
    "        server = Server(config=config)\n",
    "        server.run()\n",
    "\n",
    "    p = multiprocessing.Process(target=run)\n",
    "    try:\n",
    "        p.start()\n",
    "        sleep(5)\n",
    "        yield\n",
    "    finally:\n",
    "        p.terminate()\n",
    "        p.join()\n",
    "        p.close()"
   ]
  },
  {
   "cell_type": "code",
   "execution_count": null,
   "id": "b4e10fd1",
   "metadata": {},
   "outputs": [
    {
     "name": "stderr",
     "output_type": "stream",
     "text": [
      "INFO:     Started server process [13096]\n",
      "INFO:     Waiting for application startup.\n",
      "INFO:     Application startup complete.\n",
      "INFO:     Uvicorn running on http://127.0.0.1:6060 (Press CTRL+C to quit)\n"
     ]
    },
    {
     "name": "stdout",
     "output_type": "stream",
     "text": [
      "UvicornServer running\n"
     ]
    },
    {
     "name": "stderr",
     "output_type": "stream",
     "text": [
      "INFO:     Shutting down\n",
      "INFO:     Waiting for application shutdown.\n",
      "INFO:     Application shutdown complete.\n",
      "INFO:     Finished server process [13096]\n"
     ]
    },
    {
     "name": "stdout",
     "output_type": "stream",
     "text": [
      "UvicornServer exiting\n",
      "exited\n",
      "ok\n"
     ]
    }
   ],
   "source": [
    "app = FastAPI()\n",
    "# fast_kafka = FastKafkaAPI(\n",
    "#     app,\n",
    "# )\n",
    "\n",
    "with run_uvicorn(Config(app=app, port=6060)):\n",
    "    print(\"UvicornServer running\")\n",
    "    sleep(2)  # Start timeout\n",
    "    print(\"UvicornServer exiting\")\n",
    "\n",
    "print(\"exited\")\n",
    "print(\"ok\")"
   ]
  },
  {
   "cell_type": "code",
   "execution_count": null,
   "id": "c07f57bb",
   "metadata": {},
   "outputs": [],
   "source": []
  }
 ],
 "metadata": {
  "kernelspec": {
   "display_name": "Python 3 (ipykernel)",
   "language": "python",
   "name": "python3"
  }
 },
 "nbformat": 4,
 "nbformat_minor": 5
}
