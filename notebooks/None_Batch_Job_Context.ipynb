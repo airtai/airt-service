{
 "cells": [
  {
   "cell_type": "raw",
   "metadata": {},
   "source": [
    "---\n",
    "description: Context class which does not runs the job\n",
    "output-file: none_batch_job_context.html\n",
    "title: None Batch Job Context\n",
    "\n",
    "---\n",
    "\n"
   ]
  },
  {
   "cell_type": "code",
   "execution_count": null,
   "metadata": {},
   "outputs": [],
   "source": [
    "#| default_exp batch_job_components.none"
   ]
  },
  {
   "cell_type": "code",
   "execution_count": null,
   "metadata": {},
   "outputs": [
    {
     "name": "stdout",
     "output_type": "stream",
     "text": [
      "[INFO] airt.testing.activate_by_import: Testing environment activated.\n",
      "[INFO] numexpr.utils: Note: NumExpr detected 16 cores but \"NUMEXPR_MAX_THREADS\" not set, so enforcing safe limit of 8.\n",
      "[INFO] numexpr.utils: NumExpr defaulting to 8 threads.\n",
      "[INFO] airt.keras.helpers: Using a single GPU #0 with memory_limit 1024 MB\n"
     ]
    }
   ],
   "source": [
    "from airt.testing import activate_by_import"
   ]
  },
  {
   "cell_type": "code",
   "execution_count": null,
   "metadata": {},
   "outputs": [],
   "source": [
    "#| export\n",
    "\n",
    "from typing import *\n",
    "\n",
    "import airt_service.sanitizer\n",
    "from airt.logger import get_logger\n",
    "\n",
    "from airt_service.batch_job_components.base import BatchJobContext"
   ]
  },
  {
   "cell_type": "code",
   "execution_count": null,
   "metadata": {},
   "outputs": [],
   "source": [
    "from airt_service.helpers import set_env_variable_context"
   ]
  },
  {
   "cell_type": "code",
   "execution_count": null,
   "metadata": {},
   "outputs": [],
   "source": [
    "#| exporti\n",
    "\n",
    "logger = get_logger(__name__)"
   ]
  },
  {
   "cell_type": "code",
   "execution_count": null,
   "metadata": {},
   "outputs": [],
   "source": [
    "#| export\n",
    "\n",
    "\n",
    "class NoneBatchJobContext(BatchJobContext):\n",
    "    def __init__(self, task: str, **kwargs):\n",
    "        \"\"\"None Batch Job Context\n",
    "\n",
    "        Do not use __init__, please use factory method `create` to initiate object\n",
    "        \"\"\"\n",
    "        BatchJobContext.__init__(self, task=task)\n",
    "        # do nothing\n",
    "\n",
    "    def create_job(self, command: str, environment_vars: Dict[str, str]):\n",
    "        \"\"\"Create a new job\n",
    "\n",
    "        Args:\n",
    "            command: Command to execute in job\n",
    "            environment_vars: Environment vars to set in the container\n",
    "        \"\"\"\n",
    "        logger.info(\n",
    "            f\"{self.__class__.__name__}.create_job({self=}, {command=}, {environment_vars=})\"\n",
    "        )\n",
    "        # do nothing\n",
    "\n",
    "\n",
    "NoneBatchJobContext.add_factory()"
   ]
  },
  {
   "cell_type": "code",
   "execution_count": null,
   "metadata": {},
   "outputs": [
    {
     "name": "stdout",
     "output_type": "stream",
     "text": [
      "[INFO] airt_service.batch_job_components.base: Entering NoneBatchJobContext(task=csv_processing)\n"
     ]
    },
    {
     "data": {
      "text/plain": [
       "NoneBatchJobContext(task=csv_processing)"
      ]
     },
     "metadata": {},
     "output_type": "display_data"
    },
    {
     "name": "stdout",
     "output_type": "stream",
     "text": [
      "[INFO] __main__: NoneBatchJobContext.create_job(self=NoneBatchJobContext(task=csv_processing), command='ls', environment_vars={})\n",
      "[INFO] airt_service.batch_job_components.base: Exiting NoneBatchJobContext(task=csv_processing): exc_type=None, exc=None, None\n"
     ]
    }
   ],
   "source": [
    "with set_env_variable_context(variable=\"JOB_EXECUTOR\", value=\"none\"):\n",
    "    with BatchJobContext.create(\"csv_processing\") as batch_ctx:\n",
    "        display(batch_ctx)\n",
    "        assert batch_ctx.__class__.__name__ == \"NoneBatchJobContext\"\n",
    "        batch_ctx.create_job(command=\"ls\", environment_vars={})"
   ]
  },
  {
   "cell_type": "code",
   "execution_count": null,
   "metadata": {},
   "outputs": [],
   "source": []
  }
 ],
 "metadata": {
  "kernelspec": {
   "display_name": "Python 3",
   "language": "python",
   "name": "python3"
  }
 },
 "nbformat": 4,
 "nbformat_minor": 4
}
