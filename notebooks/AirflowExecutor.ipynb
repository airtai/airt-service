{
 "cells": [
  {
   "cell_type": "raw",
   "id": "4768e8b7",
   "metadata": {},
   "source": [
    "---\n",
    "description: Notebook for creating airflow executor based on environment variable\n",
    "output-file: airflowexecutor.html\n",
    "title: Airflow Executor\n",
    "\n",
    "---\n",
    "\n"
   ]
  },
  {
   "cell_type": "code",
   "execution_count": null,
   "id": "853feaf8",
   "metadata": {},
   "outputs": [],
   "source": [
    "# | default_exp airflow.executor"
   ]
  },
  {
   "cell_type": "code",
   "execution_count": null,
   "id": "8d3303e1",
   "metadata": {},
   "outputs": [
    {
     "name": "stdout",
     "output_type": "stream",
     "text": [
      "22-12-19 09:00:02.575 [INFO] airt.executor.subcommand: Module loaded.\n"
     ]
    }
   ],
   "source": [
    "# | export\n",
    "\n",
    "from os import environ\n",
    "from typing import *\n",
    "\n",
    "import airt_service.sanitizer\n",
    "from airt.executor.subcommand import CLICommandBase\n",
    "from airt.logger import get_logger\n",
    "from airt_service.airflow.aws_batch_executor import AirflowAWSBatchExecutor\n",
    "from airt_service.airflow.azure_batch_executor import AirflowAzureBatchExecutor\n",
    "from airt_service.airflow.base_executor import BaseAirflowExecutor\n",
    "from airt_service.airflow.bash_executor import AirflowBashExecutor"
   ]
  },
  {
   "cell_type": "code",
   "execution_count": null,
   "id": "aa676fde",
   "metadata": {},
   "outputs": [
    {
     "name": "stdout",
     "output_type": "stream",
     "text": [
      "[INFO] airt.testing.activate_by_import: Testing environment activated.\n"
     ]
    },
    {
     "name": "stderr",
     "output_type": "stream",
     "text": [
      "2022-12-19 09:00:03.152396: E tensorflow/stream_executor/cuda/cuda_blas.cc:2981] Unable to register cuBLAS factory: Attempting to register factory for plugin cuBLAS when one has already been registered\n"
     ]
    },
    {
     "name": "stdout",
     "output_type": "stream",
     "text": [
      "[WARNING] airt.testing.activate_by_import: Failed to set gpu memory limit for tf; This could happen because of no gpu availability\n"
     ]
    }
   ],
   "source": [
    "import tempfile\n",
    "from pathlib import Path\n",
    "\n",
    "import yaml\n",
    "from airt.executor.subcommand import ClassCLICommand, SimpleCLICommand\n",
    "from airt.testing import activate_by_import\n",
    "from airt_service.airflow.utils import wait_for_run_to_complete\n",
    "from airt_service.aws.batch_utils import (\n",
    "    create_default_batch_environment_config,\n",
    "    create_testing_batch_environment_ctx,\n",
    ")\n",
    "from airt_service.helpers import generate_random_string, set_env_variable_context"
   ]
  },
  {
   "cell_type": "code",
   "execution_count": null,
   "id": "0b9ab162",
   "metadata": {},
   "outputs": [],
   "source": [
    "# | exporti\n",
    "\n",
    "logger = get_logger(__name__)"
   ]
  },
  {
   "cell_type": "code",
   "execution_count": null,
   "id": "2922d70d",
   "metadata": {},
   "outputs": [
    {
     "name": "stdout",
     "output_type": "stream",
     "text": [
      "[INFO] __main__: Module loaded.\n"
     ]
    }
   ],
   "source": [
    "logger.info(\"Module loaded.\")"
   ]
  },
  {
   "cell_type": "code",
   "execution_count": null,
   "id": "c3ba5158",
   "metadata": {},
   "outputs": [
    {
     "data": {
      "text/plain": [
       "\"paths=[Path('/tmp/tmpzozxgbyu/data'), Path('/tmp/tmpzozxgbyu/model')]\""
      ]
     },
     "metadata": {},
     "output_type": "display_data"
    },
    {
     "data": {
      "text/plain": [
       "('local:/tmp/tmpzozxgbyu/data', 'local:/tmp/tmpzozxgbyu/model')"
      ]
     },
     "execution_count": null,
     "metadata": {},
     "output_type": "execute_result"
    }
   ],
   "source": [
    "def setup_test_paths(d: str) -> Tuple[str, str]:\n",
    "    d = Path(d)\n",
    "    paths = [d / sd for sd in [\"data\", \"model\"]]\n",
    "    display(f\"{paths=}\")\n",
    "\n",
    "    # create tmp dirs for data and model\n",
    "    for p in paths:\n",
    "        p.mkdir(parents=True, exist_ok=True)\n",
    "\n",
    "    # RemotePaths: data_path is \"read-only\", while model_path can be used for both reading and writing between calls\n",
    "    return tuple(f\"local:{p}\" for p in paths)\n",
    "\n",
    "\n",
    "with tempfile.TemporaryDirectory() as d:\n",
    "    data_path_url, model_path_url = setup_test_paths(d)\n",
    "\n",
    "data_path_url, model_path_url"
   ]
  },
  {
   "cell_type": "code",
   "execution_count": null,
   "id": "a690a166",
   "metadata": {},
   "outputs": [],
   "source": [
    "# | export\n",
    "\n",
    "\n",
    "class AirflowExecutor:\n",
    "    @classmethod\n",
    "    def create_executor(\n",
    "        cls, steps: List[CLICommandBase], cloud_provider: str, **kwargs\n",
    "    ) -> BaseAirflowExecutor:\n",
    "        \"\"\"\n",
    "        Initialize and return airflow bash or batch executor based on env variable\n",
    "\n",
    "        Args:\n",
    "            steps: list of instances of either ClassCLICommand or SimpleCLICommand\n",
    "            cloud_provider: cloud provider to executor batch job\n",
    "            kwargs: additional keyword arguments to pass to init\n",
    "        Returns:\n",
    "            An instance of AirflowBashExecutor or AirflowAWSBatchExecutor\n",
    "        \"\"\"\n",
    "\n",
    "        job_executor = environ.get(\"JOB_EXECUTOR\", None)\n",
    "\n",
    "        if job_executor == \"aws\":\n",
    "            if cloud_provider == \"azure\":\n",
    "                executor = AirflowAzureBatchExecutor(steps=steps, **kwargs)\n",
    "            else:\n",
    "                executor = AirflowAWSBatchExecutor(steps=steps, **kwargs)\n",
    "        else:\n",
    "            executor = AirflowBashExecutor(steps=steps)\n",
    "\n",
    "        return executor"
   ]
  },
  {
   "cell_type": "code",
   "execution_count": null,
   "id": "64b41bf1",
   "metadata": {},
   "outputs": [],
   "source": [
    "steps = [\n",
    "    ClassCLICommand(\n",
    "        executor_name=\"test-executor\", class_name=\"MyTestExecutor\", f_name=\"f\"\n",
    "    ),\n",
    "    ClassCLICommand(\n",
    "        executor_name=\"test-executor\", class_name=\"MyTestExecutor\", f_name=\"g\"\n",
    "    ),\n",
    "]\n",
    "\n",
    "on_step_start = SimpleCLICommand(command=\"sleep {step_count}\")\n",
    "on_step_end = SimpleCLICommand(command=\"echo step {step_count} completed\")"
   ]
  },
  {
   "cell_type": "code",
   "execution_count": null,
   "id": "a17fa055",
   "metadata": {},
   "outputs": [],
   "source": [
    "def save_test_batch_environment_arns(folder: Path):\n",
    "    test_batch_environment_arns = {\n",
    "        \"eu-west-1\": {\n",
    "            task: {\n",
    "                arn: \"arn:aws:batch:placeholder\"\n",
    "                for arn in [\n",
    "                    \"compute_environment_arn\",\n",
    "                    \"job_definition_arn\",\n",
    "                    \"job_queue_arn\",\n",
    "                ]\n",
    "            }\n",
    "            for task in [\"csv_processing\", \"predictions\", \"preprocessing\", \"training\"]\n",
    "        }\n",
    "    }\n",
    "\n",
    "    folder = Path(folder)\n",
    "    test_batch_environment_arn_path = folder / \"batch_environment.yml\"\n",
    "    with open(test_batch_environment_arn_path, \"w\") as f:\n",
    "        yaml.dump(test_batch_environment_arns, f, default_flow_style=False)\n",
    "\n",
    "    return test_batch_environment_arn_path"
   ]
  },
  {
   "cell_type": "code",
   "execution_count": null,
   "id": "67a21dd1",
   "metadata": {},
   "outputs": [
    {
     "data": {
      "text/plain": [
       "airt_service.airflow.bash_executor.AirflowBashExecutor"
      ]
     },
     "metadata": {},
     "output_type": "display_data"
    },
    {
     "data": {
      "text/plain": [
       "airt_service.airflow.bash_executor.AirflowBashExecutor"
      ]
     },
     "metadata": {},
     "output_type": "display_data"
    },
    {
     "data": {
      "text/plain": [
       "airt_service.airflow.aws_batch_executor.AirflowAWSBatchExecutor"
      ]
     },
     "metadata": {},
     "output_type": "display_data"
    }
   ],
   "source": [
    "executor = AirflowExecutor.create_executor(steps, \"aws\")\n",
    "display(type(executor))\n",
    "assert isinstance(executor, AirflowBashExecutor)\n",
    "\n",
    "with set_env_variable_context(variable=\"JOB_EXECUTOR\", value=\"fastapi\"):\n",
    "    executor = AirflowExecutor.create_executor(steps, \"aws\")\n",
    "    display(type(executor))\n",
    "    assert isinstance(executor, AirflowBashExecutor)\n",
    "\n",
    "with tempfile.TemporaryDirectory() as d:\n",
    "    test_batch_environment_arn_path = save_test_batch_environment_arns(d)\n",
    "    with set_env_variable_context(variable=\"JOB_EXECUTOR\", value=\"aws\"):\n",
    "        executor = AirflowExecutor.create_executor(\n",
    "            steps,\n",
    "            cloud_provider=\"aws\",\n",
    "            region=\"eu-west-1\",\n",
    "            exec_environments=[\"training\", \"training\"],\n",
    "            batch_environment_arn_path=test_batch_environment_arn_path,\n",
    "        )\n",
    "        display(type(executor))\n",
    "        assert isinstance(executor, AirflowAWSBatchExecutor)"
   ]
  },
  {
   "cell_type": "code",
   "execution_count": null,
   "id": "e440fdbf",
   "metadata": {},
   "outputs": [
    {
     "data": {
      "text/plain": [
       "\"paths=[Path('/tmp/tmpsyqro8dt/data'), Path('/tmp/tmpsyqro8dt/model')]\""
      ]
     },
     "metadata": {},
     "output_type": "display_data"
    },
    {
     "data": {
      "text/plain": [
       "airt_service.airflow.bash_executor.AirflowBashExecutor"
      ]
     },
     "metadata": {},
     "output_type": "display_data"
    },
    {
     "name": "stdout",
     "output_type": "stream",
     "text": [
      "CompletedProcess(args=['/home/kumaran/airflow_venv/bin/airflow', 'dags', 'trigger', 'test-executor-my_test_executor-f-data-path-urllocaltmptmpsyqro8dtdata-model-path-urllocaltmptmpsyqro8dtmodel_test-executor-my_test_executor-g-data-path-urllocaltmptmpsyqro8dtdata-model-path-urllocaltmptmpsyqro8dtmodel', '--conf', '{\"data_path_url\": \"local:/tmp/tmpsyqro8dt/data\", \"model_path_url\": \"local:/tmp/tmpsyqro8dt/model\"}', '--run-id', 'airt-service__2022-12-19T09:00:12.953139'], returncode=0, stdout='[\\x1b[34m2022-12-19 09:00:14,013\\x1b[0m] {\\x1b[34m__init__.py:\\x1b[0m42} INFO\\x1b[0m - Loaded API auth backend: airflow.api.auth.backend.session\\x1b[0m\\nCreated <DagRun test-executor-my_test_executor-f-data-path-urllocaltmptmpsyqro8dtdata-model-path-urllocaltmptmpsyqro8dtmodel_test-executor-my_test_executor-g-data-path-urllocaltmptmpsyqro8dtdata-model-path-urllocaltmptmpsyqro8dtmodel @ 2022-12-19T09:00:14+00:00: airt-service__2022-12-19T09:00:12.953139, state:queued, queued_at: 2022-12-19 09:00:14.128843+00:00. externally triggered: True>\\n', stderr='/home/kumaran/airflow_venv/lib/python3.9/site-packages/airflow/configuration.py:545: DeprecationWarning: The sql_alchemy_conn option in [core] has been moved to the sql_alchemy_conn option in [database] - the old setting has been used, but please update your config.\\n  option = self._get_environment_variables(deprecated_key, deprecated_section, key, section)\\n/home/kumaran/airflow_venv/lib/python3.9/site-packages/airflow/configuration.py:545 DeprecationWarning: The sql_alchemy_conn option in [core] has been moved to the sql_alchemy_conn option in [database] - the old setting has been used, but please update your config.\\n')\n",
      "[{'dag_id': 'test-executor-my_test_executor-f-data-path-urllocaltmptmpsyqro8dtdata-model-path-urllocaltmptmpsyqro8dtmodel_test-executor-my_test_executor-g-data-path-urllocaltmptmpsyqro8dtdata-model-path-urllocaltmptmpsyqro8dtmodel', 'run_id': 'airt-service__2022-12-19T09:00:12.953139', 'state': 'running', 'execution_date': '2022-12-19T09:00:14+00:00', 'start_date': '2022-12-19T09:00:14.532544+00:00', 'end_date': ''}]\n"
     ]
    },
    {
     "data": {
      "text/plain": [
       "Path('/home/kumaran/airflow/dags/test-executor-my_test_executor-f-data-path-urllocaltmptmpsyqro8dtdata-model-path-urllocaltmptmpsyqro8dtmodel_test-executor-my_test_executor-g-data-path-urllocaltmptmpsyqro8dtdata-model-path-urllocaltmptmpsyqro8dtmodel.py')"
      ]
     },
     "metadata": {},
     "output_type": "display_data"
    },
    {
     "data": {
      "text/plain": [
       "'airt-service__2022-12-19T09:00:12.953139'"
      ]
     },
     "metadata": {},
     "output_type": "display_data"
    },
    {
     "data": {
      "text/plain": [
       "'success'"
      ]
     },
     "metadata": {},
     "output_type": "display_data"
    }
   ],
   "source": [
    "with tempfile.TemporaryDirectory() as d:\n",
    "    data_path_url, model_path_url = setup_test_paths(d)\n",
    "\n",
    "    with set_env_variable_context(variable=\"JOB_EXECUTOR\", value=\"fastapi\"):\n",
    "        executor = AirflowExecutor.create_executor(steps, cloud_provider=\"aws\")\n",
    "        display(type(executor))\n",
    "        assert isinstance(executor, AirflowBashExecutor)\n",
    "\n",
    "        dag_file_path, run_id = executor.execute(\n",
    "            description=\"test description\",\n",
    "            tags=\"test_tag\",\n",
    "            on_step_start=on_step_start,\n",
    "            on_step_end=on_step_end,\n",
    "            data_path_url=data_path_url,\n",
    "            model_path_url=model_path_url,\n",
    "        )\n",
    "        display(dag_file_path)\n",
    "        display(run_id)\n",
    "\n",
    "        dag_id = str(dag_file_path).split(\"/\")[-1].split(\".py\")[0]\n",
    "        state = wait_for_run_to_complete(dag_id=dag_id, run_id=run_id, timeout=600)\n",
    "        display(state)\n",
    "        dag_file_path.unlink()"
   ]
  },
  {
   "cell_type": "code",
   "execution_count": null,
   "id": "3e60a523",
   "metadata": {},
   "outputs": [
    {
     "data": {
      "text/plain": [
       "\"paths=[Path('/tmp/tmpkry2gw4o/data'), Path('/tmp/tmpkry2gw4o/model')]\""
      ]
     },
     "metadata": {},
     "output_type": "display_data"
    },
    {
     "data": {
      "text/plain": [
       "\"env_config={'eu-west-1': {'csv_processing': {'compute_environment': {'instance_type': 'r5.16xlarge', 'max_instances': 10, 'min_instances': 0, 'name': 'airflow_batch_execute_testing_1785JN_csv_processing_compute_environment'}, 'job_definition': {'image': 'ghcr.io/airtai/airt-service:dev', 'name': 'airflow_batch_execute_testing_1785JN_csv_processing_job_definition'}, 'job_queue': {'name': 'airflow_batch_execute_testing_1785JN_csv_processing_job_queue', 'priority': 100}}, 'predictions': {'compute_environment': {'instance_type': 'g4dn.xlarge', 'max_instances': 10, 'min_instances': 0, 'name': 'airflow_batch_execute_testing_1785JN_predictions_compute_environment'}, 'job_definition': {'image': 'ghcr.io/airtai/airt-service:dev', 'name': 'airflow_batch_execute_testing_1785JN_predictions_job_definition'}, 'job_queue': {'name': 'airflow_batch_execute_testing_1785JN_predictions_job_queue', 'priority': 100}}, 'preprocessing': {'compute_environment': {'instance_type': 'r5.16xlarge', 'max_instances': 10, 'min_instances': 0, 'name': 'airflow_batch_execute_testing_1785JN_preprocessing_compute_environment'}, 'job_definition': {'image': 'ghcr.io/airtai/airt-service:dev', 'name': 'airflow_batch_execute_testing_1785JN_preprocessing_job_definition'}, 'job_queue': {'name': 'airflow_batch_execute_testing_1785JN_preprocessing_job_queue', 'priority': 100}}, 'training': {'compute_environment': {'instance_type': 'g4dn.xlarge', 'max_instances': 10, 'min_instances': 0, 'name': 'airflow_batch_execute_testing_1785JN_training_compute_environment'}, 'job_definition': {'image': 'ghcr.io/airtai/airt-service:dev', 'name': 'airflow_batch_execute_testing_1785JN_training_job_definition'}, 'job_queue': {'name': 'airflow_batch_execute_testing_1785JN_training_job_queue', 'priority': 100}}}}\""
      ]
     },
     "metadata": {},
     "output_type": "display_data"
    },
    {
     "name": "stdout",
     "output_type": "stream",
     "text": [
      "task_name='csv_processing'\n",
      "[INFO] botocore.credentials: Found credentials in environment variables.\n",
      "[INFO] airt_service.aws.batch_utils: wait(): self.arn='arn:aws:batch:eu-west-1:617504802562:compute-environment/airflow_batch_execute_testing_1785JN_csv_processing_compute_environment', status=CREATING, state=ENABLED\n",
      "[INFO] airt_service.aws.batch_utils: wait(): self.arn='arn:aws:batch:eu-west-1:617504802562:compute-environment/airflow_batch_execute_testing_1785JN_csv_processing_compute_environment', status=VALID, state=ENABLED\n",
      "compute_env.arn='arn:aws:batch:eu-west-1:617504802562:compute-environment/airflow_batch_execute_testing_1785JN_csv_processing_compute_environment'\n",
      "[INFO] airt_service.aws.batch_utils: wait(): self.arn='arn:aws:batch:eu-west-1:617504802562:job-queue/airflow_batch_execute_testing_1785JN_csv_processing_job_queue', status=CREATING, state=ENABLED\n",
      "[INFO] airt_service.aws.batch_utils: wait(): self.arn='arn:aws:batch:eu-west-1:617504802562:job-queue/airflow_batch_execute_testing_1785JN_csv_processing_job_queue', status=VALID, state=ENABLED\n",
      "job_queue.arn='arn:aws:batch:eu-west-1:617504802562:job-queue/airflow_batch_execute_testing_1785JN_csv_processing_job_queue'\n",
      "[INFO] airt_service.aws.batch_utils: wait(): self.arn='arn:aws:batch:eu-west-1:617504802562:job-definition/airflow_batch_execute_testing_1785JN_csv_processing_job_definition:1', status=ACTIVE\n",
      "job_definition.arn='arn:aws:batch:eu-west-1:617504802562:job-definition/airflow_batch_execute_testing_1785JN_csv_processing_job_definition:1'\n",
      "task_name='predictions'\n",
      "[INFO] airt_service.aws.batch_utils: wait(): self.arn='arn:aws:batch:eu-west-1:617504802562:compute-environment/airflow_batch_execute_testing_1785JN_predictions_compute_environment', status=CREATING, state=ENABLED\n",
      "[INFO] airt_service.aws.batch_utils: wait(): self.arn='arn:aws:batch:eu-west-1:617504802562:compute-environment/airflow_batch_execute_testing_1785JN_predictions_compute_environment', status=VALID, state=ENABLED\n",
      "compute_env.arn='arn:aws:batch:eu-west-1:617504802562:compute-environment/airflow_batch_execute_testing_1785JN_predictions_compute_environment'\n",
      "[INFO] airt_service.aws.batch_utils: wait(): self.arn='arn:aws:batch:eu-west-1:617504802562:job-queue/airflow_batch_execute_testing_1785JN_predictions_job_queue', status=CREATING, state=ENABLED\n",
      "[INFO] airt_service.aws.batch_utils: wait(): self.arn='arn:aws:batch:eu-west-1:617504802562:job-queue/airflow_batch_execute_testing_1785JN_predictions_job_queue', status=VALID, state=ENABLED\n",
      "job_queue.arn='arn:aws:batch:eu-west-1:617504802562:job-queue/airflow_batch_execute_testing_1785JN_predictions_job_queue'\n",
      "[INFO] airt_service.aws.batch_utils: wait(): self.arn='arn:aws:batch:eu-west-1:617504802562:job-definition/airflow_batch_execute_testing_1785JN_predictions_job_definition:1', status=ACTIVE\n",
      "job_definition.arn='arn:aws:batch:eu-west-1:617504802562:job-definition/airflow_batch_execute_testing_1785JN_predictions_job_definition:1'\n",
      "task_name='preprocessing'\n",
      "[INFO] airt_service.aws.batch_utils: wait(): self.arn='arn:aws:batch:eu-west-1:617504802562:compute-environment/airflow_batch_execute_testing_1785JN_preprocessing_compute_environment', status=CREATING, state=ENABLED\n",
      "[INFO] airt_service.aws.batch_utils: wait(): self.arn='arn:aws:batch:eu-west-1:617504802562:compute-environment/airflow_batch_execute_testing_1785JN_preprocessing_compute_environment', status=VALID, state=ENABLED\n",
      "compute_env.arn='arn:aws:batch:eu-west-1:617504802562:compute-environment/airflow_batch_execute_testing_1785JN_preprocessing_compute_environment'\n",
      "[INFO] airt_service.aws.batch_utils: wait(): self.arn='arn:aws:batch:eu-west-1:617504802562:job-queue/airflow_batch_execute_testing_1785JN_preprocessing_job_queue', status=CREATING, state=ENABLED\n",
      "[INFO] airt_service.aws.batch_utils: wait(): self.arn='arn:aws:batch:eu-west-1:617504802562:job-queue/airflow_batch_execute_testing_1785JN_preprocessing_job_queue', status=VALID, state=ENABLED\n",
      "job_queue.arn='arn:aws:batch:eu-west-1:617504802562:job-queue/airflow_batch_execute_testing_1785JN_preprocessing_job_queue'\n",
      "[INFO] airt_service.aws.batch_utils: wait(): self.arn='arn:aws:batch:eu-west-1:617504802562:job-definition/airflow_batch_execute_testing_1785JN_preprocessing_job_definition:1', status=ACTIVE\n",
      "job_definition.arn='arn:aws:batch:eu-west-1:617504802562:job-definition/airflow_batch_execute_testing_1785JN_preprocessing_job_definition:1'\n",
      "task_name='training'\n",
      "[INFO] airt_service.aws.batch_utils: wait(): self.arn='arn:aws:batch:eu-west-1:617504802562:compute-environment/airflow_batch_execute_testing_1785JN_training_compute_environment', status=CREATING, state=ENABLED\n",
      "[INFO] airt_service.aws.batch_utils: wait(): self.arn='arn:aws:batch:eu-west-1:617504802562:compute-environment/airflow_batch_execute_testing_1785JN_training_compute_environment', status=VALID, state=ENABLED\n",
      "compute_env.arn='arn:aws:batch:eu-west-1:617504802562:compute-environment/airflow_batch_execute_testing_1785JN_training_compute_environment'\n",
      "[INFO] airt_service.aws.batch_utils: wait(): self.arn='arn:aws:batch:eu-west-1:617504802562:job-queue/airflow_batch_execute_testing_1785JN_training_job_queue', status=CREATING, state=ENABLED\n",
      "[INFO] airt_service.aws.batch_utils: wait(): self.arn='arn:aws:batch:eu-west-1:617504802562:job-queue/airflow_batch_execute_testing_1785JN_training_job_queue', status=VALID, state=ENABLED\n",
      "job_queue.arn='arn:aws:batch:eu-west-1:617504802562:job-queue/airflow_batch_execute_testing_1785JN_training_job_queue'\n",
      "[INFO] airt_service.aws.batch_utils: wait(): self.arn='arn:aws:batch:eu-west-1:617504802562:job-definition/airflow_batch_execute_testing_1785JN_training_job_definition:1', status=ACTIVE\n",
      "job_definition.arn='arn:aws:batch:eu-west-1:617504802562:job-definition/airflow_batch_execute_testing_1785JN_training_job_definition:1'\n",
      "CompletedProcess(args=['/home/kumaran/airflow_venv/bin/airflow', 'dags', 'trigger', 'test-executor-my_test_executor-f-data-path-urllocaltmptmpkry2gw4odata-model-path-urllocaltmptmpkry2gw4omodel_test-executor-my_test_executor-g-data-path-urllocaltmptmpkry2gw4odata-model-path-urllocaltmptmpkry2gw4omodel', '--conf', '{}', '--run-id', 'airt-service__2022-12-19T09:01:45.116698'], returncode=0, stdout='[\\x1b[34m2022-12-19 09:01:46,194\\x1b[0m] {\\x1b[34m__init__.py:\\x1b[0m42} INFO\\x1b[0m - Loaded API auth backend: airflow.api.auth.backend.session\\x1b[0m\\nCreated <DagRun test-executor-my_test_executor-f-data-path-urllocaltmptmpkry2gw4odata-model-path-urllocaltmptmpkry2gw4omodel_test-executor-my_test_executor-g-data-path-urllocaltmptmpkry2gw4odata-model-path-urllocaltmptmpkry2gw4omodel @ 2022-12-19T09:01:46+00:00: airt-service__2022-12-19T09:01:45.116698, state:queued, queued_at: 2022-12-19 09:01:46.414764+00:00. externally triggered: True>\\n', stderr='/home/kumaran/airflow_venv/lib/python3.9/site-packages/airflow/configuration.py:545: DeprecationWarning: The sql_alchemy_conn option in [core] has been moved to the sql_alchemy_conn option in [database] - the old setting has been used, but please update your config.\\n  option = self._get_environment_variables(deprecated_key, deprecated_section, key, section)\\n/home/kumaran/airflow_venv/lib/python3.9/site-packages/airflow/configuration.py:545 DeprecationWarning: The sql_alchemy_conn option in [core] has been moved to the sql_alchemy_conn option in [database] - the old setting has been used, but please update your config.\\n')\n",
      "[{'dag_id': 'test-executor-my_test_executor-f-data-path-urllocaltmptmpkry2gw4odata-model-path-urllocaltmptmpkry2gw4omodel_test-executor-my_test_executor-g-data-path-urllocaltmptmpkry2gw4odata-model-path-urllocaltmptmpkry2gw4omodel', 'run_id': 'airt-service__2022-12-19T09:01:45.116698', 'state': 'running', 'execution_date': '2022-12-19T09:01:46+00:00', 'start_date': '2022-12-19T09:01:47.196452+00:00', 'end_date': ''}]\n"
     ]
    },
    {
     "data": {
      "text/plain": [
       "Path('/home/kumaran/airflow/dags/test-executor-my_test_executor-f-data-path-urllocaltmptmpkry2gw4odata-model-path-urllocaltmptmpkry2gw4omodel_test-executor-my_test_executor-g-data-path-urllocaltmptmpkry2gw4odata-model-path-urllocaltmptmpkry2gw4omodel.py')"
      ]
     },
     "metadata": {},
     "output_type": "display_data"
    },
    {
     "data": {
      "text/plain": [
       "'airt-service__2022-12-19T09:01:45.116698'"
      ]
     },
     "metadata": {},
     "output_type": "display_data"
    },
    {
     "data": {
      "text/plain": [
       "'success'"
      ]
     },
     "metadata": {},
     "output_type": "display_data"
    },
    {
     "name": "stdout",
     "output_type": "stream",
     "text": [
      "deleting job definition - csv_processing\n",
      "deleting job queue - csv_processing\n",
      "[INFO] airt_service.aws.batch_utils: wait(): self.arn='arn:aws:batch:eu-west-1:617504802562:job-queue/airflow_batch_execute_testing_1785JN_csv_processing_job_queue', status=UPDATING, state=DISABLED\n",
      "[INFO] airt_service.aws.batch_utils: wait(): self.arn='arn:aws:batch:eu-west-1:617504802562:job-queue/airflow_batch_execute_testing_1785JN_csv_processing_job_queue', status=VALID, state=DISABLED\n",
      "[INFO] airt_service.aws.batch_utils: wait(): self.arn='arn:aws:batch:eu-west-1:617504802562:job-queue/airflow_batch_execute_testing_1785JN_csv_processing_job_queue', status=DELETING, state=DISABLED\n",
      "[INFO] airt_service.aws.batch_utils: wait(): self.arn='arn:aws:batch:eu-west-1:617504802562:job-queue/airflow_batch_execute_testing_1785JN_csv_processing_job_queue', status=DELETING, state=DISABLED\n",
      "[INFO] airt_service.aws.batch_utils: wait(): self.arn='arn:aws:batch:eu-west-1:617504802562:job-queue/airflow_batch_execute_testing_1785JN_csv_processing_job_queue', status=DELETING, state=DISABLED\n",
      "[INFO] airt_service.aws.batch_utils: wait(): self.arn='arn:aws:batch:eu-west-1:617504802562:job-queue/airflow_batch_execute_testing_1785JN_csv_processing_job_queue', status=DELETING, state=DISABLED\n",
      "[INFO] airt_service.aws.batch_utils: wait(): self.arn='arn:aws:batch:eu-west-1:617504802562:job-queue/airflow_batch_execute_testing_1785JN_csv_processing_job_queue', status=DELETING, state=DISABLED\n",
      "[INFO] airt_service.aws.batch_utils: wait(): self.arn='arn:aws:batch:eu-west-1:617504802562:job-queue/airflow_batch_execute_testing_1785JN_csv_processing_job_queue', status=DELETING, state=DISABLED\n",
      "[INFO] airt_service.aws.batch_utils: wait(): self.arn='arn:aws:batch:eu-west-1:617504802562:job-queue/airflow_batch_execute_testing_1785JN_csv_processing_job_queue', status=DELETING, state=DISABLED\n",
      "[INFO] airt_service.aws.batch_utils: wait(): self.arn='arn:aws:batch:eu-west-1:617504802562:job-queue/airflow_batch_execute_testing_1785JN_csv_processing_job_queue', status=DELETING, state=DISABLED\n",
      "[INFO] airt_service.aws.batch_utils: wait(): self.arn='arn:aws:batch:eu-west-1:617504802562:job-queue/airflow_batch_execute_testing_1785JN_csv_processing_job_queue', status=DELETING, state=DISABLED\n",
      "[INFO] airt_service.aws.batch_utils: wait(): self.arn='arn:aws:batch:eu-west-1:617504802562:job-queue/airflow_batch_execute_testing_1785JN_csv_processing_job_queue', status=DELETING, state=DISABLED\n",
      "[INFO] airt_service.aws.batch_utils: wait(): self.arn='arn:aws:batch:eu-west-1:617504802562:job-queue/airflow_batch_execute_testing_1785JN_csv_processing_job_queue', status=DELETING, state=DISABLED\n",
      "[INFO] airt_service.aws.batch_utils: wait(): self.arn='arn:aws:batch:eu-west-1:617504802562:job-queue/airflow_batch_execute_testing_1785JN_csv_processing_job_queue', status=DELETING, state=DISABLED\n",
      "[INFO] airt_service.aws.batch_utils: wait(): self.arn='arn:aws:batch:eu-west-1:617504802562:job-queue/airflow_batch_execute_testing_1785JN_csv_processing_job_queue', status=DELETING, state=DISABLED\n",
      "[INFO] airt_service.aws.batch_utils: wait(): self.arn='arn:aws:batch:eu-west-1:617504802562:job-queue/airflow_batch_execute_testing_1785JN_csv_processing_job_queue', status=DELETING, state=DISABLED\n",
      "[INFO] airt_service.aws.batch_utils: wait(): self.arn='arn:aws:batch:eu-west-1:617504802562:job-queue/airflow_batch_execute_testing_1785JN_csv_processing_job_queue', status=DELETING, state=DISABLED\n",
      "[INFO] airt_service.aws.batch_utils: wait(): self.arn='arn:aws:batch:eu-west-1:617504802562:job-queue/airflow_batch_execute_testing_1785JN_csv_processing_job_queue', status=DELETING, state=DISABLED\n",
      "[INFO] airt_service.aws.batch_utils: wait(): self.arn='arn:aws:batch:eu-west-1:617504802562:job-queue/airflow_batch_execute_testing_1785JN_csv_processing_job_queue', status=DELETING, state=DISABLED\n",
      "[INFO] airt_service.aws.batch_utils: wait(): self.arn='arn:aws:batch:eu-west-1:617504802562:job-queue/airflow_batch_execute_testing_1785JN_csv_processing_job_queue', status=DELETING, state=DISABLED\n",
      "[INFO] airt_service.aws.batch_utils: wait(): self.arn='arn:aws:batch:eu-west-1:617504802562:job-queue/airflow_batch_execute_testing_1785JN_csv_processing_job_queue', status=DELETING, state=DISABLED\n",
      "[INFO] airt_service.aws.batch_utils: wait(): self.arn='arn:aws:batch:eu-west-1:617504802562:job-queue/airflow_batch_execute_testing_1785JN_csv_processing_job_queue', status=DELETING, state=DISABLED\n",
      "[INFO] airt_service.aws.batch_utils: wait(): self.arn='arn:aws:batch:eu-west-1:617504802562:job-queue/airflow_batch_execute_testing_1785JN_csv_processing_job_queue', status=DELETING, state=DISABLED\n",
      "[INFO] airt_service.aws.batch_utils: wait(): self.arn='arn:aws:batch:eu-west-1:617504802562:job-queue/airflow_batch_execute_testing_1785JN_csv_processing_job_queue', status=DELETING, state=DISABLED\n",
      "[INFO] airt_service.aws.batch_utils: wait(): self.arn='arn:aws:batch:eu-west-1:617504802562:job-queue/airflow_batch_execute_testing_1785JN_csv_processing_job_queue', status=DELETING, state=DISABLED\n",
      "[INFO] airt_service.aws.batch_utils: wait(): self.arn='arn:aws:batch:eu-west-1:617504802562:job-queue/airflow_batch_execute_testing_1785JN_csv_processing_job_queue', status=DELETING, state=DISABLED\n",
      "[INFO] airt_service.aws.batch_utils: wait(): self.arn='arn:aws:batch:eu-west-1:617504802562:job-queue/airflow_batch_execute_testing_1785JN_csv_processing_job_queue', status=DELETING, state=DISABLED\n",
      "[INFO] airt_service.aws.batch_utils: wait(): self.arn='arn:aws:batch:eu-west-1:617504802562:job-queue/airflow_batch_execute_testing_1785JN_csv_processing_job_queue', status=DELETING, state=DISABLED\n",
      "[INFO] airt_service.aws.batch_utils: wait(): self.arn='arn:aws:batch:eu-west-1:617504802562:job-queue/airflow_batch_execute_testing_1785JN_csv_processing_job_queue', status=DELETING, state=DISABLED\n",
      "[INFO] airt_service.aws.batch_utils: wait(): self.arn='arn:aws:batch:eu-west-1:617504802562:job-queue/airflow_batch_execute_testing_1785JN_csv_processing_job_queue', status=DELETING, state=DISABLED\n",
      "[INFO] airt_service.aws.batch_utils: wait(): self.arn='arn:aws:batch:eu-west-1:617504802562:job-queue/airflow_batch_execute_testing_1785JN_csv_processing_job_queue', status=DELETING, state=DISABLED\n",
      "[INFO] airt_service.aws.batch_utils: wait(): self.arn='arn:aws:batch:eu-west-1:617504802562:job-queue/airflow_batch_execute_testing_1785JN_csv_processing_job_queue', status=DELETING, state=DISABLED\n",
      "[INFO] airt_service.aws.batch_utils: wait(): self.arn='arn:aws:batch:eu-west-1:617504802562:job-queue/airflow_batch_execute_testing_1785JN_csv_processing_job_queue', status=DELETING, state=DISABLED\n",
      "[INFO] airt_service.aws.batch_utils: wait(): self.arn='arn:aws:batch:eu-west-1:617504802562:job-queue/airflow_batch_execute_testing_1785JN_csv_processing_job_queue', status=DELETING, state=DISABLED\n",
      "[INFO] airt_service.aws.batch_utils: wait(): self.arn='arn:aws:batch:eu-west-1:617504802562:job-queue/airflow_batch_execute_testing_1785JN_csv_processing_job_queue', status=DELETING, state=DISABLED\n",
      "[INFO] airt_service.aws.batch_utils: wait(): self.arn='arn:aws:batch:eu-west-1:617504802562:job-queue/airflow_batch_execute_testing_1785JN_csv_processing_job_queue', status=DELETING, state=DISABLED\n",
      "[INFO] airt_service.aws.batch_utils: wait(): self.arn='arn:aws:batch:eu-west-1:617504802562:job-queue/airflow_batch_execute_testing_1785JN_csv_processing_job_queue', status=DELETING, state=DISABLED\n",
      "[INFO] airt_service.aws.batch_utils: wait(): self.arn='arn:aws:batch:eu-west-1:617504802562:job-queue/airflow_batch_execute_testing_1785JN_csv_processing_job_queue', status=DELETING, state=DISABLED\n",
      "[INFO] airt_service.aws.batch_utils: wait(): self.arn='arn:aws:batch:eu-west-1:617504802562:job-queue/airflow_batch_execute_testing_1785JN_csv_processing_job_queue', status=DELETING, state=DISABLED\n",
      "[INFO] airt_service.aws.batch_utils: wait(): self.arn='arn:aws:batch:eu-west-1:617504802562:job-queue/airflow_batch_execute_testing_1785JN_csv_processing_job_queue', status=DELETING, state=DISABLED\n",
      "[INFO] airt_service.aws.batch_utils: wait(): self.arn='arn:aws:batch:eu-west-1:617504802562:job-queue/airflow_batch_execute_testing_1785JN_csv_processing_job_queue', status=DELETING, state=DISABLED\n",
      "[INFO] airt_service.aws.batch_utils: wait(): self.arn='arn:aws:batch:eu-west-1:617504802562:job-queue/airflow_batch_execute_testing_1785JN_csv_processing_job_queue', status=DELETING, state=DISABLED\n"
     ]
    },
    {
     "name": "stdout",
     "output_type": "stream",
     "text": [
      "[INFO] airt_service.aws.batch_utils: wait(): self.arn='arn:aws:batch:eu-west-1:617504802562:job-queue/airflow_batch_execute_testing_1785JN_csv_processing_job_queue', status=DELETING, state=DISABLED\n",
      "[INFO] airt_service.aws.batch_utils: wait(): self.arn='arn:aws:batch:eu-west-1:617504802562:job-queue/airflow_batch_execute_testing_1785JN_csv_processing_job_queue', status=DELETING, state=DISABLED\n",
      "[INFO] airt_service.aws.batch_utils: wait(): self.arn='arn:aws:batch:eu-west-1:617504802562:job-queue/airflow_batch_execute_testing_1785JN_csv_processing_job_queue' deleted\n",
      "deleting compute env - csv_processing\n",
      "[INFO] airt_service.aws.batch_utils: wait(): self.arn='arn:aws:batch:eu-west-1:617504802562:compute-environment/airflow_batch_execute_testing_1785JN_csv_processing_compute_environment', status=VALID, state=DISABLED\n",
      "deleting job definition - predictions\n",
      "deleting job queue - predictions\n",
      "[INFO] airt_service.aws.batch_utils: wait(): self.arn='arn:aws:batch:eu-west-1:617504802562:job-queue/airflow_batch_execute_testing_1785JN_predictions_job_queue', status=UPDATING, state=DISABLED\n",
      "[INFO] airt_service.aws.batch_utils: wait(): self.arn='arn:aws:batch:eu-west-1:617504802562:job-queue/airflow_batch_execute_testing_1785JN_predictions_job_queue', status=VALID, state=DISABLED\n",
      "[INFO] airt_service.aws.batch_utils: wait(): self.arn='arn:aws:batch:eu-west-1:617504802562:job-queue/airflow_batch_execute_testing_1785JN_predictions_job_queue', status=DELETING, state=DISABLED\n",
      "[INFO] airt_service.aws.batch_utils: wait(): self.arn='arn:aws:batch:eu-west-1:617504802562:job-queue/airflow_batch_execute_testing_1785JN_predictions_job_queue', status=DELETING, state=DISABLED\n",
      "[INFO] airt_service.aws.batch_utils: wait(): self.arn='arn:aws:batch:eu-west-1:617504802562:job-queue/airflow_batch_execute_testing_1785JN_predictions_job_queue', status=DELETING, state=DISABLED\n",
      "[INFO] airt_service.aws.batch_utils: wait(): self.arn='arn:aws:batch:eu-west-1:617504802562:job-queue/airflow_batch_execute_testing_1785JN_predictions_job_queue', status=DELETING, state=DISABLED\n",
      "[INFO] airt_service.aws.batch_utils: wait(): self.arn='arn:aws:batch:eu-west-1:617504802562:job-queue/airflow_batch_execute_testing_1785JN_predictions_job_queue', status=DELETING, state=DISABLED\n",
      "[INFO] airt_service.aws.batch_utils: wait(): self.arn='arn:aws:batch:eu-west-1:617504802562:job-queue/airflow_batch_execute_testing_1785JN_predictions_job_queue', status=DELETING, state=DISABLED\n",
      "[INFO] airt_service.aws.batch_utils: wait(): self.arn='arn:aws:batch:eu-west-1:617504802562:job-queue/airflow_batch_execute_testing_1785JN_predictions_job_queue', status=DELETING, state=DISABLED\n",
      "[INFO] airt_service.aws.batch_utils: wait(): self.arn='arn:aws:batch:eu-west-1:617504802562:job-queue/airflow_batch_execute_testing_1785JN_predictions_job_queue', status=DELETING, state=DISABLED\n",
      "[INFO] airt_service.aws.batch_utils: wait(): self.arn='arn:aws:batch:eu-west-1:617504802562:job-queue/airflow_batch_execute_testing_1785JN_predictions_job_queue', status=DELETING, state=DISABLED\n",
      "[INFO] airt_service.aws.batch_utils: wait(): self.arn='arn:aws:batch:eu-west-1:617504802562:job-queue/airflow_batch_execute_testing_1785JN_predictions_job_queue', status=DELETING, state=DISABLED\n",
      "[INFO] airt_service.aws.batch_utils: wait(): self.arn='arn:aws:batch:eu-west-1:617504802562:job-queue/airflow_batch_execute_testing_1785JN_predictions_job_queue', status=DELETING, state=DISABLED\n",
      "[INFO] airt_service.aws.batch_utils: wait(): self.arn='arn:aws:batch:eu-west-1:617504802562:job-queue/airflow_batch_execute_testing_1785JN_predictions_job_queue', status=DELETING, state=DISABLED\n",
      "[INFO] airt_service.aws.batch_utils: wait(): self.arn='arn:aws:batch:eu-west-1:617504802562:job-queue/airflow_batch_execute_testing_1785JN_predictions_job_queue', status=DELETING, state=DISABLED\n",
      "[INFO] airt_service.aws.batch_utils: wait(): self.arn='arn:aws:batch:eu-west-1:617504802562:job-queue/airflow_batch_execute_testing_1785JN_predictions_job_queue', status=DELETING, state=DISABLED\n",
      "[INFO] airt_service.aws.batch_utils: wait(): self.arn='arn:aws:batch:eu-west-1:617504802562:job-queue/airflow_batch_execute_testing_1785JN_predictions_job_queue', status=DELETING, state=DISABLED\n",
      "[INFO] airt_service.aws.batch_utils: wait(): self.arn='arn:aws:batch:eu-west-1:617504802562:job-queue/airflow_batch_execute_testing_1785JN_predictions_job_queue', status=DELETING, state=DISABLED\n",
      "[INFO] airt_service.aws.batch_utils: wait(): self.arn='arn:aws:batch:eu-west-1:617504802562:job-queue/airflow_batch_execute_testing_1785JN_predictions_job_queue', status=DELETING, state=DISABLED\n",
      "[INFO] airt_service.aws.batch_utils: wait(): self.arn='arn:aws:batch:eu-west-1:617504802562:job-queue/airflow_batch_execute_testing_1785JN_predictions_job_queue', status=DELETING, state=DISABLED\n",
      "[INFO] airt_service.aws.batch_utils: wait(): self.arn='arn:aws:batch:eu-west-1:617504802562:job-queue/airflow_batch_execute_testing_1785JN_predictions_job_queue', status=DELETING, state=DISABLED\n",
      "[INFO] airt_service.aws.batch_utils: wait(): self.arn='arn:aws:batch:eu-west-1:617504802562:job-queue/airflow_batch_execute_testing_1785JN_predictions_job_queue', status=DELETING, state=DISABLED\n",
      "[INFO] airt_service.aws.batch_utils: wait(): self.arn='arn:aws:batch:eu-west-1:617504802562:job-queue/airflow_batch_execute_testing_1785JN_predictions_job_queue', status=DELETING, state=DISABLED\n",
      "[INFO] airt_service.aws.batch_utils: wait(): self.arn='arn:aws:batch:eu-west-1:617504802562:job-queue/airflow_batch_execute_testing_1785JN_predictions_job_queue', status=DELETING, state=DISABLED\n",
      "[INFO] airt_service.aws.batch_utils: wait(): self.arn='arn:aws:batch:eu-west-1:617504802562:job-queue/airflow_batch_execute_testing_1785JN_predictions_job_queue', status=DELETING, state=DISABLED\n",
      "[INFO] airt_service.aws.batch_utils: wait(): self.arn='arn:aws:batch:eu-west-1:617504802562:job-queue/airflow_batch_execute_testing_1785JN_predictions_job_queue', status=DELETING, state=DISABLED\n",
      "[INFO] airt_service.aws.batch_utils: wait(): self.arn='arn:aws:batch:eu-west-1:617504802562:job-queue/airflow_batch_execute_testing_1785JN_predictions_job_queue', status=DELETING, state=DISABLED\n",
      "[INFO] airt_service.aws.batch_utils: wait(): self.arn='arn:aws:batch:eu-west-1:617504802562:job-queue/airflow_batch_execute_testing_1785JN_predictions_job_queue', status=DELETING, state=DISABLED\n",
      "[INFO] airt_service.aws.batch_utils: wait(): self.arn='arn:aws:batch:eu-west-1:617504802562:job-queue/airflow_batch_execute_testing_1785JN_predictions_job_queue', status=DELETING, state=DISABLED\n",
      "[INFO] airt_service.aws.batch_utils: wait(): self.arn='arn:aws:batch:eu-west-1:617504802562:job-queue/airflow_batch_execute_testing_1785JN_predictions_job_queue', status=DELETING, state=DISABLED\n",
      "[INFO] airt_service.aws.batch_utils: wait(): self.arn='arn:aws:batch:eu-west-1:617504802562:job-queue/airflow_batch_execute_testing_1785JN_predictions_job_queue', status=DELETING, state=DISABLED\n",
      "[INFO] airt_service.aws.batch_utils: wait(): self.arn='arn:aws:batch:eu-west-1:617504802562:job-queue/airflow_batch_execute_testing_1785JN_predictions_job_queue', status=DELETING, state=DISABLED\n",
      "[INFO] airt_service.aws.batch_utils: wait(): self.arn='arn:aws:batch:eu-west-1:617504802562:job-queue/airflow_batch_execute_testing_1785JN_predictions_job_queue', status=DELETING, state=DISABLED\n",
      "[INFO] airt_service.aws.batch_utils: wait(): self.arn='arn:aws:batch:eu-west-1:617504802562:job-queue/airflow_batch_execute_testing_1785JN_predictions_job_queue', status=DELETING, state=DISABLED\n",
      "[INFO] airt_service.aws.batch_utils: wait(): self.arn='arn:aws:batch:eu-west-1:617504802562:job-queue/airflow_batch_execute_testing_1785JN_predictions_job_queue', status=DELETING, state=DISABLED\n",
      "[INFO] airt_service.aws.batch_utils: wait(): self.arn='arn:aws:batch:eu-west-1:617504802562:job-queue/airflow_batch_execute_testing_1785JN_predictions_job_queue', status=DELETING, state=DISABLED\n",
      "[INFO] airt_service.aws.batch_utils: wait(): self.arn='arn:aws:batch:eu-west-1:617504802562:job-queue/airflow_batch_execute_testing_1785JN_predictions_job_queue', status=DELETING, state=DISABLED\n",
      "[INFO] airt_service.aws.batch_utils: wait(): self.arn='arn:aws:batch:eu-west-1:617504802562:job-queue/airflow_batch_execute_testing_1785JN_predictions_job_queue', status=DELETING, state=DISABLED\n"
     ]
    },
    {
     "name": "stdout",
     "output_type": "stream",
     "text": [
      "[INFO] airt_service.aws.batch_utils: wait(): self.arn='arn:aws:batch:eu-west-1:617504802562:job-queue/airflow_batch_execute_testing_1785JN_predictions_job_queue', status=DELETING, state=DISABLED\n",
      "[INFO] airt_service.aws.batch_utils: wait(): self.arn='arn:aws:batch:eu-west-1:617504802562:job-queue/airflow_batch_execute_testing_1785JN_predictions_job_queue' deleted\n",
      "deleting compute env - predictions\n",
      "[INFO] airt_service.aws.batch_utils: wait(): self.arn='arn:aws:batch:eu-west-1:617504802562:compute-environment/airflow_batch_execute_testing_1785JN_predictions_compute_environment', status=UPDATING, state=DISABLED\n",
      "[INFO] airt_service.aws.batch_utils: wait(): self.arn='arn:aws:batch:eu-west-1:617504802562:compute-environment/airflow_batch_execute_testing_1785JN_predictions_compute_environment', status=UPDATING, state=DISABLED\n",
      "[INFO] airt_service.aws.batch_utils: wait(): self.arn='arn:aws:batch:eu-west-1:617504802562:compute-environment/airflow_batch_execute_testing_1785JN_predictions_compute_environment', status=UPDATING, state=DISABLED\n",
      "[INFO] airt_service.aws.batch_utils: wait(): self.arn='arn:aws:batch:eu-west-1:617504802562:compute-environment/airflow_batch_execute_testing_1785JN_predictions_compute_environment', status=UPDATING, state=DISABLED\n",
      "[INFO] airt_service.aws.batch_utils: wait(): self.arn='arn:aws:batch:eu-west-1:617504802562:compute-environment/airflow_batch_execute_testing_1785JN_predictions_compute_environment', status=UPDATING, state=DISABLED\n",
      "[INFO] airt_service.aws.batch_utils: wait(): self.arn='arn:aws:batch:eu-west-1:617504802562:compute-environment/airflow_batch_execute_testing_1785JN_predictions_compute_environment', status=UPDATING, state=DISABLED\n",
      "[INFO] airt_service.aws.batch_utils: wait(): self.arn='arn:aws:batch:eu-west-1:617504802562:compute-environment/airflow_batch_execute_testing_1785JN_predictions_compute_environment', status=UPDATING, state=DISABLED\n",
      "[INFO] airt_service.aws.batch_utils: wait(): self.arn='arn:aws:batch:eu-west-1:617504802562:compute-environment/airflow_batch_execute_testing_1785JN_predictions_compute_environment', status=UPDATING, state=DISABLED\n",
      "[INFO] airt_service.aws.batch_utils: wait(): self.arn='arn:aws:batch:eu-west-1:617504802562:compute-environment/airflow_batch_execute_testing_1785JN_predictions_compute_environment', status=UPDATING, state=DISABLED\n",
      "[INFO] airt_service.aws.batch_utils: wait(): self.arn='arn:aws:batch:eu-west-1:617504802562:compute-environment/airflow_batch_execute_testing_1785JN_predictions_compute_environment', status=UPDATING, state=DISABLED\n",
      "[INFO] airt_service.aws.batch_utils: wait(): self.arn='arn:aws:batch:eu-west-1:617504802562:compute-environment/airflow_batch_execute_testing_1785JN_predictions_compute_environment', status=UPDATING, state=DISABLED\n",
      "[INFO] airt_service.aws.batch_utils: wait(): self.arn='arn:aws:batch:eu-west-1:617504802562:compute-environment/airflow_batch_execute_testing_1785JN_predictions_compute_environment', status=UPDATING, state=DISABLED\n",
      "[INFO] airt_service.aws.batch_utils: wait(): self.arn='arn:aws:batch:eu-west-1:617504802562:compute-environment/airflow_batch_execute_testing_1785JN_predictions_compute_environment', status=UPDATING, state=DISABLED\n",
      "[INFO] airt_service.aws.batch_utils: wait(): self.arn='arn:aws:batch:eu-west-1:617504802562:compute-environment/airflow_batch_execute_testing_1785JN_predictions_compute_environment', status=UPDATING, state=DISABLED\n",
      "[INFO] airt_service.aws.batch_utils: wait(): self.arn='arn:aws:batch:eu-west-1:617504802562:compute-environment/airflow_batch_execute_testing_1785JN_predictions_compute_environment', status=UPDATING, state=DISABLED\n",
      "[INFO] airt_service.aws.batch_utils: wait(): self.arn='arn:aws:batch:eu-west-1:617504802562:compute-environment/airflow_batch_execute_testing_1785JN_predictions_compute_environment', status=UPDATING, state=DISABLED\n",
      "[INFO] airt_service.aws.batch_utils: wait(): self.arn='arn:aws:batch:eu-west-1:617504802562:compute-environment/airflow_batch_execute_testing_1785JN_predictions_compute_environment', status=VALID, state=DISABLED\n",
      "deleting job definition - preprocessing\n",
      "deleting job queue - preprocessing\n",
      "[INFO] airt_service.aws.batch_utils: wait(): self.arn='arn:aws:batch:eu-west-1:617504802562:job-queue/airflow_batch_execute_testing_1785JN_preprocessing_job_queue', status=UPDATING, state=DISABLED\n",
      "[INFO] airt_service.aws.batch_utils: wait(): self.arn='arn:aws:batch:eu-west-1:617504802562:job-queue/airflow_batch_execute_testing_1785JN_preprocessing_job_queue', status=VALID, state=DISABLED\n",
      "[INFO] airt_service.aws.batch_utils: wait(): self.arn='arn:aws:batch:eu-west-1:617504802562:job-queue/airflow_batch_execute_testing_1785JN_preprocessing_job_queue', status=DELETING, state=DISABLED\n",
      "[INFO] airt_service.aws.batch_utils: wait(): self.arn='arn:aws:batch:eu-west-1:617504802562:job-queue/airflow_batch_execute_testing_1785JN_preprocessing_job_queue', status=DELETING, state=DISABLED\n",
      "[INFO] airt_service.aws.batch_utils: wait(): self.arn='arn:aws:batch:eu-west-1:617504802562:job-queue/airflow_batch_execute_testing_1785JN_preprocessing_job_queue', status=DELETING, state=DISABLED\n",
      "[INFO] airt_service.aws.batch_utils: wait(): self.arn='arn:aws:batch:eu-west-1:617504802562:job-queue/airflow_batch_execute_testing_1785JN_preprocessing_job_queue', status=DELETING, state=DISABLED\n",
      "[INFO] airt_service.aws.batch_utils: wait(): self.arn='arn:aws:batch:eu-west-1:617504802562:job-queue/airflow_batch_execute_testing_1785JN_preprocessing_job_queue', status=DELETING, state=DISABLED\n",
      "[INFO] airt_service.aws.batch_utils: wait(): self.arn='arn:aws:batch:eu-west-1:617504802562:job-queue/airflow_batch_execute_testing_1785JN_preprocessing_job_queue', status=DELETING, state=DISABLED\n",
      "[INFO] airt_service.aws.batch_utils: wait(): self.arn='arn:aws:batch:eu-west-1:617504802562:job-queue/airflow_batch_execute_testing_1785JN_preprocessing_job_queue', status=DELETING, state=DISABLED\n",
      "[INFO] airt_service.aws.batch_utils: wait(): self.arn='arn:aws:batch:eu-west-1:617504802562:job-queue/airflow_batch_execute_testing_1785JN_preprocessing_job_queue', status=DELETING, state=DISABLED\n",
      "[INFO] airt_service.aws.batch_utils: wait(): self.arn='arn:aws:batch:eu-west-1:617504802562:job-queue/airflow_batch_execute_testing_1785JN_preprocessing_job_queue', status=DELETING, state=DISABLED\n",
      "[INFO] airt_service.aws.batch_utils: wait(): self.arn='arn:aws:batch:eu-west-1:617504802562:job-queue/airflow_batch_execute_testing_1785JN_preprocessing_job_queue', status=DELETING, state=DISABLED\n",
      "[INFO] airt_service.aws.batch_utils: wait(): self.arn='arn:aws:batch:eu-west-1:617504802562:job-queue/airflow_batch_execute_testing_1785JN_preprocessing_job_queue', status=DELETING, state=DISABLED\n",
      "[INFO] airt_service.aws.batch_utils: wait(): self.arn='arn:aws:batch:eu-west-1:617504802562:job-queue/airflow_batch_execute_testing_1785JN_preprocessing_job_queue', status=DELETING, state=DISABLED\n",
      "[INFO] airt_service.aws.batch_utils: wait(): self.arn='arn:aws:batch:eu-west-1:617504802562:job-queue/airflow_batch_execute_testing_1785JN_preprocessing_job_queue', status=DELETING, state=DISABLED\n",
      "[INFO] airt_service.aws.batch_utils: wait(): self.arn='arn:aws:batch:eu-west-1:617504802562:job-queue/airflow_batch_execute_testing_1785JN_preprocessing_job_queue', status=DELETING, state=DISABLED\n",
      "[INFO] airt_service.aws.batch_utils: wait(): self.arn='arn:aws:batch:eu-west-1:617504802562:job-queue/airflow_batch_execute_testing_1785JN_preprocessing_job_queue', status=DELETING, state=DISABLED\n",
      "[INFO] airt_service.aws.batch_utils: wait(): self.arn='arn:aws:batch:eu-west-1:617504802562:job-queue/airflow_batch_execute_testing_1785JN_preprocessing_job_queue', status=DELETING, state=DISABLED\n",
      "[INFO] airt_service.aws.batch_utils: wait(): self.arn='arn:aws:batch:eu-west-1:617504802562:job-queue/airflow_batch_execute_testing_1785JN_preprocessing_job_queue', status=DELETING, state=DISABLED\n",
      "[INFO] airt_service.aws.batch_utils: wait(): self.arn='arn:aws:batch:eu-west-1:617504802562:job-queue/airflow_batch_execute_testing_1785JN_preprocessing_job_queue', status=DELETING, state=DISABLED\n",
      "[INFO] airt_service.aws.batch_utils: wait(): self.arn='arn:aws:batch:eu-west-1:617504802562:job-queue/airflow_batch_execute_testing_1785JN_preprocessing_job_queue', status=DELETING, state=DISABLED\n"
     ]
    },
    {
     "name": "stdout",
     "output_type": "stream",
     "text": [
      "[INFO] airt_service.aws.batch_utils: wait(): self.arn='arn:aws:batch:eu-west-1:617504802562:job-queue/airflow_batch_execute_testing_1785JN_preprocessing_job_queue', status=DELETING, state=DISABLED\n",
      "[INFO] airt_service.aws.batch_utils: wait(): self.arn='arn:aws:batch:eu-west-1:617504802562:job-queue/airflow_batch_execute_testing_1785JN_preprocessing_job_queue', status=DELETING, state=DISABLED\n",
      "[INFO] airt_service.aws.batch_utils: wait(): self.arn='arn:aws:batch:eu-west-1:617504802562:job-queue/airflow_batch_execute_testing_1785JN_preprocessing_job_queue', status=DELETING, state=DISABLED\n",
      "[INFO] airt_service.aws.batch_utils: wait(): self.arn='arn:aws:batch:eu-west-1:617504802562:job-queue/airflow_batch_execute_testing_1785JN_preprocessing_job_queue', status=DELETING, state=DISABLED\n",
      "[INFO] airt_service.aws.batch_utils: wait(): self.arn='arn:aws:batch:eu-west-1:617504802562:job-queue/airflow_batch_execute_testing_1785JN_preprocessing_job_queue', status=DELETING, state=DISABLED\n",
      "[INFO] airt_service.aws.batch_utils: wait(): self.arn='arn:aws:batch:eu-west-1:617504802562:job-queue/airflow_batch_execute_testing_1785JN_preprocessing_job_queue', status=DELETING, state=DISABLED\n",
      "[INFO] airt_service.aws.batch_utils: wait(): self.arn='arn:aws:batch:eu-west-1:617504802562:job-queue/airflow_batch_execute_testing_1785JN_preprocessing_job_queue', status=DELETING, state=DISABLED\n",
      "[INFO] airt_service.aws.batch_utils: wait(): self.arn='arn:aws:batch:eu-west-1:617504802562:job-queue/airflow_batch_execute_testing_1785JN_preprocessing_job_queue', status=DELETING, state=DISABLED\n",
      "[INFO] airt_service.aws.batch_utils: wait(): self.arn='arn:aws:batch:eu-west-1:617504802562:job-queue/airflow_batch_execute_testing_1785JN_preprocessing_job_queue', status=DELETING, state=DISABLED\n",
      "[INFO] airt_service.aws.batch_utils: wait(): self.arn='arn:aws:batch:eu-west-1:617504802562:job-queue/airflow_batch_execute_testing_1785JN_preprocessing_job_queue', status=DELETING, state=DISABLED\n",
      "[INFO] airt_service.aws.batch_utils: wait(): self.arn='arn:aws:batch:eu-west-1:617504802562:job-queue/airflow_batch_execute_testing_1785JN_preprocessing_job_queue', status=DELETING, state=DISABLED\n",
      "[INFO] airt_service.aws.batch_utils: wait(): self.arn='arn:aws:batch:eu-west-1:617504802562:job-queue/airflow_batch_execute_testing_1785JN_preprocessing_job_queue', status=DELETING, state=DISABLED\n",
      "[INFO] airt_service.aws.batch_utils: wait(): self.arn='arn:aws:batch:eu-west-1:617504802562:job-queue/airflow_batch_execute_testing_1785JN_preprocessing_job_queue', status=DELETING, state=DISABLED\n",
      "[INFO] airt_service.aws.batch_utils: wait(): self.arn='arn:aws:batch:eu-west-1:617504802562:job-queue/airflow_batch_execute_testing_1785JN_preprocessing_job_queue', status=DELETING, state=DISABLED\n",
      "[INFO] airt_service.aws.batch_utils: wait(): self.arn='arn:aws:batch:eu-west-1:617504802562:job-queue/airflow_batch_execute_testing_1785JN_preprocessing_job_queue', status=DELETING, state=DISABLED\n",
      "[INFO] airt_service.aws.batch_utils: wait(): self.arn='arn:aws:batch:eu-west-1:617504802562:job-queue/airflow_batch_execute_testing_1785JN_preprocessing_job_queue', status=DELETING, state=DISABLED\n",
      "[INFO] airt_service.aws.batch_utils: wait(): self.arn='arn:aws:batch:eu-west-1:617504802562:job-queue/airflow_batch_execute_testing_1785JN_preprocessing_job_queue', status=DELETING, state=DISABLED\n",
      "[INFO] airt_service.aws.batch_utils: wait(): self.arn='arn:aws:batch:eu-west-1:617504802562:job-queue/airflow_batch_execute_testing_1785JN_preprocessing_job_queue', status=DELETING, state=DISABLED\n",
      "[INFO] airt_service.aws.batch_utils: wait(): self.arn='arn:aws:batch:eu-west-1:617504802562:job-queue/airflow_batch_execute_testing_1785JN_preprocessing_job_queue', status=DELETING, state=DISABLED\n",
      "[INFO] airt_service.aws.batch_utils: wait(): self.arn='arn:aws:batch:eu-west-1:617504802562:job-queue/airflow_batch_execute_testing_1785JN_preprocessing_job_queue', status=DELETING, state=DISABLED\n",
      "[INFO] airt_service.aws.batch_utils: wait(): self.arn='arn:aws:batch:eu-west-1:617504802562:job-queue/airflow_batch_execute_testing_1785JN_preprocessing_job_queue', status=DELETING, state=DISABLED\n",
      "[INFO] airt_service.aws.batch_utils: wait(): self.arn='arn:aws:batch:eu-west-1:617504802562:job-queue/airflow_batch_execute_testing_1785JN_preprocessing_job_queue', status=DELETING, state=DISABLED\n",
      "[INFO] airt_service.aws.batch_utils: wait(): self.arn='arn:aws:batch:eu-west-1:617504802562:job-queue/airflow_batch_execute_testing_1785JN_preprocessing_job_queue', status=DELETING, state=DISABLED\n",
      "[INFO] airt_service.aws.batch_utils: wait(): self.arn='arn:aws:batch:eu-west-1:617504802562:job-queue/airflow_batch_execute_testing_1785JN_preprocessing_job_queue', status=DELETING, state=DISABLED\n",
      "[INFO] airt_service.aws.batch_utils: wait(): self.arn='arn:aws:batch:eu-west-1:617504802562:job-queue/airflow_batch_execute_testing_1785JN_preprocessing_job_queue', status=DELETING, state=DISABLED\n",
      "[INFO] airt_service.aws.batch_utils: wait(): self.arn='arn:aws:batch:eu-west-1:617504802562:job-queue/airflow_batch_execute_testing_1785JN_preprocessing_job_queue', status=DELETING, state=DISABLED\n",
      "[INFO] airt_service.aws.batch_utils: wait(): self.arn='arn:aws:batch:eu-west-1:617504802562:job-queue/airflow_batch_execute_testing_1785JN_preprocessing_job_queue', status=DELETING, state=DISABLED\n",
      "[INFO] airt_service.aws.batch_utils: wait(): self.arn='arn:aws:batch:eu-west-1:617504802562:job-queue/airflow_batch_execute_testing_1785JN_preprocessing_job_queue', status=DELETING, state=DISABLED\n",
      "[INFO] airt_service.aws.batch_utils: wait(): self.arn='arn:aws:batch:eu-west-1:617504802562:job-queue/airflow_batch_execute_testing_1785JN_preprocessing_job_queue', status=DELETING, state=DISABLED\n",
      "[INFO] airt_service.aws.batch_utils: wait(): self.arn='arn:aws:batch:eu-west-1:617504802562:job-queue/airflow_batch_execute_testing_1785JN_preprocessing_job_queue', status=DELETING, state=DISABLED\n",
      "[INFO] airt_service.aws.batch_utils: wait(): self.arn='arn:aws:batch:eu-west-1:617504802562:job-queue/airflow_batch_execute_testing_1785JN_preprocessing_job_queue', status=DELETING, state=DISABLED\n",
      "[INFO] airt_service.aws.batch_utils: wait(): self.arn='arn:aws:batch:eu-west-1:617504802562:job-queue/airflow_batch_execute_testing_1785JN_preprocessing_job_queue', status=DELETING, state=DISABLED\n",
      "[INFO] airt_service.aws.batch_utils: wait(): self.arn='arn:aws:batch:eu-west-1:617504802562:job-queue/airflow_batch_execute_testing_1785JN_preprocessing_job_queue' deleted\n",
      "deleting compute env - preprocessing\n",
      "[INFO] airt_service.aws.batch_utils: wait(): self.arn='arn:aws:batch:eu-west-1:617504802562:compute-environment/airflow_batch_execute_testing_1785JN_preprocessing_compute_environment', status=UPDATING, state=DISABLED\n",
      "[INFO] airt_service.aws.batch_utils: wait(): self.arn='arn:aws:batch:eu-west-1:617504802562:compute-environment/airflow_batch_execute_testing_1785JN_preprocessing_compute_environment', status=VALID, state=DISABLED\n",
      "deleting job definition - training\n",
      "deleting job queue - training\n",
      "[INFO] airt_service.aws.batch_utils: wait(): self.arn='arn:aws:batch:eu-west-1:617504802562:job-queue/airflow_batch_execute_testing_1785JN_training_job_queue', status=UPDATING, state=DISABLED\n",
      "[INFO] airt_service.aws.batch_utils: wait(): self.arn='arn:aws:batch:eu-west-1:617504802562:job-queue/airflow_batch_execute_testing_1785JN_training_job_queue', status=VALID, state=DISABLED\n",
      "[INFO] airt_service.aws.batch_utils: wait(): self.arn='arn:aws:batch:eu-west-1:617504802562:job-queue/airflow_batch_execute_testing_1785JN_training_job_queue', status=DELETING, state=DISABLED\n",
      "[INFO] airt_service.aws.batch_utils: wait(): self.arn='arn:aws:batch:eu-west-1:617504802562:job-queue/airflow_batch_execute_testing_1785JN_training_job_queue', status=DELETING, state=DISABLED\n",
      "[INFO] airt_service.aws.batch_utils: wait(): self.arn='arn:aws:batch:eu-west-1:617504802562:job-queue/airflow_batch_execute_testing_1785JN_training_job_queue', status=DELETING, state=DISABLED\n",
      "[INFO] airt_service.aws.batch_utils: wait(): self.arn='arn:aws:batch:eu-west-1:617504802562:job-queue/airflow_batch_execute_testing_1785JN_training_job_queue', status=DELETING, state=DISABLED\n",
      "[INFO] airt_service.aws.batch_utils: wait(): self.arn='arn:aws:batch:eu-west-1:617504802562:job-queue/airflow_batch_execute_testing_1785JN_training_job_queue', status=DELETING, state=DISABLED\n"
     ]
    },
    {
     "name": "stdout",
     "output_type": "stream",
     "text": [
      "[INFO] airt_service.aws.batch_utils: wait(): self.arn='arn:aws:batch:eu-west-1:617504802562:job-queue/airflow_batch_execute_testing_1785JN_training_job_queue', status=DELETING, state=DISABLED\n",
      "[INFO] airt_service.aws.batch_utils: wait(): self.arn='arn:aws:batch:eu-west-1:617504802562:job-queue/airflow_batch_execute_testing_1785JN_training_job_queue', status=DELETING, state=DISABLED\n",
      "[INFO] airt_service.aws.batch_utils: wait(): self.arn='arn:aws:batch:eu-west-1:617504802562:job-queue/airflow_batch_execute_testing_1785JN_training_job_queue', status=DELETING, state=DISABLED\n",
      "[INFO] airt_service.aws.batch_utils: wait(): self.arn='arn:aws:batch:eu-west-1:617504802562:job-queue/airflow_batch_execute_testing_1785JN_training_job_queue', status=DELETING, state=DISABLED\n",
      "[INFO] airt_service.aws.batch_utils: wait(): self.arn='arn:aws:batch:eu-west-1:617504802562:job-queue/airflow_batch_execute_testing_1785JN_training_job_queue', status=DELETING, state=DISABLED\n",
      "[INFO] airt_service.aws.batch_utils: wait(): self.arn='arn:aws:batch:eu-west-1:617504802562:job-queue/airflow_batch_execute_testing_1785JN_training_job_queue', status=DELETING, state=DISABLED\n",
      "[INFO] airt_service.aws.batch_utils: wait(): self.arn='arn:aws:batch:eu-west-1:617504802562:job-queue/airflow_batch_execute_testing_1785JN_training_job_queue', status=DELETING, state=DISABLED\n",
      "[INFO] airt_service.aws.batch_utils: wait(): self.arn='arn:aws:batch:eu-west-1:617504802562:job-queue/airflow_batch_execute_testing_1785JN_training_job_queue', status=DELETING, state=DISABLED\n",
      "[INFO] airt_service.aws.batch_utils: wait(): self.arn='arn:aws:batch:eu-west-1:617504802562:job-queue/airflow_batch_execute_testing_1785JN_training_job_queue', status=DELETING, state=DISABLED\n",
      "[INFO] airt_service.aws.batch_utils: wait(): self.arn='arn:aws:batch:eu-west-1:617504802562:job-queue/airflow_batch_execute_testing_1785JN_training_job_queue', status=DELETING, state=DISABLED\n",
      "[INFO] airt_service.aws.batch_utils: wait(): self.arn='arn:aws:batch:eu-west-1:617504802562:job-queue/airflow_batch_execute_testing_1785JN_training_job_queue', status=DELETING, state=DISABLED\n",
      "[INFO] airt_service.aws.batch_utils: wait(): self.arn='arn:aws:batch:eu-west-1:617504802562:job-queue/airflow_batch_execute_testing_1785JN_training_job_queue', status=DELETING, state=DISABLED\n",
      "[INFO] airt_service.aws.batch_utils: wait(): self.arn='arn:aws:batch:eu-west-1:617504802562:job-queue/airflow_batch_execute_testing_1785JN_training_job_queue', status=DELETING, state=DISABLED\n",
      "[INFO] airt_service.aws.batch_utils: wait(): self.arn='arn:aws:batch:eu-west-1:617504802562:job-queue/airflow_batch_execute_testing_1785JN_training_job_queue', status=DELETING, state=DISABLED\n",
      "[INFO] airt_service.aws.batch_utils: wait(): self.arn='arn:aws:batch:eu-west-1:617504802562:job-queue/airflow_batch_execute_testing_1785JN_training_job_queue', status=DELETING, state=DISABLED\n",
      "[INFO] airt_service.aws.batch_utils: wait(): self.arn='arn:aws:batch:eu-west-1:617504802562:job-queue/airflow_batch_execute_testing_1785JN_training_job_queue', status=DELETING, state=DISABLED\n",
      "[INFO] airt_service.aws.batch_utils: wait(): self.arn='arn:aws:batch:eu-west-1:617504802562:job-queue/airflow_batch_execute_testing_1785JN_training_job_queue', status=DELETING, state=DISABLED\n",
      "[INFO] airt_service.aws.batch_utils: wait(): self.arn='arn:aws:batch:eu-west-1:617504802562:job-queue/airflow_batch_execute_testing_1785JN_training_job_queue', status=DELETING, state=DISABLED\n",
      "[INFO] airt_service.aws.batch_utils: wait(): self.arn='arn:aws:batch:eu-west-1:617504802562:job-queue/airflow_batch_execute_testing_1785JN_training_job_queue', status=DELETING, state=DISABLED\n",
      "[INFO] airt_service.aws.batch_utils: wait(): self.arn='arn:aws:batch:eu-west-1:617504802562:job-queue/airflow_batch_execute_testing_1785JN_training_job_queue', status=DELETING, state=DISABLED\n",
      "[INFO] airt_service.aws.batch_utils: wait(): self.arn='arn:aws:batch:eu-west-1:617504802562:job-queue/airflow_batch_execute_testing_1785JN_training_job_queue', status=DELETING, state=DISABLED\n",
      "[INFO] airt_service.aws.batch_utils: wait(): self.arn='arn:aws:batch:eu-west-1:617504802562:job-queue/airflow_batch_execute_testing_1785JN_training_job_queue', status=DELETING, state=DISABLED\n",
      "[INFO] airt_service.aws.batch_utils: wait(): self.arn='arn:aws:batch:eu-west-1:617504802562:job-queue/airflow_batch_execute_testing_1785JN_training_job_queue', status=DELETING, state=DISABLED\n",
      "[INFO] airt_service.aws.batch_utils: wait(): self.arn='arn:aws:batch:eu-west-1:617504802562:job-queue/airflow_batch_execute_testing_1785JN_training_job_queue', status=DELETING, state=DISABLED\n",
      "[INFO] airt_service.aws.batch_utils: wait(): self.arn='arn:aws:batch:eu-west-1:617504802562:job-queue/airflow_batch_execute_testing_1785JN_training_job_queue', status=DELETING, state=DISABLED\n",
      "[INFO] airt_service.aws.batch_utils: wait(): self.arn='arn:aws:batch:eu-west-1:617504802562:job-queue/airflow_batch_execute_testing_1785JN_training_job_queue', status=DELETING, state=DISABLED\n",
      "[INFO] airt_service.aws.batch_utils: wait(): self.arn='arn:aws:batch:eu-west-1:617504802562:job-queue/airflow_batch_execute_testing_1785JN_training_job_queue', status=DELETING, state=DISABLED\n",
      "[INFO] airt_service.aws.batch_utils: wait(): self.arn='arn:aws:batch:eu-west-1:617504802562:job-queue/airflow_batch_execute_testing_1785JN_training_job_queue', status=DELETING, state=DISABLED\n",
      "[INFO] airt_service.aws.batch_utils: wait(): self.arn='arn:aws:batch:eu-west-1:617504802562:job-queue/airflow_batch_execute_testing_1785JN_training_job_queue', status=DELETING, state=DISABLED\n",
      "[INFO] airt_service.aws.batch_utils: wait(): self.arn='arn:aws:batch:eu-west-1:617504802562:job-queue/airflow_batch_execute_testing_1785JN_training_job_queue', status=DELETING, state=DISABLED\n",
      "[INFO] airt_service.aws.batch_utils: wait(): self.arn='arn:aws:batch:eu-west-1:617504802562:job-queue/airflow_batch_execute_testing_1785JN_training_job_queue', status=DELETING, state=DISABLED\n",
      "[INFO] airt_service.aws.batch_utils: wait(): self.arn='arn:aws:batch:eu-west-1:617504802562:job-queue/airflow_batch_execute_testing_1785JN_training_job_queue', status=DELETING, state=DISABLED\n",
      "[INFO] airt_service.aws.batch_utils: wait(): self.arn='arn:aws:batch:eu-west-1:617504802562:job-queue/airflow_batch_execute_testing_1785JN_training_job_queue' deleted\n",
      "deleting compute env - training\n",
      "[INFO] airt_service.aws.batch_utils: wait(): self.arn='arn:aws:batch:eu-west-1:617504802562:compute-environment/airflow_batch_execute_testing_1785JN_training_compute_environment', status=UPDATING, state=DISABLED\n",
      "[INFO] airt_service.aws.batch_utils: wait(): self.arn='arn:aws:batch:eu-west-1:617504802562:compute-environment/airflow_batch_execute_testing_1785JN_training_compute_environment', status=UPDATING, state=DISABLED\n",
      "[INFO] airt_service.aws.batch_utils: wait(): self.arn='arn:aws:batch:eu-west-1:617504802562:compute-environment/airflow_batch_execute_testing_1785JN_training_compute_environment', status=UPDATING, state=DISABLED\n",
      "[INFO] airt_service.aws.batch_utils: wait(): self.arn='arn:aws:batch:eu-west-1:617504802562:compute-environment/airflow_batch_execute_testing_1785JN_training_compute_environment', status=UPDATING, state=DISABLED\n",
      "[INFO] airt_service.aws.batch_utils: wait(): self.arn='arn:aws:batch:eu-west-1:617504802562:compute-environment/airflow_batch_execute_testing_1785JN_training_compute_environment', status=UPDATING, state=DISABLED\n",
      "[INFO] airt_service.aws.batch_utils: wait(): self.arn='arn:aws:batch:eu-west-1:617504802562:compute-environment/airflow_batch_execute_testing_1785JN_training_compute_environment', status=UPDATING, state=DISABLED\n",
      "[INFO] airt_service.aws.batch_utils: wait(): self.arn='arn:aws:batch:eu-west-1:617504802562:compute-environment/airflow_batch_execute_testing_1785JN_training_compute_environment', status=UPDATING, state=DISABLED\n",
      "[INFO] airt_service.aws.batch_utils: wait(): self.arn='arn:aws:batch:eu-west-1:617504802562:compute-environment/airflow_batch_execute_testing_1785JN_training_compute_environment', status=UPDATING, state=DISABLED\n",
      "[INFO] airt_service.aws.batch_utils: wait(): self.arn='arn:aws:batch:eu-west-1:617504802562:compute-environment/airflow_batch_execute_testing_1785JN_training_compute_environment', status=UPDATING, state=DISABLED\n"
     ]
    },
    {
     "name": "stdout",
     "output_type": "stream",
     "text": [
      "[INFO] airt_service.aws.batch_utils: wait(): self.arn='arn:aws:batch:eu-west-1:617504802562:compute-environment/airflow_batch_execute_testing_1785JN_training_compute_environment', status=UPDATING, state=DISABLED\n",
      "[INFO] airt_service.aws.batch_utils: wait(): self.arn='arn:aws:batch:eu-west-1:617504802562:compute-environment/airflow_batch_execute_testing_1785JN_training_compute_environment', status=UPDATING, state=DISABLED\n",
      "[INFO] airt_service.aws.batch_utils: wait(): self.arn='arn:aws:batch:eu-west-1:617504802562:compute-environment/airflow_batch_execute_testing_1785JN_training_compute_environment', status=UPDATING, state=DISABLED\n",
      "[INFO] airt_service.aws.batch_utils: wait(): self.arn='arn:aws:batch:eu-west-1:617504802562:compute-environment/airflow_batch_execute_testing_1785JN_training_compute_environment', status=UPDATING, state=DISABLED\n",
      "[INFO] airt_service.aws.batch_utils: wait(): self.arn='arn:aws:batch:eu-west-1:617504802562:compute-environment/airflow_batch_execute_testing_1785JN_training_compute_environment', status=UPDATING, state=DISABLED\n",
      "[INFO] airt_service.aws.batch_utils: wait(): self.arn='arn:aws:batch:eu-west-1:617504802562:compute-environment/airflow_batch_execute_testing_1785JN_training_compute_environment', status=UPDATING, state=DISABLED\n",
      "[INFO] airt_service.aws.batch_utils: wait(): self.arn='arn:aws:batch:eu-west-1:617504802562:compute-environment/airflow_batch_execute_testing_1785JN_training_compute_environment', status=UPDATING, state=DISABLED\n",
      "[INFO] airt_service.aws.batch_utils: wait(): self.arn='arn:aws:batch:eu-west-1:617504802562:compute-environment/airflow_batch_execute_testing_1785JN_training_compute_environment', status=UPDATING, state=DISABLED\n",
      "[INFO] airt_service.aws.batch_utils: wait(): self.arn='arn:aws:batch:eu-west-1:617504802562:compute-environment/airflow_batch_execute_testing_1785JN_training_compute_environment', status=VALID, state=DISABLED\n"
     ]
    }
   ],
   "source": [
    "# | eval: false\n",
    "\n",
    "region = \"eu-west-1\"\n",
    "\n",
    "with tempfile.TemporaryDirectory() as d:\n",
    "    data_path_url, model_path_url = setup_test_paths(d)\n",
    "\n",
    "    exec_environments = [\"training\", \"predictions\"]\n",
    "\n",
    "    td = Path(d)\n",
    "    env_config_path = td / \"env_config.yaml\"\n",
    "    created_env_info_path = td / \"output_file.yaml\"\n",
    "    create_default_batch_environment_config(\n",
    "        prefix=f\"airflow_batch_execute_testing_{generate_random_string()}\",\n",
    "        output_path=env_config_path,\n",
    "        regions=[region],\n",
    "    )\n",
    "\n",
    "    with open(env_config_path) as f:\n",
    "        env_config = yaml.safe_load(f)\n",
    "    display(f\"{env_config=}\")\n",
    "    with create_testing_batch_environment_ctx(\n",
    "        input_yaml_path=env_config_path, output_yaml_path=created_env_info_path\n",
    "    ):\n",
    "        with set_env_variable_context(variable=\"JOB_EXECUTOR\", value=\"aws\"):\n",
    "            executor = AirflowExecutor.create_executor(\n",
    "                steps=steps,\n",
    "                cloud_provider=\"aws\",\n",
    "                region=region,\n",
    "                exec_environments=exec_environments,\n",
    "                batch_environment_arn_path=created_env_info_path,\n",
    "            )\n",
    "\n",
    "            dag_file_path, run_id = executor.execute(\n",
    "                description=\"test description\",\n",
    "                tags=\"test_tag\",\n",
    "                on_step_start=on_step_start,\n",
    "                on_step_end=on_step_end,\n",
    "                data_path_url=data_path_url,\n",
    "                model_path_url=model_path_url,\n",
    "            )\n",
    "            display(dag_file_path)\n",
    "            display(run_id)\n",
    "\n",
    "            dag_id = str(dag_file_path).split(\"/\")[-1].split(\".py\")[0]\n",
    "            state = wait_for_run_to_complete(dag_id=dag_id, run_id=run_id, timeout=3600)\n",
    "            display(state)\n",
    "            dag_file_path.unlink()"
   ]
  },
  {
   "cell_type": "code",
   "execution_count": null,
   "id": "5f7c0c50",
   "metadata": {},
   "outputs": [],
   "source": []
  }
 ],
 "metadata": {
  "kernelspec": {
   "display_name": "Python 3 (ipykernel)",
   "language": "python",
   "name": "python3"
  }
 },
 "nbformat": 4,
 "nbformat_minor": 5
}
