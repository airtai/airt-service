{
 "cells": [
  {
   "cell_type": "raw",
   "metadata": {},
   "source": [
    "---\n",
    "description: Notebook containing the global variables\n",
    "output-file: constants.html\n",
    "title: Constants\n",
    "\n",
    "---\n",
    "\n"
   ]
  },
  {
   "cell_type": "code",
   "execution_count": null,
   "id": "c38d8f11",
   "metadata": {},
   "outputs": [],
   "source": [
    "# | default_exp constants"
   ]
  },
  {
   "cell_type": "code",
   "execution_count": null,
   "id": "9ebf2a64",
   "metadata": {},
   "outputs": [],
   "source": [
    "# | export\n",
    "\n",
    "METADATA_FOLDER_PATH = \".metadata_by_airt\"\n",
    "DS_HEAD_FILE_NAME = \"head.parquet\"\n",
    "MFA_ISSUER_NAME = \"airt.ai\""
   ]
  },
  {
   "cell_type": "code",
   "execution_count": null,
   "id": "dcdc1102",
   "metadata": {},
   "outputs": [],
   "source": []
  }
 ],
 "metadata": {
  "kernelspec": {
   "display_name": "Python 3",
   "language": "python",
   "name": "python3"
  }
 },
 "nbformat": 4,
 "nbformat_minor": 5
}
