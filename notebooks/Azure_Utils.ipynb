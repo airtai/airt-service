{
 "cells": [
  {
   "cell_type": "raw",
   "metadata": {},
   "source": [
    "---\n",
    "description: Notebook for azure utility functions\n",
    "output-file: azure_utils.html\n",
    "title: Azure Utilities\n",
    "\n",
    "---\n",
    "\n"
   ]
  },
  {
   "cell_type": "code",
   "execution_count": null,
   "id": "ed403a3d",
   "metadata": {},
   "outputs": [],
   "source": [
    "#| default_exp azure.utils"
   ]
  },
  {
   "cell_type": "code",
   "execution_count": null,
   "id": "798670c8",
   "metadata": {},
   "outputs": [
    {
     "name": "stdout",
     "output_type": "stream",
     "text": [
      "[INFO] airt.testing.activate_by_import: Testing environment activated.\n",
      "[INFO] numexpr.utils: Note: NumExpr detected 16 cores but \"NUMEXPR_MAX_THREADS\" not set, so enforcing safe limit of 8.\n",
      "[INFO] numexpr.utils: NumExpr defaulting to 8 threads.\n",
      "[INFO] airt.keras.helpers: Using a single GPU #0 with memory_limit 1024 MB\n"
     ]
    }
   ],
   "source": [
    "from airt.testing import activate_by_import"
   ]
  },
  {
   "cell_type": "code",
   "execution_count": null,
   "id": "14a296b6",
   "metadata": {},
   "outputs": [],
   "source": [
    "#| export\n",
    "\n",
    "import logging\n",
    "import os\n",
    "import yaml\n",
    "from pathlib import Path\n",
    "from typing import *\n",
    "\n",
    "from azure.identity import DefaultAzureCredential\n",
    "from azure.mgmt.resource import ResourceManagementClient\n",
    "from azure.mgmt.storage import StorageManagementClient\n",
    "from azure.storage.blob import BlobServiceClient\n",
    "from azure.storage.blob._container_client import ContainerClient\n",
    "from fastapi import status, HTTPException\n",
    "\n",
    "from airt.helpers import get_s3_bucket_name_and_folder_from_uri\n",
    "from airt.logger import get_logger"
   ]
  },
  {
   "cell_type": "code",
   "execution_count": null,
   "id": "6d303722",
   "metadata": {},
   "outputs": [],
   "source": [
    "import tempfile\n",
    "\n",
    "import pytest\n",
    "\n",
    "from airt_service.db.models import create_user_for_testing"
   ]
  },
  {
   "cell_type": "code",
   "execution_count": null,
   "id": "d7354f2c",
   "metadata": {},
   "outputs": [
    {
     "data": {
      "text/plain": [
       "'nyupzlpfre'"
      ]
     },
     "metadata": {},
     "output_type": "display_data"
    }
   ],
   "source": [
    "test_username = create_user_for_testing()\n",
    "display(test_username)"
   ]
  },
  {
   "cell_type": "code",
   "execution_count": null,
   "id": "07688a1c",
   "metadata": {},
   "outputs": [],
   "source": [
    "#| exporti\n",
    "\n",
    "logger = get_logger(__name__)"
   ]
  },
  {
   "cell_type": "code",
   "execution_count": null,
   "id": "d72f8cd9",
   "metadata": {},
   "outputs": [],
   "source": [
    "#| exporti\n",
    "\n",
    "# This is needed to disable excessive logging from azure-storage-blob library\n",
    "\n",
    "(logging.getLogger(\"azure.core.pipeline.policies.http_logging_policy\")).setLevel(\n",
    "    logging.WARNING\n",
    ")"
   ]
  },
  {
   "cell_type": "code",
   "execution_count": null,
   "id": "e82a2763",
   "metadata": {},
   "outputs": [],
   "source": [
    "#| export\n",
    "\n",
    "\n",
    "def get_available_azure_regions() -> List[str]:\n",
    "    \"\"\"Get supported azure regions\n",
    "\n",
    "    Returns:\n",
    "        List of supported azure regions\n",
    "    \"\"\"\n",
    "\n",
    "    # Hardcoded list from https://stackoverflow.com/a/61263190/3664629\n",
    "    # ToDo: retrieve programmatically and replace\n",
    "    return [\n",
    "        \"australiacentral\",\n",
    "        \"australiacentral2\",\n",
    "        \"australiaeast\",\n",
    "        \"australiasoutheast\",\n",
    "        \"brazilsouth\",\n",
    "        \"canadacentral\",\n",
    "        \"canadaeast\",\n",
    "        \"centralindia\",\n",
    "        \"centralus\",\n",
    "        \"eastasia\",\n",
    "        \"eastus\",\n",
    "        \"eastus2\",\n",
    "        \"francecentral\",\n",
    "        \"francesouth\",\n",
    "        \"germanynorth\",\n",
    "        \"germanywestcentral\",\n",
    "        \"japaneast\",\n",
    "        \"japanwest\",\n",
    "        \"koreacentral\",\n",
    "        \"koreasouth\",\n",
    "        \"northcentralus\",\n",
    "        \"northeurope\",\n",
    "        \"norwayeast\",\n",
    "        \"norwaywest\",\n",
    "        \"southafricanorth\",\n",
    "        \"southafricawest\",\n",
    "        \"southcentralus\",\n",
    "        \"southeastasia\",\n",
    "        \"southindia\",\n",
    "        \"switzerlandnorth\",\n",
    "        \"switzerlandwest\",\n",
    "        \"uaecentral\",\n",
    "        \"uaenorth\",\n",
    "        \"uksouth\",\n",
    "        \"ukwest\",\n",
    "        \"westcentralus\",\n",
    "        \"westeurope\",\n",
    "        \"westindia\",\n",
    "        \"westus\",\n",
    "        \"westus2\",\n",
    "    ]"
   ]
  },
  {
   "cell_type": "code",
   "execution_count": null,
   "id": "eed941ae",
   "metadata": {},
   "outputs": [
    {
     "data": {
      "text/plain": [
       "['australiacentral',\n",
       " 'australiacentral2',\n",
       " 'australiaeast',\n",
       " 'australiasoutheast',\n",
       " 'brazilsouth',\n",
       " 'canadacentral',\n",
       " 'canadaeast',\n",
       " 'centralindia',\n",
       " 'centralus',\n",
       " 'eastasia',\n",
       " 'eastus',\n",
       " 'eastus2',\n",
       " 'francecentral',\n",
       " 'francesouth',\n",
       " 'germanynorth',\n",
       " 'germanywestcentral',\n",
       " 'japaneast',\n",
       " 'japanwest',\n",
       " 'koreacentral',\n",
       " 'koreasouth',\n",
       " 'northcentralus',\n",
       " 'northeurope',\n",
       " 'norwayeast',\n",
       " 'norwaywest',\n",
       " 'southafricanorth',\n",
       " 'southafricawest',\n",
       " 'southcentralus',\n",
       " 'southeastasia',\n",
       " 'southindia',\n",
       " 'switzerlandnorth',\n",
       " 'switzerlandwest',\n",
       " 'uaecentral',\n",
       " 'uaenorth',\n",
       " 'uksouth',\n",
       " 'ukwest',\n",
       " 'westcentralus',\n",
       " 'westeurope',\n",
       " 'westindia',\n",
       " 'westus',\n",
       " 'westus2']"
      ]
     },
     "execution_count": null,
     "metadata": {},
     "output_type": "execute_result"
    }
   ],
   "source": [
    "get_available_azure_regions()"
   ]
  },
  {
   "cell_type": "code",
   "execution_count": null,
   "id": "8188b437",
   "metadata": {},
   "outputs": [],
   "source": [
    "#| export\n",
    "\n",
    "\n",
    "def verify_azure_region(region: str):\n",
    "    \"\"\"\n",
    "    Verify given region is in available azure regions else raise an error\n",
    "\n",
    "    Args:\n",
    "        region: region name\n",
    "    Raises:\n",
    "        HTTPException: If region is not a valid region\n",
    "    \"\"\"\n",
    "    available_regions = get_available_azure_regions()\n",
    "    if region not in available_regions:\n",
    "        raise HTTPException(\n",
    "            status_code=status.HTTP_400_BAD_REQUEST,\n",
    "            detail=f\"Unknown region - {region}; Available regions are {', '.join(available_regions)}\",\n",
    "        )"
   ]
  },
  {
   "cell_type": "code",
   "execution_count": null,
   "id": "95baeba6",
   "metadata": {},
   "outputs": [
    {
     "data": {
      "text/plain": [
       "<ExceptionInfo HTTPException(status_code=400, detail='Unknown region - region-doesnt-exists; Available regions are australiacentral, ...dnorth, switzerlandwest, uaecentral, uaenorth, uksouth, ukwest, westcentralus, westeurope, westindia, westus, westus2') tblen=2>"
      ]
     },
     "metadata": {},
     "output_type": "display_data"
    }
   ],
   "source": [
    "verify_azure_region(\"westeurope\")\n",
    "\n",
    "with pytest.raises(HTTPException) as e:\n",
    "    verify_azure_region(region=\"region-doesnt-exists\")\n",
    "assert \"Unknown region\" in str(e)\n",
    "display(e)"
   ]
  },
  {
   "cell_type": "code",
   "execution_count": null,
   "id": "b2962530",
   "metadata": {},
   "outputs": [],
   "source": [
    "#| export\n",
    "\n",
    "\n",
    "def create_azure_resource_group_storage_account_and_container(\n",
    "    resource_group_region: str = \"westeurope\",\n",
    "    *,\n",
    "    storage_account_region: str,\n",
    ") -> str:\n",
    "    \"\"\"\n",
    "    Create azure resource group and storage account\n",
    "\n",
    "    Args:\n",
    "        resource_group_region: region of resource group\n",
    "        storage_account_region: region of storage account\n",
    "    Returns:\n",
    "        Created storage account's name\n",
    "    \"\"\"\n",
    "    credential = DefaultAzureCredential()\n",
    "    subscription_id = os.environ[\"AZURE_SUBSCRIPTION_ID\"]\n",
    "\n",
    "    resource_group = os.environ[\"AZURE_RESOURCE_GROUP\"]\n",
    "    resource_client = ResourceManagementClient(credential, subscription_id)\n",
    "    rg_result = resource_client.resource_groups.create_or_update(\n",
    "        resource_group, {\"location\": resource_group_region}\n",
    "    )\n",
    "\n",
    "    storage_client = StorageManagementClient(credential, subscription_id)\n",
    "    storage_account_name = (\n",
    "        f\"{os.environ['AZURE_STORAGE_ACCOUNT_PREFIX']}{storage_account_region}\"[-24:]\n",
    "    )\n",
    "    availability_result = storage_client.storage_accounts.check_name_availability(\n",
    "        {\"name\": storage_account_name}\n",
    "    )\n",
    "\n",
    "    if availability_result.name_available:\n",
    "        poller = storage_client.storage_accounts.begin_create(\n",
    "            resource_group,\n",
    "            storage_account_name,\n",
    "            {\n",
    "                \"location\": storage_account_region,\n",
    "                \"kind\": \"StorageV2\",\n",
    "                \"sku\": {\"name\": \"Standard_LRS\"},\n",
    "            },\n",
    "        )\n",
    "\n",
    "        # Long-running operations return a poller object; calling poller.result()\n",
    "        # waits for completion.\n",
    "        account_result = poller.result()\n",
    "\n",
    "    # Container name is same as storage account name\n",
    "    container = storage_client.blob_containers.create(\n",
    "        resource_group, storage_account_name, storage_account_name, {}\n",
    "    )\n",
    "    return storage_account_name"
   ]
  },
  {
   "cell_type": "code",
   "execution_count": null,
   "id": "46d728ed",
   "metadata": {},
   "outputs": [
    {
     "name": "stdout",
     "output_type": "stream",
     "text": [
      "[INFO] azure.identity._credentials.environment: Environment is configured for ClientSecretCredential\n",
      "[INFO] azure.identity._credentials.managed_identity: ManagedIdentityCredential will use IMDS\n",
      "[INFO] azure.identity._credentials.chained: DefaultAzureCredential acquired a token from EnvironmentCredential\n",
      "[INFO] azure.identity._credentials.default: DefaultAzureCredential acquired a token from EnvironmentCredential\n"
     ]
    },
    {
     "data": {
      "text/plain": [
       "'kumsairtsdevwesteurope'"
      ]
     },
     "metadata": {},
     "output_type": "display_data"
    }
   ],
   "source": [
    "actual = create_azure_resource_group_storage_account_and_container(\n",
    "    storage_account_region=\"westeurope\"\n",
    ")\n",
    "display(actual)\n",
    "assert actual"
   ]
  },
  {
   "cell_type": "code",
   "execution_count": null,
   "id": "7a7dc3bf",
   "metadata": {},
   "outputs": [],
   "source": [
    "#| export\n",
    "\n",
    "\n",
    "def get_azure_blob_storage_container(\n",
    "    region: str = \"westeurope\",\n",
    ") -> Tuple[ContainerClient, str]:\n",
    "    \"\"\"Get the root azure blob storage container to store datasources, models, predictions\n",
    "\n",
    "    Args:\n",
    "        region: region name\n",
    "    Returns:\n",
    "        The root storage azure blob storage container\n",
    "    Raises:\n",
    "        HTTPException: If region is not a valid region\n",
    "    \"\"\"\n",
    "    verify_azure_region(region)\n",
    "\n",
    "    storage_account_name = create_azure_resource_group_storage_account_and_container(\n",
    "        storage_account_region=region,\n",
    "    )\n",
    "\n",
    "    storage_container_path = (\n",
    "        f\"https://{storage_account_name}.blob.core.windows.net/{storage_account_name}\"\n",
    "    )\n",
    "\n",
    "    storage_account, base_path = get_s3_bucket_name_and_folder_from_uri(\n",
    "        storage_container_path\n",
    "    )\n",
    "    container_name = base_path.split(\"/\")[0]\n",
    "    base_path = \"/\".join(base_path.split(\"/\")[1:])\n",
    "\n",
    "    blob_service_client = BlobServiceClient(\n",
    "        account_url=f\"https://{storage_account}\",\n",
    "        credential=DefaultAzureCredential(),\n",
    "    )\n",
    "    container_client = blob_service_client.get_container_client(\n",
    "        container=container_name\n",
    "    )\n",
    "\n",
    "    return container_client, base_path"
   ]
  },
  {
   "cell_type": "code",
   "execution_count": null,
   "id": "89b1d63a",
   "metadata": {},
   "outputs": [
    {
     "name": "stdout",
     "output_type": "stream",
     "text": [
      "[INFO] azure.identity._credentials.environment: Environment is configured for ClientSecretCredential\n",
      "[INFO] azure.identity._credentials.managed_identity: ManagedIdentityCredential will use IMDS\n",
      "[INFO] azure.identity._credentials.chained: DefaultAzureCredential acquired a token from EnvironmentCredential\n",
      "[INFO] azure.identity._credentials.default: DefaultAzureCredential acquired a token from EnvironmentCredential\n",
      "[INFO] azure.identity._credentials.environment: Environment is configured for ClientSecretCredential\n",
      "[INFO] azure.identity._credentials.managed_identity: ManagedIdentityCredential will use IMDS\n"
     ]
    },
    {
     "data": {
      "text/plain": [
       "(<azure.storage.blob._container_client.ContainerClient at 0x7f6cfc425d30>, '')"
      ]
     },
     "metadata": {},
     "output_type": "display_data"
    },
    {
     "data": {
      "text/plain": [
       "'https://kumsairtsdevwesteurope.blob.core.windows.net/kumsairtsdevwesteurope'"
      ]
     },
     "metadata": {},
     "output_type": "display_data"
    }
   ],
   "source": [
    "actual = get_azure_blob_storage_container(region=\"westeurope\")\n",
    "display(actual)\n",
    "display(actual[0].url)\n",
    "assert actual"
   ]
  },
  {
   "cell_type": "code",
   "execution_count": null,
   "id": "135a5aad",
   "metadata": {},
   "outputs": [
    {
     "data": {
      "text/plain": [
       "<ExceptionInfo HTTPException(status_code=400, detail='Unknown region - region-doesnt-exists; Available regions are australiacentral, ...dnorth, switzerlandwest, uaecentral, uaenorth, uksouth, ukwest, westcentralus, westeurope, westindia, westus, westus2') tblen=3>"
      ]
     },
     "metadata": {},
     "output_type": "display_data"
    }
   ],
   "source": [
    "with pytest.raises(HTTPException) as e:\n",
    "    get_azure_blob_storage_container(region=\"region-doesnt-exists\")\n",
    "assert \"Unknown region\" in str(e)\n",
    "display(e)"
   ]
  },
  {
   "cell_type": "code",
   "execution_count": null,
   "id": "966adebb",
   "metadata": {},
   "outputs": [],
   "source": [
    "#| export\n",
    "\n",
    "\n",
    "def create_azure_blob_storage_datablob_path(\n",
    "    user_id: int, datablob_id: int, region: str\n",
    ") -> Tuple[ContainerClient, str]:\n",
    "    \"\"\"Create an S3 path to store the datablobs\n",
    "\n",
    "    Args:\n",
    "        user_id: User id\n",
    "        datablob_id: Datablob id\n",
    "\n",
    "    Returns:\n",
    "        The root storage bucket object and the s3 path as a tuple\n",
    "    \"\"\"\n",
    "    container_client, base_path = get_azure_blob_storage_container(region=region)\n",
    "    azure_blob_storage_path = f\"{user_id}/datablob/{datablob_id}\"\n",
    "    azure_blob_storage_path = (\n",
    "        f\"{base_path}/{azure_blob_storage_path}\"\n",
    "        if base_path\n",
    "        else azure_blob_storage_path\n",
    "    )\n",
    "\n",
    "    return container_client, azure_blob_storage_path"
   ]
  },
  {
   "cell_type": "code",
   "execution_count": null,
   "id": "7ca92c13",
   "metadata": {},
   "outputs": [
    {
     "name": "stdout",
     "output_type": "stream",
     "text": [
      "[INFO] azure.identity._credentials.environment: Environment is configured for ClientSecretCredential\n",
      "[INFO] azure.identity._credentials.managed_identity: ManagedIdentityCredential will use IMDS\n",
      "[INFO] azure.identity._credentials.chained: DefaultAzureCredential acquired a token from EnvironmentCredential\n",
      "[INFO] azure.identity._credentials.default: DefaultAzureCredential acquired a token from EnvironmentCredential\n",
      "[INFO] azure.identity._credentials.environment: Environment is configured for ClientSecretCredential\n",
      "[INFO] azure.identity._credentials.managed_identity: ManagedIdentityCredential will use IMDS\n"
     ]
    },
    {
     "data": {
      "text/plain": [
       "(<azure.storage.blob._container_client.ContainerClient at 0x7f6cfc432be0>,\n",
       " '999/datablob/999')"
      ]
     },
     "metadata": {},
     "output_type": "display_data"
    },
    {
     "name": "stdout",
     "output_type": "stream",
     "text": [
      "[INFO] azure.identity._credentials.environment: Environment is configured for ClientSecretCredential\n",
      "[INFO] azure.identity._credentials.managed_identity: ManagedIdentityCredential will use IMDS\n",
      "[INFO] azure.identity._credentials.chained: DefaultAzureCredential acquired a token from EnvironmentCredential\n",
      "[INFO] azure.identity._credentials.default: DefaultAzureCredential acquired a token from EnvironmentCredential\n",
      "[INFO] azure.identity._credentials.environment: Environment is configured for ClientSecretCredential\n",
      "[INFO] azure.identity._credentials.managed_identity: ManagedIdentityCredential will use IMDS\n"
     ]
    }
   ],
   "source": [
    "actual = create_azure_blob_storage_datablob_path(\n",
    "    user_id=999, datablob_id=999, region=\"westeurope\"\n",
    ")\n",
    "display(actual)\n",
    "expected = \"999/datablob/999\"\n",
    "_, base_path = get_azure_blob_storage_container(region=\"westeurope\")\n",
    "expected = f\"{base_path}/{expected}\" if base_path else expected\n",
    "\n",
    "assert actual[0]\n",
    "assert actual[1] == expected\n",
    "\n",
    "# bucket = actual[0]\n",
    "# display(bucket.meta.client.head_object(Bucket=bucket.name, Key=\"999/datasource/999/result.json\"))"
   ]
  },
  {
   "cell_type": "code",
   "execution_count": null,
   "id": "751387dd",
   "metadata": {},
   "outputs": [],
   "source": [
    "#| export\n",
    "\n",
    "\n",
    "def create_azure_blob_storage_datasource_path(\n",
    "    user_id: int, datasource_id: int, region: str\n",
    ") -> Tuple[ContainerClient, str]:\n",
    "    \"\"\"Create an azure blob storage path to store the datasources\n",
    "\n",
    "    Args:\n",
    "        user_id: User id\n",
    "        datasource_id: Datasource id to store\n",
    "\n",
    "    Returns:\n",
    "        The root container client object and the azure blob storage path as a tuple\n",
    "    \"\"\"\n",
    "    container_client, base_path = get_azure_blob_storage_container(region=region)\n",
    "    azure_blob_storage_path = f\"{user_id}/datasource/{datasource_id}\"\n",
    "    azure_blob_storage_path = (\n",
    "        f\"{base_path}/{azure_blob_storage_path}\"\n",
    "        if base_path\n",
    "        else azure_blob_storage_path\n",
    "    )\n",
    "\n",
    "    return container_client, azure_blob_storage_path"
   ]
  },
  {
   "cell_type": "code",
   "execution_count": null,
   "id": "e45b5c9b",
   "metadata": {},
   "outputs": [
    {
     "name": "stdout",
     "output_type": "stream",
     "text": [
      "[INFO] azure.identity._credentials.environment: Environment is configured for ClientSecretCredential\n",
      "[INFO] azure.identity._credentials.managed_identity: ManagedIdentityCredential will use IMDS\n",
      "[INFO] azure.identity._credentials.chained: DefaultAzureCredential acquired a token from EnvironmentCredential\n",
      "[INFO] azure.identity._credentials.default: DefaultAzureCredential acquired a token from EnvironmentCredential\n",
      "[INFO] azure.identity._credentials.environment: Environment is configured for ClientSecretCredential\n",
      "[INFO] azure.identity._credentials.managed_identity: ManagedIdentityCredential will use IMDS\n"
     ]
    },
    {
     "data": {
      "text/plain": [
       "(<azure.storage.blob._container_client.ContainerClient at 0x7f6cfc38f520>,\n",
       " '999/datasource/999')"
      ]
     },
     "metadata": {},
     "output_type": "display_data"
    },
    {
     "name": "stdout",
     "output_type": "stream",
     "text": [
      "[INFO] azure.identity._credentials.environment: Environment is configured for ClientSecretCredential\n",
      "[INFO] azure.identity._credentials.managed_identity: ManagedIdentityCredential will use IMDS\n",
      "[INFO] azure.identity._credentials.chained: DefaultAzureCredential acquired a token from EnvironmentCredential\n",
      "[INFO] azure.identity._credentials.default: DefaultAzureCredential acquired a token from EnvironmentCredential\n",
      "[INFO] azure.identity._credentials.environment: Environment is configured for ClientSecretCredential\n",
      "[INFO] azure.identity._credentials.managed_identity: ManagedIdentityCredential will use IMDS\n"
     ]
    }
   ],
   "source": [
    "actual = create_azure_blob_storage_datasource_path(\n",
    "    user_id=999, datasource_id=999, region=\"westeurope\"\n",
    ")\n",
    "display(actual)\n",
    "expected = \"999/datasource/999\"\n",
    "_, base_path = get_azure_blob_storage_container(region=\"westeurope\")\n",
    "expected = f\"{base_path}/{expected}\" if base_path else expected\n",
    "\n",
    "\n",
    "assert actual[0]\n",
    "assert actual[1] == expected\n",
    "\n",
    "# bucket = actual[0]\n",
    "# display(bucket.meta.client.head_object(Bucket=bucket.name, Key=\"999/datasource/999/result.json\"))"
   ]
  },
  {
   "cell_type": "code",
   "execution_count": null,
   "id": "00a13822",
   "metadata": {},
   "outputs": [],
   "source": [
    "#| export\n",
    "\n",
    "\n",
    "def create_azure_blob_storage_prediction_path(\n",
    "    user_id: int, prediction_id: int, region: str\n",
    ") -> Tuple[ContainerClient, str]:\n",
    "    \"\"\"Create an S3 path to store the prediction results\n",
    "\n",
    "    Args:\n",
    "        user_id: User id\n",
    "        prediction_id: Prediction id\n",
    "\n",
    "    Returns:\n",
    "        The root storage bucket object and the s3 path as a tuple\n",
    "    \"\"\"\n",
    "    container_client, base_path = get_azure_blob_storage_container(region=region)\n",
    "    azure_blob_storage_path = f\"{user_id}/prediction/{prediction_id}\"\n",
    "    azure_blob_storage_path = (\n",
    "        f\"{base_path}/{azure_blob_storage_path}\"\n",
    "        if base_path\n",
    "        else azure_blob_storage_path\n",
    "    )\n",
    "\n",
    "    return container_client, azure_blob_storage_path"
   ]
  },
  {
   "cell_type": "code",
   "execution_count": null,
   "id": "0d46d5e7",
   "metadata": {},
   "outputs": [
    {
     "name": "stdout",
     "output_type": "stream",
     "text": [
      "[INFO] azure.identity._credentials.environment: Environment is configured for ClientSecretCredential\n",
      "[INFO] azure.identity._credentials.managed_identity: ManagedIdentityCredential will use IMDS\n",
      "[INFO] azure.identity._credentials.chained: DefaultAzureCredential acquired a token from EnvironmentCredential\n",
      "[INFO] azure.identity._credentials.default: DefaultAzureCredential acquired a token from EnvironmentCredential\n",
      "[INFO] azure.identity._credentials.environment: Environment is configured for ClientSecretCredential\n",
      "[INFO] azure.identity._credentials.managed_identity: ManagedIdentityCredential will use IMDS\n"
     ]
    },
    {
     "data": {
      "text/plain": [
       "(<azure.storage.blob._container_client.ContainerClient at 0x7f6cfc425370>,\n",
       " '999/prediction/999')"
      ]
     },
     "metadata": {},
     "output_type": "display_data"
    },
    {
     "name": "stdout",
     "output_type": "stream",
     "text": [
      "[INFO] azure.identity._credentials.environment: Environment is configured for ClientSecretCredential\n",
      "[INFO] azure.identity._credentials.managed_identity: ManagedIdentityCredential will use IMDS\n",
      "[INFO] azure.identity._credentials.chained: DefaultAzureCredential acquired a token from EnvironmentCredential\n",
      "[INFO] azure.identity._credentials.default: DefaultAzureCredential acquired a token from EnvironmentCredential\n",
      "[INFO] azure.identity._credentials.environment: Environment is configured for ClientSecretCredential\n",
      "[INFO] azure.identity._credentials.managed_identity: ManagedIdentityCredential will use IMDS\n"
     ]
    }
   ],
   "source": [
    "actual = create_azure_blob_storage_prediction_path(\n",
    "    user_id=999, prediction_id=999, region=\"westeurope\"\n",
    ")\n",
    "display(actual)\n",
    "expected = \"999/prediction/999\"\n",
    "_, base_path = get_azure_blob_storage_container(region=\"westeurope\")\n",
    "expected = f\"{base_path}/{expected}\" if base_path else expected\n",
    "\n",
    "assert actual[0]\n",
    "assert actual[1] == expected"
   ]
  },
  {
   "cell_type": "code",
   "execution_count": null,
   "id": "878a16f4",
   "metadata": {},
   "outputs": [],
   "source": [
    "#| export\n",
    "\n",
    "\n",
    "def get_azure_batch_environment_component_names(\n",
    "    region: str, batch_environment_path: Optional[Union[str, Path]] = None\n",
    ") -> Dict[str, Dict[str, str]]:\n",
    "    \"\"\"Read the batch environment yaml file and return as a dict\n",
    "\n",
    "    Args:\n",
    "        region: Region to get batch environment names\n",
    "        batch_environment_path: Path to the yaml file with azure batch environment names. If not set, then the batch_environment\n",
    "            will be loaded from the current working directory\n",
    "\n",
    "    Returns:\n",
    "        The created batch environment names as a dict\n",
    "    \"\"\"\n",
    "    if batch_environment_path is None:\n",
    "        batch_environment_path = Path(\"./azure_batch_environment.yml\")\n",
    "    with open(batch_environment_path) as f:\n",
    "        batch_environment_names = yaml.safe_load(f)\n",
    "\n",
    "    # ToDo: For now we have azure batch environment only for northeurope region. Fix this once we have more regions\n",
    "    return batch_environment_names[\"northeurope\"]"
   ]
  },
  {
   "cell_type": "code",
   "execution_count": null,
   "id": "8332627e",
   "metadata": {},
   "outputs": [
    {
     "data": {
      "text/plain": [
       "{'csv_processing': {'batch_account_name': 'random_azure_batch_env_component_name',\n",
       "  'batch_job_name': 'random_azure_batch_env_component_name',\n",
       "  'batch_pool_name': 'random_azure_batch_env_component_name'},\n",
       " 'predictions': {'batch_account_name': 'random_azure_batch_env_component_name',\n",
       "  'batch_job_name': 'random_azure_batch_env_component_name',\n",
       "  'batch_pool_name': 'random_azure_batch_env_component_name'},\n",
       " 'preprocessing': {'batch_account_name': 'random_azure_batch_env_component_name',\n",
       "  'batch_job_name': 'random_azure_batch_env_component_name',\n",
       "  'batch_pool_name': 'random_azure_batch_env_component_name'},\n",
       " 'training': {'batch_account_name': 'random_azure_batch_env_component_name',\n",
       "  'batch_job_name': 'random_azure_batch_env_component_name',\n",
       "  'batch_pool_name': 'random_azure_batch_env_component_name'}}"
      ]
     },
     "metadata": {},
     "output_type": "display_data"
    }
   ],
   "source": [
    "region = \"northeurope\"\n",
    "test_batch_environment_names = {\n",
    "    region: {\n",
    "        task: {\n",
    "            arn: \"random_azure_batch_env_component_name\"\n",
    "            for arn in [\n",
    "                \"batch_job_name\",\n",
    "                \"batch_pool_name\",\n",
    "                \"batch_account_name\",\n",
    "            ]\n",
    "        }\n",
    "        for task in [\"csv_processing\", \"predictions\", \"preprocessing\", \"training\"]\n",
    "    }\n",
    "}\n",
    "\n",
    "with tempfile.TemporaryDirectory() as td:\n",
    "    td = Path(td)\n",
    "    test_batch_environment_path = td / \"azure_batch_environment.yml\"\n",
    "    with open(test_batch_environment_path, \"w\") as f:\n",
    "        yaml.dump(test_batch_environment_names, f, default_flow_style=False)\n",
    "    actual = get_azure_batch_environment_component_names(\n",
    "        region=region, batch_environment_path=test_batch_environment_path\n",
    "    )\n",
    "    display(actual)\n",
    "    assert actual == test_batch_environment_names[region]"
   ]
  },
  {
   "cell_type": "code",
   "execution_count": null,
   "id": "76bbb91b",
   "metadata": {},
   "outputs": [],
   "source": [
    "#| export\n",
    "\n",
    "\n",
    "def get_batch_account_pool_job_names(\n",
    "    task: str,\n",
    "    region: str,\n",
    "    batch_environment_path: Optional[Union[str, Path]] = None,\n",
    ") -> Tuple[str, str, str]:\n",
    "    \"\"\"Get the job queue arn and the job definition arn for the given task\n",
    "\n",
    "    Args:\n",
    "        task: Task name\n",
    "        region: Region to get component names\n",
    "        batch_environment_path: Path to the yaml file with azure batch environment names. If not set, then the batch_environment\n",
    "            will be loaded from the current working directory\n",
    "    Returns:\n",
    "        A tuple which consists of batch account name, batch pool name, batch job name for the given task and region\n",
    "    \"\"\"\n",
    "    batch_environment_component_names = get_azure_batch_environment_component_names(\n",
    "        region=region, batch_environment_path=batch_environment_path\n",
    "    )\n",
    "    batch_account_name = batch_environment_component_names[task][\"batch_account_name\"]\n",
    "    batch_pool_name = batch_environment_component_names[task][\"batch_pool_name\"]\n",
    "    batch_job_name = batch_environment_component_names[task][\"batch_job_name\"]\n",
    "\n",
    "    return batch_account_name, batch_pool_name, batch_job_name"
   ]
  },
  {
   "cell_type": "code",
   "execution_count": null,
   "id": "0c9e7c13",
   "metadata": {},
   "outputs": [],
   "source": [
    "region = \"northeurope\"\n",
    "with tempfile.TemporaryDirectory() as td:\n",
    "    td = Path(td)\n",
    "\n",
    "    test_batch_environment_path = td / \"azure_batch_environment.yml\"\n",
    "    with open(test_batch_environment_path, \"w\") as f:\n",
    "        yaml.dump(test_batch_environment_names, f, default_flow_style=False)\n",
    "\n",
    "    task = \"csv_processing\"\n",
    "    (\n",
    "        actual_batch_account_name,\n",
    "        actual_batch_pool_name,\n",
    "        actual_batch_job_name,\n",
    "    ) = get_batch_account_pool_job_names(\n",
    "        task=task,\n",
    "        region=region,\n",
    "        batch_environment_path=test_batch_environment_path,\n",
    "    )\n",
    "\n",
    "    assert (\n",
    "        actual_batch_account_name\n",
    "        == test_batch_environment_names[region][task][\"batch_account_name\"]\n",
    "    )\n",
    "    assert (\n",
    "        actual_batch_pool_name\n",
    "        == test_batch_environment_names[region][task][\"batch_pool_name\"]\n",
    "    )\n",
    "    assert (\n",
    "        actual_batch_job_name\n",
    "        == test_batch_environment_names[region][task][\"batch_job_name\"]\n",
    "    )"
   ]
  },
  {
   "cell_type": "code",
   "execution_count": null,
   "id": "bab0501b",
   "metadata": {},
   "outputs": [],
   "source": []
  }
 ],
 "metadata": {
  "kernelspec": {
   "display_name": "Python 3",
   "language": "python",
   "name": "python3"
  }
 },
 "nbformat": 4,
 "nbformat_minor": 5
}
