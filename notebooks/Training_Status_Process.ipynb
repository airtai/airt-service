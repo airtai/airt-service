{
 "cells": [
  {
   "cell_type": "markdown",
   "id": "a24fe3dc",
   "metadata": {},
   "source": [
    "# Training Status Process\n",
    "> Process to handle training data stream"
   ]
  },
  {
   "cell_type": "code",
   "execution_count": 3,
   "id": "431167f4",
   "metadata": {},
   "outputs": [],
   "source": [
    "# | default_exp training_status_process"
   ]
  },
  {
   "cell_type": "code",
   "execution_count": 15,
   "id": "bc957a00",
   "metadata": {},
   "outputs": [],
   "source": [
    "# | export\n",
    "\n",
    "import random\n",
    "from datetime import datetime, timedelta\n",
    "from os import environ\n",
    "from time import sleep\n",
    "from typing import *\n",
    "\n",
    "import asyncio\n",
    "from asyncer import asyncify\n",
    "from sqlalchemy.exc import NoResultFound\n",
    "from sqlmodel import Session, select, func\n",
    "\n",
    "import airt_service\n",
    "from airt_service.data.clickhouse import get_count\n",
    "from airt_service.db.models import get_session_with_context, User, TrainingStreamStatus\n",
    "from airt.logger import get_logger\n",
    "from airt.patching import patch"
   ]
  },
  {
   "cell_type": "code",
   "execution_count": 5,
   "id": "d0806d0b",
   "metadata": {},
   "outputs": [
    {
     "name": "stdout",
     "output_type": "stream",
     "text": [
      "23-01-11 05:33:31.151 [INFO] airt.executor.subcommand: Module loaded.\n"
     ]
    }
   ],
   "source": [
    "import contextlib\n",
    "import threading\n",
    "from pathlib import Path\n",
    "\n",
    "import numpy as np\n",
    "import pandas as pd\n",
    "import pytest\n",
    "import uvicorn\n",
    "from confluent_kafka import Producer, Consumer\n",
    "from _pytest.monkeypatch import MonkeyPatch\n",
    "\n",
    "from airt_service.confluent import confluent_kafka_config, create_topics_for_user\n",
    "from airt_service.db.models import create_user_for_testing\n",
    "from airt_service.helpers import set_env_variable_context\n",
    "from airt_service.server import create_ws_server\n",
    "from airt_service.sanitizer import sanitized_print"
   ]
  },
  {
   "cell_type": "code",
   "execution_count": 6,
   "id": "04f23d5f",
   "metadata": {},
   "outputs": [
    {
     "data": {
      "text/plain": [
       "'yuqnsygtsr'"
      ]
     },
     "metadata": {},
     "output_type": "display_data"
    }
   ],
   "source": [
    "test_username = create_user_for_testing()\n",
    "display(test_username)"
   ]
  },
  {
   "cell_type": "code",
   "execution_count": 7,
   "id": "a0affdf7",
   "metadata": {},
   "outputs": [],
   "source": [
    "# | exporti\n",
    "\n",
    "logger = get_logger(__name__)"
   ]
  },
  {
   "cell_type": "code",
   "execution_count": null,
   "id": "73b63568",
   "metadata": {},
   "outputs": [],
   "source": []
  },
  {
   "cell_type": "code",
   "execution_count": 9,
   "id": "1eef3414",
   "metadata": {},
   "outputs": [],
   "source": [
    "with get_session_with_context() as session:\n",
    "    user = session.exec(select(User).where(User.username == test_username)).one()\n",
    "    test_start_event = TrainingStreamStatus(account_id=999, event=\"start\", count=0, user=user)\n",
    "    test_end_event = TrainingStreamStatus(account_id=999, event=\"end\", count=10000, user=user)\n",
    "    session.add(test_start_event)\n",
    "    session.commit()\n",
    "    session.add(test_end_event)\n",
    "    session.commit()\n",
    "    \n",
    "    test_start_event = TrainingStreamStatus(account_id=666, event=\"start\", count=0, user=user)\n",
    "    \n",
    "    session.add(test_start_event)\n",
    "    session.commit()\n"
   ]
  },
  {
   "cell_type": "code",
   "execution_count": 36,
   "id": "d15780a8",
   "metadata": {},
   "outputs": [
    {
     "data": {
      "text/plain": [
       "TrainingStreamStatus(uuid=UUID('c022a771-74f5-40a8-b498-ed55c2669044'), id=3, count=0, user_id=134, account_id=666, event=<TrainingEvent.start: 'start'>, created=datetime.datetime(2023, 1, 11, 5, 35, 23))"
      ]
     },
     "metadata": {},
     "output_type": "display_data"
    },
    {
     "data": {
      "text/plain": [
       "TrainingStreamStatus(uuid=UUID('dcf46385-15be-42ce-8db1-1790bd956c11'), id=2, count=10000, user_id=134, account_id=999, event=<TrainingEvent.end: 'end'>, created=datetime.datetime(2023, 1, 11, 5, 35, 23))"
      ]
     },
     "metadata": {},
     "output_type": "display_data"
    },
    {
     "data": {
      "text/plain": [
       "TrainingStreamStatus(uuid=UUID('da50976f-6229-4369-b77e-f254838b0445'), id=1, count=0, user_id=134, account_id=999, event=<TrainingEvent.start: 'start'>, created=datetime.datetime(2023, 1, 11, 5, 35, 23))"
      ]
     },
     "metadata": {},
     "output_type": "display_data"
    }
   ],
   "source": [
    "with get_session_with_context() as session:\n",
    "    user = session.exec(select(User).where(User.username == test_username)).one()\n",
    "    #     select(TrainingStreamStatus.account_id).distinct()\n",
    "    #     events = session.exec(\n",
    "    #         select(TrainingStreamStatus)\n",
    "    #         .where(TrainingStreamStatus.user == user)\n",
    "    #         .order_by(TrainingStreamStatus.created.desc())\n",
    "    #         .order_by(TrainingStreamStatus.id.desc())\n",
    "    #         .group_by(TrainingStreamStatus.account_id)\n",
    "    #     )\n",
    "    events = session.exec(\n",
    "        select(TrainingStreamStatus).distinct(TrainingStreamStatus.account_id).order_by(TrainingStreamStatus.id.desc())\n",
    "    )\n",
    "    for event in events:\n",
    "        display(event)"
   ]
  },
  {
   "cell_type": "code",
   "execution_count": 22,
   "id": "43460afb",
   "metadata": {},
   "outputs": [
    {
     "name": "stdout",
     "output_type": "stream",
     "text": [
      "Help on function select in module sqlmodel.sql.expression:\n",
      "\n",
      "select(*entities: Any, **kw: Any) -> Union[sqlmodel.sql.expression.Select, sqlmodel.sql.expression.SelectOfScalar]\n",
      "\n"
     ]
    }
   ],
   "source": [
    "help(select)"
   ]
  },
  {
   "cell_type": "code",
   "execution_count": 25,
   "id": "f8e6bb2d",
   "metadata": {},
   "outputs": [
    {
     "data": {
      "text/plain": [
       "['__bool__',\n",
       " '__class__',\n",
       " '__class_getitem__',\n",
       " '__delattr__',\n",
       " '__dict__',\n",
       " '__dir__',\n",
       " '__doc__',\n",
       " '__eq__',\n",
       " '__format__',\n",
       " '__ge__',\n",
       " '__getattribute__',\n",
       " '__getstate__',\n",
       " '__gt__',\n",
       " '__hash__',\n",
       " '__init__',\n",
       " '__init_subclass__',\n",
       " '__invert__',\n",
       " '__le__',\n",
       " '__lt__',\n",
       " '__module__',\n",
       " '__ne__',\n",
       " '__new__',\n",
       " '__nonzero__',\n",
       " '__orig_bases__',\n",
       " '__parameters__',\n",
       " '__reduce__',\n",
       " '__reduce_ex__',\n",
       " '__repr__',\n",
       " '__setattr__',\n",
       " '__sizeof__',\n",
       " '__slots__',\n",
       " '__str__',\n",
       " '__subclasshook__',\n",
       " '__visit_name__',\n",
       " '__weakref__',\n",
       " '_add_context_option',\n",
       " '_all_selected_columns',\n",
       " '_annotate',\n",
       " '_annotations',\n",
       " '_annotations_cache_key',\n",
       " '_assert_no_memoizations',\n",
       " '_attributes',\n",
       " '_auto_correlate',\n",
       " '_bind',\n",
       " '_cache_key_traversal',\n",
       " '_clone',\n",
       " '_clone_annotations_traverse_internals',\n",
       " '_cloned_set',\n",
       " '_compile_options',\n",
       " '_compile_state_factory',\n",
       " '_compile_state_plugin',\n",
       " '_compile_w_cache',\n",
       " '_compiler',\n",
       " '_compiler_dispatch',\n",
       " '_constructor',\n",
       " '_copy_internals',\n",
       " '_correlate',\n",
       " '_correlate_except',\n",
       " '_create',\n",
       " '_create_future_select',\n",
       " '_create_raw_select',\n",
       " '_create_select',\n",
       " '_create_select_from_fromclause',\n",
       " '_deannotate',\n",
       " '_distinct',\n",
       " '_distinct_on',\n",
       " '_effective_plugin_target',\n",
       " '_ensure_disambiguated_names',\n",
       " '_executable_traverse_internals',\n",
       " '_execute_on_connection',\n",
       " '_execution_options',\n",
       " '_fetch_clause',\n",
       " '_fetch_clause_options',\n",
       " '_filter_by_zero',\n",
       " '_for_update_arg',\n",
       " '_from_obj',\n",
       " '_from_objects',\n",
       " '_gen_cache_key',\n",
       " '_generate',\n",
       " '_generate_cache_attrs',\n",
       " '_generate_cache_key',\n",
       " '_generate_cache_key_for_object',\n",
       " '_generate_columns_plus_names',\n",
       " '_generate_fromclause_column_proxies',\n",
       " '_generated_cache_key_traversal',\n",
       " '_group_by_clause',\n",
       " '_group_by_clauses',\n",
       " '_has_ctes_traverse_internals',\n",
       " '_has_hints_traverse_internals',\n",
       " '_has_prefixes_traverse_internals',\n",
       " '_has_row_limiting_clause',\n",
       " '_has_suffixes_traverse_internals',\n",
       " '_having_criteria',\n",
       " '_hierarchy_supports_caching',\n",
       " '_hints',\n",
       " '_implicit_subquery',\n",
       " '_independent_ctes',\n",
       " '_is_bind_parameter',\n",
       " '_is_clause_list',\n",
       " '_is_clone_of',\n",
       " '_is_from_clause',\n",
       " '_is_from_container',\n",
       " '_is_has_cache_key',\n",
       " '_is_immutable',\n",
       " '_is_lambda_element',\n",
       " '_is_lateral',\n",
       " '_is_protocol',\n",
       " '_is_returns_rows',\n",
       " '_is_select_container',\n",
       " '_is_select_statement',\n",
       " '_is_singleton_constant',\n",
       " '_is_star',\n",
       " '_is_text_clause',\n",
       " '_is_textual',\n",
       " '_iterate_from_elements',\n",
       " '_legacy_setup_joins',\n",
       " '_limit',\n",
       " '_limit_clause',\n",
       " '_memoized_keys',\n",
       " '_memoized_select_entities',\n",
       " '_needs_parens_for_grouping',\n",
       " '_negate',\n",
       " '_negate_in_binary',\n",
       " '_offset',\n",
       " '_offset_clause',\n",
       " '_offset_or_limit_clause',\n",
       " '_offset_or_limit_clause_asint',\n",
       " '_order_by_clause',\n",
       " '_order_by_clauses',\n",
       " '_order_by_label_element',\n",
       " '_original_compiler_dispatch',\n",
       " '_prefixes',\n",
       " '_propagate_attrs',\n",
       " '_refresh_for_new_column',\n",
       " '_replace_params',\n",
       " '_reset_memoizations',\n",
       " '_role_name',\n",
       " '_scalar_type',\n",
       " '_set_compile_options',\n",
       " '_set_entities',\n",
       " '_set_memoized_attribute',\n",
       " '_set_propagate_attrs',\n",
       " '_setup_joins',\n",
       " '_setup_prefixes',\n",
       " '_setup_suffixes',\n",
       " '_simple_int_clause',\n",
       " '_statement_hints',\n",
       " '_suffixes',\n",
       " '_traverse_internals',\n",
       " '_ungroup',\n",
       " '_update_compile_options',\n",
       " '_where_criteria',\n",
       " '_whereclause',\n",
       " '_with_annotations',\n",
       " '_with_binary_element_type',\n",
       " '_with_context_options',\n",
       " '_with_options',\n",
       " 'add_columns',\n",
       " 'add_cte',\n",
       " 'alias',\n",
       " 'allows_lambda',\n",
       " 'append_column',\n",
       " 'append_correlation',\n",
       " 'append_from',\n",
       " 'append_group_by',\n",
       " 'append_having',\n",
       " 'append_order_by',\n",
       " 'append_prefix',\n",
       " 'append_whereclause',\n",
       " 'apply_labels',\n",
       " 'as_scalar',\n",
       " 'bind',\n",
       " 'c',\n",
       " 'column',\n",
       " 'column_descriptions',\n",
       " 'columns',\n",
       " 'columns_clause_froms',\n",
       " 'compare',\n",
       " 'compile',\n",
       " 'correlate',\n",
       " 'correlate_except',\n",
       " 'corresponding_column',\n",
       " 'create_legacy_select',\n",
       " 'cte',\n",
       " 'description',\n",
       " 'distinct',\n",
       " 'entity_namespace',\n",
       " 'except_',\n",
       " 'except_all',\n",
       " 'execute',\n",
       " 'execution_options',\n",
       " 'exists',\n",
       " 'exported_columns',\n",
       " 'fetch',\n",
       " 'filter',\n",
       " 'filter_by',\n",
       " 'from_statement',\n",
       " 'froms',\n",
       " 'get_children',\n",
       " 'get_execution_options',\n",
       " 'get_final_froms',\n",
       " 'get_label_style',\n",
       " 'group_by',\n",
       " 'having',\n",
       " 'inherit_cache',\n",
       " 'inner_columns',\n",
       " 'intersect',\n",
       " 'intersect_all',\n",
       " 'is_clause_element',\n",
       " 'is_delete',\n",
       " 'is_derived_from',\n",
       " 'is_dml',\n",
       " 'is_insert',\n",
       " 'is_select',\n",
       " 'is_selectable',\n",
       " 'is_text',\n",
       " 'is_update',\n",
       " 'join',\n",
       " 'join_from',\n",
       " 'label',\n",
       " 'lateral',\n",
       " 'limit',\n",
       " 'memoized_attribute',\n",
       " 'memoized_instancemethod',\n",
       " 'offset',\n",
       " 'options',\n",
       " 'order_by',\n",
       " 'outerjoin',\n",
       " 'outerjoin_from',\n",
       " 'params',\n",
       " 'prefix_with',\n",
       " 'reduce_columns',\n",
       " 'replace_selectable',\n",
       " 'scalar',\n",
       " 'scalar_subquery',\n",
       " 'select',\n",
       " 'select_from',\n",
       " 'selectable',\n",
       " 'selected_columns',\n",
       " 'self_group',\n",
       " 'set_label_style',\n",
       " 'slice',\n",
       " 'stringify_dialect',\n",
       " 'subquery',\n",
       " 'suffix_with',\n",
       " 'supports_execution',\n",
       " 'union',\n",
       " 'union_all',\n",
       " 'unique_params',\n",
       " 'uses_inspection',\n",
       " 'where',\n",
       " 'whereclause',\n",
       " 'with_for_update',\n",
       " 'with_hint',\n",
       " 'with_only_columns',\n",
       " 'with_statement_hint']"
      ]
     },
     "execution_count": 25,
     "metadata": {},
     "output_type": "execute_result"
    }
   ],
   "source": [
    "import sqlmodel\n",
    "dir(sqlmodel.sql.expression.SelectOfScalar)"
   ]
  },
  {
   "cell_type": "code",
   "execution_count": null,
   "id": "ff7adabf",
   "metadata": {},
   "outputs": [],
   "source": []
  },
  {
   "cell_type": "code",
   "execution_count": 6,
   "id": "0fbf8378",
   "metadata": {},
   "outputs": [],
   "source": [
    "# | export\n",
    "\n",
    "\n",
    "def get_recent_event_for_user(username: str) -> Optional[TrainingStreamStatus]:\n",
    "    with get_session_with_context() as session:\n",
    "        user = session.exec(select(User).where(User.username == username)).one()\n",
    "        try:\n",
    "            event = session.exec(\n",
    "                select(TrainingStreamStatus)\n",
    "                .where(TrainingStreamStatus.user == user)\n",
    "                .order_by(TrainingStreamStatus.created.desc())  # type: ignore\n",
    "                .order_by(TrainingStreamStatus.id.desc())  # type: ignore\n",
    "                .limit(1)\n",
    "            ).one()\n",
    "        except NoResultFound:\n",
    "            return None\n",
    "    return event"
   ]
  },
  {
   "cell_type": "code",
   "execution_count": 7,
   "id": "d9a3fb20",
   "metadata": {},
   "outputs": [
    {
     "data": {
      "text/plain": [
       "TrainingStreamStatus(event=<TrainingEvent.end: 'end'>, count=1000000, user_id=29, uuid=UUID('1a713ab7-1d7a-48d1-a3c4-2b9adbe26320'), id=174, created=datetime.datetime(2023, 1, 10, 16, 0, 56))"
      ]
     },
     "metadata": {},
     "output_type": "display_data"
    }
   ],
   "source": [
    "end_count = 1_000_000\n",
    "\n",
    "with get_session_with_context() as session:\n",
    "    user = session.exec(select(User).where(User.username == test_username)).one()\n",
    "    actual = get_recent_event_for_user(username=test_username)\n",
    "    assert actual == None, actual\n",
    "    test_start_event = TrainingStreamStatus(event=\"start\", count=0, user=user)\n",
    "    test_end_event = TrainingStreamStatus(event=\"end\", count=end_count, user=user)\n",
    "    session.add(test_start_event)\n",
    "    session.commit()\n",
    "    session.add(test_end_event)\n",
    "    session.commit()\n",
    "\n",
    "    actual = get_recent_event_for_user(username=test_username)\n",
    "    display(actual)\n",
    "    assert actual.event == \"end\", actual\n",
    "    assert actual.count == end_count, actual\n",
    "    assert actual.user_id == user.id, actual"
   ]
  },
  {
   "cell_type": "code",
   "execution_count": 8,
   "id": "a3e6b0f0",
   "metadata": {},
   "outputs": [],
   "source": [
    "# | export\n",
    "\n",
    "\n",
    "def get_count_from_training_data_ch_table() -> int:\n",
    "    return airt_service.data.clickhouse.get_count(\n",
    "        username=environ[\"KAFKA_CH_USERNAME\"],\n",
    "        password=environ[\"KAFKA_CH_PASSWORD\"],\n",
    "        host=environ[\"KAFKA_CH_HOST\"],\n",
    "        port=int(environ[\"KAFKA_CH_PORT\"]),\n",
    "        database=environ[\"KAFKA_CH_DATABASE\"],\n",
    "        table=environ[\"KAFKA_CH_TABLE\"],\n",
    "        protocol=environ[\"KAFKA_CH_PROTOCOL\"],\n",
    "    )"
   ]
  },
  {
   "cell_type": "code",
   "execution_count": 9,
   "id": "7b3bf0c4",
   "metadata": {},
   "outputs": [
    {
     "data": {
      "text/plain": [
       "999"
      ]
     },
     "metadata": {},
     "output_type": "display_data"
    }
   ],
   "source": [
    "with MonkeyPatch.context() as monkeypatch:\n",
    "    monkeypatch.setattr(\n",
    "        \"__main__.get_count_from_training_data_ch_table\",\n",
    "        lambda: 999,\n",
    "    )\n",
    "    #     monkeypatch.setattr(\n",
    "    #         \"airt_service.data.clickhouse.get_count\",\n",
    "    #         lambda: 999,\n",
    "    #     )\n",
    "    actual = get_count_from_training_data_ch_table()\n",
    "    display(actual)\n",
    "    assert actual == 999, actual"
   ]
  },
  {
   "cell_type": "code",
   "execution_count": 10,
   "id": "d8375b20",
   "metadata": {},
   "outputs": [],
   "source": [
    "# | export\n",
    "\n",
    "\n",
    "@patch(cls_method=True)\n",
    "def _create(\n",
    "    cls: TrainingStreamStatus, *, event: str, count: int, user: User, session: Session\n",
    ") -> TrainingStreamStatus:\n",
    "    training_event = TrainingStreamStatus(event=event, count=count, user=user)\n",
    "    session.add(training_event)\n",
    "    session.commit()\n",
    "    return training_event"
   ]
  },
  {
   "cell_type": "code",
   "execution_count": 11,
   "id": "9ef8e1ef",
   "metadata": {},
   "outputs": [],
   "source": [
    "# | export\n",
    "\n",
    "\n",
    "async def process_training_status(username: str):\n",
    "    # Get recent event for username\n",
    "    prev_count = 0\n",
    "#     prev_check_on = datetime.utcnow()\n",
    "    while True:\n",
    "        recent_event = await asyncify(get_recent_event_for_user)(username)\n",
    "        logger.info(f\"{recent_event=}\")\n",
    "        if recent_event is None:\n",
    "            pass\n",
    "        elif recent_event.event == \"end\":\n",
    "            # Check model training status started and start it if not already\n",
    "            pass\n",
    "        elif recent_event.event in [\"start\", \"upload\"]:\n",
    "            curr_count = await asyncify(get_count_from_training_data_ch_table)()\n",
    "            curr_check_on = datetime.utcnow()\n",
    "\n",
    "            with get_session_with_context() as session:\n",
    "                user = session.exec(select(User).where(User.username == username)).one()\n",
    "                if (\n",
    "                    curr_count == prev_count\n",
    "                    and curr_check_on - recent_event.created > timedelta(seconds=10)\n",
    "                ):\n",
    "                    end_event = await asyncify(TrainingStreamStatus._create)(\n",
    "                        event=\"end\", count=curr_count, user=user, session=session\n",
    "                    )\n",
    "                    prev_count = 0\n",
    "                    # Start model training status\n",
    "                elif curr_count != prev_count:\n",
    "                    upload_event = await asyncify(TrainingStreamStatus._create)(\n",
    "                        event=\"upload\", count=curr_count, user=user, session=session\n",
    "                    )\n",
    "                    prev_count = curr_count\n",
    "#                 prev_check_on = curr_check_on\n",
    "\n",
    "        sleep(random.randint(1, 2))"
   ]
  },
  {
   "cell_type": "code",
   "execution_count": 12,
   "id": "3a54a0d8",
   "metadata": {},
   "outputs": [
    {
     "data": {
      "text/plain": [
       "{'AccountId': 4000,\n",
       " 'Application': 'DriverApp',\n",
       " 'DefinitionId': 'custom_event_3',\n",
       " 'OccurredTimeTicks': 1652181248527,\n",
       " 'OccurredTime': '2022-05-10T11:14:08.527000',\n",
       " 'PersonId': 6}"
      ]
     },
     "execution_count": 12,
     "metadata": {},
     "output_type": "execute_result"
    }
   ],
   "source": [
    "definitions = [\n",
    "    \"appLaunch\",\n",
    "    \"sign_in\",\n",
    "    \"sign_out\",\n",
    "    \"add_to_cart\",\n",
    "    \"purchase\",\n",
    "    \"custom_event_1\",\n",
    "    \"custom_event_2\",\n",
    "    \"custom_event_3\",\n",
    "]\n",
    "\n",
    "\n",
    "applications = [\"DriverApp\", \"PUBG\", \"COD\"]\n",
    "\n",
    "\n",
    "def generate_n_rows_for_training_data(n: int, seed: int = 42):\n",
    "    rng = np.random.default_rng(seed=seed)\n",
    "    account_id = rng.choice([4000, 5000, 500], size=n)\n",
    "    definition_id = rng.choice(definitions, size=n)\n",
    "    application = rng.choice(applications, size=n)\n",
    "    occurred_time_ticks = rng.integers(\n",
    "        datetime(year=2022, month=1, day=1).timestamp() * 1000,\n",
    "        datetime(year=2022, month=11, day=1).timestamp() * 1000,\n",
    "        size=n,\n",
    "    )\n",
    "    occurred_time = pd.to_datetime(occurred_time_ticks, unit=\"ms\").strftime(\n",
    "        \"%Y-%m-%dT%H:%M:%S.%f\"\n",
    "    )\n",
    "    person_id = rng.integers(n // 10, size=n)\n",
    "\n",
    "    df = pd.DataFrame(\n",
    "        {\n",
    "            \"AccountId\": account_id,\n",
    "            \"Application\": application,\n",
    "            \"DefinitionId\": definition_id,\n",
    "            \"OccurredTimeTicks\": occurred_time_ticks,\n",
    "            \"OccurredTime\": occurred_time,\n",
    "            \"PersonId\": person_id,\n",
    "        }\n",
    "    )\n",
    "    return json.loads(df.to_json(orient=\"records\"))\n",
    "\n",
    "\n",
    "generate_n_rows_for_training_data(100)[-1]"
   ]
  },
  {
   "cell_type": "code",
   "execution_count": 13,
   "id": "7a571e34",
   "metadata": {},
   "outputs": [],
   "source": [
    "class Server(uvicorn.Server):\n",
    "    def install_signal_handlers(self):\n",
    "        pass\n",
    "\n",
    "    @contextlib.contextmanager\n",
    "    def run_in_thread(self):\n",
    "        thread = threading.Thread(target=self.run)\n",
    "        thread.start()\n",
    "        try:\n",
    "            while not self.started:\n",
    "                sleep(1e-3)\n",
    "            yield\n",
    "        finally:\n",
    "            self.should_exit = True\n",
    "            thread.join()\n",
    "\n",
    "\n",
    "def delivery_report(err, msg):\n",
    "    \"\"\"Called once for each message produced to indicate delivery result.\n",
    "    Triggered by poll() or flush().\"\"\"\n",
    "    if err is not None:\n",
    "        sanitized_print(\"Message delivery failed: {}\".format(err))\n",
    "    else:\n",
    "        #         sanitized_print('Message delivered to {} [{}]'.format(msg.topic(), msg.partition()))\n",
    "        pass"
   ]
  },
  {
   "cell_type": "code",
   "execution_count": 14,
   "id": "c0ba6006",
   "metadata": {},
   "outputs": [
    {
     "name": "stdout",
     "output_type": "stream",
     "text": [
      "23-01-10 16:00:55.807 [INFO] airt_service.confluent: Topic wgmqzkwigw_training_data created\n",
      "23-01-10 16:00:55.808 [INFO] airt_service.confluent: Topic wgmqzkwigw_realitime_data created\n",
      "23-01-10 16:00:55.809 [INFO] airt_service.confluent: Topic wgmqzkwigw_training_data_status created\n",
      "23-01-10 16:00:55.810 [INFO] airt_service.confluent: Topic wgmqzkwigw_training_model_status created\n",
      "23-01-10 16:00:55.810 [INFO] airt_service.confluent: Topic wgmqzkwigw_model_metrics created\n",
      "23-01-10 16:00:55.810 [INFO] airt_service.confluent: Topic wgmqzkwigw_prediction created\n",
      "23-01-10 16:00:55.936 [INFO] airt_service.server: kafka_config={'bootstrap_servers': 'kumaran-airt-service-kafka-1:9092', 'group_id': 'kumaran-airt-service-kafka-1:9092_group', 'auto_offset_reset': 'earliest'}\n"
     ]
    },
    {
     "name": "stderr",
     "output_type": "stream",
     "text": [
      "%4|1673366455.735|CONFWARN|rdkafka#producer-1| [thrd:app]: Configuration property group.id is a consumer property and will be ignored by this producer instance\n",
      "%4|1673366455.735|CONFWARN|rdkafka#producer-1| [thrd:app]: Configuration property auto.offset.reset is a consumer property and will be ignored by this producer instance\n",
      "INFO:     Started server process [10966]\n",
      "INFO:     Waiting for application startup.\n"
     ]
    },
    {
     "name": "stdout",
     "output_type": "stream",
     "text": [
      "23-01-10 16:00:56.017 [INFO] fast_kafka_api._components.asyncapi: Keeping the old async specifications at: 'asyncapi/spec/asyncapi.yml'\n",
      "23-01-10 16:00:56.018 [INFO] fast_kafka_api._components.asyncapi: Skipping generating async documentation in '/work/airt-service/notebooks/asyncapi/docs'\n",
      "23-01-10 16:00:56.066 [INFO] fast_kafka_api._components.aiokafka_consumer_loop: aiokafka_consumer_loop() starting..\n",
      "23-01-10 16:00:56.067 [INFO] fast_kafka_api._components.aiokafka_consumer_loop: aiokafka_consumer_loop(): Consumer created.\n",
      "23-01-10 16:00:56.067 [INFO] fast_kafka_api._components.aiokafka_consumer_loop: aiokafka_consumer_loop() starting..\n",
      "23-01-10 16:00:56.068 [INFO] fast_kafka_api._components.aiokafka_consumer_loop: aiokafka_consumer_loop(): Consumer created.\n"
     ]
    },
    {
     "name": "stderr",
     "output_type": "stream",
     "text": [
      "INFO:     Application startup complete.\n",
      "INFO:     Uvicorn running on http://127.0.0.1:6006 (Press CTRL+C to quit)\n"
     ]
    },
    {
     "name": "stdout",
     "output_type": "stream",
     "text": [
      "server started\n",
      "23-01-10 16:00:56.071 [INFO] __main__: I am done at tests\n",
      "23-01-10 16:00:56.094 [INFO] fast_kafka_api._components.aiokafka_consumer_loop: aiokafka_consumer_loop(): Consumer started.\n",
      "23-01-10 16:00:56.095 [INFO] aiokafka.consumer.subscription_state: Updating subscribed topics to: frozenset({'infobip_training_data'})\n",
      "23-01-10 16:00:56.096 [INFO] aiokafka.consumer.consumer: Subscribed to topic(s): {'infobip_training_data'}\n",
      "23-01-10 16:00:56.101 [INFO] fast_kafka_api._components.aiokafka_consumer_loop: aiokafka_consumer_loop(): Consumer subscribed.\n",
      "23-01-10 16:00:56.102 [INFO] fast_kafka_api._components.aiokafka_consumer_loop: aiokafka_consumer_loop(): Consumer started.\n",
      "23-01-10 16:00:56.103 [INFO] aiokafka.consumer.subscription_state: Updating subscribed topics to: frozenset({'infobip_realtime_data'})\n",
      "23-01-10 16:00:56.103 [INFO] aiokafka.consumer.consumer: Subscribed to topic(s): {'infobip_realtime_data'}\n",
      "23-01-10 16:00:56.115 [INFO] fast_kafka_api._components.aiokafka_consumer_loop: aiokafka_consumer_loop(): Consumer subscribed.\n",
      "23-01-10 16:00:56.116 [INFO] __main__: recent_event=TrainingStreamStatus(event=<TrainingEvent.end: 'end'>, count=1000000, user_id=29, uuid=UUID('1a713ab7-1d7a-48d1-a3c4-2b9adbe26320'), id=174, created=datetime.datetime(2023, 1, 10, 16, 0, 56))\n"
     ]
    },
    {
     "name": "stderr",
     "output_type": "stream",
     "text": [
      "%4|1673366456.088|CONFWARN|rdkafka#producer-2| [thrd:app]: Configuration property group.id is a consumer property and will be ignored by this producer instance\n",
      "%4|1673366456.088|CONFWARN|rdkafka#producer-2| [thrd:app]: Configuration property auto.offset.reset is a consumer property and will be ignored by this producer instance\n"
     ]
    },
    {
     "name": "stdout",
     "output_type": "stream",
     "text": [
      "23-01-10 16:00:57.125 [INFO] aiokafka.consumer.group_coordinator: Metadata for topic has changed from {} to {'infobip_training_data': 1}. \n",
      "23-01-10 16:00:57.126 [INFO] aiokafka.consumer.group_coordinator: Metadata for topic has changed from {} to {'infobip_realtime_data': 1}. \n",
      "23-01-10 16:00:57.133 [INFO] __main__: recent_event=TrainingStreamStatus(event=<TrainingEvent.start: 'start'>, count=0, user_id=29, uuid=UUID('1b485c2a-9086-4b04-a2cf-dc4e338c1364'), id=175, created=datetime.datetime(2023, 1, 10, 16, 0, 56))\n",
      "23-01-10 16:00:57.145 [INFO] __main__: curr_check_on=datetime.datetime(2023, 1, 10, 16, 0, 57, 134659), recent_event.created=datetime.datetime(2023, 1, 10, 16, 0, 56), 0:00:01.066193\n",
      "23-01-10 16:00:57.146 [INFO] __main__: curr_count=999, prev_count=0\n",
      "23-01-10 16:00:57.146 [INFO] __main__: outside else\n",
      "23-01-10 16:00:58.168 [INFO] __main__: recent_event=TrainingStreamStatus(event=<TrainingEvent.upload: 'upload'>, count=999, user_id=29, uuid=UUID('115b09ac-1152-47e2-a560-3d9167a192e4'), id=176, created=datetime.datetime(2023, 1, 10, 16, 0, 57))\n",
      "23-01-10 16:00:58.177 [INFO] __main__: curr_check_on=datetime.datetime(2023, 1, 10, 16, 0, 58, 168852), recent_event.created=datetime.datetime(2023, 1, 10, 16, 0, 57), 0:00:01.034193\n",
      "23-01-10 16:00:58.178 [INFO] __main__: curr_count=999, prev_count=999\n",
      "23-01-10 16:00:59.197 [INFO] __main__: recent_event=TrainingStreamStatus(event=<TrainingEvent.upload: 'upload'>, count=999, user_id=29, uuid=UUID('115b09ac-1152-47e2-a560-3d9167a192e4'), id=176, created=datetime.datetime(2023, 1, 10, 16, 0, 57))\n",
      "23-01-10 16:00:59.214 [INFO] __main__: curr_check_on=datetime.datetime(2023, 1, 10, 16, 0, 59, 198638), recent_event.created=datetime.datetime(2023, 1, 10, 16, 0, 57), 0:00:01.029786\n",
      "23-01-10 16:00:59.215 [INFO] __main__: curr_count=999, prev_count=999\n",
      "23-01-10 16:01:00.229 [INFO] __main__: recent_event=TrainingStreamStatus(event=<TrainingEvent.upload: 'upload'>, count=999, user_id=29, uuid=UUID('115b09ac-1152-47e2-a560-3d9167a192e4'), id=176, created=datetime.datetime(2023, 1, 10, 16, 0, 57))\n",
      "23-01-10 16:01:00.237 [INFO] __main__: curr_check_on=datetime.datetime(2023, 1, 10, 16, 1, 0, 229862), recent_event.created=datetime.datetime(2023, 1, 10, 16, 0, 57), 0:00:01.031224\n",
      "23-01-10 16:01:00.238 [INFO] __main__: curr_count=999, prev_count=999\n"
     ]
    },
    {
     "data": {
      "text/plain": [
       "\"in tests - recent_event=TrainingStreamStatus(event=<TrainingEvent.start: 'start'>, count=0, user_id=29, uuid=UUID('1b485c2a-9086-4b04-a2cf-dc4e338c1364'), id=175, created=datetime.datetime(2023, 1, 10, 16, 0, 56))\""
      ]
     },
     "metadata": {},
     "output_type": "display_data"
    },
    {
     "name": "stdout",
     "output_type": "stream",
     "text": [
      "23-01-10 16:01:02.256 [INFO] __main__: recent_event=TrainingStreamStatus(event=<TrainingEvent.upload: 'upload'>, count=999, user_id=29, uuid=UUID('115b09ac-1152-47e2-a560-3d9167a192e4'), id=176, created=datetime.datetime(2023, 1, 10, 16, 0, 57))\n",
      "23-01-10 16:01:02.265 [INFO] __main__: curr_check_on=datetime.datetime(2023, 1, 10, 16, 1, 2, 257438), recent_event.created=datetime.datetime(2023, 1, 10, 16, 0, 57), 0:00:02.027576\n",
      "23-01-10 16:01:02.265 [INFO] __main__: curr_count=999, prev_count=999\n",
      "23-01-10 16:01:03.280 [INFO] __main__: recent_event=TrainingStreamStatus(event=<TrainingEvent.upload: 'upload'>, count=999, user_id=29, uuid=UUID('115b09ac-1152-47e2-a560-3d9167a192e4'), id=176, created=datetime.datetime(2023, 1, 10, 16, 0, 57))\n",
      "23-01-10 16:01:03.291 [INFO] __main__: curr_check_on=datetime.datetime(2023, 1, 10, 16, 1, 3, 281403), recent_event.created=datetime.datetime(2023, 1, 10, 16, 0, 57), 0:00:01.023965\n",
      "23-01-10 16:01:03.291 [INFO] __main__: curr_count=999, prev_count=999\n",
      "23-01-10 16:01:04.304 [INFO] __main__: recent_event=TrainingStreamStatus(event=<TrainingEvent.upload: 'upload'>, count=999, user_id=29, uuid=UUID('115b09ac-1152-47e2-a560-3d9167a192e4'), id=176, created=datetime.datetime(2023, 1, 10, 16, 0, 57))\n",
      "23-01-10 16:01:04.313 [INFO] __main__: curr_check_on=datetime.datetime(2023, 1, 10, 16, 1, 4, 305324), recent_event.created=datetime.datetime(2023, 1, 10, 16, 0, 57), 0:00:01.023921\n",
      "23-01-10 16:01:04.313 [INFO] __main__: curr_count=999, prev_count=999\n",
      "23-01-10 16:01:05.334 [INFO] __main__: recent_event=TrainingStreamStatus(event=<TrainingEvent.upload: 'upload'>, count=999, user_id=29, uuid=UUID('115b09ac-1152-47e2-a560-3d9167a192e4'), id=176, created=datetime.datetime(2023, 1, 10, 16, 0, 57))\n",
      "23-01-10 16:01:05.345 [INFO] __main__: curr_check_on=datetime.datetime(2023, 1, 10, 16, 1, 5, 335967), recent_event.created=datetime.datetime(2023, 1, 10, 16, 0, 57), 0:00:01.030643\n",
      "23-01-10 16:01:05.346 [INFO] __main__: curr_count=999, prev_count=999\n"
     ]
    },
    {
     "data": {
      "text/plain": [
       "\"in tests - recent_event=TrainingStreamStatus(event=<TrainingEvent.upload: 'upload'>, count=999, user_id=29, uuid=UUID('115b09ac-1152-47e2-a560-3d9167a192e4'), id=176, created=datetime.datetime(2023, 1, 10, 16, 0, 57))\""
      ]
     },
     "metadata": {},
     "output_type": "display_data"
    },
    {
     "name": "stdout",
     "output_type": "stream",
     "text": [
      "23-01-10 16:01:07.368 [INFO] __main__: recent_event=TrainingStreamStatus(event=<TrainingEvent.upload: 'upload'>, count=999, user_id=29, uuid=UUID('115b09ac-1152-47e2-a560-3d9167a192e4'), id=176, created=datetime.datetime(2023, 1, 10, 16, 0, 57))\n",
      "23-01-10 16:01:07.377 [INFO] __main__: curr_check_on=datetime.datetime(2023, 1, 10, 16, 1, 7, 369291), recent_event.created=datetime.datetime(2023, 1, 10, 16, 0, 57), 0:00:02.033324\n",
      "23-01-10 16:01:07.378 [INFO] __main__: curr_count=999, prev_count=999\n",
      "23-01-10 16:01:07.378 [INFO] __main__: Inside it\n",
      "23-01-10 16:01:09.402 [INFO] __main__: recent_event=TrainingStreamStatus(event=<TrainingEvent.end: 'end'>, count=999, user_id=29, uuid=UUID('317f67e3-070a-422c-a8b2-1f468c4c50d9'), id=177, created=datetime.datetime(2023, 1, 10, 16, 1, 7))\n",
      "23-01-10 16:01:10.416 [INFO] __main__: recent_event=TrainingStreamStatus(event=<TrainingEvent.end: 'end'>, count=999, user_id=29, uuid=UUID('317f67e3-070a-422c-a8b2-1f468c4c50d9'), id=177, created=datetime.datetime(2023, 1, 10, 16, 1, 7))\n"
     ]
    },
    {
     "data": {
      "text/plain": [
       "\"in tests - recent_event=TrainingStreamStatus(event=<TrainingEvent.upload: 'upload'>, count=999, user_id=29, uuid=UUID('115b09ac-1152-47e2-a560-3d9167a192e4'), id=176, created=datetime.datetime(2023, 1, 10, 16, 0, 57))\""
      ]
     },
     "metadata": {},
     "output_type": "display_data"
    },
    {
     "name": "stdout",
     "output_type": "stream",
     "text": [
      "23-01-10 16:01:12.438 [INFO] __main__: recent_event=TrainingStreamStatus(event=<TrainingEvent.end: 'end'>, count=999, user_id=29, uuid=UUID('317f67e3-070a-422c-a8b2-1f468c4c50d9'), id=177, created=datetime.datetime(2023, 1, 10, 16, 1, 7))\n",
      "23-01-10 16:01:14.457 [INFO] __main__: recent_event=TrainingStreamStatus(event=<TrainingEvent.end: 'end'>, count=999, user_id=29, uuid=UUID('317f67e3-070a-422c-a8b2-1f468c4c50d9'), id=177, created=datetime.datetime(2023, 1, 10, 16, 1, 7))\n",
      "23-01-10 16:01:15.474 [INFO] __main__: recent_event=TrainingStreamStatus(event=<TrainingEvent.end: 'end'>, count=999, user_id=29, uuid=UUID('317f67e3-070a-422c-a8b2-1f468c4c50d9'), id=177, created=datetime.datetime(2023, 1, 10, 16, 1, 7))\n",
      "23-01-10 16:01:16.490 [INFO] __main__: recent_event=TrainingStreamStatus(event=<TrainingEvent.end: 'end'>, count=999, user_id=29, uuid=UUID('317f67e3-070a-422c-a8b2-1f468c4c50d9'), id=177, created=datetime.datetime(2023, 1, 10, 16, 1, 7))\n"
     ]
    },
    {
     "data": {
      "text/plain": [
       "\"in tests - recent_event=TrainingStreamStatus(event=<TrainingEvent.end: 'end'>, count=999, user_id=29, uuid=UUID('317f67e3-070a-422c-a8b2-1f468c4c50d9'), id=177, created=datetime.datetime(2023, 1, 10, 16, 1, 7))\""
      ]
     },
     "metadata": {},
     "output_type": "display_data"
    },
    {
     "name": "stderr",
     "output_type": "stream",
     "text": [
      "INFO:     Shutting down\n"
     ]
    },
    {
     "name": "stdout",
     "output_type": "stream",
     "text": [
      "23-01-10 16:01:18.509 [INFO] __main__: recent_event=TrainingStreamStatus(event=<TrainingEvent.end: 'end'>, count=999, user_id=29, uuid=UUID('317f67e3-070a-422c-a8b2-1f468c4c50d9'), id=177, created=datetime.datetime(2023, 1, 10, 16, 1, 7))\n"
     ]
    },
    {
     "name": "stderr",
     "output_type": "stream",
     "text": [
      "INFO:     Waiting for application shutdown.\n"
     ]
    },
    {
     "name": "stdout",
     "output_type": "stream",
     "text": [
      "23-01-10 16:01:20.538 [INFO] __main__: recent_event=TrainingStreamStatus(event=<TrainingEvent.end: 'end'>, count=999, user_id=29, uuid=UUID('317f67e3-070a-422c-a8b2-1f468c4c50d9'), id=177, created=datetime.datetime(2023, 1, 10, 16, 1, 7))\n",
      "23-01-10 16:01:21.543 [INFO] fast_kafka_api._components.aiokafka_consumer_loop: aiokafka_consumer_loop(): Consumer stopped.\n",
      "23-01-10 16:01:21.544 [INFO] fast_kafka_api._components.aiokafka_consumer_loop: aiokafka_consumer_loop() finished.\n",
      "23-01-10 16:01:21.544 [INFO] fast_kafka_api._components.aiokafka_consumer_loop: aiokafka_consumer_loop(): Consumer stopped.\n",
      "23-01-10 16:01:21.545 [INFO] fast_kafka_api._components.aiokafka_consumer_loop: aiokafka_consumer_loop() finished.\n"
     ]
    },
    {
     "name": "stderr",
     "output_type": "stream",
     "text": [
      "INFO:     Application shutdown complete.\n",
      "INFO:     Finished server process [10966]\n"
     ]
    },
    {
     "name": "stdout",
     "output_type": "stream",
     "text": [
      "server stopped\n"
     ]
    }
   ],
   "source": [
    "create_topics_for_user(username=test_username)\n",
    "\n",
    "\n",
    "def test_process_training_status():\n",
    "    logger.info(\"I am done at tests\")\n",
    "    with get_session_with_context() as session:\n",
    "        user = session.exec(select(User).where(User.username == test_username)).one()\n",
    "        test_start_event = TrainingStreamStatus(event=\"start\", count=0, user=user)\n",
    "        session.add(test_start_event)\n",
    "        session.commit()\n",
    "\n",
    "        p = Producer(confluent_kafka_config)\n",
    "        msg_count = 1000\n",
    "        training_data = generate_n_rows_for_training_data(msg_count, seed=999)\n",
    "        for i in range(msg_count):\n",
    "            p.produce(\n",
    "                f\"{test_username}_training_data\",\n",
    "                json.dumps(training_data[i]).encode(\"utf-8\"),\n",
    "                on_delivery=delivery_report,\n",
    "            )\n",
    "        p.flush()\n",
    "\n",
    "        while True:\n",
    "            recent_event = get_recent_event_for_user(test_username)\n",
    "            sleep(5)\n",
    "            display(f\"in tests - {recent_event=}\")\n",
    "            if recent_event.event == \"end\":\n",
    "                break\n",
    "\n",
    "\n",
    "with set_env_variable_context(variable=\"JOB_EXECUTOR\", value=\"fastapi\"):\n",
    "    with MonkeyPatch.context() as monkeypatch:\n",
    "        monkeypatch.setattr(\n",
    "            \"__main__.get_count_from_training_data_ch_table\",\n",
    "            lambda: 999,\n",
    "        )\n",
    "        app, fast_kafka_api_app = create_ws_server(assets_path=Path(\"../assets\"))\n",
    "\n",
    "        @fast_kafka_api_app.run_in_background()\n",
    "        async def startup_event():\n",
    "            await process_training_status(username=test_username)\n",
    "\n",
    "        #         while True:\n",
    "        #             logger.info(\"I am still running\")\n",
    "        #             await asyncio.sleep(1)\n",
    "        #             sleep(1)\n",
    "        #         process_training_status(username=test_username)\n",
    "\n",
    "        config = uvicorn.Config(app, host=\"127.0.0.1\", port=6006, log_level=\"debug\")\n",
    "        server = Server(config=config)\n",
    "\n",
    "        with server.run_in_thread():\n",
    "            # Server started.\n",
    "            sanitized_print(\"server started\")\n",
    "            #         sleep(5)\n",
    "            test_process_training_status()\n",
    "\n",
    "        sanitized_print(\"server stopped\")\n",
    "        # Server stopped."
   ]
  },
  {
   "cell_type": "code",
   "execution_count": null,
   "id": "67778832",
   "metadata": {},
   "outputs": [],
   "source": []
  },
  {
   "cell_type": "code",
   "execution_count": null,
   "id": "62834287",
   "metadata": {},
   "outputs": [],
   "source": []
  }
 ],
 "metadata": {
  "kernelspec": {
   "display_name": "Python 3 (ipykernel)",
   "language": "python",
   "name": "python3"
  },
  "language_info": {
   "codemirror_mode": {
    "name": "ipython",
    "version": 3
   },
   "file_extension": ".py",
   "mimetype": "text/x-python",
   "name": "python",
   "nbconvert_exporter": "python",
   "pygments_lexer": "ipython3",
   "version": "3.9.16"
  }
 },
 "nbformat": 4,
 "nbformat_minor": 5
}
