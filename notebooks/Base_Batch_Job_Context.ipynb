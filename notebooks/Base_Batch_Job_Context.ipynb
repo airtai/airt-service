{
 "cells": [
  {
   "cell_type": "raw",
   "metadata": {},
   "source": [
    "---\n",
    "description: Context base class to run jobs in AWS or in FastAPI BackgroundTasks\n",
    "output-file: base_batch_job_context.html\n",
    "title: Base Batch Job Context\n",
    "\n",
    "---\n",
    "\n"
   ]
  },
  {
   "cell_type": "code",
   "execution_count": null,
   "metadata": {},
   "outputs": [],
   "source": [
    "# | default_exp batch_job_components.base"
   ]
  },
  {
   "cell_type": "code",
   "execution_count": null,
   "metadata": {},
   "outputs": [
    {
     "name": "stdout",
     "output_type": "stream",
     "text": [
      "[INFO] airt.testing.activate_by_import: Testing environment activated.\n",
      "[INFO] numexpr.utils: Note: NumExpr detected 16 cores but \"NUMEXPR_MAX_THREADS\" not set, so enforcing safe limit of 8.\n",
      "[INFO] numexpr.utils: NumExpr defaulting to 8 threads.\n",
      "[INFO] airt.keras.helpers: Using a single GPU #0 with memory_limit 1024 MB\n"
     ]
    }
   ],
   "source": [
    "from airt.testing import activate_by_import"
   ]
  },
  {
   "cell_type": "code",
   "execution_count": null,
   "metadata": {},
   "outputs": [],
   "source": [
    "# | export\n",
    "\n",
    "from os import environ\n",
    "from typing import *\n",
    "\n",
    "import airt_service.sanitizer\n",
    "from airt.logger import get_logger\n",
    "from airt_service.aws.utils import get_available_aws_regions\n",
    "from airt_service.azure.utils import get_available_azure_regions"
   ]
  },
  {
   "cell_type": "code",
   "execution_count": null,
   "metadata": {},
   "outputs": [],
   "source": [
    "import pytest\n",
    "from airt_service.helpers import set_env_variable_context"
   ]
  },
  {
   "cell_type": "code",
   "execution_count": null,
   "metadata": {},
   "outputs": [],
   "source": [
    "# | exporti\n",
    "\n",
    "logger = get_logger(__name__)"
   ]
  },
  {
   "cell_type": "code",
   "execution_count": null,
   "metadata": {},
   "outputs": [],
   "source": [
    "# | export\n",
    "\n",
    "\n",
    "class BatchJobContext:\n",
    "    def __init__(self, task: str):\n",
    "        \"\"\"Batch Job Context\n",
    "\n",
    "        Do not use __init__, please use factory method `create` to initiate object\n",
    "        \"\"\"\n",
    "        self.task = task\n",
    "\n",
    "    def create_job(self, command: str, environment_vars: Dict[str, str]):\n",
    "        \"\"\"Create a new job\n",
    "\n",
    "        Args:\n",
    "            command: Command to execute in job\n",
    "            environment_vars: Environment vars to set in the container\n",
    "        \"\"\"\n",
    "        raise NotImplementedError()\n",
    "\n",
    "    _factories: Dict[str, Any] = {}\n",
    "\n",
    "    @classmethod\n",
    "    def create(cls, task: str, **kwargs) -> \"BatchJobContext\":\n",
    "        \"\"\"Factory method to create a new job\n",
    "\n",
    "        Args:\n",
    "            task: Task name to get batch environment info; One of csv_processing, predictions, preprocessing and training\n",
    "            kwargs: Key word arguments which will be passed to the constructor of inherited class\n",
    "\n",
    "        Returns:\n",
    "            The initialized object of the inherited class\n",
    "        \"\"\"\n",
    "        # default executor is AWS & Azure\n",
    "        ctx_name = (\n",
    "            \"AzureBatchJobContext\"\n",
    "            if \"cloud_provider\" in kwargs and kwargs[\"cloud_provider\"] == \"azure\"\n",
    "            else \"AwsBatchJobContext\"\n",
    "        )\n",
    "\n",
    "        if \"JOB_EXECUTOR\" in environ:\n",
    "            if environ[\"JOB_EXECUTOR\"] == \"aws\":\n",
    "                cloud_provider = kwargs[\"cloud_provider\"]\n",
    "                ctx_name = (\n",
    "                    \"AzureBatchJobContext\"\n",
    "                    if cloud_provider == \"azure\"\n",
    "                    else \"AwsBatchJobContext\"\n",
    "                )\n",
    "            elif environ[\"JOB_EXECUTOR\"] == \"fastapi\":\n",
    "                ctx_name = \"FastAPIBatchJobContext\"\n",
    "            elif environ[\"JOB_EXECUTOR\"] == \"none\":\n",
    "                ctx_name = \"NoneBatchJobContext\"\n",
    "            else:\n",
    "                raise ValueError(f'Unknown value: {environ[\"JOB_EXECUTOR\"]=}')\n",
    "\n",
    "        factory = BatchJobContext._factories[ctx_name]\n",
    "        return factory(task=task, **kwargs)\n",
    "\n",
    "    @classmethod\n",
    "    def add_factory(cls):\n",
    "        BatchJobContext._factories[cls.__name__] = cls\n",
    "\n",
    "    def __enter__(self):\n",
    "        logger.info(f\"Entering {self}\")\n",
    "        return self\n",
    "\n",
    "    def __exit__(self, exc_type, exc, exc_tb):\n",
    "        logger.info(f\"Exiting {self}: {exc_type=}, {exc=}, {exc_tb}\")\n",
    "        return False\n",
    "\n",
    "    def __repr__(self) -> str:\n",
    "        return f\"{self.__class__.__name__}(task={self.task})\""
   ]
  },
  {
   "cell_type": "code",
   "execution_count": null,
   "metadata": {},
   "outputs": [
    {
     "name": "stdout",
     "output_type": "stream",
     "text": [
      "[INFO] __main__: Entering BatchJobContext(task=csv_processing)\n",
      "[INFO] __main__: Exiting BatchJobContext(task=csv_processing): exc_type=<class 'NotImplementedError'>, exc=NotImplementedError(), <traceback object>\n"
     ]
    },
    {
     "data": {
      "text/plain": [
       "<ExceptionInfo ValueError('Unknown value: environ[\"JOB_EXECUTOR\"]=\\'something\\'') tblen=2>"
      ]
     },
     "metadata": {},
     "output_type": "display_data"
    }
   ],
   "source": [
    "with pytest.raises(NotImplementedError) as e:\n",
    "    with BatchJobContext(task=\"csv_processing\") as batch_ctx:\n",
    "        batch_ctx.create_job(command=\"ls\", environment_vars={})\n",
    "\n",
    "with set_env_variable_context(variable=\"JOB_EXECUTOR\", value=\"something\"):\n",
    "    with pytest.raises(ValueError) as e:\n",
    "        with BatchJobContext.create(\"csv_processing\", region=\"eu-west-1\") as batch_ctx:\n",
    "            pass\n",
    "    display(e)"
   ]
  },
  {
   "cell_type": "code",
   "execution_count": null,
   "metadata": {},
   "outputs": [],
   "source": []
  }
 ],
 "metadata": {
  "kernelspec": {
   "display_name": "Python 3",
   "language": "python",
   "name": "python3"
  }
 },
 "nbformat": 4,
 "nbformat_minor": 4
}
