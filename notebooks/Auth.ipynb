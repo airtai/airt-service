{
 "cells": [
  {
   "cell_type": "raw",
   "id": "8ab53527",
   "metadata": {},
   "source": [
    "---\n",
    "description: Notebook to handle all authentication and authorization\n",
    "output-file: auth.html\n",
    "title: Authentication Notebook\n",
    "\n",
    "---\n",
    "\n"
   ]
  },
  {
   "cell_type": "code",
   "execution_count": null,
   "id": "ec63a3c5",
   "metadata": {},
   "outputs": [],
   "source": [
    "# | default_exp auth"
   ]
  },
  {
   "cell_type": "code",
   "execution_count": null,
   "id": "f969405f",
   "metadata": {},
   "outputs": [
    {
     "name": "stdout",
     "output_type": "stream",
     "text": [
      "[INFO] airt.testing.activate_by_import: Testing environment activated.\n"
     ]
    },
    {
     "name": "stderr",
     "output_type": "stream",
     "text": [
      "2023-03-20 12:30:27.996050: E tensorflow/stream_executor/cuda/cuda_blas.cc:2981] Unable to register cuBLAS factory: Attempting to register factory for plugin cuBLAS when one has already been registered\n"
     ]
    },
    {
     "name": "stdout",
     "output_type": "stream",
     "text": [
      "[INFO] numexpr.utils: Note: NumExpr detected 64 cores but \"NUMEXPR_MAX_THREADS\" not set, so enforcing safe limit of 8.\n",
      "[INFO] numexpr.utils: NumExpr defaulting to 8 threads.\n",
      "[WARNING] airt.testing.activate_by_import: Failed to set gpu memory limit for tf; This could happen because of no gpu availability\n"
     ]
    }
   ],
   "source": [
    "from airt.testing import activate_by_import"
   ]
  },
  {
   "cell_type": "code",
   "execution_count": null,
   "id": "6f85f719",
   "metadata": {},
   "outputs": [],
   "source": [
    "# | export\n",
    "\n",
    "\n",
    "import json\n",
    "import secrets\n",
    "import uuid\n",
    "from datetime import datetime, timedelta\n",
    "from os import environ\n",
    "from typing import *\n",
    "from urllib.parse import parse_qs, urlparse\n",
    "\n",
    "from airt.logger import get_logger\n",
    "from airt.patching import patch\n",
    "\n",
    "# from fastcore.foundation import patch\n",
    "from fastapi import APIRouter, Depends, HTTPException, Query, Request, status\n",
    "from fastapi.security import OAuth2PasswordBearer, OAuth2PasswordRequestForm\n",
    "from jose import JWTError, jwt\n",
    "from pydantic import BaseModel\n",
    "from sqlalchemy.exc import MultipleResultsFound, NoResultFound\n",
    "from sqlmodel import Session, select\n",
    "\n",
    "import airt_service.sanitizer\n",
    "from airt_service.db.models import (\n",
    "    SSO,\n",
    "    APIKey,\n",
    "    APIKeyCreate,\n",
    "    APIKeyRead,\n",
    "    User,\n",
    "    UserRead,\n",
    "    get_session,\n",
    "    get_session_with_context,\n",
    ")\n",
    "from airt_service.errors import ERRORS, HTTPError\n",
    "from airt_service.helpers import commit_or_rollback, verify_password\n",
    "from airt_service.sms_utils import validate_otp\n",
    "from airt_service.sso import (\n",
    "    SESSION_TIME_LIMIT,\n",
    "    SSOAuthURL,\n",
    "    get_sso_if_enabled_for_user,\n",
    "    get_sso_protocol_and_email,\n",
    "    get_valid_sso_providers,\n",
    "    initiate_sso_flow,\n",
    "    validate_sso_response,\n",
    ")\n",
    "from airt_service.totp import require_otp_if_mfa_enabled, validate_totp"
   ]
  },
  {
   "cell_type": "code",
   "execution_count": null,
   "id": "cd8a9800",
   "metadata": {},
   "outputs": [
    {
     "name": "stdout",
     "output_type": "stream",
     "text": [
      "[INFO] airt.executor.subcommand: Module loaded.\n"
     ]
    }
   ],
   "source": [
    "import random\n",
    "import string\n",
    "import time\n",
    "from contextlib import contextmanager\n",
    "from copy import deepcopy\n",
    "\n",
    "import pyotp\n",
    "import pytest\n",
    "from fastapi import Request\n",
    "from starlette.datastructures import Headers\n",
    "\n",
    "from airt_service.db.models import (\n",
    "    SSOProtocol,\n",
    "    create_user_for_testing,\n",
    "    get_session_with_context,\n",
    ")\n",
    "from airt_service.totp import generate_mfa_provisioning_url, generate_mfa_secret\n",
    "from airt_service.users import (\n",
    "    ActivateMFARequest,\n",
    "    EnableSSORequest,\n",
    "    activate_mfa,\n",
    "    disable_mfa,\n",
    "    disable_sso,\n",
    "    enable_sso,\n",
    "    generate_mfa_url,\n",
    "    sso_signup,\n",
    ")\n",
    "\n",
    "from airt_service.sso import update_user_info_in_db"
   ]
  },
  {
   "cell_type": "code",
   "execution_count": null,
   "id": "ace20d67",
   "metadata": {},
   "outputs": [],
   "source": [
    "# | exporti\n",
    "\n",
    "logger = get_logger(__name__)"
   ]
  },
  {
   "cell_type": "code",
   "execution_count": null,
   "id": "eac409b5",
   "metadata": {},
   "outputs": [
    {
     "data": {
      "text/plain": [
       "'mmnufotceh'"
      ]
     },
     "metadata": {},
     "output_type": "display_data"
    }
   ],
   "source": [
    "test_username = create_user_for_testing()\n",
    "display(test_username)"
   ]
  },
  {
   "cell_type": "code",
   "execution_count": null,
   "id": "88d4f349",
   "metadata": {},
   "outputs": [],
   "source": [
    "INVALID_UUID_FOR_TESTING = \"00000000-0000-0000-0000-000000000000\""
   ]
  },
  {
   "cell_type": "code",
   "execution_count": null,
   "id": "ccac029d",
   "metadata": {},
   "outputs": [],
   "source": [
    "# | export\n",
    "\n",
    "\n",
    "ALGORITHM = \"HS256\"\n",
    "ACCESS_TOKEN_EXPIRE_MINUTES = 180 * 24 * 60  # Expire after 180 days"
   ]
  },
  {
   "cell_type": "code",
   "execution_count": null,
   "id": "af898376",
   "metadata": {},
   "outputs": [],
   "source": [
    "# | export\n",
    "\n",
    "\n",
    "oauth2_scheme = OAuth2PasswordBearer(tokenUrl=\"token\")"
   ]
  },
  {
   "cell_type": "code",
   "execution_count": null,
   "id": "cbdea2d7",
   "metadata": {},
   "outputs": [],
   "source": [
    "# | export\n",
    "\n",
    "\n",
    "def get_user(username: str) -> Optional[User]:\n",
    "    \"\"\"Get the user object for the given username\n",
    "\n",
    "    Args:\n",
    "        username: Username as a string\n",
    "\n",
    "    Returns:\n",
    "        The user object if username is valid else None\n",
    "    \"\"\"\n",
    "    with get_session_with_context() as session:\n",
    "        try:\n",
    "            user: Optional[User] = session.exec(\n",
    "                select(User).where(User.username == username)\n",
    "            ).one()\n",
    "        except NoResultFound:\n",
    "            user = None\n",
    "    return user"
   ]
  },
  {
   "cell_type": "code",
   "execution_count": null,
   "id": "cd8a8732",
   "metadata": {},
   "outputs": [
    {
     "data": {
      "text/plain": [
       "User(id=261, uuid=UUID('b49ebb07-f9d6-4727-a3ea-5b1f2ea5b717'), username='mmnufotceh', first_name='unittest', last_name='user', email='mmnufotceh@email.com', subscription_type=<SubscriptionType.test: 'test'>, super_user=False, disabled=False, created=datetime.datetime(2023, 3, 20, 12, 30, 32), phone_number=None, is_phone_number_verified=False, mfa_secret=****, is_mfa_active=False)"
      ]
     },
     "metadata": {},
     "output_type": "display_data"
    }
   ],
   "source": [
    "actual = get_user(username=test_username)\n",
    "display(actual)\n",
    "assert actual.username == test_username\n",
    "\n",
    "actual = get_user(username=\"username_does_not_exists\")\n",
    "assert actual is None"
   ]
  },
  {
   "cell_type": "code",
   "execution_count": null,
   "id": "fa81270e",
   "metadata": {},
   "outputs": [],
   "source": [
    "# | export\n",
    "\n",
    "\n",
    "def get_password_and_otp_from_json(password: str) -> Tuple[str, str]:\n",
    "    \"\"\"Get password and otp\n",
    "\n",
    "    Args:\n",
    "        password: password from form_data\n",
    "\n",
    "    Returns:\n",
    "        The password and otp as Tuple\n",
    "    \"\"\"\n",
    "    try:\n",
    "        password_dict = json.loads(password)\n",
    "        password = password_dict[\"password\"]\n",
    "        user_otp = password_dict[\"user_otp\"]\n",
    "\n",
    "    except json.decoder.JSONDecodeError as e:\n",
    "        raise HTTPException(\n",
    "            status_code=status.HTTP_400_BAD_REQUEST, detail=ERRORS[\"OTP_REQUIRED\"]\n",
    "        )\n",
    "\n",
    "    return password, user_otp"
   ]
  },
  {
   "cell_type": "code",
   "execution_count": null,
   "id": "875f3285",
   "metadata": {},
   "outputs": [
    {
     "data": {
      "text/plain": [
       "('random password', '123123')"
      ]
     },
     "metadata": {},
     "output_type": "display_data"
    }
   ],
   "source": [
    "r = json.dumps({\"password\": \"random password\", \"user_otp\": \"123123\"})\n",
    "display(get_password_and_otp_from_json(r))\n",
    "assert get_password_and_otp_from_json(r) == (\"random password\", \"123123\")\n",
    "\n",
    "r = \"random password\"\n",
    "with pytest.raises(HTTPException) as e:\n",
    "    get_password_and_otp_from_json(r)"
   ]
  },
  {
   "cell_type": "code",
   "execution_count": null,
   "id": "cb836597",
   "metadata": {},
   "outputs": [],
   "source": []
  },
  {
   "cell_type": "code",
   "execution_count": null,
   "id": "999dc58c",
   "metadata": {},
   "outputs": [],
   "source": [
    "# | export\n",
    "\n",
    "\n",
    "def authenticate_user(username: str, password: str) -> Optional[User]:\n",
    "    \"\"\"Validate if the password matches the user's previously stored password.\n",
    "\n",
    "    In case of MFA activated user, the passed OTP is also gets validated against the current time OTP.\n",
    "\n",
    "    Args:\n",
    "        username: Username of the user\n",
    "        password: Password to validate\n",
    "\n",
    "    Returns:\n",
    "        The user object if the credentials matches else None\n",
    "\n",
    "    Raises:\n",
    "        HTTPException: If the OTP is invalid for the mfa activated user.\n",
    "    \"\"\"\n",
    "    user = get_user(username)\n",
    "    if user is None:\n",
    "        return None\n",
    "\n",
    "    if user.is_mfa_active:\n",
    "        password, otp_or_totp = get_password_and_otp_from_json(password)\n",
    "\n",
    "    if not verify_password(password, user.password):\n",
    "        return None\n",
    "\n",
    "    if user.is_mfa_active:\n",
    "        try:\n",
    "            validate_totp(user.mfa_secret, otp_or_totp)  # type: ignore\n",
    "        except HTTPException as e:\n",
    "            try:\n",
    "                validate_otp(\n",
    "                    user=user,\n",
    "                    otp=otp_or_totp,\n",
    "                    message_template_name=\"get_token\",\n",
    "                    session=next(get_session()),\n",
    "                )\n",
    "            except HTTPException as e:\n",
    "                raise HTTPException(\n",
    "                    status_code=status.HTTP_400_BAD_REQUEST,\n",
    "                    detail=ERRORS[\"INVALID_OTP\"],\n",
    "                )\n",
    "\n",
    "    return user"
   ]
  },
  {
   "cell_type": "code",
   "execution_count": null,
   "id": "eb54c960",
   "metadata": {},
   "outputs": [
    {
     "data": {
      "text/plain": [
       "User(id=261, uuid=UUID('b49ebb07-f9d6-4727-a3ea-5b1f2ea5b717'), username='mmnufotceh', first_name='unittest', last_name='user', email='mmnufotceh@email.com', subscription_type=<SubscriptionType.test: 'test'>, super_user=False, disabled=False, created=datetime.datetime(2023, 3, 20, 12, 30, 32), phone_number=None, is_phone_number_verified=False, mfa_secret=****, is_mfa_active=False)"
      ]
     },
     "metadata": {},
     "output_type": "display_data"
    }
   ],
   "source": [
    "assert not authenticate_user(\n",
    "    username=\"username_does_not_exists\", password=\"password_is_wrong\"\n",
    ")\n",
    "assert not authenticate_user(username=test_username, password=\"password_is_wrong\")\n",
    "\n",
    "actual = authenticate_user(\n",
    "    username=test_username, password=environ[\"AIRT_SERVICE_SUPER_USER_PASSWORD\"]\n",
    ")\n",
    "display(actual)\n",
    "assert actual.username == test_username"
   ]
  },
  {
   "cell_type": "code",
   "execution_count": null,
   "id": "db8f80b6",
   "metadata": {},
   "outputs": [],
   "source": [
    "# | export\n",
    "\n",
    "\n",
    "def create_access_token(data: dict, expire: Optional[datetime] = None) -> str:\n",
    "    \"\"\"Create new jwt access token\n",
    "\n",
    "    Args:\n",
    "        data: Data to encode in jwt access token\n",
    "        expire: Expiry datetime of jwt access token\n",
    "\n",
    "    Returns:\n",
    "        The encoded jwt access token\n",
    "    \"\"\"\n",
    "    to_encode = data.copy()\n",
    "    if expire:\n",
    "        to_encode.update({\"exp\": expire})\n",
    "\n",
    "    encoded_jwt: str = jwt.encode(\n",
    "        to_encode,\n",
    "        # nosemgrep: python.jwt.security.jwt-hardcode.jwt-python-hardcoded-secret\n",
    "        environ[\"AIRT_TOKEN_SECRET_KEY\"],\n",
    "        algorithm=ALGORITHM,\n",
    "    )\n",
    "    return encoded_jwt"
   ]
  },
  {
   "cell_type": "code",
   "execution_count": null,
   "id": "85ea3561",
   "metadata": {},
   "outputs": [
    {
     "data": {
      "text/plain": [
       "{'sub': 'mmnufotceh', 'exp': 1679316332}"
      ]
     },
     "metadata": {},
     "output_type": "display_data"
    }
   ],
   "source": [
    "expire = datetime.utcnow() + timedelta(minutes=15)\n",
    "actual = create_access_token(data={\"sub\": test_username}, expire=expire)\n",
    "payload = jwt.decode(actual, environ[\"AIRT_TOKEN_SECRET_KEY\"], algorithms=[ALGORITHM])\n",
    "display(payload)\n",
    "assert payload[\"sub\"] == test_username\n",
    "actual = datetime.fromtimestamp(payload[\"exp\"])\n",
    "assert actual == expire.replace(microsecond=0)"
   ]
  },
  {
   "cell_type": "code",
   "execution_count": null,
   "id": "621d255f",
   "metadata": {},
   "outputs": [],
   "source": [
    "def generate_random_name(size=15, chars=string.ascii_uppercase + string.digits):\n",
    "    return \"\".join(random.choice(chars) for _ in range(size))\n",
    "\n",
    "\n",
    "assert len(generate_random_name()) == 15\n",
    "assert type(generate_random_name()) == str"
   ]
  },
  {
   "cell_type": "code",
   "execution_count": null,
   "id": "33968ce6",
   "metadata": {},
   "outputs": [],
   "source": [
    "# | export\n",
    "\n",
    "auth_router = APIRouter(\n",
    "    responses={\n",
    "        500: {\n",
    "            \"model\": HTTPError,\n",
    "            \"description\": ERRORS[\"INTERNAL_SERVER_ERROR\"],\n",
    "        }\n",
    "    }\n",
    ")"
   ]
  },
  {
   "cell_type": "code",
   "execution_count": null,
   "id": "664785e0",
   "metadata": {},
   "outputs": [],
   "source": [
    "# | export\n",
    "\n",
    "\n",
    "class Token(BaseModel):\n",
    "    \"\"\"A base class for creating and managing Access token\n",
    "\n",
    "    Args:\n",
    "        access_token: Access token\n",
    "        token_type: Type of the token (bearer token is the only one currently supported)\n",
    "    \"\"\"\n",
    "\n",
    "    access_token: str\n",
    "    token_type: str"
   ]
  },
  {
   "cell_type": "code",
   "execution_count": null,
   "id": "464c93c5",
   "metadata": {},
   "outputs": [],
   "source": [
    "# | exporti\n",
    "\n",
    "\n",
    "def generate_token(username: str) -> Token:\n",
    "    \"\"\"Generate access token\n",
    "\n",
    "    Args:\n",
    "        username: Username as a string\n",
    "\n",
    "    Returns:\n",
    "        The generated access token\n",
    "    \"\"\"\n",
    "    access_token_expires = datetime.utcnow() + timedelta(\n",
    "        minutes=ACCESS_TOKEN_EXPIRE_MINUTES\n",
    "    )\n",
    "    access_token = create_access_token(\n",
    "        data={\"sub\": username}, expire=access_token_expires\n",
    "    )\n",
    "\n",
    "    # Sast recongnizes \"bearer\" string as hardcoded password but it is not. So using nosec B106.\n",
    "    return Token(access_token=access_token, token_type=\"bearer\")  # nosec B106"
   ]
  },
  {
   "cell_type": "code",
   "execution_count": null,
   "id": "cd073a8e",
   "metadata": {},
   "outputs": [
    {
     "data": {
      "text/plain": [
       "'access_token: *****************************************************************************************************************************************'"
      ]
     },
     "metadata": {},
     "output_type": "display_data"
    }
   ],
   "source": [
    "username = \"random_username\"\n",
    "actual = generate_token(username)\n",
    "\n",
    "display(f'access_token: {\"*\"*len(actual.access_token)}')\n",
    "assert actual.access_token\n",
    "assert actual.token_type == \"bearer\""
   ]
  },
  {
   "cell_type": "code",
   "execution_count": null,
   "id": "189d25c2",
   "metadata": {},
   "outputs": [],
   "source": [
    "# | export\n",
    "\n",
    "\n",
    "@auth_router.post(\n",
    "    \"/token\",\n",
    "    response_model=Token,\n",
    "    responses={\n",
    "        400: {\n",
    "            \"model\": HTTPError,\n",
    "            \"description\": ERRORS[\"INCORRECT_USERNAME_OR_PASSWORD\"],\n",
    "        }\n",
    "    },\n",
    ")\n",
    "def login_for_access_token(\n",
    "    form_data: OAuth2PasswordRequestForm = Depends(),\n",
    ") -> Token:\n",
    "    \"\"\"Authenticate with credentials\"\"\"\n",
    "\n",
    "    user = authenticate_user(form_data.username, form_data.password)\n",
    "    if user is None:\n",
    "        raise HTTPException(\n",
    "            status_code=status.HTTP_400_BAD_REQUEST,\n",
    "            detail=ERRORS[\"INCORRECT_USERNAME_OR_PASSWORD\"],\n",
    "            headers={\"WWW-Authenticate\": \"Bearer\"},\n",
    "        )\n",
    "\n",
    "    token = generate_token(user.username)\n",
    "    return token"
   ]
  },
  {
   "cell_type": "code",
   "execution_count": null,
   "id": "bb7eba74",
   "metadata": {},
   "outputs": [],
   "source": [
    "# context manager to create a user for testing\n",
    "\n",
    "\n",
    "@contextmanager\n",
    "def create_test_user():\n",
    "    with get_session_with_context() as session:\n",
    "        username = create_user_for_testing()\n",
    "        try:\n",
    "            user = session.exec(select(User).where(User.username == username)).one()\n",
    "            yield user, session\n",
    "        finally:\n",
    "            # deactivate the user\n",
    "            with commit_or_rollback(session):\n",
    "                user.disabled = True\n",
    "                session.add(user)\n",
    "                session.commit()\n",
    "            assert user.disabled"
   ]
  },
  {
   "cell_type": "code",
   "execution_count": null,
   "id": "eeb6411f",
   "metadata": {},
   "outputs": [
    {
     "data": {
      "text/plain": [
       "'access_token: ***********************************************************************************************************************************'"
      ]
     },
     "metadata": {},
     "output_type": "display_data"
    }
   ],
   "source": [
    "with create_test_user() as user_and_session:\n",
    "    user = user_and_session[0]\n",
    "    session = user_and_session[1]\n",
    "    # Negative Scenario: non-MFA user passing wrong password\n",
    "    with pytest.raises(HTTPException):\n",
    "        login_for_access_token(\n",
    "            form_data=OAuth2PasswordRequestForm(\n",
    "                username=user.username, password=\"wrong password\", scope=\"scope\"\n",
    "            )\n",
    "        )\n",
    "\n",
    "    # Positive Scenario: non-MFA user passing valid password\n",
    "    actual = login_for_access_token(\n",
    "        form_data=OAuth2PasswordRequestForm(\n",
    "            username=user.username,\n",
    "            password=environ[\"AIRT_SERVICE_SUPER_USER_PASSWORD\"],\n",
    "            scope=\"scope\",\n",
    "        )\n",
    "    )\n",
    "\n",
    "display(f'access_token: {\"*\"*len(actual.access_token)}')\n",
    "assert actual.access_token\n",
    "assert actual.token_type == \"bearer\""
   ]
  },
  {
   "cell_type": "code",
   "execution_count": null,
   "id": "e73eeb0d",
   "metadata": {},
   "outputs": [
    {
     "data": {
      "text/plain": [
       "'Incorrect username or password. Please try again.'"
      ]
     },
     "metadata": {},
     "output_type": "display_data"
    }
   ],
   "source": [
    "# Negative Scenario: non-MFA user passing otp\n",
    "with create_test_user() as user_and_session:\n",
    "    user = user_and_session[0]\n",
    "    session = user_and_session[1]\n",
    "    random_otp = \"123456\"\n",
    "    with pytest.raises(HTTPException) as e:\n",
    "        login_for_access_token(\n",
    "            form_data=OAuth2PasswordRequestForm(\n",
    "                username=user.username,\n",
    "                password=json.dumps(\n",
    "                    {\n",
    "                        \"password\": environ[\"AIRT_SERVICE_SUPER_USER_PASSWORD\"],\n",
    "                        \"user_otp\": random_otp,\n",
    "                    }\n",
    "                ),\n",
    "                scope=\"scope\",\n",
    "            )\n",
    "        )\n",
    "    display(e.value.detail)"
   ]
  },
  {
   "cell_type": "code",
   "execution_count": null,
   "id": "dbcc335e",
   "metadata": {},
   "outputs": [],
   "source": [
    "# Context manager to create MFA enabled user\n",
    "\n",
    "\n",
    "@contextmanager\n",
    "def create_mfa_enabled_user():\n",
    "    with get_session_with_context() as session:\n",
    "        mfa_enabled_user = create_user_for_testing()\n",
    "        user = session.exec(select(User).where(User.username == mfa_enabled_user)).one()\n",
    "        try:\n",
    "            # generate MFA\n",
    "            actual = generate_mfa_url(user=user, session=session)\n",
    "            assert user.mfa_secret is not None\n",
    "            # activate MFA\n",
    "            activate_mfa_request = ActivateMFARequest(\n",
    "                user_otp=pyotp.TOTP(user.mfa_secret).now()\n",
    "            )\n",
    "            actual = activate_mfa(\n",
    "                activate_mfa_request=activate_mfa_request, user=user, session=session\n",
    "            )\n",
    "            yield user, session\n",
    "        finally:\n",
    "            # deactivate MFA\n",
    "            user = disable_mfa(\n",
    "                user_uuid_or_name=user.username,\n",
    "                otp=pyotp.TOTP(user.mfa_secret).now(),\n",
    "                user=user,\n",
    "                session=session,\n",
    "            )\n",
    "            with commit_or_rollback(session):\n",
    "                user.disabled = True\n",
    "                session.add(user)\n",
    "            assert user.mfa_secret is None\n",
    "            assert user.disabled"
   ]
  },
  {
   "cell_type": "code",
   "execution_count": null,
   "id": "40114b0e",
   "metadata": {},
   "outputs": [
    {
     "data": {
      "text/plain": [
       "'access_token: ***********************************************************************************************************************************'"
      ]
     },
     "metadata": {},
     "output_type": "display_data"
    }
   ],
   "source": [
    "# Positive scenario: MFA user passing valid otp\n",
    "with create_mfa_enabled_user() as user_and_session:\n",
    "    user = user_and_session[0]\n",
    "    session = user_and_session[1]\n",
    "    actual = login_for_access_token(\n",
    "        form_data=OAuth2PasswordRequestForm(\n",
    "            username=user.username,\n",
    "            password=json.dumps(\n",
    "                {\n",
    "                    \"password\": environ[\"AIRT_SERVICE_SUPER_USER_PASSWORD\"],\n",
    "                    \"user_otp\": pyotp.TOTP(user.mfa_secret).now(),\n",
    "                }\n",
    "            ),\n",
    "            scope=\"scope\",\n",
    "        )\n",
    "    )\n",
    "\n",
    "display(f'access_token: {\"*\"*len(actual.access_token)}')\n",
    "assert actual.access_token\n",
    "assert actual.token_type == \"bearer\""
   ]
  },
  {
   "cell_type": "code",
   "execution_count": null,
   "id": "6a9ee689",
   "metadata": {},
   "outputs": [
    {
     "data": {
      "text/plain": [
       "'OTP is required. Please enter the OTP generated by the authenticator app or the one you requested via SMS.'"
      ]
     },
     "metadata": {},
     "output_type": "display_data"
    }
   ],
   "source": [
    "# Negative scenario: MFA user not passing otp\n",
    "with create_mfa_enabled_user() as user_and_session:\n",
    "    user = user_and_session[0]\n",
    "    session = user_and_session[1]\n",
    "    with pytest.raises(HTTPException) as e:\n",
    "        login_for_access_token(\n",
    "            form_data=OAuth2PasswordRequestForm(\n",
    "                username=user.username,\n",
    "                password=environ[\"AIRT_SERVICE_SUPER_USER_PASSWORD\"],\n",
    "                scope=\"scope\",\n",
    "            )\n",
    "        )\n",
    "\n",
    "assert \"OTP is required\" in e.value.detail\n",
    "display(e.value.detail)"
   ]
  },
  {
   "cell_type": "code",
   "execution_count": null,
   "id": "dc003ca8",
   "metadata": {},
   "outputs": [
    {
     "data": {
      "text/plain": [
       "'Invalid OTP. Please try again.'"
      ]
     },
     "metadata": {},
     "output_type": "display_data"
    }
   ],
   "source": [
    "# Negative scenario: MFA user passing random otp\n",
    "with create_mfa_enabled_user() as user_and_session:\n",
    "    user = user_and_session[0]\n",
    "    session = user_and_session[1]\n",
    "    random_otp = \"123456\"\n",
    "    with pytest.raises(HTTPException) as e:\n",
    "        login_for_access_token(\n",
    "            form_data=OAuth2PasswordRequestForm(\n",
    "                username=user.username,\n",
    "                password=json.dumps(\n",
    "                    {\n",
    "                        \"password\": environ[\"AIRT_SERVICE_SUPER_USER_PASSWORD\"],\n",
    "                        \"user_otp\": random_otp,\n",
    "                    }\n",
    "                ),\n",
    "                scope=\"scope\",\n",
    "            )\n",
    "        )\n",
    "\n",
    "display(e.value.detail)"
   ]
  },
  {
   "cell_type": "code",
   "execution_count": null,
   "id": "ae589e74",
   "metadata": {},
   "outputs": [],
   "source": [
    "# | export\n",
    "\n",
    "\n",
    "class SSOInitiateRequest(BaseModel):\n",
    "    \"\"\"A base class for initiating SSO for the provider\n",
    "\n",
    "    Args:\n",
    "        username: Username as a string\n",
    "        password: password as a string\n",
    "        sso_provider: The name of the sso provider\n",
    "    \"\"\"\n",
    "\n",
    "    username: str\n",
    "    password: str\n",
    "    sso_provider: str"
   ]
  },
  {
   "cell_type": "code",
   "execution_count": null,
   "id": "5fa8c538",
   "metadata": {},
   "outputs": [],
   "source": [
    "# | export\n",
    "\n",
    "\n",
    "@auth_router.post(\n",
    "    \"/sso/initiate\",\n",
    "    response_model=SSOAuthURL,\n",
    "    responses={\n",
    "        400: {\n",
    "            \"model\": HTTPError,\n",
    "            \"description\": ERRORS[\"INCORRECT_USERNAME_OR_PASSWORD\"],\n",
    "        }\n",
    "    },\n",
    ")\n",
    "def login_for_sso_access_token(\n",
    "    sso_initiate_request: SSOInitiateRequest,\n",
    ") -> SSOAuthURL:\n",
    "    \"\"\"Initiate the SSO authentication\"\"\"\n",
    "    user = authenticate_user(\n",
    "        sso_initiate_request.username, sso_initiate_request.password\n",
    "    )\n",
    "    if user is None:\n",
    "        raise HTTPException(\n",
    "            status_code=status.HTTP_400_BAD_REQUEST,\n",
    "            detail=ERRORS[\"INCORRECT_USERNAME_OR_PASSWORD\"],\n",
    "        )\n",
    "\n",
    "    sso_provider = sso_initiate_request.sso_provider\n",
    "    valid_sso_providers = get_valid_sso_providers()\n",
    "    if sso_provider not in valid_sso_providers:\n",
    "        raise HTTPException(\n",
    "            status_code=status.HTTP_400_BAD_REQUEST,\n",
    "            detail=f'{ERRORS[\"INVALID_SSO_PROVIDER\"]}: {valid_sso_providers}',\n",
    "        )\n",
    "\n",
    "    sso = get_sso_if_enabled_for_user(user.id, sso_provider) # type: ignore\n",
    "    if sso is None:\n",
    "        raise HTTPException(\n",
    "            status_code=status.HTTP_400_BAD_REQUEST,\n",
    "            detail=ERRORS[\"SSO_NOT_ENABLED_FOR_SERVICE\"],\n",
    "        )\n",
    "    return initiate_sso_flow(\n",
    "        username=user.username,\n",
    "        sso_provider=sso_initiate_request.sso_provider,\n",
    "        nonce=secrets.token_hex(),\n",
    "        sso=sso,\n",
    "    )"
   ]
  },
  {
   "cell_type": "code",
   "execution_count": null,
   "id": "a61f091b",
   "metadata": {},
   "outputs": [
    {
     "data": {
      "text/plain": [
       "SSOAuthURL(authorization_url='https://accounts.google.com/o/oauth2/v2/auth?response_type=code&client_id=842138153914-6kvm51cpin7iocg3nrsnl44s3d24u047.apps.googleusercontent.com&redirect_uri=http%3A%2F%2F127.0.0.1%3A6006%2Fsso%2Fcallback&scope=https%3A%2F%2Fwww.googleapis.com%2Fauth%2Fuserinfo.email+https%3A%2F%2Fwww.googleapis.com%2Fauth%2Fuserinfo.profile+openid&state=e74ddda4756c21f003307992836cda1adc12161d057bda3b8135c2f10d86df36_zvohhoaimf&prompt=select_account')"
      ]
     },
     "metadata": {},
     "output_type": "display_data"
    }
   ],
   "source": [
    "# Positive Scenario: MFA and SSO enabled user getting authorization_url\n",
    "with create_mfa_enabled_user() as user_and_session:\n",
    "    user = user_and_session[0]\n",
    "    session = user_and_session[1]\n",
    "    enable_sso_request = EnableSSORequest(\n",
    "        sso_provider=\"google\",\n",
    "        sso_email=\"random_email_id@mail.com\",\n",
    "        otp=pyotp.TOTP(user.mfa_secret).now(),\n",
    "    )\n",
    "    enable_sso(enable_sso_request=enable_sso_request, user=user, session=session)\n",
    "\n",
    "    sso_initiate_request = SSOInitiateRequest(\n",
    "        username=user.username,\n",
    "        password=json.dumps(\n",
    "            {\n",
    "                \"password\": environ[\"AIRT_SERVICE_SUPER_USER_PASSWORD\"],\n",
    "                \"user_otp\": pyotp.TOTP(user.mfa_secret).now(),\n",
    "            }\n",
    "        ),\n",
    "        sso_provider=\"google\",\n",
    "    )\n",
    "\n",
    "    actual = login_for_sso_access_token(sso_initiate_request)\n",
    "    display(actual)"
   ]
  },
  {
   "cell_type": "code",
   "execution_count": null,
   "id": "e6f29c66",
   "metadata": {},
   "outputs": [
    {
     "data": {
      "text/plain": [
       "'Invalid OTP. Please try again.'"
      ]
     },
     "metadata": {},
     "output_type": "display_data"
    }
   ],
   "source": [
    "# Negative Scenario: MFA and SSO enabled user passing invalid OTP\n",
    "with create_mfa_enabled_user() as user_and_session:\n",
    "    user = user_and_session[0]\n",
    "    session = user_and_session[1]\n",
    "    enable_sso_request = EnableSSORequest(\n",
    "        sso_provider=\"google\",\n",
    "        sso_email=\"random_email_id@mail.com\",\n",
    "        otp=pyotp.TOTP(user.mfa_secret).now(),\n",
    "    )\n",
    "    enable_sso(enable_sso_request=enable_sso_request, user=user, session=session)\n",
    "    invalid_otp = \"123456\"\n",
    "    sso_initiate_request = SSOInitiateRequest(\n",
    "        username=user.username,\n",
    "        password=json.dumps(\n",
    "            {\n",
    "                \"password\": environ[\"AIRT_SERVICE_SUPER_USER_PASSWORD\"],\n",
    "                \"user_otp\": invalid_otp,\n",
    "            }\n",
    "        ),\n",
    "        sso_provider=\"google\",\n",
    "    )\n",
    "    with pytest.raises(HTTPException) as e:\n",
    "        login_for_sso_access_token(sso_initiate_request)\n",
    "display(e.value.detail)"
   ]
  },
  {
   "cell_type": "code",
   "execution_count": null,
   "id": "c2b1f7dc",
   "metadata": {},
   "outputs": [
    {
     "data": {
      "text/plain": [
       "'Incorrect username or password. Please try again.'"
      ]
     },
     "metadata": {},
     "output_type": "display_data"
    }
   ],
   "source": [
    "# Negative Scenario: Non-MFA user sending OTP\n",
    "with create_test_user() as user_and_session:\n",
    "    user = user_and_session[0]\n",
    "    session = user_and_session[1]\n",
    "    enable_sso_request = EnableSSORequest(\n",
    "        sso_provider=\"google\", sso_email=\"random_email_id@mail.com\"\n",
    "    )\n",
    "    enable_sso(enable_sso_request=enable_sso_request, user=user, session=session)\n",
    "    invalid_otp = \"123456\"\n",
    "    sso_initiate_request = SSOInitiateRequest(\n",
    "        username=user.username,\n",
    "        password=json.dumps(\n",
    "            {\n",
    "                \"password\": environ[\"AIRT_SERVICE_SUPER_USER_PASSWORD\"],\n",
    "                \"user_otp\": invalid_otp,\n",
    "            }\n",
    "        ),\n",
    "        sso_provider=\"google\",\n",
    "    )\n",
    "    with pytest.raises(HTTPException) as e:\n",
    "        login_for_sso_access_token(sso_initiate_request)\n",
    "display(e.value.detail)"
   ]
  },
  {
   "cell_type": "code",
   "execution_count": null,
   "id": "e18600d8",
   "metadata": {},
   "outputs": [],
   "source": [
    "# context manager to create a SSO enabled user for GOOGLE\n",
    "\n",
    "\n",
    "@contextmanager\n",
    "def create_sso_user(\n",
    "    sso_provider: str = \"google\", sso_email: str = \"random_email_id@mail.com\"\n",
    "):\n",
    "    with get_session_with_context() as session:\n",
    "        sso_enabled_user = create_user_for_testing()\n",
    "        user = session.exec(select(User).where(User.username == sso_enabled_user)).one()\n",
    "        try:\n",
    "            enable_sso_request = EnableSSORequest(\n",
    "                sso_provider=sso_provider, sso_email=sso_email\n",
    "            )\n",
    "            actual = enable_sso(\n",
    "                enable_sso_request=enable_sso_request, user=user, session=session\n",
    "            )\n",
    "            display(actual)\n",
    "            yield user, session\n",
    "        finally:\n",
    "            # deactivate User\n",
    "            with commit_or_rollback(session):\n",
    "                user.disabled = True\n",
    "                session.add(user)\n",
    "                session.commit()\n",
    "            assert user.disabled"
   ]
  },
  {
   "cell_type": "code",
   "execution_count": null,
   "id": "db7bb2f2",
   "metadata": {},
   "outputs": [
    {
     "data": {
      "text/plain": [
       "SSO()"
      ]
     },
     "metadata": {},
     "output_type": "display_data"
    },
    {
     "data": {
      "text/plain": [
       "\"Invalid SSO provider. Valid SSO providers are: ['google', 'github']\""
      ]
     },
     "metadata": {},
     "output_type": "display_data"
    }
   ],
   "source": [
    "# Negative scenario: Passing invalid SSO provider\n",
    "with create_sso_user() as user_and_session:\n",
    "    user = user_and_session[0]\n",
    "    session = user_and_session[1]\n",
    "\n",
    "    sso_initiate_request = SSOInitiateRequest(\n",
    "        username=user.username,\n",
    "        password=environ[\"AIRT_SERVICE_SUPER_USER_PASSWORD\"],\n",
    "        sso_provider=\"invalid_sso_provider\",\n",
    "    )\n",
    "\n",
    "    with pytest.raises(HTTPException) as e:\n",
    "        login_for_sso_access_token(sso_initiate_request)\n",
    "display(e.value.detail)"
   ]
  },
  {
   "cell_type": "code",
   "execution_count": null,
   "id": "298ed9e0",
   "metadata": {},
   "outputs": [
    {
     "data": {
      "text/plain": [
       "SSO()"
      ]
     },
     "metadata": {},
     "output_type": "display_data"
    },
    {
     "data": {
      "text/plain": [
       "'SSO is not enabled for the provider.'"
      ]
     },
     "metadata": {},
     "output_type": "display_data"
    }
   ],
   "source": [
    "# Negative scenario: Passing an SSO provider which is not yet enabled\n",
    "with create_sso_user() as user_and_session:\n",
    "    user = user_and_session[0]\n",
    "    session = user_and_session[1]\n",
    "\n",
    "    sso_initiate_request = SSOInitiateRequest(\n",
    "        username=user.username,\n",
    "        password=environ[\"AIRT_SERVICE_SUPER_USER_PASSWORD\"],\n",
    "        sso_provider=\"github\",\n",
    "    )\n",
    "\n",
    "    with pytest.raises(HTTPException) as e:\n",
    "        login_for_sso_access_token(sso_initiate_request)\n",
    "display(e.value.detail)"
   ]
  },
  {
   "cell_type": "code",
   "execution_count": null,
   "id": "7c0b4f14",
   "metadata": {},
   "outputs": [
    {
     "data": {
      "text/plain": [
       "SSO()"
      ]
     },
     "metadata": {},
     "output_type": "display_data"
    },
    {
     "data": {
      "text/plain": [
       "'SSO is not enabled for the provider.'"
      ]
     },
     "metadata": {},
     "output_type": "display_data"
    }
   ],
   "source": [
    "# Negative scenario: Passing an disabled SSO provider\n",
    "with create_sso_user() as user_and_session:\n",
    "    user = user_and_session[0]\n",
    "    session = user_and_session[1]\n",
    "\n",
    "    disable_sso(\n",
    "        user_uuid_or_name=str(user.uuid),\n",
    "        sso_provider=\"google\",\n",
    "        user=user,\n",
    "        session=session,\n",
    "    )\n",
    "\n",
    "    sso_initiate_request = SSOInitiateRequest(\n",
    "        username=user.username,\n",
    "        password=environ[\"AIRT_SERVICE_SUPER_USER_PASSWORD\"],\n",
    "        sso_provider=\"google\",\n",
    "    )\n",
    "\n",
    "    with pytest.raises(HTTPException) as e:\n",
    "        login_for_sso_access_token(sso_initiate_request)\n",
    "display(e.value.detail)"
   ]
  },
  {
   "cell_type": "code",
   "execution_count": null,
   "id": "c22b8e52",
   "metadata": {},
   "outputs": [
    {
     "data": {
      "text/plain": [
       "SSO()"
      ]
     },
     "metadata": {},
     "output_type": "display_data"
    },
    {
     "data": {
      "text/plain": [
       "'https://accounts.google.com/o/oauth2/v2/auth?response_type=code&client_id=842138153914-6kvm51cpin7iocg3nrsnl44s3d24u047.apps.googleusercontent.com&redirect_uri=http%3A%2F%2F127.0.0.1%3A6006%2Fsso%2Fcallback&scope=https%3A%2F%2Fwww.googleapis.com%2Fauth%2Fuserinfo.email+https%3A%2F%2Fwww.googleapis.com%2Fauth%2Fuserinfo.profile+openid&state=c6934690a5e40dedc90e65cb40878e7753ed1eb3e2954d91fa33ff85c7857746_xopujmdqip&prompt=select_account'"
      ]
     },
     "metadata": {},
     "output_type": "display_data"
    }
   ],
   "source": [
    "# Positive scenario\n",
    "with create_sso_user() as user_and_session:\n",
    "    user = user_and_session[0]\n",
    "    session = user_and_session[1]\n",
    "\n",
    "    sso_initiate_request = SSOInitiateRequest(\n",
    "        username=user.username,\n",
    "        password=environ[\"AIRT_SERVICE_SUPER_USER_PASSWORD\"],\n",
    "        sso_provider=\"google\",\n",
    "    )\n",
    "\n",
    "    actual = login_for_sso_access_token(sso_initiate_request)\n",
    "    display(actual.authorization_url)\n",
    "    assert user.username in actual.authorization_url"
   ]
  },
  {
   "cell_type": "code",
   "execution_count": null,
   "id": "a47be4ca",
   "metadata": {},
   "outputs": [],
   "source": [
    "# | export\n",
    "\n",
    "\n",
    "def get_sso_trial_user(sso_signup_trial_username: str) -> User:\n",
    "    \"\"\"Get the user object for the given sso username\n",
    "\n",
    "    Args:\n",
    "        sso_signup_trial_username: sso username of the user\n",
    "\n",
    "    Returns:\n",
    "        The user object if sso username is valid\n",
    "\n",
    "    Raises:\n",
    "        HTTPException: If the sso username is invalid\n",
    "        HTTPException: If the sso has been initiated for the user but is not yet completed\n",
    "    \"\"\"\n",
    "    with get_session_with_context() as session:\n",
    "        try:\n",
    "            user: User = session.exec(\n",
    "                select(User).where(\n",
    "                    User.sso_signup_trial_username == sso_signup_trial_username\n",
    "                )\n",
    "            ).one()\n",
    "        except NoResultFound:\n",
    "            raise HTTPException(\n",
    "                status_code=status.HTTP_400_BAD_REQUEST,\n",
    "                detail=ERRORS[\"SSO_NOT_YET_FINISHED\"],\n",
    "            )\n",
    "        return user"
   ]
  },
  {
   "cell_type": "code",
   "execution_count": null,
   "id": "b51008bd",
   "metadata": {},
   "outputs": [
    {
     "data": {
      "text/plain": [
       "'SSO authentication is not complete. Please click on the authentication link you have received while requesting a new token and complete the login process first.'"
      ]
     },
     "metadata": {},
     "output_type": "display_data"
    }
   ],
   "source": [
    "test_username = create_user_for_testing()\n",
    "with pytest.raises(HTTPException) as e:\n",
    "    get_sso_trial_user(test_username)\n",
    "    \n",
    "display(e.value.detail)\n",
    "assert 'SSO authentication is not complete' in str(e.value.detail), str(e.value.detail)"
   ]
  },
  {
   "cell_type": "code",
   "execution_count": null,
   "id": "87017d2f",
   "metadata": {},
   "outputs": [
    {
     "data": {
      "text/plain": [
       "User(id=275, uuid=UUID('5ddc6b27-9399-4ccb-ae98-21fdc3025ac0'), username='npccvctgoz', first_name='unittest', last_name='user', email='npccvctgoz@email.com', subscription_type=<SubscriptionType.test: 'test'>, super_user=False, disabled=False, created=datetime.datetime(2023, 3, 20, 12, 30, 43), phone_number=None, is_phone_number_verified=False, mfa_secret=****, is_mfa_active=False)"
      ]
     },
     "metadata": {},
     "output_type": "display_data"
    }
   ],
   "source": [
    "test_username = create_user_for_testing()\n",
    "user = get_user(test_username)\n",
    "user.sso_signup_trial_username = test_username\n",
    "with commit_or_rollback(session):\n",
    "    session.add(user)\n",
    "    \n",
    "user = get_sso_trial_user(test_username)\n",
    "\n",
    "display(user)\n",
    "assert user.sso_signup_trial_username == test_username"
   ]
  },
  {
   "cell_type": "code",
   "execution_count": null,
   "id": "6de07270",
   "metadata": {},
   "outputs": [],
   "source": [
    "# | export\n",
    "\n",
    "\n",
    "@auth_router.get(\"/sso/callback\")\n",
    "def sso_google_callback(request: Request) -> str:\n",
    "    \"\"\"SSO callback route\"\"\"\n",
    "\n",
    "    sso_provider = \"google\" if \"googleapis\" in str(request.url) else \"github\"\n",
    "    return validate_sso_response(request=request, sso_provider=sso_provider)"
   ]
  },
  {
   "cell_type": "code",
   "execution_count": null,
   "id": "ea40cba0",
   "metadata": {},
   "outputs": [],
   "source": [
    "# | export\n",
    "\n",
    "\n",
    "@auth_router.get(\n",
    "    \"/sso/token\",\n",
    "    responses={\n",
    "        400: {\n",
    "            \"model\": HTTPError,\n",
    "            \"description\": ERRORS[\"INCORRECT_USER_USERNAME\"],\n",
    "        }\n",
    "    },\n",
    ")\n",
    "def finish_sso_flow(authorization_url: str) -> Token:\n",
    "    \"\"\"Finish SSO flow\"\"\"\n",
    "    sso_provider = \"google\" if \"accounts.google.com\" in authorization_url else \"github\"\n",
    "\n",
    "    state = parse_qs(urlparse(authorization_url).query)[\"state\"][0]\n",
    "    nonce, username = state.split(\"_\", 1)\n",
    "    if \"captn_trial\" in username:\n",
    "        user = get_sso_trial_user(username)\n",
    "        username = user.username\n",
    "\n",
    "    sso_protocol, _ = get_sso_protocol_and_email(username, nonce, sso_provider)\n",
    "\n",
    "    # https://stackoverflow.com/questions/3297048/403-forbidden-vs-401-unauthorized-http-responses\n",
    "    if (datetime.utcnow() - sso_protocol.created_at) > timedelta(\n",
    "        minutes=SESSION_TIME_LIMIT\n",
    "    ):\n",
    "        raise HTTPException(\n",
    "            status_code=status.HTTP_401_UNAUTHORIZED,\n",
    "            detail=ERRORS[\"SSO_SESSION_EXPIRED\"],\n",
    "        )\n",
    "    if not sso_protocol.is_sso_successful:\n",
    "        raise HTTPException(\n",
    "            status_code=status.HTTP_401_UNAUTHORIZED,\n",
    "            detail=ERRORS[\"SSO_NOT_YET_FINISHED\"],\n",
    "        )\n",
    "    else:\n",
    "        token = generate_token(username)\n",
    "        return token"
   ]
  },
  {
   "cell_type": "code",
   "execution_count": null,
   "id": "66de273e",
   "metadata": {},
   "outputs": [
    {
     "data": {
      "text/plain": [
       "'Incorrect username. Please try again.'"
      ]
     },
     "execution_count": null,
     "metadata": {},
     "output_type": "execute_result"
    }
   ],
   "source": [
    "# Negative Scenario: passing wrong username\n",
    "test_auth_url = \"https://accounts.google.com/o/oauth2/v2/auth?response_type=code&client_id=random_id&redirect_uri=http%3A%2F%2Frandom&state=randomNonce_random_user&prompt=select_account\"\n",
    "with pytest.raises(HTTPException) as e:\n",
    "    finish_sso_flow(test_auth_url)\n",
    "assert \"Incorrect username\" in e.value.detail\n",
    "e.value.detail"
   ]
  },
  {
   "cell_type": "code",
   "execution_count": null,
   "id": "e6a8172e",
   "metadata": {},
   "outputs": [
    {
     "data": {
      "text/plain": [
       "SSO()"
      ]
     },
     "metadata": {},
     "output_type": "display_data"
    },
    {
     "data": {
      "text/plain": [
       "'SSO is not enabled for the provider.'"
      ]
     },
     "execution_count": null,
     "metadata": {},
     "output_type": "execute_result"
    }
   ],
   "source": [
    "# Negative Scenario: sso enabled for google but passing github\n",
    "\n",
    "with create_sso_user() as user_and_session:\n",
    "    user = user_and_session[0]\n",
    "    session = user_and_session[1]\n",
    "    test_auth_url = f\"https://github.com/o/oauth2/v2/auth?response_type=code&client_id=random_id&redirect_uri=http%3A%2F%2Frandom&state=randomNonce_{user.username}&prompt=select_account\"\n",
    "    with pytest.raises(HTTPException) as e:\n",
    "        finish_sso_flow(test_auth_url)\n",
    "    assert \"SSO is not enabled for the provider\" in e.value.detail\n",
    "e.value.detail"
   ]
  },
  {
   "cell_type": "code",
   "execution_count": null,
   "id": "e00eae85",
   "metadata": {},
   "outputs": [
    {
     "data": {
      "text/plain": [
       "SSO()"
      ]
     },
     "metadata": {},
     "output_type": "display_data"
    },
    {
     "data": {
      "text/plain": [
       "'Request check failed: State not equal in request and response. For your protection, access to this resource is secured against CSRF. Please re-generate the authentication URL and initiate the SSO login process again.'"
      ]
     },
     "execution_count": null,
     "metadata": {},
     "output_type": "execute_result"
    }
   ],
   "source": [
    "# Negative Scenario: passing invalid nunce\n",
    "\n",
    "with create_sso_user() as user_and_session:\n",
    "    user = user_and_session[0]\n",
    "    session = user_and_session[1]\n",
    "    test_auth_url = f\"https://accounts.google.com/o/oauth2/v2/auth?response_type=code&client_id=random_id&redirect_uri=http%3A%2F%2Frandom&state=randomNonce_{user.username}&prompt=select_account\"\n",
    "    with pytest.raises(HTTPException) as e:\n",
    "        finish_sso_flow(test_auth_url)\n",
    "    assert \"Request check failed:\" in e.value.detail, f\"{e.value.detail=}\"\n",
    "e.value.detail"
   ]
  },
  {
   "cell_type": "code",
   "execution_count": null,
   "id": "3ca43f93",
   "metadata": {},
   "outputs": [
    {
     "data": {
      "text/plain": [
       "SSO()"
      ]
     },
     "metadata": {},
     "output_type": "display_data"
    },
    {
     "data": {
      "text/plain": [
       "'https://accounts.google.com/o/oauth2/v2/auth?response_type=code&client_id=842138153914-6kvm51cpin7iocg3nrsnl44s3d24u047.apps.googleusercontent.com&redirect_uri=http%3A%2F%2F127.0.0.1%3A6006%2Fsso%2Fcallback&scope=https%3A%2F%2Fwww.googleapis.com%2Fauth%2Fuserinfo.email+https%3A%2F%2Fwww.googleapis.com%2Fauth%2Fuserinfo.profile+openid&state=71d05649b39a18b48b899a5ea63a2f8e1894f547b095d8995c8f369ad3b8abc1_pexdldrzow&prompt=select_account'"
      ]
     },
     "metadata": {},
     "output_type": "display_data"
    },
    {
     "data": {
      "text/plain": [
       "'SSO authentication is not complete. Please click on the authentication link you have received while requesting a new token and complete the login process first.'"
      ]
     },
     "execution_count": null,
     "metadata": {},
     "output_type": "execute_result"
    }
   ],
   "source": [
    "# Negative Scenario: Initiated the SSO process but didn't yet completed\n",
    "\n",
    "sso_provider = \"google\"\n",
    "sso_email = \"random.mail@gmail.com\"\n",
    "\n",
    "with create_sso_user(\n",
    "    sso_provider=sso_provider, sso_email=sso_email\n",
    ") as user_and_session:\n",
    "    user = user_and_session[0]\n",
    "    session = user_and_session[1]\n",
    "\n",
    "    sso_initiate_request = SSOInitiateRequest(\n",
    "        username=user.username,\n",
    "        password=environ[\"AIRT_SERVICE_SUPER_USER_PASSWORD\"],\n",
    "        sso_provider=sso_provider,\n",
    "    )\n",
    "    actual = login_for_sso_access_token(sso_initiate_request)\n",
    "    display(actual.authorization_url)\n",
    "    assert user.username in actual.authorization_url\n",
    "\n",
    "    with pytest.raises(HTTPException) as e:\n",
    "        finish_sso_flow(actual.authorization_url)\n",
    "    assert \"SSO authentication is not complete\" in e.value.detail, e.value.detail\n",
    "e.value.detail"
   ]
  },
  {
   "cell_type": "code",
   "execution_count": null,
   "id": "7602dc5c",
   "metadata": {},
   "outputs": [
    {
     "data": {
      "text/plain": [
       "'SSO authentication is not complete. Please click on the authentication link you have received while requesting a new token and complete the login process first.'"
      ]
     },
     "execution_count": null,
     "metadata": {},
     "output_type": "execute_result"
    }
   ],
   "source": [
    "# Tests for captn_trial users\n",
    "# Negative Scenario: Initiated the SSO process but didn't yet completed\n",
    "\n",
    "# Step 1: calling sso/signup to get the authorization_url\n",
    "authorization_url = sso_signup(\n",
    "    subscription_type=\"captn_trial\", sso_provider=\"google\"\n",
    ")\n",
    "username = f'captn_trial_{authorization_url.split(\"captn_trial_\")[1].split(\"&\")[0]}'\n",
    "assert username in authorization_url\n",
    "assert \"google\" in authorization_url\n",
    "\n",
    "with get_session_with_context() as session:\n",
    "    user_info_from_provider = {\n",
    "        \"sub\": \"10111231231233982347423\",\n",
    "        \"name\": f\"John Doe {username}\",\n",
    "        \"given_name\": \"John\",\n",
    "        \"family_name\": \"Doe\",\n",
    "        \"picture\": \"https://lh3.googleusercontent.com/a/someRandomString=s96-c\",\n",
    "        \"email\": f\"john.doe.{username}@gmail.com\",\n",
    "        \"email_verified\": True,\n",
    "        \"locale\": \"en\",\n",
    "    }\n",
    "    sso_provider = \"google\"\n",
    "    update_user_info_in_db(username, user_info_from_provider, sso_provider)\n",
    "    \n",
    "with get_session_with_context() as session:\n",
    "    user = session.exec(select(User).where(User.sso_signup_trial_username == username)).one()\n",
    "    assert user_info_from_provider[\"name\"].replace(\" \", \"_\").lower() in user.username, user.username\n",
    "    \n",
    "# Step 2: getting token using authorization_url\n",
    "    with pytest.raises(HTTPException) as e:\n",
    "        finish_sso_flow(authorization_url)\n",
    "    assert \"SSO authentication is not complete\" in e.value.detail, e.value.detail\n",
    "e.value.detail\n"
   ]
  },
  {
   "cell_type": "code",
   "execution_count": null,
   "id": "635d08ab",
   "metadata": {},
   "outputs": [
    {
     "name": "stdout",
     "output_type": "stream",
     "text": [
      "ret_val.token_type='bearer'\n"
     ]
    }
   ],
   "source": [
    "# Tests for captn_trial users\n",
    "# Positive Scenario: Completes the SSO and generates token\n",
    "\n",
    "# Step 1: calling sso/signup to get the authorization_url\n",
    "authorization_url = sso_signup(subscription_type=\"captn_trial\", sso_provider=\"google\")\n",
    "username = f'captn_trial_{authorization_url.split(\"captn_trial_\")[1].split(\"&\")[0]}'\n",
    "nonce = authorization_url.split(\"state=\")[1].split(\"_\")[0]\n",
    "\n",
    "assert username in authorization_url\n",
    "assert \"google\" in authorization_url\n",
    "\n",
    "with get_session_with_context() as session:\n",
    "    user_info_from_provider = {\n",
    "        \"sub\": \"10111231231233982347423\",\n",
    "        \"name\": f\"John Doe {username}\",\n",
    "        \"given_name\": \"John\",\n",
    "        \"family_name\": \"Doe\",\n",
    "        \"picture\": \"https://lh3.googleusercontent.com/a/someRandomString=s96-c\",\n",
    "        \"email\": f\"john.doe.{username}@gmail.com\",\n",
    "        \"email_verified\": True,\n",
    "        \"locale\": \"en\",\n",
    "    }\n",
    "    sso_provider = \"google\"\n",
    "    update_user_info_in_db(username, user_info_from_provider, sso_provider)\n",
    "\n",
    "with get_session_with_context() as session:\n",
    "    user = session.exec(\n",
    "        select(User).where(User.sso_signup_trial_username == username)\n",
    "    ).one()\n",
    "    assert (\n",
    "        user_info_from_provider[\"name\"].replace(\" \", \"_\").lower() in user.username\n",
    "    ), user.username\n",
    "\n",
    "    sso = session.exec(\n",
    "        select(SSO)\n",
    "        .where(SSO.user_id == user.id)\n",
    "        .where(SSO.sso_provider == sso_provider)\n",
    "    ).one()\n",
    "    sso_protocol = session.exec(\n",
    "        select(SSOProtocol)\n",
    "        .where(SSOProtocol.sso_id == sso.id)\n",
    "        .where(SSOProtocol.nonce == nonce)\n",
    "    ).one()\n",
    "    sso_protocol.is_sso_successful = True\n",
    "    session.add(sso_protocol)\n",
    "    session.commit()\n",
    "\n",
    "# Step 2: getting token using authorization_url\n",
    "ret_val = finish_sso_flow(authorization_url)\n",
    "assert ret_val.access_token != None\n",
    "print(f\"{ret_val.token_type=}\")\n",
    "assert ret_val.token_type == \"bearer\""
   ]
  },
  {
   "cell_type": "code",
   "execution_count": null,
   "id": "f76cfffd",
   "metadata": {},
   "outputs": [],
   "source": [
    "# | exporti\n",
    "\n",
    "get_apikey_responses = {\n",
    "    400: {\"model\": HTTPError, \"description\": ERRORS[\"APIKEY_REVOKED\"]},\n",
    "    401: {\"model\": HTTPError, \"description\": ERRORS[\"INCORRECT_APIKEY\"]},\n",
    "}\n",
    "\n",
    "\n",
    "@patch(cls_method=True)  # type: ignore\n",
    "def get(cls: APIKey, key_uuid_or_name: str, user: User, session: Session) -> APIKey:\n",
    "    \"\"\"Function to get APIKey object\n",
    "\n",
    "    Args:\n",
    "        key_uuid_or_name: UUID/Name of the APIKey object\n",
    "        user: User object\n",
    "        session: Sqlmodel session\n",
    "\n",
    "    Returns:\n",
    "        The APIKey object\n",
    "\n",
    "    Raises:\n",
    "        HTTPException: if the key UUID/name is invalid or not enough authorization to access apikey object\n",
    "    \"\"\"\n",
    "\n",
    "    try:\n",
    "        key_uuid_or_name = uuid.UUID(key_uuid_or_name)  # type: ignore\n",
    "        statement = select(APIKey).where(\n",
    "            APIKey.uuid == key_uuid_or_name, APIKey.user == user\n",
    "        )\n",
    "    except ValueError:\n",
    "        statement = select(APIKey).where(\n",
    "            APIKey.name == key_uuid_or_name, APIKey.user == user\n",
    "        )\n",
    "\n",
    "    try:\n",
    "        apikey = session.exec(statement).one()\n",
    "\n",
    "    except MultipleResultsFound:\n",
    "        try:\n",
    "            # ignoring revoked keys from the results\n",
    "            apikey = session.exec(statement.where(APIKey.disabled == False)).one()\n",
    "        except NoResultFound:\n",
    "            # if all the keys matching the name are disabled\n",
    "            raise HTTPException(\n",
    "                status_code=status.HTTP_400_BAD_REQUEST, detail=ERRORS[\"APIKEY_REVOKED\"]\n",
    "            )\n",
    "\n",
    "    except NoResultFound:\n",
    "        raise HTTPException(\n",
    "            status_code=status.HTTP_401_UNAUTHORIZED,\n",
    "            detail=ERRORS[\"INCORRECT_APIKEY\"],\n",
    "        )\n",
    "\n",
    "    if apikey.disabled:\n",
    "        raise HTTPException(\n",
    "            status_code=status.HTTP_400_BAD_REQUEST, detail=ERRORS[\"APIKEY_REVOKED\"]\n",
    "        )\n",
    "    return apikey"
   ]
  },
  {
   "cell_type": "code",
   "execution_count": null,
   "id": "f2371e2f",
   "metadata": {},
   "outputs": [
    {
     "data": {
      "text/plain": [
       "APIKey(expiry=None, id=63, uuid=UUID('8a4850bb-4184-4bd9-bc76-f1421466de0d'), created=datetime.datetime(2023, 3, 20, 12, 30, 45), name=None, disabled=False, user_id=275)"
      ]
     },
     "metadata": {},
     "output_type": "display_data"
    },
    {
     "data": {
      "text/plain": [
       "APIKey(expiry=None, id=64, uuid=UUID('2863c7b2-0fa0-4b48-bcef-546e73df8994'), created=datetime.datetime(2023, 3, 20, 12, 30, 45), name='A54CFPVNX40YSVG', disabled=False, user_id=275)"
      ]
     },
     "metadata": {},
     "output_type": "display_data"
    },
    {
     "data": {
      "text/plain": [
       "<ExceptionInfo HTTPException(status_code=401, detail='No such apikey or not enough authorization to access the apikey.') tblen=2>"
      ]
     },
     "metadata": {},
     "output_type": "display_data"
    },
    {
     "data": {
      "text/plain": [
       "<ExceptionInfo HTTPException(status_code=401, detail='No such apikey or not enough authorization to access the apikey.') tblen=2>"
      ]
     },
     "metadata": {},
     "output_type": "display_data"
    },
    {
     "data": {
      "text/plain": [
       "<ExceptionInfo HTTPException(status_code=400, detail='The Apikey has already been revoked.') tblen=2>"
      ]
     },
     "metadata": {},
     "output_type": "display_data"
    }
   ],
   "source": [
    "with get_session_with_context() as session:\n",
    "    user = session.exec(select(User).where(User.username == test_username)).one()\n",
    "\n",
    "    # Positive case: Getting details of a valid key by passing key_id\n",
    "    apikey = APIKey(user=user)\n",
    "    session.add(apikey)\n",
    "    session.commit()\n",
    "    session.refresh(apikey)\n",
    "    actual = APIKey.get(key_uuid_or_name=str(apikey.uuid), user=user, session=session)\n",
    "    display(actual)\n",
    "    assert actual == apikey\n",
    "\n",
    "    # Positive case: Getting details of a valid key by passing key_name\n",
    "    key_name = generate_random_name()\n",
    "    apikey = APIKey(name=key_name, user=user)\n",
    "    session.add(apikey)\n",
    "    session.commit()\n",
    "    session.refresh(apikey)\n",
    "\n",
    "    actual = APIKey.get(key_uuid_or_name=apikey.name, user=user, session=session)\n",
    "    display(actual)\n",
    "    assert actual == apikey\n",
    "\n",
    "    # Negative case: Getting details of an invalid key_id\n",
    "    with pytest.raises(HTTPException) as e:\n",
    "        APIKey.get(\n",
    "            key_uuid_or_name=INVALID_UUID_FOR_TESTING, user=user, session=session\n",
    "        )\n",
    "    display(e)\n",
    "\n",
    "    # Negative case: Getting details of an invalid key_name\n",
    "    with pytest.raises(HTTPException) as e:\n",
    "        APIKey.get(key_uuid_or_name=\"random-name\", user=user, session=session)\n",
    "    display(e)\n",
    "\n",
    "    # Negative case: Getting details of the revoked key\n",
    "    apikey_disabled = APIKey(user=user, disabled=True)\n",
    "    session.add(apikey_disabled)\n",
    "    session.commit()\n",
    "    session.refresh(apikey_disabled)\n",
    "    with pytest.raises(HTTPException) as e:\n",
    "        APIKey.get(\n",
    "            key_uuid_or_name=str(apikey_disabled.uuid), user=user, session=session\n",
    "        )\n",
    "    display(e)"
   ]
  },
  {
   "cell_type": "code",
   "execution_count": null,
   "id": "602d095e",
   "metadata": {},
   "outputs": [
    {
     "data": {
      "text/plain": [
       "'YEVG0SCCX8V362W'"
      ]
     },
     "metadata": {},
     "output_type": "display_data"
    }
   ],
   "source": [
    "with get_session_with_context() as session:\n",
    "    user = session.exec(select(User).where(User.username == test_username)).one()\n",
    "\n",
    "    # Positive case: Getting details of the new key created with a revoked key name\n",
    "    key_name_to_revoke = generate_random_name()\n",
    "    apikey_disabled = APIKey(name=key_name_to_revoke, user=user, disabled=True)\n",
    "    session.add(apikey_disabled)\n",
    "    session.commit()\n",
    "    session.refresh(apikey_disabled)\n",
    "\n",
    "    # Creating new key with revoked key name\n",
    "    new_apikey = APIKey(name=key_name_to_revoke, user=user)\n",
    "    session.add(new_apikey)\n",
    "    session.commit()\n",
    "    session.refresh(new_apikey)\n",
    "\n",
    "    actual = APIKey.get(key_uuid_or_name=new_apikey.name, user=user, session=session)\n",
    "    assert actual.name == key_name_to_revoke\n",
    "    display(actual.name)"
   ]
  },
  {
   "cell_type": "code",
   "execution_count": null,
   "id": "cdce166c",
   "metadata": {},
   "outputs": [
    {
     "data": {
      "text/plain": [
       "APIKey(expiry=None, id=68, uuid=UUID('791b1b16-7f2e-4d16-969a-26a85d237c9a'), created=datetime.datetime(2023, 3, 20, 12, 30, 45), name='NZXYG15QGCZRRB3', disabled=True, user_id=275)"
      ]
     },
     "metadata": {},
     "output_type": "display_data"
    },
    {
     "data": {
      "text/plain": [
       "APIKey(expiry=None, id=69, uuid=UUID('094a8b5e-f006-4f93-8f83-34fc22465bd0'), created=datetime.datetime(2023, 3, 20, 12, 30, 45), name='NZXYG15QGCZRRB3', disabled=True, user_id=275)"
      ]
     },
     "metadata": {},
     "output_type": "display_data"
    }
   ],
   "source": [
    "with get_session_with_context() as session:\n",
    "    user = session.exec(select(User).where(User.username == test_username)).one()\n",
    "\n",
    "    # Positive case: Getting details of the new key created with a revoked key name\n",
    "    key_name_to_revoke = generate_random_name()\n",
    "    apikey_disabled = APIKey(name=key_name_to_revoke, user=user, disabled=True)\n",
    "    session.add(apikey_disabled)\n",
    "    session.commit()\n",
    "    session.refresh(apikey_disabled)\n",
    "    display(apikey_disabled)\n",
    "\n",
    "    # Creating new key with revoked key name\n",
    "    new_apikey = APIKey(name=key_name_to_revoke, user=user, disabled=True)\n",
    "    session.add(new_apikey)\n",
    "    session.commit()\n",
    "    session.refresh(new_apikey)\n",
    "    display(new_apikey)\n",
    "\n",
    "    assert apikey_disabled.name == new_apikey.name\n",
    "\n",
    "    with pytest.raises(HTTPException) as e:\n",
    "        APIKey.get(key_uuid_or_name=new_apikey.name, user=user, session=session)\n",
    "\n",
    "    assert \"Apikey has already been revoked\" in (e.value.detail)\n",
    "    e.value.detail"
   ]
  },
  {
   "cell_type": "code",
   "execution_count": null,
   "id": "27af7151",
   "metadata": {},
   "outputs": [],
   "source": [
    "# | export\n",
    "\n",
    "\n",
    "def get_current_active_user(token: str = Depends(oauth2_scheme)) -> User:\n",
    "    \"\"\"Get active user details\n",
    "\n",
    "    Args:\n",
    "        token: OAuth token\n",
    "\n",
    "    Returns:\n",
    "        The active user details\n",
    "\n",
    "    Raises:\n",
    "        HTTPException: if the user is inactive or the token is invalid\n",
    "    \"\"\"\n",
    "    credentials_exception = HTTPException(\n",
    "        status_code=status.HTTP_401_UNAUTHORIZED,\n",
    "        detail=ERRORS[\"INVALID_CREDENTIALS\"],\n",
    "        headers={\"WWW-Authenticate\": \"Bearer\"},\n",
    "    )\n",
    "    try:\n",
    "        payload = jwt.decode(\n",
    "            token,\n",
    "            # nosemgrep: python.jwt.security.jwt-hardcode.jwt-python-hardcoded-secret\n",
    "            environ[\"AIRT_TOKEN_SECRET_KEY\"],\n",
    "            algorithms=[ALGORITHM],\n",
    "        )\n",
    "        username: str = payload.get(\"sub\")\n",
    "        if username is None:\n",
    "            raise credentials_exception\n",
    "    except JWTError:\n",
    "        raise credentials_exception\n",
    "    user = get_user(username=username)\n",
    "    if user is None:\n",
    "        raise credentials_exception\n",
    "    if user.disabled:\n",
    "        raise HTTPException(\n",
    "            status_code=status.HTTP_400_BAD_REQUEST, detail=ERRORS[\"INACTIVE_USER\"]\n",
    "        )\n",
    "    with get_session_with_context() as session:\n",
    "        user = session.merge(user)\n",
    "        if \"key_uuid\" in payload:\n",
    "            apikey = APIKey.get(key_uuid_or_name=payload[\"key_uuid\"], user=user, session=session)  # type: ignore\n",
    "    return user  # type: ignore"
   ]
  },
  {
   "cell_type": "code",
   "execution_count": null,
   "id": "59be41ca",
   "metadata": {},
   "outputs": [
    {
     "data": {
      "text/plain": [
       "User(id=275, uuid=UUID('5ddc6b27-9399-4ccb-ae98-21fdc3025ac0'), username='npccvctgoz', first_name='unittest', last_name='user', email='npccvctgoz@email.com', subscription_type=<SubscriptionType.test: 'test'>, super_user=False, disabled=False, created=datetime.datetime(2023, 3, 20, 12, 30, 43), phone_number=None, is_phone_number_verified=False, mfa_secret=****, is_mfa_active=False)"
      ]
     },
     "metadata": {},
     "output_type": "display_data"
    }
   ],
   "source": [
    "with pytest.raises(HTTPException):\n",
    "    get_current_active_user(\"some token\")\n",
    "\n",
    "\n",
    "token_data = login_for_access_token(\n",
    "    form_data=OAuth2PasswordRequestForm(\n",
    "        username=test_username,\n",
    "        password=environ[\"AIRT_SERVICE_SUPER_USER_PASSWORD\"],\n",
    "        scope=\"scope\",\n",
    "    )\n",
    ")\n",
    "\n",
    "\n",
    "actual = get_current_active_user(token_data.access_token)\n",
    "display(actual)\n",
    "assert actual.username == test_username"
   ]
  },
  {
   "cell_type": "code",
   "execution_count": null,
   "id": "5e8e53df",
   "metadata": {},
   "outputs": [],
   "source": [
    "# | exporti\n",
    "\n",
    "\n",
    "@patch(cls_method=True)  # type: ignore\n",
    "def _create(\n",
    "    cls: APIKey, apikey_to_create: APIKeyCreate, user: User, session: Session\n",
    ") -> APIKey:\n",
    "    \"\"\"Create APIKey\n",
    "\n",
    "    Args:\n",
    "        apikey_to_create: APIKeyCreate object\n",
    "        user: User object\n",
    "        session: Sqlmodel session\n",
    "    Returns:\n",
    "        The created APIKey object\n",
    "    \"\"\"\n",
    "    with commit_or_rollback(session):\n",
    "        apikey = APIKey(**apikey_to_create.dict())\n",
    "        apikey.user = user\n",
    "        session.add(apikey)\n",
    "    return apikey"
   ]
  },
  {
   "cell_type": "code",
   "execution_count": null,
   "id": "f464207f",
   "metadata": {},
   "outputs": [],
   "source": [
    "# | export\n",
    "\n",
    "\n",
    "@auth_router.post(\"/apikey\", response_model=Token)\n",
    "@require_otp_if_mfa_enabled\n",
    "def create_apikey(\n",
    "    apikey_to_create: APIKeyCreate,\n",
    "    user: User = Depends(get_current_active_user),\n",
    "    session: Session = Depends(get_session),\n",
    ") -> Token:\n",
    "    \"\"\"Create apikey\"\"\"\n",
    "    user = session.merge(user)\n",
    "\n",
    "    key_exists = session.exec(\n",
    "        select(APIKey)\n",
    "        .where(APIKey.user == user)\n",
    "        .where(APIKey.name == apikey_to_create.name)\n",
    "        .where(APIKey.disabled == False)\n",
    "    ).first()\n",
    "\n",
    "    if key_exists is not None:\n",
    "        raise HTTPException(\n",
    "            status_code=status.HTTP_400_BAD_REQUEST,\n",
    "            detail=ERRORS[\"APIKEY_NAME_ALREADY_EXISTS\"],\n",
    "        )\n",
    "\n",
    "    try:\n",
    "        apikey = APIKey._create(apikey_to_create, user, session)  # type: ignore\n",
    "        access_token = create_access_token(\n",
    "            data={\"sub\": user.username, \"key_uuid\": str(apikey.uuid)},\n",
    "            expire=apikey.expiry,\n",
    "        )\n",
    "    except Exception as e:\n",
    "        logger.exception(e)\n",
    "        error_message = (\n",
    "            e._message() if callable(getattr(e, \"_message\", None)) else str(e)  # type: ignore\n",
    "        )\n",
    "        raise HTTPException(\n",
    "            status_code=status.HTTP_400_BAD_REQUEST,\n",
    "            detail=error_message,\n",
    "        )\n",
    "\n",
    "    # Sast recongnizes \"bearer\" string as hardcoded password but it is not. So using nosec B106.\n",
    "    return Token(access_token=access_token, token_type=\"bearer\")  # nosec B106"
   ]
  },
  {
   "cell_type": "code",
   "execution_count": null,
   "id": "cdf4b31f",
   "metadata": {},
   "outputs": [
    {
     "data": {
      "text/plain": [
       "'OTP is required. Please enter the OTP generated by the authenticator app or the one you requested via SMS.'"
      ]
     },
     "metadata": {},
     "output_type": "display_data"
    },
    {
     "data": {
      "text/plain": [
       "'Invalid OTP. Please try again.'"
      ]
     },
     "metadata": {},
     "output_type": "display_data"
    },
    {
     "data": {
      "text/plain": [
       "'access_token: *****************************************************************************************************************************************************************************************************'"
      ]
     },
     "metadata": {},
     "output_type": "display_data"
    }
   ],
   "source": [
    "# MFA enabled user trying to create new api-key\n",
    "with create_mfa_enabled_user() as user_and_session:\n",
    "    # Negative scenario: Not passing the OTP in the request\n",
    "    with pytest.raises(HTTPException) as e:\n",
    "        apikey_to_create = APIKeyCreate(\n",
    "            name=generate_random_name(), expiry=datetime.utcnow() + timedelta(days=1)\n",
    "        )\n",
    "        create_apikey(\n",
    "            apikey_to_create=apikey_to_create,\n",
    "            user=user_and_session[0],\n",
    "            session=user_and_session[1],\n",
    "        )\n",
    "    assert \"OTP is required\" in str(e.value.detail)\n",
    "    display(e.value.detail)\n",
    "\n",
    "    # Negative scenario: passing invalid OTP in the request\n",
    "    with pytest.raises(HTTPException) as e:\n",
    "        random_otp = 111111\n",
    "        apikey_to_create = APIKeyCreate(\n",
    "            name=generate_random_name(),\n",
    "            expiry=datetime.utcnow() + timedelta(days=1),\n",
    "            otp=random_otp,\n",
    "        )\n",
    "        create_apikey(\n",
    "            apikey_to_create=apikey_to_create,\n",
    "            user=user_and_session[0],\n",
    "            session=user_and_session[1],\n",
    "        )\n",
    "    assert \"Invalid OTP\" in str(e.value.detail), str(e.value.detail)\n",
    "    display(e.value.detail)\n",
    "\n",
    "    # Positive scenario: passing valid OTP in the request\n",
    "    apikey_to_create = APIKeyCreate(\n",
    "        name=generate_random_name(),\n",
    "        expiry=datetime.utcnow() + timedelta(days=1),\n",
    "        otp=pyotp.TOTP(user_and_session[0].mfa_secret).now(),\n",
    "    )\n",
    "    actual = create_apikey(\n",
    "        apikey_to_create=apikey_to_create,\n",
    "        user=user_and_session[0],\n",
    "        session=user_and_session[1],\n",
    "    )\n",
    "    display(f'access_token: {\"*\"*len(actual.access_token)}')\n",
    "    assert actual.access_token\n",
    "    assert actual.token_type == \"bearer\""
   ]
  },
  {
   "cell_type": "code",
   "execution_count": null,
   "id": "63c83eb9",
   "metadata": {},
   "outputs": [
    {
     "data": {
      "text/plain": [
       "'MFA is not activated for the account. Please pass the OTP only after activating the MFA for your account.'"
      ]
     },
     "metadata": {},
     "output_type": "display_data"
    }
   ],
   "source": [
    "# Negative Scenario: Non-MFA user trying to create a new api-key by passing OTP\n",
    "with get_session_with_context() as session:\n",
    "    user = session.exec(select(User).where(User.username == test_username)).one()\n",
    "\n",
    "    with pytest.raises(HTTPException) as e:\n",
    "        random_otp = 111111\n",
    "        apikey_to_create = APIKeyCreate(\n",
    "            name=generate_random_name(),\n",
    "            expiry=datetime.utcnow() + timedelta(days=1),\n",
    "            otp=random_otp,\n",
    "        )\n",
    "        create_apikey(apikey_to_create=apikey_to_create, user=user, session=session)\n",
    "        assert (\n",
    "            str(e.value.detail)\n",
    "            == \"MFA is not activated for the account. Please pass the OTP only after activating the MFA for your account.\"\n",
    "        )\n",
    "    display(e.value.detail)"
   ]
  },
  {
   "cell_type": "code",
   "execution_count": null,
   "id": "e25e0a3e",
   "metadata": {},
   "outputs": [
    {
     "data": {
      "text/plain": [
       "'access_token: *****************************************************************************************************************************************************************************************************'"
      ]
     },
     "metadata": {},
     "output_type": "display_data"
    },
    {
     "data": {
      "text/plain": [
       "User(id=275, uuid=UUID('5ddc6b27-9399-4ccb-ae98-21fdc3025ac0'), username='npccvctgoz', first_name='unittest', last_name='user', email='npccvctgoz@email.com', subscription_type=<SubscriptionType.test: 'test'>, super_user=False, disabled=False, created=datetime.datetime(2023, 3, 20, 12, 30, 43), phone_number=None, is_phone_number_verified=False, mfa_secret=****, is_mfa_active=False)"
      ]
     },
     "metadata": {},
     "output_type": "display_data"
    }
   ],
   "source": [
    "with get_session_with_context() as session:\n",
    "    user = session.exec(select(User).where(User.username == test_username)).one()\n",
    "\n",
    "    apikey_to_create = APIKeyCreate(\n",
    "        name=generate_random_name(), expiry=datetime.utcnow() + timedelta(days=1)\n",
    "    )\n",
    "    actual = create_apikey(\n",
    "        apikey_to_create=apikey_to_create, user=user, session=session\n",
    "    )\n",
    "\n",
    "    display(f'access_token: {\"*\"*len(actual.access_token)}')\n",
    "    assert actual.access_token\n",
    "    assert actual.token_type == \"bearer\"\n",
    "\n",
    "    actual_user = get_current_active_user(actual.access_token)\n",
    "    display(actual_user)\n",
    "    assert actual_user.username == user.username"
   ]
  },
  {
   "cell_type": "code",
   "execution_count": null,
   "id": "7f37a57d",
   "metadata": {},
   "outputs": [
    {
     "name": "stdout",
     "output_type": "stream",
     "text": [
      "[ERROR] __main__: DataError('(MySQLdb.DataError) (1406, \"Data too long for column \\'name\\' at row 1\")')\n",
      "Traceback (most recent call last):\n",
      "  File \"/home/harish/.local/lib/python3.9/site-packages/sqlalchemy/engine/base.py\", line 1900, in _execute_context\n",
      "    self.dialect.do_execute(\n",
      "  File \"/home/harish/.local/lib/python3.9/site-packages/sqlalchemy/engine/default.py\", line 736, in do_execute\n",
      "    cursor.execute(statement, parameters)\n",
      "  File \"/home/harish/.local/lib/python3.9/site-packages/MySQLdb/cursors.py\", line 206, in execute\n",
      "    res = self._query(query)\n",
      "  File \"/home/harish/.local/lib/python3.9/site-packages/MySQLdb/cursors.py\", line 319, in _query\n",
      "    db.query(q)\n",
      "  File \"/home/harish/.local/lib/python3.9/site-packages/MySQLdb/connections.py\", line 254, in query\n",
      "    _mysql.connection.query(self, query)\n",
      "MySQLdb.DataError: (1406, \"Data too long for column 'name' at row 1\")\n",
      "\n",
      "The above exception was the direct cause of the following exception:\n",
      "\n",
      "Traceback (most recent call last):\n",
      "  File \"/tmp/ipykernel_24571/916342066.py\", line 28, in create_apikey\n",
      "    apikey = APIKey._create(apikey_to_create, user, session)  # type: ignore\n",
      "  File \"/tmp/ipykernel_24571/1420976735.py\", line 20, in _create\n",
      "    session.add(apikey)\n",
      "  File \"/usr/lib/python3.9/contextlib.py\", line 126, in __exit__\n",
      "    next(self.gen)\n",
      "  File \"/work/airt-service/airt_service/helpers.py\", line 147, in commit_or_rollback\n",
      "    raise e\n",
      "  File \"/work/airt-service/airt_service/helpers.py\", line 144, in commit_or_rollback\n",
      "    session.commit()\n",
      "  File \"/home/harish/.local/lib/python3.9/site-packages/sqlalchemy/orm/session.py\", line 1451, in commit\n",
      "    self._transaction.commit(_to_root=self.future)\n",
      "  File \"/home/harish/.local/lib/python3.9/site-packages/sqlalchemy/orm/session.py\", line 829, in commit\n",
      "    self._prepare_impl()\n",
      "  File \"/home/harish/.local/lib/python3.9/site-packages/sqlalchemy/orm/session.py\", line 808, in _prepare_impl\n",
      "    self.session.flush()\n",
      "  File \"/home/harish/.local/lib/python3.9/site-packages/sqlalchemy/orm/session.py\", line 3386, in flush\n",
      "    self._flush(objects)\n",
      "  File \"/home/harish/.local/lib/python3.9/site-packages/sqlalchemy/orm/session.py\", line 3526, in _flush\n",
      "    transaction.rollback(_capture_exception=True)\n",
      "  File \"/home/harish/.local/lib/python3.9/site-packages/sqlalchemy/util/langhelpers.py\", line 70, in __exit__\n",
      "    compat.raise_(\n",
      "  File \"/home/harish/.local/lib/python3.9/site-packages/sqlalchemy/util/compat.py\", line 208, in raise_\n",
      "    raise exception\n",
      "  File \"/home/harish/.local/lib/python3.9/site-packages/sqlalchemy/orm/session.py\", line 3486, in _flush\n",
      "    flush_context.execute()\n",
      "  File \"/home/harish/.local/lib/python3.9/site-packages/sqlalchemy/orm/unitofwork.py\", line 456, in execute\n",
      "    rec.execute(self)\n",
      "  File \"/home/harish/.local/lib/python3.9/site-packages/sqlalchemy/orm/unitofwork.py\", line 630, in execute\n",
      "    util.preloaded.orm_persistence.save_obj(\n",
      "  File \"/home/harish/.local/lib/python3.9/site-packages/sqlalchemy/orm/persistence.py\", line 245, in save_obj\n",
      "    _emit_insert_statements(\n",
      "  File \"/home/harish/.local/lib/python3.9/site-packages/sqlalchemy/orm/persistence.py\", line 1238, in _emit_insert_statements\n",
      "    result = connection._execute_20(\n",
      "  File \"/home/harish/.local/lib/python3.9/site-packages/sqlalchemy/engine/base.py\", line 1705, in _execute_20\n",
      "    return meth(self, args_10style, kwargs_10style, execution_options)\n",
      "  File \"/home/harish/.local/lib/python3.9/site-packages/sqlalchemy/sql/elements.py\", line 333, in _execute_on_connection\n",
      "    return connection._execute_clauseelement(\n",
      "  File \"/home/harish/.local/lib/python3.9/site-packages/sqlalchemy/engine/base.py\", line 1572, in _execute_clauseelement\n",
      "    ret = self._execute_context(\n",
      "  File \"/home/harish/.local/lib/python3.9/site-packages/sqlalchemy/engine/base.py\", line 1943, in _execute_context\n",
      "    self._handle_dbapi_exception(\n",
      "  File \"/home/harish/.local/lib/python3.9/site-packages/sqlalchemy/engine/base.py\", line 2124, in _handle_dbapi_exception\n",
      "    util.raise_(\n",
      "  File \"/home/harish/.local/lib/python3.9/site-packages/sqlalchemy/util/compat.py\", line 208, in raise_\n",
      "    raise exception\n",
      "  File \"/home/harish/.local/lib/python3.9/site-packages/sqlalchemy/engine/base.py\", line 1900, in _execute_context\n",
      "    self.dialect.do_execute(\n",
      "  File \"/home/harish/.local/lib/python3.9/site-packages/sqlalchemy/engine/default.py\", line 736, in do_execute\n",
      "    cursor.execute(statement, parameters)\n",
      "  File \"/home/harish/.local/lib/python3.9/site-packages/MySQLdb/cursors.py\", line 206, in execute\n",
      "    res = self._query(query)\n",
      "  File \"/home/harish/.local/lib/python3.9/site-packages/MySQLdb/cursors.py\", line 319, in _query\n",
      "    db.query(q)\n",
      "  File \"/home/harish/.local/lib/python3.9/site-packages/MySQLdb/connections.py\", line 254, in query\n",
      "    _mysql.connection.query(self, query)\n",
      "sqlalchemy.exc.DataError: (MySQLdb.DataError) (1406, \"Data too long for column 'name' at row 1\")\n",
      "[SQL: INSERT INTO apikey (name, expiry, uuid, disabled, created, user_id) VALUES (%s, %s, %s, %s, %s, %s)]\n",
      "[parameters: ('aaaaaaaaaaaaaaaaaaaaaaaaaaaaaaaaaaaaaaaaaaaaaaaaaaaaaaaaaaaaaaaaaaaaaaaaaaaaaaaaaaaaaaaaaaaaaaaaaaaaaaaaaaaaaaaaaaaaaaaaaaaaaaaaaaaaaaaaaaaaaaaaaaaaa ... (1502 characters truncated) ... aaaaaaaaaaaaaaaaaaaaaaaaaaaaaaaaaaaaaaaaaaaaaaaaaaaaaaaaaaaaaaaaaaaaaaaaaaaaaaaaaaaaaaaaaaaaaaaaaaaaaaaaaaaaaaaaaaaaaaaaaaaaaaaaaaaaaaaaaaaaaaaaaaaaa', datetime.datetime(2023, 3, 21, 12, 30, 45, 759984), '24e83625ff1e4fbcb57dda4b799629cd', 0, datetime.datetime(2023, 3, 20, 12, 30, 45, 762057), 275)]\n",
      "(Background on this error at: https://sqlalche.me/e/14/9h9h)\n"
     ]
    },
    {
     "data": {
      "text/plain": [
       "<ExceptionInfo HTTPException(status_code=400, detail='(MySQLdb.DataError) (1406, \"Data too long for column \\'name\\' at row 1\")') tblen=3>"
      ]
     },
     "metadata": {},
     "output_type": "display_data"
    }
   ],
   "source": [
    "# Test for failure case where length of name is too long for apikey\n",
    "\n",
    "with get_session_with_context() as session:\n",
    "    user = session.exec(select(User).where(User.username == test_username)).one()\n",
    "\n",
    "    apikey_to_create = APIKeyCreate(\n",
    "        name=\"a\" * 1800, expiry=datetime.utcnow() + timedelta(days=1)\n",
    "    )\n",
    "\n",
    "    with pytest.raises(HTTPException) as e:\n",
    "        create_apikey(apikey_to_create=apikey_to_create, user=user, session=session)\n",
    "\n",
    "    display(e)"
   ]
  },
  {
   "cell_type": "code",
   "execution_count": null,
   "id": "46a1c206",
   "metadata": {},
   "outputs": [
    {
     "data": {
      "text/plain": [
       "'access_token: *****************************************************************************************************************************************************************************************************'"
      ]
     },
     "metadata": {},
     "output_type": "display_data"
    },
    {
     "data": {
      "text/plain": [
       "<ExceptionInfo HTTPException(status_code=401, detail='Your credentials could not be validated. The developer token/apikey is invalid or expired.') tblen=2>"
      ]
     },
     "metadata": {},
     "output_type": "display_data"
    }
   ],
   "source": [
    "with get_session_with_context() as session:\n",
    "    user = session.exec(select(User).where(User.username == test_username)).one()\n",
    "\n",
    "    apikey_to_create = APIKeyCreate(\n",
    "        name=generate_random_name(), expiry=datetime.utcnow() + timedelta(seconds=5)\n",
    "    )\n",
    "    actual = create_apikey(\n",
    "        apikey_to_create=apikey_to_create, user=user, session=session\n",
    "    )\n",
    "    display(f'access_token: {\"*\"*len(actual.access_token)}')\n",
    "\n",
    "    time.sleep(10)\n",
    "    with pytest.raises(HTTPException) as e:\n",
    "        get_current_active_user(actual.access_token)\n",
    "    display(e)"
   ]
  },
  {
   "cell_type": "code",
   "execution_count": null,
   "id": "2a318f97",
   "metadata": {},
   "outputs": [
    {
     "data": {
      "text/plain": [
       "'access_token: *****************************************************************************************************************************************************************************************************'"
      ]
     },
     "metadata": {},
     "output_type": "display_data"
    }
   ],
   "source": [
    "# Test for failure case where a api-key is created using existing api-key's name\n",
    "\n",
    "with get_session_with_context() as session:\n",
    "    user = session.exec(select(User).where(User.username == test_username)).one()\n",
    "\n",
    "    random_api_key_name = generate_random_name()\n",
    "    apikey_to_create = APIKeyCreate(\n",
    "        name=random_api_key_name, expiry=datetime.utcnow() + timedelta(days=1)\n",
    "    )\n",
    "    actual = create_apikey(\n",
    "        apikey_to_create=apikey_to_create, user=user, session=session\n",
    "    )\n",
    "\n",
    "    display(f'access_token: {\"*\"*len(actual.access_token)}')\n",
    "    assert actual.access_token\n",
    "    assert actual.token_type == \"bearer\"\n",
    "\n",
    "    with pytest.raises(HTTPException) as e:\n",
    "        apikey_to_create = APIKeyCreate(\n",
    "            name=random_api_key_name, expiry=datetime.utcnow() + timedelta(days=1)\n",
    "        )\n",
    "        create_apikey(apikey_to_create=apikey_to_create, user=user, session=session)\n",
    "\n",
    "    assert (\n",
    "        e.value.detail == \"An Api-key with the same name already exists\"\n",
    "    ), e.value.detail"
   ]
  },
  {
   "cell_type": "code",
   "execution_count": null,
   "id": "0e7c8211",
   "metadata": {},
   "outputs": [],
   "source": [
    "# | export\n",
    "\n",
    "\n",
    "@auth_router.get(\n",
    "    \"/apikey/{key_uuid_or_name}\", response_model=APIKeyRead, responses=get_apikey_responses  # type: ignore\n",
    ")\n",
    "def get_details_of_apikey(\n",
    "    key_uuid_or_name: str,\n",
    "    user: User = Depends(get_current_active_user),\n",
    "    session: Session = Depends(get_session),\n",
    ") -> APIKey:\n",
    "    \"\"\"Get details of the apikey\"\"\"\n",
    "    user = session.merge(user)\n",
    "    # get details from the internal db for apikey_id\n",
    "    return APIKey.get(key_uuid_or_name=key_uuid_or_name, user=user, session=session)  # type: ignore"
   ]
  },
  {
   "cell_type": "code",
   "execution_count": null,
   "id": "33348a6d",
   "metadata": {},
   "outputs": [
    {
     "data": {
      "text/plain": [
       "'Q2S3B8QMOM9GRCK'"
      ]
     },
     "metadata": {},
     "output_type": "display_data"
    }
   ],
   "source": [
    "# MFA enabled user trying to get details of the api-key\n",
    "with create_mfa_enabled_user() as user_and_session:\n",
    "    user = user_and_session[0]\n",
    "    session = user_and_session[1]\n",
    "    # Create a new api-key for testing\n",
    "    apikey_to_create = APIKeyCreate(\n",
    "        name=generate_random_name(),\n",
    "        expiry=100,\n",
    "        otp=pyotp.TOTP(user.mfa_secret).now(),\n",
    "    )\n",
    "    actual = create_apikey(\n",
    "        apikey_to_create=apikey_to_create,\n",
    "        user=user,\n",
    "        session=session,\n",
    "    )\n",
    "\n",
    "    # Positive scenario: passing valid OTP in the request\n",
    "    key_details = get_details_of_apikey(\n",
    "        key_uuid_or_name=str(user.apikeys[-1].uuid), user=user, session=session\n",
    "    )\n",
    "    display(key_details.name)\n",
    "    assert key_details.name is not None"
   ]
  },
  {
   "cell_type": "code",
   "execution_count": null,
   "id": "0241cae0",
   "metadata": {},
   "outputs": [
    {
     "data": {
      "text/plain": [
       "APIKey(expiry=datetime.datetime(2023, 3, 21, 12, 30, 56), id=73, uuid=UUID('4bedca54-d48a-4925-8b90-2c04fb263a27'), created=datetime.datetime(2023, 3, 20, 12, 30, 56), name='Q3SOIOISSHM865H', disabled=False, user_id=275)"
      ]
     },
     "metadata": {},
     "output_type": "display_data"
    }
   ],
   "source": [
    "with get_session_with_context() as session:\n",
    "    user = session.exec(select(User).where(User.username == test_username)).one()\n",
    "    expected = user.apikeys[-1]\n",
    "\n",
    "    actual = get_details_of_apikey(\n",
    "        key_uuid_or_name=str(expected.uuid), user=user, session=session\n",
    "    )\n",
    "    display(actual)\n",
    "    assert actual == expected"
   ]
  },
  {
   "cell_type": "code",
   "execution_count": null,
   "id": "e496d46e",
   "metadata": {},
   "outputs": [],
   "source": [
    "# | export\n",
    "\n",
    "\n",
    "def get_valid_user(user: User, session: Session, user_uuid_or_name: str) -> User:\n",
    "    \"\"\"Get valid user object to perform the operation\n",
    "\n",
    "    Args:\n",
    "        user: User object\n",
    "        session: Sqlmodel session\n",
    "        user_uuid_or_name: Account user_uuid/username to perform the operation\n",
    "\n",
    "    Returns:\n",
    "        User object\n",
    "\n",
    "    Raises:\n",
    "        HTTPException: If the user_uuid/username is invalid or the user have insufficient permission to modify other user's data\n",
    "    \"\"\"\n",
    "    try:\n",
    "        user_uuid_or_name = uuid.UUID(user_uuid_or_name)  # type: ignore\n",
    "        attribute_to_check = \"uuid\"\n",
    "    except ValueError:\n",
    "        attribute_to_check = \"username\"\n",
    "\n",
    "    if getattr(user, attribute_to_check) != user_uuid_or_name and not user.super_user:\n",
    "        raise HTTPException(\n",
    "            status_code=status.HTTP_401_UNAUTHORIZED,\n",
    "            detail=ERRORS[\"NOT_ENOUGH_PERMISSION_TO_ACCESS_OTHERS_DATA\"],\n",
    "        )\n",
    "\n",
    "    try:\n",
    "        _user = session.exec(\n",
    "            select(User).where(getattr(User, attribute_to_check) == user_uuid_or_name)\n",
    "        ).one()\n",
    "\n",
    "    except NoResultFound:\n",
    "        raise HTTPException(\n",
    "            status_code=status.HTTP_400_BAD_REQUEST,\n",
    "            detail=ERRORS[f\"INCORRECT_USER_{attribute_to_check.upper()}\"],\n",
    "        )\n",
    "\n",
    "    return _user"
   ]
  },
  {
   "cell_type": "code",
   "execution_count": null,
   "id": "c0551ebb",
   "metadata": {},
   "outputs": [
    {
     "data": {
      "text/plain": [
       "\"Insufficient permission to access other user's data\""
      ]
     },
     "metadata": {},
     "output_type": "display_data"
    },
    {
     "data": {
      "text/plain": [
       "\"Insufficient permission to access other user's data\""
      ]
     },
     "metadata": {},
     "output_type": "display_data"
    },
    {
     "data": {
      "text/plain": [
       "User(id=283, uuid=UUID('15120254-09e8-4e2f-8848-5025b85f8ffe'), username='ildihqhinr', first_name='unittest', last_name='user', email='ildihqhinr@email.com', subscription_type=<SubscriptionType.test: 'test'>, super_user=False, disabled=False, created=datetime.datetime(2023, 3, 20, 12, 30, 56), phone_number=None, is_phone_number_verified=False, mfa_secret=****, is_mfa_active=False)"
      ]
     },
     "metadata": {},
     "output_type": "display_data"
    },
    {
     "data": {
      "text/plain": [
       "User(id=283, uuid=UUID('15120254-09e8-4e2f-8848-5025b85f8ffe'), username='ildihqhinr', first_name='unittest', last_name='user', email='ildihqhinr@email.com', subscription_type=<SubscriptionType.test: 'test'>, super_user=False, disabled=False, created=datetime.datetime(2023, 3, 20, 12, 30, 56), phone_number=None, is_phone_number_verified=False, mfa_secret=****, is_mfa_active=False)"
      ]
     },
     "metadata": {},
     "output_type": "display_data"
    },
    {
     "data": {
      "text/plain": [
       "'The user uuid is incorrect. Please try again.'"
      ]
     },
     "metadata": {},
     "output_type": "display_data"
    },
    {
     "data": {
      "text/plain": [
       "'Incorrect username. Please try again.'"
      ]
     },
     "metadata": {},
     "output_type": "display_data"
    }
   ],
   "source": [
    "with get_session_with_context() as session:\n",
    "    user = session.exec(\n",
    "        select(User).where(User.username == create_user_for_testing())\n",
    "    ).one()\n",
    "\n",
    "    # Negative Scenario: Normal user accessing other users account\n",
    "    with pytest.raises(HTTPException) as e:\n",
    "        get_valid_user(user, session, INVALID_UUID_FOR_TESTING)\n",
    "    assert e.value.detail == \"Insufficient permission to access other user's data\"\n",
    "    display(e.value.detail)\n",
    "\n",
    "    with pytest.raises(HTTPException) as e:\n",
    "        random_user_name = \"random_user_name\"\n",
    "        get_valid_user(user, session, random_user_name)\n",
    "    assert e.value.detail == \"Insufficient permission to access other user's data\"\n",
    "    display(e.value.detail)\n",
    "\n",
    "    # Positive Scenario: Normal user accessing own account\n",
    "    actual = get_valid_user(user, session, str(user.uuid))\n",
    "    display(actual)\n",
    "    actual = get_valid_user(user, session, user.username)\n",
    "    display(actual)\n",
    "\n",
    "# Positive Scenario: Super user accessing own account\n",
    "with get_session_with_context() as session:\n",
    "    super_user = session.exec(select(User).where(User.username == \"kumaran\")).one()\n",
    "    actual = get_valid_user(super_user, session, str(super_user.uuid))\n",
    "    assert actual.id == super_user.id\n",
    "\n",
    "    actual = get_valid_user(super_user, session, super_user.username)\n",
    "    assert actual.uuid == super_user.uuid\n",
    "\n",
    "    # Positive Scenario: Super user accessing others account\n",
    "    actual = get_valid_user(super_user, session, str(user.uuid))\n",
    "    assert actual.uuid == user.uuid\n",
    "    user.super_user = False\n",
    "\n",
    "    actual = get_valid_user(super_user, session, user.username)\n",
    "    assert actual.uuid == user.uuid\n",
    "    user.super_user = False\n",
    "\n",
    "    # Negative Scenario: Super user accessing invalid user account\n",
    "    with pytest.raises(HTTPException) as e:\n",
    "        get_valid_user(super_user, session, INVALID_UUID_FOR_TESTING)\n",
    "    assert \"The user uuid is incorrect\" in e.value.detail\n",
    "    display(e.value.detail)\n",
    "\n",
    "    with pytest.raises(HTTPException) as e:\n",
    "        random_user_name = \"random_user_name\"\n",
    "        get_valid_user(super_user, session, random_user_name)\n",
    "    assert \"Incorrect username\" in e.value.detail\n",
    "    display(e.value.detail)"
   ]
  },
  {
   "cell_type": "code",
   "execution_count": null,
   "id": "eaa7024e",
   "metadata": {},
   "outputs": [],
   "source": [
    "# | exporti\n",
    "\n",
    "\n",
    "@patch  # type: ignore\n",
    "def disable(self: APIKey, session: Session) -> APIKey:\n",
    "    \"\"\"Disable an APIKey\n",
    "\n",
    "    Args:\n",
    "        session: Sqlmodel session\n",
    "\n",
    "    Returns:\n",
    "        The disabled APIKey object\n",
    "    \"\"\"\n",
    "    with commit_or_rollback(session):\n",
    "        self.disabled = True\n",
    "        session.add(self)\n",
    "    return self"
   ]
  },
  {
   "cell_type": "code",
   "execution_count": null,
   "id": "816c0fae",
   "metadata": {},
   "outputs": [],
   "source": [
    "# | export\n",
    "\n",
    "\n",
    "@auth_router.delete(\n",
    "    \"/{user_uuid_or_name}/apikey/{key_uuid_or_name}\", response_model=APIKeyRead, responses=get_apikey_responses  # type: ignore\n",
    ")\n",
    "@require_otp_if_mfa_enabled\n",
    "def delete_apikey(\n",
    "    user_uuid_or_name: str,\n",
    "    key_uuid_or_name: str,\n",
    "    otp: Optional[str] = None,\n",
    "    user: User = Depends(get_current_active_user),\n",
    "    session: Session = Depends(get_session),\n",
    ") -> APIKey:\n",
    "    \"\"\"Revoke apikey\"\"\"\n",
    "    user = session.merge(user)\n",
    "    # get details from the internal db for apikey_id\n",
    "    apikey: APIKey = APIKey.get(key_uuid_or_name=key_uuid_or_name, user=get_valid_user(user, session, user_uuid_or_name), session=session)  # type: ignore\n",
    "\n",
    "    return apikey.disable(session)  # type: ignore"
   ]
  },
  {
   "cell_type": "code",
   "execution_count": null,
   "id": "c952b382",
   "metadata": {},
   "outputs": [
    {
     "data": {
      "text/plain": [
       "'OTP is required. Please enter the OTP generated by the authenticator app or the one you requested via SMS.'"
      ]
     },
     "metadata": {},
     "output_type": "display_data"
    },
    {
     "data": {
      "text/plain": [
       "'Invalid OTP. Please try again.'"
      ]
     },
     "metadata": {},
     "output_type": "display_data"
    },
    {
     "data": {
      "text/plain": [
       "'AFGQWV1AX9DMZDW'"
      ]
     },
     "metadata": {},
     "output_type": "display_data"
    }
   ],
   "source": [
    "# MFA enabled user trying to revoke the api-key\n",
    "with create_mfa_enabled_user() as user_and_session:\n",
    "    user = user_and_session[0]\n",
    "    session = user_and_session[1]\n",
    "\n",
    "    # Creating new API-key\n",
    "    random_api_key_name = generate_random_name()\n",
    "    apikey_to_create = APIKeyCreate(\n",
    "        name=random_api_key_name,\n",
    "        expiry=datetime.utcnow() + timedelta(days=1),\n",
    "        otp=pyotp.TOTP(user.mfa_secret).now(),\n",
    "    )\n",
    "    original_api_key = create_apikey(\n",
    "        apikey_to_create=apikey_to_create, user=user, session=session\n",
    "    )\n",
    "    assert original_api_key.access_token\n",
    "    assert original_api_key.token_type == \"bearer\"\n",
    "\n",
    "    # Negative scenario: Not passing the OTP in the request\n",
    "    with pytest.raises(HTTPException) as e:\n",
    "        delete_apikey(\n",
    "            user_uuid_or_name=user.uuid,\n",
    "            key_uuid_or_name=user.apikeys[-1].name,\n",
    "            otp=None,\n",
    "            user=user,\n",
    "            session=session,\n",
    "        )\n",
    "    display(e.value.detail)\n",
    "    assert \"OTP is required\" in str(e.value.detail)\n",
    "\n",
    "    # Negative scenario: passing invalid OTP in the request\n",
    "    with pytest.raises(HTTPException) as e:\n",
    "        random_otp = 111111\n",
    "        delete_apikey(\n",
    "            user_uuid_or_name=str(user.uuid),\n",
    "            key_uuid_or_name=user.apikeys[-1].name,\n",
    "            otp=random_otp,\n",
    "            user=user,\n",
    "            session=session,\n",
    "        )\n",
    "    assert \"Invalid OTP\" in str(e.value.detail), str(e.value.detail)\n",
    "    display(e.value.detail)\n",
    "\n",
    "    # Positive scenario: passing valid OTP and user UUID in the requestin the request\n",
    "    valid_otp = pyotp.TOTP(user.mfa_secret).now()\n",
    "    key_details = delete_apikey(\n",
    "        user_uuid_or_name=str(user.uuid),\n",
    "        key_uuid_or_name=user.apikeys[-1].name,\n",
    "        otp=valid_otp,\n",
    "        user=user,\n",
    "        session=session,\n",
    "    )\n",
    "    display(key_details.name)\n",
    "    assert key_details.name is not None"
   ]
  },
  {
   "cell_type": "code",
   "execution_count": null,
   "id": "ddf70a6a",
   "metadata": {},
   "outputs": [
    {
     "data": {
      "text/plain": [
       "'4DSQC38RLTF2KJT'"
      ]
     },
     "metadata": {},
     "output_type": "display_data"
    }
   ],
   "source": [
    "# MFA enabled user trying to revoke the api-key\n",
    "with create_mfa_enabled_user() as user_and_session:\n",
    "    user = user_and_session[0]\n",
    "    session = user_and_session[1]\n",
    "\n",
    "    # Creating new API-key\n",
    "    random_api_key_name = generate_random_name()\n",
    "    apikey_to_create = APIKeyCreate(\n",
    "        name=random_api_key_name,\n",
    "        expiry=datetime.utcnow() + timedelta(days=1),\n",
    "        otp=pyotp.TOTP(user.mfa_secret).now(),\n",
    "    )\n",
    "    original_api_key = create_apikey(\n",
    "        apikey_to_create=apikey_to_create, user=user, session=session\n",
    "    )\n",
    "    assert original_api_key.access_token\n",
    "    assert original_api_key.token_type == \"bearer\"\n",
    "\n",
    "    # Positive scenario: passing valid OTP and username in the request\n",
    "    valid_otp = pyotp.TOTP(user.mfa_secret).now()\n",
    "    key_details = delete_apikey(\n",
    "        user_uuid_or_name=user.username,\n",
    "        key_uuid_or_name=user.apikeys[-1].name,\n",
    "        otp=valid_otp,\n",
    "        user=user,\n",
    "        session=session,\n",
    "    )\n",
    "    display(key_details.name)\n",
    "    assert key_details.name is not None"
   ]
  },
  {
   "cell_type": "code",
   "execution_count": null,
   "id": "e60aa1af",
   "metadata": {},
   "outputs": [
    {
     "data": {
      "text/plain": [
       "'MFA is not activated for the account. Please pass the OTP only after activating the MFA for your account.'"
      ]
     },
     "metadata": {},
     "output_type": "display_data"
    }
   ],
   "source": [
    "# Negative Scenario: Non-MFA user user trying to revoke the api-key by passing OTP\n",
    "with get_session_with_context() as session:\n",
    "    user = session.exec(select(User).where(User.username == test_username)).one()\n",
    "\n",
    "    with pytest.raises(HTTPException) as e:\n",
    "        random_otp = 111111\n",
    "        delete_apikey(\n",
    "            user_uuid_or_name=str(user.uuid),\n",
    "            key_uuid_or_name=user.apikeys[-1].name,\n",
    "            otp=random_otp,\n",
    "            user=user,\n",
    "            session=session,\n",
    "        )\n",
    "    display(e.value.detail)\n",
    "    assert (\n",
    "        str(e.value.detail)\n",
    "        == \"MFA is not activated for the account. Please pass the OTP only after activating the MFA for your account.\"\n",
    "    )"
   ]
  },
  {
   "cell_type": "code",
   "execution_count": null,
   "id": "681bb61c",
   "metadata": {},
   "outputs": [
    {
     "data": {
      "text/plain": [
       "\"expected=APIKey(expiry=None, id=77, uuid=UUID('1ede23e6-e59c-41b4-bccd-8c74e9718be4'), created=datetime.datetime(2023, 3, 20, 12, 30, 57), name=None, disabled=False, user_id=275)\""
      ]
     },
     "metadata": {},
     "output_type": "display_data"
    },
    {
     "data": {
      "text/plain": [
       "'actual=APIKey()'"
      ]
     },
     "metadata": {},
     "output_type": "display_data"
    }
   ],
   "source": [
    "with get_session_with_context() as session:\n",
    "    user = session.exec(select(User).where(User.username == test_username)).one()\n",
    "\n",
    "    expected = APIKey(user=user)\n",
    "    session.add(expected)\n",
    "    session.commit()\n",
    "    session.refresh(expected)\n",
    "    display(f\"{expected=}\")\n",
    "\n",
    "    actual = delete_apikey(\n",
    "        user_uuid_or_name=str(user.uuid),\n",
    "        key_uuid_or_name=str(expected.uuid),\n",
    "        otp=None,\n",
    "        user=user,\n",
    "        session=session,\n",
    "    )\n",
    "    display(f\"{actual=}\")\n",
    "    assert actual.id == expected.id\n",
    "    assert actual.disabled"
   ]
  },
  {
   "cell_type": "code",
   "execution_count": null,
   "id": "bbe17848",
   "metadata": {},
   "outputs": [
    {
     "data": {
      "text/plain": [
       "'access_token: *****************************************************************************************************************************************************************************************************'"
      ]
     },
     "metadata": {},
     "output_type": "display_data"
    },
    {
     "data": {
      "text/plain": [
       "'access_token: *****************************************************************************************************************************************************************************************************'"
      ]
     },
     "metadata": {},
     "output_type": "display_data"
    }
   ],
   "source": [
    "# Positive case: Create a new api-key using revoked api-key's name\n",
    "\n",
    "with get_session_with_context() as session:\n",
    "    user = session.exec(select(User).where(User.username == test_username)).one()\n",
    "\n",
    "    # Creating new API-key\n",
    "    random_api_key_name = generate_random_name()\n",
    "    apikey_to_create = APIKeyCreate(\n",
    "        name=random_api_key_name, expiry=datetime.utcnow() + timedelta(days=1), otp=None\n",
    "    )\n",
    "    original_api_key = create_apikey(\n",
    "        apikey_to_create=apikey_to_create, user=user, session=session\n",
    "    )\n",
    "\n",
    "    display(f'access_token: {\"*\"*len(original_api_key.access_token)}')\n",
    "    assert original_api_key.access_token\n",
    "    assert original_api_key.token_type == \"bearer\"\n",
    "\n",
    "with get_session_with_context() as session:\n",
    "    user = session.exec(select(User).where(User.username == test_username)).one()\n",
    "\n",
    "    assert random_api_key_name == user.apikeys[-1].name\n",
    "\n",
    "    # Revoking the created API-key\n",
    "    revoked_api_key = delete_apikey(\n",
    "        user_uuid_or_name=str(user.uuid),\n",
    "        key_uuid_or_name=user.apikeys[-1].name,\n",
    "        otp=None,\n",
    "        user=user,\n",
    "        session=session,\n",
    "    )\n",
    "    assert revoked_api_key.id == user.apikeys[-1].id\n",
    "    assert revoked_api_key.disabled\n",
    "\n",
    "    # Creating a new API-key with revoked key name\n",
    "    new_api_key = APIKeyCreate(\n",
    "        name=random_api_key_name,\n",
    "        expiry=datetime.utcnow() + timedelta(days=1),\n",
    "        otp=None,\n",
    "    )\n",
    "    new_key = create_apikey(\n",
    "        apikey_to_create=apikey_to_create, user=user, session=session\n",
    "    )\n",
    "\n",
    "    display(f'access_token: {\"*\"*len(new_key.access_token)}')\n",
    "    assert new_key.access_token\n",
    "    assert new_key.token_type == \"bearer\""
   ]
  },
  {
   "cell_type": "code",
   "execution_count": null,
   "id": "3e5b22d7",
   "metadata": {},
   "outputs": [
    {
     "data": {
      "text/plain": [
       "APIKey(uuid=UUID('d4d2ec13-ac92-493d-8c0a-d7fbb43a90e4'), created=datetime.datetime(2023, 3, 20, 12, 30, 57), id=80, expiry=datetime.datetime(2023, 3, 21, 12, 30, 57), user_id=275, name='T385KY6T8FL51WX', disabled=True)"
      ]
     },
     "metadata": {},
     "output_type": "display_data"
    }
   ],
   "source": [
    "with get_session_with_context() as session:\n",
    "    user = session.exec(select(User).where(User.username == test_username)).one()\n",
    "\n",
    "    # Creating new API-key\n",
    "    random_api_key_name = generate_random_name()\n",
    "    apikey_to_create = APIKeyCreate(\n",
    "        name=random_api_key_name, expiry=datetime.utcnow() + timedelta(days=1), otp=None\n",
    "    )\n",
    "    original_api_key = create_apikey(\n",
    "        apikey_to_create=apikey_to_create, user=user, session=session\n",
    "    )\n",
    "\n",
    "    # Super user Trying to revoke other user api-key\n",
    "    super_user = session.exec(select(User).where(User.username == \"kumaran\")).one()\n",
    "    revoked_api_key = delete_apikey(\n",
    "        user_uuid_or_name=str(user.uuid),\n",
    "        key_uuid_or_name=str(user.apikeys[-1].uuid),\n",
    "        otp=None,\n",
    "        user=super_user,\n",
    "        session=session,\n",
    "    )\n",
    "    assert revoked_api_key.id == user.apikeys[-1].id\n",
    "    assert revoked_api_key.disabled\n",
    "    display(revoked_api_key)"
   ]
  },
  {
   "cell_type": "code",
   "execution_count": null,
   "id": "ce5c0a29",
   "metadata": {},
   "outputs": [],
   "source": [
    "# | exporti\n",
    "\n",
    "\n",
    "@patch(cls_method=True)  # type: ignore\n",
    "def get_all(\n",
    "    cls: APIKey,\n",
    "    user: User,\n",
    "    include_disabled: bool,\n",
    "    offset: int,\n",
    "    limit: int,\n",
    "    session: Session,\n",
    ") -> List[APIKey]:\n",
    "    \"\"\"Get all apikeys\n",
    "\n",
    "    Args:\n",
    "        user: User object\n",
    "        include_disabled: Whether to include disabled apikeys\n",
    "        offset: offset Results by given integer\n",
    "        limit: limit Results by given integer\n",
    "        session: Sqlmodel session\n",
    "\n",
    "    Returns:\n",
    "        A list of apikey objects\n",
    "    \"\"\"\n",
    "    statement = select(APIKey).where(APIKey.user == user)\n",
    "    if not include_disabled:\n",
    "        statement = statement.where(APIKey.disabled == False)\n",
    "    return session.exec(statement.offset(offset).limit(limit)).all()"
   ]
  },
  {
   "cell_type": "code",
   "execution_count": null,
   "id": "49f13d48",
   "metadata": {},
   "outputs": [],
   "source": [
    "# | export\n",
    "\n",
    "\n",
    "@auth_router.get(\n",
    "    \"/{user_uuid_or_name}/apikey\",\n",
    "    response_model=List[APIKeyRead],\n",
    "    responses={\n",
    "        400: {\n",
    "            \"model\": HTTPError,\n",
    "            \"description\": ERRORS[\"INCORRECT_USER_UUID\"],\n",
    "        },\n",
    "        401: {\n",
    "            \"model\": HTTPError,\n",
    "            \"description\": ERRORS[\"NOT_ENOUGH_PERMISSION_TO_ACCESS_OTHERS_DATA\"],\n",
    "        },\n",
    "    },\n",
    ")\n",
    "def get_all_apikey(\n",
    "    user_uuid_or_name: str,\n",
    "    include_disabled: bool = False,\n",
    "    offset: int = 0,\n",
    "    limit: int = Query(default=100, lte=100),\n",
    "    user: User = Depends(get_current_active_user),\n",
    "    session: Session = Depends(get_session),\n",
    ") -> List[APIKey]:\n",
    "    \"\"\"Get all apikeys created by user\"\"\"\n",
    "    user = session.merge(user)\n",
    "    return APIKey.get_all(\n",
    "        user=get_valid_user(user, session, user_uuid_or_name),\n",
    "        include_disabled=include_disabled,\n",
    "        offset=offset,\n",
    "        limit=limit,\n",
    "        session=session,\n",
    "    )"
   ]
  },
  {
   "cell_type": "code",
   "execution_count": null,
   "id": "678b4526",
   "metadata": {},
   "outputs": [],
   "source": [
    "# MFA enabled user trying to list all api-key's\n",
    "with create_mfa_enabled_user() as user_and_session:\n",
    "    user = user_and_session[0]\n",
    "    session = user_and_session[1]\n",
    "\n",
    "    # Creating new API-key\n",
    "    random_api_key_name = generate_random_name()\n",
    "    apikey_to_create = APIKeyCreate(\n",
    "        name=random_api_key_name,\n",
    "        expiry=datetime.utcnow() + timedelta(days=1),\n",
    "        otp=pyotp.TOTP(user.mfa_secret).now(),\n",
    "    )\n",
    "    original_api_key = create_apikey(\n",
    "        apikey_to_create=apikey_to_create, user=user, session=session\n",
    "    )\n",
    "    assert original_api_key.access_token\n",
    "    assert original_api_key.token_type == \"bearer\"\n",
    "\n",
    "    # Positive scenario: passing valid user UUID in the request\n",
    "    actual = get_all_apikey(\n",
    "        user_uuid_or_name=str(user.uuid), offset=0, limit=1, user=user, session=session\n",
    "    )\n",
    "    assert len(actual) == 1\n",
    "    assert isinstance(actual[0], APIKey)\n",
    "    assert actual[0] == user.apikeys[0]\n",
    "\n",
    "    # Positive scenario: passing valid username in the request\n",
    "    actual = get_all_apikey(\n",
    "        user_uuid_or_name=user.username, offset=0, limit=1, user=user, session=session\n",
    "    )\n",
    "    assert len(actual) == 1\n",
    "    assert isinstance(actual[0], APIKey)\n",
    "    assert actual[0] == user.apikeys[0]"
   ]
  },
  {
   "cell_type": "code",
   "execution_count": null,
   "id": "a5bea414",
   "metadata": {},
   "outputs": [
    {
     "data": {
      "text/plain": [
       "[APIKey(expiry=None, id=63, uuid=UUID('8a4850bb-4184-4bd9-bc76-f1421466de0d'), created=datetime.datetime(2023, 3, 20, 12, 30, 45), name=None, disabled=False, user_id=275)]"
      ]
     },
     "metadata": {},
     "output_type": "display_data"
    }
   ],
   "source": [
    "with get_session_with_context() as session:\n",
    "    user = session.exec(select(User).where(User.username == test_username)).one()\n",
    "\n",
    "    actual = get_all_apikey(\n",
    "        user_uuid_or_name=str(user.uuid), offset=0, limit=1, user=user, session=session\n",
    "    )\n",
    "    display(actual)\n",
    "\n",
    "    assert len(actual) == 1\n",
    "    assert isinstance(actual[0], APIKey)\n",
    "    assert actual[0] == user.apikeys[0]"
   ]
  },
  {
   "cell_type": "code",
   "execution_count": null,
   "id": "2ce57e05",
   "metadata": {},
   "outputs": [
    {
     "data": {
      "text/plain": [
       "[APIKey(expiry=None, id=63, uuid=UUID('8a4850bb-4184-4bd9-bc76-f1421466de0d'), created=datetime.datetime(2023, 3, 20, 12, 30, 45), name=None, disabled=False, user_id=275)]"
      ]
     },
     "metadata": {},
     "output_type": "display_data"
    }
   ],
   "source": [
    "# Super user trying to access other users API keys\n",
    "with get_session_with_context() as session:\n",
    "    super_user = session.exec(select(User).where(User.username == \"kumaran\")).one()\n",
    "\n",
    "    actual = get_all_apikey(\n",
    "        user_uuid_or_name=str(user.uuid),\n",
    "        offset=0,\n",
    "        limit=1,\n",
    "        user=super_user,\n",
    "        session=session,\n",
    "    )\n",
    "    display(actual)\n",
    "    assert actual[0].user_id != super_user.id\n",
    "    assert actual[0].user_id == user.id"
   ]
  },
  {
   "cell_type": "code",
   "execution_count": null,
   "id": "0d788730",
   "metadata": {},
   "outputs": [
    {
     "data": {
      "text/plain": [
       "'len(actual)=7'"
      ]
     },
     "metadata": {},
     "output_type": "display_data"
    },
    {
     "data": {
      "text/plain": [
       "'len(actual)=10'"
      ]
     },
     "metadata": {},
     "output_type": "display_data"
    }
   ],
   "source": [
    "actual = get_all_apikey(\n",
    "    user_uuid_or_name=str(user.uuid),\n",
    "    include_disabled=False,\n",
    "    offset=0,\n",
    "    limit=10,\n",
    "    user=user,\n",
    "    session=session,\n",
    ")\n",
    "display(f\"{len(actual)=}\")\n",
    "for apikey in actual:\n",
    "    assert not apikey.disabled\n",
    "\n",
    "actual = get_all_apikey(\n",
    "    user_uuid_or_name=str(user.uuid),\n",
    "    include_disabled=True,\n",
    "    offset=0,\n",
    "    limit=10,\n",
    "    user=user,\n",
    "    session=session,\n",
    ")\n",
    "display(f\"{len(actual)=}\")\n",
    "disabled_found = False\n",
    "for apikey in actual:\n",
    "    if apikey.disabled:\n",
    "        disabled_found = True\n",
    "        break\n",
    "assert disabled_found"
   ]
  },
  {
   "cell_type": "code",
   "execution_count": null,
   "id": "a438a7dd",
   "metadata": {},
   "outputs": [],
   "source": []
  }
 ],
 "metadata": {
  "kernelspec": {
   "display_name": "python3",
   "language": "python",
   "name": "python3"
  }
 },
 "nbformat": 4,
 "nbformat_minor": 5
}
