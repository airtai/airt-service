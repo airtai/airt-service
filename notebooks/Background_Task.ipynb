{
 "cells": [
  {
   "cell_type": "raw",
   "id": "327e5185",
   "metadata": {},
   "source": [
    "---\n",
    "description: Background task in separate processes\n",
    "output-file: background_task.html\n",
    "title: Background task in separate processes\n",
    "\n",
    "---\n",
    "\n"
   ]
  },
  {
   "cell_type": "code",
   "execution_count": null,
   "id": "a302e01b",
   "metadata": {},
   "outputs": [],
   "source": [
    "#| default_exp background_task"
   ]
  },
  {
   "cell_type": "code",
   "execution_count": null,
   "id": "1545b670",
   "metadata": {},
   "outputs": [
    {
     "name": "stdout",
     "output_type": "stream",
     "text": [
      "[INFO] airt.testing.activate_by_import: Testing environment activated.\n"
     ]
    },
    {
     "name": "stderr",
     "output_type": "stream",
     "text": [
      "2023-01-04 12:21:44.187050: E tensorflow/stream_executor/cuda/cuda_blas.cc:2981] Unable to register cuBLAS factory: Attempting to register factory for plugin cuBLAS when one has already been registered\n"
     ]
    },
    {
     "name": "stdout",
     "output_type": "stream",
     "text": [
      "[INFO] numexpr.utils: Note: NumExpr detected 16 cores but \"NUMEXPR_MAX_THREADS\" not set, so enforcing safe limit of 8.\n",
      "[INFO] numexpr.utils: NumExpr defaulting to 8 threads.\n",
      "[WARNING] airt.testing.activate_by_import: Failed to set gpu memory limit for tf; This could happen because of no gpu availability\n"
     ]
    }
   ],
   "source": [
    "from airt.testing import activate_by_import"
   ]
  },
  {
   "cell_type": "code",
   "execution_count": null,
   "id": "049c8fe9",
   "metadata": {},
   "outputs": [],
   "source": [
    "#| export\n",
    "\n",
    "import os\n",
    "import yaml\n",
    "from pathlib import Path\n",
    "from time import sleep\n",
    "from typing import *\n",
    "\n",
    "import shlex\n",
    "import subprocess  # nosec B404\n",
    "from subprocess import Popen  # nosec B404\n",
    "\n",
    "import asyncio\n",
    "\n",
    "\n",
    "import airt_service\n",
    "import airt_service.sanitizer\n",
    "from airt.logger import get_logger"
   ]
  },
  {
   "cell_type": "code",
   "execution_count": null,
   "id": "fb446218",
   "metadata": {},
   "outputs": [],
   "source": [
    "import nest_asyncio\n",
    "import uvicorn\n",
    "from fastapi.testclient import TestClient\n",
    "from fastapi import BackgroundTasks, FastAPI, status, Response\n",
    "\n",
    "from fastapi.openapi.docs import get_swagger_ui_html, get_redoc_html\n",
    "from fastapi.openapi.utils import get_openapi\n",
    "from fastapi.responses import FileResponse, RedirectResponse\n",
    "from fastapi.staticfiles import StaticFiles"
   ]
  },
  {
   "cell_type": "code",
   "execution_count": null,
   "id": "bebff32d",
   "metadata": {},
   "outputs": [],
   "source": [
    "#| exporti\n",
    "\n",
    "logger = get_logger(__name__)"
   ]
  },
  {
   "cell_type": "code",
   "execution_count": null,
   "id": "adca6437",
   "metadata": {},
   "outputs": [],
   "source": [
    "logger = get_logger(__name__, level=10)"
   ]
  },
  {
   "cell_type": "code",
   "execution_count": null,
   "id": "54fe1387",
   "metadata": {},
   "outputs": [],
   "source": [
    "# | export\n",
    "\n",
    "\n",
    "async def execute_cli(\n",
    "    command: str,\n",
    "    timeout: int = 0,\n",
    "    sleep_step: int = 1,\n",
    "    on_timeout: Optional[Callable[[], None]] = None,\n",
    "    on_success: Optional[Callable[[], None]] = None,\n",
    "    on_error: Optional[Callable[[], None]] = None,\n",
    "):\n",
    "    \"\"\"Execute CLI command\n",
    "\n",
    "    Args:\n",
    "        command: CLI command to be started in another process\n",
    "        timeout: The maximum time allowed in seconds for the command to complete. If greater than 0,\n",
    "                then the command will be killed after the timeout\n",
    "        sleep_step: The time interval in seconds to check the completion status of the command\n",
    "        on_timeout: Callback to be called in case the command gets killed due to a timeout\n",
    "        on_success: Callback to be called if the command execution is successful, i.e., return code is 0\n",
    "        on_error: Callback to be called if the command execution failed, i.e., return code is not 0\n",
    "\n",
    "    Example:\n",
    "        The following code executes a CLI command:\n",
    "        ```python\n",
    "        @app.post(\"/call_cli/{command}\",  status_code=201)\n",
    "        async def call_cli(command: str, background_tasks: BackgroundTasks, response: Response):\n",
    "            background_tasks.add_task(\n",
    "                execute_cli,\n",
    "                command,\n",
    "                timeout=3,\n",
    "                on_timeout=lambda: logger.warning(f\"Callback: background task timeouted for command: {command}\")\n",
    "            )\n",
    "            response.code = 201\n",
    "            return {\"message\": f\"call_cli() returning after backgound task started for command: {command}\"}\n",
    "        ```\n",
    "    \"\"\"\n",
    "    logger.info(f\"Background task starting for command: '{command}'\")\n",
    "    cmd = shlex.split(command)\n",
    "    logger.info(f\"Background task command broken into: {cmd}\")\n",
    "\n",
    "    try:\n",
    "        curr_env = os.environ.copy()\n",
    "        curr_env[\"PATH\"] = f\"/home/{curr_env['USER']}/.local/bin:\" + curr_env[\"PATH\"]\n",
    "        # start process\n",
    "        # nosemgrep: python.lang.security.audit.dangerous-subprocess-use.dangerous-subprocess-use\n",
    "        proc = Popen(  # nosec B603\n",
    "            cmd, stdout=subprocess.PIPE, stderr=subprocess.PIPE, text=True, env=curr_env\n",
    "        )\n",
    "    except Exception as e:\n",
    "        logger.info(\n",
    "            f\"Background task thrown exception for command: '{command}' with exception {str(e)}\"\n",
    "        )\n",
    "    logger.info(f\"Background task started for command: '{command}'\")\n",
    "\n",
    "    i = 0\n",
    "    while proc.poll() is None:\n",
    "        if 0 < timeout <= i:\n",
    "            logger.info(\n",
    "                f\"Background task timeouted after {i:,d} seconds for command: '{command}'\"\n",
    "            )\n",
    "            logger.info(f\"Killing background task command: '{command}'\")\n",
    "            proc.kill()\n",
    "            while proc.poll() is None:\n",
    "                logger.info(\n",
    "                    f\"Waiting for the background task to be killed for command: '{command}'\"\n",
    "                )\n",
    "                await asyncio.sleep(sleep_step)\n",
    "            logger.info(f\"Background task killed for command: '{command}'\")\n",
    "            if on_timeout is not None:\n",
    "                on_timeout()\n",
    "            break\n",
    "\n",
    "        logger.debug(\n",
    "            f\"Background task running for {i:,d} seconds for command: '{command}'\"\n",
    "        )\n",
    "        await asyncio.sleep(sleep_step)\n",
    "        i = i + sleep_step\n",
    "\n",
    "    logger.info(f\"Command finished with return code {proc.returncode}\")\n",
    "    if proc.returncode == 0:\n",
    "        if on_success is not None:\n",
    "            on_success()\n",
    "    else:\n",
    "        if on_error is not None:\n",
    "            on_error()\n",
    "\n",
    "    if proc.stdout is not None:\n",
    "        logger.info(\n",
    "            f\"Background task stdout for command: '{command}':\\n{proc.stdout.read()}\"\n",
    "        )\n",
    "    if proc.stderr is not None:\n",
    "        logger.info(\n",
    "            f\"Background task stderr for command: '{command}':\\n{proc.stderr.read()}\"\n",
    "        )\n",
    "\n",
    "    logger.info(\n",
    "        f\"Background task finished for command: '{command}' with return code {proc.returncode}\"\n",
    "    )"
   ]
  },
  {
   "cell_type": "code",
   "execution_count": null,
   "id": "8793e564",
   "metadata": {},
   "outputs": [
    {
     "data": {
      "text/plain": [
       "'************************************************************************************************************************'"
      ]
     },
     "metadata": {},
     "output_type": "display_data"
    },
    {
     "data": {
      "text/plain": [
       "'Test for command: sleep 2'"
      ]
     },
     "metadata": {},
     "output_type": "display_data"
    },
    {
     "name": "stdout",
     "output_type": "stream",
     "text": [
      "[DEBUG] asyncio: Using selector: EpollSelector\n",
      "[INFO] __main__: Background task starting for command: 'sleep 2'\n",
      "[INFO] __main__: Background task command broken into: ['sleep', '2']\n",
      "[INFO] __main__: Background task started for command: 'sleep 2'\n",
      "[DEBUG] __main__: Background task running for 0 seconds for command: 'sleep 2'\n",
      "[DEBUG] __main__: Background task running for 1 seconds for command: 'sleep 2'\n",
      "[INFO] __main__: Command finished with return code 0\n",
      "[WARNING] __main__: Callback: background task successful for command: sleep 2\n",
      "[INFO] __main__: Background task stdout for command: 'sleep 2':\n",
      "\n",
      "[INFO] __main__: Background task stderr for command: 'sleep 2':\n",
      "\n",
      "[INFO] __main__: Background task finished for command: 'sleep 2' with return code 0\n",
      "[DEBUG] httpx._client: HTTP Request: POST http://testserver/call_cli/sleep%202 \"HTTP/1.1 201 Created\"\n"
     ]
    },
    {
     "data": {
      "text/plain": [
       "{'message': 'call_cli() returning after backgound task started for command: sleep 2'}"
      ]
     },
     "metadata": {},
     "output_type": "display_data"
    },
    {
     "data": {
      "text/plain": [
       "'************************************************************************************************************************'"
      ]
     },
     "metadata": {},
     "output_type": "display_data"
    },
    {
     "data": {
      "text/plain": [
       "'Test for command: sleep 5'"
      ]
     },
     "metadata": {},
     "output_type": "display_data"
    },
    {
     "name": "stdout",
     "output_type": "stream",
     "text": [
      "[DEBUG] asyncio: Using selector: EpollSelector\n",
      "[INFO] __main__: Background task starting for command: 'sleep 5'\n",
      "[INFO] __main__: Background task command broken into: ['sleep', '5']\n",
      "[INFO] __main__: Background task started for command: 'sleep 5'\n",
      "[DEBUG] __main__: Background task running for 0 seconds for command: 'sleep 5'\n",
      "[DEBUG] __main__: Background task running for 1 seconds for command: 'sleep 5'\n",
      "[DEBUG] __main__: Background task running for 2 seconds for command: 'sleep 5'\n",
      "[INFO] __main__: Background task timeouted after 3 seconds for command: 'sleep 5'\n",
      "[INFO] __main__: Killing background task command: 'sleep 5'\n",
      "[INFO] __main__: Waiting for the background task to be killed for command: 'sleep 5'\n",
      "[INFO] __main__: Background task killed for command: 'sleep 5'\n",
      "[WARNING] __main__: Callback: background task timeouted for command: sleep 5\n",
      "[INFO] __main__: Command finished with return code -9\n",
      "[WARNING] __main__: Callback: background task failed for command: sleep 5\n",
      "[INFO] __main__: Background task stdout for command: 'sleep 5':\n",
      "\n",
      "[INFO] __main__: Background task stderr for command: 'sleep 5':\n",
      "\n",
      "[INFO] __main__: Background task finished for command: 'sleep 5' with return code -9\n",
      "[DEBUG] httpx._client: HTTP Request: POST http://testserver/call_cli/sleep%205 \"HTTP/1.1 201 Created\"\n"
     ]
    },
    {
     "data": {
      "text/plain": [
       "{'message': 'call_cli() returning after backgound task started for command: sleep 5'}"
      ]
     },
     "metadata": {},
     "output_type": "display_data"
    }
   ],
   "source": [
    "app = FastAPI(title=\"Run CLI command in background\")\n",
    "\n",
    "\n",
    "@app.post(\"/call_cli/{command}\", status_code=201)\n",
    "async def call_cli(command: str, background_tasks: BackgroundTasks, response: Response):\n",
    "    background_tasks.add_task(\n",
    "        execute_cli,\n",
    "        command,\n",
    "        timeout=3,\n",
    "        on_timeout=lambda: logger.warning(\n",
    "            f\"Callback: background task timeouted for command: {command}\"\n",
    "        ),\n",
    "        on_success=lambda: logger.warning(\n",
    "            f\"Callback: background task successful for command: {command}\"\n",
    "        ),\n",
    "        on_error=lambda: logger.warning(\n",
    "            f\"Callback: background task failed for command: {command}\"\n",
    "        ),\n",
    "    )\n",
    "    response.code = 201\n",
    "    return {\n",
    "        \"message\": f\"call_cli() returning after backgound task started for command: {command}\"\n",
    "    }\n",
    "\n",
    "\n",
    "client = TestClient(app)\n",
    "\n",
    "for i in [2, 5]:\n",
    "    command = f\"sleep {i}\"\n",
    "\n",
    "    display(\"*\" * 120)\n",
    "    display(f\"Test for command: {command}\")\n",
    "    display()\n",
    "\n",
    "    response = client.post(f\"/call_cli/{command}\")\n",
    "\n",
    "    assert response.status_code == 201\n",
    "\n",
    "    actual = response.json()\n",
    "    expected = {\n",
    "        \"message\": f\"call_cli() returning after backgound task started for command: sleep {i}\"\n",
    "    }\n",
    "    assert actual == expected\n",
    "\n",
    "    display(actual)"
   ]
  },
  {
   "cell_type": "code",
   "execution_count": null,
   "id": "b3be11d7",
   "metadata": {},
   "outputs": [
    {
     "data": {
      "text/plain": [
       "'************************************************************************************************************************'"
      ]
     },
     "metadata": {},
     "output_type": "display_data"
    },
    {
     "data": {
      "text/plain": [
       "'Test for command: grep -q search_this file_doesnt_exist.txt'"
      ]
     },
     "metadata": {},
     "output_type": "display_data"
    },
    {
     "name": "stdout",
     "output_type": "stream",
     "text": [
      "[DEBUG] asyncio: Using selector: EpollSelector\n",
      "[INFO] __main__: Background task starting for command: 'grep -q search_this file_doesnt_exist.txt'\n",
      "[INFO] __main__: Background task command broken into: ['grep', '-q', 'search_this', 'file_doesnt_exist.txt']\n",
      "[INFO] __main__: Background task started for command: 'grep -q search_this file_doesnt_exist.txt'\n",
      "[INFO] __main__: Command finished with return code 2\n",
      "[WARNING] __main__: Callback: background task failed for command: grep -q search_this file_doesnt_exist.txt\n",
      "[INFO] __main__: Background task stdout for command: 'grep -q search_this file_doesnt_exist.txt':\n",
      "\n",
      "[INFO] __main__: Background task stderr for command: 'grep -q search_this file_doesnt_exist.txt':\n",
      "grep: file_doesnt_exist.txt: No such file or directory\n",
      "\n",
      "[INFO] __main__: Background task finished for command: 'grep -q search_this file_doesnt_exist.txt' with return code 2\n",
      "[DEBUG] httpx._client: HTTP Request: POST http://testserver/call_cli/grep%20-q%20search_this%20file_doesnt_exist.txt \"HTTP/1.1 201 Created\"\n"
     ]
    },
    {
     "data": {
      "text/plain": [
       "{'message': 'call_cli() returning after backgound task started for command: grep -q search_this file_doesnt_exist.txt'}"
      ]
     },
     "metadata": {},
     "output_type": "display_data"
    }
   ],
   "source": [
    "# Test command where it will return non zero code\n",
    "command = f\"grep -q search_this file_doesnt_exist.txt\"\n",
    "\n",
    "display(\"*\" * 120)\n",
    "display(f\"Test for command: {command}\")\n",
    "display()\n",
    "\n",
    "response = client.post(f\"/call_cli/{command}\")\n",
    "\n",
    "assert response.status_code == 201\n",
    "\n",
    "actual = response.json()\n",
    "expected = {\n",
    "    \"message\": f\"call_cli() returning after backgound task started for command: {command}\"\n",
    "}\n",
    "assert actual == expected\n",
    "\n",
    "display(actual)"
   ]
  },
  {
   "cell_type": "code",
   "execution_count": null,
   "id": "03ae0ff8",
   "metadata": {},
   "outputs": [],
   "source": [
    "# patching async.run so we can run FastAPI within notebook (Jupyter started its own processing loop already)\n",
    "\n",
    "nest_asyncio.apply()"
   ]
  },
  {
   "cell_type": "code",
   "execution_count": null,
   "id": "2d742e7b",
   "metadata": {},
   "outputs": [
    {
     "name": "stderr",
     "output_type": "stream",
     "text": [
      "INFO:     Started server process [4427]\n",
      "INFO:     Waiting for application startup.\n",
      "INFO:     Application startup complete.\n",
      "INFO:     Uvicorn running on http://0.0.0.0:6006 (Press CTRL+C to quit)\n",
      "INFO:     Shutting down\n",
      "INFO:     Waiting for application shutdown.\n",
      "INFO:     Application shutdown complete.\n",
      "INFO:     Finished server process [4427]\n"
     ]
    }
   ],
   "source": [
    "# | eval: false\n",
    "\n",
    "# please open swagger and make the call\n",
    "\n",
    "uvicorn.run(app, host=\"0.0.0.0\", port=6006)"
   ]
  },
  {
   "cell_type": "code",
   "execution_count": null,
   "id": "d1910442",
   "metadata": {},
   "outputs": [],
   "source": []
  }
 ],
 "metadata": {
  "kernelspec": {
   "display_name": "Python 3 (ipykernel)",
   "language": "python",
   "name": "python3"
  }
 },
 "nbformat": 4,
 "nbformat_minor": 5
}
